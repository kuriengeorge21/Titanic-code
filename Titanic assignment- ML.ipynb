{
 "cells": [
  {
   "cell_type": "markdown",
   "metadata": {},
   "source": [
    "Home work Question number 7\n",
    "Find the count , mean , std deviation, min , max, 25 percentile, 50 percentile and 75 percentile of numeric features"
   ]
  },
  {
   "cell_type": "code",
   "execution_count": null,
   "metadata": {},
   "outputs": [],
   "source": []
  },
  {
   "cell_type": "code",
   "execution_count": 320,
   "metadata": {},
   "outputs": [],
   "source": [
    "import os\n",
    "from sklearn.metrics import accuracy_score\n",
    "from sklearn.metrics import recall_score\n",
    "from sklearn.metrics import precision_score\n",
    "from sklearn.metrics import f1_score\n",
    "from sklearn.neighbors import KNeighborsClassifier\n",
    "from sklearn.naive_bayes import GaussianNB"
   ]
  },
  {
   "cell_type": "code",
   "execution_count": 190,
   "metadata": {},
   "outputs": [],
   "source": [
    "import matplotlib.pyplot as plt\n",
    "import pandas as pd\n",
    "import numpy as np\n",
    "import seaborn as sns\n",
    "import csv\n",
    "import sklearn \n",
    "import graphviz"
   ]
  },
  {
   "cell_type": "code",
   "execution_count": 191,
   "metadata": {},
   "outputs": [
    {
     "data": {
      "text/html": [
       "<div>\n",
       "<style scoped>\n",
       "    .dataframe tbody tr th:only-of-type {\n",
       "        vertical-align: middle;\n",
       "    }\n",
       "\n",
       "    .dataframe tbody tr th {\n",
       "        vertical-align: top;\n",
       "    }\n",
       "\n",
       "    .dataframe thead th {\n",
       "        text-align: right;\n",
       "    }\n",
       "</style>\n",
       "<table border=\"1\" class=\"dataframe\">\n",
       "  <thead>\n",
       "    <tr style=\"text-align: right;\">\n",
       "      <th></th>\n",
       "      <th>PassengerId</th>\n",
       "      <th>Pclass</th>\n",
       "      <th>Age</th>\n",
       "      <th>SibSp</th>\n",
       "      <th>Parch</th>\n",
       "      <th>Fare</th>\n",
       "    </tr>\n",
       "  </thead>\n",
       "  <tbody>\n",
       "    <tr>\n",
       "      <th>count</th>\n",
       "      <td>418.000000</td>\n",
       "      <td>418.000000</td>\n",
       "      <td>332.000000</td>\n",
       "      <td>418.000000</td>\n",
       "      <td>418.000000</td>\n",
       "      <td>417.000000</td>\n",
       "    </tr>\n",
       "    <tr>\n",
       "      <th>mean</th>\n",
       "      <td>1100.500000</td>\n",
       "      <td>2.265550</td>\n",
       "      <td>30.272590</td>\n",
       "      <td>0.447368</td>\n",
       "      <td>0.392344</td>\n",
       "      <td>35.627188</td>\n",
       "    </tr>\n",
       "    <tr>\n",
       "      <th>std</th>\n",
       "      <td>120.810458</td>\n",
       "      <td>0.841838</td>\n",
       "      <td>14.181209</td>\n",
       "      <td>0.896760</td>\n",
       "      <td>0.981429</td>\n",
       "      <td>55.907576</td>\n",
       "    </tr>\n",
       "    <tr>\n",
       "      <th>min</th>\n",
       "      <td>892.000000</td>\n",
       "      <td>1.000000</td>\n",
       "      <td>0.170000</td>\n",
       "      <td>0.000000</td>\n",
       "      <td>0.000000</td>\n",
       "      <td>0.000000</td>\n",
       "    </tr>\n",
       "    <tr>\n",
       "      <th>25%</th>\n",
       "      <td>996.250000</td>\n",
       "      <td>1.000000</td>\n",
       "      <td>21.000000</td>\n",
       "      <td>0.000000</td>\n",
       "      <td>0.000000</td>\n",
       "      <td>7.895800</td>\n",
       "    </tr>\n",
       "    <tr>\n",
       "      <th>50%</th>\n",
       "      <td>1100.500000</td>\n",
       "      <td>3.000000</td>\n",
       "      <td>27.000000</td>\n",
       "      <td>0.000000</td>\n",
       "      <td>0.000000</td>\n",
       "      <td>14.454200</td>\n",
       "    </tr>\n",
       "    <tr>\n",
       "      <th>75%</th>\n",
       "      <td>1204.750000</td>\n",
       "      <td>3.000000</td>\n",
       "      <td>39.000000</td>\n",
       "      <td>1.000000</td>\n",
       "      <td>0.000000</td>\n",
       "      <td>31.500000</td>\n",
       "    </tr>\n",
       "    <tr>\n",
       "      <th>max</th>\n",
       "      <td>1309.000000</td>\n",
       "      <td>3.000000</td>\n",
       "      <td>76.000000</td>\n",
       "      <td>8.000000</td>\n",
       "      <td>9.000000</td>\n",
       "      <td>512.329200</td>\n",
       "    </tr>\n",
       "  </tbody>\n",
       "</table>\n",
       "</div>"
      ],
      "text/plain": [
       "       PassengerId      Pclass         Age       SibSp       Parch        Fare\n",
       "count   418.000000  418.000000  332.000000  418.000000  418.000000  417.000000\n",
       "mean   1100.500000    2.265550   30.272590    0.447368    0.392344   35.627188\n",
       "std     120.810458    0.841838   14.181209    0.896760    0.981429   55.907576\n",
       "min     892.000000    1.000000    0.170000    0.000000    0.000000    0.000000\n",
       "25%     996.250000    1.000000   21.000000    0.000000    0.000000    7.895800\n",
       "50%    1100.500000    3.000000   27.000000    0.000000    0.000000   14.454200\n",
       "75%    1204.750000    3.000000   39.000000    1.000000    0.000000   31.500000\n",
       "max    1309.000000    3.000000   76.000000    8.000000    9.000000  512.329200"
      ]
     },
     "execution_count": 191,
     "metadata": {},
     "output_type": "execute_result"
    }
   ],
   "source": [
    "titan=pd.read_csv('train.csv')\n",
    "titantest=pd.read_csv('test.csv')\n",
    "np.where(pd.isnull(titan))\n",
    "np.where(pd.isnull(titantest))\n",
    "titantest.describe()\n"
   ]
  },
  {
   "cell_type": "code",
   "execution_count": 192,
   "metadata": {},
   "outputs": [
    {
     "name": "stdout",
     "output_type": "stream",
     "text": [
      "     PassengerId  Survived  Pclass  \\\n",
      "0              1         0       3   \n",
      "1              2         1       1   \n",
      "2              3         1       3   \n",
      "3              4         1       1   \n",
      "4              5         0       3   \n",
      "..           ...       ...     ...   \n",
      "886          887         0       2   \n",
      "887          888         1       1   \n",
      "888          889         0       3   \n",
      "889          890         1       1   \n",
      "890          891         0       3   \n",
      "\n",
      "                                                  Name     Sex   Age  SibSp  \\\n",
      "0                              Braund, Mr. Owen Harris    male  22.0      1   \n",
      "1    Cumings, Mrs. John Bradley (Florence Briggs Th...  female  38.0      1   \n",
      "2                               Heikkinen, Miss. Laina  female  26.0      0   \n",
      "3         Futrelle, Mrs. Jacques Heath (Lily May Peel)  female  35.0      1   \n",
      "4                             Allen, Mr. William Henry    male  35.0      0   \n",
      "..                                                 ...     ...   ...    ...   \n",
      "886                              Montvila, Rev. Juozas    male  27.0      0   \n",
      "887                       Graham, Miss. Margaret Edith  female  19.0      0   \n",
      "888           Johnston, Miss. Catherine Helen \"Carrie\"  female   NaN      1   \n",
      "889                              Behr, Mr. Karl Howell    male  26.0      0   \n",
      "890                                Dooley, Mr. Patrick    male  32.0      0   \n",
      "\n",
      "     Parch            Ticket     Fare Cabin Embarked  \n",
      "0        0         A/5 21171   7.2500   NaN        S  \n",
      "1        0          PC 17599  71.2833   C85        C  \n",
      "2        0  STON/O2. 3101282   7.9250   NaN        S  \n",
      "3        0            113803  53.1000  C123        S  \n",
      "4        0            373450   8.0500   NaN        S  \n",
      "..     ...               ...      ...   ...      ...  \n",
      "886      0            211536  13.0000   NaN        S  \n",
      "887      0            112053  30.0000   B42        S  \n",
      "888      2        W./C. 6607  23.4500   NaN        S  \n",
      "889      0            111369  30.0000  C148        C  \n",
      "890      0            370376   7.7500   NaN        Q  \n",
      "\n",
      "[891 rows x 12 columns]\n"
     ]
    },
    {
     "data": {
      "text/plain": [
       "PassengerId    891\n",
       "Survived       891\n",
       "Pclass         891\n",
       "Name           891\n",
       "Sex            891\n",
       "Age            714\n",
       "SibSp          891\n",
       "Parch          891\n",
       "Ticket         891\n",
       "Fare           891\n",
       "Cabin          204\n",
       "Embarked       889\n",
       "dtype: int64"
      ]
     },
     "execution_count": 192,
     "metadata": {},
     "output_type": "execute_result"
    }
   ],
   "source": [
    "print(titan)\n",
    "titan.isnull().sum()\n",
    "titan.notnull().sum()\n",
    "\n",
    "\n"
   ]
  },
  {
   "cell_type": "code",
   "execution_count": 193,
   "metadata": {
    "scrolled": true
   },
   "outputs": [
    {
     "data": {
      "text/html": [
       "<div>\n",
       "<style scoped>\n",
       "    .dataframe tbody tr th:only-of-type {\n",
       "        vertical-align: middle;\n",
       "    }\n",
       "\n",
       "    .dataframe tbody tr th {\n",
       "        vertical-align: top;\n",
       "    }\n",
       "\n",
       "    .dataframe thead th {\n",
       "        text-align: right;\n",
       "    }\n",
       "</style>\n",
       "<table border=\"1\" class=\"dataframe\">\n",
       "  <thead>\n",
       "    <tr style=\"text-align: right;\">\n",
       "      <th></th>\n",
       "      <th>PassengerId</th>\n",
       "      <th>Survived</th>\n",
       "      <th>Pclass</th>\n",
       "      <th>Name</th>\n",
       "      <th>Sex</th>\n",
       "      <th>Age</th>\n",
       "      <th>SibSp</th>\n",
       "      <th>Parch</th>\n",
       "      <th>Ticket</th>\n",
       "      <th>Fare</th>\n",
       "      <th>Cabin</th>\n",
       "      <th>Embarked</th>\n",
       "    </tr>\n",
       "  </thead>\n",
       "  <tbody>\n",
       "    <tr>\n",
       "      <th>0</th>\n",
       "      <td>1</td>\n",
       "      <td>0</td>\n",
       "      <td>3</td>\n",
       "      <td>Braund, Mr. Owen Harris</td>\n",
       "      <td>male</td>\n",
       "      <td>22.0</td>\n",
       "      <td>1</td>\n",
       "      <td>0</td>\n",
       "      <td>A/5 21171</td>\n",
       "      <td>7.2500</td>\n",
       "      <td>NaN</td>\n",
       "      <td>S</td>\n",
       "    </tr>\n",
       "    <tr>\n",
       "      <th>1</th>\n",
       "      <td>2</td>\n",
       "      <td>1</td>\n",
       "      <td>1</td>\n",
       "      <td>Cumings, Mrs. John Bradley (Florence Briggs Th...</td>\n",
       "      <td>female</td>\n",
       "      <td>38.0</td>\n",
       "      <td>1</td>\n",
       "      <td>0</td>\n",
       "      <td>PC 17599</td>\n",
       "      <td>71.2833</td>\n",
       "      <td>C85</td>\n",
       "      <td>C</td>\n",
       "    </tr>\n",
       "  </tbody>\n",
       "</table>\n",
       "</div>"
      ],
      "text/plain": [
       "   PassengerId  Survived  Pclass  \\\n",
       "0            1         0       3   \n",
       "1            2         1       1   \n",
       "\n",
       "                                                Name     Sex   Age  SibSp  \\\n",
       "0                            Braund, Mr. Owen Harris    male  22.0      1   \n",
       "1  Cumings, Mrs. John Bradley (Florence Briggs Th...  female  38.0      1   \n",
       "\n",
       "   Parch     Ticket     Fare Cabin Embarked  \n",
       "0      0  A/5 21171   7.2500   NaN        S  \n",
       "1      0   PC 17599  71.2833   C85        C  "
      ]
     },
     "execution_count": 193,
     "metadata": {},
     "output_type": "execute_result"
    }
   ],
   "source": [
    "titan.head(10)\n",
    "titantest.isnull().sum()\n",
    "titan.head(2)"
   ]
  },
  {
   "cell_type": "code",
   "execution_count": 194,
   "metadata": {},
   "outputs": [
    {
     "data": {
      "text/html": [
       "<div>\n",
       "<style scoped>\n",
       "    .dataframe tbody tr th:only-of-type {\n",
       "        vertical-align: middle;\n",
       "    }\n",
       "\n",
       "    .dataframe tbody tr th {\n",
       "        vertical-align: top;\n",
       "    }\n",
       "\n",
       "    .dataframe thead th {\n",
       "        text-align: right;\n",
       "    }\n",
       "</style>\n",
       "<table border=\"1\" class=\"dataframe\">\n",
       "  <thead>\n",
       "    <tr style=\"text-align: right;\">\n",
       "      <th></th>\n",
       "      <th>PassengerId</th>\n",
       "      <th>Survived</th>\n",
       "      <th>Pclass</th>\n",
       "      <th>Age</th>\n",
       "      <th>SibSp</th>\n",
       "      <th>Parch</th>\n",
       "      <th>Fare</th>\n",
       "    </tr>\n",
       "  </thead>\n",
       "  <tbody>\n",
       "    <tr>\n",
       "      <th>count</th>\n",
       "      <td>891.000000</td>\n",
       "      <td>891.000000</td>\n",
       "      <td>891.000000</td>\n",
       "      <td>714.000000</td>\n",
       "      <td>891.000000</td>\n",
       "      <td>891.000000</td>\n",
       "      <td>891.000000</td>\n",
       "    </tr>\n",
       "    <tr>\n",
       "      <th>mean</th>\n",
       "      <td>446.000000</td>\n",
       "      <td>0.383838</td>\n",
       "      <td>2.308642</td>\n",
       "      <td>29.699118</td>\n",
       "      <td>0.523008</td>\n",
       "      <td>0.381594</td>\n",
       "      <td>32.204208</td>\n",
       "    </tr>\n",
       "    <tr>\n",
       "      <th>std</th>\n",
       "      <td>257.353842</td>\n",
       "      <td>0.486592</td>\n",
       "      <td>0.836071</td>\n",
       "      <td>14.526497</td>\n",
       "      <td>1.102743</td>\n",
       "      <td>0.806057</td>\n",
       "      <td>49.693429</td>\n",
       "    </tr>\n",
       "    <tr>\n",
       "      <th>min</th>\n",
       "      <td>1.000000</td>\n",
       "      <td>0.000000</td>\n",
       "      <td>1.000000</td>\n",
       "      <td>0.420000</td>\n",
       "      <td>0.000000</td>\n",
       "      <td>0.000000</td>\n",
       "      <td>0.000000</td>\n",
       "    </tr>\n",
       "    <tr>\n",
       "      <th>25%</th>\n",
       "      <td>223.500000</td>\n",
       "      <td>0.000000</td>\n",
       "      <td>2.000000</td>\n",
       "      <td>20.125000</td>\n",
       "      <td>0.000000</td>\n",
       "      <td>0.000000</td>\n",
       "      <td>7.910400</td>\n",
       "    </tr>\n",
       "    <tr>\n",
       "      <th>50%</th>\n",
       "      <td>446.000000</td>\n",
       "      <td>0.000000</td>\n",
       "      <td>3.000000</td>\n",
       "      <td>28.000000</td>\n",
       "      <td>0.000000</td>\n",
       "      <td>0.000000</td>\n",
       "      <td>14.454200</td>\n",
       "    </tr>\n",
       "    <tr>\n",
       "      <th>75%</th>\n",
       "      <td>668.500000</td>\n",
       "      <td>1.000000</td>\n",
       "      <td>3.000000</td>\n",
       "      <td>38.000000</td>\n",
       "      <td>1.000000</td>\n",
       "      <td>0.000000</td>\n",
       "      <td>31.000000</td>\n",
       "    </tr>\n",
       "    <tr>\n",
       "      <th>max</th>\n",
       "      <td>891.000000</td>\n",
       "      <td>1.000000</td>\n",
       "      <td>3.000000</td>\n",
       "      <td>80.000000</td>\n",
       "      <td>8.000000</td>\n",
       "      <td>6.000000</td>\n",
       "      <td>512.329200</td>\n",
       "    </tr>\n",
       "  </tbody>\n",
       "</table>\n",
       "</div>"
      ],
      "text/plain": [
       "       PassengerId    Survived      Pclass         Age       SibSp  \\\n",
       "count   891.000000  891.000000  891.000000  714.000000  891.000000   \n",
       "mean    446.000000    0.383838    2.308642   29.699118    0.523008   \n",
       "std     257.353842    0.486592    0.836071   14.526497    1.102743   \n",
       "min       1.000000    0.000000    1.000000    0.420000    0.000000   \n",
       "25%     223.500000    0.000000    2.000000   20.125000    0.000000   \n",
       "50%     446.000000    0.000000    3.000000   28.000000    0.000000   \n",
       "75%     668.500000    1.000000    3.000000   38.000000    1.000000   \n",
       "max     891.000000    1.000000    3.000000   80.000000    8.000000   \n",
       "\n",
       "            Parch        Fare  \n",
       "count  891.000000  891.000000  \n",
       "mean     0.381594   32.204208  \n",
       "std      0.806057   49.693429  \n",
       "min      0.000000    0.000000  \n",
       "25%      0.000000    7.910400  \n",
       "50%      0.000000   14.454200  \n",
       "75%      0.000000   31.000000  \n",
       "max      6.000000  512.329200  "
      ]
     },
     "execution_count": 194,
     "metadata": {},
     "output_type": "execute_result"
    }
   ],
   "source": [
    "titan.describe()"
   ]
  },
  {
   "cell_type": "code",
   "execution_count": 195,
   "metadata": {},
   "outputs": [
    {
     "data": {
      "text/plain": [
       "PassengerId      int64\n",
       "Survived         int64\n",
       "Pclass           int64\n",
       "Name            object\n",
       "Sex             object\n",
       "Age            float64\n",
       "SibSp            int64\n",
       "Parch            int64\n",
       "Ticket          object\n",
       "Fare           float64\n",
       "Cabin           object\n",
       "Embarked        object\n",
       "dtype: object"
      ]
     },
     "execution_count": 195,
     "metadata": {},
     "output_type": "execute_result"
    }
   ],
   "source": [
    "titan.dtypes"
   ]
  },
  {
   "cell_type": "code",
   "execution_count": 196,
   "metadata": {},
   "outputs": [
    {
     "data": {
      "text/plain": [
       "0    549\n",
       "1    342\n",
       "Name: Survived, dtype: int64"
      ]
     },
     "execution_count": 196,
     "metadata": {},
     "output_type": "execute_result"
    }
   ],
   "source": [
    "titan.Survived.value_counts()\n",
    "\n"
   ]
  },
  {
   "cell_type": "code",
   "execution_count": 197,
   "metadata": {},
   "outputs": [
    {
     "data": {
      "text/plain": [
       "male      577\n",
       "female    314\n",
       "Name: Sex, dtype: int64"
      ]
     },
     "execution_count": 197,
     "metadata": {},
     "output_type": "execute_result"
    }
   ],
   "source": [
    "titan.Sex.value_counts()"
   ]
  },
  {
   "cell_type": "code",
   "execution_count": 198,
   "metadata": {},
   "outputs": [],
   "source": [
    "cols=['Name','Sex','Ticket','Cabin','Embarked']"
   ]
  },
  {
   "cell_type": "code",
   "execution_count": 199,
   "metadata": {},
   "outputs": [
    {
     "data": {
      "text/plain": [
       "3    491\n",
       "1    216\n",
       "2    184\n",
       "Name: Pclass, dtype: int64"
      ]
     },
     "execution_count": 199,
     "metadata": {},
     "output_type": "execute_result"
    }
   ],
   "source": [
    "titan.Pclass.value_counts()"
   ]
  },
  {
   "cell_type": "code",
   "execution_count": 200,
   "metadata": {},
   "outputs": [
    {
     "data": {
      "text/plain": [
       "male      577\n",
       "female    314\n",
       "Name: Sex, dtype: int64"
      ]
     },
     "execution_count": 200,
     "metadata": {},
     "output_type": "execute_result"
    }
   ],
   "source": [
    "titan.Sex.value_counts()"
   ]
  },
  {
   "cell_type": "code",
   "execution_count": 201,
   "metadata": {},
   "outputs": [
    {
     "data": {
      "text/plain": [
       "S    644\n",
       "C    168\n",
       "Q     77\n",
       "Name: Embarked, dtype: int64"
      ]
     },
     "execution_count": 201,
     "metadata": {},
     "output_type": "execute_result"
    }
   ],
   "source": [
    "titan.Embarked.value_counts()"
   ]
  },
  {
   "cell_type": "code",
   "execution_count": 202,
   "metadata": {},
   "outputs": [
    {
     "data": {
      "text/plain": [
       "0    549\n",
       "1    342\n",
       "Name: Survived, dtype: int64"
      ]
     },
     "execution_count": 202,
     "metadata": {},
     "output_type": "execute_result"
    }
   ],
   "source": [
    "titan.Survived.value_counts()"
   ]
  },
  {
   "cell_type": "code",
   "execution_count": 203,
   "metadata": {},
   "outputs": [
    {
     "data": {
      "text/plain": [
       "['Lundahl, Mr. Johan Svensson',\n",
       " 'Collyer, Miss. Marjorie \"Lottie\"',\n",
       " 'Landergren, Miss. Aurora Adelia',\n",
       " 'Braund, Mr. Owen Harris',\n",
       " 'Aubart, Mme. Leontine Pauline',\n",
       " 'Eustis, Miss. Elizabeth Mussey',\n",
       " 'Pickard, Mr. Berk (Berk Trembisky)',\n",
       " 'Sadlier, Mr. Matthew',\n",
       " 'Abelson, Mrs. Samuel (Hannah Wizosky)',\n",
       " 'Markoff, Mr. Marin',\n",
       " 'Mamee, Mr. Hanna',\n",
       " 'Stanley, Miss. Amy Zillah Elsie',\n",
       " 'Carter, Mrs. Ernest Courtenay (Lilian Hughes)',\n",
       " 'Todoroff, Mr. Lalio',\n",
       " 'Rosblom, Mr. Viktor Richard',\n",
       " 'Gallagher, Mr. Martin',\n",
       " 'Angle, Mrs. William A (Florence \"Mary\" Agnes Hughes)',\n",
       " 'Pekoniemi, Mr. Edvard',\n",
       " 'Hamalainen, Mrs. William (Anna)',\n",
       " 'Patchett, Mr. George',\n",
       " 'Kallio, Mr. Nikolai Erland',\n",
       " 'Palsson, Miss. Torborg Danira',\n",
       " 'Jacobsohn, Mrs. Sidney Samuel (Amy Frances Christy)',\n",
       " 'Flynn, Mr. James',\n",
       " 'Vovk, Mr. Janko',\n",
       " 'Rush, Mr. Alfred George John',\n",
       " 'Moubarek, Master. Gerios',\n",
       " 'Stead, Mr. William Thomas',\n",
       " 'Goodwin, Mrs. Frederick (Augusta Tyler)',\n",
       " 'Holm, Mr. John Fredrik Alexander',\n",
       " 'Aks, Mrs. Sam (Leah Rosen)',\n",
       " 'Goodwin, Master. William Frederick',\n",
       " 'Andersson, Miss. Sigrid Elisabeth',\n",
       " 'Peters, Miss. Katie',\n",
       " 'Van Impe, Miss. Catharina',\n",
       " 'Robert, Mrs. Edward Scott (Elisabeth Walton McMillan)',\n",
       " 'Kvillner, Mr. Johan Henrik Johannesson',\n",
       " 'Collyer, Mr. Harvey',\n",
       " 'Harrison, Mr. William',\n",
       " 'Lesurer, Mr. Gustave J',\n",
       " 'Samaan, Mr. Youssef',\n",
       " 'Bourke, Mr. John',\n",
       " 'Molson, Mr. Harry Markland',\n",
       " 'Hart, Mr. Henry',\n",
       " 'Richards, Master. George Sibley',\n",
       " 'Moraweck, Dr. Ernest',\n",
       " 'Duff Gordon, Lady. (Lucille Christiana Sutherland) (\"Mrs Morgan\")',\n",
       " 'Isham, Miss. Ann Elizabeth',\n",
       " 'Lindell, Mr. Edvard Bengtsson',\n",
       " 'Moor, Mrs. (Beila)',\n",
       " 'Niskanen, Mr. Juha',\n",
       " 'Saad, Mr. Khalil',\n",
       " 'Lobb, Mrs. William Arthur (Cordelia K Stanlick)',\n",
       " 'Otter, Mr. Richard',\n",
       " 'Young, Miss. Marie Grice',\n",
       " 'McGough, Mr. James Robert',\n",
       " 'Givard, Mr. Hans Kristensen',\n",
       " 'Goldsmith, Mr. Frank John',\n",
       " 'Hickman, Mr. Lewis',\n",
       " 'Doling, Miss. Elsie',\n",
       " 'Allen, Mr. William Henry',\n",
       " 'Harper, Miss. Annie Jessie \"Nina\"',\n",
       " 'Thayer, Mrs. John Borland (Marian Longstreth Morris)',\n",
       " 'Brocklebank, Mr. William Alfred',\n",
       " 'Sinkkonen, Miss. Anna',\n",
       " 'Harknett, Miss. Alice Phoebe',\n",
       " 'Baclini, Miss. Marie Catherine',\n",
       " 'Silvey, Mrs. William Baird (Alice Munger)',\n",
       " 'Mitchell, Mr. Henry Michael',\n",
       " 'Glynn, Miss. Mary Agatha',\n",
       " 'Frauenthal, Dr. Henry William',\n",
       " 'Connors, Mr. Patrick',\n",
       " 'Turpin, Mrs. William John Robert (Dorothy Ann Wonnacott)',\n",
       " 'Gronnestad, Mr. Daniel Danielsen',\n",
       " 'Heikkinen, Miss. Laina',\n",
       " 'McGowan, Miss. Anna \"Annie\"',\n",
       " 'Padro y Manent, Mr. Julian',\n",
       " 'Smiljanic, Mr. Mile',\n",
       " 'McCoy, Miss. Agnes',\n",
       " 'Boulos, Miss. Nourelain',\n",
       " 'Beavan, Mr. William Thomas',\n",
       " 'Maioni, Miss. Roberta',\n",
       " 'Caram, Mrs. Joseph (Maria Elias)',\n",
       " 'Carter, Mr. William Ernest',\n",
       " 'Hampe, Mr. Leon',\n",
       " 'Leonard, Mr. Lionel',\n",
       " 'Alexander, Mr. William',\n",
       " 'Hansen, Mr. Henry Damsgaard',\n",
       " 'Shutes, Miss. Elizabeth W',\n",
       " \"O'Sullivan, Miss. Bridget Mary\",\n",
       " 'Endres, Miss. Caroline Louise',\n",
       " 'Goldschmidt, Mr. George B',\n",
       " 'Thorne, Mrs. Gertrude Maybelle',\n",
       " 'Webber, Mr. James',\n",
       " 'Sheerlinck, Mr. Jan Baptist',\n",
       " 'Herman, Miss. Alice',\n",
       " 'Hogeboom, Mrs. John C (Anna Andrews)',\n",
       " 'Adahl, Mr. Mauritz Nils Martin',\n",
       " 'Klasen, Mr. Klas Albin',\n",
       " 'Widener, Mr. Harry Elkins',\n",
       " 'Oreskovic, Miss. Marija',\n",
       " 'Mullens, Miss. Katherine \"Katie\"',\n",
       " 'Thayer, Mr. John Borland',\n",
       " 'Calderhead, Mr. Edward Pennington',\n",
       " 'Andersson, Mr. August Edvard (\"Wennerstrom\")',\n",
       " \"O'Brien, Mr. Thomas\",\n",
       " 'Jardin, Mr. Jose Neto',\n",
       " 'Bradley, Mr. George (\"George Arthur Brayton\")',\n",
       " 'Beane, Mrs. Edward (Ethel Clarke)',\n",
       " 'de Pelsmaeker, Mr. Alfons',\n",
       " 'McMahon, Mr. Martin',\n",
       " 'Salonen, Mr. Johan Werner',\n",
       " 'Kassem, Mr. Fared',\n",
       " 'Bateman, Rev. Robert James',\n",
       " 'Elias, Mr. Joseph Jr',\n",
       " 'Reuchlin, Jonkheer. John George',\n",
       " 'Meek, Mrs. Thomas (Annie Louise Rowley)',\n",
       " 'Taussig, Mrs. Emil (Tillie Mandelbaum)',\n",
       " 'Lindahl, Miss. Agda Thorilda Viktoria',\n",
       " 'Bissette, Miss. Amelia',\n",
       " 'Sdycoff, Mr. Todor',\n",
       " 'Icard, Miss. Amelie',\n",
       " 'Pettersson, Miss. Ellen Natalia',\n",
       " 'Skoog, Miss. Margit Elizabeth',\n",
       " 'Johnson, Mr. Alfred',\n",
       " 'Roebling, Mr. Washington Augustus II',\n",
       " 'Vande Walle, Mr. Nestor Cyriel',\n",
       " 'Allum, Mr. Owen George',\n",
       " 'Partner, Mr. Austen',\n",
       " 'Theobald, Mr. Thomas Leonard',\n",
       " 'Moran, Mr. James',\n",
       " 'Hickman, Mr. Stanley George',\n",
       " 'Barber, Miss. Ellen \"Nellie\"',\n",
       " 'Olsson, Mr. Nils Johan Goransson',\n",
       " 'Kink-Heilmann, Miss. Luise Gretchen',\n",
       " 'Maenpaa, Mr. Matti Alexanteri',\n",
       " 'Willey, Mr. Edward',\n",
       " 'Romaine, Mr. Charles Hallace (\"Mr C Rolmane\")',\n",
       " 'Corn, Mr. Harry',\n",
       " 'Van der hoef, Mr. Wyckoff',\n",
       " 'Bystrom, Mrs. (Karolina)',\n",
       " 'Fortune, Miss. Mabel Helen',\n",
       " 'Svensson, Mr. Olof',\n",
       " 'Smith, Mr. Richard William',\n",
       " 'Ryerson, Miss. Susan Parker \"Suzette\"',\n",
       " 'Tikkanen, Mr. Juho',\n",
       " 'Richards, Master. William Rowe',\n",
       " 'Daly, Mr. Eugene Patrick',\n",
       " 'Devaney, Miss. Margaret Delia',\n",
       " 'Peter, Mrs. Catherine (Catherine Rizk)',\n",
       " 'Skoog, Mr. Wilhelm',\n",
       " 'Minahan, Miss. Daisy E',\n",
       " 'Coutts, Master. Eden Leslie \"Neville\"',\n",
       " 'Ridsdale, Miss. Lucy',\n",
       " 'Ford, Mrs. Edward (Margaret Ann Watson)',\n",
       " 'Hippach, Mrs. Louis Albert (Ida Sophia Fischer)',\n",
       " 'Meyer, Mrs. Edgar Joseph (Leila Saks)',\n",
       " 'Dennis, Mr. Samuel',\n",
       " 'Smith, Miss. Marion Elsie',\n",
       " 'Hart, Mrs. Benjamin (Esther Ada Bloomfield)',\n",
       " 'Rugg, Miss. Emily',\n",
       " 'Abelson, Mr. Samuel',\n",
       " 'Lievens, Mr. Rene Aime',\n",
       " 'Lester, Mr. James',\n",
       " 'Caldwell, Master. Alden Gates',\n",
       " 'Reed, Mr. James George',\n",
       " 'Dahlberg, Miss. Gerda Ulrika',\n",
       " 'Hodges, Mr. Henry Price',\n",
       " 'Kraeff, Mr. Theodor',\n",
       " 'Potter, Mrs. Thomas Jr (Lily Alexenia Wilson)',\n",
       " \"O'Connell, Mr. Patrick D\",\n",
       " 'Smith, Mr. James Clinch',\n",
       " 'Olsen, Mr. Ole Martin',\n",
       " 'Chaffee, Mr. Herbert Fuller',\n",
       " 'Markun, Mr. Johann',\n",
       " 'Kent, Mr. Edward Austin',\n",
       " 'Sutton, Mr. Frederick',\n",
       " 'Wheadon, Mr. Edward H',\n",
       " 'Navratil, Master. Edmond Roger',\n",
       " 'Oreskovic, Mr. Luka',\n",
       " 'Nosworthy, Mr. Richard Cater',\n",
       " 'Nilsson, Miss. Helmina Josefina',\n",
       " 'Hassan, Mr. Houssein G N',\n",
       " 'Moss, Mr. Albert Johan',\n",
       " 'Shellard, Mr. Frederick William',\n",
       " 'Nicola-Yarred, Master. Elias',\n",
       " 'Sivola, Mr. Antti Wilhelm',\n",
       " 'de Messemaeker, Mrs. Guillaume Joseph (Emma)',\n",
       " 'Chambers, Mrs. Norman Campbell (Bertha Griggs)',\n",
       " 'Badt, Mr. Mohamed',\n",
       " 'Cacic, Miss. Marija',\n",
       " 'Garside, Miss. Ethel',\n",
       " 'Harris, Mrs. Henry Birkhardt (Irene Wallach)',\n",
       " 'Brown, Mr. Thomas William Solomon',\n",
       " 'Masselmani, Mrs. Fatima',\n",
       " 'Andersson, Mrs. Anders Johan (Alfrida Konstantia Brogren)',\n",
       " 'Banfield, Mr. Frederick James',\n",
       " 'Peter, Miss. Anna',\n",
       " 'Cacic, Mr. Luka',\n",
       " 'Hagland, Mr. Konrad Mathias Reiersen',\n",
       " 'Jensen, Mr. Hans Peder',\n",
       " 'Quick, Mrs. Frederick Charles (Jane Richards)',\n",
       " 'Bailey, Mr. Percy Andrew',\n",
       " 'Foo, Mr. Choong',\n",
       " 'Ivanoff, Mr. Kanio',\n",
       " 'Sirota, Mr. Maurice',\n",
       " 'Silvey, Mr. William Baird',\n",
       " 'Hays, Mrs. Charles Melville (Clara Jennings Gregg)',\n",
       " 'Serepeca, Miss. Augusta',\n",
       " 'Harris, Mr. George',\n",
       " 'Newell, Mr. Arthur Webster',\n",
       " 'Allen, Miss. Elisabeth Walton',\n",
       " 'Thorneycroft, Mrs. Percival (Florence Kate White)',\n",
       " 'Beane, Mr. Edward',\n",
       " 'Coleridge, Mr. Reginald Charles',\n",
       " 'Carter, Mrs. William Ernest (Lucile Polk)',\n",
       " 'Lefebre, Miss. Ida',\n",
       " 'Mallet, Master. Andre',\n",
       " 'Pain, Dr. Alfred',\n",
       " 'Hassab, Mr. Hammad',\n",
       " 'Panula, Master. Urho Abraham',\n",
       " 'Simonius-Blumer, Col. Oberst Alfons',\n",
       " 'Keane, Mr. Andrew \"Andy\"',\n",
       " 'Beckwith, Mrs. Richard Leonard (Sallie Monypeny)',\n",
       " 'Clifford, Mr. George Quincy',\n",
       " 'Mayne, Mlle. Berthe Antonine (\"Mrs de Villiers\")',\n",
       " 'Futrelle, Mrs. Jacques Heath (Lily May Peel)',\n",
       " 'Bracken, Mr. James H',\n",
       " 'Murphy, Miss. Katherine \"Kate\"',\n",
       " 'Zimmerman, Mr. Leo',\n",
       " 'Vanden Steen, Mr. Leo Peter',\n",
       " 'Cardeza, Mr. Thomas Drake Martinez',\n",
       " 'Mellors, Mr. William John',\n",
       " 'McNamee, Mr. Neal',\n",
       " 'Dean, Master. Bertram Vere',\n",
       " 'Jenkin, Mr. Stephen Curnow',\n",
       " 'Blank, Mr. Henry',\n",
       " 'Moutal, Mr. Rahamin Haim',\n",
       " 'Madsen, Mr. Fridtjof Arne',\n",
       " 'Louch, Mrs. Charles Alexander (Alice Adelaide Slow)',\n",
       " 'Canavan, Miss. Mary',\n",
       " 'Gustafsson, Mr. Karl Gideon',\n",
       " 'Kelly, Mr. James',\n",
       " 'Stahelin-Maeglin, Dr. Max',\n",
       " 'Renouf, Mrs. Peter Henry (Lillian Jefferys)',\n",
       " 'Emir, Mr. Farred Chehab',\n",
       " 'Elsbury, Mr. William James',\n",
       " 'Stephenson, Mrs. Walter Bertram (Martha Eustis)',\n",
       " 'Carter, Miss. Lucile Polk',\n",
       " 'Williams, Mr. Leslie',\n",
       " 'Ford, Miss. Robina Maggie \"Ruby\"',\n",
       " 'Pears, Mr. Thomas Clinton',\n",
       " 'Herman, Mrs. Samuel (Jane Laver)',\n",
       " 'Vander Planke, Mr. Leo Edmondus',\n",
       " 'Berriman, Mr. William John',\n",
       " 'McKane, Mr. Peter David',\n",
       " 'Nasser, Mrs. Nicholas (Adele Achem)',\n",
       " 'Saundercock, Mr. William Henry',\n",
       " 'Carter, Rev. Ernest Courtenay',\n",
       " 'Sage, Mr. Frederick',\n",
       " 'Crease, Mr. Ernest James',\n",
       " 'Brown, Miss. Amelia \"Mildred\"',\n",
       " 'Risien, Mr. Samuel Beard',\n",
       " 'Penasco y Castellana, Mr. Victor de Satode',\n",
       " 'Kelly, Miss. Mary',\n",
       " 'Perreault, Miss. Anne',\n",
       " 'Andrew, Mr. Edgardo Samuel',\n",
       " 'Graham, Mrs. William Thompson (Edith Junkins)',\n",
       " 'Moussa, Mrs. (Mantoura Boulos)',\n",
       " 'Lemore, Mrs. (Amelia Milley)',\n",
       " 'Fynney, Mr. Joseph J',\n",
       " 'Farthing, Mr. John',\n",
       " 'Barbara, Mrs. (Catherine David)',\n",
       " 'Johansson, Mr. Gustaf Joel',\n",
       " 'Chapman, Mr. Charles Henry',\n",
       " 'O\\'Brien, Mrs. Thomas (Johanna \"Hannah\" Godfrey)',\n",
       " 'Skoog, Miss. Mabel',\n",
       " 'Shelley, Mrs. William (Imanita Parrish Hall)',\n",
       " 'Hakkarainen, Mrs. Pekka Pietari (Elin Matilda Dolck)',\n",
       " 'Braund, Mr. Lewis Richard',\n",
       " 'Lefebre, Master. Henry Forbes',\n",
       " 'Butler, Mr. Reginald Fenton',\n",
       " 'Hays, Miss. Margaret Bechstein',\n",
       " 'Green, Mr. George Henry',\n",
       " 'Carlsson, Mr. Frans Olof',\n",
       " 'Kelly, Mrs. Florence \"Fannie\"',\n",
       " 'Pengelly, Mr. Frederick William',\n",
       " 'Meo, Mr. Alfonzo',\n",
       " 'Daly, Mr. Peter Denis ',\n",
       " 'Crosby, Capt. Edward Gifford',\n",
       " 'Cairns, Mr. Alexander',\n",
       " 'Spedden, Mrs. Frederic Oakley (Margaretta Corning Stone)',\n",
       " 'Hagland, Mr. Ingvald Olai Olsen',\n",
       " 'Leitch, Miss. Jessie Wills',\n",
       " 'Eitemiller, Mr. George Floyd',\n",
       " 'McEvoy, Mr. Michael',\n",
       " 'Andersson, Miss. Ellis Anna Maria',\n",
       " 'Williams, Mr. Howard Hugh \"Harry\"',\n",
       " 'Andrews, Miss. Kornelia Theodosia',\n",
       " 'Radeff, Mr. Alexander',\n",
       " 'Edvardsson, Mr. Gustaf Hjalmar',\n",
       " 'Pinsky, Mrs. (Rosa)',\n",
       " 'Eklund, Mr. Hans Linus',\n",
       " 'Denkoff, Mr. Mitto',\n",
       " 'Attalah, Miss. Malake',\n",
       " 'Hart, Miss. Eva Miriam',\n",
       " 'Somerton, Mr. Francis William',\n",
       " 'Jonsson, Mr. Carl',\n",
       " 'Nicholson, Mr. Arthur Ernest',\n",
       " 'Ayoub, Miss. Banoura',\n",
       " 'Giles, Mr. Frederick Edward',\n",
       " 'Torber, Mr. Ernst William',\n",
       " 'Chambers, Mr. Norman Campbell',\n",
       " 'Goodwin, Master. Sidney Leonard',\n",
       " 'Gheorgheff, Mr. Stanio',\n",
       " 'Dakic, Mr. Branko',\n",
       " 'Andersson, Miss. Ebba Iris Alfrida',\n",
       " 'Johansson, Mr. Erik',\n",
       " 'Boulos, Mr. Hanna',\n",
       " 'Moran, Mr. Daniel J',\n",
       " 'Sutehall, Mr. Henry Jr',\n",
       " 'Arnold-Franchi, Mr. Josef',\n",
       " 'Smith, Mr. Thomas',\n",
       " 'Paulner, Mr. Uscher',\n",
       " 'Hendekovic, Mr. Ignjac',\n",
       " 'Allison, Miss. Helen Loraine',\n",
       " 'Sundman, Mr. Johan Julian',\n",
       " 'Lobb, Mr. William Arthur',\n",
       " 'Horgan, Mr. John',\n",
       " 'Artagaveytia, Mr. Ramon',\n",
       " 'Hosono, Mr. Masabumi',\n",
       " 'Kantor, Mrs. Sinai (Miriam Sternin)',\n",
       " 'Persson, Mr. Ernst Ulrik',\n",
       " 'Davies, Master. John Morgan Jr',\n",
       " 'Stankovic, Mr. Ivan',\n",
       " 'Harmer, Mr. Abraham (David Lishin)',\n",
       " 'Goodwin, Mr. Charles Edward',\n",
       " 'Ekstrom, Mr. Johan',\n",
       " 'Olsen, Mr. Henry Margido',\n",
       " 'Hoyt, Mrs. Frederick Maxfield (Jane Anne Forby)',\n",
       " 'Maisner, Mr. Simon',\n",
       " 'Hippach, Miss. Jean Gertrude',\n",
       " 'Dick, Mrs. Albert Adrian (Vera Gillespie)',\n",
       " 'Baxter, Mr. Quigg Edmond',\n",
       " 'Harris, Mr. Walter',\n",
       " 'Funk, Miss. Annie Clemmer',\n",
       " 'Butt, Major. Archibald Willingham',\n",
       " 'Murdlin, Mr. Joseph',\n",
       " 'Taussig, Mr. Emil',\n",
       " 'Jermyn, Miss. Annie',\n",
       " 'Johansson, Mr. Karl Johan',\n",
       " 'Hedman, Mr. Oskar Arvid',\n",
       " 'West, Miss. Constance Mirium',\n",
       " 'Robins, Mrs. Alexander A (Grace Charity Laury)',\n",
       " 'Harder, Mr. George Achilles',\n",
       " 'Thomas, Master. Assad Alexander',\n",
       " 'Odahl, Mr. Nils Martin',\n",
       " 'Augustsson, Mr. Albert',\n",
       " 'Caldwell, Mrs. Albert Francis (Sylvia Mae Harbaugh)',\n",
       " 'Wiklund, Mr. Jakob Alfred',\n",
       " \"O'Connor, Mr. Maurice\",\n",
       " 'del Carlo, Mr. Sebastiano',\n",
       " 'Drew, Mrs. James Vivian (Lulu Thorne Christian)',\n",
       " 'Moor, Master. Meier',\n",
       " 'Clarke, Mrs. Charles V (Ada Maria Winfield)',\n",
       " 'Phillips, Miss. Kate Florence (\"Mrs Kate Louise Phillips Marshall\")',\n",
       " 'Sjoblom, Miss. Anna Sofia',\n",
       " 'Uruchurtu, Don. Manuel E',\n",
       " 'Holverson, Mrs. Alexander Oskar (Mary Aline Towner)',\n",
       " 'Lindqvist, Mr. Eino William',\n",
       " 'Bengtsson, Mr. John Viktor',\n",
       " 'Nankoff, Mr. Minko',\n",
       " 'Vande Velde, Mr. Johannes Joseph',\n",
       " 'Leader, Dr. Alice (Farnham)',\n",
       " 'Williams-Lambert, Mr. Fletcher Fellows',\n",
       " 'Yasbeck, Mr. Antoni',\n",
       " 'Goodwin, Miss. Lillian Amy',\n",
       " 'Mionoff, Mr. Stoytcho',\n",
       " 'Kink, Mr. Vincenz',\n",
       " 'Taylor, Mrs. Elmer Zebley (Juliet Cummins Wright)',\n",
       " 'Sage, Miss. Stella Anna',\n",
       " 'Hansen, Mr. Claus Peter',\n",
       " 'Fortune, Miss. Alice Elizabeth',\n",
       " 'Douglas, Mr. Walter Donald',\n",
       " 'Gustafsson, Mr. Anders Vilhelm',\n",
       " 'Carter, Master. William Thornton II',\n",
       " 'McCormack, Mr. Thomas Joseph',\n",
       " 'Petranec, Miss. Matilda',\n",
       " 'Rosblom, Mrs. Viktor (Helena Wilhelmina)',\n",
       " 'Longley, Miss. Gretchen Fiske',\n",
       " 'Newell, Miss. Marjorie',\n",
       " 'Laitinen, Miss. Kristina Sofia',\n",
       " 'van Billiard, Mr. Austin Blyler',\n",
       " 'Palsson, Miss. Stina Viola',\n",
       " 'Mockler, Miss. Helen Mary \"Ellie\"',\n",
       " 'Johnson, Miss. Eleanor Ileen',\n",
       " 'Stone, Mrs. George Nelson (Martha Evelyn)',\n",
       " 'Toomey, Miss. Ellen',\n",
       " 'Lines, Miss. Mary Conover',\n",
       " 'Olsen, Mr. Karl Siegwart Andreas',\n",
       " 'Bidois, Miss. Rosalie',\n",
       " 'Gale, Mr. Shadrach',\n",
       " 'Balkic, Mr. Cerin',\n",
       " 'Becker, Miss. Marion Louise',\n",
       " 'Lam, Mr. Len',\n",
       " 'Rothes, the Countess. of (Lucy Noel Martha Dyer-Edwards)',\n",
       " 'Chapman, Mr. John Henry',\n",
       " 'Connolly, Miss. Kate',\n",
       " 'Panula, Master. Juha Niilo',\n",
       " 'Silverthorne, Mr. Spencer Victor',\n",
       " 'Allison, Master. Hudson Trevor',\n",
       " 'Holverson, Mr. Alexander Oskar',\n",
       " 'Asplund, Mrs. Carl Oscar (Selma Augusta Emilia Johansson)',\n",
       " 'Troutt, Miss. Edwina Celia \"Winnie\"',\n",
       " 'Ilmakangas, Miss. Pieta Sofia',\n",
       " 'Hewlett, Mrs. (Mary D Kingcome) ',\n",
       " 'Yrois, Miss. Henriette (\"Mrs Harbeck\")',\n",
       " 'Vander Planke, Miss. Augusta Maria',\n",
       " 'Saalfeld, Mr. Adolphe',\n",
       " 'Coxon, Mr. Daniel',\n",
       " 'Wells, Miss. Joan',\n",
       " 'Toufik, Mr. Nakli',\n",
       " 'Kimball, Mr. Edwin Nelson Jr',\n",
       " 'Lahtinen, Mrs. William (Anna Sylfven)',\n",
       " 'Goncalves, Mr. Manuel Estanslas',\n",
       " 'Gilnagh, Miss. Katherine \"Katie\"',\n",
       " 'Sloper, Mr. William Thompson',\n",
       " 'Lovell, Mr. John Hall (\"Henry\")',\n",
       " 'Madigan, Miss. Margaret \"Maggie\"',\n",
       " 'Jussila, Miss. Katriina',\n",
       " 'Jonkoff, Mr. Lalio',\n",
       " 'Bostandyeff, Mr. Guentcho',\n",
       " 'Attalah, Mr. Sleiman',\n",
       " 'Staneff, Mr. Ivan',\n",
       " 'Williams, Mr. Charles Eugene',\n",
       " 'Najib, Miss. Adele Kiamie \"Jane\"',\n",
       " 'Walker, Mr. William Anderson',\n",
       " \"O'Brien, Mr. Timothy\",\n",
       " 'Laroche, Mrs. Joseph (Juliette Marie Louise Lafargue)',\n",
       " 'Carlsson, Mr. August Sigfrid',\n",
       " 'Davidson, Mr. Thornton',\n",
       " 'Coelho, Mr. Domingos Fernandeo',\n",
       " 'Frauenthal, Mrs. Henry William (Clara Heinsheimer)',\n",
       " 'Frolicher-Stehli, Mr. Maxmillian',\n",
       " 'Jansson, Mr. Carl Olof',\n",
       " 'Myhrman, Mr. Pehr Fabian Oliver Malkolm',\n",
       " 'Fischer, Mr. Eberhard Thelander',\n",
       " 'Stranden, Mr. Juho',\n",
       " 'Graham, Miss. Margaret Edith',\n",
       " 'Sunderland, Mr. Victor Francis',\n",
       " 'Hold, Mr. Stephen',\n",
       " 'Newsom, Miss. Helen Monypeny',\n",
       " 'Zabour, Miss. Hileni',\n",
       " 'Ross, Mr. John Hugo',\n",
       " 'O\\'Leary, Miss. Hanora \"Norah\"',\n",
       " 'Ahlin, Mrs. Johan (Johanna Persdotter Larsson)',\n",
       " 'Sivic, Mr. Husein',\n",
       " 'Johanson, Mr. Jakob Alfred',\n",
       " 'Penasco y Castellana, Mrs. Victor de Satode (Maria Josefa Perez de Soto y Vallejo)',\n",
       " 'Carbines, Mr. William',\n",
       " 'Nysveen, Mr. Johan Hansen',\n",
       " 'Smart, Mr. John Montgomery',\n",
       " 'LeRoy, Miss. Bertha',\n",
       " 'Ilett, Miss. Bertha',\n",
       " 'Jensen, Mr. Svend Lauritz',\n",
       " 'Brewe, Dr. Arthur Jackson',\n",
       " 'Andersen-Jensen, Miss. Carla Christine Nielsine',\n",
       " 'Jarvis, Mr. John Denzil',\n",
       " 'Doharr, Mr. Tannous',\n",
       " 'Burns, Miss. Elizabeth Margaret',\n",
       " 'Barbara, Miss. Saiide',\n",
       " 'Carrau, Mr. Francisco M',\n",
       " 'Yousif, Mr. Wazli',\n",
       " 'McCarthy, Mr. Timothy J',\n",
       " 'Bowerman, Miss. Elsie Edith',\n",
       " 'Soholt, Mr. Peter Andreas Lauritz Andersen',\n",
       " 'Richard, Mr. Emile',\n",
       " 'Dorking, Mr. Edward Arthur',\n",
       " 'Touma, Mrs. Darwis (Hanne Youssef Razi)',\n",
       " 'Doling, Mrs. John T (Ada Julia Bone)',\n",
       " 'Kiernan, Mr. Philip',\n",
       " 'Andersson, Miss. Erna Alexandra',\n",
       " 'Knight, Mr. Robert J',\n",
       " 'Harris, Mr. Henry Birkhardt',\n",
       " 'Cohen, Mr. Gurshon \"Gus\"',\n",
       " 'Sandstrom, Mrs. Hjalmar (Agnes Charlotta Bengtsson)',\n",
       " 'Barton, Mr. David John',\n",
       " 'Charters, Mr. David',\n",
       " 'Heininen, Miss. Wendla Maria',\n",
       " 'Ball, Mrs. (Ada E Hall)',\n",
       " 'Hamalainen, Master. Viljo',\n",
       " 'Gillespie, Mr. William Henry',\n",
       " 'Fleming, Miss. Margaret',\n",
       " 'Johnson, Mr. William Cahoone Jr',\n",
       " 'Moore, Mr. Leonard Charles',\n",
       " 'Olsson, Miss. Elina',\n",
       " 'Laleff, Mr. Kristo',\n",
       " 'Hakkarainen, Mr. Pekka Pietari',\n",
       " 'Slemen, Mr. Richard James',\n",
       " 'Elias, Mr. Tannous',\n",
       " 'Marvin, Mr. Daniel Warner',\n",
       " 'Lulic, Mr. Nikola',\n",
       " 'Andrews, Mr. Thomas Jr',\n",
       " 'Bourke, Mrs. John (Catherine)',\n",
       " 'Yousseff, Mr. Gerious',\n",
       " 'Blackwell, Mr. Stephen Weart',\n",
       " 'Drazenoic, Mr. Jozef',\n",
       " 'Perkin, Mr. John Henry',\n",
       " 'Palsson, Master. Gosta Leonard',\n",
       " 'Troupiansky, Mr. Moses Aaron',\n",
       " 'Farrell, Mr. James',\n",
       " 'Fox, Mr. Stanley Hubert',\n",
       " 'Goldenberg, Mrs. Samuel L (Edwiga Grabowska)',\n",
       " 'Seward, Mr. Frederic Kimber',\n",
       " 'Beesley, Mr. Lawrence',\n",
       " 'Faunthorpe, Mrs. Lizzie (Elizabeth Anne Wilkinson)',\n",
       " 'Wilhelms, Mr. Charles',\n",
       " 'Ibrahim Shawah, Mr. Yousseff',\n",
       " 'O\\'Dwyer, Miss. Ellen \"Nellie\"',\n",
       " 'Leinonen, Mr. Antti Gustaf',\n",
       " 'Ohman, Miss. Velin',\n",
       " 'Mangan, Miss. Mary',\n",
       " 'Asplund, Master. Clarence Gustaf Hugo',\n",
       " 'Parrish, Mrs. (Lutie Davis)',\n",
       " 'Lindblom, Miss. Augusta Charlotta',\n",
       " 'Calic, Mr. Jovo',\n",
       " 'Baclini, Miss. Helene Barbara',\n",
       " 'Chibnall, Mrs. (Edith Martha Bowerman)',\n",
       " 'Moubarek, Master. Halim Gonios (\"William George\")',\n",
       " 'Strom, Mrs. Wilhelm (Elna Matilda Persson)',\n",
       " 'Homer, Mr. Harry (\"Mr E Haven\")',\n",
       " 'Rouse, Mr. Richard Henry',\n",
       " 'Backstrom, Mrs. Karl Alfred (Maria Mathilda Gustafsson)',\n",
       " 'Bourke, Miss. Mary',\n",
       " 'Turcin, Mr. Stjepan',\n",
       " 'Ringhini, Mr. Sante',\n",
       " 'Barah, Mr. Hanna Assi',\n",
       " 'Watt, Mrs. James (Elizabeth \"Bessie\" Inglis Milne)',\n",
       " 'Taussig, Miss. Ruth',\n",
       " 'Rice, Master. Eugene',\n",
       " 'Zabour, Miss. Thamine',\n",
       " 'Sedgwick, Mr. Charles Frederick Waddington',\n",
       " 'Karlsson, Mr. Nils August',\n",
       " 'Cor, Mr. Liudevit',\n",
       " 'Davison, Mrs. Thomas Henry (Mary E Finck)',\n",
       " 'Stanley, Mr. Edward Roland',\n",
       " 'Danbom, Mrs. Ernst Gilbert (Anna Sigrid Maria Brogren)',\n",
       " 'Brown, Mrs. James Joseph (Margaret Tobin)',\n",
       " 'Cherry, Miss. Gladys',\n",
       " 'Sharp, Mr. Percival James R',\n",
       " 'Levy, Mr. Rene Jacques',\n",
       " 'Bowen, Mr. David John \"Dai\"',\n",
       " 'Van Impe, Mrs. Jean Baptiste (Rosalie Paula Govaert)',\n",
       " 'Davis, Miss. Mary',\n",
       " 'Mellinger, Mrs. (Elizabeth Anne Maidment)',\n",
       " 'West, Mrs. Edwy Arthur (Ada Mary Worth)',\n",
       " 'Millet, Mr. Francis Davis',\n",
       " 'Wick, Miss. Mary Natalie',\n",
       " 'Futrelle, Mr. Jacques Heath',\n",
       " 'Trout, Mrs. William H (Jessie L)',\n",
       " 'Nenkoff, Mr. Christo',\n",
       " 'Rice, Master. Eric',\n",
       " 'Duane, Mr. Frank',\n",
       " 'Lam, Mr. Ali',\n",
       " 'Wiseman, Mr. Phillippe',\n",
       " 'West, Mr. Edwy Arthur',\n",
       " 'Gilinski, Mr. Eliezer',\n",
       " 'Dick, Mr. Albert Adrian',\n",
       " 'Van Impe, Mr. Jean Baptiste',\n",
       " 'Nakid, Miss. Maria (\"Mary\")',\n",
       " 'Goodwin, Master. Harold Victor',\n",
       " 'Coleff, Mr. Satio',\n",
       " 'Andersson, Miss. Ingeborg Constanzia',\n",
       " 'Cann, Mr. Ernest Charles',\n",
       " 'Lahoud, Mr. Sarkis',\n",
       " 'Cook, Mr. Jacob',\n",
       " 'Johnson, Mr. Malkolm Joackim',\n",
       " 'Hale, Mr. Reginald',\n",
       " 'Hirvonen, Miss. Hildur E',\n",
       " 'Barkworth, Mr. Algernon Henry Wilson',\n",
       " 'Hart, Mr. Benjamin',\n",
       " 'Sawyer, Mr. Frederick Charles',\n",
       " 'Spencer, Mrs. William Augustus (Marie Eugenie)',\n",
       " 'Slayter, Miss. Hilda Mary',\n",
       " 'Rice, Master. George Hugh',\n",
       " 'Honkanen, Miss. Eliina',\n",
       " 'Mudd, Mr. Thomas Charles',\n",
       " 'Mellinger, Miss. Madeleine Violet',\n",
       " 'Thorneycroft, Mr. Percival',\n",
       " 'Long, Mr. Milton Clyde',\n",
       " 'Nakid, Mr. Sahid',\n",
       " 'Lemberopolous, Mr. Peter L',\n",
       " 'Appleton, Mrs. Edward Dale (Charlotte Lamson)',\n",
       " 'Strandberg, Miss. Ida Sofia',\n",
       " 'Davies, Mr. Charles Henry',\n",
       " 'Rintamaki, Mr. Matti',\n",
       " 'Salkjelsvik, Miss. Anna Kristine',\n",
       " 'Chronopoulos, Mr. Apostolos',\n",
       " 'Fry, Mr. Richard',\n",
       " 'Christmann, Mr. Emil',\n",
       " 'Laroche, Miss. Simonne Marie Anne Andree',\n",
       " 'Jensen, Mr. Niels Peder',\n",
       " 'Matthews, Mr. William John',\n",
       " 'Sage, Master. Thomas Henry',\n",
       " 'Hanna, Mr. Mansour',\n",
       " 'Berglund, Mr. Karl Ivar Sven',\n",
       " 'Panula, Mr. Ernesti Arvid',\n",
       " 'Buss, Miss. Kate',\n",
       " 'Johnston, Mr. Andrew G',\n",
       " 'Sage, Mr. George John Jr',\n",
       " 'Gustafsson, Mr. Alfred Ossian',\n",
       " 'Stewart, Mr. Albert A',\n",
       " 'Cleaver, Miss. Alice',\n",
       " 'Sjostedt, Mr. Ernst Adolf',\n",
       " 'Cavendish, Mr. Tyrell William',\n",
       " 'Saad, Mr. Amin',\n",
       " 'Panula, Mr. Jaako Arnold',\n",
       " 'Coleff, Mr. Peju',\n",
       " 'Turja, Miss. Anna Sofia',\n",
       " 'Compton, Miss. Sara Rebecca',\n",
       " 'van Melkebeke, Mr. Philemon',\n",
       " 'Richards, Mrs. Sidney (Emily Hocking)',\n",
       " 'McCoy, Mr. Bernard',\n",
       " 'Sandstrom, Miss. Marguerite Rut',\n",
       " 'Coutts, Master. William Loch \"William\"',\n",
       " 'Warren, Mrs. Frank Manley (Anna Sophia Atkinson)',\n",
       " 'Bjornstrom-Steffansson, Mr. Mauritz Hakan',\n",
       " 'Hocking, Mr. Richard George',\n",
       " 'Healy, Miss. Hanora \"Nora\"',\n",
       " 'Tobin, Mr. Roger',\n",
       " 'Petroff, Mr. Nedelio',\n",
       " 'Goldenberg, Mr. Samuel L',\n",
       " 'Hawksford, Mr. Walter James',\n",
       " 'Mack, Mrs. (Mary)',\n",
       " 'Humblen, Mr. Adolf Mathias Nicolai Olsen',\n",
       " 'Dean, Mr. Bertram Frank',\n",
       " 'Sagesser, Mlle. Emma',\n",
       " 'Klaber, Mr. Herman',\n",
       " 'Jussila, Mr. Eiriik',\n",
       " 'Asplund, Master. Edvin Rojj Felix',\n",
       " 'Jalsevac, Mr. Ivan',\n",
       " 'Youseff, Mr. Gerious',\n",
       " 'Anderson, Mr. Harry',\n",
       " 'Vestrom, Miss. Hulda Amanda Adolfina',\n",
       " 'Petroff, Mr. Pastcho (\"Pentcho\")',\n",
       " 'Rothschild, Mrs. Martin (Elizabeth L. Barrett)',\n",
       " 'Weisz, Mrs. Leopold (Mathilde Francoise Pede)',\n",
       " 'Slocovski, Mr. Selman Francis',\n",
       " 'Greenfield, Mr. William Bertram',\n",
       " 'Sirayanian, Mr. Orsen',\n",
       " 'Graham, Mr. George Edward',\n",
       " 'Reynaldo, Ms. Encarnacion',\n",
       " 'Renouf, Mr. Peter Henry',\n",
       " 'Garfirth, Mr. John',\n",
       " 'Ali, Mr. Ahmed',\n",
       " 'Sage, Miss. Dorothy Edith \"Dolly\"',\n",
       " 'Windelov, Mr. Einar',\n",
       " 'Bishop, Mrs. Dickinson H (Helen Walton)',\n",
       " 'Mannion, Miss. Margareth',\n",
       " 'Celotti, Mr. Francesco',\n",
       " 'Bryhl, Mr. Kurt Arnold Gottfrid',\n",
       " 'Fortune, Mr. Mark',\n",
       " 'Williams, Mr. Charles Duane',\n",
       " 'Collyer, Mrs. Harvey (Charlotte Annie Tate)',\n",
       " 'Novel, Mr. Mansouer',\n",
       " 'Karaic, Mr. Milan',\n",
       " 'Jussila, Miss. Mari Aina',\n",
       " 'Rekic, Mr. Tido',\n",
       " 'Skoog, Master. Karl Thorsten',\n",
       " 'Asplund, Miss. Lillian Gertrud',\n",
       " 'Silven, Miss. Lyyli Karoliina',\n",
       " 'Hickman, Mr. Leonard Mark',\n",
       " 'Lefebre, Miss. Mathilde',\n",
       " 'Boulos, Mrs. Joseph (Sultana)',\n",
       " 'Panula, Mrs. Juha (Maria Emilia Ojala)',\n",
       " 'Meyer, Mr. Edgar Joseph',\n",
       " 'Gee, Mr. Arthur H',\n",
       " 'Davies, Mr. Alfred J',\n",
       " 'Palsson, Mrs. Nils (Alma Cornelia Berglund)',\n",
       " 'Keefe, Mr. Arthur',\n",
       " 'Nye, Mrs. (Elizabeth Ramell)',\n",
       " 'Abbott, Mr. Rossmore Edward',\n",
       " 'Cunningham, Mr. Alfred Fleming',\n",
       " 'Cribb, Mr. John Hatfield',\n",
       " 'Leeni, Mr. Fahim (\"Philip Zenni\")',\n",
       " 'Naidenoff, Mr. Penko',\n",
       " 'Kilgannon, Mr. Thomas J',\n",
       " 'Navratil, Master. Michel M',\n",
       " 'Pernot, Mr. Rene',\n",
       " 'Vander Planke, Mrs. Julius (Emelia Maria Vandemoortele)',\n",
       " 'Kantor, Mr. Sinai',\n",
       " 'Adams, Mr. John',\n",
       " 'Guggenheim, Mr. Benjamin',\n",
       " 'Rood, Mr. Hugh Roscoe',\n",
       " 'Mineff, Mr. Ivan',\n",
       " 'Kelly, Miss. Anna Katherine \"Annie Kate\"',\n",
       " 'Harper, Mrs. Henry Sleeper (Myna Haxtun)',\n",
       " 'Colley, Mr. Edward Pomeroy',\n",
       " 'Madill, Miss. Georgette Alexandra',\n",
       " 'Arnold-Franchi, Mrs. Josef (Josefine Franchi)',\n",
       " 'Hegarty, Miss. Hanora \"Nora\"',\n",
       " 'Skoog, Mrs. William (Anna Bernhardina Karlsson)',\n",
       " 'Byles, Rev. Thomas Roussel Davids',\n",
       " 'Norman, Mr. Robert Douglas',\n",
       " 'Laroche, Mr. Joseph Philippe Lemercier',\n",
       " 'Montvila, Rev. Juozas',\n",
       " 'Weir, Col. John',\n",
       " 'Yasbeck, Mrs. Antoni (Selini Alexander)',\n",
       " 'Leyson, Mr. Robert William Norman',\n",
       " 'Peuchen, Major. Arthur Godfrey',\n",
       " 'de Mulder, Mr. Theodore',\n",
       " 'Francatelli, Miss. Laura Mabel',\n",
       " 'Rommetvedt, Mr. Knud Paust',\n",
       " 'Frolicher, Miss. Hedwig Margaritha',\n",
       " 'Lewy, Mr. Ervin G',\n",
       " 'Hocking, Mrs. Elizabeth (Eliza Needs)',\n",
       " 'Plotcharsky, Mr. Vasil',\n",
       " 'Christy, Miss. Julie Rachel',\n",
       " 'Cumings, Mrs. John Bradley (Florence Briggs Thayer)',\n",
       " 'Calic, Mr. Petar',\n",
       " 'Greenberg, Mr. Samuel',\n",
       " 'Johannesen-Bratthammer, Mr. Bernt',\n",
       " 'Nicola-Yarred, Miss. Jamila',\n",
       " 'Lang, Mr. Fang',\n",
       " 'Flynn, Mr. John Irwin (\"Irving\")',\n",
       " 'Ostby, Mr. Engelhart Cornelius',\n",
       " 'Osman, Mrs. Mara',\n",
       " 'Abbing, Mr. Anthony',\n",
       " 'Alhomaki, Mr. Ilmari Rudolf',\n",
       " 'Asim, Mr. Adola',\n",
       " 'Robbins, Mr. Victor',\n",
       " 'Rice, Mrs. William (Margaret Norton)',\n",
       " 'Larsson, Mr. Bengt Edvin',\n",
       " 'Crosby, Miss. Harriet R',\n",
       " 'Harrington, Mr. Charles H',\n",
       " 'Ponesell, Mr. Martin',\n",
       " 'Turpin, Mr. William John Robert',\n",
       " 'Bazzani, Miss. Albina',\n",
       " 'Minahan, Dr. William Edward',\n",
       " 'Sobey, Mr. Samuel James Hayden',\n",
       " 'Skoog, Master. Harald',\n",
       " 'Pavlovic, Mr. Stefo',\n",
       " 'Astor, Mrs. John Jacob (Madeleine Talmadge Force)',\n",
       " 'Murphy, Miss. Margaret Jane',\n",
       " 'Natsch, Mr. Charles H',\n",
       " 'Peduzzi, Mr. Joseph',\n",
       " 'Albimona, Mr. Nassef Cassem',\n",
       " 'Johnson, Mrs. Oscar W (Elisabeth Vilhelmina Berg)',\n",
       " 'Goldsmith, Master. Frank John William \"Frankie\"',\n",
       " 'Meyer, Mr. August',\n",
       " 'Dimic, Mr. Jovan',\n",
       " 'Beckwith, Mr. Richard Leonard',\n",
       " 'Watson, Mr. Ennis Hastings',\n",
       " 'Birkeland, Mr. Hans Martin Monsen',\n",
       " 'McDermott, Miss. Brigdet Delia',\n",
       " 'Parkes, Mr. Francis \"Frank\"',\n",
       " 'Hood, Mr. Ambrose Jr',\n",
       " 'Razi, Mr. Raihed',\n",
       " 'Nicholls, Mr. Joseph Charles',\n",
       " 'Mitkoff, Mr. Mito',\n",
       " 'Dodge, Master. Washington',\n",
       " 'Lurette, Miss. Elise',\n",
       " 'Ryan, Mr. Patrick',\n",
       " 'Kalvik, Mr. Johannes Halvorsen',\n",
       " 'Johnson, Master. Harold Theodor',\n",
       " 'Harper, Rev. John',\n",
       " 'Bishop, Mr. Dickinson H',\n",
       " 'Osen, Mr. Olaf Elon',\n",
       " 'Andersson, Master. Sigvard Harald Elias',\n",
       " 'Vander Cruyssen, Mr. Victor',\n",
       " 'Dooley, Mr. Patrick',\n",
       " 'Wick, Mrs. George Dennick (Mary Hitchcock)',\n",
       " 'Hansen, Mr. Henrik Juul',\n",
       " 'Webber, Miss. Susan',\n",
       " 'Turkula, Mrs. (Hedwig)',\n",
       " 'Elias, Mr. Dibo',\n",
       " 'Backstrom, Mr. Karl Alfred',\n",
       " 'Hoyt, Mr. William Fisher',\n",
       " 'Meanwell, Miss. (Marion Ogden)',\n",
       " 'White, Mr. Richard Frasar',\n",
       " 'Goldsmith, Mrs. Frank John (Emily Alice Brown)',\n",
       " 'Reeves, Mr. David',\n",
       " 'Cameron, Miss. Clear Annie',\n",
       " 'Jacobsohn, Mr. Sidney Samuel',\n",
       " 'Duff Gordon, Sir. Cosmo Edmund (\"Mr Morgan\")',\n",
       " 'Morley, Mr. William',\n",
       " 'Pasic, Mr. Jakob',\n",
       " 'Ford, Mr. William Neal',\n",
       " 'Ali, Mr. William',\n",
       " 'Carr, Miss. Helen \"Ellen\"',\n",
       " 'Fahlstrom, Mr. Arne Jonas',\n",
       " 'Bonnell, Miss. Elizabeth',\n",
       " 'Hunt, Mr. George Henry',\n",
       " 'Moran, Miss. Bertha',\n",
       " 'Sage, Miss. Constance Gladys',\n",
       " 'Abbott, Mrs. Stanton (Rosa Hunt)',\n",
       " 'Kenyon, Mrs. Frederick R (Marion)',\n",
       " 'Nasser, Mr. Nicholas',\n",
       " 'Nysten, Miss. Anna Sofia',\n",
       " 'Lennon, Mr. Denis',\n",
       " 'Olsvigen, Mr. Thor Anderson',\n",
       " 'Wright, Mr. George',\n",
       " 'Widegren, Mr. Carl/Charles Peter',\n",
       " 'Gaskell, Mr. Alfred',\n",
       " 'Thayer, Mr. John Borland Jr',\n",
       " 'Ford, Miss. Doolina Margaret \"Daisy\"',\n",
       " 'Dahl, Mr. Karl Edwart',\n",
       " 'Panula, Master. Eino Viljami',\n",
       " 'Downton, Mr. William James',\n",
       " 'Campbell, Mr. William',\n",
       " 'Pears, Mrs. Thomas (Edith Wearne)',\n",
       " 'Culumovic, Mr. Jeso',\n",
       " 'Danoff, Mr. Yoto',\n",
       " 'Swift, Mrs. Frederick Joel (Margaret Welles Barron)',\n",
       " 'Mernagh, Mr. Robert',\n",
       " 'Tomlin, Mr. Ernest Portage',\n",
       " 'Woolner, Mr. Hugh',\n",
       " 'Connaghton, Mr. Michael',\n",
       " 'Dowdell, Miss. Elizabeth',\n",
       " 'Ryerson, Miss. Emily Borie',\n",
       " 'Burke, Mr. Jeremiah',\n",
       " 'White, Mr. Percival Wayland',\n",
       " 'Fortune, Mr. Charles Alexander',\n",
       " 'Becker, Master. Richard F',\n",
       " 'Haas, Miss. Aloisia',\n",
       " 'Ward, Miss. Anna',\n",
       " 'Flynn, Mr. John',\n",
       " 'Andreasson, Mr. Paul Edvin',\n",
       " 'Hoyt, Mr. Frederick Maxfield',\n",
       " 'Quick, Miss. Phyllis May',\n",
       " 'Baclini, Mrs. Solomon (Latifa Qurban)',\n",
       " 'Harper, Mr. Henry Sleeper',\n",
       " 'Morley, Mr. Henry Samuel (\"Mr Henry Marshall\")',\n",
       " 'Navratil, Mr. Michel (\"Louis M Hoffman\")',\n",
       " 'Tornquist, Mr. William Henry',\n",
       " 'Petterson, Mr. Johan Emil',\n",
       " 'Baumann, Mr. John D',\n",
       " 'Parr, Mr. William Henry Marsh',\n",
       " 'Collander, Mr. Erik Gustaf',\n",
       " 'Porter, Mr. Walter Chamberlain',\n",
       " 'Gavey, Mr. Lawrence',\n",
       " 'Marechal, Mr. Pierre',\n",
       " 'Dantcheff, Mr. Ristiu',\n",
       " 'Slabenoff, Mr. Petco',\n",
       " 'Lefebre, Miss. Jeannie',\n",
       " 'Chip, Mr. Chang',\n",
       " 'Rice, Master. Arthur',\n",
       " 'Sage, Mr. Douglas Bullen',\n",
       " 'Keane, Miss. Nora A',\n",
       " 'Strom, Miss. Telma Matilda',\n",
       " 'Baxter, Mrs. James (Helene DeLaudeniere Chaput)',\n",
       " 'Jerwan, Mrs. Amin S (Marie Marthe Thuillard)',\n",
       " 'Foreman, Mr. Benjamin Laventall',\n",
       " 'Johnston, Miss. Catherine Helen \"Carrie\"',\n",
       " 'Betros, Mr. Tannous',\n",
       " 'Daniel, Mr. Robert Williams',\n",
       " 'Moen, Mr. Sigurd Hansen',\n",
       " 'Simmons, Mr. John',\n",
       " 'Danbom, Mr. Ernst Gilbert',\n",
       " 'Ling, Mr. Lee',\n",
       " 'Gustafsson, Mr. Johan Birger',\n",
       " 'Andersson, Mr. Anders Johan',\n",
       " 'Baclini, Miss. Eugenie',\n",
       " 'Bing, Mr. Lee',\n",
       " 'Kirkland, Rev. Charles Leonard',\n",
       " 'Nirva, Mr. Iisakki Antino Aijo',\n",
       " 'Gill, Mr. John William',\n",
       " 'Brown, Mrs. Thomas William Solomon (Elizabeth Catherine Ford)',\n",
       " 'Giglio, Mr. Victor',\n",
       " 'McGovern, Miss. Mary',\n",
       " 'Lehmann, Miss. Bertha',\n",
       " 'Waelens, Mr. Achille',\n",
       " 'Milling, Mr. Jacob Christian',\n",
       " 'Larsson, Mr. August Viktor',\n",
       " 'Stoytcheff, Mr. Ilia',\n",
       " 'Behr, Mr. Karl Howell',\n",
       " \"O'Driscoll, Miss. Bridget\",\n",
       " 'Shorney, Mr. Charles Joseph',\n",
       " 'Svensson, Mr. Johan',\n",
       " 'Frost, Mr. Anthony Wood \"Archie\"',\n",
       " 'Taylor, Mr. Elmer Zebley',\n",
       " 'Morrow, Mr. Thomas Rowan',\n",
       " 'Newell, Miss. Madeleine',\n",
       " 'Henry, Miss. Delia',\n",
       " 'Scanlan, Mr. James',\n",
       " 'Emanuel, Miss. Virginia Ethel',\n",
       " 'Karun, Miss. Manca',\n",
       " 'Mallet, Mr. Albert',\n",
       " 'Allison, Mrs. Hudson J C (Bessie Waldo Daniels)',\n",
       " 'Duran y More, Miss. Asuncion',\n",
       " 'Rogers, Mr. William John']"
      ]
     },
     "execution_count": 203,
     "metadata": {},
     "output_type": "execute_result"
    }
   ],
   "source": [
    "list(set(titan.Name))"
   ]
  },
  {
   "cell_type": "code",
   "execution_count": 204,
   "metadata": {},
   "outputs": [
    {
     "data": {
      "text/plain": [
       "891"
      ]
     },
     "execution_count": 204,
     "metadata": {},
     "output_type": "execute_result"
    }
   ],
   "source": [
    "titan.Name.nunique()"
   ]
  },
  {
   "cell_type": "code",
   "execution_count": 205,
   "metadata": {},
   "outputs": [
    {
     "data": {
      "text/plain": [
       "['female', 'male']"
      ]
     },
     "execution_count": 205,
     "metadata": {},
     "output_type": "execute_result"
    }
   ],
   "source": [
    "list(set(titan.Sex))"
   ]
  },
  {
   "cell_type": "code",
   "execution_count": 206,
   "metadata": {},
   "outputs": [
    {
     "data": {
      "text/plain": [
       "681"
      ]
     },
     "execution_count": 206,
     "metadata": {},
     "output_type": "execute_result"
    }
   ],
   "source": [
    "titan.Ticket.nunique()"
   ]
  },
  {
   "cell_type": "code",
   "execution_count": 207,
   "metadata": {},
   "outputs": [
    {
     "data": {
      "text/plain": [
       "[nan,\n",
       " 'C110',\n",
       " 'E63',\n",
       " 'E34',\n",
       " 'E121',\n",
       " 'E17',\n",
       " 'C101',\n",
       " 'B101',\n",
       " 'B58 B60',\n",
       " 'B71',\n",
       " 'E8',\n",
       " 'F2',\n",
       " 'E46',\n",
       " 'C54',\n",
       " 'C46',\n",
       " 'C126',\n",
       " 'A7',\n",
       " 'C7',\n",
       " 'E67',\n",
       " 'C91',\n",
       " 'B50',\n",
       " 'D35',\n",
       " 'B49',\n",
       " 'D7',\n",
       " 'A31',\n",
       " 'A32',\n",
       " 'E40',\n",
       " 'D49',\n",
       " 'A16',\n",
       " 'B3',\n",
       " 'B37',\n",
       " 'C47',\n",
       " 'C2',\n",
       " 'D19',\n",
       " 'B69',\n",
       " 'B82 B84',\n",
       " 'C32',\n",
       " 'D20',\n",
       " 'C82',\n",
       " 'E101',\n",
       " 'B96 B98',\n",
       " 'D21',\n",
       " 'C99',\n",
       " 'C95',\n",
       " 'B20',\n",
       " 'C125',\n",
       " 'T',\n",
       " 'D33',\n",
       " 'D47',\n",
       " 'A10',\n",
       " 'D37',\n",
       " 'B35',\n",
       " 'D17',\n",
       " 'B79',\n",
       " 'F G73',\n",
       " 'A34',\n",
       " 'C123',\n",
       " 'C68',\n",
       " 'C103',\n",
       " 'D6',\n",
       " 'C50',\n",
       " 'D10 D12',\n",
       " 'F4',\n",
       " 'C104',\n",
       " 'B41',\n",
       " 'C118',\n",
       " 'E24',\n",
       " 'C78',\n",
       " 'B73',\n",
       " 'A36',\n",
       " 'C70',\n",
       " 'D50',\n",
       " 'G6',\n",
       " 'B94',\n",
       " 'C87',\n",
       " 'D15',\n",
       " 'E10',\n",
       " 'C148',\n",
       " 'A5',\n",
       " 'A23',\n",
       " 'E77',\n",
       " 'B86',\n",
       " 'C23 C25 C27',\n",
       " 'D36',\n",
       " 'B18',\n",
       " 'A14',\n",
       " 'C86',\n",
       " 'B102',\n",
       " 'A24',\n",
       " 'F38',\n",
       " 'B57 B59 B63 B66',\n",
       " 'C124',\n",
       " 'A19',\n",
       " 'B77',\n",
       " 'C128',\n",
       " 'E49',\n",
       " 'B80',\n",
       " 'D45',\n",
       " 'D48',\n",
       " 'B4',\n",
       " 'C93',\n",
       " 'C62 C64',\n",
       " 'F E69',\n",
       " 'E25',\n",
       " 'C65',\n",
       " 'D30',\n",
       " 'D11',\n",
       " 'A20',\n",
       " 'D9',\n",
       " 'B22',\n",
       " 'B5',\n",
       " 'C90',\n",
       " 'B51 B53 B55',\n",
       " 'E38',\n",
       " 'E58',\n",
       " 'C83',\n",
       " 'E33',\n",
       " 'D46',\n",
       " 'D26',\n",
       " 'F G63',\n",
       " 'D28',\n",
       " 'C45',\n",
       " 'A26',\n",
       " 'B39',\n",
       " 'B78',\n",
       " 'C92',\n",
       " 'C22 C26',\n",
       " 'C30',\n",
       " 'B42',\n",
       " 'B28',\n",
       " 'C85',\n",
       " 'C52',\n",
       " 'E31',\n",
       " 'C111',\n",
       " 'E36',\n",
       " 'E50',\n",
       " 'A6',\n",
       " 'E44',\n",
       " 'E12',\n",
       " 'C106',\n",
       " 'D56',\n",
       " 'F33',\n",
       " 'B19',\n",
       " 'D',\n",
       " 'B30',\n",
       " 'B38',\n",
       " 'E68',\n",
       " 'C49']"
      ]
     },
     "execution_count": 207,
     "metadata": {},
     "output_type": "execute_result"
    }
   ],
   "source": [
    "list(set(titan.Cabin))"
   ]
  },
  {
   "cell_type": "code",
   "execution_count": 208,
   "metadata": {},
   "outputs": [
    {
     "data": {
      "text/plain": [
       "147"
      ]
     },
     "execution_count": 208,
     "metadata": {},
     "output_type": "execute_result"
    }
   ],
   "source": [
    "titan.Cabin.nunique()"
   ]
  },
  {
   "cell_type": "code",
   "execution_count": 209,
   "metadata": {},
   "outputs": [
    {
     "data": {
      "text/plain": [
       "3"
      ]
     },
     "execution_count": 209,
     "metadata": {},
     "output_type": "execute_result"
    }
   ],
   "source": [
    "titan.Embarked.nunique()"
   ]
  },
  {
   "cell_type": "code",
   "execution_count": 210,
   "metadata": {},
   "outputs": [
    {
     "data": {
      "text/plain": [
       "array(['S', 'C', 'Q', nan], dtype=object)"
      ]
     },
     "execution_count": 210,
     "metadata": {},
     "output_type": "execute_result"
    }
   ],
   "source": [
    "titan.Embarked.unique()"
   ]
  },
  {
   "cell_type": "code",
   "execution_count": 211,
   "metadata": {},
   "outputs": [
    {
     "data": {
      "text/plain": [
       "[nan, 'S', 'Q', 'C']"
      ]
     },
     "execution_count": 211,
     "metadata": {},
     "output_type": "execute_result"
    }
   ],
   "source": [
    "list(set(titan.Embarked))"
   ]
  },
  {
   "cell_type": "code",
   "execution_count": 212,
   "metadata": {},
   "outputs": [
    {
     "data": {
      "text/plain": [
       "S    644\n",
       "C    168\n",
       "Q     77\n",
       "Name: Embarked, dtype: int64"
      ]
     },
     "execution_count": 212,
     "metadata": {},
     "output_type": "execute_result"
    }
   ],
   "source": [
    "titan.Embarked.value_counts()"
   ]
  },
  {
   "cell_type": "code",
   "execution_count": 213,
   "metadata": {},
   "outputs": [
    {
     "data": {
      "text/plain": [
       "male      577\n",
       "female    314\n",
       "Name: Sex, dtype: int64"
      ]
     },
     "execution_count": 213,
     "metadata": {},
     "output_type": "execute_result"
    }
   ],
   "source": [
    "titan.Sex.value_counts()"
   ]
  },
  {
   "cell_type": "code",
   "execution_count": 214,
   "metadata": {},
   "outputs": [
    {
     "data": {
      "text/plain": [
       "C23 C25 C27    4\n",
       "G6             4\n",
       "B96 B98        4\n",
       "D              3\n",
       "E101           3\n",
       "              ..\n",
       "D46            1\n",
       "C95            1\n",
       "C30            1\n",
       "B42            1\n",
       "C110           1\n",
       "Name: Cabin, Length: 147, dtype: int64"
      ]
     },
     "execution_count": 214,
     "metadata": {},
     "output_type": "execute_result"
    }
   ],
   "source": [
    "titan.Cabin.value_counts()"
   ]
  },
  {
   "cell_type": "code",
   "execution_count": 215,
   "metadata": {},
   "outputs": [
    {
     "data": {
      "text/plain": [
       "CA. 2343     7\n",
       "347082       7\n",
       "1601         7\n",
       "3101295      6\n",
       "CA 2144      6\n",
       "            ..\n",
       "A/4 45380    1\n",
       "112050       1\n",
       "PC 17605     1\n",
       "315037       1\n",
       "374887       1\n",
       "Name: Ticket, Length: 681, dtype: int64"
      ]
     },
     "execution_count": 215,
     "metadata": {},
     "output_type": "execute_result"
    }
   ],
   "source": [
    "titan.Ticket.value_counts()"
   ]
  },
  {
   "cell_type": "code",
   "execution_count": 216,
   "metadata": {},
   "outputs": [
    {
     "data": {
      "text/plain": [
       "0        1601\n",
       "1      347082\n",
       "2    CA. 2343\n",
       "dtype: object"
      ]
     },
     "execution_count": 216,
     "metadata": {},
     "output_type": "execute_result"
    }
   ],
   "source": [
    "titan.Ticket.mode()"
   ]
  },
  {
   "cell_type": "code",
   "execution_count": 217,
   "metadata": {},
   "outputs": [
    {
     "data": {
      "text/plain": [
       "0        B96 B98\n",
       "1    C23 C25 C27\n",
       "2             G6\n",
       "dtype: object"
      ]
     },
     "execution_count": 217,
     "metadata": {},
     "output_type": "execute_result"
    }
   ],
   "source": [
    "titan.Cabin.mode()"
   ]
  },
  {
   "cell_type": "code",
   "execution_count": 218,
   "metadata": {},
   "outputs": [
    {
     "data": {
      "text/plain": [
       "0    S\n",
       "dtype: object"
      ]
     },
     "execution_count": 218,
     "metadata": {},
     "output_type": "execute_result"
    }
   ],
   "source": [
    "titan.Embarked.mode()"
   ]
  },
  {
   "cell_type": "code",
   "execution_count": 219,
   "metadata": {},
   "outputs": [
    {
     "data": {
      "text/plain": [
       "3    491\n",
       "1    216\n",
       "2    184\n",
       "Name: Pclass, dtype: int64"
      ]
     },
     "execution_count": 219,
     "metadata": {},
     "output_type": "execute_result"
    }
   ],
   "source": [
    "titan.Pclass.value_counts()\n"
   ]
  },
  {
   "cell_type": "code",
   "execution_count": 220,
   "metadata": {},
   "outputs": [
    {
     "data": {
      "text/plain": [
       "male      577\n",
       "female    314\n",
       "Name: Sex, dtype: int64"
      ]
     },
     "execution_count": 220,
     "metadata": {},
     "output_type": "execute_result"
    }
   ],
   "source": [
    "titan.Sex.value_counts()"
   ]
  },
  {
   "cell_type": "code",
   "execution_count": 221,
   "metadata": {},
   "outputs": [
    {
     "data": {
      "text/plain": [
       "891"
      ]
     },
     "execution_count": 221,
     "metadata": {},
     "output_type": "execute_result"
    }
   ],
   "source": [
    "titan.Sex.count()"
   ]
  },
  {
   "cell_type": "code",
   "execution_count": 222,
   "metadata": {},
   "outputs": [
    {
     "data": {
      "text/plain": [
       "889"
      ]
     },
     "execution_count": 222,
     "metadata": {},
     "output_type": "execute_result"
    }
   ],
   "source": [
    "titan.Embarked.count()"
   ]
  },
  {
   "cell_type": "code",
   "execution_count": 223,
   "metadata": {},
   "outputs": [
    {
     "data": {
      "text/plain": [
       "S    644\n",
       "C    168\n",
       "Q     77\n",
       "Name: Embarked, dtype: int64"
      ]
     },
     "execution_count": 223,
     "metadata": {},
     "output_type": "execute_result"
    }
   ],
   "source": [
    "titan.Embarked.value_counts()"
   ]
  },
  {
   "cell_type": "code",
   "execution_count": 224,
   "metadata": {},
   "outputs": [
    {
     "data": {
      "text/plain": [
       "891"
      ]
     },
     "execution_count": 224,
     "metadata": {},
     "output_type": "execute_result"
    }
   ],
   "source": [
    "titan.Survived.count()"
   ]
  },
  {
   "cell_type": "code",
   "execution_count": 225,
   "metadata": {},
   "outputs": [
    {
     "data": {
      "text/plain": [
       "0    549\n",
       "1    342\n",
       "Name: Survived, dtype: int64"
      ]
     },
     "execution_count": 225,
     "metadata": {},
     "output_type": "execute_result"
    }
   ],
   "source": [
    "titan.Survived.value_counts()"
   ]
  },
  {
   "cell_type": "code",
   "execution_count": 226,
   "metadata": {},
   "outputs": [
    {
     "data": {
      "text/html": [
       "<div>\n",
       "<style scoped>\n",
       "    .dataframe tbody tr th:only-of-type {\n",
       "        vertical-align: middle;\n",
       "    }\n",
       "\n",
       "    .dataframe tbody tr th {\n",
       "        vertical-align: top;\n",
       "    }\n",
       "\n",
       "    .dataframe thead th {\n",
       "        text-align: right;\n",
       "    }\n",
       "</style>\n",
       "<table border=\"1\" class=\"dataframe\">\n",
       "  <thead>\n",
       "    <tr style=\"text-align: right;\">\n",
       "      <th></th>\n",
       "      <th>PassengerId</th>\n",
       "      <th>Survived</th>\n",
       "      <th>Pclass</th>\n",
       "      <th>Name</th>\n",
       "      <th>Sex</th>\n",
       "      <th>Age</th>\n",
       "      <th>SibSp</th>\n",
       "      <th>Parch</th>\n",
       "      <th>Ticket</th>\n",
       "      <th>Fare</th>\n",
       "      <th>Cabin</th>\n",
       "      <th>Embarked</th>\n",
       "    </tr>\n",
       "  </thead>\n",
       "  <tbody>\n",
       "    <tr>\n",
       "      <th>0</th>\n",
       "      <td>1</td>\n",
       "      <td>0</td>\n",
       "      <td>3</td>\n",
       "      <td>Braund, Mr. Owen Harris</td>\n",
       "      <td>male</td>\n",
       "      <td>22.0</td>\n",
       "      <td>1</td>\n",
       "      <td>0</td>\n",
       "      <td>A/5 21171</td>\n",
       "      <td>7.2500</td>\n",
       "      <td>NaN</td>\n",
       "      <td>S</td>\n",
       "    </tr>\n",
       "    <tr>\n",
       "      <th>1</th>\n",
       "      <td>2</td>\n",
       "      <td>1</td>\n",
       "      <td>1</td>\n",
       "      <td>Cumings, Mrs. John Bradley (Florence Briggs Th...</td>\n",
       "      <td>female</td>\n",
       "      <td>38.0</td>\n",
       "      <td>1</td>\n",
       "      <td>0</td>\n",
       "      <td>PC 17599</td>\n",
       "      <td>71.2833</td>\n",
       "      <td>C85</td>\n",
       "      <td>C</td>\n",
       "    </tr>\n",
       "    <tr>\n",
       "      <th>2</th>\n",
       "      <td>3</td>\n",
       "      <td>1</td>\n",
       "      <td>3</td>\n",
       "      <td>Heikkinen, Miss. Laina</td>\n",
       "      <td>female</td>\n",
       "      <td>26.0</td>\n",
       "      <td>0</td>\n",
       "      <td>0</td>\n",
       "      <td>STON/O2. 3101282</td>\n",
       "      <td>7.9250</td>\n",
       "      <td>NaN</td>\n",
       "      <td>S</td>\n",
       "    </tr>\n",
       "    <tr>\n",
       "      <th>3</th>\n",
       "      <td>4</td>\n",
       "      <td>1</td>\n",
       "      <td>1</td>\n",
       "      <td>Futrelle, Mrs. Jacques Heath (Lily May Peel)</td>\n",
       "      <td>female</td>\n",
       "      <td>35.0</td>\n",
       "      <td>1</td>\n",
       "      <td>0</td>\n",
       "      <td>113803</td>\n",
       "      <td>53.1000</td>\n",
       "      <td>C123</td>\n",
       "      <td>S</td>\n",
       "    </tr>\n",
       "    <tr>\n",
       "      <th>4</th>\n",
       "      <td>5</td>\n",
       "      <td>0</td>\n",
       "      <td>3</td>\n",
       "      <td>Allen, Mr. William Henry</td>\n",
       "      <td>male</td>\n",
       "      <td>35.0</td>\n",
       "      <td>0</td>\n",
       "      <td>0</td>\n",
       "      <td>373450</td>\n",
       "      <td>8.0500</td>\n",
       "      <td>NaN</td>\n",
       "      <td>S</td>\n",
       "    </tr>\n",
       "    <tr>\n",
       "      <th>5</th>\n",
       "      <td>6</td>\n",
       "      <td>0</td>\n",
       "      <td>3</td>\n",
       "      <td>Moran, Mr. James</td>\n",
       "      <td>male</td>\n",
       "      <td>NaN</td>\n",
       "      <td>0</td>\n",
       "      <td>0</td>\n",
       "      <td>330877</td>\n",
       "      <td>8.4583</td>\n",
       "      <td>NaN</td>\n",
       "      <td>Q</td>\n",
       "    </tr>\n",
       "    <tr>\n",
       "      <th>6</th>\n",
       "      <td>7</td>\n",
       "      <td>0</td>\n",
       "      <td>1</td>\n",
       "      <td>McCarthy, Mr. Timothy J</td>\n",
       "      <td>male</td>\n",
       "      <td>54.0</td>\n",
       "      <td>0</td>\n",
       "      <td>0</td>\n",
       "      <td>17463</td>\n",
       "      <td>51.8625</td>\n",
       "      <td>E46</td>\n",
       "      <td>S</td>\n",
       "    </tr>\n",
       "    <tr>\n",
       "      <th>7</th>\n",
       "      <td>8</td>\n",
       "      <td>0</td>\n",
       "      <td>3</td>\n",
       "      <td>Palsson, Master. Gosta Leonard</td>\n",
       "      <td>male</td>\n",
       "      <td>2.0</td>\n",
       "      <td>3</td>\n",
       "      <td>1</td>\n",
       "      <td>349909</td>\n",
       "      <td>21.0750</td>\n",
       "      <td>NaN</td>\n",
       "      <td>S</td>\n",
       "    </tr>\n",
       "    <tr>\n",
       "      <th>8</th>\n",
       "      <td>9</td>\n",
       "      <td>1</td>\n",
       "      <td>3</td>\n",
       "      <td>Johnson, Mrs. Oscar W (Elisabeth Vilhelmina Berg)</td>\n",
       "      <td>female</td>\n",
       "      <td>27.0</td>\n",
       "      <td>0</td>\n",
       "      <td>2</td>\n",
       "      <td>347742</td>\n",
       "      <td>11.1333</td>\n",
       "      <td>NaN</td>\n",
       "      <td>S</td>\n",
       "    </tr>\n",
       "    <tr>\n",
       "      <th>9</th>\n",
       "      <td>10</td>\n",
       "      <td>1</td>\n",
       "      <td>2</td>\n",
       "      <td>Nasser, Mrs. Nicholas (Adele Achem)</td>\n",
       "      <td>female</td>\n",
       "      <td>14.0</td>\n",
       "      <td>1</td>\n",
       "      <td>0</td>\n",
       "      <td>237736</td>\n",
       "      <td>30.0708</td>\n",
       "      <td>NaN</td>\n",
       "      <td>C</td>\n",
       "    </tr>\n",
       "  </tbody>\n",
       "</table>\n",
       "</div>"
      ],
      "text/plain": [
       "   PassengerId  Survived  Pclass  \\\n",
       "0            1         0       3   \n",
       "1            2         1       1   \n",
       "2            3         1       3   \n",
       "3            4         1       1   \n",
       "4            5         0       3   \n",
       "5            6         0       3   \n",
       "6            7         0       1   \n",
       "7            8         0       3   \n",
       "8            9         1       3   \n",
       "9           10         1       2   \n",
       "\n",
       "                                                Name     Sex   Age  SibSp  \\\n",
       "0                            Braund, Mr. Owen Harris    male  22.0      1   \n",
       "1  Cumings, Mrs. John Bradley (Florence Briggs Th...  female  38.0      1   \n",
       "2                             Heikkinen, Miss. Laina  female  26.0      0   \n",
       "3       Futrelle, Mrs. Jacques Heath (Lily May Peel)  female  35.0      1   \n",
       "4                           Allen, Mr. William Henry    male  35.0      0   \n",
       "5                                   Moran, Mr. James    male   NaN      0   \n",
       "6                            McCarthy, Mr. Timothy J    male  54.0      0   \n",
       "7                     Palsson, Master. Gosta Leonard    male   2.0      3   \n",
       "8  Johnson, Mrs. Oscar W (Elisabeth Vilhelmina Berg)  female  27.0      0   \n",
       "9                Nasser, Mrs. Nicholas (Adele Achem)  female  14.0      1   \n",
       "\n",
       "   Parch            Ticket     Fare Cabin Embarked  \n",
       "0      0         A/5 21171   7.2500   NaN        S  \n",
       "1      0          PC 17599  71.2833   C85        C  \n",
       "2      0  STON/O2. 3101282   7.9250   NaN        S  \n",
       "3      0            113803  53.1000  C123        S  \n",
       "4      0            373450   8.0500   NaN        S  \n",
       "5      0            330877   8.4583   NaN        Q  \n",
       "6      0             17463  51.8625   E46        S  \n",
       "7      1            349909  21.0750   NaN        S  \n",
       "8      2            347742  11.1333   NaN        S  \n",
       "9      0            237736  30.0708   NaN        C  "
      ]
     },
     "execution_count": 226,
     "metadata": {},
     "output_type": "execute_result"
    }
   ],
   "source": [
    "titan.head(10)"
   ]
  },
  {
   "cell_type": "code",
   "execution_count": 227,
   "metadata": {},
   "outputs": [],
   "source": [
    "titan1=titan[titan.Pclass==1]\n",
    "titan2=titan[titan.Pclass==2]\n",
    "titan3=titan[titan.Pclass==3]\n"
   ]
  },
  {
   "cell_type": "code",
   "execution_count": 228,
   "metadata": {},
   "outputs": [
    {
     "name": "stdout",
     "output_type": "stream",
     "text": [
      "     PassengerId  Survived  Pclass  \\\n",
      "1              2         1       1   \n",
      "3              4         1       1   \n",
      "6              7         0       1   \n",
      "11            12         1       1   \n",
      "23            24         1       1   \n",
      "..           ...       ...     ...   \n",
      "871          872         1       1   \n",
      "872          873         0       1   \n",
      "879          880         1       1   \n",
      "887          888         1       1   \n",
      "889          890         1       1   \n",
      "\n",
      "                                                  Name     Sex   Age  SibSp  \\\n",
      "1    Cumings, Mrs. John Bradley (Florence Briggs Th...  female  38.0      1   \n",
      "3         Futrelle, Mrs. Jacques Heath (Lily May Peel)  female  35.0      1   \n",
      "6                              McCarthy, Mr. Timothy J    male  54.0      0   \n",
      "11                            Bonnell, Miss. Elizabeth  female  58.0      0   \n",
      "23                        Sloper, Mr. William Thompson    male  28.0      0   \n",
      "..                                                 ...     ...   ...    ...   \n",
      "871   Beckwith, Mrs. Richard Leonard (Sallie Monypeny)  female  47.0      1   \n",
      "872                           Carlsson, Mr. Frans Olof    male  33.0      0   \n",
      "879      Potter, Mrs. Thomas Jr (Lily Alexenia Wilson)  female  56.0      0   \n",
      "887                       Graham, Miss. Margaret Edith  female  19.0      0   \n",
      "889                              Behr, Mr. Karl Howell    male  26.0      0   \n",
      "\n",
      "     Parch    Ticket     Fare        Cabin Embarked  \n",
      "1        0  PC 17599  71.2833          C85        C  \n",
      "3        0    113803  53.1000         C123        S  \n",
      "6        0     17463  51.8625          E46        S  \n",
      "11       0    113783  26.5500         C103        S  \n",
      "23       0    113788  35.5000           A6        S  \n",
      "..     ...       ...      ...          ...      ...  \n",
      "871      1     11751  52.5542          D35        S  \n",
      "872      0       695   5.0000  B51 B53 B55        S  \n",
      "879      1     11767  83.1583          C50        C  \n",
      "887      0    112053  30.0000          B42        S  \n",
      "889      0    111369  30.0000         C148        C  \n",
      "\n",
      "[216 rows x 12 columns]\n"
     ]
    }
   ],
   "source": [
    "print(titan1)"
   ]
  },
  {
   "cell_type": "code",
   "execution_count": 229,
   "metadata": {},
   "outputs": [
    {
     "data": {
      "text/html": [
       "<div>\n",
       "<style scoped>\n",
       "    .dataframe tbody tr th:only-of-type {\n",
       "        vertical-align: middle;\n",
       "    }\n",
       "\n",
       "    .dataframe tbody tr th {\n",
       "        vertical-align: top;\n",
       "    }\n",
       "\n",
       "    .dataframe thead th {\n",
       "        text-align: right;\n",
       "    }\n",
       "</style>\n",
       "<table border=\"1\" class=\"dataframe\">\n",
       "  <thead>\n",
       "    <tr style=\"text-align: right;\">\n",
       "      <th></th>\n",
       "      <th>PassengerId</th>\n",
       "      <th>Survived</th>\n",
       "      <th>Pclass</th>\n",
       "      <th>Age</th>\n",
       "      <th>SibSp</th>\n",
       "      <th>Parch</th>\n",
       "      <th>Fare</th>\n",
       "    </tr>\n",
       "  </thead>\n",
       "  <tbody>\n",
       "    <tr>\n",
       "      <th>PassengerId</th>\n",
       "      <td>1.000000</td>\n",
       "      <td>0.159824</td>\n",
       "      <td>NaN</td>\n",
       "      <td>-0.003969</td>\n",
       "      <td>-0.055167</td>\n",
       "      <td>-0.026157</td>\n",
       "      <td>-0.026348</td>\n",
       "    </tr>\n",
       "    <tr>\n",
       "      <th>Survived</th>\n",
       "      <td>0.159824</td>\n",
       "      <td>1.000000</td>\n",
       "      <td>NaN</td>\n",
       "      <td>-0.267964</td>\n",
       "      <td>0.162276</td>\n",
       "      <td>0.062565</td>\n",
       "      <td>0.190966</td>\n",
       "    </tr>\n",
       "    <tr>\n",
       "      <th>Pclass</th>\n",
       "      <td>NaN</td>\n",
       "      <td>NaN</td>\n",
       "      <td>NaN</td>\n",
       "      <td>NaN</td>\n",
       "      <td>NaN</td>\n",
       "      <td>NaN</td>\n",
       "      <td>NaN</td>\n",
       "    </tr>\n",
       "    <tr>\n",
       "      <th>Age</th>\n",
       "      <td>-0.003969</td>\n",
       "      <td>-0.267964</td>\n",
       "      <td>NaN</td>\n",
       "      <td>1.000000</td>\n",
       "      <td>-0.121015</td>\n",
       "      <td>-0.243613</td>\n",
       "      <td>-0.218611</td>\n",
       "    </tr>\n",
       "    <tr>\n",
       "      <th>SibSp</th>\n",
       "      <td>-0.055167</td>\n",
       "      <td>0.162276</td>\n",
       "      <td>NaN</td>\n",
       "      <td>-0.121015</td>\n",
       "      <td>1.000000</td>\n",
       "      <td>0.261954</td>\n",
       "      <td>0.259492</td>\n",
       "    </tr>\n",
       "    <tr>\n",
       "      <th>Parch</th>\n",
       "      <td>-0.026157</td>\n",
       "      <td>0.062565</td>\n",
       "      <td>NaN</td>\n",
       "      <td>-0.243613</td>\n",
       "      <td>0.261954</td>\n",
       "      <td>1.000000</td>\n",
       "      <td>0.380963</td>\n",
       "    </tr>\n",
       "    <tr>\n",
       "      <th>Fare</th>\n",
       "      <td>-0.026348</td>\n",
       "      <td>0.190966</td>\n",
       "      <td>NaN</td>\n",
       "      <td>-0.218611</td>\n",
       "      <td>0.259492</td>\n",
       "      <td>0.380963</td>\n",
       "      <td>1.000000</td>\n",
       "    </tr>\n",
       "  </tbody>\n",
       "</table>\n",
       "</div>"
      ],
      "text/plain": [
       "             PassengerId  Survived  Pclass       Age     SibSp     Parch  \\\n",
       "PassengerId     1.000000  0.159824     NaN -0.003969 -0.055167 -0.026157   \n",
       "Survived        0.159824  1.000000     NaN -0.267964  0.162276  0.062565   \n",
       "Pclass               NaN       NaN     NaN       NaN       NaN       NaN   \n",
       "Age            -0.003969 -0.267964     NaN  1.000000 -0.121015 -0.243613   \n",
       "SibSp          -0.055167  0.162276     NaN -0.121015  1.000000  0.261954   \n",
       "Parch          -0.026157  0.062565     NaN -0.243613  0.261954  1.000000   \n",
       "Fare           -0.026348  0.190966     NaN -0.218611  0.259492  0.380963   \n",
       "\n",
       "                 Fare  \n",
       "PassengerId -0.026348  \n",
       "Survived     0.190966  \n",
       "Pclass            NaN  \n",
       "Age         -0.218611  \n",
       "SibSp        0.259492  \n",
       "Parch        0.380963  \n",
       "Fare         1.000000  "
      ]
     },
     "execution_count": 229,
     "metadata": {},
     "output_type": "execute_result"
    }
   ],
   "source": [
    "titan1.corr(method='pearson')"
   ]
  },
  {
   "cell_type": "code",
   "execution_count": 230,
   "metadata": {},
   "outputs": [
    {
     "name": "stdout",
     "output_type": "stream",
     "text": [
      "     PassengerId  Survived  Pclass  \\\n",
      "1              2         1       1   \n",
      "3              4         1       1   \n",
      "6              7         0       1   \n",
      "11            12         1       1   \n",
      "23            24         1       1   \n",
      "..           ...       ...     ...   \n",
      "871          872         1       1   \n",
      "872          873         0       1   \n",
      "879          880         1       1   \n",
      "887          888         1       1   \n",
      "889          890         1       1   \n",
      "\n",
      "                                                  Name     Sex   Age  SibSp  \\\n",
      "1    Cumings, Mrs. John Bradley (Florence Briggs Th...  female  38.0      1   \n",
      "3         Futrelle, Mrs. Jacques Heath (Lily May Peel)  female  35.0      1   \n",
      "6                              McCarthy, Mr. Timothy J    male  54.0      0   \n",
      "11                            Bonnell, Miss. Elizabeth  female  58.0      0   \n",
      "23                        Sloper, Mr. William Thompson    male  28.0      0   \n",
      "..                                                 ...     ...   ...    ...   \n",
      "871   Beckwith, Mrs. Richard Leonard (Sallie Monypeny)  female  47.0      1   \n",
      "872                           Carlsson, Mr. Frans Olof    male  33.0      0   \n",
      "879      Potter, Mrs. Thomas Jr (Lily Alexenia Wilson)  female  56.0      0   \n",
      "887                       Graham, Miss. Margaret Edith  female  19.0      0   \n",
      "889                              Behr, Mr. Karl Howell    male  26.0      0   \n",
      "\n",
      "     Parch    Ticket     Fare        Cabin Embarked  \n",
      "1        0  PC 17599  71.2833          C85        C  \n",
      "3        0    113803  53.1000         C123        S  \n",
      "6        0     17463  51.8625          E46        S  \n",
      "11       0    113783  26.5500         C103        S  \n",
      "23       0    113788  35.5000           A6        S  \n",
      "..     ...       ...      ...          ...      ...  \n",
      "871      1     11751  52.5542          D35        S  \n",
      "872      0       695   5.0000  B51 B53 B55        S  \n",
      "879      1     11767  83.1583          C50        C  \n",
      "887      0    112053  30.0000          B42        S  \n",
      "889      0    111369  30.0000         C148        C  \n",
      "\n",
      "[216 rows x 12 columns]\n"
     ]
    }
   ],
   "source": [
    "print(titan1)"
   ]
  },
  {
   "cell_type": "code",
   "execution_count": 231,
   "metadata": {},
   "outputs": [
    {
     "data": {
      "text/plain": [
       "<matplotlib.axes._subplots.AxesSubplot at 0x287ab87dc88>"
      ]
     },
     "execution_count": 231,
     "metadata": {},
     "output_type": "execute_result"
    },
    {
     "data": {
      "image/png": "[encoded data removed]",
      "text/plain": [
       "<Figure size 432x288 with 1 Axes>"
      ]
     },
     "metadata": {
      "needs_background": "light"
     },
     "output_type": "display_data"
    }
   ],
   "source": [
    "sns.barplot(x='Pclass', y='Survived', data=titan)"
   ]
  },
  {
   "cell_type": "code",
   "execution_count": 232,
   "metadata": {},
   "outputs": [
    {
     "data": {
      "text/plain": [
       "1    136\n",
       "0     80\n",
       "Name: Survived, dtype: int64"
      ]
     },
     "execution_count": 232,
     "metadata": {},
     "output_type": "execute_result"
    }
   ],
   "source": [
    "titan1.Survived.value_counts()"
   ]
  },
  {
   "cell_type": "code",
   "execution_count": 233,
   "metadata": {},
   "outputs": [
    {
     "name": "stdout",
     "output_type": "stream",
     "text": [
      "0.6296296296296297\n"
     ]
    }
   ],
   "source": [
    "p1surv=(136/(136+80))\n",
    "print(p1surv)"
   ]
  },
  {
   "cell_type": "code",
   "execution_count": 234,
   "metadata": {},
   "outputs": [
    {
     "data": {
      "text/plain": [
       "<matplotlib.axes._subplots.AxesSubplot at 0x287ab8fba48>"
      ]
     },
     "execution_count": 234,
     "metadata": {},
     "output_type": "execute_result"
    },
    {
     "data": {
      "image/png": "[encoded data removed]",
      "text/plain": [
       "<Figure size 432x288 with 1 Axes>"
      ]
     },
     "metadata": {
      "needs_background": "light"
     },
     "output_type": "display_data"
    }
   ],
   "source": [
    "sns.barplot(x='Sex', y='Survived', data=titan)"
   ]
  },
  {
   "cell_type": "code",
   "execution_count": 235,
   "metadata": {},
   "outputs": [
    {
     "data": {
      "text/plain": [
       "array([<matplotlib.axes._subplots.AxesSubplot object at 0x00000287AB94FA08>,\n",
       "       <matplotlib.axes._subplots.AxesSubplot object at 0x00000287AB988088>],\n",
       "      dtype=object)"
      ]
     },
     "execution_count": 235,
     "metadata": {},
     "output_type": "execute_result"
    },
    {
     "data": {
      "image/png": "[encoded data removed]",
      "text/plain": [
       "<Figure size 720x144 with 2 Axes>"
      ]
     },
     "metadata": {
      "needs_background": "light"
     },
     "output_type": "display_data"
    }
   ],
   "source": [
    "titan.hist(\"Survived\", by=\"Sex\",figsize = [10,2])"
   ]
  },
  {
   "cell_type": "code",
   "execution_count": 236,
   "metadata": {},
   "outputs": [
    {
     "data": {
      "text/plain": [
       "array([<matplotlib.axes._subplots.AxesSubplot object at 0x00000287ABA29308>,\n",
       "       <matplotlib.axes._subplots.AxesSubplot object at 0x00000287ABA6C748>],\n",
       "      dtype=object)"
      ]
     },
     "execution_count": 236,
     "metadata": {},
     "output_type": "execute_result"
    },
    {
     "data": {
      "image/png": "[encoded data removed]",
      "text/plain": [
       "<Figure size 432x288 with 2 Axes>"
      ]
     },
     "metadata": {
      "needs_background": "light"
     },
     "output_type": "display_data"
    }
   ],
   "source": [
    "titan.hist(\"Age\",by = [\"Survived\"])"
   ]
  },
  {
   "cell_type": "code",
   "execution_count": 237,
   "metadata": {},
   "outputs": [
    {
     "data": {
      "text/plain": [
       "array([[<matplotlib.axes._subplots.AxesSubplot object at 0x00000287ABB4EB48>,\n",
       "        <matplotlib.axes._subplots.AxesSubplot object at 0x00000287ABB59C08>],\n",
       "       [<matplotlib.axes._subplots.AxesSubplot object at 0x00000287ABB88FC8>,\n",
       "        <matplotlib.axes._subplots.AxesSubplot object at 0x00000287ABBC6648>]],\n",
       "      dtype=object)"
      ]
     },
     "execution_count": 237,
     "metadata": {},
     "output_type": "execute_result"
    },
    {
     "data": {
      "image/png": "[encoded data removed]",
      "text/plain": [
       "<Figure size 432x288 with 4 Axes>"
      ]
     },
     "metadata": {
      "needs_background": "light"
     },
     "output_type": "display_data"
    }
   ],
   "source": [
    "titan.hist(\"Age\",by = [\"Survived\",\"Sex\"])"
   ]
  },
  {
   "cell_type": "code",
   "execution_count": null,
   "metadata": {},
   "outputs": [],
   "source": [
    "\n",
    "\n",
    "\n",
    "\n"
   ]
  },
  {
   "cell_type": "code",
   "execution_count": 238,
   "metadata": {},
   "outputs": [
    {
     "data": {
      "text/plain": [
       "array([[<matplotlib.axes._subplots.AxesSubplot object at 0x00000287ABD11F48>,\n",
       "        <matplotlib.axes._subplots.AxesSubplot object at 0x00000287ABD0EDC8>],\n",
       "       [<matplotlib.axes._subplots.AxesSubplot object at 0x00000287ABD45108>,\n",
       "        <matplotlib.axes._subplots.AxesSubplot object at 0x00000287ABD77688>],\n",
       "       [<matplotlib.axes._subplots.AxesSubplot object at 0x00000287ABDA6CC8>,\n",
       "        <matplotlib.axes._subplots.AxesSubplot object at 0x00000287ABDE1948>]],\n",
       "      dtype=object)"
      ]
     },
     "execution_count": 238,
     "metadata": {},
     "output_type": "execute_result"
    },
    {
     "data": {
      "image/png": "[encoded data removed]",
      "text/plain": [
       "<Figure size 720x504 with 6 Axes>"
      ]
     },
     "metadata": {
      "needs_background": "light"
     },
     "output_type": "display_data"
    }
   ],
   "source": [
    "titan.hist(\"Age\",by = [\"Survived\",\"Pclass\"],figsize = [10,7])"
   ]
  },
  {
   "cell_type": "code",
   "execution_count": 239,
   "metadata": {},
   "outputs": [
    {
     "data": {
      "text/plain": [
       "array([[<matplotlib.axes._subplots.AxesSubplot object at 0x00000287ABF401C8>,\n",
       "        <matplotlib.axes._subplots.AxesSubplot object at 0x00000287AC152FC8>],\n",
       "       [<matplotlib.axes._subplots.AxesSubplot object at 0x00000287ABF86448>,\n",
       "        <matplotlib.axes._subplots.AxesSubplot object at 0x00000287ABFBC908>]],\n",
       "      dtype=object)"
      ]
     },
     "execution_count": 239,
     "metadata": {},
     "output_type": "execute_result"
    },
    {
     "data": {
      "image/png": "[encoded data removed]",
      "text/plain": [
       "<Figure size 720x504 with 4 Axes>"
      ]
     },
     "metadata": {
      "needs_background": "light"
     },
     "output_type": "display_data"
    }
   ],
   "source": [
    "titan.hist(\"Survived\",by = [\"Pclass\"],figsize = [10,7])"
   ]
  },
  {
   "cell_type": "code",
   "execution_count": 240,
   "metadata": {},
   "outputs": [
    {
     "data": {
      "text/plain": [
       "array([[<matplotlib.axes._subplots.AxesSubplot object at 0x00000287ABE5EF08>,\n",
       "        <matplotlib.axes._subplots.AxesSubplot object at 0x00000287AC2DFA88>],\n",
       "       [<matplotlib.axes._subplots.AxesSubplot object at 0x00000287AC30BC88>,\n",
       "        <matplotlib.axes._subplots.AxesSubplot object at 0x00000287AC1961C8>]],\n",
       "      dtype=object)"
      ]
     },
     "execution_count": 240,
     "metadata": {},
     "output_type": "execute_result"
    },
    {
     "data": {
      "image/png": "[encoded data removed]",
      "text/plain": [
       "<Figure size 720x504 with 4 Axes>"
      ]
     },
     "metadata": {
      "needs_background": "light"
     },
     "output_type": "display_data"
    }
   ],
   "source": [
    "titan.hist(\"Age\",by = [\"Pclass\"],figsize = [10,7])"
   ]
  },
  {
   "cell_type": "code",
   "execution_count": 241,
   "metadata": {},
   "outputs": [
    {
     "data": {
      "text/plain": [
       "<matplotlib.axes._subplots.AxesSubplot at 0x287ac0ab088>"
      ]
     },
     "execution_count": 241,
     "metadata": {},
     "output_type": "execute_result"
    },
    {
     "data": {
      "image/png": "[encoded data removed]",
      "text/plain": [
       "<Figure size 432x288 with 1 Axes>"
      ]
     },
     "metadata": {
      "needs_background": "light"
     },
     "output_type": "display_data"
    }
   ],
   "source": [
    "sns.barplot(x='Pclass', y='Survived', data=titan)"
   ]
  },
  {
   "cell_type": "code",
   "execution_count": 242,
   "metadata": {},
   "outputs": [
    {
     "data": {
      "text/plain": [
       "<matplotlib.axes._subplots.AxesSubplot at 0x287ac441188>"
      ]
     },
     "execution_count": 242,
     "metadata": {},
     "output_type": "execute_result"
    },
    {
     "data": {
      "image/png": "[encoded data removed]",
      "text/plain": [
       "<Figure size 432x288 with 1 Axes>"
      ]
     },
     "metadata": {
      "needs_background": "light"
     },
     "output_type": "display_data"
    }
   ],
   "source": [
    "sns.barplot(x='Pclass', y='Age', data=titan)"
   ]
  },
  {
   "cell_type": "code",
   "execution_count": 243,
   "metadata": {},
   "outputs": [
    {
     "data": {
      "text/plain": [
       "<matplotlib.axes._subplots.AxesSubplot at 0x287ac4a5588>"
      ]
     },
     "execution_count": 243,
     "metadata": {},
     "output_type": "execute_result"
    },
    {
     "data": {
      "image/png": "[encoded data removed]",
      "text/plain": [
       "<Figure size 432x288 with 1 Axes>"
      ]
     },
     "metadata": {
      "needs_background": "light"
     },
     "output_type": "display_data"
    }
   ],
   "source": [
    "sns.barplot(x='Survived', y='Fare', data=titan,alpha=0.5)"
   ]
  },
  {
   "cell_type": "code",
   "execution_count": 244,
   "metadata": {},
   "outputs": [
    {
     "data": {
      "text/plain": [
       "array([[<matplotlib.axes._subplots.AxesSubplot object at 0x00000287AC511288>,\n",
       "        <matplotlib.axes._subplots.AxesSubplot object at 0x00000287AC54F3C8>,\n",
       "        <matplotlib.axes._subplots.AxesSubplot object at 0x00000287AD6D5E88>,\n",
       "        <matplotlib.axes._subplots.AxesSubplot object at 0x00000287AD70DF88>],\n",
       "       [<matplotlib.axes._subplots.AxesSubplot object at 0x00000287AD74B0C8>,\n",
       "        <matplotlib.axes._subplots.AxesSubplot object at 0x00000287AD783188>,\n",
       "        <matplotlib.axes._subplots.AxesSubplot object at 0x00000287AD7BB288>,\n",
       "        <matplotlib.axes._subplots.AxesSubplot object at 0x00000287AD7F2388>],\n",
       "       [<matplotlib.axes._subplots.AxesSubplot object at 0x00000287AD7F7F48>,\n",
       "        <matplotlib.axes._subplots.AxesSubplot object at 0x00000287AD837188>,\n",
       "        <matplotlib.axes._subplots.AxesSubplot object at 0x00000287AD8A1E88>,\n",
       "        <matplotlib.axes._subplots.AxesSubplot object at 0x00000287AD8D57C8>],\n",
       "       [<matplotlib.axes._subplots.AxesSubplot object at 0x00000287AD90D908>,\n",
       "        <matplotlib.axes._subplots.AxesSubplot object at 0x00000287AD946A08>,\n",
       "        <matplotlib.axes._subplots.AxesSubplot object at 0x00000287AD97EBC8>,\n",
       "        <matplotlib.axes._subplots.AxesSubplot object at 0x00000287AD9B5DC8>]],\n",
       "      dtype=object)"
      ]
     },
     "execution_count": 244,
     "metadata": {},
     "output_type": "execute_result"
    },
    {
     "data": {
      "image/png": "[encoded data removed]",
      "text/plain": [
       "<Figure size 720x648 with 16 Axes>"
      ]
     },
     "metadata": {
      "needs_background": "light"
     },
     "output_type": "display_data"
    }
   ],
   "source": [
    "titan.hist(\"Fare\",by = [\"Embarked\",\"Survived\",\"Sex\"],figsize = [10,9])"
   ]
  },
  {
   "cell_type": "code",
   "execution_count": 245,
   "metadata": {},
   "outputs": [
    {
     "data": {
      "text/plain": [
       "<matplotlib.axes._subplots.AxesSubplot at 0x287ac505e48>"
      ]
     },
     "execution_count": 245,
     "metadata": {},
     "output_type": "execute_result"
    },
    {
     "data": {
      "image/png": "[encoded data removed]",
      "text/plain": [
       "<Figure size 432x288 with 1 Axes>"
      ]
     },
     "metadata": {
      "needs_background": "light"
     },
     "output_type": "display_data"
    }
   ],
   "source": [
    "sns.barplot(x='Survived', y='Fare', data=titan,ci=None)"
   ]
  },
  {
   "cell_type": "code",
   "execution_count": 246,
   "metadata": {},
   "outputs": [
    {
     "data": {
      "text/plain": [
       "<seaborn.axisgrid.FacetGrid at 0x287ade6f648>"
      ]
     },
     "execution_count": 246,
     "metadata": {},
     "output_type": "execute_result"
    },
    {
     "data": {
      "image/png": "[encoded data removed]",
      "text/plain": [
       "<Figure size 440x648 with 6 Axes>"
      ]
     },
     "metadata": {
      "needs_background": "light"
     },
     "output_type": "display_data"
    }
   ],
   "source": [
    "graph = sns.FacetGrid(titan, row='Embarked', col='Survived')\n",
    "graph.map(sns.barplot, 'Sex', 'Fare', alpha=.5,ci=None,order=['female','male'])\n",
    "graph.add_legend()"
   ]
  },
  {
   "cell_type": "code",
   "execution_count": 247,
   "metadata": {},
   "outputs": [
    {
     "data": {
      "text/plain": [
       "891"
      ]
     },
     "execution_count": 247,
     "metadata": {},
     "output_type": "execute_result"
    }
   ],
   "source": [
    "titan.Ticket.count()"
   ]
  },
  {
   "cell_type": "code",
   "execution_count": 248,
   "metadata": {},
   "outputs": [
    {
     "data": {
      "text/plain": [
       "681"
      ]
     },
     "execution_count": 248,
     "metadata": {},
     "output_type": "execute_result"
    }
   ],
   "source": [
    "titan.Ticket.nunique()"
   ]
  },
  {
   "cell_type": "code",
   "execution_count": 249,
   "metadata": {},
   "outputs": [],
   "source": [
    "titan=titan.drop(['Ticket'],axis=1)\n",
    "titantest=titantest.drop(['Ticket'],axis=1)"
   ]
  },
  {
   "cell_type": "code",
   "execution_count": 250,
   "metadata": {},
   "outputs": [
    {
     "data": {
      "text/plain": [
       "(891, 11)"
      ]
     },
     "execution_count": 250,
     "metadata": {},
     "output_type": "execute_result"
    }
   ],
   "source": [
    "titan.shape"
   ]
  },
  {
   "cell_type": "code",
   "execution_count": 251,
   "metadata": {},
   "outputs": [
    {
     "data": {
      "text/plain": [
       "687"
      ]
     },
     "execution_count": 251,
     "metadata": {},
     "output_type": "execute_result"
    }
   ],
   "source": [
    "titan.Cabin.isnull().sum()"
   ]
  },
  {
   "cell_type": "code",
   "execution_count": 252,
   "metadata": {},
   "outputs": [],
   "source": [
    "titan=titan.drop(['Cabin'],axis=1)\n",
    "titantest=titantest.drop(['Cabin'],axis=1)"
   ]
  },
  {
   "cell_type": "code",
   "execution_count": 253,
   "metadata": {},
   "outputs": [
    {
     "data": {
      "text/plain": [
       "(891, 10)"
      ]
     },
     "execution_count": 253,
     "metadata": {},
     "output_type": "execute_result"
    }
   ],
   "source": [
    "titan.shape"
   ]
  },
  {
   "cell_type": "code",
   "execution_count": 254,
   "metadata": {},
   "outputs": [],
   "source": [
    "titan.Sex =   titan.Sex.map( {'male': 1, 'female': 0})"
   ]
  },
  {
   "cell_type": "code",
   "execution_count": 255,
   "metadata": {},
   "outputs": [
    {
     "data": {
      "text/html": [
       "<div>\n",
       "<style scoped>\n",
       "    .dataframe tbody tr th:only-of-type {\n",
       "        vertical-align: middle;\n",
       "    }\n",
       "\n",
       "    .dataframe tbody tr th {\n",
       "        vertical-align: top;\n",
       "    }\n",
       "\n",
       "    .dataframe thead th {\n",
       "        text-align: right;\n",
       "    }\n",
       "</style>\n",
       "<table border=\"1\" class=\"dataframe\">\n",
       "  <thead>\n",
       "    <tr style=\"text-align: right;\">\n",
       "      <th></th>\n",
       "      <th>PassengerId</th>\n",
       "      <th>Survived</th>\n",
       "      <th>Pclass</th>\n",
       "      <th>Name</th>\n",
       "      <th>Sex</th>\n",
       "      <th>Age</th>\n",
       "      <th>SibSp</th>\n",
       "      <th>Parch</th>\n",
       "      <th>Fare</th>\n",
       "      <th>Embarked</th>\n",
       "    </tr>\n",
       "  </thead>\n",
       "  <tbody>\n",
       "    <tr>\n",
       "      <th>0</th>\n",
       "      <td>1</td>\n",
       "      <td>0</td>\n",
       "      <td>3</td>\n",
       "      <td>Braund, Mr. Owen Harris</td>\n",
       "      <td>1</td>\n",
       "      <td>22.0</td>\n",
       "      <td>1</td>\n",
       "      <td>0</td>\n",
       "      <td>7.2500</td>\n",
       "      <td>S</td>\n",
       "    </tr>\n",
       "    <tr>\n",
       "      <th>1</th>\n",
       "      <td>2</td>\n",
       "      <td>1</td>\n",
       "      <td>1</td>\n",
       "      <td>Cumings, Mrs. John Bradley (Florence Briggs Th...</td>\n",
       "      <td>0</td>\n",
       "      <td>38.0</td>\n",
       "      <td>1</td>\n",
       "      <td>0</td>\n",
       "      <td>71.2833</td>\n",
       "      <td>C</td>\n",
       "    </tr>\n",
       "  </tbody>\n",
       "</table>\n",
       "</div>"
      ],
      "text/plain": [
       "   PassengerId  Survived  Pclass  \\\n",
       "0            1         0       3   \n",
       "1            2         1       1   \n",
       "\n",
       "                                                Name  Sex   Age  SibSp  Parch  \\\n",
       "0                            Braund, Mr. Owen Harris    1  22.0      1      0   \n",
       "1  Cumings, Mrs. John Bradley (Florence Briggs Th...    0  38.0      1      0   \n",
       "\n",
       "      Fare Embarked  \n",
       "0   7.2500        S  \n",
       "1  71.2833        C  "
      ]
     },
     "execution_count": 255,
     "metadata": {},
     "output_type": "execute_result"
    }
   ],
   "source": [
    "titan.head(2)"
   ]
  },
  {
   "cell_type": "code",
   "execution_count": 256,
   "metadata": {},
   "outputs": [
    {
     "data": {
      "text/plain": [
       "S    644\n",
       "C    168\n",
       "Q     77\n",
       "Name: Embarked, dtype: int64"
      ]
     },
     "execution_count": 256,
     "metadata": {},
     "output_type": "execute_result"
    }
   ],
   "source": [
    "titan.Embarked.value_counts()"
   ]
  },
  {
   "cell_type": "code",
   "execution_count": 257,
   "metadata": {},
   "outputs": [
    {
     "data": {
      "text/plain": [
       "889"
      ]
     },
     "execution_count": 257,
     "metadata": {},
     "output_type": "execute_result"
    }
   ],
   "source": [
    "titan.Embarked.count()"
   ]
  },
  {
   "cell_type": "code",
   "execution_count": 258,
   "metadata": {},
   "outputs": [
    {
     "data": {
      "text/plain": [
       "0      S\n",
       "1      C\n",
       "2      S\n",
       "3      S\n",
       "4      S\n",
       "      ..\n",
       "886    S\n",
       "887    S\n",
       "888    S\n",
       "889    C\n",
       "890    Q\n",
       "Name: Embarked, Length: 891, dtype: object"
      ]
     },
     "execution_count": 258,
     "metadata": {},
     "output_type": "execute_result"
    }
   ],
   "source": [
    "titan.Embarked.fillna(\"S\") "
   ]
  },
  {
   "cell_type": "code",
   "execution_count": 259,
   "metadata": {},
   "outputs": [
    {
     "data": {
      "text/plain": [
       "S    644\n",
       "C    168\n",
       "Q     77\n",
       "Name: Embarked, dtype: int64"
      ]
     },
     "execution_count": 259,
     "metadata": {},
     "output_type": "execute_result"
    }
   ],
   "source": [
    "titan.Embarked.value_counts()"
   ]
  },
  {
   "cell_type": "code",
   "execution_count": 260,
   "metadata": {},
   "outputs": [
    {
     "data": {
      "text/plain": [
       "889"
      ]
     },
     "execution_count": 260,
     "metadata": {},
     "output_type": "execute_result"
    }
   ],
   "source": [
    "titan.Embarked.count()"
   ]
  },
  {
   "cell_type": "code",
   "execution_count": 261,
   "metadata": {},
   "outputs": [
    {
     "data": {
      "text/plain": [
       "0    8.05\n",
       "dtype: float64"
      ]
     },
     "execution_count": 261,
     "metadata": {},
     "output_type": "execute_result"
    }
   ],
   "source": [
    "titan.Fare.mode()"
   ]
  },
  {
   "cell_type": "code",
   "execution_count": 262,
   "metadata": {},
   "outputs": [
    {
     "data": {
      "text/plain": [
       "0       7.2500\n",
       "1      71.2833\n",
       "2       7.9250\n",
       "3      53.1000\n",
       "4       8.0500\n",
       "        ...   \n",
       "886    13.0000\n",
       "887    30.0000\n",
       "888    23.4500\n",
       "889    30.0000\n",
       "890     7.7500\n",
       "Name: Fare, Length: 891, dtype: float64"
      ]
     },
     "execution_count": 262,
     "metadata": {},
     "output_type": "execute_result"
    }
   ],
   "source": [
    "titan.Fare.fillna(8.05) "
   ]
  },
  {
   "cell_type": "code",
   "execution_count": 263,
   "metadata": {},
   "outputs": [
    {
     "data": {
      "text/plain": [
       "0       7.2500\n",
       "1      71.2833\n",
       "2       7.9250\n",
       "3      53.1000\n",
       "4       8.0500\n",
       "        ...   \n",
       "886    13.0000\n",
       "887    30.0000\n",
       "888    23.4500\n",
       "889    30.0000\n",
       "890     7.7500\n",
       "Name: Fare, Length: 891, dtype: float64"
      ]
     },
     "execution_count": 263,
     "metadata": {},
     "output_type": "execute_result"
    }
   ],
   "source": [
    "titan.Fare"
   ]
  },
  {
   "cell_type": "code",
   "execution_count": 264,
   "metadata": {},
   "outputs": [],
   "source": [
    "from sklearn.impute import KNNImputer"
   ]
  },
  {
   "cell_type": "code",
   "execution_count": 265,
   "metadata": {},
   "outputs": [],
   "source": [
    "def convert_num(x):\n",
    "    if x >= -(0.0001) and x <= 7.91:\n",
    "        return 0\n",
    "    elif x > 7.91 and x <= 14.454:\n",
    "        return 1\n",
    "    elif x > 14.454 and x <= 31.0:\n",
    "        return 2\n",
    "    elif x > 14.454 and x <= 512.329:\n",
    "        return 3"
   ]
  },
  {
   "cell_type": "code",
   "execution_count": 266,
   "metadata": {},
   "outputs": [
    {
     "data": {
      "text/plain": [
       "0      0.0\n",
       "1      3.0\n",
       "2      1.0\n",
       "3      3.0\n",
       "4      1.0\n",
       "      ... \n",
       "886    1.0\n",
       "887    2.0\n",
       "888    2.0\n",
       "889    2.0\n",
       "890    0.0\n",
       "Name: Fare, Length: 891, dtype: float64"
      ]
     },
     "execution_count": 266,
     "metadata": {},
     "output_type": "execute_result"
    }
   ],
   "source": [
    "titan.Fare.apply(convert_num)"
   ]
  },
  {
   "cell_type": "code",
   "execution_count": 267,
   "metadata": {},
   "outputs": [
    {
     "data": {
      "text/plain": [
       "0"
      ]
     },
     "execution_count": 267,
     "metadata": {},
     "output_type": "execute_result"
    }
   ],
   "source": [
    "titan.Fare.isnull().sum()"
   ]
  },
  {
   "cell_type": "code",
   "execution_count": 268,
   "metadata": {},
   "outputs": [],
   "source": [
    "yi=titan.Age.values\n",
    "yi=yi.reshape(-1,1)\n",
    "imputer = KNNImputer(n_neighbors=5)\n",
    "ynew=imputer.fit_transform(yi)\n"
   ]
  },
  {
   "cell_type": "code",
   "execution_count": 269,
   "metadata": {},
   "outputs": [
    {
     "data": {
      "text/plain": [
       "array([[22.        ],\n",
       "       [38.        ],\n",
       "       [26.        ],\n",
       "       [35.        ],\n",
       "       [35.        ],\n",
       "       [29.69911765],\n",
       "       [54.        ],\n",
       "       [ 2.        ],\n",
       "       [27.        ],\n",
       "       [14.        ],\n",
       "       [ 4.        ],\n",
       "       [58.        ],\n",
       "       [20.        ],\n",
       "       [39.        ],\n",
       "       [14.        ],\n",
       "       [55.        ],\n",
       "       [ 2.        ],\n",
       "       [29.69911765],\n",
       "       [31.        ],\n",
       "       [29.69911765],\n",
       "       [35.        ],\n",
       "       [34.        ],\n",
       "       [15.        ],\n",
       "       [28.        ],\n",
       "       [ 8.        ],\n",
       "       [38.        ],\n",
       "       [29.69911765],\n",
       "       [19.        ],\n",
       "       [29.69911765],\n",
       "       [29.69911765],\n",
       "       [40.        ],\n",
       "       [29.69911765],\n",
       "       [29.69911765],\n",
       "       [66.        ],\n",
       "       [28.        ],\n",
       "       [42.        ],\n",
       "       [29.69911765],\n",
       "       [21.        ],\n",
       "       [18.        ],\n",
       "       [14.        ],\n",
       "       [40.        ],\n",
       "       [27.        ],\n",
       "       [29.69911765],\n",
       "       [ 3.        ],\n",
       "       [19.        ],\n",
       "       [29.69911765],\n",
       "       [29.69911765],\n",
       "       [29.69911765],\n",
       "       [29.69911765],\n",
       "       [18.        ],\n",
       "       [ 7.        ],\n",
       "       [21.        ],\n",
       "       [49.        ],\n",
       "       [29.        ],\n",
       "       [65.        ],\n",
       "       [29.69911765],\n",
       "       [21.        ],\n",
       "       [28.5       ],\n",
       "       [ 5.        ],\n",
       "       [11.        ],\n",
       "       [22.        ],\n",
       "       [38.        ],\n",
       "       [45.        ],\n",
       "       [ 4.        ],\n",
       "       [29.69911765],\n",
       "       [29.69911765],\n",
       "       [29.        ],\n",
       "       [19.        ],\n",
       "       [17.        ],\n",
       "       [26.        ],\n",
       "       [32.        ],\n",
       "       [16.        ],\n",
       "       [21.        ],\n",
       "       [26.        ],\n",
       "       [32.        ],\n",
       "       [25.        ],\n",
       "       [29.69911765],\n",
       "       [29.69911765],\n",
       "       [ 0.83      ],\n",
       "       [30.        ],\n",
       "       [22.        ],\n",
       "       [29.        ],\n",
       "       [29.69911765],\n",
       "       [28.        ],\n",
       "       [17.        ],\n",
       "       [33.        ],\n",
       "       [16.        ],\n",
       "       [29.69911765],\n",
       "       [23.        ],\n",
       "       [24.        ],\n",
       "       [29.        ],\n",
       "       [20.        ],\n",
       "       [46.        ],\n",
       "       [26.        ],\n",
       "       [59.        ],\n",
       "       [29.69911765],\n",
       "       [71.        ],\n",
       "       [23.        ],\n",
       "       [34.        ],\n",
       "       [34.        ],\n",
       "       [28.        ],\n",
       "       [29.69911765],\n",
       "       [21.        ],\n",
       "       [33.        ],\n",
       "       [37.        ],\n",
       "       [28.        ],\n",
       "       [21.        ],\n",
       "       [29.69911765],\n",
       "       [38.        ],\n",
       "       [29.69911765],\n",
       "       [47.        ],\n",
       "       [14.5       ],\n",
       "       [22.        ],\n",
       "       [20.        ],\n",
       "       [17.        ],\n",
       "       [21.        ],\n",
       "       [70.5       ],\n",
       "       [29.        ],\n",
       "       [24.        ],\n",
       "       [ 2.        ],\n",
       "       [21.        ],\n",
       "       [29.69911765],\n",
       "       [32.5       ],\n",
       "       [32.5       ],\n",
       "       [54.        ],\n",
       "       [12.        ],\n",
       "       [29.69911765],\n",
       "       [24.        ],\n",
       "       [29.69911765],\n",
       "       [45.        ],\n",
       "       [33.        ],\n",
       "       [20.        ],\n",
       "       [47.        ],\n",
       "       [29.        ],\n",
       "       [25.        ],\n",
       "       [23.        ],\n",
       "       [19.        ],\n",
       "       [37.        ],\n",
       "       [16.        ],\n",
       "       [24.        ],\n",
       "       [29.69911765],\n",
       "       [22.        ],\n",
       "       [24.        ],\n",
       "       [19.        ],\n",
       "       [18.        ],\n",
       "       [19.        ],\n",
       "       [27.        ],\n",
       "       [ 9.        ],\n",
       "       [36.5       ],\n",
       "       [42.        ],\n",
       "       [51.        ],\n",
       "       [22.        ],\n",
       "       [55.5       ],\n",
       "       [40.5       ],\n",
       "       [29.69911765],\n",
       "       [51.        ],\n",
       "       [16.        ],\n",
       "       [30.        ],\n",
       "       [29.69911765],\n",
       "       [29.69911765],\n",
       "       [44.        ],\n",
       "       [40.        ],\n",
       "       [26.        ],\n",
       "       [17.        ],\n",
       "       [ 1.        ],\n",
       "       [ 9.        ],\n",
       "       [29.69911765],\n",
       "       [45.        ],\n",
       "       [29.69911765],\n",
       "       [28.        ],\n",
       "       [61.        ],\n",
       "       [ 4.        ],\n",
       "       [ 1.        ],\n",
       "       [21.        ],\n",
       "       [56.        ],\n",
       "       [18.        ],\n",
       "       [29.69911765],\n",
       "       [50.        ],\n",
       "       [30.        ],\n",
       "       [36.        ],\n",
       "       [29.69911765],\n",
       "       [29.69911765],\n",
       "       [ 9.        ],\n",
       "       [ 1.        ],\n",
       "       [ 4.        ],\n",
       "       [29.69911765],\n",
       "       [29.69911765],\n",
       "       [45.        ],\n",
       "       [40.        ],\n",
       "       [36.        ],\n",
       "       [32.        ],\n",
       "       [19.        ],\n",
       "       [19.        ],\n",
       "       [ 3.        ],\n",
       "       [44.        ],\n",
       "       [58.        ],\n",
       "       [29.69911765],\n",
       "       [42.        ],\n",
       "       [29.69911765],\n",
       "       [24.        ],\n",
       "       [28.        ],\n",
       "       [29.69911765],\n",
       "       [34.        ],\n",
       "       [45.5       ],\n",
       "       [18.        ],\n",
       "       [ 2.        ],\n",
       "       [32.        ],\n",
       "       [26.        ],\n",
       "       [16.        ],\n",
       "       [40.        ],\n",
       "       [24.        ],\n",
       "       [35.        ],\n",
       "       [22.        ],\n",
       "       [30.        ],\n",
       "       [29.69911765],\n",
       "       [31.        ],\n",
       "       [27.        ],\n",
       "       [42.        ],\n",
       "       [32.        ],\n",
       "       [30.        ],\n",
       "       [16.        ],\n",
       "       [27.        ],\n",
       "       [51.        ],\n",
       "       [29.69911765],\n",
       "       [38.        ],\n",
       "       [22.        ],\n",
       "       [19.        ],\n",
       "       [20.5       ],\n",
       "       [18.        ],\n",
       "       [29.69911765],\n",
       "       [35.        ],\n",
       "       [29.        ],\n",
       "       [59.        ],\n",
       "       [ 5.        ],\n",
       "       [24.        ],\n",
       "       [29.69911765],\n",
       "       [44.        ],\n",
       "       [ 8.        ],\n",
       "       [19.        ],\n",
       "       [33.        ],\n",
       "       [29.69911765],\n",
       "       [29.69911765],\n",
       "       [29.        ],\n",
       "       [22.        ],\n",
       "       [30.        ],\n",
       "       [44.        ],\n",
       "       [25.        ],\n",
       "       [24.        ],\n",
       "       [37.        ],\n",
       "       [54.        ],\n",
       "       [29.69911765],\n",
       "       [29.        ],\n",
       "       [62.        ],\n",
       "       [30.        ],\n",
       "       [41.        ],\n",
       "       [29.        ],\n",
       "       [29.69911765],\n",
       "       [30.        ],\n",
       "       [35.        ],\n",
       "       [50.        ],\n",
       "       [29.69911765],\n",
       "       [ 3.        ],\n",
       "       [52.        ],\n",
       "       [40.        ],\n",
       "       [29.69911765],\n",
       "       [36.        ],\n",
       "       [16.        ],\n",
       "       [25.        ],\n",
       "       [58.        ],\n",
       "       [35.        ],\n",
       "       [29.69911765],\n",
       "       [25.        ],\n",
       "       [41.        ],\n",
       "       [37.        ],\n",
       "       [29.69911765],\n",
       "       [63.        ],\n",
       "       [45.        ],\n",
       "       [29.69911765],\n",
       "       [ 7.        ],\n",
       "       [35.        ],\n",
       "       [65.        ],\n",
       "       [28.        ],\n",
       "       [16.        ],\n",
       "       [19.        ],\n",
       "       [29.69911765],\n",
       "       [33.        ],\n",
       "       [30.        ],\n",
       "       [22.        ],\n",
       "       [42.        ],\n",
       "       [22.        ],\n",
       "       [26.        ],\n",
       "       [19.        ],\n",
       "       [36.        ],\n",
       "       [24.        ],\n",
       "       [24.        ],\n",
       "       [29.69911765],\n",
       "       [23.5       ],\n",
       "       [ 2.        ],\n",
       "       [29.69911765],\n",
       "       [50.        ],\n",
       "       [29.69911765],\n",
       "       [29.69911765],\n",
       "       [19.        ],\n",
       "       [29.69911765],\n",
       "       [29.69911765],\n",
       "       [ 0.92      ],\n",
       "       [29.69911765],\n",
       "       [17.        ],\n",
       "       [30.        ],\n",
       "       [30.        ],\n",
       "       [24.        ],\n",
       "       [18.        ],\n",
       "       [26.        ],\n",
       "       [28.        ],\n",
       "       [43.        ],\n",
       "       [26.        ],\n",
       "       [24.        ],\n",
       "       [54.        ],\n",
       "       [31.        ],\n",
       "       [40.        ],\n",
       "       [22.        ],\n",
       "       [27.        ],\n",
       "       [30.        ],\n",
       "       [22.        ],\n",
       "       [29.69911765],\n",
       "       [36.        ],\n",
       "       [61.        ],\n",
       "       [36.        ],\n",
       "       [31.        ],\n",
       "       [16.        ],\n",
       "       [29.69911765],\n",
       "       [45.5       ],\n",
       "       [38.        ],\n",
       "       [16.        ],\n",
       "       [29.69911765],\n",
       "       [29.69911765],\n",
       "       [29.        ],\n",
       "       [41.        ],\n",
       "       [45.        ],\n",
       "       [45.        ],\n",
       "       [ 2.        ],\n",
       "       [24.        ],\n",
       "       [28.        ],\n",
       "       [25.        ],\n",
       "       [36.        ],\n",
       "       [24.        ],\n",
       "       [40.        ],\n",
       "       [29.69911765],\n",
       "       [ 3.        ],\n",
       "       [42.        ],\n",
       "       [23.        ],\n",
       "       [29.69911765],\n",
       "       [15.        ],\n",
       "       [25.        ],\n",
       "       [29.69911765],\n",
       "       [28.        ],\n",
       "       [22.        ],\n",
       "       [38.        ],\n",
       "       [29.69911765],\n",
       "       [29.69911765],\n",
       "       [40.        ],\n",
       "       [29.        ],\n",
       "       [45.        ],\n",
       "       [35.        ],\n",
       "       [29.69911765],\n",
       "       [30.        ],\n",
       "       [60.        ],\n",
       "       [29.69911765],\n",
       "       [29.69911765],\n",
       "       [24.        ],\n",
       "       [25.        ],\n",
       "       [18.        ],\n",
       "       [19.        ],\n",
       "       [22.        ],\n",
       "       [ 3.        ],\n",
       "       [29.69911765],\n",
       "       [22.        ],\n",
       "       [27.        ],\n",
       "       [20.        ],\n",
       "       [19.        ],\n",
       "       [42.        ],\n",
       "       [ 1.        ],\n",
       "       [32.        ],\n",
       "       [35.        ],\n",
       "       [29.69911765],\n",
       "       [18.        ],\n",
       "       [ 1.        ],\n",
       "       [36.        ],\n",
       "       [29.69911765],\n",
       "       [17.        ],\n",
       "       [36.        ],\n",
       "       [21.        ],\n",
       "       [28.        ],\n",
       "       [23.        ],\n",
       "       [24.        ],\n",
       "       [22.        ],\n",
       "       [31.        ],\n",
       "       [46.        ],\n",
       "       [23.        ],\n",
       "       [28.        ],\n",
       "       [39.        ],\n",
       "       [26.        ],\n",
       "       [21.        ],\n",
       "       [28.        ],\n",
       "       [20.        ],\n",
       "       [34.        ],\n",
       "       [51.        ],\n",
       "       [ 3.        ],\n",
       "       [21.        ],\n",
       "       [29.69911765],\n",
       "       [29.69911765],\n",
       "       [29.69911765],\n",
       "       [33.        ],\n",
       "       [29.69911765],\n",
       "       [44.        ],\n",
       "       [29.69911765],\n",
       "       [34.        ],\n",
       "       [18.        ],\n",
       "       [30.        ],\n",
       "       [10.        ],\n",
       "       [29.69911765],\n",
       "       [21.        ],\n",
       "       [29.        ],\n",
       "       [28.        ],\n",
       "       [18.        ],\n",
       "       [29.69911765],\n",
       "       [28.        ],\n",
       "       [19.        ],\n",
       "       [29.69911765],\n",
       "       [32.        ],\n",
       "       [28.        ],\n",
       "       [29.69911765],\n",
       "       [42.        ],\n",
       "       [17.        ],\n",
       "       [50.        ],\n",
       "       [14.        ],\n",
       "       [21.        ],\n",
       "       [24.        ],\n",
       "       [64.        ],\n",
       "       [31.        ],\n",
       "       [45.        ],\n",
       "       [20.        ],\n",
       "       [25.        ],\n",
       "       [28.        ],\n",
       "       [29.69911765],\n",
       "       [ 4.        ],\n",
       "       [13.        ],\n",
       "       [34.        ],\n",
       "       [ 5.        ],\n",
       "       [52.        ],\n",
       "       [36.        ],\n",
       "       [29.69911765],\n",
       "       [30.        ],\n",
       "       [49.        ],\n",
       "       [29.69911765],\n",
       "       [29.        ],\n",
       "       [65.        ],\n",
       "       [29.69911765],\n",
       "       [50.        ],\n",
       "       [29.69911765],\n",
       "       [48.        ],\n",
       "       [34.        ],\n",
       "       [47.        ],\n",
       "       [48.        ],\n",
       "       [29.69911765],\n",
       "       [38.        ],\n",
       "       [29.69911765],\n",
       "       [56.        ],\n",
       "       [29.69911765],\n",
       "       [ 0.75      ],\n",
       "       [29.69911765],\n",
       "       [38.        ],\n",
       "       [33.        ],\n",
       "       [23.        ],\n",
       "       [22.        ],\n",
       "       [29.69911765],\n",
       "       [34.        ],\n",
       "       [29.        ],\n",
       "       [22.        ],\n",
       "       [ 2.        ],\n",
       "       [ 9.        ],\n",
       "       [29.69911765],\n",
       "       [50.        ],\n",
       "       [63.        ],\n",
       "       [25.        ],\n",
       "       [29.69911765],\n",
       "       [35.        ],\n",
       "       [58.        ],\n",
       "       [30.        ],\n",
       "       [ 9.        ],\n",
       "       [29.69911765],\n",
       "       [21.        ],\n",
       "       [55.        ],\n",
       "       [71.        ],\n",
       "       [21.        ],\n",
       "       [29.69911765],\n",
       "       [54.        ],\n",
       "       [29.69911765],\n",
       "       [25.        ],\n",
       "       [24.        ],\n",
       "       [17.        ],\n",
       "       [21.        ],\n",
       "       [29.69911765],\n",
       "       [37.        ],\n",
       "       [16.        ],\n",
       "       [18.        ],\n",
       "       [33.        ],\n",
       "       [29.69911765],\n",
       "       [28.        ],\n",
       "       [26.        ],\n",
       "       [29.        ],\n",
       "       [29.69911765],\n",
       "       [36.        ],\n",
       "       [54.        ],\n",
       "       [24.        ],\n",
       "       [47.        ],\n",
       "       [34.        ],\n",
       "       [29.69911765],\n",
       "       [36.        ],\n",
       "       [32.        ],\n",
       "       [30.        ],\n",
       "       [22.        ],\n",
       "       [29.69911765],\n",
       "       [44.        ],\n",
       "       [29.69911765],\n",
       "       [40.5       ],\n",
       "       [50.        ],\n",
       "       [29.69911765],\n",
       "       [39.        ],\n",
       "       [23.        ],\n",
       "       [ 2.        ],\n",
       "       [29.69911765],\n",
       "       [17.        ],\n",
       "       [29.69911765],\n",
       "       [30.        ],\n",
       "       [ 7.        ],\n",
       "       [45.        ],\n",
       "       [30.        ],\n",
       "       [29.69911765],\n",
       "       [22.        ],\n",
       "       [36.        ],\n",
       "       [ 9.        ],\n",
       "       [11.        ],\n",
       "       [32.        ],\n",
       "       [50.        ],\n",
       "       [64.        ],\n",
       "       [19.        ],\n",
       "       [29.69911765],\n",
       "       [33.        ],\n",
       "       [ 8.        ],\n",
       "       [17.        ],\n",
       "       [27.        ],\n",
       "       [29.69911765],\n",
       "       [22.        ],\n",
       "       [22.        ],\n",
       "       [62.        ],\n",
       "       [48.        ],\n",
       "       [29.69911765],\n",
       "       [39.        ],\n",
       "       [36.        ],\n",
       "       [29.69911765],\n",
       "       [40.        ],\n",
       "       [28.        ],\n",
       "       [29.69911765],\n",
       "       [29.69911765],\n",
       "       [24.        ],\n",
       "       [19.        ],\n",
       "       [29.        ],\n",
       "       [29.69911765],\n",
       "       [32.        ],\n",
       "       [62.        ],\n",
       "       [53.        ],\n",
       "       [36.        ],\n",
       "       [29.69911765],\n",
       "       [16.        ],\n",
       "       [19.        ],\n",
       "       [34.        ],\n",
       "       [39.        ],\n",
       "       [29.69911765],\n",
       "       [32.        ],\n",
       "       [25.        ],\n",
       "       [39.        ],\n",
       "       [54.        ],\n",
       "       [36.        ],\n",
       "       [29.69911765],\n",
       "       [18.        ],\n",
       "       [47.        ],\n",
       "       [60.        ],\n",
       "       [22.        ],\n",
       "       [29.69911765],\n",
       "       [35.        ],\n",
       "       [52.        ],\n",
       "       [47.        ],\n",
       "       [29.69911765],\n",
       "       [37.        ],\n",
       "       [36.        ],\n",
       "       [29.69911765],\n",
       "       [49.        ],\n",
       "       [29.69911765],\n",
       "       [49.        ],\n",
       "       [24.        ],\n",
       "       [29.69911765],\n",
       "       [29.69911765],\n",
       "       [44.        ],\n",
       "       [35.        ],\n",
       "       [36.        ],\n",
       "       [30.        ],\n",
       "       [27.        ],\n",
       "       [22.        ],\n",
       "       [40.        ],\n",
       "       [39.        ],\n",
       "       [29.69911765],\n",
       "       [29.69911765],\n",
       "       [29.69911765],\n",
       "       [35.        ],\n",
       "       [24.        ],\n",
       "       [34.        ],\n",
       "       [26.        ],\n",
       "       [ 4.        ],\n",
       "       [26.        ],\n",
       "       [27.        ],\n",
       "       [42.        ],\n",
       "       [20.        ],\n",
       "       [21.        ],\n",
       "       [21.        ],\n",
       "       [61.        ],\n",
       "       [57.        ],\n",
       "       [21.        ],\n",
       "       [26.        ],\n",
       "       [29.69911765],\n",
       "       [80.        ],\n",
       "       [51.        ],\n",
       "       [32.        ],\n",
       "       [29.69911765],\n",
       "       [ 9.        ],\n",
       "       [28.        ],\n",
       "       [32.        ],\n",
       "       [31.        ],\n",
       "       [41.        ],\n",
       "       [29.69911765],\n",
       "       [20.        ],\n",
       "       [24.        ],\n",
       "       [ 2.        ],\n",
       "       [29.69911765],\n",
       "       [ 0.75      ],\n",
       "       [48.        ],\n",
       "       [19.        ],\n",
       "       [56.        ],\n",
       "       [29.69911765],\n",
       "       [23.        ],\n",
       "       [29.69911765],\n",
       "       [18.        ],\n",
       "       [21.        ],\n",
       "       [29.69911765],\n",
       "       [18.        ],\n",
       "       [24.        ],\n",
       "       [29.69911765],\n",
       "       [32.        ],\n",
       "       [23.        ],\n",
       "       [58.        ],\n",
       "       [50.        ],\n",
       "       [40.        ],\n",
       "       [47.        ],\n",
       "       [36.        ],\n",
       "       [20.        ],\n",
       "       [32.        ],\n",
       "       [25.        ],\n",
       "       [29.69911765],\n",
       "       [43.        ],\n",
       "       [29.69911765],\n",
       "       [40.        ],\n",
       "       [31.        ],\n",
       "       [70.        ],\n",
       "       [31.        ],\n",
       "       [29.69911765],\n",
       "       [18.        ],\n",
       "       [24.5       ],\n",
       "       [18.        ],\n",
       "       [43.        ],\n",
       "       [36.        ],\n",
       "       [29.69911765],\n",
       "       [27.        ],\n",
       "       [20.        ],\n",
       "       [14.        ],\n",
       "       [60.        ],\n",
       "       [25.        ],\n",
       "       [14.        ],\n",
       "       [19.        ],\n",
       "       [18.        ],\n",
       "       [15.        ],\n",
       "       [31.        ],\n",
       "       [ 4.        ],\n",
       "       [29.69911765],\n",
       "       [25.        ],\n",
       "       [60.        ],\n",
       "       [52.        ],\n",
       "       [44.        ],\n",
       "       [29.69911765],\n",
       "       [49.        ],\n",
       "       [42.        ],\n",
       "       [18.        ],\n",
       "       [35.        ],\n",
       "       [18.        ],\n",
       "       [25.        ],\n",
       "       [26.        ],\n",
       "       [39.        ],\n",
       "       [45.        ],\n",
       "       [42.        ],\n",
       "       [22.        ],\n",
       "       [29.69911765],\n",
       "       [24.        ],\n",
       "       [29.69911765],\n",
       "       [48.        ],\n",
       "       [29.        ],\n",
       "       [52.        ],\n",
       "       [19.        ],\n",
       "       [38.        ],\n",
       "       [27.        ],\n",
       "       [29.69911765],\n",
       "       [33.        ],\n",
       "       [ 6.        ],\n",
       "       [17.        ],\n",
       "       [34.        ],\n",
       "       [50.        ],\n",
       "       [27.        ],\n",
       "       [20.        ],\n",
       "       [30.        ],\n",
       "       [29.69911765],\n",
       "       [25.        ],\n",
       "       [25.        ],\n",
       "       [29.        ],\n",
       "       [11.        ],\n",
       "       [29.69911765],\n",
       "       [23.        ],\n",
       "       [23.        ],\n",
       "       [28.5       ],\n",
       "       [48.        ],\n",
       "       [35.        ],\n",
       "       [29.69911765],\n",
       "       [29.69911765],\n",
       "       [29.69911765],\n",
       "       [36.        ],\n",
       "       [21.        ],\n",
       "       [24.        ],\n",
       "       [31.        ],\n",
       "       [70.        ],\n",
       "       [16.        ],\n",
       "       [30.        ],\n",
       "       [19.        ],\n",
       "       [31.        ],\n",
       "       [ 4.        ],\n",
       "       [ 6.        ],\n",
       "       [33.        ],\n",
       "       [23.        ],\n",
       "       [48.        ],\n",
       "       [ 0.67      ],\n",
       "       [28.        ],\n",
       "       [18.        ],\n",
       "       [34.        ],\n",
       "       [33.        ],\n",
       "       [29.69911765],\n",
       "       [41.        ],\n",
       "       [20.        ],\n",
       "       [36.        ],\n",
       "       [16.        ],\n",
       "       [51.        ],\n",
       "       [29.69911765],\n",
       "       [30.5       ],\n",
       "       [29.69911765],\n",
       "       [32.        ],\n",
       "       [24.        ],\n",
       "       [48.        ],\n",
       "       [57.        ],\n",
       "       [29.69911765],\n",
       "       [54.        ],\n",
       "       [18.        ],\n",
       "       [29.69911765],\n",
       "       [ 5.        ],\n",
       "       [29.69911765],\n",
       "       [43.        ],\n",
       "       [13.        ],\n",
       "       [17.        ],\n",
       "       [29.        ],\n",
       "       [29.69911765],\n",
       "       [25.        ],\n",
       "       [25.        ],\n",
       "       [18.        ],\n",
       "       [ 8.        ],\n",
       "       [ 1.        ],\n",
       "       [46.        ],\n",
       "       [29.69911765],\n",
       "       [16.        ],\n",
       "       [29.69911765],\n",
       "       [29.69911765],\n",
       "       [25.        ],\n",
       "       [39.        ],\n",
       "       [49.        ],\n",
       "       [31.        ],\n",
       "       [30.        ],\n",
       "       [30.        ],\n",
       "       [34.        ],\n",
       "       [31.        ],\n",
       "       [11.        ],\n",
       "       [ 0.42      ],\n",
       "       [27.        ],\n",
       "       [31.        ],\n",
       "       [39.        ],\n",
       "       [18.        ],\n",
       "       [39.        ],\n",
       "       [33.        ],\n",
       "       [26.        ],\n",
       "       [39.        ],\n",
       "       [35.        ],\n",
       "       [ 6.        ],\n",
       "       [30.5       ],\n",
       "       [29.69911765],\n",
       "       [23.        ],\n",
       "       [31.        ],\n",
       "       [43.        ],\n",
       "       [10.        ],\n",
       "       [52.        ],\n",
       "       [27.        ],\n",
       "       [38.        ],\n",
       "       [27.        ],\n",
       "       [ 2.        ],\n",
       "       [29.69911765],\n",
       "       [29.69911765],\n",
       "       [ 1.        ],\n",
       "       [29.69911765],\n",
       "       [62.        ],\n",
       "       [15.        ],\n",
       "       [ 0.83      ],\n",
       "       [29.69911765],\n",
       "       [23.        ],\n",
       "       [18.        ],\n",
       "       [39.        ],\n",
       "       [21.        ],\n",
       "       [29.69911765],\n",
       "       [32.        ],\n",
       "       [29.69911765],\n",
       "       [20.        ],\n",
       "       [16.        ],\n",
       "       [30.        ],\n",
       "       [34.5       ],\n",
       "       [17.        ],\n",
       "       [42.        ],\n",
       "       [29.69911765],\n",
       "       [35.        ],\n",
       "       [28.        ],\n",
       "       [29.69911765],\n",
       "       [ 4.        ],\n",
       "       [74.        ],\n",
       "       [ 9.        ],\n",
       "       [16.        ],\n",
       "       [44.        ],\n",
       "       [18.        ],\n",
       "       [45.        ],\n",
       "       [51.        ],\n",
       "       [24.        ],\n",
       "       [29.69911765],\n",
       "       [41.        ],\n",
       "       [21.        ],\n",
       "       [48.        ],\n",
       "       [29.69911765],\n",
       "       [24.        ],\n",
       "       [42.        ],\n",
       "       [27.        ],\n",
       "       [31.        ],\n",
       "       [29.69911765],\n",
       "       [ 4.        ],\n",
       "       [26.        ],\n",
       "       [47.        ],\n",
       "       [33.        ],\n",
       "       [47.        ],\n",
       "       [28.        ],\n",
       "       [15.        ],\n",
       "       [20.        ],\n",
       "       [19.        ],\n",
       "       [29.69911765],\n",
       "       [56.        ],\n",
       "       [25.        ],\n",
       "       [33.        ],\n",
       "       [22.        ],\n",
       "       [28.        ],\n",
       "       [25.        ],\n",
       "       [39.        ],\n",
       "       [27.        ],\n",
       "       [19.        ],\n",
       "       [29.69911765],\n",
       "       [26.        ],\n",
       "       [32.        ]])"
      ]
     },
     "execution_count": 269,
     "metadata": {},
     "output_type": "execute_result"
    }
   ],
   "source": [
    "titan.head(5)\n",
    "ynew"
   ]
  },
  {
   "cell_type": "code",
   "execution_count": 270,
   "metadata": {},
   "outputs": [
    {
     "name": "stdout",
     "output_type": "stream",
     "text": [
      "22.0 : 22.0\n",
      "38.0 : 38.0\n",
      "26.0 : 26.0\n",
      "35.0 : 35.0\n",
      "35.0 : 35.0\n",
      "nan : 29.69911764705882\n",
      "54.0 : 54.0\n",
      "2.0 : 2.0\n",
      "27.0 : 27.0\n",
      "14.0 : 14.0\n",
      "4.0 : 4.0\n",
      "58.0 : 58.0\n",
      "20.0 : 20.0\n",
      "39.0 : 39.0\n",
      "14.0 : 14.0\n",
      "55.0 : 55.0\n",
      "2.0 : 2.0\n",
      "nan : 29.69911764705882\n",
      "31.0 : 31.0\n",
      "nan : 29.69911764705882\n",
      "35.0 : 35.0\n",
      "34.0 : 34.0\n",
      "15.0 : 15.0\n",
      "28.0 : 28.0\n",
      "8.0 : 8.0\n",
      "38.0 : 38.0\n",
      "nan : 29.69911764705882\n",
      "19.0 : 19.0\n",
      "nan : 29.69911764705882\n",
      "nan : 29.69911764705882\n",
      "40.0 : 40.0\n",
      "nan : 29.69911764705882\n",
      "nan : 29.69911764705882\n",
      "66.0 : 66.0\n",
      "28.0 : 28.0\n",
      "42.0 : 42.0\n",
      "nan : 29.69911764705882\n",
      "21.0 : 21.0\n",
      "18.0 : 18.0\n",
      "14.0 : 14.0\n",
      "40.0 : 40.0\n",
      "27.0 : 27.0\n",
      "nan : 29.69911764705882\n",
      "3.0 : 3.0\n",
      "19.0 : 19.0\n",
      "nan : 29.69911764705882\n",
      "nan : 29.69911764705882\n",
      "nan : 29.69911764705882\n",
      "nan : 29.69911764705882\n",
      "18.0 : 18.0\n",
      "7.0 : 7.0\n",
      "21.0 : 21.0\n",
      "49.0 : 49.0\n",
      "29.0 : 29.0\n",
      "65.0 : 65.0\n",
      "nan : 29.69911764705882\n",
      "21.0 : 21.0\n",
      "28.5 : 28.5\n",
      "5.0 : 5.0\n",
      "11.0 : 11.0\n",
      "22.0 : 22.0\n",
      "38.0 : 38.0\n",
      "45.0 : 45.0\n",
      "4.0 : 4.0\n",
      "nan : 29.69911764705882\n",
      "nan : 29.69911764705882\n",
      "29.0 : 29.0\n",
      "19.0 : 19.0\n",
      "17.0 : 17.0\n",
      "26.0 : 26.0\n",
      "32.0 : 32.0\n",
      "16.0 : 16.0\n",
      "21.0 : 21.0\n",
      "26.0 : 26.0\n",
      "32.0 : 32.0\n",
      "25.0 : 25.0\n",
      "nan : 29.69911764705882\n",
      "nan : 29.69911764705882\n",
      "0.83 : 0.83\n",
      "30.0 : 30.0\n",
      "22.0 : 22.0\n",
      "29.0 : 29.0\n",
      "nan : 29.69911764705882\n",
      "28.0 : 28.0\n",
      "17.0 : 17.0\n",
      "33.0 : 33.0\n",
      "16.0 : 16.0\n",
      "nan : 29.69911764705882\n",
      "23.0 : 23.0\n",
      "24.0 : 24.0\n",
      "29.0 : 29.0\n",
      "20.0 : 20.0\n",
      "46.0 : 46.0\n",
      "26.0 : 26.0\n",
      "59.0 : 59.0\n",
      "nan : 29.69911764705882\n",
      "71.0 : 71.0\n",
      "23.0 : 23.0\n",
      "34.0 : 34.0\n",
      "34.0 : 34.0\n",
      "28.0 : 28.0\n",
      "nan : 29.69911764705882\n",
      "21.0 : 21.0\n",
      "33.0 : 33.0\n",
      "37.0 : 37.0\n",
      "28.0 : 28.0\n",
      "21.0 : 21.0\n",
      "nan : 29.69911764705882\n",
      "38.0 : 38.0\n",
      "nan : 29.69911764705882\n",
      "47.0 : 47.0\n",
      "14.5 : 14.5\n",
      "22.0 : 22.0\n",
      "20.0 : 20.0\n",
      "17.0 : 17.0\n",
      "21.0 : 21.0\n",
      "70.5 : 70.5\n",
      "29.0 : 29.0\n",
      "24.0 : 24.0\n",
      "2.0 : 2.0\n",
      "21.0 : 21.0\n",
      "nan : 29.69911764705882\n",
      "32.5 : 32.5\n",
      "32.5 : 32.5\n",
      "54.0 : 54.0\n",
      "12.0 : 12.0\n",
      "nan : 29.69911764705882\n",
      "24.0 : 24.0\n",
      "nan : 29.69911764705882\n",
      "45.0 : 45.0\n",
      "33.0 : 33.0\n",
      "20.0 : 20.0\n",
      "47.0 : 47.0\n",
      "29.0 : 29.0\n",
      "25.0 : 25.0\n",
      "23.0 : 23.0\n",
      "19.0 : 19.0\n",
      "37.0 : 37.0\n",
      "16.0 : 16.0\n",
      "24.0 : 24.0\n",
      "nan : 29.69911764705882\n",
      "22.0 : 22.0\n",
      "24.0 : 24.0\n",
      "19.0 : 19.0\n",
      "18.0 : 18.0\n",
      "19.0 : 19.0\n",
      "27.0 : 27.0\n",
      "9.0 : 9.0\n",
      "36.5 : 36.5\n",
      "42.0 : 42.0\n",
      "51.0 : 51.0\n",
      "22.0 : 22.0\n",
      "55.5 : 55.5\n",
      "40.5 : 40.5\n",
      "nan : 29.69911764705882\n",
      "51.0 : 51.0\n",
      "16.0 : 16.0\n",
      "30.0 : 30.0\n",
      "nan : 29.69911764705882\n",
      "nan : 29.69911764705882\n",
      "44.0 : 44.0\n",
      "40.0 : 40.0\n",
      "26.0 : 26.0\n",
      "17.0 : 17.0\n",
      "1.0 : 1.0\n",
      "9.0 : 9.0\n",
      "nan : 29.69911764705882\n",
      "45.0 : 45.0\n",
      "nan : 29.69911764705882\n",
      "28.0 : 28.0\n",
      "61.0 : 61.0\n",
      "4.0 : 4.0\n",
      "1.0 : 1.0\n",
      "21.0 : 21.0\n",
      "56.0 : 56.0\n",
      "18.0 : 18.0\n",
      "nan : 29.69911764705882\n",
      "50.0 : 50.0\n",
      "30.0 : 30.0\n",
      "36.0 : 36.0\n",
      "nan : 29.69911764705882\n",
      "nan : 29.69911764705882\n",
      "9.0 : 9.0\n",
      "1.0 : 1.0\n",
      "4.0 : 4.0\n",
      "nan : 29.69911764705882\n",
      "nan : 29.69911764705882\n",
      "45.0 : 45.0\n",
      "40.0 : 40.0\n",
      "36.0 : 36.0\n",
      "32.0 : 32.0\n",
      "19.0 : 19.0\n",
      "19.0 : 19.0\n",
      "3.0 : 3.0\n",
      "44.0 : 44.0\n",
      "58.0 : 58.0\n",
      "nan : 29.69911764705882\n",
      "42.0 : 42.0\n",
      "nan : 29.69911764705882\n",
      "24.0 : 24.0\n",
      "28.0 : 28.0\n",
      "nan : 29.69911764705882\n",
      "34.0 : 34.0\n",
      "45.5 : 45.5\n",
      "18.0 : 18.0\n",
      "2.0 : 2.0\n",
      "32.0 : 32.0\n",
      "26.0 : 26.0\n",
      "16.0 : 16.0\n",
      "40.0 : 40.0\n",
      "24.0 : 24.0\n",
      "35.0 : 35.0\n",
      "22.0 : 22.0\n",
      "30.0 : 30.0\n",
      "nan : 29.69911764705882\n",
      "31.0 : 31.0\n",
      "27.0 : 27.0\n",
      "42.0 : 42.0\n",
      "32.0 : 32.0\n",
      "30.0 : 30.0\n",
      "16.0 : 16.0\n",
      "27.0 : 27.0\n",
      "51.0 : 51.0\n",
      "nan : 29.69911764705882\n",
      "38.0 : 38.0\n",
      "22.0 : 22.0\n",
      "19.0 : 19.0\n",
      "20.5 : 20.5\n",
      "18.0 : 18.0\n",
      "nan : 29.69911764705882\n",
      "35.0 : 35.0\n",
      "29.0 : 29.0\n",
      "59.0 : 59.0\n",
      "5.0 : 5.0\n",
      "24.0 : 24.0\n",
      "nan : 29.69911764705882\n",
      "44.0 : 44.0\n",
      "8.0 : 8.0\n",
      "19.0 : 19.0\n",
      "33.0 : 33.0\n",
      "nan : 29.69911764705882\n",
      "nan : 29.69911764705882\n",
      "29.0 : 29.0\n",
      "22.0 : 22.0\n",
      "30.0 : 30.0\n",
      "44.0 : 44.0\n",
      "25.0 : 25.0\n",
      "24.0 : 24.0\n",
      "37.0 : 37.0\n",
      "54.0 : 54.0\n",
      "nan : 29.69911764705882\n",
      "29.0 : 29.0\n",
      "62.0 : 62.0\n",
      "30.0 : 30.0\n",
      "41.0 : 41.0\n",
      "29.0 : 29.0\n",
      "nan : 29.69911764705882\n",
      "30.0 : 30.0\n",
      "35.0 : 35.0\n",
      "50.0 : 50.0\n",
      "nan : 29.69911764705882\n",
      "3.0 : 3.0\n",
      "52.0 : 52.0\n",
      "40.0 : 40.0\n",
      "nan : 29.69911764705882\n",
      "36.0 : 36.0\n",
      "16.0 : 16.0\n",
      "25.0 : 25.0\n",
      "58.0 : 58.0\n",
      "35.0 : 35.0\n",
      "nan : 29.69911764705882\n",
      "25.0 : 25.0\n",
      "41.0 : 41.0\n",
      "37.0 : 37.0\n",
      "nan : 29.69911764705882\n",
      "63.0 : 63.0\n",
      "45.0 : 45.0\n",
      "nan : 29.69911764705882\n",
      "7.0 : 7.0\n",
      "35.0 : 35.0\n",
      "65.0 : 65.0\n",
      "28.0 : 28.0\n",
      "16.0 : 16.0\n",
      "19.0 : 19.0\n",
      "nan : 29.69911764705882\n",
      "33.0 : 33.0\n",
      "30.0 : 30.0\n",
      "22.0 : 22.0\n",
      "42.0 : 42.0\n",
      "22.0 : 22.0\n",
      "26.0 : 26.0\n",
      "19.0 : 19.0\n",
      "36.0 : 36.0\n",
      "24.0 : 24.0\n",
      "24.0 : 24.0\n",
      "nan : 29.69911764705882\n",
      "23.5 : 23.5\n",
      "2.0 : 2.0\n",
      "nan : 29.69911764705882\n",
      "50.0 : 50.0\n",
      "nan : 29.69911764705882\n",
      "nan : 29.69911764705882\n",
      "19.0 : 19.0\n",
      "nan : 29.69911764705882\n",
      "nan : 29.69911764705882\n",
      "0.92 : 0.92\n",
      "nan : 29.69911764705882\n",
      "17.0 : 17.0\n",
      "30.0 : 30.0\n",
      "30.0 : 30.0\n",
      "24.0 : 24.0\n",
      "18.0 : 18.0\n",
      "26.0 : 26.0\n",
      "28.0 : 28.0\n",
      "43.0 : 43.0\n",
      "26.0 : 26.0\n",
      "24.0 : 24.0\n",
      "54.0 : 54.0\n",
      "31.0 : 31.0\n",
      "40.0 : 40.0\n",
      "22.0 : 22.0\n",
      "27.0 : 27.0\n",
      "30.0 : 30.0\n",
      "22.0 : 22.0\n",
      "nan : 29.69911764705882\n",
      "36.0 : 36.0\n",
      "61.0 : 61.0\n",
      "36.0 : 36.0\n",
      "31.0 : 31.0\n",
      "16.0 : 16.0\n",
      "nan : 29.69911764705882\n",
      "45.5 : 45.5\n",
      "38.0 : 38.0\n",
      "16.0 : 16.0\n",
      "nan : 29.69911764705882\n",
      "nan : 29.69911764705882\n",
      "29.0 : 29.0\n",
      "41.0 : 41.0\n",
      "45.0 : 45.0\n",
      "45.0 : 45.0\n",
      "2.0 : 2.0\n",
      "24.0 : 24.0\n",
      "28.0 : 28.0\n",
      "25.0 : 25.0\n",
      "36.0 : 36.0\n",
      "24.0 : 24.0\n",
      "40.0 : 40.0\n",
      "nan : 29.69911764705882\n",
      "3.0 : 3.0\n",
      "42.0 : 42.0\n",
      "23.0 : 23.0\n",
      "nan : 29.69911764705882\n",
      "15.0 : 15.0\n",
      "25.0 : 25.0\n",
      "nan : 29.69911764705882\n",
      "28.0 : 28.0\n",
      "22.0 : 22.0\n",
      "38.0 : 38.0\n",
      "nan : 29.69911764705882\n",
      "nan : 29.69911764705882\n",
      "40.0 : 40.0\n",
      "29.0 : 29.0\n",
      "45.0 : 45.0\n",
      "35.0 : 35.0\n",
      "nan : 29.69911764705882\n",
      "30.0 : 30.0\n",
      "60.0 : 60.0\n",
      "nan : 29.69911764705882\n",
      "nan : 29.69911764705882\n",
      "24.0 : 24.0\n",
      "25.0 : 25.0\n",
      "18.0 : 18.0\n",
      "19.0 : 19.0\n",
      "22.0 : 22.0\n",
      "3.0 : 3.0\n",
      "nan : 29.69911764705882\n",
      "22.0 : 22.0\n",
      "27.0 : 27.0\n",
      "20.0 : 20.0\n",
      "19.0 : 19.0\n",
      "42.0 : 42.0\n",
      "1.0 : 1.0\n",
      "32.0 : 32.0\n",
      "35.0 : 35.0\n",
      "nan : 29.69911764705882\n",
      "18.0 : 18.0\n",
      "1.0 : 1.0\n",
      "36.0 : 36.0\n",
      "nan : 29.69911764705882\n",
      "17.0 : 17.0\n",
      "36.0 : 36.0\n",
      "21.0 : 21.0\n",
      "28.0 : 28.0\n",
      "23.0 : 23.0\n",
      "24.0 : 24.0\n",
      "22.0 : 22.0\n",
      "31.0 : 31.0\n",
      "46.0 : 46.0\n",
      "23.0 : 23.0\n",
      "28.0 : 28.0\n",
      "39.0 : 39.0\n",
      "26.0 : 26.0\n",
      "21.0 : 21.0\n",
      "28.0 : 28.0\n",
      "20.0 : 20.0\n",
      "34.0 : 34.0\n",
      "51.0 : 51.0\n",
      "3.0 : 3.0\n",
      "21.0 : 21.0\n",
      "nan : 29.69911764705882\n",
      "nan : 29.69911764705882\n",
      "nan : 29.69911764705882\n",
      "33.0 : 33.0\n",
      "nan : 29.69911764705882\n",
      "44.0 : 44.0\n",
      "nan : 29.69911764705882\n",
      "34.0 : 34.0\n",
      "18.0 : 18.0\n",
      "30.0 : 30.0\n",
      "10.0 : 10.0\n",
      "nan : 29.69911764705882\n",
      "21.0 : 21.0\n",
      "29.0 : 29.0\n",
      "28.0 : 28.0\n",
      "18.0 : 18.0\n",
      "nan : 29.69911764705882\n",
      "28.0 : 28.0\n",
      "19.0 : 19.0\n",
      "nan : 29.69911764705882\n",
      "32.0 : 32.0\n",
      "28.0 : 28.0\n",
      "nan : 29.69911764705882\n",
      "42.0 : 42.0\n",
      "17.0 : 17.0\n",
      "50.0 : 50.0\n",
      "14.0 : 14.0\n",
      "21.0 : 21.0\n",
      "24.0 : 24.0\n",
      "64.0 : 64.0\n",
      "31.0 : 31.0\n",
      "45.0 : 45.0\n",
      "20.0 : 20.0\n",
      "25.0 : 25.0\n",
      "28.0 : 28.0\n",
      "nan : 29.69911764705882\n",
      "4.0 : 4.0\n",
      "13.0 : 13.0\n",
      "34.0 : 34.0\n",
      "5.0 : 5.0\n",
      "52.0 : 52.0\n",
      "36.0 : 36.0\n",
      "nan : 29.69911764705882\n",
      "30.0 : 30.0\n",
      "49.0 : 49.0\n",
      "nan : 29.69911764705882\n",
      "29.0 : 29.0\n",
      "65.0 : 65.0\n",
      "nan : 29.69911764705882\n",
      "50.0 : 50.0\n",
      "nan : 29.69911764705882\n",
      "48.0 : 48.0\n",
      "34.0 : 34.0\n",
      "47.0 : 47.0\n",
      "48.0 : 48.0\n",
      "nan : 29.69911764705882\n",
      "38.0 : 38.0\n",
      "nan : 29.69911764705882\n",
      "56.0 : 56.0\n",
      "nan : 29.69911764705882\n",
      "0.75 : 0.75\n",
      "nan : 29.69911764705882\n",
      "38.0 : 38.0\n",
      "33.0 : 33.0\n",
      "23.0 : 23.0\n",
      "22.0 : 22.0\n",
      "nan : 29.69911764705882\n",
      "34.0 : 34.0\n",
      "29.0 : 29.0\n",
      "22.0 : 22.0\n",
      "2.0 : 2.0\n",
      "9.0 : 9.0\n",
      "nan : 29.69911764705882\n",
      "50.0 : 50.0\n",
      "63.0 : 63.0\n",
      "25.0 : 25.0\n",
      "nan : 29.69911764705882\n",
      "35.0 : 35.0\n",
      "58.0 : 58.0\n",
      "30.0 : 30.0\n",
      "9.0 : 9.0\n",
      "nan : 29.69911764705882\n",
      "21.0 : 21.0\n",
      "55.0 : 55.0\n",
      "71.0 : 71.0\n",
      "21.0 : 21.0\n",
      "nan : 29.69911764705882\n",
      "54.0 : 54.0\n",
      "nan : 29.69911764705882\n",
      "25.0 : 25.0\n",
      "24.0 : 24.0\n",
      "17.0 : 17.0\n",
      "21.0 : 21.0\n",
      "nan : 29.69911764705882\n",
      "37.0 : 37.0\n",
      "16.0 : 16.0\n",
      "18.0 : 18.0\n",
      "33.0 : 33.0\n",
      "nan : 29.69911764705882\n",
      "28.0 : 28.0\n",
      "26.0 : 26.0\n",
      "29.0 : 29.0\n",
      "nan : 29.69911764705882\n",
      "36.0 : 36.0\n",
      "54.0 : 54.0\n",
      "24.0 : 24.0\n",
      "47.0 : 47.0\n",
      "34.0 : 34.0\n",
      "nan : 29.69911764705882\n",
      "36.0 : 36.0\n",
      "32.0 : 32.0\n",
      "30.0 : 30.0\n",
      "22.0 : 22.0\n",
      "nan : 29.69911764705882\n",
      "44.0 : 44.0\n",
      "nan : 29.69911764705882\n",
      "40.5 : 40.5\n",
      "50.0 : 50.0\n",
      "nan : 29.69911764705882\n",
      "39.0 : 39.0\n",
      "23.0 : 23.0\n",
      "2.0 : 2.0\n",
      "nan : 29.69911764705882\n",
      "17.0 : 17.0\n",
      "nan : 29.69911764705882\n",
      "30.0 : 30.0\n",
      "7.0 : 7.0\n",
      "45.0 : 45.0\n",
      "30.0 : 30.0\n",
      "nan : 29.69911764705882\n",
      "22.0 : 22.0\n",
      "36.0 : 36.0\n",
      "9.0 : 9.0\n",
      "11.0 : 11.0\n",
      "32.0 : 32.0\n",
      "50.0 : 50.0\n",
      "64.0 : 64.0\n",
      "19.0 : 19.0\n",
      "nan : 29.69911764705882\n",
      "33.0 : 33.0\n",
      "8.0 : 8.0\n",
      "17.0 : 17.0\n",
      "27.0 : 27.0\n",
      "nan : 29.69911764705882\n",
      "22.0 : 22.0\n",
      "22.0 : 22.0\n",
      "62.0 : 62.0\n",
      "48.0 : 48.0\n",
      "nan : 29.69911764705882\n",
      "39.0 : 39.0\n",
      "36.0 : 36.0\n",
      "nan : 29.69911764705882\n",
      "40.0 : 40.0\n",
      "28.0 : 28.0\n",
      "nan : 29.69911764705882\n",
      "nan : 29.69911764705882\n",
      "24.0 : 24.0\n",
      "19.0 : 19.0\n",
      "29.0 : 29.0\n",
      "nan : 29.69911764705882\n",
      "32.0 : 32.0\n",
      "62.0 : 62.0\n",
      "53.0 : 53.0\n",
      "36.0 : 36.0\n",
      "nan : 29.69911764705882\n",
      "16.0 : 16.0\n",
      "19.0 : 19.0\n",
      "34.0 : 34.0\n",
      "39.0 : 39.0\n",
      "nan : 29.69911764705882\n",
      "32.0 : 32.0\n",
      "25.0 : 25.0\n",
      "39.0 : 39.0\n",
      "54.0 : 54.0\n",
      "36.0 : 36.0\n",
      "nan : 29.69911764705882\n",
      "18.0 : 18.0\n",
      "47.0 : 47.0\n",
      "60.0 : 60.0\n",
      "22.0 : 22.0\n",
      "nan : 29.69911764705882\n",
      "35.0 : 35.0\n",
      "52.0 : 52.0\n",
      "47.0 : 47.0\n",
      "nan : 29.69911764705882\n",
      "37.0 : 37.0\n",
      "36.0 : 36.0\n",
      "nan : 29.69911764705882\n",
      "49.0 : 49.0\n",
      "nan : 29.69911764705882\n",
      "49.0 : 49.0\n",
      "24.0 : 24.0\n",
      "nan : 29.69911764705882\n",
      "nan : 29.69911764705882\n",
      "44.0 : 44.0\n",
      "35.0 : 35.0\n",
      "36.0 : 36.0\n",
      "30.0 : 30.0\n",
      "27.0 : 27.0\n",
      "22.0 : 22.0\n",
      "40.0 : 40.0\n",
      "39.0 : 39.0\n",
      "nan : 29.69911764705882\n",
      "nan : 29.69911764705882\n",
      "nan : 29.69911764705882\n",
      "35.0 : 35.0\n",
      "24.0 : 24.0\n",
      "34.0 : 34.0\n",
      "26.0 : 26.0\n",
      "4.0 : 4.0\n",
      "26.0 : 26.0\n",
      "27.0 : 27.0\n",
      "42.0 : 42.0\n",
      "20.0 : 20.0\n",
      "21.0 : 21.0\n",
      "21.0 : 21.0\n",
      "61.0 : 61.0\n",
      "57.0 : 57.0\n",
      "21.0 : 21.0\n",
      "26.0 : 26.0\n",
      "nan : 29.69911764705882\n",
      "80.0 : 80.0\n",
      "51.0 : 51.0\n",
      "32.0 : 32.0\n",
      "nan : 29.69911764705882\n",
      "9.0 : 9.0\n",
      "28.0 : 28.0\n",
      "32.0 : 32.0\n",
      "31.0 : 31.0\n",
      "41.0 : 41.0\n",
      "nan : 29.69911764705882\n",
      "20.0 : 20.0\n",
      "24.0 : 24.0\n",
      "2.0 : 2.0\n",
      "nan : 29.69911764705882\n",
      "0.75 : 0.75\n",
      "48.0 : 48.0\n",
      "19.0 : 19.0\n",
      "56.0 : 56.0\n",
      "nan : 29.69911764705882\n",
      "23.0 : 23.0\n",
      "nan : 29.69911764705882\n",
      "18.0 : 18.0\n",
      "21.0 : 21.0\n",
      "nan : 29.69911764705882\n",
      "18.0 : 18.0\n",
      "24.0 : 24.0\n",
      "nan : 29.69911764705882\n",
      "32.0 : 32.0\n",
      "23.0 : 23.0\n",
      "58.0 : 58.0\n",
      "50.0 : 50.0\n",
      "40.0 : 40.0\n",
      "47.0 : 47.0\n",
      "36.0 : 36.0\n",
      "20.0 : 20.0\n",
      "32.0 : 32.0\n",
      "25.0 : 25.0\n",
      "nan : 29.69911764705882\n",
      "43.0 : 43.0\n",
      "nan : 29.69911764705882\n",
      "40.0 : 40.0\n",
      "31.0 : 31.0\n",
      "70.0 : 70.0\n",
      "31.0 : 31.0\n",
      "nan : 29.69911764705882\n",
      "18.0 : 18.0\n",
      "24.5 : 24.5\n",
      "18.0 : 18.0\n",
      "43.0 : 43.0\n",
      "36.0 : 36.0\n",
      "nan : 29.69911764705882\n",
      "27.0 : 27.0\n",
      "20.0 : 20.0\n",
      "14.0 : 14.0\n",
      "60.0 : 60.0\n",
      "25.0 : 25.0\n",
      "14.0 : 14.0\n",
      "19.0 : 19.0\n",
      "18.0 : 18.0\n",
      "15.0 : 15.0\n",
      "31.0 : 31.0\n",
      "4.0 : 4.0\n",
      "nan : 29.69911764705882\n",
      "25.0 : 25.0\n",
      "60.0 : 60.0\n",
      "52.0 : 52.0\n",
      "44.0 : 44.0\n",
      "nan : 29.69911764705882\n",
      "49.0 : 49.0\n",
      "42.0 : 42.0\n",
      "18.0 : 18.0\n",
      "35.0 : 35.0\n",
      "18.0 : 18.0\n",
      "25.0 : 25.0\n",
      "26.0 : 26.0\n",
      "39.0 : 39.0\n",
      "45.0 : 45.0\n",
      "42.0 : 42.0\n",
      "22.0 : 22.0\n",
      "nan : 29.69911764705882\n",
      "24.0 : 24.0\n",
      "nan : 29.69911764705882\n",
      "48.0 : 48.0\n",
      "29.0 : 29.0\n",
      "52.0 : 52.0\n",
      "19.0 : 19.0\n",
      "38.0 : 38.0\n",
      "27.0 : 27.0\n",
      "nan : 29.69911764705882\n",
      "33.0 : 33.0\n",
      "6.0 : 6.0\n",
      "17.0 : 17.0\n",
      "34.0 : 34.0\n",
      "50.0 : 50.0\n",
      "27.0 : 27.0\n",
      "20.0 : 20.0\n",
      "30.0 : 30.0\n",
      "nan : 29.69911764705882\n",
      "25.0 : 25.0\n",
      "25.0 : 25.0\n",
      "29.0 : 29.0\n",
      "11.0 : 11.0\n",
      "nan : 29.69911764705882\n",
      "23.0 : 23.0\n",
      "23.0 : 23.0\n",
      "28.5 : 28.5\n",
      "48.0 : 48.0\n",
      "35.0 : 35.0\n",
      "nan : 29.69911764705882\n",
      "nan : 29.69911764705882\n",
      "nan : 29.69911764705882\n",
      "36.0 : 36.0\n",
      "21.0 : 21.0\n",
      "24.0 : 24.0\n",
      "31.0 : 31.0\n",
      "70.0 : 70.0\n",
      "16.0 : 16.0\n",
      "30.0 : 30.0\n",
      "19.0 : 19.0\n",
      "31.0 : 31.0\n",
      "4.0 : 4.0\n",
      "6.0 : 6.0\n",
      "33.0 : 33.0\n",
      "23.0 : 23.0\n",
      "48.0 : 48.0\n",
      "0.67 : 0.67\n",
      "28.0 : 28.0\n",
      "18.0 : 18.0\n",
      "34.0 : 34.0\n",
      "33.0 : 33.0\n",
      "nan : 29.69911764705882\n",
      "41.0 : 41.0\n",
      "20.0 : 20.0\n",
      "36.0 : 36.0\n",
      "16.0 : 16.0\n",
      "51.0 : 51.0\n",
      "nan : 29.69911764705882\n",
      "30.5 : 30.5\n",
      "nan : 29.69911764705882\n",
      "32.0 : 32.0\n",
      "24.0 : 24.0\n",
      "48.0 : 48.0\n",
      "57.0 : 57.0\n",
      "nan : 29.69911764705882\n",
      "54.0 : 54.0\n",
      "18.0 : 18.0\n",
      "nan : 29.69911764705882\n",
      "5.0 : 5.0\n",
      "nan : 29.69911764705882\n",
      "43.0 : 43.0\n",
      "13.0 : 13.0\n",
      "17.0 : 17.0\n",
      "29.0 : 29.0\n",
      "nan : 29.69911764705882\n",
      "25.0 : 25.0\n",
      "25.0 : 25.0\n",
      "18.0 : 18.0\n",
      "8.0 : 8.0\n",
      "1.0 : 1.0\n",
      "46.0 : 46.0\n",
      "nan : 29.69911764705882\n",
      "16.0 : 16.0\n",
      "nan : 29.69911764705882\n",
      "nan : 29.69911764705882\n",
      "25.0 : 25.0\n",
      "39.0 : 39.0\n",
      "49.0 : 49.0\n",
      "31.0 : 31.0\n",
      "30.0 : 30.0\n",
      "30.0 : 30.0\n",
      "34.0 : 34.0\n",
      "31.0 : 31.0\n",
      "11.0 : 11.0\n",
      "0.42 : 0.42\n",
      "27.0 : 27.0\n",
      "31.0 : 31.0\n",
      "39.0 : 39.0\n",
      "18.0 : 18.0\n",
      "39.0 : 39.0\n",
      "33.0 : 33.0\n",
      "26.0 : 26.0\n",
      "39.0 : 39.0\n",
      "35.0 : 35.0\n",
      "6.0 : 6.0\n",
      "30.5 : 30.5\n",
      "nan : 29.69911764705882\n",
      "23.0 : 23.0\n",
      "31.0 : 31.0\n",
      "43.0 : 43.0\n",
      "10.0 : 10.0\n",
      "52.0 : 52.0\n",
      "27.0 : 27.0\n",
      "38.0 : 38.0\n",
      "27.0 : 27.0\n",
      "2.0 : 2.0\n",
      "nan : 29.69911764705882\n",
      "nan : 29.69911764705882\n",
      "1.0 : 1.0\n",
      "nan : 29.69911764705882\n",
      "62.0 : 62.0\n",
      "15.0 : 15.0\n",
      "0.83 : 0.83\n",
      "nan : 29.69911764705882\n",
      "23.0 : 23.0\n",
      "18.0 : 18.0\n",
      "39.0 : 39.0\n",
      "21.0 : 21.0\n",
      "nan : 29.69911764705882\n",
      "32.0 : 32.0\n",
      "nan : 29.69911764705882\n",
      "20.0 : 20.0\n",
      "16.0 : 16.0\n",
      "30.0 : 30.0\n",
      "34.5 : 34.5\n",
      "17.0 : 17.0\n",
      "42.0 : 42.0\n",
      "nan : 29.69911764705882\n",
      "35.0 : 35.0\n",
      "28.0 : 28.0\n",
      "nan : 29.69911764705882\n",
      "4.0 : 4.0\n",
      "74.0 : 74.0\n",
      "9.0 : 9.0\n",
      "16.0 : 16.0\n",
      "44.0 : 44.0\n",
      "18.0 : 18.0\n",
      "45.0 : 45.0\n",
      "51.0 : 51.0\n",
      "24.0 : 24.0\n",
      "nan : 29.69911764705882\n",
      "41.0 : 41.0\n",
      "21.0 : 21.0\n",
      "48.0 : 48.0\n",
      "nan : 29.69911764705882\n",
      "24.0 : 24.0\n",
      "42.0 : 42.0\n",
      "27.0 : 27.0\n",
      "31.0 : 31.0\n",
      "nan : 29.69911764705882\n",
      "4.0 : 4.0\n",
      "26.0 : 26.0\n",
      "47.0 : 47.0\n",
      "33.0 : 33.0\n",
      "47.0 : 47.0\n",
      "28.0 : 28.0\n",
      "15.0 : 15.0\n",
      "20.0 : 20.0\n",
      "19.0 : 19.0\n",
      "nan : 29.69911764705882\n",
      "56.0 : 56.0\n",
      "25.0 : 25.0\n",
      "33.0 : 33.0\n",
      "22.0 : 22.0\n",
      "28.0 : 28.0\n",
      "25.0 : 25.0\n",
      "39.0 : 39.0\n",
      "27.0 : 27.0\n",
      "19.0 : 19.0\n",
      "nan : 29.69911764705882\n",
      "26.0 : 26.0\n",
      "32.0 : 32.0\n"
     ]
    }
   ],
   "source": [
    "pd.DataFrame(ynew).shape\n",
    "for i, x in enumerate(yi):\n",
    "    print( str(yi[i][0]) + \" : \"+ str(ynew[i][0]))"
   ]
  },
  {
   "cell_type": "code",
   "execution_count": 271,
   "metadata": {},
   "outputs": [
    {
     "data": {
      "text/plain": [
       "(891, 10)"
      ]
     },
     "execution_count": 271,
     "metadata": {},
     "output_type": "execute_result"
    }
   ],
   "source": [
    "titan.shape"
   ]
  },
  {
   "cell_type": "code",
   "execution_count": 272,
   "metadata": {},
   "outputs": [],
   "source": [
    "titan= pd.concat([pd.DataFrame(ynew),titan],axis=1)"
   ]
  },
  {
   "cell_type": "code",
   "execution_count": 273,
   "metadata": {},
   "outputs": [],
   "source": [
    "titan=titan.drop(['Age'],axis=1)"
   ]
  },
  {
   "cell_type": "code",
   "execution_count": 274,
   "metadata": {},
   "outputs": [],
   "source": [
    "titan.rename(columns={0:'Age'},inplace=True)"
   ]
  },
  {
   "cell_type": "code",
   "execution_count": 275,
   "metadata": {},
   "outputs": [
    {
     "data": {
      "text/plain": [
       "0"
      ]
     },
     "execution_count": 275,
     "metadata": {},
     "output_type": "execute_result"
    }
   ],
   "source": [
    "np.sum(titan.Age == np.nan)"
   ]
  },
  {
   "cell_type": "code",
   "execution_count": 276,
   "metadata": {},
   "outputs": [
    {
     "data": {
      "text/plain": [
       "0      22.000000\n",
       "1      38.000000\n",
       "2      26.000000\n",
       "3      35.000000\n",
       "4      35.000000\n",
       "         ...    \n",
       "886    27.000000\n",
       "887    19.000000\n",
       "888    29.699118\n",
       "889    26.000000\n",
       "890    32.000000\n",
       "Name: Age, Length: 891, dtype: float64"
      ]
     },
     "execution_count": 276,
     "metadata": {},
     "output_type": "execute_result"
    }
   ],
   "source": [
    "titan.Age"
   ]
  },
  {
   "cell_type": "code",
   "execution_count": 277,
   "metadata": {},
   "outputs": [
    {
     "data": {
      "text/html": [
       "<div>\n",
       "<style scoped>\n",
       "    .dataframe tbody tr th:only-of-type {\n",
       "        vertical-align: middle;\n",
       "    }\n",
       "\n",
       "    .dataframe tbody tr th {\n",
       "        vertical-align: top;\n",
       "    }\n",
       "\n",
       "    .dataframe thead th {\n",
       "        text-align: right;\n",
       "    }\n",
       "</style>\n",
       "<table border=\"1\" class=\"dataframe\">\n",
       "  <thead>\n",
       "    <tr style=\"text-align: right;\">\n",
       "      <th></th>\n",
       "      <th>Age</th>\n",
       "      <th>PassengerId</th>\n",
       "      <th>Survived</th>\n",
       "      <th>Pclass</th>\n",
       "      <th>Name</th>\n",
       "      <th>Sex</th>\n",
       "      <th>SibSp</th>\n",
       "      <th>Parch</th>\n",
       "      <th>Fare</th>\n",
       "      <th>Embarked</th>\n",
       "    </tr>\n",
       "  </thead>\n",
       "  <tbody>\n",
       "    <tr>\n",
       "      <th>0</th>\n",
       "      <td>22.0</td>\n",
       "      <td>1</td>\n",
       "      <td>0</td>\n",
       "      <td>3</td>\n",
       "      <td>Braund, Mr. Owen Harris</td>\n",
       "      <td>1</td>\n",
       "      <td>1</td>\n",
       "      <td>0</td>\n",
       "      <td>7.2500</td>\n",
       "      <td>S</td>\n",
       "    </tr>\n",
       "    <tr>\n",
       "      <th>1</th>\n",
       "      <td>38.0</td>\n",
       "      <td>2</td>\n",
       "      <td>1</td>\n",
       "      <td>1</td>\n",
       "      <td>Cumings, Mrs. John Bradley (Florence Briggs Th...</td>\n",
       "      <td>0</td>\n",
       "      <td>1</td>\n",
       "      <td>0</td>\n",
       "      <td>71.2833</td>\n",
       "      <td>C</td>\n",
       "    </tr>\n",
       "  </tbody>\n",
       "</table>\n",
       "</div>"
      ],
      "text/plain": [
       "    Age  PassengerId  Survived  Pclass  \\\n",
       "0  22.0            1         0       3   \n",
       "1  38.0            2         1       1   \n",
       "\n",
       "                                                Name  Sex  SibSp  Parch  \\\n",
       "0                            Braund, Mr. Owen Harris    1      1      0   \n",
       "1  Cumings, Mrs. John Bradley (Florence Briggs Th...    0      1      0   \n",
       "\n",
       "      Fare Embarked  \n",
       "0   7.2500        S  \n",
       "1  71.2833        C  "
      ]
     },
     "execution_count": 277,
     "metadata": {},
     "output_type": "execute_result"
    }
   ],
   "source": [
    "titan.head(2)"
   ]
  },
  {
   "cell_type": "code",
   "execution_count": 278,
   "metadata": {},
   "outputs": [
    {
     "data": {
      "text/plain": [
       "0      22.000000\n",
       "1      38.000000\n",
       "2      26.000000\n",
       "3      35.000000\n",
       "4      35.000000\n",
       "         ...    \n",
       "886    27.000000\n",
       "887    19.000000\n",
       "888    29.699118\n",
       "889    26.000000\n",
       "890    32.000000\n",
       "Name: Age, Length: 891, dtype: float64"
      ]
     },
     "execution_count": 278,
     "metadata": {},
     "output_type": "execute_result"
    }
   ],
   "source": [
    "titan.Age"
   ]
  },
  {
   "cell_type": "code",
   "execution_count": null,
   "metadata": {},
   "outputs": [],
   "source": []
  },
  {
   "cell_type": "code",
   "execution_count": 279,
   "metadata": {},
   "outputs": [
    {
     "data": {
      "text/html": [
       "<div>\n",
       "<style scoped>\n",
       "    .dataframe tbody tr th:only-of-type {\n",
       "        vertical-align: middle;\n",
       "    }\n",
       "\n",
       "    .dataframe tbody tr th {\n",
       "        vertical-align: top;\n",
       "    }\n",
       "\n",
       "    .dataframe thead th {\n",
       "        text-align: right;\n",
       "    }\n",
       "</style>\n",
       "<table border=\"1\" class=\"dataframe\">\n",
       "  <thead>\n",
       "    <tr style=\"text-align: right;\">\n",
       "      <th></th>\n",
       "      <th>Age</th>\n",
       "      <th>PassengerId</th>\n",
       "      <th>Survived</th>\n",
       "      <th>Pclass</th>\n",
       "      <th>Name</th>\n",
       "      <th>Sex</th>\n",
       "      <th>SibSp</th>\n",
       "      <th>Parch</th>\n",
       "      <th>Fare</th>\n",
       "      <th>Embarked</th>\n",
       "    </tr>\n",
       "  </thead>\n",
       "  <tbody>\n",
       "    <tr>\n",
       "      <th>0</th>\n",
       "      <td>22.0</td>\n",
       "      <td>1</td>\n",
       "      <td>0</td>\n",
       "      <td>3</td>\n",
       "      <td>Braund, Mr. Owen Harris</td>\n",
       "      <td>1</td>\n",
       "      <td>1</td>\n",
       "      <td>0</td>\n",
       "      <td>7.2500</td>\n",
       "      <td>S</td>\n",
       "    </tr>\n",
       "    <tr>\n",
       "      <th>1</th>\n",
       "      <td>38.0</td>\n",
       "      <td>2</td>\n",
       "      <td>1</td>\n",
       "      <td>1</td>\n",
       "      <td>Cumings, Mrs. John Bradley (Florence Briggs Th...</td>\n",
       "      <td>0</td>\n",
       "      <td>1</td>\n",
       "      <td>0</td>\n",
       "      <td>71.2833</td>\n",
       "      <td>C</td>\n",
       "    </tr>\n",
       "  </tbody>\n",
       "</table>\n",
       "</div>"
      ],
      "text/plain": [
       "    Age  PassengerId  Survived  Pclass  \\\n",
       "0  22.0            1         0       3   \n",
       "1  38.0            2         1       1   \n",
       "\n",
       "                                                Name  Sex  SibSp  Parch  \\\n",
       "0                            Braund, Mr. Owen Harris    1      1      0   \n",
       "1  Cumings, Mrs. John Bradley (Florence Briggs Th...    0      1      0   \n",
       "\n",
       "      Fare Embarked  \n",
       "0   7.2500        S  \n",
       "1  71.2833        C  "
      ]
     },
     "execution_count": 279,
     "metadata": {},
     "output_type": "execute_result"
    }
   ],
   "source": [
    "titan.head(2)"
   ]
  },
  {
   "cell_type": "code",
   "execution_count": 280,
   "metadata": {},
   "outputs": [
    {
     "data": {
      "text/plain": [
       "0      0.0\n",
       "1      3.0\n",
       "2      1.0\n",
       "3      3.0\n",
       "4      1.0\n",
       "      ... \n",
       "886    1.0\n",
       "887    2.0\n",
       "888    2.0\n",
       "889    2.0\n",
       "890    0.0\n",
       "Name: Fare, Length: 891, dtype: float64"
      ]
     },
     "execution_count": 280,
     "metadata": {},
     "output_type": "execute_result"
    }
   ],
   "source": [
    "titan.Fare.apply(convert_num)"
   ]
  },
  {
   "cell_type": "code",
   "execution_count": 281,
   "metadata": {},
   "outputs": [
    {
     "data": {
      "text/html": [
       "<div>\n",
       "<style scoped>\n",
       "    .dataframe tbody tr th:only-of-type {\n",
       "        vertical-align: middle;\n",
       "    }\n",
       "\n",
       "    .dataframe tbody tr th {\n",
       "        vertical-align: top;\n",
       "    }\n",
       "\n",
       "    .dataframe thead th {\n",
       "        text-align: right;\n",
       "    }\n",
       "</style>\n",
       "<table border=\"1\" class=\"dataframe\">\n",
       "  <thead>\n",
       "    <tr style=\"text-align: right;\">\n",
       "      <th></th>\n",
       "      <th>Age</th>\n",
       "      <th>PassengerId</th>\n",
       "      <th>Survived</th>\n",
       "      <th>Pclass</th>\n",
       "      <th>Name</th>\n",
       "      <th>Sex</th>\n",
       "      <th>SibSp</th>\n",
       "      <th>Parch</th>\n",
       "      <th>Fare</th>\n",
       "      <th>Embarked</th>\n",
       "    </tr>\n",
       "  </thead>\n",
       "  <tbody>\n",
       "    <tr>\n",
       "      <th>0</th>\n",
       "      <td>22.0</td>\n",
       "      <td>1</td>\n",
       "      <td>0</td>\n",
       "      <td>3</td>\n",
       "      <td>Braund, Mr. Owen Harris</td>\n",
       "      <td>1</td>\n",
       "      <td>1</td>\n",
       "      <td>0</td>\n",
       "      <td>7.2500</td>\n",
       "      <td>S</td>\n",
       "    </tr>\n",
       "    <tr>\n",
       "      <th>1</th>\n",
       "      <td>38.0</td>\n",
       "      <td>2</td>\n",
       "      <td>1</td>\n",
       "      <td>1</td>\n",
       "      <td>Cumings, Mrs. John Bradley (Florence Briggs Th...</td>\n",
       "      <td>0</td>\n",
       "      <td>1</td>\n",
       "      <td>0</td>\n",
       "      <td>71.2833</td>\n",
       "      <td>C</td>\n",
       "    </tr>\n",
       "  </tbody>\n",
       "</table>\n",
       "</div>"
      ],
      "text/plain": [
       "    Age  PassengerId  Survived  Pclass  \\\n",
       "0  22.0            1         0       3   \n",
       "1  38.0            2         1       1   \n",
       "\n",
       "                                                Name  Sex  SibSp  Parch  \\\n",
       "0                            Braund, Mr. Owen Harris    1      1      0   \n",
       "1  Cumings, Mrs. John Bradley (Florence Briggs Th...    0      1      0   \n",
       "\n",
       "      Fare Embarked  \n",
       "0   7.2500        S  \n",
       "1  71.2833        C  "
      ]
     },
     "execution_count": 281,
     "metadata": {},
     "output_type": "execute_result"
    }
   ],
   "source": [
    "titan.head(2)"
   ]
  },
  {
   "cell_type": "code",
   "execution_count": 282,
   "metadata": {},
   "outputs": [
    {
     "data": {
      "text/plain": [
       "0       7.2500\n",
       "1      71.2833\n",
       "2       7.9250\n",
       "3      53.1000\n",
       "4       8.0500\n",
       "        ...   \n",
       "886    13.0000\n",
       "887    30.0000\n",
       "888    23.4500\n",
       "889    30.0000\n",
       "890     7.7500\n",
       "Name: Fare, Length: 891, dtype: float64"
      ]
     },
     "execution_count": 282,
     "metadata": {},
     "output_type": "execute_result"
    }
   ],
   "source": [
    "titan.Fare\n"
   ]
  },
  {
   "cell_type": "code",
   "execution_count": 283,
   "metadata": {},
   "outputs": [],
   "source": [
    "titan.Fare=titan.Fare.apply(convert_num)"
   ]
  },
  {
   "cell_type": "code",
   "execution_count": 284,
   "metadata": {},
   "outputs": [
    {
     "data": {
      "text/plain": [
       "0      0.0\n",
       "1      3.0\n",
       "2      1.0\n",
       "3      3.0\n",
       "4      1.0\n",
       "      ... \n",
       "886    1.0\n",
       "887    2.0\n",
       "888    2.0\n",
       "889    2.0\n",
       "890    0.0\n",
       "Name: Fare, Length: 891, dtype: float64"
      ]
     },
     "execution_count": 284,
     "metadata": {},
     "output_type": "execute_result"
    }
   ],
   "source": [
    "titan.Fare"
   ]
  },
  {
   "cell_type": "code",
   "execution_count": 285,
   "metadata": {},
   "outputs": [
    {
     "data": {
      "text/html": [
       "<div>\n",
       "<style scoped>\n",
       "    .dataframe tbody tr th:only-of-type {\n",
       "        vertical-align: middle;\n",
       "    }\n",
       "\n",
       "    .dataframe tbody tr th {\n",
       "        vertical-align: top;\n",
       "    }\n",
       "\n",
       "    .dataframe thead th {\n",
       "        text-align: right;\n",
       "    }\n",
       "</style>\n",
       "<table border=\"1\" class=\"dataframe\">\n",
       "  <thead>\n",
       "    <tr style=\"text-align: right;\">\n",
       "      <th></th>\n",
       "      <th>Age</th>\n",
       "      <th>PassengerId</th>\n",
       "      <th>Survived</th>\n",
       "      <th>Pclass</th>\n",
       "      <th>Name</th>\n",
       "      <th>Sex</th>\n",
       "      <th>SibSp</th>\n",
       "      <th>Parch</th>\n",
       "      <th>Fare</th>\n",
       "      <th>Embarked</th>\n",
       "    </tr>\n",
       "  </thead>\n",
       "  <tbody>\n",
       "    <tr>\n",
       "      <th>0</th>\n",
       "      <td>22.0</td>\n",
       "      <td>1</td>\n",
       "      <td>0</td>\n",
       "      <td>3</td>\n",
       "      <td>Braund, Mr. Owen Harris</td>\n",
       "      <td>1</td>\n",
       "      <td>1</td>\n",
       "      <td>0</td>\n",
       "      <td>0.0</td>\n",
       "      <td>S</td>\n",
       "    </tr>\n",
       "    <tr>\n",
       "      <th>1</th>\n",
       "      <td>38.0</td>\n",
       "      <td>2</td>\n",
       "      <td>1</td>\n",
       "      <td>1</td>\n",
       "      <td>Cumings, Mrs. John Bradley (Florence Briggs Th...</td>\n",
       "      <td>0</td>\n",
       "      <td>1</td>\n",
       "      <td>0</td>\n",
       "      <td>3.0</td>\n",
       "      <td>C</td>\n",
       "    </tr>\n",
       "    <tr>\n",
       "      <th>2</th>\n",
       "      <td>26.0</td>\n",
       "      <td>3</td>\n",
       "      <td>1</td>\n",
       "      <td>3</td>\n",
       "      <td>Heikkinen, Miss. Laina</td>\n",
       "      <td>0</td>\n",
       "      <td>0</td>\n",
       "      <td>0</td>\n",
       "      <td>1.0</td>\n",
       "      <td>S</td>\n",
       "    </tr>\n",
       "    <tr>\n",
       "      <th>3</th>\n",
       "      <td>35.0</td>\n",
       "      <td>4</td>\n",
       "      <td>1</td>\n",
       "      <td>1</td>\n",
       "      <td>Futrelle, Mrs. Jacques Heath (Lily May Peel)</td>\n",
       "      <td>0</td>\n",
       "      <td>1</td>\n",
       "      <td>0</td>\n",
       "      <td>3.0</td>\n",
       "      <td>S</td>\n",
       "    </tr>\n",
       "    <tr>\n",
       "      <th>4</th>\n",
       "      <td>35.0</td>\n",
       "      <td>5</td>\n",
       "      <td>0</td>\n",
       "      <td>3</td>\n",
       "      <td>Allen, Mr. William Henry</td>\n",
       "      <td>1</td>\n",
       "      <td>0</td>\n",
       "      <td>0</td>\n",
       "      <td>1.0</td>\n",
       "      <td>S</td>\n",
       "    </tr>\n",
       "  </tbody>\n",
       "</table>\n",
       "</div>"
      ],
      "text/plain": [
       "    Age  PassengerId  Survived  Pclass  \\\n",
       "0  22.0            1         0       3   \n",
       "1  38.0            2         1       1   \n",
       "2  26.0            3         1       3   \n",
       "3  35.0            4         1       1   \n",
       "4  35.0            5         0       3   \n",
       "\n",
       "                                                Name  Sex  SibSp  Parch  Fare  \\\n",
       "0                            Braund, Mr. Owen Harris    1      1      0   0.0   \n",
       "1  Cumings, Mrs. John Bradley (Florence Briggs Th...    0      1      0   3.0   \n",
       "2                             Heikkinen, Miss. Laina    0      0      0   1.0   \n",
       "3       Futrelle, Mrs. Jacques Heath (Lily May Peel)    0      1      0   3.0   \n",
       "4                           Allen, Mr. William Henry    1      0      0   1.0   \n",
       "\n",
       "  Embarked  \n",
       "0        S  \n",
       "1        C  \n",
       "2        S  \n",
       "3        S  \n",
       "4        S  "
      ]
     },
     "execution_count": 285,
     "metadata": {},
     "output_type": "execute_result"
    }
   ],
   "source": [
    "titan.head()"
   ]
  },
  {
   "cell_type": "code",
   "execution_count": 286,
   "metadata": {},
   "outputs": [
    {
     "data": {
      "text/plain": [
       "(891, 10)"
      ]
     },
     "execution_count": 286,
     "metadata": {},
     "output_type": "execute_result"
    }
   ],
   "source": [
    "titan.shape"
   ]
  },
  {
   "cell_type": "code",
   "execution_count": 287,
   "metadata": {},
   "outputs": [],
   "source": [
    "from sklearn.linear_model import LogisticRegression\n",
    "from sklearn.tree import DecisionTreeClassifier\n",
    "from sklearn.feature_selection import SelectKBest\n",
    "from sklearn.feature_selection import chi2\n",
    "from sklearn.feature_selection import RFE\n",
    "from sklearn.ensemble import ExtraTreesClassifier\n",
    "from sklearn.svm import SVC, LinearSVC\n",
    "from sklearn.neighbors import KNeighborsClassifier\n",
    "from sklearn.naive_bayes import GaussianNB\n",
    "from sklearn.linear_model import Perceptron\n",
    "from sklearn.linear_model import SGDClassifier\n",
    "from sklearn.feature_selection import SelectKBest, chi2, f_classif\n",
    "from io import StringIO\n",
    "import sklearn.tree as tree\n",
    "\n",
    "\n",
    "from sklearn.model_selection import cross_val_score\n",
    "from sklearn.ensemble import RandomForestClassifier"
   ]
  },
  {
   "cell_type": "code",
   "execution_count": 288,
   "metadata": {},
   "outputs": [
    {
     "data": {
      "text/html": [
       "<div>\n",
       "<style scoped>\n",
       "    .dataframe tbody tr th:only-of-type {\n",
       "        vertical-align: middle;\n",
       "    }\n",
       "\n",
       "    .dataframe tbody tr th {\n",
       "        vertical-align: top;\n",
       "    }\n",
       "\n",
       "    .dataframe thead th {\n",
       "        text-align: right;\n",
       "    }\n",
       "</style>\n",
       "<table border=\"1\" class=\"dataframe\">\n",
       "  <thead>\n",
       "    <tr style=\"text-align: right;\">\n",
       "      <th></th>\n",
       "      <th>PassengerId</th>\n",
       "      <th>Pclass</th>\n",
       "      <th>Name</th>\n",
       "      <th>Sex</th>\n",
       "      <th>Age</th>\n",
       "      <th>SibSp</th>\n",
       "      <th>Parch</th>\n",
       "      <th>Fare</th>\n",
       "      <th>Embarked</th>\n",
       "    </tr>\n",
       "  </thead>\n",
       "  <tbody>\n",
       "    <tr>\n",
       "      <th>0</th>\n",
       "      <td>892</td>\n",
       "      <td>3</td>\n",
       "      <td>Kelly, Mr. James</td>\n",
       "      <td>male</td>\n",
       "      <td>34.5</td>\n",
       "      <td>0</td>\n",
       "      <td>0</td>\n",
       "      <td>7.8292</td>\n",
       "      <td>Q</td>\n",
       "    </tr>\n",
       "    <tr>\n",
       "      <th>1</th>\n",
       "      <td>893</td>\n",
       "      <td>3</td>\n",
       "      <td>Wilkes, Mrs. James (Ellen Needs)</td>\n",
       "      <td>female</td>\n",
       "      <td>47.0</td>\n",
       "      <td>1</td>\n",
       "      <td>0</td>\n",
       "      <td>7.0000</td>\n",
       "      <td>S</td>\n",
       "    </tr>\n",
       "  </tbody>\n",
       "</table>\n",
       "</div>"
      ],
      "text/plain": [
       "   PassengerId  Pclass                              Name     Sex   Age  SibSp  \\\n",
       "0          892       3                  Kelly, Mr. James    male  34.5      0   \n",
       "1          893       3  Wilkes, Mrs. James (Ellen Needs)  female  47.0      1   \n",
       "\n",
       "   Parch    Fare Embarked  \n",
       "0      0  7.8292        Q  \n",
       "1      0  7.0000        S  "
      ]
     },
     "execution_count": 288,
     "metadata": {},
     "output_type": "execute_result"
    }
   ],
   "source": [
    "titantest.head(2)"
   ]
  },
  {
   "cell_type": "code",
   "execution_count": 289,
   "metadata": {},
   "outputs": [],
   "source": [
    "titantest.Fare=titantest.Fare.apply(convert_num)"
   ]
  },
  {
   "cell_type": "code",
   "execution_count": 290,
   "metadata": {},
   "outputs": [
    {
     "data": {
      "text/plain": [
       "0      0.0\n",
       "1      0.0\n",
       "2      1.0\n",
       "3      1.0\n",
       "4      1.0\n",
       "      ... \n",
       "413    1.0\n",
       "414    3.0\n",
       "415    0.0\n",
       "416    1.0\n",
       "417    2.0\n",
       "Name: Fare, Length: 418, dtype: float64"
      ]
     },
     "execution_count": 290,
     "metadata": {},
     "output_type": "execute_result"
    }
   ],
   "source": [
    "titantest.Fare"
   ]
  },
  {
   "cell_type": "code",
   "execution_count": null,
   "metadata": {},
   "outputs": [],
   "source": []
  },
  {
   "cell_type": "code",
   "execution_count": null,
   "metadata": {},
   "outputs": [],
   "source": [
    "\n"
   ]
  },
  {
   "cell_type": "code",
   "execution_count": 291,
   "metadata": {},
   "outputs": [
    {
     "data": {
      "text/html": [
       "<div>\n",
       "<style scoped>\n",
       "    .dataframe tbody tr th:only-of-type {\n",
       "        vertical-align: middle;\n",
       "    }\n",
       "\n",
       "    .dataframe tbody tr th {\n",
       "        vertical-align: top;\n",
       "    }\n",
       "\n",
       "    .dataframe thead th {\n",
       "        text-align: right;\n",
       "    }\n",
       "</style>\n",
       "<table border=\"1\" class=\"dataframe\">\n",
       "  <thead>\n",
       "    <tr style=\"text-align: right;\">\n",
       "      <th></th>\n",
       "      <th>Age</th>\n",
       "      <th>PassengerId</th>\n",
       "      <th>Survived</th>\n",
       "      <th>Pclass</th>\n",
       "      <th>Name</th>\n",
       "      <th>Sex</th>\n",
       "      <th>SibSp</th>\n",
       "      <th>Parch</th>\n",
       "      <th>Fare</th>\n",
       "      <th>Embarked</th>\n",
       "    </tr>\n",
       "  </thead>\n",
       "  <tbody>\n",
       "    <tr>\n",
       "      <th>0</th>\n",
       "      <td>22.000000</td>\n",
       "      <td>1</td>\n",
       "      <td>0</td>\n",
       "      <td>3</td>\n",
       "      <td>Braund, Mr. Owen Harris</td>\n",
       "      <td>1</td>\n",
       "      <td>1</td>\n",
       "      <td>0</td>\n",
       "      <td>0.0</td>\n",
       "      <td>S</td>\n",
       "    </tr>\n",
       "    <tr>\n",
       "      <th>1</th>\n",
       "      <td>38.000000</td>\n",
       "      <td>2</td>\n",
       "      <td>1</td>\n",
       "      <td>1</td>\n",
       "      <td>Cumings, Mrs. John Bradley (Florence Briggs Th...</td>\n",
       "      <td>0</td>\n",
       "      <td>1</td>\n",
       "      <td>0</td>\n",
       "      <td>3.0</td>\n",
       "      <td>C</td>\n",
       "    </tr>\n",
       "    <tr>\n",
       "      <th>2</th>\n",
       "      <td>26.000000</td>\n",
       "      <td>3</td>\n",
       "      <td>1</td>\n",
       "      <td>3</td>\n",
       "      <td>Heikkinen, Miss. Laina</td>\n",
       "      <td>0</td>\n",
       "      <td>0</td>\n",
       "      <td>0</td>\n",
       "      <td>1.0</td>\n",
       "      <td>S</td>\n",
       "    </tr>\n",
       "    <tr>\n",
       "      <th>3</th>\n",
       "      <td>35.000000</td>\n",
       "      <td>4</td>\n",
       "      <td>1</td>\n",
       "      <td>1</td>\n",
       "      <td>Futrelle, Mrs. Jacques Heath (Lily May Peel)</td>\n",
       "      <td>0</td>\n",
       "      <td>1</td>\n",
       "      <td>0</td>\n",
       "      <td>3.0</td>\n",
       "      <td>S</td>\n",
       "    </tr>\n",
       "    <tr>\n",
       "      <th>4</th>\n",
       "      <td>35.000000</td>\n",
       "      <td>5</td>\n",
       "      <td>0</td>\n",
       "      <td>3</td>\n",
       "      <td>Allen, Mr. William Henry</td>\n",
       "      <td>1</td>\n",
       "      <td>0</td>\n",
       "      <td>0</td>\n",
       "      <td>1.0</td>\n",
       "      <td>S</td>\n",
       "    </tr>\n",
       "    <tr>\n",
       "      <th>...</th>\n",
       "      <td>...</td>\n",
       "      <td>...</td>\n",
       "      <td>...</td>\n",
       "      <td>...</td>\n",
       "      <td>...</td>\n",
       "      <td>...</td>\n",
       "      <td>...</td>\n",
       "      <td>...</td>\n",
       "      <td>...</td>\n",
       "      <td>...</td>\n",
       "    </tr>\n",
       "    <tr>\n",
       "      <th>886</th>\n",
       "      <td>27.000000</td>\n",
       "      <td>887</td>\n",
       "      <td>0</td>\n",
       "      <td>2</td>\n",
       "      <td>Montvila, Rev. Juozas</td>\n",
       "      <td>1</td>\n",
       "      <td>0</td>\n",
       "      <td>0</td>\n",
       "      <td>1.0</td>\n",
       "      <td>S</td>\n",
       "    </tr>\n",
       "    <tr>\n",
       "      <th>887</th>\n",
       "      <td>19.000000</td>\n",
       "      <td>888</td>\n",
       "      <td>1</td>\n",
       "      <td>1</td>\n",
       "      <td>Graham, Miss. Margaret Edith</td>\n",
       "      <td>0</td>\n",
       "      <td>0</td>\n",
       "      <td>0</td>\n",
       "      <td>2.0</td>\n",
       "      <td>S</td>\n",
       "    </tr>\n",
       "    <tr>\n",
       "      <th>888</th>\n",
       "      <td>29.699118</td>\n",
       "      <td>889</td>\n",
       "      <td>0</td>\n",
       "      <td>3</td>\n",
       "      <td>Johnston, Miss. Catherine Helen \"Carrie\"</td>\n",
       "      <td>0</td>\n",
       "      <td>1</td>\n",
       "      <td>2</td>\n",
       "      <td>2.0</td>\n",
       "      <td>S</td>\n",
       "    </tr>\n",
       "    <tr>\n",
       "      <th>889</th>\n",
       "      <td>26.000000</td>\n",
       "      <td>890</td>\n",
       "      <td>1</td>\n",
       "      <td>1</td>\n",
       "      <td>Behr, Mr. Karl Howell</td>\n",
       "      <td>1</td>\n",
       "      <td>0</td>\n",
       "      <td>0</td>\n",
       "      <td>2.0</td>\n",
       "      <td>C</td>\n",
       "    </tr>\n",
       "    <tr>\n",
       "      <th>890</th>\n",
       "      <td>32.000000</td>\n",
       "      <td>891</td>\n",
       "      <td>0</td>\n",
       "      <td>3</td>\n",
       "      <td>Dooley, Mr. Patrick</td>\n",
       "      <td>1</td>\n",
       "      <td>0</td>\n",
       "      <td>0</td>\n",
       "      <td>0.0</td>\n",
       "      <td>Q</td>\n",
       "    </tr>\n",
       "  </tbody>\n",
       "</table>\n",
       "<p>891 rows × 10 columns</p>\n",
       "</div>"
      ],
      "text/plain": [
       "           Age  PassengerId  Survived  Pclass  \\\n",
       "0    22.000000            1         0       3   \n",
       "1    38.000000            2         1       1   \n",
       "2    26.000000            3         1       3   \n",
       "3    35.000000            4         1       1   \n",
       "4    35.000000            5         0       3   \n",
       "..         ...          ...       ...     ...   \n",
       "886  27.000000          887         0       2   \n",
       "887  19.000000          888         1       1   \n",
       "888  29.699118          889         0       3   \n",
       "889  26.000000          890         1       1   \n",
       "890  32.000000          891         0       3   \n",
       "\n",
       "                                                  Name  Sex  SibSp  Parch  \\\n",
       "0                              Braund, Mr. Owen Harris    1      1      0   \n",
       "1    Cumings, Mrs. John Bradley (Florence Briggs Th...    0      1      0   \n",
       "2                               Heikkinen, Miss. Laina    0      0      0   \n",
       "3         Futrelle, Mrs. Jacques Heath (Lily May Peel)    0      1      0   \n",
       "4                             Allen, Mr. William Henry    1      0      0   \n",
       "..                                                 ...  ...    ...    ...   \n",
       "886                              Montvila, Rev. Juozas    1      0      0   \n",
       "887                       Graham, Miss. Margaret Edith    0      0      0   \n",
       "888           Johnston, Miss. Catherine Helen \"Carrie\"    0      1      2   \n",
       "889                              Behr, Mr. Karl Howell    1      0      0   \n",
       "890                                Dooley, Mr. Patrick    1      0      0   \n",
       "\n",
       "     Fare Embarked  \n",
       "0     0.0        S  \n",
       "1     3.0        C  \n",
       "2     1.0        S  \n",
       "3     3.0        S  \n",
       "4     1.0        S  \n",
       "..    ...      ...  \n",
       "886   1.0        S  \n",
       "887   2.0        S  \n",
       "888   2.0        S  \n",
       "889   2.0        C  \n",
       "890   0.0        Q  \n",
       "\n",
       "[891 rows x 10 columns]"
      ]
     },
     "execution_count": 291,
     "metadata": {},
     "output_type": "execute_result"
    }
   ],
   "source": [
    "titan"
   ]
  },
  {
   "cell_type": "code",
   "execution_count": 292,
   "metadata": {},
   "outputs": [
    {
     "data": {
      "text/html": [
       "<div>\n",
       "<style scoped>\n",
       "    .dataframe tbody tr th:only-of-type {\n",
       "        vertical-align: middle;\n",
       "    }\n",
       "\n",
       "    .dataframe tbody tr th {\n",
       "        vertical-align: top;\n",
       "    }\n",
       "\n",
       "    .dataframe thead th {\n",
       "        text-align: right;\n",
       "    }\n",
       "</style>\n",
       "<table border=\"1\" class=\"dataframe\">\n",
       "  <thead>\n",
       "    <tr style=\"text-align: right;\">\n",
       "      <th></th>\n",
       "      <th>PassengerId</th>\n",
       "      <th>Pclass</th>\n",
       "      <th>Name</th>\n",
       "      <th>Sex</th>\n",
       "      <th>Age</th>\n",
       "      <th>SibSp</th>\n",
       "      <th>Parch</th>\n",
       "      <th>Fare</th>\n",
       "      <th>Embarked</th>\n",
       "    </tr>\n",
       "  </thead>\n",
       "  <tbody>\n",
       "    <tr>\n",
       "      <th>0</th>\n",
       "      <td>892</td>\n",
       "      <td>3</td>\n",
       "      <td>Kelly, Mr. James</td>\n",
       "      <td>male</td>\n",
       "      <td>34.5</td>\n",
       "      <td>0</td>\n",
       "      <td>0</td>\n",
       "      <td>0.0</td>\n",
       "      <td>Q</td>\n",
       "    </tr>\n",
       "    <tr>\n",
       "      <th>1</th>\n",
       "      <td>893</td>\n",
       "      <td>3</td>\n",
       "      <td>Wilkes, Mrs. James (Ellen Needs)</td>\n",
       "      <td>female</td>\n",
       "      <td>47.0</td>\n",
       "      <td>1</td>\n",
       "      <td>0</td>\n",
       "      <td>0.0</td>\n",
       "      <td>S</td>\n",
       "    </tr>\n",
       "    <tr>\n",
       "      <th>2</th>\n",
       "      <td>894</td>\n",
       "      <td>2</td>\n",
       "      <td>Myles, Mr. Thomas Francis</td>\n",
       "      <td>male</td>\n",
       "      <td>62.0</td>\n",
       "      <td>0</td>\n",
       "      <td>0</td>\n",
       "      <td>1.0</td>\n",
       "      <td>Q</td>\n",
       "    </tr>\n",
       "    <tr>\n",
       "      <th>3</th>\n",
       "      <td>895</td>\n",
       "      <td>3</td>\n",
       "      <td>Wirz, Mr. Albert</td>\n",
       "      <td>male</td>\n",
       "      <td>27.0</td>\n",
       "      <td>0</td>\n",
       "      <td>0</td>\n",
       "      <td>1.0</td>\n",
       "      <td>S</td>\n",
       "    </tr>\n",
       "    <tr>\n",
       "      <th>4</th>\n",
       "      <td>896</td>\n",
       "      <td>3</td>\n",
       "      <td>Hirvonen, Mrs. Alexander (Helga E Lindqvist)</td>\n",
       "      <td>female</td>\n",
       "      <td>22.0</td>\n",
       "      <td>1</td>\n",
       "      <td>1</td>\n",
       "      <td>1.0</td>\n",
       "      <td>S</td>\n",
       "    </tr>\n",
       "    <tr>\n",
       "      <th>...</th>\n",
       "      <td>...</td>\n",
       "      <td>...</td>\n",
       "      <td>...</td>\n",
       "      <td>...</td>\n",
       "      <td>...</td>\n",
       "      <td>...</td>\n",
       "      <td>...</td>\n",
       "      <td>...</td>\n",
       "      <td>...</td>\n",
       "    </tr>\n",
       "    <tr>\n",
       "      <th>413</th>\n",
       "      <td>1305</td>\n",
       "      <td>3</td>\n",
       "      <td>Spector, Mr. Woolf</td>\n",
       "      <td>male</td>\n",
       "      <td>NaN</td>\n",
       "      <td>0</td>\n",
       "      <td>0</td>\n",
       "      <td>1.0</td>\n",
       "      <td>S</td>\n",
       "    </tr>\n",
       "    <tr>\n",
       "      <th>414</th>\n",
       "      <td>1306</td>\n",
       "      <td>1</td>\n",
       "      <td>Oliva y Ocana, Dona. Fermina</td>\n",
       "      <td>female</td>\n",
       "      <td>39.0</td>\n",
       "      <td>0</td>\n",
       "      <td>0</td>\n",
       "      <td>3.0</td>\n",
       "      <td>C</td>\n",
       "    </tr>\n",
       "    <tr>\n",
       "      <th>415</th>\n",
       "      <td>1307</td>\n",
       "      <td>3</td>\n",
       "      <td>Saether, Mr. Simon Sivertsen</td>\n",
       "      <td>male</td>\n",
       "      <td>38.5</td>\n",
       "      <td>0</td>\n",
       "      <td>0</td>\n",
       "      <td>0.0</td>\n",
       "      <td>S</td>\n",
       "    </tr>\n",
       "    <tr>\n",
       "      <th>416</th>\n",
       "      <td>1308</td>\n",
       "      <td>3</td>\n",
       "      <td>Ware, Mr. Frederick</td>\n",
       "      <td>male</td>\n",
       "      <td>NaN</td>\n",
       "      <td>0</td>\n",
       "      <td>0</td>\n",
       "      <td>1.0</td>\n",
       "      <td>S</td>\n",
       "    </tr>\n",
       "    <tr>\n",
       "      <th>417</th>\n",
       "      <td>1309</td>\n",
       "      <td>3</td>\n",
       "      <td>Peter, Master. Michael J</td>\n",
       "      <td>male</td>\n",
       "      <td>NaN</td>\n",
       "      <td>1</td>\n",
       "      <td>1</td>\n",
       "      <td>2.0</td>\n",
       "      <td>C</td>\n",
       "    </tr>\n",
       "  </tbody>\n",
       "</table>\n",
       "<p>418 rows × 9 columns</p>\n",
       "</div>"
      ],
      "text/plain": [
       "     PassengerId  Pclass                                          Name  \\\n",
       "0            892       3                              Kelly, Mr. James   \n",
       "1            893       3              Wilkes, Mrs. James (Ellen Needs)   \n",
       "2            894       2                     Myles, Mr. Thomas Francis   \n",
       "3            895       3                              Wirz, Mr. Albert   \n",
       "4            896       3  Hirvonen, Mrs. Alexander (Helga E Lindqvist)   \n",
       "..           ...     ...                                           ...   \n",
       "413         1305       3                            Spector, Mr. Woolf   \n",
       "414         1306       1                  Oliva y Ocana, Dona. Fermina   \n",
       "415         1307       3                  Saether, Mr. Simon Sivertsen   \n",
       "416         1308       3                           Ware, Mr. Frederick   \n",
       "417         1309       3                      Peter, Master. Michael J   \n",
       "\n",
       "        Sex   Age  SibSp  Parch  Fare Embarked  \n",
       "0      male  34.5      0      0   0.0        Q  \n",
       "1    female  47.0      1      0   0.0        S  \n",
       "2      male  62.0      0      0   1.0        Q  \n",
       "3      male  27.0      0      0   1.0        S  \n",
       "4    female  22.0      1      1   1.0        S  \n",
       "..      ...   ...    ...    ...   ...      ...  \n",
       "413    male   NaN      0      0   1.0        S  \n",
       "414  female  39.0      0      0   3.0        C  \n",
       "415    male  38.5      0      0   0.0        S  \n",
       "416    male   NaN      0      0   1.0        S  \n",
       "417    male   NaN      1      1   2.0        C  \n",
       "\n",
       "[418 rows x 9 columns]"
      ]
     },
     "execution_count": 292,
     "metadata": {},
     "output_type": "execute_result"
    }
   ],
   "source": [
    "titantest"
   ]
  },
  {
   "cell_type": "code",
   "execution_count": 293,
   "metadata": {},
   "outputs": [],
   "source": [
    "titan = titan.drop(['Name','Embarked'], axis=1)"
   ]
  },
  {
   "cell_type": "code",
   "execution_count": 294,
   "metadata": {},
   "outputs": [
    {
     "data": {
      "text/html": [
       "<div>\n",
       "<style scoped>\n",
       "    .dataframe tbody tr th:only-of-type {\n",
       "        vertical-align: middle;\n",
       "    }\n",
       "\n",
       "    .dataframe tbody tr th {\n",
       "        vertical-align: top;\n",
       "    }\n",
       "\n",
       "    .dataframe thead th {\n",
       "        text-align: right;\n",
       "    }\n",
       "</style>\n",
       "<table border=\"1\" class=\"dataframe\">\n",
       "  <thead>\n",
       "    <tr style=\"text-align: right;\">\n",
       "      <th></th>\n",
       "      <th>Age</th>\n",
       "      <th>PassengerId</th>\n",
       "      <th>Survived</th>\n",
       "      <th>Pclass</th>\n",
       "      <th>Sex</th>\n",
       "      <th>SibSp</th>\n",
       "      <th>Parch</th>\n",
       "      <th>Fare</th>\n",
       "    </tr>\n",
       "  </thead>\n",
       "  <tbody>\n",
       "    <tr>\n",
       "      <th>0</th>\n",
       "      <td>22.000000</td>\n",
       "      <td>1</td>\n",
       "      <td>0</td>\n",
       "      <td>3</td>\n",
       "      <td>1</td>\n",
       "      <td>1</td>\n",
       "      <td>0</td>\n",
       "      <td>0.0</td>\n",
       "    </tr>\n",
       "    <tr>\n",
       "      <th>1</th>\n",
       "      <td>38.000000</td>\n",
       "      <td>2</td>\n",
       "      <td>1</td>\n",
       "      <td>1</td>\n",
       "      <td>0</td>\n",
       "      <td>1</td>\n",
       "      <td>0</td>\n",
       "      <td>3.0</td>\n",
       "    </tr>\n",
       "    <tr>\n",
       "      <th>2</th>\n",
       "      <td>26.000000</td>\n",
       "      <td>3</td>\n",
       "      <td>1</td>\n",
       "      <td>3</td>\n",
       "      <td>0</td>\n",
       "      <td>0</td>\n",
       "      <td>0</td>\n",
       "      <td>1.0</td>\n",
       "    </tr>\n",
       "    <tr>\n",
       "      <th>3</th>\n",
       "      <td>35.000000</td>\n",
       "      <td>4</td>\n",
       "      <td>1</td>\n",
       "      <td>1</td>\n",
       "      <td>0</td>\n",
       "      <td>1</td>\n",
       "      <td>0</td>\n",
       "      <td>3.0</td>\n",
       "    </tr>\n",
       "    <tr>\n",
       "      <th>4</th>\n",
       "      <td>35.000000</td>\n",
       "      <td>5</td>\n",
       "      <td>0</td>\n",
       "      <td>3</td>\n",
       "      <td>1</td>\n",
       "      <td>0</td>\n",
       "      <td>0</td>\n",
       "      <td>1.0</td>\n",
       "    </tr>\n",
       "    <tr>\n",
       "      <th>...</th>\n",
       "      <td>...</td>\n",
       "      <td>...</td>\n",
       "      <td>...</td>\n",
       "      <td>...</td>\n",
       "      <td>...</td>\n",
       "      <td>...</td>\n",
       "      <td>...</td>\n",
       "      <td>...</td>\n",
       "    </tr>\n",
       "    <tr>\n",
       "      <th>886</th>\n",
       "      <td>27.000000</td>\n",
       "      <td>887</td>\n",
       "      <td>0</td>\n",
       "      <td>2</td>\n",
       "      <td>1</td>\n",
       "      <td>0</td>\n",
       "      <td>0</td>\n",
       "      <td>1.0</td>\n",
       "    </tr>\n",
       "    <tr>\n",
       "      <th>887</th>\n",
       "      <td>19.000000</td>\n",
       "      <td>888</td>\n",
       "      <td>1</td>\n",
       "      <td>1</td>\n",
       "      <td>0</td>\n",
       "      <td>0</td>\n",
       "      <td>0</td>\n",
       "      <td>2.0</td>\n",
       "    </tr>\n",
       "    <tr>\n",
       "      <th>888</th>\n",
       "      <td>29.699118</td>\n",
       "      <td>889</td>\n",
       "      <td>0</td>\n",
       "      <td>3</td>\n",
       "      <td>0</td>\n",
       "      <td>1</td>\n",
       "      <td>2</td>\n",
       "      <td>2.0</td>\n",
       "    </tr>\n",
       "    <tr>\n",
       "      <th>889</th>\n",
       "      <td>26.000000</td>\n",
       "      <td>890</td>\n",
       "      <td>1</td>\n",
       "      <td>1</td>\n",
       "      <td>1</td>\n",
       "      <td>0</td>\n",
       "      <td>0</td>\n",
       "      <td>2.0</td>\n",
       "    </tr>\n",
       "    <tr>\n",
       "      <th>890</th>\n",
       "      <td>32.000000</td>\n",
       "      <td>891</td>\n",
       "      <td>0</td>\n",
       "      <td>3</td>\n",
       "      <td>1</td>\n",
       "      <td>0</td>\n",
       "      <td>0</td>\n",
       "      <td>0.0</td>\n",
       "    </tr>\n",
       "  </tbody>\n",
       "</table>\n",
       "<p>891 rows × 8 columns</p>\n",
       "</div>"
      ],
      "text/plain": [
       "           Age  PassengerId  Survived  Pclass  Sex  SibSp  Parch  Fare\n",
       "0    22.000000            1         0       3    1      1      0   0.0\n",
       "1    38.000000            2         1       1    0      1      0   3.0\n",
       "2    26.000000            3         1       3    0      0      0   1.0\n",
       "3    35.000000            4         1       1    0      1      0   3.0\n",
       "4    35.000000            5         0       3    1      0      0   1.0\n",
       "..         ...          ...       ...     ...  ...    ...    ...   ...\n",
       "886  27.000000          887         0       2    1      0      0   1.0\n",
       "887  19.000000          888         1       1    0      0      0   2.0\n",
       "888  29.699118          889         0       3    0      1      2   2.0\n",
       "889  26.000000          890         1       1    1      0      0   2.0\n",
       "890  32.000000          891         0       3    1      0      0   0.0\n",
       "\n",
       "[891 rows x 8 columns]"
      ]
     },
     "execution_count": 294,
     "metadata": {},
     "output_type": "execute_result"
    }
   ],
   "source": [
    "titan"
   ]
  },
  {
   "cell_type": "code",
   "execution_count": 295,
   "metadata": {},
   "outputs": [],
   "source": [
    "y= titan[\"Survived\"]"
   ]
  },
  {
   "cell_type": "code",
   "execution_count": 296,
   "metadata": {},
   "outputs": [],
   "source": [
    "titan = titan.drop([\"Survived\"], axis=1)"
   ]
  },
  {
   "cell_type": "code",
   "execution_count": 297,
   "metadata": {},
   "outputs": [],
   "source": [
    "x = titan"
   ]
  },
  {
   "cell_type": "code",
   "execution_count": 298,
   "metadata": {},
   "outputs": [
    {
     "data": {
      "text/html": [
       "<div>\n",
       "<style scoped>\n",
       "    .dataframe tbody tr th:only-of-type {\n",
       "        vertical-align: middle;\n",
       "    }\n",
       "\n",
       "    .dataframe tbody tr th {\n",
       "        vertical-align: top;\n",
       "    }\n",
       "\n",
       "    .dataframe thead th {\n",
       "        text-align: right;\n",
       "    }\n",
       "</style>\n",
       "<table border=\"1\" class=\"dataframe\">\n",
       "  <thead>\n",
       "    <tr style=\"text-align: right;\">\n",
       "      <th></th>\n",
       "      <th>Age</th>\n",
       "      <th>PassengerId</th>\n",
       "      <th>Pclass</th>\n",
       "      <th>Sex</th>\n",
       "      <th>SibSp</th>\n",
       "      <th>Parch</th>\n",
       "      <th>Fare</th>\n",
       "    </tr>\n",
       "  </thead>\n",
       "  <tbody>\n",
       "    <tr>\n",
       "      <th>0</th>\n",
       "      <td>22.000000</td>\n",
       "      <td>1</td>\n",
       "      <td>3</td>\n",
       "      <td>1</td>\n",
       "      <td>1</td>\n",
       "      <td>0</td>\n",
       "      <td>0.0</td>\n",
       "    </tr>\n",
       "    <tr>\n",
       "      <th>1</th>\n",
       "      <td>38.000000</td>\n",
       "      <td>2</td>\n",
       "      <td>1</td>\n",
       "      <td>0</td>\n",
       "      <td>1</td>\n",
       "      <td>0</td>\n",
       "      <td>3.0</td>\n",
       "    </tr>\n",
       "    <tr>\n",
       "      <th>2</th>\n",
       "      <td>26.000000</td>\n",
       "      <td>3</td>\n",
       "      <td>3</td>\n",
       "      <td>0</td>\n",
       "      <td>0</td>\n",
       "      <td>0</td>\n",
       "      <td>1.0</td>\n",
       "    </tr>\n",
       "    <tr>\n",
       "      <th>3</th>\n",
       "      <td>35.000000</td>\n",
       "      <td>4</td>\n",
       "      <td>1</td>\n",
       "      <td>0</td>\n",
       "      <td>1</td>\n",
       "      <td>0</td>\n",
       "      <td>3.0</td>\n",
       "    </tr>\n",
       "    <tr>\n",
       "      <th>4</th>\n",
       "      <td>35.000000</td>\n",
       "      <td>5</td>\n",
       "      <td>3</td>\n",
       "      <td>1</td>\n",
       "      <td>0</td>\n",
       "      <td>0</td>\n",
       "      <td>1.0</td>\n",
       "    </tr>\n",
       "    <tr>\n",
       "      <th>...</th>\n",
       "      <td>...</td>\n",
       "      <td>...</td>\n",
       "      <td>...</td>\n",
       "      <td>...</td>\n",
       "      <td>...</td>\n",
       "      <td>...</td>\n",
       "      <td>...</td>\n",
       "    </tr>\n",
       "    <tr>\n",
       "      <th>886</th>\n",
       "      <td>27.000000</td>\n",
       "      <td>887</td>\n",
       "      <td>2</td>\n",
       "      <td>1</td>\n",
       "      <td>0</td>\n",
       "      <td>0</td>\n",
       "      <td>1.0</td>\n",
       "    </tr>\n",
       "    <tr>\n",
       "      <th>887</th>\n",
       "      <td>19.000000</td>\n",
       "      <td>888</td>\n",
       "      <td>1</td>\n",
       "      <td>0</td>\n",
       "      <td>0</td>\n",
       "      <td>0</td>\n",
       "      <td>2.0</td>\n",
       "    </tr>\n",
       "    <tr>\n",
       "      <th>888</th>\n",
       "      <td>29.699118</td>\n",
       "      <td>889</td>\n",
       "      <td>3</td>\n",
       "      <td>0</td>\n",
       "      <td>1</td>\n",
       "      <td>2</td>\n",
       "      <td>2.0</td>\n",
       "    </tr>\n",
       "    <tr>\n",
       "      <th>889</th>\n",
       "      <td>26.000000</td>\n",
       "      <td>890</td>\n",
       "      <td>1</td>\n",
       "      <td>1</td>\n",
       "      <td>0</td>\n",
       "      <td>0</td>\n",
       "      <td>2.0</td>\n",
       "    </tr>\n",
       "    <tr>\n",
       "      <th>890</th>\n",
       "      <td>32.000000</td>\n",
       "      <td>891</td>\n",
       "      <td>3</td>\n",
       "      <td>1</td>\n",
       "      <td>0</td>\n",
       "      <td>0</td>\n",
       "      <td>0.0</td>\n",
       "    </tr>\n",
       "  </tbody>\n",
       "</table>\n",
       "<p>891 rows × 7 columns</p>\n",
       "</div>"
      ],
      "text/plain": [
       "           Age  PassengerId  Pclass  Sex  SibSp  Parch  Fare\n",
       "0    22.000000            1       3    1      1      0   0.0\n",
       "1    38.000000            2       1    0      1      0   3.0\n",
       "2    26.000000            3       3    0      0      0   1.0\n",
       "3    35.000000            4       1    0      1      0   3.0\n",
       "4    35.000000            5       3    1      0      0   1.0\n",
       "..         ...          ...     ...  ...    ...    ...   ...\n",
       "886  27.000000          887       2    1      0      0   1.0\n",
       "887  19.000000          888       1    0      0      0   2.0\n",
       "888  29.699118          889       3    0      1      2   2.0\n",
       "889  26.000000          890       1    1      0      0   2.0\n",
       "890  32.000000          891       3    1      0      0   0.0\n",
       "\n",
       "[891 rows x 7 columns]"
      ]
     },
     "execution_count": 298,
     "metadata": {},
     "output_type": "execute_result"
    }
   ],
   "source": [
    "x"
   ]
  },
  {
   "cell_type": "code",
   "execution_count": 299,
   "metadata": {},
   "outputs": [
    {
     "data": {
      "text/plain": [
       "0      0\n",
       "1      1\n",
       "2      1\n",
       "3      1\n",
       "4      0\n",
       "      ..\n",
       "886    0\n",
       "887    1\n",
       "888    0\n",
       "889    1\n",
       "890    0\n",
       "Name: Survived, Length: 891, dtype: int64"
      ]
     },
     "execution_count": 299,
     "metadata": {},
     "output_type": "execute_result"
    }
   ],
   "source": [
    "y"
   ]
  },
  {
   "cell_type": "code",
   "execution_count": null,
   "metadata": {},
   "outputs": [],
   "source": []
  },
  {
   "cell_type": "code",
   "execution_count": 300,
   "metadata": {},
   "outputs": [
    {
     "data": {
      "text/plain": [
       "Age            0\n",
       "PassengerId    0\n",
       "Pclass         0\n",
       "Sex            0\n",
       "SibSp          0\n",
       "Parch          0\n",
       "Fare           3\n",
       "dtype: int64"
      ]
     },
     "execution_count": 300,
     "metadata": {},
     "output_type": "execute_result"
    }
   ],
   "source": [
    "titan.isnull().sum()"
   ]
  },
  {
   "cell_type": "code",
   "execution_count": 301,
   "metadata": {},
   "outputs": [
    {
     "data": {
      "text/plain": [
       "0      0.0\n",
       "1      0.0\n",
       "2      1.0\n",
       "3      1.0\n",
       "4      1.0\n",
       "      ... \n",
       "413    1.0\n",
       "414    3.0\n",
       "415    0.0\n",
       "416    1.0\n",
       "417    2.0\n",
       "Name: Fare, Length: 418, dtype: float64"
      ]
     },
     "execution_count": 301,
     "metadata": {},
     "output_type": "execute_result"
    }
   ],
   "source": [
    "titantest.Fare"
   ]
  },
  {
   "cell_type": "code",
   "execution_count": 302,
   "metadata": {},
   "outputs": [],
   "source": [
    "titan['Fare'] = titan['Fare'].fillna(1)"
   ]
  },
  {
   "cell_type": "code",
   "execution_count": 303,
   "metadata": {},
   "outputs": [
    {
     "data": {
      "text/plain": [
       "Age            0\n",
       "PassengerId    0\n",
       "Pclass         0\n",
       "Sex            0\n",
       "SibSp          0\n",
       "Parch          0\n",
       "Fare           0\n",
       "dtype: int64"
      ]
     },
     "execution_count": 303,
     "metadata": {},
     "output_type": "execute_result"
    }
   ],
   "source": [
    "titan.isnull().sum()"
   ]
  },
  {
   "cell_type": "code",
   "execution_count": 304,
   "metadata": {},
   "outputs": [
    {
     "data": {
      "text/plain": [
       "ExtraTreesClassifier(bootstrap=False, ccp_alpha=0.0, class_weight=None,\n",
       "                     criterion='gini', max_depth=None, max_features='auto',\n",
       "                     max_leaf_nodes=None, max_samples=None,\n",
       "                     min_impurity_decrease=0.0, min_impurity_split=None,\n",
       "                     min_samples_leaf=1, min_samples_split=2,\n",
       "                     min_weight_fraction_leaf=0.0, n_estimators=100,\n",
       "                     n_jobs=None, oob_score=False, random_state=None, verbose=0,\n",
       "                     warm_start=False)"
      ]
     },
     "execution_count": 304,
     "metadata": {},
     "output_type": "execute_result"
    }
   ],
   "source": [
    "ex = ExtraTreesClassifier()\n",
    "ex.fit(x, y)"
   ]
  },
  {
   "cell_type": "code",
   "execution_count": 305,
   "metadata": {},
   "outputs": [
    {
     "data": {
      "image/png": "[encoded data removed]",
      "text/plain": [
       "<Figure size 432x288 with 1 Axes>"
      ]
     },
     "metadata": {
      "needs_background": "light"
     },
     "output_type": "display_data"
    }
   ],
   "source": [
    "feat_importances = pd.Series(ex.feature_importances_, index=x.columns)\n",
    "feat_importances.nlargest(7).plot(kind='bar')\n",
    "plt.show()"
   ]
  },
  {
   "cell_type": "code",
   "execution_count": 306,
   "metadata": {},
   "outputs": [
    {
     "data": {
      "text/html": [
       "<div>\n",
       "<style scoped>\n",
       "    .dataframe tbody tr th:only-of-type {\n",
       "        vertical-align: middle;\n",
       "    }\n",
       "\n",
       "    .dataframe tbody tr th {\n",
       "        vertical-align: top;\n",
       "    }\n",
       "\n",
       "    .dataframe thead th {\n",
       "        text-align: right;\n",
       "    }\n",
       "</style>\n",
       "<table border=\"1\" class=\"dataframe\">\n",
       "  <thead>\n",
       "    <tr style=\"text-align: right;\">\n",
       "      <th></th>\n",
       "      <th>Age</th>\n",
       "      <th>PassengerId</th>\n",
       "      <th>Pclass</th>\n",
       "      <th>Sex</th>\n",
       "      <th>SibSp</th>\n",
       "      <th>Parch</th>\n",
       "      <th>Fare</th>\n",
       "    </tr>\n",
       "  </thead>\n",
       "  <tbody>\n",
       "    <tr>\n",
       "      <th>0</th>\n",
       "      <td>22.0</td>\n",
       "      <td>1</td>\n",
       "      <td>3</td>\n",
       "      <td>1</td>\n",
       "      <td>1</td>\n",
       "      <td>0</td>\n",
       "      <td>0.0</td>\n",
       "    </tr>\n",
       "    <tr>\n",
       "      <th>1</th>\n",
       "      <td>38.0</td>\n",
       "      <td>2</td>\n",
       "      <td>1</td>\n",
       "      <td>0</td>\n",
       "      <td>1</td>\n",
       "      <td>0</td>\n",
       "      <td>3.0</td>\n",
       "    </tr>\n",
       "  </tbody>\n",
       "</table>\n",
       "</div>"
      ],
      "text/plain": [
       "    Age  PassengerId  Pclass  Sex  SibSp  Parch  Fare\n",
       "0  22.0            1       3    1      1      0   0.0\n",
       "1  38.0            2       1    0      1      0   3.0"
      ]
     },
     "execution_count": 306,
     "metadata": {},
     "output_type": "execute_result"
    }
   ],
   "source": [
    "\n",
    "titan.head(2)\n"
   ]
  },
  {
   "cell_type": "code",
   "execution_count": 307,
   "metadata": {},
   "outputs": [],
   "source": [
    "titan = titan.drop(['Fare','Parch', 'SibSp'], axis=1)"
   ]
  },
  {
   "cell_type": "code",
   "execution_count": 308,
   "metadata": {},
   "outputs": [],
   "source": [
    "x=titan"
   ]
  },
  {
   "cell_type": "code",
   "execution_count": 309,
   "metadata": {},
   "outputs": [
    {
     "data": {
      "text/html": [
       "<div>\n",
       "<style scoped>\n",
       "    .dataframe tbody tr th:only-of-type {\n",
       "        vertical-align: middle;\n",
       "    }\n",
       "\n",
       "    .dataframe tbody tr th {\n",
       "        vertical-align: top;\n",
       "    }\n",
       "\n",
       "    .dataframe thead th {\n",
       "        text-align: right;\n",
       "    }\n",
       "</style>\n",
       "<table border=\"1\" class=\"dataframe\">\n",
       "  <thead>\n",
       "    <tr style=\"text-align: right;\">\n",
       "      <th></th>\n",
       "      <th>Age</th>\n",
       "      <th>PassengerId</th>\n",
       "      <th>Pclass</th>\n",
       "      <th>Sex</th>\n",
       "    </tr>\n",
       "  </thead>\n",
       "  <tbody>\n",
       "    <tr>\n",
       "      <th>0</th>\n",
       "      <td>22.000000</td>\n",
       "      <td>1</td>\n",
       "      <td>3</td>\n",
       "      <td>1</td>\n",
       "    </tr>\n",
       "    <tr>\n",
       "      <th>1</th>\n",
       "      <td>38.000000</td>\n",
       "      <td>2</td>\n",
       "      <td>1</td>\n",
       "      <td>0</td>\n",
       "    </tr>\n",
       "    <tr>\n",
       "      <th>2</th>\n",
       "      <td>26.000000</td>\n",
       "      <td>3</td>\n",
       "      <td>3</td>\n",
       "      <td>0</td>\n",
       "    </tr>\n",
       "    <tr>\n",
       "      <th>3</th>\n",
       "      <td>35.000000</td>\n",
       "      <td>4</td>\n",
       "      <td>1</td>\n",
       "      <td>0</td>\n",
       "    </tr>\n",
       "    <tr>\n",
       "      <th>4</th>\n",
       "      <td>35.000000</td>\n",
       "      <td>5</td>\n",
       "      <td>3</td>\n",
       "      <td>1</td>\n",
       "    </tr>\n",
       "    <tr>\n",
       "      <th>...</th>\n",
       "      <td>...</td>\n",
       "      <td>...</td>\n",
       "      <td>...</td>\n",
       "      <td>...</td>\n",
       "    </tr>\n",
       "    <tr>\n",
       "      <th>886</th>\n",
       "      <td>27.000000</td>\n",
       "      <td>887</td>\n",
       "      <td>2</td>\n",
       "      <td>1</td>\n",
       "    </tr>\n",
       "    <tr>\n",
       "      <th>887</th>\n",
       "      <td>19.000000</td>\n",
       "      <td>888</td>\n",
       "      <td>1</td>\n",
       "      <td>0</td>\n",
       "    </tr>\n",
       "    <tr>\n",
       "      <th>888</th>\n",
       "      <td>29.699118</td>\n",
       "      <td>889</td>\n",
       "      <td>3</td>\n",
       "      <td>0</td>\n",
       "    </tr>\n",
       "    <tr>\n",
       "      <th>889</th>\n",
       "      <td>26.000000</td>\n",
       "      <td>890</td>\n",
       "      <td>1</td>\n",
       "      <td>1</td>\n",
       "    </tr>\n",
       "    <tr>\n",
       "      <th>890</th>\n",
       "      <td>32.000000</td>\n",
       "      <td>891</td>\n",
       "      <td>3</td>\n",
       "      <td>1</td>\n",
       "    </tr>\n",
       "  </tbody>\n",
       "</table>\n",
       "<p>891 rows × 4 columns</p>\n",
       "</div>"
      ],
      "text/plain": [
       "           Age  PassengerId  Pclass  Sex\n",
       "0    22.000000            1       3    1\n",
       "1    38.000000            2       1    0\n",
       "2    26.000000            3       3    0\n",
       "3    35.000000            4       1    0\n",
       "4    35.000000            5       3    1\n",
       "..         ...          ...     ...  ...\n",
       "886  27.000000          887       2    1\n",
       "887  19.000000          888       1    0\n",
       "888  29.699118          889       3    0\n",
       "889  26.000000          890       1    1\n",
       "890  32.000000          891       3    1\n",
       "\n",
       "[891 rows x 4 columns]"
      ]
     },
     "execution_count": 309,
     "metadata": {},
     "output_type": "execute_result"
    }
   ],
   "source": [
    "x"
   ]
  },
  {
   "cell_type": "code",
   "execution_count": 310,
   "metadata": {},
   "outputs": [
    {
     "data": {
      "text/plain": [
       "0      0\n",
       "1      1\n",
       "2      1\n",
       "3      1\n",
       "4      0\n",
       "      ..\n",
       "886    0\n",
       "887    1\n",
       "888    0\n",
       "889    1\n",
       "890    0\n",
       "Name: Survived, Length: 891, dtype: int64"
      ]
     },
     "execution_count": 310,
     "metadata": {},
     "output_type": "execute_result"
    }
   ],
   "source": [
    "y"
   ]
  },
  {
   "cell_type": "code",
   "execution_count": 311,
   "metadata": {},
   "outputs": [
    {
     "data": {
      "text/plain": [
       "0.8114478114478114"
      ]
     },
     "execution_count": 311,
     "metadata": {},
     "output_type": "execute_result"
    }
   ],
   "source": [
    "dtree = DecisionTreeClassifier(criterion='gini',random_state=1, max_depth=3)\n",
    "dtree.fit(x, y)\n",
    "dtree.score(x, y)"
   ]
  },
  {
   "cell_type": "code",
   "execution_count": 325,
   "metadata": {},
   "outputs": [
    {
     "data": {
      "text/plain": [
       "0.7125629127874593"
      ]
     },
     "execution_count": 325,
     "metadata": {},
     "output_type": "execute_result"
    }
   ],
   "source": [
    "np.mean(cross_val_score(dtree,x,y,cv=5,scoring='precision'))"
   ]
  },
  {
   "cell_type": "code",
   "execution_count": 313,
   "metadata": {},
   "outputs": [
    {
     "data": {
      "text/plain": [
       "0.8148148148148148"
      ]
     },
     "execution_count": 313,
     "metadata": {},
     "output_type": "execute_result"
    }
   ],
   "source": [
    "rforest = RandomForestClassifier(n_estimators=100, max_depth=3)\n",
    "rforest.fit(x, y)\n",
    "rforest.score(x, y)"
   ]
  },
  {
   "cell_type": "code",
   "execution_count": 314,
   "metadata": {},
   "outputs": [
    {
     "data": {
      "text/plain": [
       "0.7812692235264579"
      ]
     },
     "execution_count": 314,
     "metadata": {},
     "output_type": "execute_result"
    }
   ],
   "source": [
    "np.mean(cross_val_score(rforest,x,y,cv=5))"
   ]
  },
  {
   "cell_type": "code",
   "execution_count": 315,
   "metadata": {},
   "outputs": [
    {
     "ename": "ExecutableNotFound",
     "evalue": "failed to execute ['dot', '-Tpdf', '-O', 'table_4_2.gv'], make sure the Graphviz executables are on your systems' PATH",
     "output_type": "error",
     "traceback": [
      "\u001b[1;31m---------------------------------------------------------------------------\u001b[0m",
      "\u001b[1;31mFileNotFoundError\u001b[0m                         Traceback (most recent call last)",
      "\u001b[1;32m~\\anaconda3\\lib\\site-packages\\graphviz\\backend.py\u001b[0m in \u001b[0;36mrun\u001b[1;34m(cmd, input, capture_output, check, encoding, quiet, **kwargs)\u001b[0m\n\u001b[0;32m    163\u001b[0m     \u001b[1;32mtry\u001b[0m\u001b[1;33m:\u001b[0m\u001b[1;33m\u001b[0m\u001b[1;33m\u001b[0m\u001b[0m\n\u001b[1;32m--> 164\u001b[1;33m         \u001b[0mproc\u001b[0m \u001b[1;33m=\u001b[0m \u001b[0msubprocess\u001b[0m\u001b[1;33m.\u001b[0m\u001b[0mPopen\u001b[0m\u001b[1;33m(\u001b[0m\u001b[0mcmd\u001b[0m\u001b[1;33m,\u001b[0m \u001b[0mstartupinfo\u001b[0m\u001b[1;33m=\u001b[0m\u001b[0mget_startupinfo\u001b[0m\u001b[1;33m(\u001b[0m\u001b[1;33m)\u001b[0m\u001b[1;33m,\u001b[0m \u001b[1;33m**\u001b[0m\u001b[0mkwargs\u001b[0m\u001b[1;33m)\u001b[0m\u001b[1;33m\u001b[0m\u001b[1;33m\u001b[0m\u001b[0m\n\u001b[0m\u001b[0;32m    165\u001b[0m     \u001b[1;32mexcept\u001b[0m \u001b[0mOSError\u001b[0m \u001b[1;32mas\u001b[0m \u001b[0me\u001b[0m\u001b[1;33m:\u001b[0m\u001b[1;33m\u001b[0m\u001b[1;33m\u001b[0m\u001b[0m\n",
      "\u001b[1;32m~\\anaconda3\\lib\\subprocess.py\u001b[0m in \u001b[0;36m__init__\u001b[1;34m(self, args, bufsize, executable, stdin, stdout, stderr, preexec_fn, close_fds, shell, cwd, env, universal_newlines, startupinfo, creationflags, restore_signals, start_new_session, pass_fds, encoding, errors, text)\u001b[0m\n\u001b[0;32m    799\u001b[0m                                 \u001b[0merrread\u001b[0m\u001b[1;33m,\u001b[0m \u001b[0merrwrite\u001b[0m\u001b[1;33m,\u001b[0m\u001b[1;33m\u001b[0m\u001b[1;33m\u001b[0m\u001b[0m\n\u001b[1;32m--> 800\u001b[1;33m                                 restore_signals, start_new_session)\n\u001b[0m\u001b[0;32m    801\u001b[0m         \u001b[1;32mexcept\u001b[0m\u001b[1;33m:\u001b[0m\u001b[1;33m\u001b[0m\u001b[1;33m\u001b[0m\u001b[0m\n",
      "\u001b[1;32m~\\anaconda3\\lib\\subprocess.py\u001b[0m in \u001b[0;36m_execute_child\u001b[1;34m(self, args, executable, preexec_fn, close_fds, pass_fds, cwd, env, startupinfo, creationflags, shell, p2cread, p2cwrite, c2pread, c2pwrite, errread, errwrite, unused_restore_signals, unused_start_new_session)\u001b[0m\n\u001b[0;32m   1206\u001b[0m                                          \u001b[0mos\u001b[0m\u001b[1;33m.\u001b[0m\u001b[0mfspath\u001b[0m\u001b[1;33m(\u001b[0m\u001b[0mcwd\u001b[0m\u001b[1;33m)\u001b[0m \u001b[1;32mif\u001b[0m \u001b[0mcwd\u001b[0m \u001b[1;32mis\u001b[0m \u001b[1;32mnot\u001b[0m \u001b[1;32mNone\u001b[0m \u001b[1;32melse\u001b[0m \u001b[1;32mNone\u001b[0m\u001b[1;33m,\u001b[0m\u001b[1;33m\u001b[0m\u001b[1;33m\u001b[0m\u001b[0m\n\u001b[1;32m-> 1207\u001b[1;33m                                          startupinfo)\n\u001b[0m\u001b[0;32m   1208\u001b[0m             \u001b[1;32mfinally\u001b[0m\u001b[1;33m:\u001b[0m\u001b[1;33m\u001b[0m\u001b[1;33m\u001b[0m\u001b[0m\n",
      "\u001b[1;31mFileNotFoundError\u001b[0m: [WinError 2] The system cannot find the file specified",
      "\nDuring handling of the above exception, another exception occurred:\n",
      "\u001b[1;31mExecutableNotFound\u001b[0m                        Traceback (most recent call last)",
      "\u001b[1;32m<ipython-input-315-a3c23913af38>\u001b[0m in \u001b[0;36m<module>\u001b[1;34m\u001b[0m\n\u001b[0;32m      7\u001b[0m  class_names=[\"Not Survived\",\"Survived\"])\n\u001b[0;32m      8\u001b[0m \u001b[0mgraph\u001b[0m \u001b[1;33m=\u001b[0m \u001b[0mgraphviz\u001b[0m\u001b[1;33m.\u001b[0m\u001b[0mSource\u001b[0m\u001b[1;33m(\u001b[0m\u001b[0mdot_data\u001b[0m\u001b[1;33m)\u001b[0m\u001b[1;33m\u001b[0m\u001b[1;33m\u001b[0m\u001b[0m\n\u001b[1;32m----> 9\u001b[1;33m \u001b[0mgraph\u001b[0m\u001b[1;33m.\u001b[0m\u001b[0mrender\u001b[0m\u001b[1;33m(\u001b[0m\u001b[1;34m'./table_4_2.gv'\u001b[0m\u001b[1;33m,\u001b[0m \u001b[0mview\u001b[0m\u001b[1;33m=\u001b[0m\u001b[1;32mTrue\u001b[0m\u001b[1;33m)\u001b[0m\u001b[1;33m\u001b[0m\u001b[1;33m\u001b[0m\u001b[0m\n\u001b[0m",
      "\u001b[1;32m~\\anaconda3\\lib\\site-packages\\graphviz\\files.py\u001b[0m in \u001b[0;36mrender\u001b[1;34m(self, filename, directory, view, cleanup, format, renderer, formatter, quiet, quiet_view)\u001b[0m\n\u001b[0;32m    207\u001b[0m         rendered = backend.render(self._engine, format, filepath,\n\u001b[0;32m    208\u001b[0m                                   \u001b[0mrenderer\u001b[0m\u001b[1;33m=\u001b[0m\u001b[0mrenderer\u001b[0m\u001b[1;33m,\u001b[0m \u001b[0mformatter\u001b[0m\u001b[1;33m=\u001b[0m\u001b[0mformatter\u001b[0m\u001b[1;33m,\u001b[0m\u001b[1;33m\u001b[0m\u001b[1;33m\u001b[0m\u001b[0m\n\u001b[1;32m--> 209\u001b[1;33m                                   quiet=quiet)\n\u001b[0m\u001b[0;32m    210\u001b[0m \u001b[1;33m\u001b[0m\u001b[0m\n\u001b[0;32m    211\u001b[0m         \u001b[1;32mif\u001b[0m \u001b[0mcleanup\u001b[0m\u001b[1;33m:\u001b[0m\u001b[1;33m\u001b[0m\u001b[1;33m\u001b[0m\u001b[0m\n",
      "\u001b[1;32m~\\anaconda3\\lib\\site-packages\\graphviz\\backend.py\u001b[0m in \u001b[0;36mrender\u001b[1;34m(***failed resolving arguments***)\u001b[0m\n\u001b[0;32m    219\u001b[0m         \u001b[0mcwd\u001b[0m \u001b[1;33m=\u001b[0m \u001b[1;32mNone\u001b[0m\u001b[1;33m\u001b[0m\u001b[1;33m\u001b[0m\u001b[0m\n\u001b[0;32m    220\u001b[0m \u001b[1;33m\u001b[0m\u001b[0m\n\u001b[1;32m--> 221\u001b[1;33m     \u001b[0mrun\u001b[0m\u001b[1;33m(\u001b[0m\u001b[0mcmd\u001b[0m\u001b[1;33m,\u001b[0m \u001b[0mcapture_output\u001b[0m\u001b[1;33m=\u001b[0m\u001b[1;32mTrue\u001b[0m\u001b[1;33m,\u001b[0m \u001b[0mcwd\u001b[0m\u001b[1;33m=\u001b[0m\u001b[0mcwd\u001b[0m\u001b[1;33m,\u001b[0m \u001b[0mcheck\u001b[0m\u001b[1;33m=\u001b[0m\u001b[1;32mTrue\u001b[0m\u001b[1;33m,\u001b[0m \u001b[0mquiet\u001b[0m\u001b[1;33m=\u001b[0m\u001b[0mquiet\u001b[0m\u001b[1;33m)\u001b[0m\u001b[1;33m\u001b[0m\u001b[1;33m\u001b[0m\u001b[0m\n\u001b[0m\u001b[0;32m    222\u001b[0m     \u001b[1;32mreturn\u001b[0m \u001b[0mrendered\u001b[0m\u001b[1;33m\u001b[0m\u001b[1;33m\u001b[0m\u001b[0m\n\u001b[0;32m    223\u001b[0m \u001b[1;33m\u001b[0m\u001b[0m\n",
      "\u001b[1;32m~\\anaconda3\\lib\\site-packages\\graphviz\\backend.py\u001b[0m in \u001b[0;36mrun\u001b[1;34m(cmd, input, capture_output, check, encoding, quiet, **kwargs)\u001b[0m\n\u001b[0;32m    165\u001b[0m     \u001b[1;32mexcept\u001b[0m \u001b[0mOSError\u001b[0m \u001b[1;32mas\u001b[0m \u001b[0me\u001b[0m\u001b[1;33m:\u001b[0m\u001b[1;33m\u001b[0m\u001b[1;33m\u001b[0m\u001b[0m\n\u001b[0;32m    166\u001b[0m         \u001b[1;32mif\u001b[0m \u001b[0me\u001b[0m\u001b[1;33m.\u001b[0m\u001b[0merrno\u001b[0m \u001b[1;33m==\u001b[0m \u001b[0merrno\u001b[0m\u001b[1;33m.\u001b[0m\u001b[0mENOENT\u001b[0m\u001b[1;33m:\u001b[0m\u001b[1;33m\u001b[0m\u001b[1;33m\u001b[0m\u001b[0m\n\u001b[1;32m--> 167\u001b[1;33m             \u001b[1;32mraise\u001b[0m \u001b[0mExecutableNotFound\u001b[0m\u001b[1;33m(\u001b[0m\u001b[0mcmd\u001b[0m\u001b[1;33m)\u001b[0m\u001b[1;33m\u001b[0m\u001b[1;33m\u001b[0m\u001b[0m\n\u001b[0m\u001b[0;32m    168\u001b[0m         \u001b[1;32melse\u001b[0m\u001b[1;33m:\u001b[0m\u001b[1;33m\u001b[0m\u001b[1;33m\u001b[0m\u001b[0m\n\u001b[0;32m    169\u001b[0m             \u001b[1;32mraise\u001b[0m\u001b[1;33m\u001b[0m\u001b[1;33m\u001b[0m\u001b[0m\n",
      "\u001b[1;31mExecutableNotFound\u001b[0m: failed to execute ['dot', '-Tpdf', '-O', 'table_4_2.gv'], make sure the Graphviz executables are on your systems' PATH"
     ]
    }
   ],
   "source": [
    "import os\n",
    "#os.environ[\"PATH\"] += os.pathsep + 'C:/Users/kurie/anaconda3/Lib/site-packages/graphviz'\n",
    "\n",
    "feature_names = x.columns\n",
    "dot_data = tree.export_graphviz(dtree, out_file=None, filled=True, rounded=True,\n",
    " feature_names=feature_names,\n",
    " class_names=[\"Not Survived\",\"Survived\"])\n",
    "graph = graphviz.Source(dot_data)\n",
    "graph.render('./table.gv', view=True) "
   ]
  },
  {
   "cell_type": "code",
   "execution_count": 316,
   "metadata": {},
   "outputs": [
    {
     "data": {
      "text/plain": [
       "GaussianNB(priors=None, var_smoothing=1e-09)"
      ]
     },
     "execution_count": 316,
     "metadata": {},
     "output_type": "execute_result"
    }
   ],
   "source": [
    "\n",
    "model = GaussianNB()\n",
    "model.fit(x, y)\n",
    "\n"
   ]
  },
  {
   "cell_type": "code",
   "execution_count": 317,
   "metadata": {},
   "outputs": [],
   "source": [
    "y_pred1 = model.predict(x)"
   ]
  },
  {
   "cell_type": "code",
   "execution_count": 318,
   "metadata": {},
   "outputs": [
    {
     "data": {
      "text/plain": [
       "array([0, 1, 1, 1, 0, 0, 0, 0, 1, 1, 1, 1, 0, 0, 1, 1, 0, 0, 1, 1, 0, 0,\n",
       "       1, 0, 1, 1, 0, 0, 1, 0, 0, 1, 1, 0, 0, 0, 0, 0, 1, 1, 1, 1, 0, 1,\n",
       "       1, 0, 0, 1, 0, 1, 0, 0, 1, 1, 0, 0, 1, 0, 1, 0, 0, 1, 0, 0, 0, 0,\n",
       "       1, 0, 1, 0, 0, 1, 0, 0, 0, 0, 0, 0, 0, 1, 0, 0, 1, 0, 1, 1, 0, 0,\n",
       "       1, 0, 0, 0, 0, 0, 0, 0, 1, 0, 1, 0, 1, 0, 0, 0, 0, 0, 1, 0, 0, 1,\n",
       "       0, 1, 0, 1, 1, 0, 0, 0, 0, 1, 0, 0, 0, 1, 0, 0, 0, 0, 1, 0, 0, 0,\n",
       "       1, 1, 0, 0, 1, 0, 0, 0, 1, 1, 1, 0, 0, 0, 0, 1, 0, 0, 0, 1, 0, 0,\n",
       "       0, 0, 1, 0, 0, 0, 0, 1, 0, 0, 0, 0, 1, 1, 0, 0, 0, 0, 1, 0, 0, 0,\n",
       "       0, 1, 0, 0, 1, 0, 0, 0, 1, 0, 1, 0, 0, 0, 1, 0, 1, 0, 1, 1, 0, 0,\n",
       "       1, 1, 0, 0, 0, 0, 0, 1, 0, 0, 1, 0, 0, 1, 0, 0, 0, 1, 1, 0, 1, 0,\n",
       "       0, 0, 0, 0, 0, 0, 0, 0, 0, 1, 1, 0, 0, 1, 0, 1, 0, 1, 0, 0, 1, 1,\n",
       "       0, 0, 0, 0, 1, 1, 0, 0, 0, 1, 0, 0, 1, 1, 1, 1, 1, 1, 0, 0, 0, 0,\n",
       "       1, 0, 0, 0, 1, 1, 0, 0, 1, 0, 1, 1, 1, 0, 0, 1, 0, 0, 0, 0, 0, 0,\n",
       "       0, 0, 0, 1, 1, 1, 0, 1, 0, 0, 0, 1, 0, 1, 1, 0, 0, 1, 0, 1, 1, 1,\n",
       "       0, 1, 1, 1, 1, 0, 0, 1, 1, 0, 1, 1, 0, 0, 1, 1, 0, 1, 0, 1, 1, 1,\n",
       "       1, 0, 0, 0, 1, 0, 0, 1, 0, 0, 0, 1, 0, 0, 0, 1, 1, 1, 0, 0, 0, 0,\n",
       "       0, 0, 0, 0, 1, 1, 1, 1, 0, 0, 1, 0, 0, 0, 1, 1, 1, 1, 0, 0, 0, 0,\n",
       "       1, 1, 1, 0, 0, 0, 1, 1, 0, 1, 0, 0, 0, 1, 0, 1, 0, 0, 0, 1, 1, 0,\n",
       "       1, 0, 0, 1, 0, 0, 1, 0, 1, 0, 0, 0, 0, 1, 0, 0, 1, 0, 0, 1, 1, 1,\n",
       "       0, 1, 0, 0, 0, 1, 0, 0, 1, 1, 0, 0, 0, 1, 1, 0, 0, 1, 1, 1, 0, 0,\n",
       "       1, 0, 0, 1, 0, 1, 1, 0, 1, 0, 0, 0, 0, 0, 0, 0, 0, 1, 1, 0, 0, 0,\n",
       "       0, 0, 0, 0, 0, 0, 0, 1, 0, 0, 1, 1, 1, 0, 0, 0, 0, 1, 0, 0, 0, 1,\n",
       "       0, 1, 1, 0, 0, 0, 0, 0, 0, 1, 0, 0, 1, 0, 1, 0, 0, 1, 1, 1, 1, 0,\n",
       "       1, 0, 0, 0, 0, 0, 0, 1, 0, 0, 1, 0, 1, 0, 1, 0, 0, 1, 0, 0, 1, 0,\n",
       "       0, 0, 1, 0, 0, 1, 1, 1, 0, 1, 0, 1, 1, 1, 1, 0, 0, 0, 1, 0, 0, 0,\n",
       "       0, 0, 0, 0, 1, 0, 1, 0, 1, 1, 0, 0, 0, 0, 1, 0, 0, 1, 0, 0, 0, 1,\n",
       "       0, 1, 0, 0, 1, 1, 1, 0, 1, 1, 0, 0, 0, 1, 0, 0, 0, 0, 0, 1, 0, 1,\n",
       "       0, 0, 1, 0, 0, 0, 1, 0, 0, 0, 0, 0, 0, 0, 1, 1, 1, 0, 1, 0, 0, 1,\n",
       "       0, 1, 1, 0, 0, 0, 0, 0, 0, 0, 0, 1, 0, 0, 1, 0, 0, 0, 1, 1, 0, 0,\n",
       "       1, 0, 0, 1, 1, 0, 1, 0, 0, 0, 0, 1, 0, 1, 0, 1, 1, 0, 0, 1, 0, 0,\n",
       "       0, 0, 0, 0, 0, 0, 0, 0, 0, 1, 1, 0, 0, 0, 0, 0, 0, 1, 1, 0, 1, 0,\n",
       "       0, 0, 0, 0, 0, 0, 0, 1, 0, 1, 0, 0, 0, 0, 0, 1, 0, 0, 1, 0, 1, 0,\n",
       "       0, 0, 1, 0, 1, 0, 1, 0, 0, 0, 0, 0, 1, 1, 0, 0, 1, 0, 0, 0, 0, 0,\n",
       "       1, 1, 0, 1, 1, 0, 0, 0, 0, 0, 1, 0, 0, 0, 0, 0, 1, 0, 0, 1, 0, 1,\n",
       "       0, 0, 1, 0, 0, 0, 1, 0, 0, 0, 0, 1, 0, 0, 0, 1, 0, 1, 0, 1, 0, 0,\n",
       "       0, 0, 1, 0, 1, 0, 0, 1, 0, 1, 1, 1, 0, 0, 0, 0, 1, 0, 0, 0, 0, 0,\n",
       "       1, 0, 0, 0, 1, 1, 0, 1, 0, 1, 0, 0, 0, 0, 0, 1, 0, 1, 0, 0, 0, 1,\n",
       "       0, 0, 1, 0, 0, 0, 1, 0, 0, 1, 0, 0, 0, 0, 0, 1, 1, 0, 0, 0, 0, 1,\n",
       "       0, 0, 0, 0, 0, 0, 1, 0, 0, 0, 0, 0, 0, 1, 0, 0, 1, 1, 1, 1, 1, 0,\n",
       "       1, 0, 0, 0, 1, 1, 0, 1, 1, 0, 0, 0, 0, 1, 0, 0, 1, 1, 0, 0, 0, 1,\n",
       "       1, 0, 1, 0, 0, 1, 0, 1, 1, 0, 0], dtype=int64)"
      ]
     },
     "execution_count": 318,
     "metadata": {},
     "output_type": "execute_result"
    }
   ],
   "source": [
    "y_pred1"
   ]
  },
  {
   "cell_type": "code",
   "execution_count": 321,
   "metadata": {},
   "outputs": [
    {
     "data": {
      "text/plain": [
       "0.7867564534231201"
      ]
     },
     "execution_count": 321,
     "metadata": {},
     "output_type": "execute_result"
    }
   ],
   "source": [
    "accuracy_score(y, y_pred1)"
   ]
  },
  {
   "cell_type": "code",
   "execution_count": 322,
   "metadata": {},
   "outputs": [
    {
     "data": {
      "text/plain": [
       "0.6900584795321637"
      ]
     },
     "execution_count": 322,
     "metadata": {},
     "output_type": "execute_result"
    }
   ],
   "source": [
    "recall_score(y, y_pred1)"
   ]
  },
  {
   "cell_type": "code",
   "execution_count": 323,
   "metadata": {},
   "outputs": [
    {
     "data": {
      "text/plain": [
       "0.7375"
      ]
     },
     "execution_count": 323,
     "metadata": {},
     "output_type": "execute_result"
    }
   ],
   "source": [
    "precision_score(y, y_pred1)"
   ]
  },
  {
   "cell_type": "code",
   "execution_count": 324,
   "metadata": {},
   "outputs": [
    {
     "data": {
      "text/plain": [
       "0.7129909365558913"
      ]
     },
     "execution_count": 324,
     "metadata": {},
     "output_type": "execute_result"
    }
   ],
   "source": [
    "f1_score(y, y_pred1)"
   ]
  },
  {
   "cell_type": "code",
   "execution_count": 335,
   "metadata": {},
   "outputs": [
    {
     "data": {
      "text/plain": [
       "0.7845019145063086"
      ]
     },
     "execution_count": 335,
     "metadata": {},
     "output_type": "execute_result"
    }
   ],
   "source": [
    "np.mean(cross_val_score(model,x,y,cv=5,scoring='accuracy'))"
   ]
  },
  {
   "cell_type": "code",
   "execution_count": 336,
   "metadata": {},
   "outputs": [
    {
     "data": {
      "text/plain": [
       "0.6899829497016198"
      ]
     },
     "execution_count": 336,
     "metadata": {},
     "output_type": "execute_result"
    }
   ],
   "source": [
    "np.mean(cross_val_score(model,x,y,cv=5,scoring='recall'))"
   ]
  },
  {
   "cell_type": "code",
   "execution_count": 337,
   "metadata": {},
   "outputs": [
    {
     "data": {
      "text/plain": [
       "0.733013450892432"
      ]
     },
     "execution_count": 337,
     "metadata": {},
     "output_type": "execute_result"
    }
   ],
   "source": [
    "np.mean(cross_val_score(model,x,y,cv=5,scoring='precision'))"
   ]
  },
  {
   "cell_type": "code",
   "execution_count": 338,
   "metadata": {},
   "outputs": [
    {
     "data": {
      "text/plain": [
       "0.7098473551820123"
      ]
     },
     "execution_count": 338,
     "metadata": {},
     "output_type": "execute_result"
    }
   ],
   "source": [
    "np.mean(cross_val_score(model,x,y,cv=5,scoring='f1'))"
   ]
  },
  {
   "cell_type": "code",
   "execution_count": null,
   "metadata": {},
   "outputs": [],
   "source": []
  }
 ],
 "metadata": {
  "kernelspec": {
   "display_name": "Python 3",
   "language": "python",
   "name": "python3"
  },
  "language_info": {
   "codemirror_mode": {
    "name": "ipython",
    "version": 3
   },
   "file_extension": ".py",
   "mimetype": "text/x-python",
   "name": "python",
   "nbconvert_exporter": "python",
   "pygments_lexer": "ipython3",
   "version": "3.7.6"
  }
 },
 "nbformat": 4,
 "nbformat_minor": 4
}
