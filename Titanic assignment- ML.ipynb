{
 "cells": [
  {
   "cell_type": "markdown",
   "metadata": {},
   "source": [
    "Home work Question number 7\n",
    "Find the count , mean , std deviation, min , max, 25 percentile, 50 percentile and 75 percentile of numeric features"
   ]
  },
  {
   "cell_type": "code",
   "execution_count": null,
   "metadata": {},
   "outputs": [],
   "source": []
  },
  {
   "cell_type": "code",
   "execution_count": 1,
   "metadata": {},
   "outputs": [],
   "source": [
    "import os\n",
    "from sklearn.metrics import accuracy_score\n",
    "from sklearn.metrics import recall_score\n",
    "from sklearn.metrics import precision_score\n",
    "from sklearn.metrics import f1_score\n",
    "from sklearn.neighbors import KNeighborsClassifier\n",
    "from sklearn.naive_bayes import GaussianNB\n",
    "import os\n",
    "import matplotlib.pyplot as plt\n",
    "import pandas as pd\n",
    "import numpy as np\n",
    "import seaborn as sns\n",
    "import csv\n",
    "import sklearn \n",
    "import graphviz\n",
    "from sklearn.linear_model import LogisticRegression\n",
    "from sklearn.tree import DecisionTreeClassifier\n",
    "from sklearn.feature_selection import SelectKBest\n",
    "from sklearn.feature_selection import chi2\n",
    "from sklearn.feature_selection import RFE\n",
    "from sklearn.ensemble import ExtraTreesClassifier\n",
    "from sklearn.svm import SVC, LinearSVC\n",
    "from sklearn.neighbors import KNeighborsClassifier\n",
    "from sklearn.naive_bayes import GaussianNB\n",
    "from sklearn.linear_model import Perceptron\n",
    "from sklearn.linear_model import SGDClassifier\n",
    "from sklearn.feature_selection import SelectKBest, chi2, f_classif\n",
    "from io import StringIO\n",
    "import sklearn.tree as tree\n",
    "from sklearn.model_selection import cross_val_score\n",
    "from sklearn.ensemble import RandomForestClassifier\n",
    "import sqlite3\n",
    "import pandas as pd\n",
    "import numpy as np\n",
    "import seaborn as sns\n",
    "import itertools\n",
    "import matplotlib.pyplot as plt\n",
    "from sklearn.ensemble import GradientBoostingClassifier\n",
    "from sklearn.ensemble import AdaBoostClassifier \n",
    "from sklearn.ensemble import RandomForestClassifier\n",
    "from sklearn.naive_bayes import GaussianNB\n",
    "from sklearn.neighbors import KNeighborsClassifier\n",
    "from sklearn import linear_model\n",
    "from sklearn.metrics import confusion_matrix\n",
    "from sklearn.metrics import classification_report, accuracy_score\n",
    "from sklearn.calibration import CalibratedClassifierCV\n",
    "from sklearn import model_selection\n",
    "from sklearn.model_selection import train_test_split\n",
    "from sklearn.metrics import make_scorer\n",
    "from time import time\n",
    "from sklearn.decomposition import PCA, FastICA\n",
    "from sklearn.pipeline import Pipeline\n",
    "import warnings\n",
    "from sklearn.metrics import accuracy_score\n",
    "from sklearn.metrics import recall_score\n",
    "from sklearn.metrics import precision_score\n",
    "from sklearn.metrics import f1_score\n",
    "from sklearn.neighbors import KNeighborsClassifier\n",
    "from sklearn.naive_bayes import GaussianNB\n",
    "from sklearn import svm\n",
    "from sklearn.pipeline import make_pipeline\n",
    "from sklearn.preprocessing import StandardScaler\n",
    "from sklearn.svm import SVC\n"
   ]
  },
  {
   "cell_type": "code",
   "execution_count": 2,
   "metadata": {},
   "outputs": [],
   "source": [
    "import matplotlib.pyplot as plt\n",
    "import pandas as pd\n",
    "import numpy as np\n",
    "import seaborn as sns\n",
    "import csv\n",
    "import sklearn \n",
    "import graphviz"
   ]
  },
  {
   "cell_type": "code",
   "execution_count": 3,
   "metadata": {},
   "outputs": [
    {
     "data": {
      "text/html": [
       "<div>\n",
       "<style scoped>\n",
       "    .dataframe tbody tr th:only-of-type {\n",
       "        vertical-align: middle;\n",
       "    }\n",
       "\n",
       "    .dataframe tbody tr th {\n",
       "        vertical-align: top;\n",
       "    }\n",
       "\n",
       "    .dataframe thead th {\n",
       "        text-align: right;\n",
       "    }\n",
       "</style>\n",
       "<table border=\"1\" class=\"dataframe\">\n",
       "  <thead>\n",
       "    <tr style=\"text-align: right;\">\n",
       "      <th></th>\n",
       "      <th>PassengerId</th>\n",
       "      <th>Pclass</th>\n",
       "      <th>Age</th>\n",
       "      <th>SibSp</th>\n",
       "      <th>Parch</th>\n",
       "      <th>Fare</th>\n",
       "    </tr>\n",
       "  </thead>\n",
       "  <tbody>\n",
       "    <tr>\n",
       "      <th>count</th>\n",
       "      <td>418.000000</td>\n",
       "      <td>418.000000</td>\n",
       "      <td>332.000000</td>\n",
       "      <td>418.000000</td>\n",
       "      <td>418.000000</td>\n",
       "      <td>417.000000</td>\n",
       "    </tr>\n",
       "    <tr>\n",
       "      <th>mean</th>\n",
       "      <td>1100.500000</td>\n",
       "      <td>2.265550</td>\n",
       "      <td>30.272590</td>\n",
       "      <td>0.447368</td>\n",
       "      <td>0.392344</td>\n",
       "      <td>35.627188</td>\n",
       "    </tr>\n",
       "    <tr>\n",
       "      <th>std</th>\n",
       "      <td>120.810458</td>\n",
       "      <td>0.841838</td>\n",
       "      <td>14.181209</td>\n",
       "      <td>0.896760</td>\n",
       "      <td>0.981429</td>\n",
       "      <td>55.907576</td>\n",
       "    </tr>\n",
       "    <tr>\n",
       "      <th>min</th>\n",
       "      <td>892.000000</td>\n",
       "      <td>1.000000</td>\n",
       "      <td>0.170000</td>\n",
       "      <td>0.000000</td>\n",
       "      <td>0.000000</td>\n",
       "      <td>0.000000</td>\n",
       "    </tr>\n",
       "    <tr>\n",
       "      <th>25%</th>\n",
       "      <td>996.250000</td>\n",
       "      <td>1.000000</td>\n",
       "      <td>21.000000</td>\n",
       "      <td>0.000000</td>\n",
       "      <td>0.000000</td>\n",
       "      <td>7.895800</td>\n",
       "    </tr>\n",
       "    <tr>\n",
       "      <th>50%</th>\n",
       "      <td>1100.500000</td>\n",
       "      <td>3.000000</td>\n",
       "      <td>27.000000</td>\n",
       "      <td>0.000000</td>\n",
       "      <td>0.000000</td>\n",
       "      <td>14.454200</td>\n",
       "    </tr>\n",
       "    <tr>\n",
       "      <th>75%</th>\n",
       "      <td>1204.750000</td>\n",
       "      <td>3.000000</td>\n",
       "      <td>39.000000</td>\n",
       "      <td>1.000000</td>\n",
       "      <td>0.000000</td>\n",
       "      <td>31.500000</td>\n",
       "    </tr>\n",
       "    <tr>\n",
       "      <th>max</th>\n",
       "      <td>1309.000000</td>\n",
       "      <td>3.000000</td>\n",
       "      <td>76.000000</td>\n",
       "      <td>8.000000</td>\n",
       "      <td>9.000000</td>\n",
       "      <td>512.329200</td>\n",
       "    </tr>\n",
       "  </tbody>\n",
       "</table>\n",
       "</div>"
      ],
      "text/plain": [
       "       PassengerId      Pclass         Age       SibSp       Parch        Fare\n",
       "count   418.000000  418.000000  332.000000  418.000000  418.000000  417.000000\n",
       "mean   1100.500000    2.265550   30.272590    0.447368    0.392344   35.627188\n",
       "std     120.810458    0.841838   14.181209    0.896760    0.981429   55.907576\n",
       "min     892.000000    1.000000    0.170000    0.000000    0.000000    0.000000\n",
       "25%     996.250000    1.000000   21.000000    0.000000    0.000000    7.895800\n",
       "50%    1100.500000    3.000000   27.000000    0.000000    0.000000   14.454200\n",
       "75%    1204.750000    3.000000   39.000000    1.000000    0.000000   31.500000\n",
       "max    1309.000000    3.000000   76.000000    8.000000    9.000000  512.329200"
      ]
     },
     "execution_count": 3,
     "metadata": {},
     "output_type": "execute_result"
    }
   ],
   "source": [
    "titan=pd.read_csv('train.csv')\n",
    "titantest=pd.read_csv('test.csv')\n",
    "np.where(pd.isnull(titan))\n",
    "np.where(pd.isnull(titantest))\n",
    "titantest.describe()\n"
   ]
  },
  {
   "cell_type": "code",
   "execution_count": 4,
   "metadata": {},
   "outputs": [
    {
     "name": "stdout",
     "output_type": "stream",
     "text": [
      "     PassengerId  Survived  Pclass  \\\n",
      "0              1         0       3   \n",
      "1              2         1       1   \n",
      "2              3         1       3   \n",
      "3              4         1       1   \n",
      "4              5         0       3   \n",
      "..           ...       ...     ...   \n",
      "886          887         0       2   \n",
      "887          888         1       1   \n",
      "888          889         0       3   \n",
      "889          890         1       1   \n",
      "890          891         0       3   \n",
      "\n",
      "                                                  Name     Sex   Age  SibSp  \\\n",
      "0                              Braund, Mr. Owen Harris    male  22.0      1   \n",
      "1    Cumings, Mrs. John Bradley (Florence Briggs Th...  female  38.0      1   \n",
      "2                               Heikkinen, Miss. Laina  female  26.0      0   \n",
      "3         Futrelle, Mrs. Jacques Heath (Lily May Peel)  female  35.0      1   \n",
      "4                             Allen, Mr. William Henry    male  35.0      0   \n",
      "..                                                 ...     ...   ...    ...   \n",
      "886                              Montvila, Rev. Juozas    male  27.0      0   \n",
      "887                       Graham, Miss. Margaret Edith  female  19.0      0   \n",
      "888           Johnston, Miss. Catherine Helen \"Carrie\"  female   NaN      1   \n",
      "889                              Behr, Mr. Karl Howell    male  26.0      0   \n",
      "890                                Dooley, Mr. Patrick    male  32.0      0   \n",
      "\n",
      "     Parch            Ticket     Fare Cabin Embarked  \n",
      "0        0         A/5 21171   7.2500   NaN        S  \n",
      "1        0          PC 17599  71.2833   C85        C  \n",
      "2        0  STON/O2. 3101282   7.9250   NaN        S  \n",
      "3        0            113803  53.1000  C123        S  \n",
      "4        0            373450   8.0500   NaN        S  \n",
      "..     ...               ...      ...   ...      ...  \n",
      "886      0            211536  13.0000   NaN        S  \n",
      "887      0            112053  30.0000   B42        S  \n",
      "888      2        W./C. 6607  23.4500   NaN        S  \n",
      "889      0            111369  30.0000  C148        C  \n",
      "890      0            370376   7.7500   NaN        Q  \n",
      "\n",
      "[891 rows x 12 columns]\n"
     ]
    },
    {
     "data": {
      "text/plain": [
       "PassengerId    891\n",
       "Survived       891\n",
       "Pclass         891\n",
       "Name           891\n",
       "Sex            891\n",
       "Age            714\n",
       "SibSp          891\n",
       "Parch          891\n",
       "Ticket         891\n",
       "Fare           891\n",
       "Cabin          204\n",
       "Embarked       889\n",
       "dtype: int64"
      ]
     },
     "execution_count": 4,
     "metadata": {},
     "output_type": "execute_result"
    }
   ],
   "source": [
    "print(titan)\n",
    "titan.isnull().sum()\n",
    "titan.notnull().sum()\n",
    "\n",
    "\n"
   ]
  },
  {
   "cell_type": "code",
   "execution_count": 5,
   "metadata": {
    "scrolled": true
   },
   "outputs": [
    {
     "data": {
      "text/html": [
       "<div>\n",
       "<style scoped>\n",
       "    .dataframe tbody tr th:only-of-type {\n",
       "        vertical-align: middle;\n",
       "    }\n",
       "\n",
       "    .dataframe tbody tr th {\n",
       "        vertical-align: top;\n",
       "    }\n",
       "\n",
       "    .dataframe thead th {\n",
       "        text-align: right;\n",
       "    }\n",
       "</style>\n",
       "<table border=\"1\" class=\"dataframe\">\n",
       "  <thead>\n",
       "    <tr style=\"text-align: right;\">\n",
       "      <th></th>\n",
       "      <th>PassengerId</th>\n",
       "      <th>Survived</th>\n",
       "      <th>Pclass</th>\n",
       "      <th>Name</th>\n",
       "      <th>Sex</th>\n",
       "      <th>Age</th>\n",
       "      <th>SibSp</th>\n",
       "      <th>Parch</th>\n",
       "      <th>Ticket</th>\n",
       "      <th>Fare</th>\n",
       "      <th>Cabin</th>\n",
       "      <th>Embarked</th>\n",
       "    </tr>\n",
       "  </thead>\n",
       "  <tbody>\n",
       "    <tr>\n",
       "      <th>0</th>\n",
       "      <td>1</td>\n",
       "      <td>0</td>\n",
       "      <td>3</td>\n",
       "      <td>Braund, Mr. Owen Harris</td>\n",
       "      <td>male</td>\n",
       "      <td>22.0</td>\n",
       "      <td>1</td>\n",
       "      <td>0</td>\n",
       "      <td>A/5 21171</td>\n",
       "      <td>7.2500</td>\n",
       "      <td>NaN</td>\n",
       "      <td>S</td>\n",
       "    </tr>\n",
       "    <tr>\n",
       "      <th>1</th>\n",
       "      <td>2</td>\n",
       "      <td>1</td>\n",
       "      <td>1</td>\n",
       "      <td>Cumings, Mrs. John Bradley (Florence Briggs Th...</td>\n",
       "      <td>female</td>\n",
       "      <td>38.0</td>\n",
       "      <td>1</td>\n",
       "      <td>0</td>\n",
       "      <td>PC 17599</td>\n",
       "      <td>71.2833</td>\n",
       "      <td>C85</td>\n",
       "      <td>C</td>\n",
       "    </tr>\n",
       "  </tbody>\n",
       "</table>\n",
       "</div>"
      ],
      "text/plain": [
       "   PassengerId  Survived  Pclass  \\\n",
       "0            1         0       3   \n",
       "1            2         1       1   \n",
       "\n",
       "                                                Name     Sex   Age  SibSp  \\\n",
       "0                            Braund, Mr. Owen Harris    male  22.0      1   \n",
       "1  Cumings, Mrs. John Bradley (Florence Briggs Th...  female  38.0      1   \n",
       "\n",
       "   Parch     Ticket     Fare Cabin Embarked  \n",
       "0      0  A/5 21171   7.2500   NaN        S  \n",
       "1      0   PC 17599  71.2833   C85        C  "
      ]
     },
     "execution_count": 5,
     "metadata": {},
     "output_type": "execute_result"
    }
   ],
   "source": [
    "titan.head(10)\n",
    "titantest.isnull().sum()\n",
    "titan.head(2)"
   ]
  },
  {
   "cell_type": "code",
   "execution_count": 6,
   "metadata": {},
   "outputs": [
    {
     "data": {
      "text/html": [
       "<div>\n",
       "<style scoped>\n",
       "    .dataframe tbody tr th:only-of-type {\n",
       "        vertical-align: middle;\n",
       "    }\n",
       "\n",
       "    .dataframe tbody tr th {\n",
       "        vertical-align: top;\n",
       "    }\n",
       "\n",
       "    .dataframe thead th {\n",
       "        text-align: right;\n",
       "    }\n",
       "</style>\n",
       "<table border=\"1\" class=\"dataframe\">\n",
       "  <thead>\n",
       "    <tr style=\"text-align: right;\">\n",
       "      <th></th>\n",
       "      <th>PassengerId</th>\n",
       "      <th>Survived</th>\n",
       "      <th>Pclass</th>\n",
       "      <th>Age</th>\n",
       "      <th>SibSp</th>\n",
       "      <th>Parch</th>\n",
       "      <th>Fare</th>\n",
       "    </tr>\n",
       "  </thead>\n",
       "  <tbody>\n",
       "    <tr>\n",
       "      <th>count</th>\n",
       "      <td>891.000000</td>\n",
       "      <td>891.000000</td>\n",
       "      <td>891.000000</td>\n",
       "      <td>714.000000</td>\n",
       "      <td>891.000000</td>\n",
       "      <td>891.000000</td>\n",
       "      <td>891.000000</td>\n",
       "    </tr>\n",
       "    <tr>\n",
       "      <th>mean</th>\n",
       "      <td>446.000000</td>\n",
       "      <td>0.383838</td>\n",
       "      <td>2.308642</td>\n",
       "      <td>29.699118</td>\n",
       "      <td>0.523008</td>\n",
       "      <td>0.381594</td>\n",
       "      <td>32.204208</td>\n",
       "    </tr>\n",
       "    <tr>\n",
       "      <th>std</th>\n",
       "      <td>257.353842</td>\n",
       "      <td>0.486592</td>\n",
       "      <td>0.836071</td>\n",
       "      <td>14.526497</td>\n",
       "      <td>1.102743</td>\n",
       "      <td>0.806057</td>\n",
       "      <td>49.693429</td>\n",
       "    </tr>\n",
       "    <tr>\n",
       "      <th>min</th>\n",
       "      <td>1.000000</td>\n",
       "      <td>0.000000</td>\n",
       "      <td>1.000000</td>\n",
       "      <td>0.420000</td>\n",
       "      <td>0.000000</td>\n",
       "      <td>0.000000</td>\n",
       "      <td>0.000000</td>\n",
       "    </tr>\n",
       "    <tr>\n",
       "      <th>25%</th>\n",
       "      <td>223.500000</td>\n",
       "      <td>0.000000</td>\n",
       "      <td>2.000000</td>\n",
       "      <td>20.125000</td>\n",
       "      <td>0.000000</td>\n",
       "      <td>0.000000</td>\n",
       "      <td>7.910400</td>\n",
       "    </tr>\n",
       "    <tr>\n",
       "      <th>50%</th>\n",
       "      <td>446.000000</td>\n",
       "      <td>0.000000</td>\n",
       "      <td>3.000000</td>\n",
       "      <td>28.000000</td>\n",
       "      <td>0.000000</td>\n",
       "      <td>0.000000</td>\n",
       "      <td>14.454200</td>\n",
       "    </tr>\n",
       "    <tr>\n",
       "      <th>75%</th>\n",
       "      <td>668.500000</td>\n",
       "      <td>1.000000</td>\n",
       "      <td>3.000000</td>\n",
       "      <td>38.000000</td>\n",
       "      <td>1.000000</td>\n",
       "      <td>0.000000</td>\n",
       "      <td>31.000000</td>\n",
       "    </tr>\n",
       "    <tr>\n",
       "      <th>max</th>\n",
       "      <td>891.000000</td>\n",
       "      <td>1.000000</td>\n",
       "      <td>3.000000</td>\n",
       "      <td>80.000000</td>\n",
       "      <td>8.000000</td>\n",
       "      <td>6.000000</td>\n",
       "      <td>512.329200</td>\n",
       "    </tr>\n",
       "  </tbody>\n",
       "</table>\n",
       "</div>"
      ],
      "text/plain": [
       "       PassengerId    Survived      Pclass         Age       SibSp  \\\n",
       "count   891.000000  891.000000  891.000000  714.000000  891.000000   \n",
       "mean    446.000000    0.383838    2.308642   29.699118    0.523008   \n",
       "std     257.353842    0.486592    0.836071   14.526497    1.102743   \n",
       "min       1.000000    0.000000    1.000000    0.420000    0.000000   \n",
       "25%     223.500000    0.000000    2.000000   20.125000    0.000000   \n",
       "50%     446.000000    0.000000    3.000000   28.000000    0.000000   \n",
       "75%     668.500000    1.000000    3.000000   38.000000    1.000000   \n",
       "max     891.000000    1.000000    3.000000   80.000000    8.000000   \n",
       "\n",
       "            Parch        Fare  \n",
       "count  891.000000  891.000000  \n",
       "mean     0.381594   32.204208  \n",
       "std      0.806057   49.693429  \n",
       "min      0.000000    0.000000  \n",
       "25%      0.000000    7.910400  \n",
       "50%      0.000000   14.454200  \n",
       "75%      0.000000   31.000000  \n",
       "max      6.000000  512.329200  "
      ]
     },
     "execution_count": 6,
     "metadata": {},
     "output_type": "execute_result"
    }
   ],
   "source": [
    "titan.describe()"
   ]
  },
  {
   "cell_type": "code",
   "execution_count": 7,
   "metadata": {},
   "outputs": [
    {
     "data": {
      "text/plain": [
       "PassengerId      int64\n",
       "Survived         int64\n",
       "Pclass           int64\n",
       "Name            object\n",
       "Sex             object\n",
       "Age            float64\n",
       "SibSp            int64\n",
       "Parch            int64\n",
       "Ticket          object\n",
       "Fare           float64\n",
       "Cabin           object\n",
       "Embarked        object\n",
       "dtype: object"
      ]
     },
     "execution_count": 7,
     "metadata": {},
     "output_type": "execute_result"
    }
   ],
   "source": [
    "titan.dtypes"
   ]
  },
  {
   "cell_type": "code",
   "execution_count": 8,
   "metadata": {},
   "outputs": [
    {
     "data": {
      "text/plain": [
       "0    549\n",
       "1    342\n",
       "Name: Survived, dtype: int64"
      ]
     },
     "execution_count": 8,
     "metadata": {},
     "output_type": "execute_result"
    }
   ],
   "source": [
    "titan.Survived.value_counts()\n",
    "\n"
   ]
  },
  {
   "cell_type": "code",
   "execution_count": 9,
   "metadata": {},
   "outputs": [
    {
     "data": {
      "text/plain": [
       "male      577\n",
       "female    314\n",
       "Name: Sex, dtype: int64"
      ]
     },
     "execution_count": 9,
     "metadata": {},
     "output_type": "execute_result"
    }
   ],
   "source": [
    "titan.Sex.value_counts()"
   ]
  },
  {
   "cell_type": "code",
   "execution_count": 10,
   "metadata": {},
   "outputs": [],
   "source": [
    "cols=['Name','Sex','Ticket','Cabin','Embarked']"
   ]
  },
  {
   "cell_type": "code",
   "execution_count": 11,
   "metadata": {},
   "outputs": [
    {
     "data": {
      "text/plain": [
       "3    491\n",
       "1    216\n",
       "2    184\n",
       "Name: Pclass, dtype: int64"
      ]
     },
     "execution_count": 11,
     "metadata": {},
     "output_type": "execute_result"
    }
   ],
   "source": [
    "titan.Pclass.value_counts()"
   ]
  },
  {
   "cell_type": "code",
   "execution_count": 12,
   "metadata": {},
   "outputs": [
    {
     "data": {
      "text/plain": [
       "male      577\n",
       "female    314\n",
       "Name: Sex, dtype: int64"
      ]
     },
     "execution_count": 12,
     "metadata": {},
     "output_type": "execute_result"
    }
   ],
   "source": [
    "titan.Sex.value_counts()"
   ]
  },
  {
   "cell_type": "code",
   "execution_count": 13,
   "metadata": {},
   "outputs": [
    {
     "data": {
      "text/plain": [
       "S    644\n",
       "C    168\n",
       "Q     77\n",
       "Name: Embarked, dtype: int64"
      ]
     },
     "execution_count": 13,
     "metadata": {},
     "output_type": "execute_result"
    }
   ],
   "source": [
    "titan.Embarked.value_counts()"
   ]
  },
  {
   "cell_type": "code",
   "execution_count": 14,
   "metadata": {},
   "outputs": [
    {
     "data": {
      "text/plain": [
       "0    549\n",
       "1    342\n",
       "Name: Survived, dtype: int64"
      ]
     },
     "execution_count": 14,
     "metadata": {},
     "output_type": "execute_result"
    }
   ],
   "source": [
    "titan.Survived.value_counts()"
   ]
  },
  {
   "cell_type": "code",
   "execution_count": 15,
   "metadata": {},
   "outputs": [
    {
     "data": {
      "text/plain": [
       "['Skoog, Mr. Wilhelm',\n",
       " 'Moran, Mr. Daniel J',\n",
       " 'Wilhelms, Mr. Charles',\n",
       " 'Thomas, Master. Assad Alexander',\n",
       " 'Sage, Mr. Frederick',\n",
       " 'Goodwin, Master. Sidney Leonard',\n",
       " 'Sandstrom, Mrs. Hjalmar (Agnes Charlotta Bengtsson)',\n",
       " 'Hedman, Mr. Oskar Arvid',\n",
       " 'Louch, Mrs. Charles Alexander (Alice Adelaide Slow)',\n",
       " 'Tomlin, Mr. Ernest Portage',\n",
       " 'Hart, Mr. Benjamin',\n",
       " 'Williams, Mr. Leslie',\n",
       " 'Skoog, Mrs. William (Anna Bernhardina Karlsson)',\n",
       " 'Bengtsson, Mr. John Viktor',\n",
       " 'Carter, Master. William Thornton II',\n",
       " 'Weisz, Mrs. Leopold (Mathilde Francoise Pede)',\n",
       " 'de Pelsmaeker, Mr. Alfons',\n",
       " 'Ridsdale, Miss. Lucy',\n",
       " 'Strom, Mrs. Wilhelm (Elna Matilda Persson)',\n",
       " 'Danoff, Mr. Yoto',\n",
       " 'Goodwin, Mrs. Frederick (Augusta Tyler)',\n",
       " 'Byles, Rev. Thomas Roussel Davids',\n",
       " 'Pain, Dr. Alfred',\n",
       " 'Baclini, Miss. Helene Barbara',\n",
       " 'Gale, Mr. Shadrach',\n",
       " 'Risien, Mr. Samuel Beard',\n",
       " 'Carrau, Mr. Francisco M',\n",
       " 'Nasser, Mr. Nicholas',\n",
       " 'Rice, Master. George Hugh',\n",
       " 'Parrish, Mrs. (Lutie Davis)',\n",
       " 'Leyson, Mr. Robert William Norman',\n",
       " 'Sirayanian, Mr. Orsen',\n",
       " 'Kink-Heilmann, Miss. Luise Gretchen',\n",
       " 'Kilgannon, Mr. Thomas J',\n",
       " 'Shorney, Mr. Charles Joseph',\n",
       " 'Pettersson, Miss. Ellen Natalia',\n",
       " 'Betros, Mr. Tannous',\n",
       " 'Christmann, Mr. Emil',\n",
       " 'Palsson, Master. Gosta Leonard',\n",
       " 'Maisner, Mr. Simon',\n",
       " 'Montvila, Rev. Juozas',\n",
       " 'Johansson, Mr. Gustaf Joel',\n",
       " 'Goldsmith, Mr. Frank John',\n",
       " 'Radeff, Mr. Alexander',\n",
       " 'Persson, Mr. Ernst Ulrik',\n",
       " 'Najib, Miss. Adele Kiamie \"Jane\"',\n",
       " 'Mitkoff, Mr. Mito',\n",
       " 'Toufik, Mr. Nakli',\n",
       " 'Holverson, Mrs. Alexander Oskar (Mary Aline Towner)',\n",
       " 'Appleton, Mrs. Edward Dale (Charlotte Lamson)',\n",
       " 'Andersson, Master. Sigvard Harald Elias',\n",
       " 'Moussa, Mrs. (Mantoura Boulos)',\n",
       " 'Cohen, Mr. Gurshon \"Gus\"',\n",
       " 'Hassab, Mr. Hammad',\n",
       " 'Baclini, Mrs. Solomon (Latifa Qurban)',\n",
       " 'Karlsson, Mr. Nils August',\n",
       " 'Andersson, Miss. Ellis Anna Maria',\n",
       " 'Mellors, Mr. William John',\n",
       " 'Hale, Mr. Reginald',\n",
       " 'Long, Mr. Milton Clyde',\n",
       " 'Alexander, Mr. William',\n",
       " 'Ford, Mrs. Edward (Margaret Ann Watson)',\n",
       " 'Caldwell, Mrs. Albert Francis (Sylvia Mae Harbaugh)',\n",
       " 'Lindblom, Miss. Augusta Charlotta',\n",
       " 'Coutts, Master. Eden Leslie \"Neville\"',\n",
       " 'Hocking, Mr. Richard George',\n",
       " 'Duff Gordon, Lady. (Lucille Christiana Sutherland) (\"Mrs Morgan\")',\n",
       " 'Hood, Mr. Ambrose Jr',\n",
       " 'Fortune, Miss. Alice Elizabeth',\n",
       " 'Lovell, Mr. John Hall (\"Henry\")',\n",
       " 'Toomey, Miss. Ellen',\n",
       " 'Fynney, Mr. Joseph J',\n",
       " 'Nicholson, Mr. Arthur Ernest',\n",
       " 'Kelly, Mr. James',\n",
       " 'Calic, Mr. Jovo',\n",
       " 'Ling, Mr. Lee',\n",
       " 'Reeves, Mr. David',\n",
       " 'Hansen, Mr. Henrik Juul',\n",
       " 'Graham, Mrs. William Thompson (Edith Junkins)',\n",
       " 'Waelens, Mr. Achille',\n",
       " 'Baclini, Miss. Marie Catherine',\n",
       " 'Lahtinen, Mrs. William (Anna Sylfven)',\n",
       " 'Brocklebank, Mr. William Alfred',\n",
       " 'Panula, Master. Urho Abraham',\n",
       " 'Petroff, Mr. Nedelio',\n",
       " 'Campbell, Mr. William',\n",
       " 'Dorking, Mr. Edward Arthur',\n",
       " 'Stranden, Mr. Juho',\n",
       " 'Healy, Miss. Hanora \"Nora\"',\n",
       " 'Bostandyeff, Mr. Guentcho',\n",
       " 'Hagland, Mr. Ingvald Olai Olsen',\n",
       " 'Edvardsson, Mr. Gustaf Hjalmar',\n",
       " 'Coelho, Mr. Domingos Fernandeo',\n",
       " 'Rush, Mr. Alfred George John',\n",
       " 'Flynn, Mr. James',\n",
       " 'Jonsson, Mr. Carl',\n",
       " 'Saad, Mr. Amin',\n",
       " 'Jussila, Mr. Eiriik',\n",
       " 'Cunningham, Mr. Alfred Fleming',\n",
       " 'Sage, Mr. Douglas Bullen',\n",
       " 'Rothschild, Mrs. Martin (Elizabeth L. Barrett)',\n",
       " 'Windelov, Mr. Einar',\n",
       " 'Dakic, Mr. Branko',\n",
       " 'Hunt, Mr. George Henry',\n",
       " 'Johnson, Miss. Eleanor Ileen',\n",
       " 'Strom, Miss. Telma Matilda',\n",
       " 'Corn, Mr. Harry',\n",
       " 'Zabour, Miss. Thamine',\n",
       " 'Mellinger, Miss. Madeleine Violet',\n",
       " 'Perreault, Miss. Anne',\n",
       " 'Murphy, Miss. Katherine \"Kate\"',\n",
       " 'Funk, Miss. Annie Clemmer',\n",
       " 'Mineff, Mr. Ivan',\n",
       " 'Seward, Mr. Frederic Kimber',\n",
       " 'Collyer, Mrs. Harvey (Charlotte Annie Tate)',\n",
       " 'Johnson, Master. Harold Theodor',\n",
       " 'Robert, Mrs. Edward Scott (Elisabeth Walton McMillan)',\n",
       " 'Turpin, Mrs. William John Robert (Dorothy Ann Wonnacott)',\n",
       " 'White, Mr. Richard Frasar',\n",
       " 'Asplund, Master. Clarence Gustaf Hugo',\n",
       " 'Williams, Mr. Charles Duane',\n",
       " 'Beckwith, Mrs. Richard Leonard (Sallie Monypeny)',\n",
       " 'Andreasson, Mr. Paul Edvin',\n",
       " 'Klasen, Mr. Klas Albin',\n",
       " 'Skoog, Master. Karl Thorsten',\n",
       " 'Nirva, Mr. Iisakki Antino Aijo',\n",
       " 'Gill, Mr. John William',\n",
       " 'Fortune, Mr. Charles Alexander',\n",
       " 'Samaan, Mr. Youssef',\n",
       " 'Attalah, Miss. Malake',\n",
       " 'Sloper, Mr. William Thompson',\n",
       " 'Laroche, Mr. Joseph Philippe Lemercier',\n",
       " 'O\\'Brien, Mrs. Thomas (Johanna \"Hannah\" Godfrey)',\n",
       " 'Watson, Mr. Ennis Hastings',\n",
       " 'Collander, Mr. Erik Gustaf',\n",
       " 'Palsson, Miss. Torborg Danira',\n",
       " 'Ball, Mrs. (Ada E Hall)',\n",
       " 'Andersen-Jensen, Miss. Carla Christine Nielsine',\n",
       " 'Andersson, Mr. August Edvard (\"Wennerstrom\")',\n",
       " 'Barkworth, Mr. Algernon Henry Wilson',\n",
       " 'Bishop, Mrs. Dickinson H (Helen Walton)',\n",
       " 'Youseff, Mr. Gerious',\n",
       " 'Palsson, Mrs. Nils (Alma Cornelia Berglund)',\n",
       " 'Kink, Mr. Vincenz',\n",
       " 'Humblen, Mr. Adolf Mathias Nicolai Olsen',\n",
       " 'Vande Velde, Mr. Johannes Joseph',\n",
       " 'Torber, Mr. Ernst William',\n",
       " 'Thayer, Mr. John Borland',\n",
       " 'Norman, Mr. Robert Douglas',\n",
       " 'Molson, Mr. Harry Markland',\n",
       " 'Richards, Mrs. Sidney (Emily Hocking)',\n",
       " 'Caldwell, Master. Alden Gates',\n",
       " 'Thorneycroft, Mr. Percival',\n",
       " 'Brown, Mrs. James Joseph (Margaret Tobin)',\n",
       " 'Watt, Mrs. James (Elizabeth \"Bessie\" Inglis Milne)',\n",
       " 'Frauenthal, Mrs. Henry William (Clara Heinsheimer)',\n",
       " 'Millet, Mr. Francis Davis',\n",
       " 'Nosworthy, Mr. Richard Cater',\n",
       " 'Aubart, Mme. Leontine Pauline',\n",
       " \"O'Connell, Mr. Patrick D\",\n",
       " 'Slocovski, Mr. Selman Francis',\n",
       " 'Sjoblom, Miss. Anna Sofia',\n",
       " 'Hewlett, Mrs. (Mary D Kingcome) ',\n",
       " 'Myhrman, Mr. Pehr Fabian Oliver Malkolm',\n",
       " 'Rosblom, Mr. Viktor Richard',\n",
       " 'Longley, Miss. Gretchen Fiske',\n",
       " 'Wells, Miss. Joan',\n",
       " 'Fahlstrom, Mr. Arne Jonas',\n",
       " 'Nicola-Yarred, Master. Elias',\n",
       " 'Lulic, Mr. Nikola',\n",
       " 'Rintamaki, Mr. Matti',\n",
       " 'Barah, Mr. Hanna Assi',\n",
       " 'Rekic, Mr. Tido',\n",
       " 'Maenpaa, Mr. Matti Alexanteri',\n",
       " 'Robins, Mrs. Alexander A (Grace Charity Laury)',\n",
       " 'Harknett, Miss. Alice Phoebe',\n",
       " 'Ponesell, Mr. Martin',\n",
       " 'Otter, Mr. Richard',\n",
       " 'Giglio, Mr. Victor',\n",
       " 'Mullens, Miss. Katherine \"Katie\"',\n",
       " 'Oreskovic, Mr. Luka',\n",
       " 'Jenkin, Mr. Stephen Curnow',\n",
       " 'Lennon, Mr. Denis',\n",
       " 'Partner, Mr. Austen',\n",
       " 'Emir, Mr. Farred Chehab',\n",
       " 'Becker, Master. Richard F',\n",
       " 'Keefe, Mr. Arthur',\n",
       " 'Meanwell, Miss. (Marion Ogden)',\n",
       " 'Dick, Mr. Albert Adrian',\n",
       " 'Ryerson, Miss. Susan Parker \"Suzette\"',\n",
       " 'Pengelly, Mr. Frederick William',\n",
       " 'Gee, Mr. Arthur H',\n",
       " 'Leader, Dr. Alice (Farnham)',\n",
       " 'Stahelin-Maeglin, Dr. Max',\n",
       " 'Williams-Lambert, Mr. Fletcher Fellows',\n",
       " 'Harmer, Mr. Abraham (David Lishin)',\n",
       " 'Francatelli, Miss. Laura Mabel',\n",
       " 'Green, Mr. George Henry',\n",
       " 'Carter, Miss. Lucile Polk',\n",
       " 'Andersson, Miss. Sigrid Elisabeth',\n",
       " 'Allum, Mr. Owen George',\n",
       " 'Moubarek, Master. Gerios',\n",
       " 'Flynn, Mr. John Irwin (\"Irving\")',\n",
       " 'Badt, Mr. Mohamed',\n",
       " 'Kelly, Mrs. Florence \"Fannie\"',\n",
       " 'Andersson, Miss. Ebba Iris Alfrida',\n",
       " 'Marvin, Mr. Daniel Warner',\n",
       " 'Sjostedt, Mr. Ernst Adolf',\n",
       " 'Barbara, Mrs. (Catherine David)',\n",
       " 'Cavendish, Mr. Tyrell William',\n",
       " 'Sage, Miss. Stella Anna',\n",
       " 'Odahl, Mr. Nils Martin',\n",
       " 'Alhomaki, Mr. Ilmari Rudolf',\n",
       " 'Nakid, Mr. Sahid',\n",
       " 'Collyer, Mr. Harvey',\n",
       " 'Haas, Miss. Aloisia',\n",
       " 'Elias, Mr. Joseph Jr',\n",
       " 'Navratil, Mr. Michel (\"Louis M Hoffman\")',\n",
       " 'Hart, Mr. Henry',\n",
       " 'McCoy, Miss. Agnes',\n",
       " 'Coleff, Mr. Peju',\n",
       " 'Olsson, Miss. Elina',\n",
       " 'Wheadon, Mr. Edward H',\n",
       " 'Sivic, Mr. Husein',\n",
       " 'Calderhead, Mr. Edward Pennington',\n",
       " 'Madsen, Mr. Fridtjof Arne',\n",
       " 'Maioni, Miss. Roberta',\n",
       " 'Mack, Mrs. (Mary)',\n",
       " 'Johnson, Mrs. Oscar W (Elisabeth Vilhelmina Berg)',\n",
       " 'McGough, Mr. James Robert',\n",
       " 'Newell, Mr. Arthur Webster',\n",
       " 'Yasbeck, Mr. Antoni',\n",
       " 'Wick, Miss. Mary Natalie',\n",
       " 'LeRoy, Miss. Bertha',\n",
       " 'Carter, Rev. Ernest Courtenay',\n",
       " 'Bryhl, Mr. Kurt Arnold Gottfrid',\n",
       " 'Rice, Master. Eric',\n",
       " 'Rice, Master. Eugene',\n",
       " 'Mudd, Mr. Thomas Charles',\n",
       " 'Moor, Mrs. (Beila)',\n",
       " 'Kvillner, Mr. Johan Henrik Johannesson',\n",
       " 'Andersson, Miss. Erna Alexandra',\n",
       " 'Abbott, Mr. Rossmore Edward',\n",
       " 'Holverson, Mr. Alexander Oskar',\n",
       " 'Silvey, Mrs. William Baird (Alice Munger)',\n",
       " 'Meyer, Mr. August',\n",
       " 'Hansen, Mr. Claus Peter',\n",
       " 'Bracken, Mr. James H',\n",
       " 'Touma, Mrs. Darwis (Hanne Youssef Razi)',\n",
       " 'Jerwan, Mrs. Amin S (Marie Marthe Thuillard)',\n",
       " \"O'Driscoll, Miss. Bridget\",\n",
       " 'Hagland, Mr. Konrad Mathias Reiersen',\n",
       " 'Lundahl, Mr. Johan Svensson',\n",
       " 'Madill, Miss. Georgette Alexandra',\n",
       " 'Gaskell, Mr. Alfred',\n",
       " 'Goldschmidt, Mr. George B',\n",
       " 'Moutal, Mr. Rahamin Haim',\n",
       " 'Frolicher, Miss. Hedwig Margaritha',\n",
       " 'Simonius-Blumer, Col. Oberst Alfons',\n",
       " 'Stead, Mr. William Thomas',\n",
       " 'Allen, Mr. William Henry',\n",
       " 'Vestrom, Miss. Hulda Amanda Adolfina',\n",
       " 'Gronnestad, Mr. Daniel Danielsen',\n",
       " 'de Messemaeker, Mrs. Guillaume Joseph (Emma)',\n",
       " 'Van der hoef, Mr. Wyckoff',\n",
       " 'Cann, Mr. Ernest Charles',\n",
       " 'Lahoud, Mr. Sarkis',\n",
       " 'Ilmakangas, Miss. Pieta Sofia',\n",
       " 'Slayter, Miss. Hilda Mary',\n",
       " 'Sage, Miss. Constance Gladys',\n",
       " 'Arnold-Franchi, Mr. Josef',\n",
       " 'Gheorgheff, Mr. Stanio',\n",
       " 'Sandstrom, Miss. Marguerite Rut',\n",
       " 'Skoog, Miss. Mabel',\n",
       " 'Rommetvedt, Mr. Knud Paust',\n",
       " 'Bailey, Mr. Percy Andrew',\n",
       " 'Berglund, Mr. Karl Ivar Sven',\n",
       " 'Moran, Miss. Bertha',\n",
       " 'Collyer, Miss. Marjorie \"Lottie\"',\n",
       " 'Hanna, Mr. Mansour',\n",
       " 'Larsson, Mr. August Viktor',\n",
       " 'Meyer, Mr. Edgar Joseph',\n",
       " 'Lines, Miss. Mary Conover',\n",
       " 'Leitch, Miss. Jessie Wills',\n",
       " 'Hosono, Mr. Masabumi',\n",
       " 'Taylor, Mr. Elmer Zebley',\n",
       " 'Gustafsson, Mr. Johan Birger',\n",
       " 'Hays, Miss. Margaret Bechstein',\n",
       " 'Bystrom, Mrs. (Karolina)',\n",
       " 'Matthews, Mr. William John',\n",
       " 'Bjornstrom-Steffansson, Mr. Mauritz Hakan',\n",
       " 'Abbott, Mrs. Stanton (Rosa Hunt)',\n",
       " 'Ford, Mr. William Neal',\n",
       " 'Jarvis, Mr. John Denzil',\n",
       " 'Richards, Master. William Rowe',\n",
       " 'Pekoniemi, Mr. Edvard',\n",
       " 'Barton, Mr. David John',\n",
       " 'Ali, Mr. Ahmed',\n",
       " 'Danbom, Mrs. Ernst Gilbert (Anna Sigrid Maria Brogren)',\n",
       " 'de Mulder, Mr. Theodore',\n",
       " 'Doharr, Mr. Tannous',\n",
       " 'Jonkoff, Mr. Lalio',\n",
       " 'Masselmani, Mrs. Fatima',\n",
       " 'Ford, Miss. Doolina Margaret \"Daisy\"',\n",
       " 'Johannesen-Bratthammer, Mr. Bernt',\n",
       " 'Pernot, Mr. Rene',\n",
       " 'Nysveen, Mr. Johan Hansen',\n",
       " 'Dean, Mr. Bertram Frank',\n",
       " 'Frost, Mr. Anthony Wood \"Archie\"',\n",
       " 'Mionoff, Mr. Stoytcho',\n",
       " 'Turja, Miss. Anna Sofia',\n",
       " 'Giles, Mr. Frederick Edward',\n",
       " 'Gustafsson, Mr. Karl Gideon',\n",
       " 'Lindell, Mr. Edvard Bengtsson',\n",
       " 'Behr, Mr. Karl Howell',\n",
       " 'Bissette, Miss. Amelia',\n",
       " 'Nakid, Miss. Maria (\"Mary\")',\n",
       " 'Daly, Mr. Peter Denis ',\n",
       " 'McDermott, Miss. Brigdet Delia',\n",
       " 'Ilett, Miss. Bertha',\n",
       " 'Newsom, Miss. Helen Monypeny',\n",
       " 'Flynn, Mr. John',\n",
       " 'Zabour, Miss. Hileni',\n",
       " 'Porter, Mr. Walter Chamberlain',\n",
       " 'Laroche, Miss. Simonne Marie Anne Andree',\n",
       " 'Olsen, Mr. Ole Martin',\n",
       " 'Fox, Mr. Stanley Hubert',\n",
       " 'Banfield, Mr. Frederick James',\n",
       " 'Mamee, Mr. Hanna',\n",
       " 'McNamee, Mr. Neal',\n",
       " 'Jussila, Miss. Katriina',\n",
       " 'Devaney, Miss. Margaret Delia',\n",
       " 'Panula, Master. Juha Niilo',\n",
       " 'Harris, Mr. George',\n",
       " 'Bing, Mr. Lee',\n",
       " 'Lefebre, Miss. Mathilde',\n",
       " 'Johansson, Mr. Karl Johan',\n",
       " 'Boulos, Miss. Nourelain',\n",
       " 'Padro y Manent, Mr. Julian',\n",
       " 'Clifford, Mr. George Quincy',\n",
       " 'Cor, Mr. Liudevit',\n",
       " 'Kalvik, Mr. Johannes Halvorsen',\n",
       " 'Garfirth, Mr. John',\n",
       " 'Kenyon, Mrs. Frederick R (Marion)',\n",
       " 'Ford, Miss. Robina Maggie \"Ruby\"',\n",
       " 'Panula, Mrs. Juha (Maria Emilia Ojala)',\n",
       " 'Razi, Mr. Raihed',\n",
       " 'Sirota, Mr. Maurice',\n",
       " 'Harper, Mrs. Henry Sleeper (Myna Haxtun)',\n",
       " 'Smiljanic, Mr. Mile',\n",
       " 'Sheerlinck, Mr. Jan Baptist',\n",
       " 'O\\'Dwyer, Miss. Ellen \"Nellie\"',\n",
       " 'Mockler, Miss. Helen Mary \"Ellie\"',\n",
       " 'Smith, Miss. Marion Elsie',\n",
       " 'Knight, Mr. Robert J',\n",
       " 'Romaine, Mr. Charles Hallace (\"Mr C Rolmane\")',\n",
       " 'Sedgwick, Mr. Charles Frederick Waddington',\n",
       " 'Faunthorpe, Mrs. Lizzie (Elizabeth Anne Wilkinson)',\n",
       " 'Clarke, Mrs. Charles V (Ada Maria Winfield)',\n",
       " 'Doling, Miss. Elsie',\n",
       " 'McCormack, Mr. Thomas Joseph',\n",
       " 'Adams, Mr. John',\n",
       " 'Beesley, Mr. Lawrence',\n",
       " 'Ryerson, Miss. Emily Borie',\n",
       " 'Backstrom, Mr. Karl Alfred',\n",
       " 'Ringhini, Mr. Sante',\n",
       " 'Chibnall, Mrs. (Edith Martha Bowerman)',\n",
       " 'Meek, Mrs. Thomas (Annie Louise Rowley)',\n",
       " 'Saalfeld, Mr. Adolphe',\n",
       " 'Foreman, Mr. Benjamin Laventall',\n",
       " 'Braund, Mr. Owen Harris',\n",
       " 'Lemore, Mrs. (Amelia Milley)',\n",
       " 'Laroche, Mrs. Joseph (Juliette Marie Louise Lafargue)',\n",
       " 'Slemen, Mr. Richard James',\n",
       " 'Hippach, Miss. Jean Gertrude',\n",
       " 'Taussig, Mrs. Emil (Tillie Mandelbaum)',\n",
       " 'Van Impe, Mrs. Jean Baptiste (Rosalie Paula Govaert)',\n",
       " 'Pinsky, Mrs. (Rosa)',\n",
       " 'Nankoff, Mr. Minko',\n",
       " 'Herman, Miss. Alice',\n",
       " 'Sage, Miss. Dorothy Edith \"Dolly\"',\n",
       " 'Abelson, Mrs. Samuel (Hannah Wizosky)',\n",
       " 'Denkoff, Mr. Mitto',\n",
       " 'Burns, Miss. Elizabeth Margaret',\n",
       " 'Burke, Mr. Jeremiah',\n",
       " 'Mernagh, Mr. Robert',\n",
       " 'Vander Planke, Mr. Leo Edmondus',\n",
       " 'Leonard, Mr. Lionel',\n",
       " 'Salonen, Mr. Johan Werner',\n",
       " 'Sobey, Mr. Samuel James Hayden',\n",
       " 'Williams, Mr. Charles Eugene',\n",
       " 'Stephenson, Mrs. Walter Bertram (Martha Eustis)',\n",
       " 'Chapman, Mr. Charles Henry',\n",
       " 'Garside, Miss. Ethel',\n",
       " 'Bonnell, Miss. Elizabeth',\n",
       " 'Hold, Mr. Stephen',\n",
       " 'Moor, Master. Meier',\n",
       " 'Kirkland, Rev. Charles Leonard',\n",
       " 'Willey, Mr. Edward',\n",
       " 'Warren, Mrs. Frank Manley (Anna Sophia Atkinson)',\n",
       " 'Eklund, Mr. Hans Linus',\n",
       " 'Hoyt, Mr. William Fisher',\n",
       " 'Jensen, Mr. Niels Peder',\n",
       " 'Graham, Miss. Margaret Edith',\n",
       " 'Soholt, Mr. Peter Andreas Lauritz Andersen',\n",
       " 'Coxon, Mr. Daniel',\n",
       " 'Pickard, Mr. Berk (Berk Trembisky)',\n",
       " 'Connolly, Miss. Kate',\n",
       " 'Doling, Mrs. John T (Ada Julia Bone)',\n",
       " 'Ohman, Miss. Velin',\n",
       " 'Pavlovic, Mr. Stefo',\n",
       " 'Widegren, Mr. Carl/Charles Peter',\n",
       " 'Johnson, Mr. Malkolm Joackim',\n",
       " 'Gavey, Mr. Lawrence',\n",
       " 'Gustafsson, Mr. Anders Vilhelm',\n",
       " 'Greenberg, Mr. Samuel',\n",
       " 'Woolner, Mr. Hugh',\n",
       " 'Olsson, Mr. Nils Johan Goransson',\n",
       " 'Andersson, Mr. Anders Johan',\n",
       " 'Vovk, Mr. Janko',\n",
       " 'Leinonen, Mr. Antti Gustaf',\n",
       " 'Laitinen, Miss. Kristina Sofia',\n",
       " 'Slabenoff, Mr. Petco',\n",
       " 'Roebling, Mr. Washington Augustus II',\n",
       " 'Peuchen, Major. Arthur Godfrey',\n",
       " 'Fischer, Mr. Eberhard Thelander',\n",
       " 'Bateman, Rev. Robert James',\n",
       " 'Adahl, Mr. Mauritz Nils Martin',\n",
       " 'Douglas, Mr. Walter Donald',\n",
       " 'Futrelle, Mr. Jacques Heath',\n",
       " 'Fortune, Miss. Mabel Helen',\n",
       " 'Carter, Mrs. Ernest Courtenay (Lilian Hughes)',\n",
       " 'Charters, Mr. David',\n",
       " 'Widener, Mr. Harry Elkins',\n",
       " 'Cacic, Mr. Luka',\n",
       " 'Peter, Mrs. Catherine (Catherine Rizk)',\n",
       " 'Astor, Mrs. John Jacob (Madeleine Talmadge Force)',\n",
       " 'Hippach, Mrs. Louis Albert (Ida Sophia Fischer)',\n",
       " 'Lindahl, Miss. Agda Thorilda Viktoria',\n",
       " 'Van Impe, Mr. Jean Baptiste',\n",
       " 'Rothes, the Countess. of (Lucy Noel Martha Dyer-Edwards)',\n",
       " 'Panula, Mr. Ernesti Arvid',\n",
       " 'Cameron, Miss. Clear Annie',\n",
       " \"O'Sullivan, Miss. Bridget Mary\",\n",
       " 'Futrelle, Mrs. Jacques Heath (Lily May Peel)',\n",
       " 'Perkin, Mr. John Henry',\n",
       " 'Stone, Mrs. George Nelson (Martha Evelyn)',\n",
       " 'Compton, Miss. Sara Rebecca',\n",
       " 'Dowdell, Miss. Elizabeth',\n",
       " 'Ostby, Mr. Engelhart Cornelius',\n",
       " 'Yrois, Miss. Henriette (\"Mrs Harbeck\")',\n",
       " 'Thayer, Mr. John Borland Jr',\n",
       " 'Robbins, Mr. Victor',\n",
       " 'Butler, Mr. Reginald Fenton',\n",
       " 'Hamalainen, Master. Viljo',\n",
       " 'Farrell, Mr. James',\n",
       " 'Barbara, Miss. Saiide',\n",
       " 'Goodwin, Miss. Lillian Amy',\n",
       " 'Mitchell, Mr. Henry Michael',\n",
       " 'Smith, Mr. James Clinch',\n",
       " 'Dodge, Master. Washington',\n",
       " 'Hirvonen, Miss. Hildur E',\n",
       " 'Lindqvist, Mr. Eino William',\n",
       " 'Lefebre, Master. Henry Forbes',\n",
       " 'Isham, Miss. Ann Elizabeth',\n",
       " 'Sivola, Mr. Antti Wilhelm',\n",
       " 'Reuchlin, Jonkheer. John George',\n",
       " 'Dahl, Mr. Karl Edwart',\n",
       " 'Novel, Mr. Mansouer',\n",
       " 'Goodwin, Master. Harold Victor',\n",
       " 'Hodges, Mr. Henry Price',\n",
       " 'Osman, Mrs. Mara',\n",
       " 'Peduzzi, Mr. Joseph',\n",
       " 'Gustafsson, Mr. Alfred Ossian',\n",
       " 'Hakkarainen, Mrs. Pekka Pietari (Elin Matilda Dolck)',\n",
       " 'Allison, Master. Hudson Trevor',\n",
       " 'Trout, Mrs. William H (Jessie L)',\n",
       " 'Cairns, Mr. Alexander',\n",
       " 'Asim, Mr. Adola',\n",
       " 'Buss, Miss. Kate',\n",
       " 'Svensson, Mr. Johan',\n",
       " 'Fortune, Mr. Mark',\n",
       " 'Webber, Mr. James',\n",
       " 'Van Impe, Miss. Catharina',\n",
       " 'Coleridge, Mr. Reginald Charles',\n",
       " 'Yousseff, Mr. Gerious',\n",
       " 'Skoog, Miss. Margit Elizabeth',\n",
       " 'Hogeboom, Mrs. John C (Anna Andrews)',\n",
       " 'Skoog, Master. Harald',\n",
       " 'Panula, Mr. Jaako Arnold',\n",
       " 'Markoff, Mr. Marin',\n",
       " 'Carter, Mr. William Ernest',\n",
       " 'West, Mr. Edwy Arthur',\n",
       " 'Hansen, Mr. Henry Damsgaard',\n",
       " 'Frauenthal, Dr. Henry William',\n",
       " 'Heikkinen, Miss. Laina',\n",
       " 'Penasco y Castellana, Mr. Victor de Satode',\n",
       " 'Scanlan, Mr. James',\n",
       " 'Johansson, Mr. Erik',\n",
       " 'Fleming, Miss. Margaret',\n",
       " \"O'Brien, Mr. Timothy\",\n",
       " 'Jensen, Mr. Hans Peder',\n",
       " 'Williams, Mr. Howard Hugh \"Harry\"',\n",
       " 'del Carlo, Mr. Sebastiano',\n",
       " 'Endres, Miss. Caroline Louise',\n",
       " 'Svensson, Mr. Olof',\n",
       " 'Nysten, Miss. Anna Sofia',\n",
       " 'West, Mrs. Edwy Arthur (Ada Mary Worth)',\n",
       " 'Mallet, Mr. Albert',\n",
       " 'Elias, Mr. Tannous',\n",
       " 'Hampe, Mr. Leon',\n",
       " 'Carlsson, Mr. Frans Olof',\n",
       " 'Graham, Mr. George Edward',\n",
       " 'Turcin, Mr. Stjepan',\n",
       " 'Saundercock, Mr. William Henry',\n",
       " 'Troutt, Miss. Edwina Celia \"Winnie\"',\n",
       " 'Allen, Miss. Elisabeth Walton',\n",
       " 'Canavan, Miss. Mary',\n",
       " 'Goldenberg, Mr. Samuel L',\n",
       " 'Lester, Mr. James',\n",
       " 'Lievens, Mr. Rene Aime',\n",
       " 'Hart, Miss. Eva Miriam',\n",
       " 'Marechal, Mr. Pierre',\n",
       " 'Goldsmith, Mrs. Frank John (Emily Alice Brown)',\n",
       " 'Gilinski, Mr. Eliezer',\n",
       " 'Panula, Master. Eino Viljami',\n",
       " 'Levy, Mr. Rene Jacques',\n",
       " 'Harper, Mr. Henry Sleeper',\n",
       " 'Beckwith, Mr. Richard Leonard',\n",
       " 'Anderson, Mr. Harry',\n",
       " 'Stankovic, Mr. Ivan',\n",
       " 'Sundman, Mr. Johan Julian',\n",
       " 'Blank, Mr. Henry',\n",
       " 'Vande Walle, Mr. Nestor Cyriel',\n",
       " 'Kiernan, Mr. Philip',\n",
       " 'Henry, Miss. Delia',\n",
       " 'Beane, Mrs. Edward (Ethel Clarke)',\n",
       " 'Thayer, Mrs. John Borland (Marian Longstreth Morris)',\n",
       " 'Turpin, Mr. William John Robert',\n",
       " 'Abelson, Mr. Samuel',\n",
       " 'Spedden, Mrs. Frederic Oakley (Margaretta Corning Stone)',\n",
       " 'Stanley, Miss. Amy Zillah Elsie',\n",
       " 'McCoy, Mr. Bernard',\n",
       " 'Palsson, Miss. Stina Viola',\n",
       " 'Andersson, Miss. Ingeborg Constanzia',\n",
       " 'Rosblom, Mrs. Viktor (Helena Wilhelmina)',\n",
       " 'Hoyt, Mrs. Frederick Maxfield (Jane Anne Forby)',\n",
       " 'Jensen, Mr. Svend Lauritz',\n",
       " 'van Melkebeke, Mr. Philemon',\n",
       " 'Arnold-Franchi, Mrs. Josef (Josefine Franchi)',\n",
       " 'Johnston, Mr. Andrew G',\n",
       " 'Kantor, Mrs. Sinai (Miriam Sternin)',\n",
       " 'Andrews, Mr. Thomas Jr',\n",
       " 'Gilnagh, Miss. Katherine \"Katie\"',\n",
       " 'Wiseman, Mr. Phillippe',\n",
       " 'Brewe, Dr. Arthur Jackson',\n",
       " 'Leeni, Mr. Fahim (\"Philip Zenni\")',\n",
       " 'Davis, Miss. Mary',\n",
       " 'Mayne, Mlle. Berthe Antonine (\"Mrs de Villiers\")',\n",
       " 'Nicholls, Mr. Joseph Charles',\n",
       " 'McGovern, Miss. Mary',\n",
       " 'Carr, Miss. Helen \"Ellen\"',\n",
       " 'Oreskovic, Miss. Marija',\n",
       " 'Murdlin, Mr. Joseph',\n",
       " 'Chip, Mr. Chang',\n",
       " 'Tikkanen, Mr. Juho',\n",
       " 'Osen, Mr. Olaf Elon',\n",
       " 'Quick, Miss. Phyllis May',\n",
       " 'Silven, Miss. Lyyli Karoliina',\n",
       " 'Becker, Miss. Marion Louise',\n",
       " 'Guggenheim, Mr. Benjamin',\n",
       " 'Rugg, Miss. Emily',\n",
       " 'Andersson, Mrs. Anders Johan (Alfrida Konstantia Brogren)',\n",
       " 'Cardeza, Mr. Thomas Drake Martinez',\n",
       " 'Davies, Mr. Charles Henry',\n",
       " 'Karun, Miss. Manca',\n",
       " 'Kelly, Miss. Mary',\n",
       " 'Honkanen, Miss. Eliina',\n",
       " 'Andrew, Mr. Edgardo Samuel',\n",
       " 'Yasbeck, Mrs. Antoni (Selini Alexander)',\n",
       " 'Augustsson, Mr. Albert',\n",
       " 'Goncalves, Mr. Manuel Estanslas',\n",
       " 'Elias, Mr. Dibo',\n",
       " 'Petterson, Mr. Johan Emil',\n",
       " 'Carter, Mrs. William Ernest (Lucile Polk)',\n",
       " 'Keane, Mr. Andrew \"Andy\"',\n",
       " 'Harrison, Mr. William',\n",
       " 'Niskanen, Mr. Juha',\n",
       " 'Shutes, Miss. Elizabeth W',\n",
       " 'Thorne, Mrs. Gertrude Maybelle',\n",
       " 'Smith, Mr. Thomas',\n",
       " 'Milling, Mr. Jacob Christian',\n",
       " 'Chapman, Mr. John Henry',\n",
       " 'Webber, Miss. Susan',\n",
       " 'Rice, Mrs. William (Margaret Norton)',\n",
       " 'Beane, Mr. Edward',\n",
       " 'Hays, Mrs. Charles Melville (Clara Jennings Gregg)',\n",
       " 'Baumann, Mr. John D',\n",
       " 'Rice, Master. Arthur',\n",
       " 'Danbom, Mr. Ernst Gilbert',\n",
       " 'Moen, Mr. Sigurd Hansen',\n",
       " 'Goldsmith, Master. Frank John William \"Frankie\"',\n",
       " 'Brown, Mr. Thomas William Solomon',\n",
       " 'Nasser, Mrs. Nicholas (Adele Achem)',\n",
       " 'Cleaver, Miss. Alice',\n",
       " 'Newell, Miss. Marjorie',\n",
       " 'Paulner, Mr. Uscher',\n",
       " 'Cacic, Miss. Marija',\n",
       " 'Bourke, Mr. John',\n",
       " 'Harris, Mr. Walter',\n",
       " 'Horgan, Mr. John',\n",
       " 'McKane, Mr. Peter David',\n",
       " 'Crosby, Miss. Harriet R',\n",
       " 'Hickman, Mr. Lewis',\n",
       " 'Braund, Mr. Lewis Richard',\n",
       " 'Beavan, Mr. William Thomas',\n",
       " 'Kent, Mr. Edward Austin',\n",
       " 'Keane, Miss. Nora A',\n",
       " 'Tobin, Mr. Roger',\n",
       " 'Asplund, Mrs. Carl Oscar (Selma Augusta Emilia Johansson)',\n",
       " 'Colley, Mr. Edward Pomeroy',\n",
       " 'Petroff, Mr. Pastcho (\"Pentcho\")',\n",
       " 'Ryan, Mr. Patrick',\n",
       " 'Sawyer, Mr. Frederick Charles',\n",
       " 'Lang, Mr. Fang',\n",
       " 'Christy, Miss. Julie Rachel',\n",
       " 'Ekstrom, Mr. Johan',\n",
       " 'Moraweck, Dr. Ernest',\n",
       " 'Zimmerman, Mr. Leo',\n",
       " 'Sage, Mr. George John Jr',\n",
       " 'Lam, Mr. Ali',\n",
       " 'Coutts, Master. William Loch \"William\"',\n",
       " 'Morley, Mr. Henry Samuel (\"Mr Henry Marshall\")',\n",
       " 'Meyer, Mrs. Edgar Joseph (Leila Saks)',\n",
       " 'Harris, Mrs. Henry Birkhardt (Irene Wallach)',\n",
       " 'Dimic, Mr. Jovan',\n",
       " 'Crease, Mr. Ernest James',\n",
       " 'Carlsson, Mr. August Sigfrid',\n",
       " 'Dantcheff, Mr. Ristiu',\n",
       " 'Barber, Miss. Ellen \"Nellie\"',\n",
       " 'Wick, Mrs. George Dennick (Mary Hitchcock)',\n",
       " 'Artagaveytia, Mr. Ramon',\n",
       " 'Rood, Mr. Hugh Roscoe',\n",
       " 'Homer, Mr. Harry (\"Mr E Haven\")',\n",
       " 'Duane, Mr. Frank',\n",
       " 'Jussila, Miss. Mari Aina',\n",
       " 'Penasco y Castellana, Mrs. Victor de Satode (Maria Josefa Perez de Soto y Vallejo)',\n",
       " 'Taussig, Miss. Ruth',\n",
       " 'Vander Planke, Miss. Augusta Maria',\n",
       " 'Todoroff, Mr. Lalio',\n",
       " 'Olsen, Mr. Henry Margido',\n",
       " 'Mellinger, Mrs. (Elizabeth Anne Maidment)',\n",
       " 'Newell, Miss. Madeleine',\n",
       " 'Sadlier, Mr. Matthew',\n",
       " 'Vander Planke, Mrs. Julius (Emelia Maria Vandemoortele)',\n",
       " 'Klaber, Mr. Herman',\n",
       " 'Markun, Mr. Johann',\n",
       " 'Davies, Master. John Morgan Jr',\n",
       " 'Hawksford, Mr. Walter James',\n",
       " 'Weir, Col. John',\n",
       " 'Emanuel, Miss. Virginia Ethel',\n",
       " 'Nicola-Yarred, Miss. Jamila',\n",
       " 'Wiklund, Mr. Jakob Alfred',\n",
       " 'Moubarek, Master. Halim Gonios (\"William George\")',\n",
       " 'Berriman, Mr. William John',\n",
       " 'Potter, Mrs. Thomas Jr (Lily Alexenia Wilson)',\n",
       " 'Glynn, Miss. Mary Agatha',\n",
       " 'Lam, Mr. Len',\n",
       " 'Morrow, Mr. Thomas Rowan',\n",
       " 'Caram, Mrs. Joseph (Maria Elias)',\n",
       " 'Johnson, Mr. Alfred',\n",
       " 'Eustis, Miss. Elizabeth Mussey',\n",
       " 'Butt, Major. Archibald Willingham',\n",
       " 'Thorneycroft, Mrs. Percival (Florence Kate White)',\n",
       " 'Moore, Mr. Leonard Charles',\n",
       " 'Backstrom, Mrs. Karl Alfred (Maria Mathilda Gustafsson)',\n",
       " 'Shellard, Mr. Frederick William',\n",
       " 'Crosby, Capt. Edward Gifford',\n",
       " 'Moss, Mr. Albert Johan',\n",
       " 'Jermyn, Miss. Annie',\n",
       " 'Jardin, Mr. Jose Neto',\n",
       " 'Sharp, Mr. Percival James R',\n",
       " 'Givard, Mr. Hans Kristensen',\n",
       " 'Ayoub, Miss. Banoura',\n",
       " 'Holm, Mr. John Fredrik Alexander',\n",
       " 'Asplund, Miss. Lillian Gertrud',\n",
       " 'Johanson, Mr. Jakob Alfred',\n",
       " 'Kelly, Miss. Anna Katherine \"Annie Kate\"',\n",
       " 'Vanden Steen, Mr. Leo Peter',\n",
       " 'Strandberg, Miss. Ida Sofia',\n",
       " 'Kassem, Mr. Fared',\n",
       " 'Ward, Miss. Anna',\n",
       " 'Hendekovic, Mr. Ignjac',\n",
       " 'Brown, Miss. Amelia \"Mildred\"',\n",
       " 'Lehmann, Miss. Bertha',\n",
       " 'Elsbury, Mr. William James',\n",
       " 'Richards, Master. George Sibley',\n",
       " 'Baxter, Mrs. James (Helene DeLaudeniere Chaput)',\n",
       " 'Allison, Mrs. Hudson J C (Bessie Waldo Daniels)',\n",
       " 'Sunderland, Mr. Victor Francis',\n",
       " 'Drazenoic, Mr. Jozef',\n",
       " 'Ross, Mr. John Hugo',\n",
       " 'Landergren, Miss. Aurora Adelia',\n",
       " 'Lewy, Mr. Ervin G',\n",
       " 'Sinkkonen, Miss. Anna',\n",
       " 'Lurette, Miss. Elise',\n",
       " 'Duran y More, Miss. Asuncion',\n",
       " 'Andrews, Miss. Kornelia Theodosia',\n",
       " 'Lefebre, Miss. Jeannie',\n",
       " 'Turkula, Mrs. (Hedwig)',\n",
       " 'Fry, Mr. Richard',\n",
       " 'Coleff, Mr. Satio',\n",
       " 'Sutehall, Mr. Henry Jr',\n",
       " 'Rouse, Mr. Richard Henry',\n",
       " 'Cook, Mr. Jacob',\n",
       " 'Daly, Mr. Eugene Patrick',\n",
       " 'Goodwin, Mr. Charles Edward',\n",
       " 'Lefebre, Miss. Ida',\n",
       " 'Duff Gordon, Sir. Cosmo Edmund (\"Mr Morgan\")',\n",
       " 'Dooley, Mr. Patrick',\n",
       " 'Albimona, Mr. Nassef Cassem',\n",
       " 'Abbing, Mr. Anthony',\n",
       " 'Mannion, Miss. Margareth',\n",
       " 'Somerton, Mr. Francis William',\n",
       " 'Lobb, Mrs. William Arthur (Cordelia K Stanlick)',\n",
       " 'Hocking, Mrs. Elizabeth (Eliza Needs)',\n",
       " 'Shelley, Mrs. William (Imanita Parrish Hall)',\n",
       " 'Renouf, Mr. Peter Henry',\n",
       " 'Petranec, Miss. Matilda',\n",
       " 'Hegarty, Miss. Hanora \"Nora\"',\n",
       " 'Farthing, Mr. John',\n",
       " 'Chambers, Mrs. Norman Campbell (Bertha Griggs)',\n",
       " 'Moran, Mr. James',\n",
       " 'Nilsson, Miss. Helmina Josefina',\n",
       " 'Nenkoff, Mr. Christo',\n",
       " 'Goodwin, Master. William Frederick',\n",
       " 'Naidenoff, Mr. Penko',\n",
       " 'White, Mr. Percival Wayland',\n",
       " 'Chronopoulos, Mr. Apostolos',\n",
       " 'Bidois, Miss. Rosalie',\n",
       " 'Dick, Mrs. Albert Adrian (Vera Gillespie)',\n",
       " 'Calic, Mr. Petar',\n",
       " 'Bowerman, Miss. Elsie Edith',\n",
       " 'Foo, Mr. Choong',\n",
       " 'Lemberopolous, Mr. Peter L',\n",
       " 'Goldenberg, Mrs. Samuel L (Edwiga Grabowska)',\n",
       " 'Nye, Mrs. (Elizabeth Ramell)',\n",
       " 'Angle, Mrs. William A (Florence \"Mary\" Agnes Hughes)',\n",
       " 'Harder, Mr. George Achilles',\n",
       " 'Phillips, Miss. Kate Florence (\"Mrs Kate Louise Phillips Marshall\")',\n",
       " 'Parkes, Mr. Francis \"Frank\"',\n",
       " 'Wright, Mr. George',\n",
       " 'Brown, Mrs. Thomas William Solomon (Elizabeth Catherine Ford)',\n",
       " 'Reed, Mr. James George',\n",
       " 'Kallio, Mr. Nikolai Erland',\n",
       " 'Taussig, Mr. Emil',\n",
       " 'Hoyt, Mr. Frederick Maxfield',\n",
       " 'Navratil, Master. Michel M',\n",
       " 'Baclini, Miss. Eugenie',\n",
       " 'Peters, Miss. Katie',\n",
       " 'Quick, Mrs. Frederick Charles (Jane Richards)',\n",
       " 'Hakkarainen, Mr. Pekka Pietari',\n",
       " 'Sdycoff, Mr. Todor',\n",
       " 'Pasic, Mr. Jakob',\n",
       " 'Kimball, Mr. Edwin Nelson Jr',\n",
       " 'Ali, Mr. William',\n",
       " 'Harper, Rev. John',\n",
       " 'Minahan, Dr. William Edward',\n",
       " 'Johnston, Miss. Catherine Helen \"Carrie\"',\n",
       " 'Meo, Mr. Alfonzo',\n",
       " 'Vander Cruyssen, Mr. Victor',\n",
       " 'Cherry, Miss. Gladys',\n",
       " 'Birkeland, Mr. Hans Martin Monsen',\n",
       " 'Ivanoff, Mr. Kanio',\n",
       " 'McMahon, Mr. Martin',\n",
       " 'Saad, Mr. Khalil',\n",
       " 'Navratil, Master. Edmond Roger',\n",
       " 'McGowan, Miss. Anna \"Annie\"',\n",
       " 'Baxter, Mr. Quigg Edmond',\n",
       " 'Jacobsohn, Mr. Sidney Samuel',\n",
       " 'Johnson, Mr. William Cahoone Jr',\n",
       " 'Yousif, Mr. Wazli',\n",
       " 'Patchett, Mr. George',\n",
       " 'Spencer, Mrs. William Augustus (Marie Eugenie)',\n",
       " 'Dean, Master. Bertram Vere',\n",
       " 'Sage, Master. Thomas Henry',\n",
       " 'Drew, Mrs. James Vivian (Lulu Thorne Christian)',\n",
       " 'Salkjelsvik, Miss. Anna Kristine',\n",
       " 'Celotti, Mr. Francesco',\n",
       " 'Carbines, Mr. William',\n",
       " 'Bowen, Mr. David John \"Dai\"',\n",
       " 'Staneff, Mr. Ivan',\n",
       " 'Richard, Mr. Emile',\n",
       " 'Serepeca, Miss. Augusta',\n",
       " 'Dahlberg, Miss. Gerda Ulrika',\n",
       " 'Dennis, Mr. Samuel',\n",
       " 'Cribb, Mr. John Hatfield',\n",
       " 'Hickman, Mr. Stanley George',\n",
       " 'Karaic, Mr. Milan',\n",
       " 'Davidson, Mr. Thornton',\n",
       " 'West, Miss. Constance Mirium',\n",
       " 'van Billiard, Mr. Austin Blyler',\n",
       " 'Plotcharsky, Mr. Vasil',\n",
       " 'Hart, Mrs. Benjamin (Esther Ada Bloomfield)',\n",
       " 'Renouf, Mrs. Peter Henry (Lillian Jefferys)',\n",
       " 'Hickman, Mr. Leonard Mark',\n",
       " 'Connaghton, Mr. Michael',\n",
       " 'Greenfield, Mr. William Bertram',\n",
       " 'Davison, Mrs. Thomas Henry (Mary E Finck)',\n",
       " 'Reynaldo, Ms. Encarnacion',\n",
       " 'Stewart, Mr. Albert A',\n",
       " 'Uruchurtu, Don. Manuel E',\n",
       " 'Downton, Mr. William James',\n",
       " 'Daniel, Mr. Robert Williams',\n",
       " 'Stoytcheff, Mr. Ilia',\n",
       " 'Bourke, Mrs. John (Catherine)',\n",
       " 'Larsson, Mr. Bengt Edvin',\n",
       " 'Troupiansky, Mr. Moses Aaron',\n",
       " 'Bazzani, Miss. Albina',\n",
       " 'Icard, Miss. Amelie',\n",
       " 'Balkic, Mr. Cerin',\n",
       " 'Bishop, Mr. Dickinson H',\n",
       " 'O\\'Leary, Miss. Hanora \"Norah\"',\n",
       " 'Mangan, Miss. Mary',\n",
       " 'Theobald, Mr. Thomas Leonard',\n",
       " 'Smith, Mr. Richard William',\n",
       " 'Ibrahim Shawah, Mr. Yousseff',\n",
       " 'Tornquist, Mr. William Henry',\n",
       " 'Walker, Mr. William Anderson',\n",
       " 'Pears, Mr. Thomas Clinton',\n",
       " 'Simmons, Mr. John',\n",
       " \"O'Brien, Mr. Thomas\",\n",
       " 'Chambers, Mr. Norman Campbell',\n",
       " 'Herman, Mrs. Samuel (Jane Laver)',\n",
       " 'Kraeff, Mr. Theodor',\n",
       " 'Jalsevac, Mr. Ivan',\n",
       " 'Chaffee, Mr. Herbert Fuller',\n",
       " 'Pears, Mrs. Thomas (Edith Wearne)',\n",
       " 'Lobb, Mr. William Arthur',\n",
       " 'Sagesser, Mlle. Emma',\n",
       " 'Ahlin, Mrs. Johan (Johanna Persdotter Larsson)',\n",
       " 'Blackwell, Mr. Stephen Weart',\n",
       " 'Cumings, Mrs. John Bradley (Florence Briggs Thayer)',\n",
       " 'Young, Miss. Marie Grice',\n",
       " 'Harper, Miss. Annie Jessie \"Nina\"',\n",
       " 'Boulos, Mrs. Joseph (Sultana)',\n",
       " 'Smart, Mr. John Montgomery',\n",
       " 'Asplund, Master. Edvin Rojj Felix',\n",
       " 'Eitemiller, Mr. George Floyd',\n",
       " 'Gillespie, Mr. William Henry',\n",
       " 'Davies, Mr. Alfred J',\n",
       " 'Bourke, Miss. Mary',\n",
       " 'Parr, Mr. William Henry Marsh',\n",
       " \"O'Connor, Mr. Maurice\",\n",
       " 'Culumovic, Mr. Jeso',\n",
       " 'Boulos, Mr. Hanna',\n",
       " 'Frolicher-Stehli, Mr. Maxmillian',\n",
       " 'Taylor, Mrs. Elmer Zebley (Juliet Cummins Wright)',\n",
       " 'Minahan, Miss. Daisy E',\n",
       " 'Harrington, Mr. Charles H',\n",
       " 'Heininen, Miss. Wendla Maria',\n",
       " 'Hamalainen, Mrs. William (Anna)',\n",
       " 'Jacobsohn, Mrs. Sidney Samuel (Amy Frances Christy)',\n",
       " 'Aks, Mrs. Sam (Leah Rosen)',\n",
       " 'Attalah, Mr. Sleiman',\n",
       " 'Silverthorne, Mr. Spencer Victor',\n",
       " 'Silvey, Mr. William Baird',\n",
       " 'Allison, Miss. Helen Loraine',\n",
       " 'Bradley, Mr. George (\"George Arthur Brayton\")',\n",
       " 'Olsen, Mr. Karl Siegwart Andreas',\n",
       " 'Harris, Mr. Henry Birkhardt',\n",
       " 'Rogers, Mr. William John',\n",
       " 'Madigan, Miss. Margaret \"Maggie\"',\n",
       " 'Olsvigen, Mr. Thor Anderson',\n",
       " 'Jansson, Mr. Carl Olof',\n",
       " 'Natsch, Mr. Charles H',\n",
       " 'McEvoy, Mr. Michael',\n",
       " 'Mallet, Master. Andre',\n",
       " 'Morley, Mr. William',\n",
       " 'Lesurer, Mr. Gustave J',\n",
       " 'Laleff, Mr. Kristo',\n",
       " 'Murphy, Miss. Margaret Jane',\n",
       " 'Hassan, Mr. Houssein G N',\n",
       " 'Connors, Mr. Patrick',\n",
       " 'Sutton, Mr. Frederick',\n",
       " 'McCarthy, Mr. Timothy J',\n",
       " 'Peter, Miss. Anna',\n",
       " 'Stanley, Mr. Edward Roland',\n",
       " 'Swift, Mrs. Frederick Joel (Margaret Welles Barron)',\n",
       " 'Kantor, Mr. Sinai',\n",
       " 'Gallagher, Mr. Martin']"
      ]
     },
     "execution_count": 15,
     "metadata": {},
     "output_type": "execute_result"
    }
   ],
   "source": [
    "list(set(titan.Name))"
   ]
  },
  {
   "cell_type": "code",
   "execution_count": 16,
   "metadata": {},
   "outputs": [
    {
     "data": {
      "text/plain": [
       "891"
      ]
     },
     "execution_count": 16,
     "metadata": {},
     "output_type": "execute_result"
    }
   ],
   "source": [
    "titan.Name.nunique()"
   ]
  },
  {
   "cell_type": "code",
   "execution_count": 17,
   "metadata": {},
   "outputs": [
    {
     "data": {
      "text/plain": [
       "['male', 'female']"
      ]
     },
     "execution_count": 17,
     "metadata": {},
     "output_type": "execute_result"
    }
   ],
   "source": [
    "list(set(titan.Sex))"
   ]
  },
  {
   "cell_type": "code",
   "execution_count": 18,
   "metadata": {},
   "outputs": [
    {
     "data": {
      "text/plain": [
       "681"
      ]
     },
     "execution_count": 18,
     "metadata": {},
     "output_type": "execute_result"
    }
   ],
   "source": [
    "titan.Ticket.nunique()"
   ]
  },
  {
   "cell_type": "code",
   "execution_count": 19,
   "metadata": {},
   "outputs": [
    {
     "data": {
      "text/plain": [
       "[nan,\n",
       " 'E44',\n",
       " 'A32',\n",
       " 'C148',\n",
       " 'C62 C64',\n",
       " 'E17',\n",
       " 'B50',\n",
       " 'C128',\n",
       " 'D28',\n",
       " 'A20',\n",
       " 'C124',\n",
       " 'A34',\n",
       " 'C92',\n",
       " 'C7',\n",
       " 'B73',\n",
       " 'C106',\n",
       " 'D6',\n",
       " 'E67',\n",
       " 'F E69',\n",
       " 'C47',\n",
       " 'F2',\n",
       " 'C32',\n",
       " 'C86',\n",
       " 'D26',\n",
       " 'D19',\n",
       " 'B69',\n",
       " 'E12',\n",
       " 'D17',\n",
       " 'E49',\n",
       " 'D47',\n",
       " 'C82',\n",
       " 'C87',\n",
       " 'C23 C25 C27',\n",
       " 'B38',\n",
       " 'C118',\n",
       " 'C126',\n",
       " 'C46',\n",
       " 'E121',\n",
       " 'D11',\n",
       " 'E38',\n",
       " 'B4',\n",
       " 'D20',\n",
       " 'A14',\n",
       " 'B49',\n",
       " 'B79',\n",
       " 'C65',\n",
       " 'A19',\n",
       " 'B5',\n",
       " 'F G63',\n",
       " 'B42',\n",
       " 'B28',\n",
       " 'D37',\n",
       " 'B30',\n",
       " 'E31',\n",
       " 'D50',\n",
       " 'D36',\n",
       " 'A23',\n",
       " 'C90',\n",
       " 'E63',\n",
       " 'E50',\n",
       " 'C45',\n",
       " 'B18',\n",
       " 'E8',\n",
       " 'C68',\n",
       " 'B19',\n",
       " 'E33',\n",
       " 'E46',\n",
       " 'E101',\n",
       " 'D',\n",
       " 'C70',\n",
       " 'B41',\n",
       " 'C85',\n",
       " 'G6',\n",
       " 'E24',\n",
       " 'A36',\n",
       " 'E34',\n",
       " 'C125',\n",
       " 'A5',\n",
       " 'C78',\n",
       " 'C83',\n",
       " 'F G73',\n",
       " 'B3',\n",
       " 'D33',\n",
       " 'B102',\n",
       " 'D15',\n",
       " 'C49',\n",
       " 'B77',\n",
       " 'T',\n",
       " 'C30',\n",
       " 'B96 B98',\n",
       " 'D30',\n",
       " 'B80',\n",
       " 'D56',\n",
       " 'A6',\n",
       " 'D7',\n",
       " 'B78',\n",
       " 'C2',\n",
       " 'A26',\n",
       " 'E36',\n",
       " 'F4',\n",
       " 'A10',\n",
       " 'B35',\n",
       " 'C99',\n",
       " 'A31',\n",
       " 'D45',\n",
       " 'C110',\n",
       " 'D49',\n",
       " 'B22',\n",
       " 'B58 B60',\n",
       " 'D9',\n",
       " 'E25',\n",
       " 'F33',\n",
       " 'B39',\n",
       " 'D10 D12',\n",
       " 'B86',\n",
       " 'E68',\n",
       " 'C91',\n",
       " 'C104',\n",
       " 'C54',\n",
       " 'B101',\n",
       " 'B37',\n",
       " 'C93',\n",
       " 'E10',\n",
       " 'D35',\n",
       " 'B20',\n",
       " 'C103',\n",
       " 'F38',\n",
       " 'A24',\n",
       " 'B94',\n",
       " 'C95',\n",
       " 'C50',\n",
       " 'B51 B53 B55',\n",
       " 'E77',\n",
       " 'E40',\n",
       " 'D46',\n",
       " 'A7',\n",
       " 'C101',\n",
       " 'C22 C26',\n",
       " 'C52',\n",
       " 'B57 B59 B63 B66',\n",
       " 'E58',\n",
       " 'C123',\n",
       " 'A16',\n",
       " 'C111',\n",
       " 'D48',\n",
       " 'B71',\n",
       " 'D21',\n",
       " 'B82 B84']"
      ]
     },
     "execution_count": 19,
     "metadata": {},
     "output_type": "execute_result"
    }
   ],
   "source": [
    "list(set(titan.Cabin))"
   ]
  },
  {
   "cell_type": "code",
   "execution_count": 20,
   "metadata": {},
   "outputs": [
    {
     "data": {
      "text/plain": [
       "147"
      ]
     },
     "execution_count": 20,
     "metadata": {},
     "output_type": "execute_result"
    }
   ],
   "source": [
    "titan.Cabin.nunique()"
   ]
  },
  {
   "cell_type": "code",
   "execution_count": 21,
   "metadata": {},
   "outputs": [
    {
     "data": {
      "text/plain": [
       "3"
      ]
     },
     "execution_count": 21,
     "metadata": {},
     "output_type": "execute_result"
    }
   ],
   "source": [
    "titan.Embarked.nunique()"
   ]
  },
  {
   "cell_type": "code",
   "execution_count": 22,
   "metadata": {},
   "outputs": [
    {
     "data": {
      "text/plain": [
       "array(['S', 'C', 'Q', nan], dtype=object)"
      ]
     },
     "execution_count": 22,
     "metadata": {},
     "output_type": "execute_result"
    }
   ],
   "source": [
    "titan.Embarked.unique()"
   ]
  },
  {
   "cell_type": "code",
   "execution_count": 23,
   "metadata": {},
   "outputs": [
    {
     "data": {
      "text/plain": [
       "['C', nan, 'S', 'Q']"
      ]
     },
     "execution_count": 23,
     "metadata": {},
     "output_type": "execute_result"
    }
   ],
   "source": [
    "list(set(titan.Embarked))"
   ]
  },
  {
   "cell_type": "code",
   "execution_count": 24,
   "metadata": {},
   "outputs": [
    {
     "data": {
      "text/plain": [
       "S    644\n",
       "C    168\n",
       "Q     77\n",
       "Name: Embarked, dtype: int64"
      ]
     },
     "execution_count": 24,
     "metadata": {},
     "output_type": "execute_result"
    }
   ],
   "source": [
    "titan.Embarked.value_counts()"
   ]
  },
  {
   "cell_type": "code",
   "execution_count": 25,
   "metadata": {},
   "outputs": [
    {
     "data": {
      "text/plain": [
       "male      577\n",
       "female    314\n",
       "Name: Sex, dtype: int64"
      ]
     },
     "execution_count": 25,
     "metadata": {},
     "output_type": "execute_result"
    }
   ],
   "source": [
    "titan.Sex.value_counts()"
   ]
  },
  {
   "cell_type": "code",
   "execution_count": 26,
   "metadata": {},
   "outputs": [
    {
     "data": {
      "text/plain": [
       "C23 C25 C27    4\n",
       "G6             4\n",
       "B96 B98        4\n",
       "E101           3\n",
       "F33            3\n",
       "              ..\n",
       "C118           1\n",
       "C46            1\n",
       "D9             1\n",
       "E40            1\n",
       "B38            1\n",
       "Name: Cabin, Length: 147, dtype: int64"
      ]
     },
     "execution_count": 26,
     "metadata": {},
     "output_type": "execute_result"
    }
   ],
   "source": [
    "titan.Cabin.value_counts()"
   ]
  },
  {
   "cell_type": "code",
   "execution_count": 27,
   "metadata": {},
   "outputs": [
    {
     "data": {
      "text/plain": [
       "347082      7\n",
       "1601        7\n",
       "CA. 2343    7\n",
       "CA 2144     6\n",
       "3101295     6\n",
       "           ..\n",
       "2677        1\n",
       "3411        1\n",
       "36864       1\n",
       "36963       1\n",
       "364498      1\n",
       "Name: Ticket, Length: 681, dtype: int64"
      ]
     },
     "execution_count": 27,
     "metadata": {},
     "output_type": "execute_result"
    }
   ],
   "source": [
    "titan.Ticket.value_counts()"
   ]
  },
  {
   "cell_type": "code",
   "execution_count": 28,
   "metadata": {},
   "outputs": [
    {
     "data": {
      "text/plain": [
       "0        1601\n",
       "1      347082\n",
       "2    CA. 2343\n",
       "dtype: object"
      ]
     },
     "execution_count": 28,
     "metadata": {},
     "output_type": "execute_result"
    }
   ],
   "source": [
    "titan.Ticket.mode()"
   ]
  },
  {
   "cell_type": "code",
   "execution_count": 29,
   "metadata": {},
   "outputs": [
    {
     "data": {
      "text/plain": [
       "0        B96 B98\n",
       "1    C23 C25 C27\n",
       "2             G6\n",
       "dtype: object"
      ]
     },
     "execution_count": 29,
     "metadata": {},
     "output_type": "execute_result"
    }
   ],
   "source": [
    "titan.Cabin.mode()"
   ]
  },
  {
   "cell_type": "code",
   "execution_count": 30,
   "metadata": {},
   "outputs": [
    {
     "data": {
      "text/plain": [
       "0    S\n",
       "dtype: object"
      ]
     },
     "execution_count": 30,
     "metadata": {},
     "output_type": "execute_result"
    }
   ],
   "source": [
    "titan.Embarked.mode()"
   ]
  },
  {
   "cell_type": "code",
   "execution_count": 31,
   "metadata": {},
   "outputs": [
    {
     "data": {
      "text/plain": [
       "3    491\n",
       "1    216\n",
       "2    184\n",
       "Name: Pclass, dtype: int64"
      ]
     },
     "execution_count": 31,
     "metadata": {},
     "output_type": "execute_result"
    }
   ],
   "source": [
    "titan.Pclass.value_counts()\n"
   ]
  },
  {
   "cell_type": "code",
   "execution_count": 32,
   "metadata": {},
   "outputs": [
    {
     "data": {
      "text/plain": [
       "male      577\n",
       "female    314\n",
       "Name: Sex, dtype: int64"
      ]
     },
     "execution_count": 32,
     "metadata": {},
     "output_type": "execute_result"
    }
   ],
   "source": [
    "titan.Sex.value_counts()"
   ]
  },
  {
   "cell_type": "code",
   "execution_count": 33,
   "metadata": {},
   "outputs": [
    {
     "data": {
      "text/plain": [
       "891"
      ]
     },
     "execution_count": 33,
     "metadata": {},
     "output_type": "execute_result"
    }
   ],
   "source": [
    "titan.Sex.count()"
   ]
  },
  {
   "cell_type": "code",
   "execution_count": 34,
   "metadata": {},
   "outputs": [
    {
     "data": {
      "text/plain": [
       "889"
      ]
     },
     "execution_count": 34,
     "metadata": {},
     "output_type": "execute_result"
    }
   ],
   "source": [
    "titan.Embarked.count()"
   ]
  },
  {
   "cell_type": "code",
   "execution_count": 35,
   "metadata": {},
   "outputs": [
    {
     "data": {
      "text/plain": [
       "S    644\n",
       "C    168\n",
       "Q     77\n",
       "Name: Embarked, dtype: int64"
      ]
     },
     "execution_count": 35,
     "metadata": {},
     "output_type": "execute_result"
    }
   ],
   "source": [
    "titan.Embarked.value_counts()"
   ]
  },
  {
   "cell_type": "code",
   "execution_count": 36,
   "metadata": {},
   "outputs": [
    {
     "data": {
      "text/plain": [
       "891"
      ]
     },
     "execution_count": 36,
     "metadata": {},
     "output_type": "execute_result"
    }
   ],
   "source": [
    "titan.Survived.count()"
   ]
  },
  {
   "cell_type": "code",
   "execution_count": 37,
   "metadata": {},
   "outputs": [
    {
     "data": {
      "text/plain": [
       "0    549\n",
       "1    342\n",
       "Name: Survived, dtype: int64"
      ]
     },
     "execution_count": 37,
     "metadata": {},
     "output_type": "execute_result"
    }
   ],
   "source": [
    "titan.Survived.value_counts()"
   ]
  },
  {
   "cell_type": "code",
   "execution_count": 38,
   "metadata": {},
   "outputs": [
    {
     "data": {
      "text/html": [
       "<div>\n",
       "<style scoped>\n",
       "    .dataframe tbody tr th:only-of-type {\n",
       "        vertical-align: middle;\n",
       "    }\n",
       "\n",
       "    .dataframe tbody tr th {\n",
       "        vertical-align: top;\n",
       "    }\n",
       "\n",
       "    .dataframe thead th {\n",
       "        text-align: right;\n",
       "    }\n",
       "</style>\n",
       "<table border=\"1\" class=\"dataframe\">\n",
       "  <thead>\n",
       "    <tr style=\"text-align: right;\">\n",
       "      <th></th>\n",
       "      <th>PassengerId</th>\n",
       "      <th>Survived</th>\n",
       "      <th>Pclass</th>\n",
       "      <th>Name</th>\n",
       "      <th>Sex</th>\n",
       "      <th>Age</th>\n",
       "      <th>SibSp</th>\n",
       "      <th>Parch</th>\n",
       "      <th>Ticket</th>\n",
       "      <th>Fare</th>\n",
       "      <th>Cabin</th>\n",
       "      <th>Embarked</th>\n",
       "    </tr>\n",
       "  </thead>\n",
       "  <tbody>\n",
       "    <tr>\n",
       "      <th>0</th>\n",
       "      <td>1</td>\n",
       "      <td>0</td>\n",
       "      <td>3</td>\n",
       "      <td>Braund, Mr. Owen Harris</td>\n",
       "      <td>male</td>\n",
       "      <td>22.0</td>\n",
       "      <td>1</td>\n",
       "      <td>0</td>\n",
       "      <td>A/5 21171</td>\n",
       "      <td>7.2500</td>\n",
       "      <td>NaN</td>\n",
       "      <td>S</td>\n",
       "    </tr>\n",
       "    <tr>\n",
       "      <th>1</th>\n",
       "      <td>2</td>\n",
       "      <td>1</td>\n",
       "      <td>1</td>\n",
       "      <td>Cumings, Mrs. John Bradley (Florence Briggs Th...</td>\n",
       "      <td>female</td>\n",
       "      <td>38.0</td>\n",
       "      <td>1</td>\n",
       "      <td>0</td>\n",
       "      <td>PC 17599</td>\n",
       "      <td>71.2833</td>\n",
       "      <td>C85</td>\n",
       "      <td>C</td>\n",
       "    </tr>\n",
       "    <tr>\n",
       "      <th>2</th>\n",
       "      <td>3</td>\n",
       "      <td>1</td>\n",
       "      <td>3</td>\n",
       "      <td>Heikkinen, Miss. Laina</td>\n",
       "      <td>female</td>\n",
       "      <td>26.0</td>\n",
       "      <td>0</td>\n",
       "      <td>0</td>\n",
       "      <td>STON/O2. 3101282</td>\n",
       "      <td>7.9250</td>\n",
       "      <td>NaN</td>\n",
       "      <td>S</td>\n",
       "    </tr>\n",
       "    <tr>\n",
       "      <th>3</th>\n",
       "      <td>4</td>\n",
       "      <td>1</td>\n",
       "      <td>1</td>\n",
       "      <td>Futrelle, Mrs. Jacques Heath (Lily May Peel)</td>\n",
       "      <td>female</td>\n",
       "      <td>35.0</td>\n",
       "      <td>1</td>\n",
       "      <td>0</td>\n",
       "      <td>113803</td>\n",
       "      <td>53.1000</td>\n",
       "      <td>C123</td>\n",
       "      <td>S</td>\n",
       "    </tr>\n",
       "    <tr>\n",
       "      <th>4</th>\n",
       "      <td>5</td>\n",
       "      <td>0</td>\n",
       "      <td>3</td>\n",
       "      <td>Allen, Mr. William Henry</td>\n",
       "      <td>male</td>\n",
       "      <td>35.0</td>\n",
       "      <td>0</td>\n",
       "      <td>0</td>\n",
       "      <td>373450</td>\n",
       "      <td>8.0500</td>\n",
       "      <td>NaN</td>\n",
       "      <td>S</td>\n",
       "    </tr>\n",
       "    <tr>\n",
       "      <th>5</th>\n",
       "      <td>6</td>\n",
       "      <td>0</td>\n",
       "      <td>3</td>\n",
       "      <td>Moran, Mr. James</td>\n",
       "      <td>male</td>\n",
       "      <td>NaN</td>\n",
       "      <td>0</td>\n",
       "      <td>0</td>\n",
       "      <td>330877</td>\n",
       "      <td>8.4583</td>\n",
       "      <td>NaN</td>\n",
       "      <td>Q</td>\n",
       "    </tr>\n",
       "    <tr>\n",
       "      <th>6</th>\n",
       "      <td>7</td>\n",
       "      <td>0</td>\n",
       "      <td>1</td>\n",
       "      <td>McCarthy, Mr. Timothy J</td>\n",
       "      <td>male</td>\n",
       "      <td>54.0</td>\n",
       "      <td>0</td>\n",
       "      <td>0</td>\n",
       "      <td>17463</td>\n",
       "      <td>51.8625</td>\n",
       "      <td>E46</td>\n",
       "      <td>S</td>\n",
       "    </tr>\n",
       "    <tr>\n",
       "      <th>7</th>\n",
       "      <td>8</td>\n",
       "      <td>0</td>\n",
       "      <td>3</td>\n",
       "      <td>Palsson, Master. Gosta Leonard</td>\n",
       "      <td>male</td>\n",
       "      <td>2.0</td>\n",
       "      <td>3</td>\n",
       "      <td>1</td>\n",
       "      <td>349909</td>\n",
       "      <td>21.0750</td>\n",
       "      <td>NaN</td>\n",
       "      <td>S</td>\n",
       "    </tr>\n",
       "    <tr>\n",
       "      <th>8</th>\n",
       "      <td>9</td>\n",
       "      <td>1</td>\n",
       "      <td>3</td>\n",
       "      <td>Johnson, Mrs. Oscar W (Elisabeth Vilhelmina Berg)</td>\n",
       "      <td>female</td>\n",
       "      <td>27.0</td>\n",
       "      <td>0</td>\n",
       "      <td>2</td>\n",
       "      <td>347742</td>\n",
       "      <td>11.1333</td>\n",
       "      <td>NaN</td>\n",
       "      <td>S</td>\n",
       "    </tr>\n",
       "    <tr>\n",
       "      <th>9</th>\n",
       "      <td>10</td>\n",
       "      <td>1</td>\n",
       "      <td>2</td>\n",
       "      <td>Nasser, Mrs. Nicholas (Adele Achem)</td>\n",
       "      <td>female</td>\n",
       "      <td>14.0</td>\n",
       "      <td>1</td>\n",
       "      <td>0</td>\n",
       "      <td>237736</td>\n",
       "      <td>30.0708</td>\n",
       "      <td>NaN</td>\n",
       "      <td>C</td>\n",
       "    </tr>\n",
       "  </tbody>\n",
       "</table>\n",
       "</div>"
      ],
      "text/plain": [
       "   PassengerId  Survived  Pclass  \\\n",
       "0            1         0       3   \n",
       "1            2         1       1   \n",
       "2            3         1       3   \n",
       "3            4         1       1   \n",
       "4            5         0       3   \n",
       "5            6         0       3   \n",
       "6            7         0       1   \n",
       "7            8         0       3   \n",
       "8            9         1       3   \n",
       "9           10         1       2   \n",
       "\n",
       "                                                Name     Sex   Age  SibSp  \\\n",
       "0                            Braund, Mr. Owen Harris    male  22.0      1   \n",
       "1  Cumings, Mrs. John Bradley (Florence Briggs Th...  female  38.0      1   \n",
       "2                             Heikkinen, Miss. Laina  female  26.0      0   \n",
       "3       Futrelle, Mrs. Jacques Heath (Lily May Peel)  female  35.0      1   \n",
       "4                           Allen, Mr. William Henry    male  35.0      0   \n",
       "5                                   Moran, Mr. James    male   NaN      0   \n",
       "6                            McCarthy, Mr. Timothy J    male  54.0      0   \n",
       "7                     Palsson, Master. Gosta Leonard    male   2.0      3   \n",
       "8  Johnson, Mrs. Oscar W (Elisabeth Vilhelmina Berg)  female  27.0      0   \n",
       "9                Nasser, Mrs. Nicholas (Adele Achem)  female  14.0      1   \n",
       "\n",
       "   Parch            Ticket     Fare Cabin Embarked  \n",
       "0      0         A/5 21171   7.2500   NaN        S  \n",
       "1      0          PC 17599  71.2833   C85        C  \n",
       "2      0  STON/O2. 3101282   7.9250   NaN        S  \n",
       "3      0            113803  53.1000  C123        S  \n",
       "4      0            373450   8.0500   NaN        S  \n",
       "5      0            330877   8.4583   NaN        Q  \n",
       "6      0             17463  51.8625   E46        S  \n",
       "7      1            349909  21.0750   NaN        S  \n",
       "8      2            347742  11.1333   NaN        S  \n",
       "9      0            237736  30.0708   NaN        C  "
      ]
     },
     "execution_count": 38,
     "metadata": {},
     "output_type": "execute_result"
    }
   ],
   "source": [
    "titan.head(10)"
   ]
  },
  {
   "cell_type": "code",
   "execution_count": 39,
   "metadata": {},
   "outputs": [],
   "source": [
    "titan1=titan[titan.Pclass==1]\n",
    "titan2=titan[titan.Pclass==2]\n",
    "titan3=titan[titan.Pclass==3]\n"
   ]
  },
  {
   "cell_type": "code",
   "execution_count": 40,
   "metadata": {},
   "outputs": [
    {
     "name": "stdout",
     "output_type": "stream",
     "text": [
      "     PassengerId  Survived  Pclass  \\\n",
      "1              2         1       1   \n",
      "3              4         1       1   \n",
      "6              7         0       1   \n",
      "11            12         1       1   \n",
      "23            24         1       1   \n",
      "..           ...       ...     ...   \n",
      "871          872         1       1   \n",
      "872          873         0       1   \n",
      "879          880         1       1   \n",
      "887          888         1       1   \n",
      "889          890         1       1   \n",
      "\n",
      "                                                  Name     Sex   Age  SibSp  \\\n",
      "1    Cumings, Mrs. John Bradley (Florence Briggs Th...  female  38.0      1   \n",
      "3         Futrelle, Mrs. Jacques Heath (Lily May Peel)  female  35.0      1   \n",
      "6                              McCarthy, Mr. Timothy J    male  54.0      0   \n",
      "11                            Bonnell, Miss. Elizabeth  female  58.0      0   \n",
      "23                        Sloper, Mr. William Thompson    male  28.0      0   \n",
      "..                                                 ...     ...   ...    ...   \n",
      "871   Beckwith, Mrs. Richard Leonard (Sallie Monypeny)  female  47.0      1   \n",
      "872                           Carlsson, Mr. Frans Olof    male  33.0      0   \n",
      "879      Potter, Mrs. Thomas Jr (Lily Alexenia Wilson)  female  56.0      0   \n",
      "887                       Graham, Miss. Margaret Edith  female  19.0      0   \n",
      "889                              Behr, Mr. Karl Howell    male  26.0      0   \n",
      "\n",
      "     Parch    Ticket     Fare        Cabin Embarked  \n",
      "1        0  PC 17599  71.2833          C85        C  \n",
      "3        0    113803  53.1000         C123        S  \n",
      "6        0     17463  51.8625          E46        S  \n",
      "11       0    113783  26.5500         C103        S  \n",
      "23       0    113788  35.5000           A6        S  \n",
      "..     ...       ...      ...          ...      ...  \n",
      "871      1     11751  52.5542          D35        S  \n",
      "872      0       695   5.0000  B51 B53 B55        S  \n",
      "879      1     11767  83.1583          C50        C  \n",
      "887      0    112053  30.0000          B42        S  \n",
      "889      0    111369  30.0000         C148        C  \n",
      "\n",
      "[216 rows x 12 columns]\n"
     ]
    }
   ],
   "source": [
    "print(titan1)"
   ]
  },
  {
   "cell_type": "code",
   "execution_count": 41,
   "metadata": {},
   "outputs": [
    {
     "data": {
      "text/html": [
       "<div>\n",
       "<style scoped>\n",
       "    .dataframe tbody tr th:only-of-type {\n",
       "        vertical-align: middle;\n",
       "    }\n",
       "\n",
       "    .dataframe tbody tr th {\n",
       "        vertical-align: top;\n",
       "    }\n",
       "\n",
       "    .dataframe thead th {\n",
       "        text-align: right;\n",
       "    }\n",
       "</style>\n",
       "<table border=\"1\" class=\"dataframe\">\n",
       "  <thead>\n",
       "    <tr style=\"text-align: right;\">\n",
       "      <th></th>\n",
       "      <th>PassengerId</th>\n",
       "      <th>Survived</th>\n",
       "      <th>Pclass</th>\n",
       "      <th>Age</th>\n",
       "      <th>SibSp</th>\n",
       "      <th>Parch</th>\n",
       "      <th>Fare</th>\n",
       "    </tr>\n",
       "  </thead>\n",
       "  <tbody>\n",
       "    <tr>\n",
       "      <th>PassengerId</th>\n",
       "      <td>1.000000</td>\n",
       "      <td>0.159824</td>\n",
       "      <td>NaN</td>\n",
       "      <td>-0.003969</td>\n",
       "      <td>-0.055167</td>\n",
       "      <td>-0.026157</td>\n",
       "      <td>-0.026348</td>\n",
       "    </tr>\n",
       "    <tr>\n",
       "      <th>Survived</th>\n",
       "      <td>0.159824</td>\n",
       "      <td>1.000000</td>\n",
       "      <td>NaN</td>\n",
       "      <td>-0.267964</td>\n",
       "      <td>0.162276</td>\n",
       "      <td>0.062565</td>\n",
       "      <td>0.190966</td>\n",
       "    </tr>\n",
       "    <tr>\n",
       "      <th>Pclass</th>\n",
       "      <td>NaN</td>\n",
       "      <td>NaN</td>\n",
       "      <td>NaN</td>\n",
       "      <td>NaN</td>\n",
       "      <td>NaN</td>\n",
       "      <td>NaN</td>\n",
       "      <td>NaN</td>\n",
       "    </tr>\n",
       "    <tr>\n",
       "      <th>Age</th>\n",
       "      <td>-0.003969</td>\n",
       "      <td>-0.267964</td>\n",
       "      <td>NaN</td>\n",
       "      <td>1.000000</td>\n",
       "      <td>-0.121015</td>\n",
       "      <td>-0.243613</td>\n",
       "      <td>-0.218611</td>\n",
       "    </tr>\n",
       "    <tr>\n",
       "      <th>SibSp</th>\n",
       "      <td>-0.055167</td>\n",
       "      <td>0.162276</td>\n",
       "      <td>NaN</td>\n",
       "      <td>-0.121015</td>\n",
       "      <td>1.000000</td>\n",
       "      <td>0.261954</td>\n",
       "      <td>0.259492</td>\n",
       "    </tr>\n",
       "    <tr>\n",
       "      <th>Parch</th>\n",
       "      <td>-0.026157</td>\n",
       "      <td>0.062565</td>\n",
       "      <td>NaN</td>\n",
       "      <td>-0.243613</td>\n",
       "      <td>0.261954</td>\n",
       "      <td>1.000000</td>\n",
       "      <td>0.380963</td>\n",
       "    </tr>\n",
       "    <tr>\n",
       "      <th>Fare</th>\n",
       "      <td>-0.026348</td>\n",
       "      <td>0.190966</td>\n",
       "      <td>NaN</td>\n",
       "      <td>-0.218611</td>\n",
       "      <td>0.259492</td>\n",
       "      <td>0.380963</td>\n",
       "      <td>1.000000</td>\n",
       "    </tr>\n",
       "  </tbody>\n",
       "</table>\n",
       "</div>"
      ],
      "text/plain": [
       "             PassengerId  Survived  Pclass       Age     SibSp     Parch  \\\n",
       "PassengerId     1.000000  0.159824     NaN -0.003969 -0.055167 -0.026157   \n",
       "Survived        0.159824  1.000000     NaN -0.267964  0.162276  0.062565   \n",
       "Pclass               NaN       NaN     NaN       NaN       NaN       NaN   \n",
       "Age            -0.003969 -0.267964     NaN  1.000000 -0.121015 -0.243613   \n",
       "SibSp          -0.055167  0.162276     NaN -0.121015  1.000000  0.261954   \n",
       "Parch          -0.026157  0.062565     NaN -0.243613  0.261954  1.000000   \n",
       "Fare           -0.026348  0.190966     NaN -0.218611  0.259492  0.380963   \n",
       "\n",
       "                 Fare  \n",
       "PassengerId -0.026348  \n",
       "Survived     0.190966  \n",
       "Pclass            NaN  \n",
       "Age         -0.218611  \n",
       "SibSp        0.259492  \n",
       "Parch        0.380963  \n",
       "Fare         1.000000  "
      ]
     },
     "execution_count": 41,
     "metadata": {},
     "output_type": "execute_result"
    }
   ],
   "source": [
    "titan1.corr(method='pearson')"
   ]
  },
  {
   "cell_type": "code",
   "execution_count": 42,
   "metadata": {},
   "outputs": [
    {
     "name": "stdout",
     "output_type": "stream",
     "text": [
      "     PassengerId  Survived  Pclass  \\\n",
      "1              2         1       1   \n",
      "3              4         1       1   \n",
      "6              7         0       1   \n",
      "11            12         1       1   \n",
      "23            24         1       1   \n",
      "..           ...       ...     ...   \n",
      "871          872         1       1   \n",
      "872          873         0       1   \n",
      "879          880         1       1   \n",
      "887          888         1       1   \n",
      "889          890         1       1   \n",
      "\n",
      "                                                  Name     Sex   Age  SibSp  \\\n",
      "1    Cumings, Mrs. John Bradley (Florence Briggs Th...  female  38.0      1   \n",
      "3         Futrelle, Mrs. Jacques Heath (Lily May Peel)  female  35.0      1   \n",
      "6                              McCarthy, Mr. Timothy J    male  54.0      0   \n",
      "11                            Bonnell, Miss. Elizabeth  female  58.0      0   \n",
      "23                        Sloper, Mr. William Thompson    male  28.0      0   \n",
      "..                                                 ...     ...   ...    ...   \n",
      "871   Beckwith, Mrs. Richard Leonard (Sallie Monypeny)  female  47.0      1   \n",
      "872                           Carlsson, Mr. Frans Olof    male  33.0      0   \n",
      "879      Potter, Mrs. Thomas Jr (Lily Alexenia Wilson)  female  56.0      0   \n",
      "887                       Graham, Miss. Margaret Edith  female  19.0      0   \n",
      "889                              Behr, Mr. Karl Howell    male  26.0      0   \n",
      "\n",
      "     Parch    Ticket     Fare        Cabin Embarked  \n",
      "1        0  PC 17599  71.2833          C85        C  \n",
      "3        0    113803  53.1000         C123        S  \n",
      "6        0     17463  51.8625          E46        S  \n",
      "11       0    113783  26.5500         C103        S  \n",
      "23       0    113788  35.5000           A6        S  \n",
      "..     ...       ...      ...          ...      ...  \n",
      "871      1     11751  52.5542          D35        S  \n",
      "872      0       695   5.0000  B51 B53 B55        S  \n",
      "879      1     11767  83.1583          C50        C  \n",
      "887      0    112053  30.0000          B42        S  \n",
      "889      0    111369  30.0000         C148        C  \n",
      "\n",
      "[216 rows x 12 columns]\n"
     ]
    }
   ],
   "source": [
    "print(titan1)"
   ]
  },
  {
   "cell_type": "code",
   "execution_count": 43,
   "metadata": {},
   "outputs": [
    {
     "data": {
      "text/plain": [
       "<matplotlib.axes._subplots.AxesSubplot at 0x22e412c3488>"
      ]
     },
     "execution_count": 43,
     "metadata": {},
     "output_type": "execute_result"
    },
    {
     "data": {
      "image/png": "[encoded data removed]",
      "text/plain": [
       "<Figure size 432x288 with 1 Axes>"
      ]
     },
     "metadata": {
      "needs_background": "light"
     },
     "output_type": "display_data"
    }
   ],
   "source": [
    "sns.barplot(x='Pclass', y='Survived', data=titan)"
   ]
  },
  {
   "cell_type": "code",
   "execution_count": 44,
   "metadata": {},
   "outputs": [
    {
     "data": {
      "text/plain": [
       "1    136\n",
       "0     80\n",
       "Name: Survived, dtype: int64"
      ]
     },
     "execution_count": 44,
     "metadata": {},
     "output_type": "execute_result"
    }
   ],
   "source": [
    "titan1.Survived.value_counts()"
   ]
  },
  {
   "cell_type": "code",
   "execution_count": 45,
   "metadata": {},
   "outputs": [
    {
     "name": "stdout",
     "output_type": "stream",
     "text": [
      "0.6296296296296297\n"
     ]
    }
   ],
   "source": [
    "p1surv=(136/(136+80))\n",
    "print(p1surv)"
   ]
  },
  {
   "cell_type": "code",
   "execution_count": 46,
   "metadata": {},
   "outputs": [
    {
     "data": {
      "text/plain": [
       "<matplotlib.axes._subplots.AxesSubplot at 0x22e41aceb48>"
      ]
     },
     "execution_count": 46,
     "metadata": {},
     "output_type": "execute_result"
    },
    {
     "data": {
      "image/png": "[encoded data removed]",
      "text/plain": [
       "<Figure size 432x288 with 1 Axes>"
      ]
     },
     "metadata": {
      "needs_background": "light"
     },
     "output_type": "display_data"
    }
   ],
   "source": [
    "sns.barplot(x='Sex', y='Survived', data=titan)"
   ]
  },
  {
   "cell_type": "code",
   "execution_count": 47,
   "metadata": {},
   "outputs": [
    {
     "data": {
      "text/plain": [
       "array([<matplotlib.axes._subplots.AxesSubplot object at 0x0000022E41B34388>,\n",
       "       <matplotlib.axes._subplots.AxesSubplot object at 0x0000022E41BB9D88>],\n",
       "      dtype=object)"
      ]
     },
     "execution_count": 47,
     "metadata": {},
     "output_type": "execute_result"
    },
    {
     "data": {
      "image/png": "[encoded data removed]",
      "text/plain": [
       "<Figure size 720x144 with 2 Axes>"
      ]
     },
     "metadata": {
      "needs_background": "light"
     },
     "output_type": "display_data"
    }
   ],
   "source": [
    "titan.hist(\"Survived\", by=\"Sex\",figsize = [10,2])"
   ]
  },
  {
   "cell_type": "code",
   "execution_count": 48,
   "metadata": {},
   "outputs": [
    {
     "data": {
      "text/plain": [
       "array([<matplotlib.axes._subplots.AxesSubplot object at 0x0000022E41C9A4C8>,\n",
       "       <matplotlib.axes._subplots.AxesSubplot object at 0x0000022E41CB9288>],\n",
       "      dtype=object)"
      ]
     },
     "execution_count": 48,
     "metadata": {},
     "output_type": "execute_result"
    },
    {
     "data": {
      "image/png": "[encoded data removed]",
      "text/plain": [
       "<Figure size 432x288 with 2 Axes>"
      ]
     },
     "metadata": {
      "needs_background": "light"
     },
     "output_type": "display_data"
    }
   ],
   "source": [
    "titan.hist(\"Age\",by = [\"Survived\"])"
   ]
  },
  {
   "cell_type": "code",
   "execution_count": 49,
   "metadata": {},
   "outputs": [
    {
     "data": {
      "text/plain": [
       "array([[<matplotlib.axes._subplots.AxesSubplot object at 0x0000022E41DA0A08>,\n",
       "        <matplotlib.axes._subplots.AxesSubplot object at 0x0000022E41DAD408>],\n",
       "       [<matplotlib.axes._subplots.AxesSubplot object at 0x0000022E41DE1188>,\n",
       "        <matplotlib.axes._subplots.AxesSubplot object at 0x0000022E41E11EC8>]],\n",
       "      dtype=object)"
      ]
     },
     "execution_count": 49,
     "metadata": {},
     "output_type": "execute_result"
    },
    {
     "data": {
      "image/png": "[encoded data removed]",
      "text/plain": [
       "<Figure size 432x288 with 4 Axes>"
      ]
     },
     "metadata": {
      "needs_background": "light"
     },
     "output_type": "display_data"
    }
   ],
   "source": [
    "titan.hist(\"Age\",by = [\"Survived\",\"Sex\"])"
   ]
  },
  {
   "cell_type": "code",
   "execution_count": null,
   "metadata": {},
   "outputs": [],
   "source": [
    "\n",
    "\n",
    "\n",
    "\n"
   ]
  },
  {
   "cell_type": "code",
   "execution_count": 50,
   "metadata": {},
   "outputs": [
    {
     "data": {
      "text/plain": [
       "array([[<matplotlib.axes._subplots.AxesSubplot object at 0x0000022E41F63C48>,\n",
       "        <matplotlib.axes._subplots.AxesSubplot object at 0x0000022E41F60A48>],\n",
       "       [<matplotlib.axes._subplots.AxesSubplot object at 0x0000022E41F90E08>,\n",
       "        <matplotlib.axes._subplots.AxesSubplot object at 0x0000022E41FCA488>],\n",
       "       [<matplotlib.axes._subplots.AxesSubplot object at 0x0000022E41FFCAC8>,\n",
       "        <matplotlib.axes._subplots.AxesSubplot object at 0x0000022E42035588>]],\n",
       "      dtype=object)"
      ]
     },
     "execution_count": 50,
     "metadata": {},
     "output_type": "execute_result"
    },
    {
     "data": {
      "image/png": "[encoded data removed]",
      "text/plain": [
       "<Figure size 720x504 with 6 Axes>"
      ]
     },
     "metadata": {
      "needs_background": "light"
     },
     "output_type": "display_data"
    }
   ],
   "source": [
    "titan.hist(\"Age\",by = [\"Survived\",\"Pclass\"],figsize = [10,7])"
   ]
  },
  {
   "cell_type": "code",
   "execution_count": 51,
   "metadata": {},
   "outputs": [
    {
     "data": {
      "text/plain": [
       "array([[<matplotlib.axes._subplots.AxesSubplot object at 0x0000022E42322608>,\n",
       "        <matplotlib.axes._subplots.AxesSubplot object at 0x0000022E4238C848>],\n",
       "       [<matplotlib.axes._subplots.AxesSubplot object at 0x0000022E421B7EC8>,\n",
       "        <matplotlib.axes._subplots.AxesSubplot object at 0x0000022E421EF908>]],\n",
       "      dtype=object)"
      ]
     },
     "execution_count": 51,
     "metadata": {},
     "output_type": "execute_result"
    },
    {
     "data": {
      "image/png": "[encoded data removed]",
      "text/plain": [
       "<Figure size 720x504 with 4 Axes>"
      ]
     },
     "metadata": {
      "needs_background": "light"
     },
     "output_type": "display_data"
    }
   ],
   "source": [
    "titan.hist(\"Survived\",by = [\"Pclass\"],figsize = [10,7])"
   ]
  },
  {
   "cell_type": "code",
   "execution_count": 52,
   "metadata": {},
   "outputs": [
    {
     "data": {
      "text/plain": [
       "array([[<matplotlib.axes._subplots.AxesSubplot object at 0x0000022E422DAE88>,\n",
       "        <matplotlib.axes._subplots.AxesSubplot object at 0x0000022E42524708>],\n",
       "       [<matplotlib.axes._subplots.AxesSubplot object at 0x0000022E423A6DC8>,\n",
       "        <matplotlib.axes._subplots.AxesSubplot object at 0x0000022E423E0808>]],\n",
       "      dtype=object)"
      ]
     },
     "execution_count": 52,
     "metadata": {},
     "output_type": "execute_result"
    },
    {
     "data": {
      "image/png": "[encoded data removed]",
      "text/plain": [
       "<Figure size 720x504 with 4 Axes>"
      ]
     },
     "metadata": {
      "needs_background": "light"
     },
     "output_type": "display_data"
    }
   ],
   "source": [
    "titan.hist(\"Age\",by = [\"Pclass\"],figsize = [10,7])"
   ]
  },
  {
   "cell_type": "code",
   "execution_count": 53,
   "metadata": {},
   "outputs": [
    {
     "data": {
      "text/plain": [
       "<matplotlib.axes._subplots.AxesSubplot at 0x22e427f9848>"
      ]
     },
     "execution_count": 53,
     "metadata": {},
     "output_type": "execute_result"
    },
    {
     "data": {
      "image/png": "[encoded data removed]",
      "text/plain": [
       "<Figure size 432x288 with 1 Axes>"
      ]
     },
     "metadata": {
      "needs_background": "light"
     },
     "output_type": "display_data"
    }
   ],
   "source": [
    "sns.barplot(x='Pclass', y='Survived', data=titan)"
   ]
  },
  {
   "cell_type": "code",
   "execution_count": 54,
   "metadata": {},
   "outputs": [
    {
     "data": {
      "text/plain": [
       "<matplotlib.axes._subplots.AxesSubplot at 0x22e42681f48>"
      ]
     },
     "execution_count": 54,
     "metadata": {},
     "output_type": "execute_result"
    },
    {
     "data": {
      "image/png": "[encoded data removed]",
      "text/plain": [
       "<Figure size 432x288 with 1 Axes>"
      ]
     },
     "metadata": {
      "needs_background": "light"
     },
     "output_type": "display_data"
    }
   ],
   "source": [
    "sns.barplot(x='Pclass', y='Age', data=titan)"
   ]
  },
  {
   "cell_type": "code",
   "execution_count": 55,
   "metadata": {},
   "outputs": [
    {
     "data": {
      "text/plain": [
       "<matplotlib.axes._subplots.AxesSubplot at 0x22e426fb8c8>"
      ]
     },
     "execution_count": 55,
     "metadata": {},
     "output_type": "execute_result"
    },
    {
     "data": {
      "image/png": "[encoded data removed]",
      "text/plain": [
       "<Figure size 432x288 with 1 Axes>"
      ]
     },
     "metadata": {
      "needs_background": "light"
     },
     "output_type": "display_data"
    }
   ],
   "source": [
    "sns.barplot(x='Survived', y='Fare', data=titan,alpha=0.5)"
   ]
  },
  {
   "cell_type": "code",
   "execution_count": 56,
   "metadata": {},
   "outputs": [
    {
     "data": {
      "text/plain": [
       "array([[<matplotlib.axes._subplots.AxesSubplot object at 0x0000022E4275EB48>,\n",
       "        <matplotlib.axes._subplots.AxesSubplot object at 0x0000022E4279DB48>,\n",
       "        <matplotlib.axes._subplots.AxesSubplot object at 0x0000022E43927248>,\n",
       "        <matplotlib.axes._subplots.AxesSubplot object at 0x0000022E4395E348>],\n",
       "       [<matplotlib.axes._subplots.AxesSubplot object at 0x0000022E43996448>,\n",
       "        <matplotlib.axes._subplots.AxesSubplot object at 0x0000022E439CF4C8>,\n",
       "        <matplotlib.axes._subplots.AxesSubplot object at 0x0000022E43A075C8>,\n",
       "        <matplotlib.axes._subplots.AxesSubplot object at 0x0000022E43A406C8>],\n",
       "       [<matplotlib.axes._subplots.AxesSubplot object at 0x0000022E43A4C2C8>,\n",
       "        <matplotlib.axes._subplots.AxesSubplot object at 0x0000022E43A854C8>,\n",
       "        <matplotlib.axes._subplots.AxesSubplot object at 0x0000022E43AEC9C8>,\n",
       "        <matplotlib.axes._subplots.AxesSubplot object at 0x0000022E43B24B08>],\n",
       "       [<matplotlib.axes._subplots.AxesSubplot object at 0x0000022E43B5DC48>,\n",
       "        <matplotlib.axes._subplots.AxesSubplot object at 0x0000022E43B95D48>,\n",
       "        <matplotlib.axes._subplots.AxesSubplot object at 0x0000022E43BCDF08>,\n",
       "        <matplotlib.axes._subplots.AxesSubplot object at 0x0000022E43C0A148>]],\n",
       "      dtype=object)"
      ]
     },
     "execution_count": 56,
     "metadata": {},
     "output_type": "execute_result"
    },
    {
     "data": {
      "image/png": "[encoded data removed]",
      "text/plain": [
       "<Figure size 720x648 with 16 Axes>"
      ]
     },
     "metadata": {
      "needs_background": "light"
     },
     "output_type": "display_data"
    }
   ],
   "source": [
    "titan.hist(\"Fare\",by = [\"Embarked\",\"Survived\",\"Sex\"],figsize = [10,9])"
   ]
  },
  {
   "cell_type": "code",
   "execution_count": 57,
   "metadata": {},
   "outputs": [
    {
     "data": {
      "text/plain": [
       "<matplotlib.axes._subplots.AxesSubplot at 0x22e440a5488>"
      ]
     },
     "execution_count": 57,
     "metadata": {},
     "output_type": "execute_result"
    },
    {
     "data": {
      "image/png": "[encoded data removed]",
      "text/plain": [
       "<Figure size 432x288 with 1 Axes>"
      ]
     },
     "metadata": {
      "needs_background": "light"
     },
     "output_type": "display_data"
    }
   ],
   "source": [
    "sns.barplot(x='Survived', y='Fare', data=titan,ci=None)"
   ]
  },
  {
   "cell_type": "code",
   "execution_count": 58,
   "metadata": {},
   "outputs": [
    {
     "data": {
      "text/plain": [
       "<seaborn.axisgrid.FacetGrid at 0x22e440e7288>"
      ]
     },
     "execution_count": 58,
     "metadata": {},
     "output_type": "execute_result"
    },
    {
     "data": {
      "image/png": "[encoded data removed]",
      "text/plain": [
       "<Figure size 440x648 with 6 Axes>"
      ]
     },
     "metadata": {
      "needs_background": "light"
     },
     "output_type": "display_data"
    }
   ],
   "source": [
    "graph = sns.FacetGrid(titan, row='Embarked', col='Survived')\n",
    "graph.map(sns.barplot, 'Sex', 'Fare', alpha=.5,ci=None,order=['female','male'])\n",
    "graph.add_legend()"
   ]
  },
  {
   "cell_type": "code",
   "execution_count": 59,
   "metadata": {},
   "outputs": [
    {
     "data": {
      "text/plain": [
       "891"
      ]
     },
     "execution_count": 59,
     "metadata": {},
     "output_type": "execute_result"
    }
   ],
   "source": [
    "titan.Ticket.count()"
   ]
  },
  {
   "cell_type": "code",
   "execution_count": 60,
   "metadata": {},
   "outputs": [
    {
     "data": {
      "text/plain": [
       "681"
      ]
     },
     "execution_count": 60,
     "metadata": {},
     "output_type": "execute_result"
    }
   ],
   "source": [
    "titan.Ticket.nunique()"
   ]
  },
  {
   "cell_type": "code",
   "execution_count": 61,
   "metadata": {},
   "outputs": [],
   "source": [
    "titan=titan.drop(['Ticket'],axis=1)\n",
    "titantest=titantest.drop(['Ticket'],axis=1)"
   ]
  },
  {
   "cell_type": "code",
   "execution_count": 62,
   "metadata": {},
   "outputs": [
    {
     "data": {
      "text/plain": [
       "(891, 11)"
      ]
     },
     "execution_count": 62,
     "metadata": {},
     "output_type": "execute_result"
    }
   ],
   "source": [
    "titan.shape"
   ]
  },
  {
   "cell_type": "code",
   "execution_count": 63,
   "metadata": {},
   "outputs": [
    {
     "data": {
      "text/plain": [
       "687"
      ]
     },
     "execution_count": 63,
     "metadata": {},
     "output_type": "execute_result"
    }
   ],
   "source": [
    "titan.Cabin.isnull().sum()"
   ]
  },
  {
   "cell_type": "code",
   "execution_count": 64,
   "metadata": {},
   "outputs": [],
   "source": [
    "titan=titan.drop(['Cabin'],axis=1)\n",
    "titantest=titantest.drop(['Cabin'],axis=1)"
   ]
  },
  {
   "cell_type": "code",
   "execution_count": 65,
   "metadata": {},
   "outputs": [
    {
     "data": {
      "text/plain": [
       "(891, 10)"
      ]
     },
     "execution_count": 65,
     "metadata": {},
     "output_type": "execute_result"
    }
   ],
   "source": [
    "titan.shape"
   ]
  },
  {
   "cell_type": "code",
   "execution_count": 66,
   "metadata": {},
   "outputs": [],
   "source": [
    "titan.Sex =   titan.Sex.map( {'male': 1, 'female': 0})"
   ]
  },
  {
   "cell_type": "code",
   "execution_count": 67,
   "metadata": {},
   "outputs": [
    {
     "data": {
      "text/html": [
       "<div>\n",
       "<style scoped>\n",
       "    .dataframe tbody tr th:only-of-type {\n",
       "        vertical-align: middle;\n",
       "    }\n",
       "\n",
       "    .dataframe tbody tr th {\n",
       "        vertical-align: top;\n",
       "    }\n",
       "\n",
       "    .dataframe thead th {\n",
       "        text-align: right;\n",
       "    }\n",
       "</style>\n",
       "<table border=\"1\" class=\"dataframe\">\n",
       "  <thead>\n",
       "    <tr style=\"text-align: right;\">\n",
       "      <th></th>\n",
       "      <th>PassengerId</th>\n",
       "      <th>Survived</th>\n",
       "      <th>Pclass</th>\n",
       "      <th>Name</th>\n",
       "      <th>Sex</th>\n",
       "      <th>Age</th>\n",
       "      <th>SibSp</th>\n",
       "      <th>Parch</th>\n",
       "      <th>Fare</th>\n",
       "      <th>Embarked</th>\n",
       "    </tr>\n",
       "  </thead>\n",
       "  <tbody>\n",
       "    <tr>\n",
       "      <th>0</th>\n",
       "      <td>1</td>\n",
       "      <td>0</td>\n",
       "      <td>3</td>\n",
       "      <td>Braund, Mr. Owen Harris</td>\n",
       "      <td>1</td>\n",
       "      <td>22.0</td>\n",
       "      <td>1</td>\n",
       "      <td>0</td>\n",
       "      <td>7.2500</td>\n",
       "      <td>S</td>\n",
       "    </tr>\n",
       "    <tr>\n",
       "      <th>1</th>\n",
       "      <td>2</td>\n",
       "      <td>1</td>\n",
       "      <td>1</td>\n",
       "      <td>Cumings, Mrs. John Bradley (Florence Briggs Th...</td>\n",
       "      <td>0</td>\n",
       "      <td>38.0</td>\n",
       "      <td>1</td>\n",
       "      <td>0</td>\n",
       "      <td>71.2833</td>\n",
       "      <td>C</td>\n",
       "    </tr>\n",
       "  </tbody>\n",
       "</table>\n",
       "</div>"
      ],
      "text/plain": [
       "   PassengerId  Survived  Pclass  \\\n",
       "0            1         0       3   \n",
       "1            2         1       1   \n",
       "\n",
       "                                                Name  Sex   Age  SibSp  Parch  \\\n",
       "0                            Braund, Mr. Owen Harris    1  22.0      1      0   \n",
       "1  Cumings, Mrs. John Bradley (Florence Briggs Th...    0  38.0      1      0   \n",
       "\n",
       "      Fare Embarked  \n",
       "0   7.2500        S  \n",
       "1  71.2833        C  "
      ]
     },
     "execution_count": 67,
     "metadata": {},
     "output_type": "execute_result"
    }
   ],
   "source": [
    "titan.head(2)"
   ]
  },
  {
   "cell_type": "code",
   "execution_count": 68,
   "metadata": {},
   "outputs": [
    {
     "data": {
      "text/plain": [
       "S    644\n",
       "C    168\n",
       "Q     77\n",
       "Name: Embarked, dtype: int64"
      ]
     },
     "execution_count": 68,
     "metadata": {},
     "output_type": "execute_result"
    }
   ],
   "source": [
    "titan.Embarked.value_counts()"
   ]
  },
  {
   "cell_type": "code",
   "execution_count": 69,
   "metadata": {},
   "outputs": [
    {
     "data": {
      "text/plain": [
       "889"
      ]
     },
     "execution_count": 69,
     "metadata": {},
     "output_type": "execute_result"
    }
   ],
   "source": [
    "titan.Embarked.count()"
   ]
  },
  {
   "cell_type": "code",
   "execution_count": 70,
   "metadata": {},
   "outputs": [
    {
     "data": {
      "text/plain": [
       "0      S\n",
       "1      C\n",
       "2      S\n",
       "3      S\n",
       "4      S\n",
       "      ..\n",
       "886    S\n",
       "887    S\n",
       "888    S\n",
       "889    C\n",
       "890    Q\n",
       "Name: Embarked, Length: 891, dtype: object"
      ]
     },
     "execution_count": 70,
     "metadata": {},
     "output_type": "execute_result"
    }
   ],
   "source": [
    "titan.Embarked.fillna(\"S\") "
   ]
  },
  {
   "cell_type": "code",
   "execution_count": 71,
   "metadata": {},
   "outputs": [
    {
     "data": {
      "text/plain": [
       "S    644\n",
       "C    168\n",
       "Q     77\n",
       "Name: Embarked, dtype: int64"
      ]
     },
     "execution_count": 71,
     "metadata": {},
     "output_type": "execute_result"
    }
   ],
   "source": [
    "titan.Embarked.value_counts()"
   ]
  },
  {
   "cell_type": "code",
   "execution_count": 72,
   "metadata": {},
   "outputs": [
    {
     "data": {
      "text/plain": [
       "889"
      ]
     },
     "execution_count": 72,
     "metadata": {},
     "output_type": "execute_result"
    }
   ],
   "source": [
    "titan.Embarked.count()"
   ]
  },
  {
   "cell_type": "code",
   "execution_count": 73,
   "metadata": {},
   "outputs": [
    {
     "data": {
      "text/plain": [
       "0    8.05\n",
       "dtype: float64"
      ]
     },
     "execution_count": 73,
     "metadata": {},
     "output_type": "execute_result"
    }
   ],
   "source": [
    "titan.Fare.mode()"
   ]
  },
  {
   "cell_type": "code",
   "execution_count": 74,
   "metadata": {},
   "outputs": [
    {
     "data": {
      "text/plain": [
       "0       7.2500\n",
       "1      71.2833\n",
       "2       7.9250\n",
       "3      53.1000\n",
       "4       8.0500\n",
       "        ...   \n",
       "886    13.0000\n",
       "887    30.0000\n",
       "888    23.4500\n",
       "889    30.0000\n",
       "890     7.7500\n",
       "Name: Fare, Length: 891, dtype: float64"
      ]
     },
     "execution_count": 74,
     "metadata": {},
     "output_type": "execute_result"
    }
   ],
   "source": [
    "titan.Fare.fillna(8.05) "
   ]
  },
  {
   "cell_type": "code",
   "execution_count": 75,
   "metadata": {},
   "outputs": [
    {
     "data": {
      "text/plain": [
       "0       7.2500\n",
       "1      71.2833\n",
       "2       7.9250\n",
       "3      53.1000\n",
       "4       8.0500\n",
       "        ...   \n",
       "886    13.0000\n",
       "887    30.0000\n",
       "888    23.4500\n",
       "889    30.0000\n",
       "890     7.7500\n",
       "Name: Fare, Length: 891, dtype: float64"
      ]
     },
     "execution_count": 75,
     "metadata": {},
     "output_type": "execute_result"
    }
   ],
   "source": [
    "titan.Fare"
   ]
  },
  {
   "cell_type": "code",
   "execution_count": 76,
   "metadata": {},
   "outputs": [],
   "source": [
    "from sklearn.impute import KNNImputer"
   ]
  },
  {
   "cell_type": "code",
   "execution_count": 77,
   "metadata": {},
   "outputs": [],
   "source": [
    "def convert_num(x):\n",
    "    if x >= -(0.0001) and x <= 7.91:\n",
    "        return 0\n",
    "    elif x > 7.91 and x <= 14.454:\n",
    "        return 1\n",
    "    elif x > 14.454 and x <= 31.0:\n",
    "        return 2\n",
    "    elif x > 14.454 and x <= 512.329:\n",
    "        return 3"
   ]
  },
  {
   "cell_type": "code",
   "execution_count": 78,
   "metadata": {},
   "outputs": [
    {
     "data": {
      "text/plain": [
       "0      0.0\n",
       "1      3.0\n",
       "2      1.0\n",
       "3      3.0\n",
       "4      1.0\n",
       "      ... \n",
       "886    1.0\n",
       "887    2.0\n",
       "888    2.0\n",
       "889    2.0\n",
       "890    0.0\n",
       "Name: Fare, Length: 891, dtype: float64"
      ]
     },
     "execution_count": 78,
     "metadata": {},
     "output_type": "execute_result"
    }
   ],
   "source": [
    "titan.Fare.apply(convert_num)"
   ]
  },
  {
   "cell_type": "code",
   "execution_count": 79,
   "metadata": {},
   "outputs": [
    {
     "data": {
      "text/plain": [
       "0"
      ]
     },
     "execution_count": 79,
     "metadata": {},
     "output_type": "execute_result"
    }
   ],
   "source": [
    "titan.Fare.isnull().sum()"
   ]
  },
  {
   "cell_type": "code",
   "execution_count": 80,
   "metadata": {},
   "outputs": [],
   "source": [
    "yi=titan.Age.values\n",
    "yi=yi.reshape(-1,1)\n",
    "imputer = KNNImputer(n_neighbors=5)\n",
    "ynew=imputer.fit_transform(yi)\n"
   ]
  },
  {
   "cell_type": "code",
   "execution_count": 81,
   "metadata": {},
   "outputs": [
    {
     "data": {
      "text/plain": [
       "array([[22.        ],\n",
       "       [38.        ],\n",
       "       [26.        ],\n",
       "       [35.        ],\n",
       "       [35.        ],\n",
       "       [29.69911765],\n",
       "       [54.        ],\n",
       "       [ 2.        ],\n",
       "       [27.        ],\n",
       "       [14.        ],\n",
       "       [ 4.        ],\n",
       "       [58.        ],\n",
       "       [20.        ],\n",
       "       [39.        ],\n",
       "       [14.        ],\n",
       "       [55.        ],\n",
       "       [ 2.        ],\n",
       "       [29.69911765],\n",
       "       [31.        ],\n",
       "       [29.69911765],\n",
       "       [35.        ],\n",
       "       [34.        ],\n",
       "       [15.        ],\n",
       "       [28.        ],\n",
       "       [ 8.        ],\n",
       "       [38.        ],\n",
       "       [29.69911765],\n",
       "       [19.        ],\n",
       "       [29.69911765],\n",
       "       [29.69911765],\n",
       "       [40.        ],\n",
       "       [29.69911765],\n",
       "       [29.69911765],\n",
       "       [66.        ],\n",
       "       [28.        ],\n",
       "       [42.        ],\n",
       "       [29.69911765],\n",
       "       [21.        ],\n",
       "       [18.        ],\n",
       "       [14.        ],\n",
       "       [40.        ],\n",
       "       [27.        ],\n",
       "       [29.69911765],\n",
       "       [ 3.        ],\n",
       "       [19.        ],\n",
       "       [29.69911765],\n",
       "       [29.69911765],\n",
       "       [29.69911765],\n",
       "       [29.69911765],\n",
       "       [18.        ],\n",
       "       [ 7.        ],\n",
       "       [21.        ],\n",
       "       [49.        ],\n",
       "       [29.        ],\n",
       "       [65.        ],\n",
       "       [29.69911765],\n",
       "       [21.        ],\n",
       "       [28.5       ],\n",
       "       [ 5.        ],\n",
       "       [11.        ],\n",
       "       [22.        ],\n",
       "       [38.        ],\n",
       "       [45.        ],\n",
       "       [ 4.        ],\n",
       "       [29.69911765],\n",
       "       [29.69911765],\n",
       "       [29.        ],\n",
       "       [19.        ],\n",
       "       [17.        ],\n",
       "       [26.        ],\n",
       "       [32.        ],\n",
       "       [16.        ],\n",
       "       [21.        ],\n",
       "       [26.        ],\n",
       "       [32.        ],\n",
       "       [25.        ],\n",
       "       [29.69911765],\n",
       "       [29.69911765],\n",
       "       [ 0.83      ],\n",
       "       [30.        ],\n",
       "       [22.        ],\n",
       "       [29.        ],\n",
       "       [29.69911765],\n",
       "       [28.        ],\n",
       "       [17.        ],\n",
       "       [33.        ],\n",
       "       [16.        ],\n",
       "       [29.69911765],\n",
       "       [23.        ],\n",
       "       [24.        ],\n",
       "       [29.        ],\n",
       "       [20.        ],\n",
       "       [46.        ],\n",
       "       [26.        ],\n",
       "       [59.        ],\n",
       "       [29.69911765],\n",
       "       [71.        ],\n",
       "       [23.        ],\n",
       "       [34.        ],\n",
       "       [34.        ],\n",
       "       [28.        ],\n",
       "       [29.69911765],\n",
       "       [21.        ],\n",
       "       [33.        ],\n",
       "       [37.        ],\n",
       "       [28.        ],\n",
       "       [21.        ],\n",
       "       [29.69911765],\n",
       "       [38.        ],\n",
       "       [29.69911765],\n",
       "       [47.        ],\n",
       "       [14.5       ],\n",
       "       [22.        ],\n",
       "       [20.        ],\n",
       "       [17.        ],\n",
       "       [21.        ],\n",
       "       [70.5       ],\n",
       "       [29.        ],\n",
       "       [24.        ],\n",
       "       [ 2.        ],\n",
       "       [21.        ],\n",
       "       [29.69911765],\n",
       "       [32.5       ],\n",
       "       [32.5       ],\n",
       "       [54.        ],\n",
       "       [12.        ],\n",
       "       [29.69911765],\n",
       "       [24.        ],\n",
       "       [29.69911765],\n",
       "       [45.        ],\n",
       "       [33.        ],\n",
       "       [20.        ],\n",
       "       [47.        ],\n",
       "       [29.        ],\n",
       "       [25.        ],\n",
       "       [23.        ],\n",
       "       [19.        ],\n",
       "       [37.        ],\n",
       "       [16.        ],\n",
       "       [24.        ],\n",
       "       [29.69911765],\n",
       "       [22.        ],\n",
       "       [24.        ],\n",
       "       [19.        ],\n",
       "       [18.        ],\n",
       "       [19.        ],\n",
       "       [27.        ],\n",
       "       [ 9.        ],\n",
       "       [36.5       ],\n",
       "       [42.        ],\n",
       "       [51.        ],\n",
       "       [22.        ],\n",
       "       [55.5       ],\n",
       "       [40.5       ],\n",
       "       [29.69911765],\n",
       "       [51.        ],\n",
       "       [16.        ],\n",
       "       [30.        ],\n",
       "       [29.69911765],\n",
       "       [29.69911765],\n",
       "       [44.        ],\n",
       "       [40.        ],\n",
       "       [26.        ],\n",
       "       [17.        ],\n",
       "       [ 1.        ],\n",
       "       [ 9.        ],\n",
       "       [29.69911765],\n",
       "       [45.        ],\n",
       "       [29.69911765],\n",
       "       [28.        ],\n",
       "       [61.        ],\n",
       "       [ 4.        ],\n",
       "       [ 1.        ],\n",
       "       [21.        ],\n",
       "       [56.        ],\n",
       "       [18.        ],\n",
       "       [29.69911765],\n",
       "       [50.        ],\n",
       "       [30.        ],\n",
       "       [36.        ],\n",
       "       [29.69911765],\n",
       "       [29.69911765],\n",
       "       [ 9.        ],\n",
       "       [ 1.        ],\n",
       "       [ 4.        ],\n",
       "       [29.69911765],\n",
       "       [29.69911765],\n",
       "       [45.        ],\n",
       "       [40.        ],\n",
       "       [36.        ],\n",
       "       [32.        ],\n",
       "       [19.        ],\n",
       "       [19.        ],\n",
       "       [ 3.        ],\n",
       "       [44.        ],\n",
       "       [58.        ],\n",
       "       [29.69911765],\n",
       "       [42.        ],\n",
       "       [29.69911765],\n",
       "       [24.        ],\n",
       "       [28.        ],\n",
       "       [29.69911765],\n",
       "       [34.        ],\n",
       "       [45.5       ],\n",
       "       [18.        ],\n",
       "       [ 2.        ],\n",
       "       [32.        ],\n",
       "       [26.        ],\n",
       "       [16.        ],\n",
       "       [40.        ],\n",
       "       [24.        ],\n",
       "       [35.        ],\n",
       "       [22.        ],\n",
       "       [30.        ],\n",
       "       [29.69911765],\n",
       "       [31.        ],\n",
       "       [27.        ],\n",
       "       [42.        ],\n",
       "       [32.        ],\n",
       "       [30.        ],\n",
       "       [16.        ],\n",
       "       [27.        ],\n",
       "       [51.        ],\n",
       "       [29.69911765],\n",
       "       [38.        ],\n",
       "       [22.        ],\n",
       "       [19.        ],\n",
       "       [20.5       ],\n",
       "       [18.        ],\n",
       "       [29.69911765],\n",
       "       [35.        ],\n",
       "       [29.        ],\n",
       "       [59.        ],\n",
       "       [ 5.        ],\n",
       "       [24.        ],\n",
       "       [29.69911765],\n",
       "       [44.        ],\n",
       "       [ 8.        ],\n",
       "       [19.        ],\n",
       "       [33.        ],\n",
       "       [29.69911765],\n",
       "       [29.69911765],\n",
       "       [29.        ],\n",
       "       [22.        ],\n",
       "       [30.        ],\n",
       "       [44.        ],\n",
       "       [25.        ],\n",
       "       [24.        ],\n",
       "       [37.        ],\n",
       "       [54.        ],\n",
       "       [29.69911765],\n",
       "       [29.        ],\n",
       "       [62.        ],\n",
       "       [30.        ],\n",
       "       [41.        ],\n",
       "       [29.        ],\n",
       "       [29.69911765],\n",
       "       [30.        ],\n",
       "       [35.        ],\n",
       "       [50.        ],\n",
       "       [29.69911765],\n",
       "       [ 3.        ],\n",
       "       [52.        ],\n",
       "       [40.        ],\n",
       "       [29.69911765],\n",
       "       [36.        ],\n",
       "       [16.        ],\n",
       "       [25.        ],\n",
       "       [58.        ],\n",
       "       [35.        ],\n",
       "       [29.69911765],\n",
       "       [25.        ],\n",
       "       [41.        ],\n",
       "       [37.        ],\n",
       "       [29.69911765],\n",
       "       [63.        ],\n",
       "       [45.        ],\n",
       "       [29.69911765],\n",
       "       [ 7.        ],\n",
       "       [35.        ],\n",
       "       [65.        ],\n",
       "       [28.        ],\n",
       "       [16.        ],\n",
       "       [19.        ],\n",
       "       [29.69911765],\n",
       "       [33.        ],\n",
       "       [30.        ],\n",
       "       [22.        ],\n",
       "       [42.        ],\n",
       "       [22.        ],\n",
       "       [26.        ],\n",
       "       [19.        ],\n",
       "       [36.        ],\n",
       "       [24.        ],\n",
       "       [24.        ],\n",
       "       [29.69911765],\n",
       "       [23.5       ],\n",
       "       [ 2.        ],\n",
       "       [29.69911765],\n",
       "       [50.        ],\n",
       "       [29.69911765],\n",
       "       [29.69911765],\n",
       "       [19.        ],\n",
       "       [29.69911765],\n",
       "       [29.69911765],\n",
       "       [ 0.92      ],\n",
       "       [29.69911765],\n",
       "       [17.        ],\n",
       "       [30.        ],\n",
       "       [30.        ],\n",
       "       [24.        ],\n",
       "       [18.        ],\n",
       "       [26.        ],\n",
       "       [28.        ],\n",
       "       [43.        ],\n",
       "       [26.        ],\n",
       "       [24.        ],\n",
       "       [54.        ],\n",
       "       [31.        ],\n",
       "       [40.        ],\n",
       "       [22.        ],\n",
       "       [27.        ],\n",
       "       [30.        ],\n",
       "       [22.        ],\n",
       "       [29.69911765],\n",
       "       [36.        ],\n",
       "       [61.        ],\n",
       "       [36.        ],\n",
       "       [31.        ],\n",
       "       [16.        ],\n",
       "       [29.69911765],\n",
       "       [45.5       ],\n",
       "       [38.        ],\n",
       "       [16.        ],\n",
       "       [29.69911765],\n",
       "       [29.69911765],\n",
       "       [29.        ],\n",
       "       [41.        ],\n",
       "       [45.        ],\n",
       "       [45.        ],\n",
       "       [ 2.        ],\n",
       "       [24.        ],\n",
       "       [28.        ],\n",
       "       [25.        ],\n",
       "       [36.        ],\n",
       "       [24.        ],\n",
       "       [40.        ],\n",
       "       [29.69911765],\n",
       "       [ 3.        ],\n",
       "       [42.        ],\n",
       "       [23.        ],\n",
       "       [29.69911765],\n",
       "       [15.        ],\n",
       "       [25.        ],\n",
       "       [29.69911765],\n",
       "       [28.        ],\n",
       "       [22.        ],\n",
       "       [38.        ],\n",
       "       [29.69911765],\n",
       "       [29.69911765],\n",
       "       [40.        ],\n",
       "       [29.        ],\n",
       "       [45.        ],\n",
       "       [35.        ],\n",
       "       [29.69911765],\n",
       "       [30.        ],\n",
       "       [60.        ],\n",
       "       [29.69911765],\n",
       "       [29.69911765],\n",
       "       [24.        ],\n",
       "       [25.        ],\n",
       "       [18.        ],\n",
       "       [19.        ],\n",
       "       [22.        ],\n",
       "       [ 3.        ],\n",
       "       [29.69911765],\n",
       "       [22.        ],\n",
       "       [27.        ],\n",
       "       [20.        ],\n",
       "       [19.        ],\n",
       "       [42.        ],\n",
       "       [ 1.        ],\n",
       "       [32.        ],\n",
       "       [35.        ],\n",
       "       [29.69911765],\n",
       "       [18.        ],\n",
       "       [ 1.        ],\n",
       "       [36.        ],\n",
       "       [29.69911765],\n",
       "       [17.        ],\n",
       "       [36.        ],\n",
       "       [21.        ],\n",
       "       [28.        ],\n",
       "       [23.        ],\n",
       "       [24.        ],\n",
       "       [22.        ],\n",
       "       [31.        ],\n",
       "       [46.        ],\n",
       "       [23.        ],\n",
       "       [28.        ],\n",
       "       [39.        ],\n",
       "       [26.        ],\n",
       "       [21.        ],\n",
       "       [28.        ],\n",
       "       [20.        ],\n",
       "       [34.        ],\n",
       "       [51.        ],\n",
       "       [ 3.        ],\n",
       "       [21.        ],\n",
       "       [29.69911765],\n",
       "       [29.69911765],\n",
       "       [29.69911765],\n",
       "       [33.        ],\n",
       "       [29.69911765],\n",
       "       [44.        ],\n",
       "       [29.69911765],\n",
       "       [34.        ],\n",
       "       [18.        ],\n",
       "       [30.        ],\n",
       "       [10.        ],\n",
       "       [29.69911765],\n",
       "       [21.        ],\n",
       "       [29.        ],\n",
       "       [28.        ],\n",
       "       [18.        ],\n",
       "       [29.69911765],\n",
       "       [28.        ],\n",
       "       [19.        ],\n",
       "       [29.69911765],\n",
       "       [32.        ],\n",
       "       [28.        ],\n",
       "       [29.69911765],\n",
       "       [42.        ],\n",
       "       [17.        ],\n",
       "       [50.        ],\n",
       "       [14.        ],\n",
       "       [21.        ],\n",
       "       [24.        ],\n",
       "       [64.        ],\n",
       "       [31.        ],\n",
       "       [45.        ],\n",
       "       [20.        ],\n",
       "       [25.        ],\n",
       "       [28.        ],\n",
       "       [29.69911765],\n",
       "       [ 4.        ],\n",
       "       [13.        ],\n",
       "       [34.        ],\n",
       "       [ 5.        ],\n",
       "       [52.        ],\n",
       "       [36.        ],\n",
       "       [29.69911765],\n",
       "       [30.        ],\n",
       "       [49.        ],\n",
       "       [29.69911765],\n",
       "       [29.        ],\n",
       "       [65.        ],\n",
       "       [29.69911765],\n",
       "       [50.        ],\n",
       "       [29.69911765],\n",
       "       [48.        ],\n",
       "       [34.        ],\n",
       "       [47.        ],\n",
       "       [48.        ],\n",
       "       [29.69911765],\n",
       "       [38.        ],\n",
       "       [29.69911765],\n",
       "       [56.        ],\n",
       "       [29.69911765],\n",
       "       [ 0.75      ],\n",
       "       [29.69911765],\n",
       "       [38.        ],\n",
       "       [33.        ],\n",
       "       [23.        ],\n",
       "       [22.        ],\n",
       "       [29.69911765],\n",
       "       [34.        ],\n",
       "       [29.        ],\n",
       "       [22.        ],\n",
       "       [ 2.        ],\n",
       "       [ 9.        ],\n",
       "       [29.69911765],\n",
       "       [50.        ],\n",
       "       [63.        ],\n",
       "       [25.        ],\n",
       "       [29.69911765],\n",
       "       [35.        ],\n",
       "       [58.        ],\n",
       "       [30.        ],\n",
       "       [ 9.        ],\n",
       "       [29.69911765],\n",
       "       [21.        ],\n",
       "       [55.        ],\n",
       "       [71.        ],\n",
       "       [21.        ],\n",
       "       [29.69911765],\n",
       "       [54.        ],\n",
       "       [29.69911765],\n",
       "       [25.        ],\n",
       "       [24.        ],\n",
       "       [17.        ],\n",
       "       [21.        ],\n",
       "       [29.69911765],\n",
       "       [37.        ],\n",
       "       [16.        ],\n",
       "       [18.        ],\n",
       "       [33.        ],\n",
       "       [29.69911765],\n",
       "       [28.        ],\n",
       "       [26.        ],\n",
       "       [29.        ],\n",
       "       [29.69911765],\n",
       "       [36.        ],\n",
       "       [54.        ],\n",
       "       [24.        ],\n",
       "       [47.        ],\n",
       "       [34.        ],\n",
       "       [29.69911765],\n",
       "       [36.        ],\n",
       "       [32.        ],\n",
       "       [30.        ],\n",
       "       [22.        ],\n",
       "       [29.69911765],\n",
       "       [44.        ],\n",
       "       [29.69911765],\n",
       "       [40.5       ],\n",
       "       [50.        ],\n",
       "       [29.69911765],\n",
       "       [39.        ],\n",
       "       [23.        ],\n",
       "       [ 2.        ],\n",
       "       [29.69911765],\n",
       "       [17.        ],\n",
       "       [29.69911765],\n",
       "       [30.        ],\n",
       "       [ 7.        ],\n",
       "       [45.        ],\n",
       "       [30.        ],\n",
       "       [29.69911765],\n",
       "       [22.        ],\n",
       "       [36.        ],\n",
       "       [ 9.        ],\n",
       "       [11.        ],\n",
       "       [32.        ],\n",
       "       [50.        ],\n",
       "       [64.        ],\n",
       "       [19.        ],\n",
       "       [29.69911765],\n",
       "       [33.        ],\n",
       "       [ 8.        ],\n",
       "       [17.        ],\n",
       "       [27.        ],\n",
       "       [29.69911765],\n",
       "       [22.        ],\n",
       "       [22.        ],\n",
       "       [62.        ],\n",
       "       [48.        ],\n",
       "       [29.69911765],\n",
       "       [39.        ],\n",
       "       [36.        ],\n",
       "       [29.69911765],\n",
       "       [40.        ],\n",
       "       [28.        ],\n",
       "       [29.69911765],\n",
       "       [29.69911765],\n",
       "       [24.        ],\n",
       "       [19.        ],\n",
       "       [29.        ],\n",
       "       [29.69911765],\n",
       "       [32.        ],\n",
       "       [62.        ],\n",
       "       [53.        ],\n",
       "       [36.        ],\n",
       "       [29.69911765],\n",
       "       [16.        ],\n",
       "       [19.        ],\n",
       "       [34.        ],\n",
       "       [39.        ],\n",
       "       [29.69911765],\n",
       "       [32.        ],\n",
       "       [25.        ],\n",
       "       [39.        ],\n",
       "       [54.        ],\n",
       "       [36.        ],\n",
       "       [29.69911765],\n",
       "       [18.        ],\n",
       "       [47.        ],\n",
       "       [60.        ],\n",
       "       [22.        ],\n",
       "       [29.69911765],\n",
       "       [35.        ],\n",
       "       [52.        ],\n",
       "       [47.        ],\n",
       "       [29.69911765],\n",
       "       [37.        ],\n",
       "       [36.        ],\n",
       "       [29.69911765],\n",
       "       [49.        ],\n",
       "       [29.69911765],\n",
       "       [49.        ],\n",
       "       [24.        ],\n",
       "       [29.69911765],\n",
       "       [29.69911765],\n",
       "       [44.        ],\n",
       "       [35.        ],\n",
       "       [36.        ],\n",
       "       [30.        ],\n",
       "       [27.        ],\n",
       "       [22.        ],\n",
       "       [40.        ],\n",
       "       [39.        ],\n",
       "       [29.69911765],\n",
       "       [29.69911765],\n",
       "       [29.69911765],\n",
       "       [35.        ],\n",
       "       [24.        ],\n",
       "       [34.        ],\n",
       "       [26.        ],\n",
       "       [ 4.        ],\n",
       "       [26.        ],\n",
       "       [27.        ],\n",
       "       [42.        ],\n",
       "       [20.        ],\n",
       "       [21.        ],\n",
       "       [21.        ],\n",
       "       [61.        ],\n",
       "       [57.        ],\n",
       "       [21.        ],\n",
       "       [26.        ],\n",
       "       [29.69911765],\n",
       "       [80.        ],\n",
       "       [51.        ],\n",
       "       [32.        ],\n",
       "       [29.69911765],\n",
       "       [ 9.        ],\n",
       "       [28.        ],\n",
       "       [32.        ],\n",
       "       [31.        ],\n",
       "       [41.        ],\n",
       "       [29.69911765],\n",
       "       [20.        ],\n",
       "       [24.        ],\n",
       "       [ 2.        ],\n",
       "       [29.69911765],\n",
       "       [ 0.75      ],\n",
       "       [48.        ],\n",
       "       [19.        ],\n",
       "       [56.        ],\n",
       "       [29.69911765],\n",
       "       [23.        ],\n",
       "       [29.69911765],\n",
       "       [18.        ],\n",
       "       [21.        ],\n",
       "       [29.69911765],\n",
       "       [18.        ],\n",
       "       [24.        ],\n",
       "       [29.69911765],\n",
       "       [32.        ],\n",
       "       [23.        ],\n",
       "       [58.        ],\n",
       "       [50.        ],\n",
       "       [40.        ],\n",
       "       [47.        ],\n",
       "       [36.        ],\n",
       "       [20.        ],\n",
       "       [32.        ],\n",
       "       [25.        ],\n",
       "       [29.69911765],\n",
       "       [43.        ],\n",
       "       [29.69911765],\n",
       "       [40.        ],\n",
       "       [31.        ],\n",
       "       [70.        ],\n",
       "       [31.        ],\n",
       "       [29.69911765],\n",
       "       [18.        ],\n",
       "       [24.5       ],\n",
       "       [18.        ],\n",
       "       [43.        ],\n",
       "       [36.        ],\n",
       "       [29.69911765],\n",
       "       [27.        ],\n",
       "       [20.        ],\n",
       "       [14.        ],\n",
       "       [60.        ],\n",
       "       [25.        ],\n",
       "       [14.        ],\n",
       "       [19.        ],\n",
       "       [18.        ],\n",
       "       [15.        ],\n",
       "       [31.        ],\n",
       "       [ 4.        ],\n",
       "       [29.69911765],\n",
       "       [25.        ],\n",
       "       [60.        ],\n",
       "       [52.        ],\n",
       "       [44.        ],\n",
       "       [29.69911765],\n",
       "       [49.        ],\n",
       "       [42.        ],\n",
       "       [18.        ],\n",
       "       [35.        ],\n",
       "       [18.        ],\n",
       "       [25.        ],\n",
       "       [26.        ],\n",
       "       [39.        ],\n",
       "       [45.        ],\n",
       "       [42.        ],\n",
       "       [22.        ],\n",
       "       [29.69911765],\n",
       "       [24.        ],\n",
       "       [29.69911765],\n",
       "       [48.        ],\n",
       "       [29.        ],\n",
       "       [52.        ],\n",
       "       [19.        ],\n",
       "       [38.        ],\n",
       "       [27.        ],\n",
       "       [29.69911765],\n",
       "       [33.        ],\n",
       "       [ 6.        ],\n",
       "       [17.        ],\n",
       "       [34.        ],\n",
       "       [50.        ],\n",
       "       [27.        ],\n",
       "       [20.        ],\n",
       "       [30.        ],\n",
       "       [29.69911765],\n",
       "       [25.        ],\n",
       "       [25.        ],\n",
       "       [29.        ],\n",
       "       [11.        ],\n",
       "       [29.69911765],\n",
       "       [23.        ],\n",
       "       [23.        ],\n",
       "       [28.5       ],\n",
       "       [48.        ],\n",
       "       [35.        ],\n",
       "       [29.69911765],\n",
       "       [29.69911765],\n",
       "       [29.69911765],\n",
       "       [36.        ],\n",
       "       [21.        ],\n",
       "       [24.        ],\n",
       "       [31.        ],\n",
       "       [70.        ],\n",
       "       [16.        ],\n",
       "       [30.        ],\n",
       "       [19.        ],\n",
       "       [31.        ],\n",
       "       [ 4.        ],\n",
       "       [ 6.        ],\n",
       "       [33.        ],\n",
       "       [23.        ],\n",
       "       [48.        ],\n",
       "       [ 0.67      ],\n",
       "       [28.        ],\n",
       "       [18.        ],\n",
       "       [34.        ],\n",
       "       [33.        ],\n",
       "       [29.69911765],\n",
       "       [41.        ],\n",
       "       [20.        ],\n",
       "       [36.        ],\n",
       "       [16.        ],\n",
       "       [51.        ],\n",
       "       [29.69911765],\n",
       "       [30.5       ],\n",
       "       [29.69911765],\n",
       "       [32.        ],\n",
       "       [24.        ],\n",
       "       [48.        ],\n",
       "       [57.        ],\n",
       "       [29.69911765],\n",
       "       [54.        ],\n",
       "       [18.        ],\n",
       "       [29.69911765],\n",
       "       [ 5.        ],\n",
       "       [29.69911765],\n",
       "       [43.        ],\n",
       "       [13.        ],\n",
       "       [17.        ],\n",
       "       [29.        ],\n",
       "       [29.69911765],\n",
       "       [25.        ],\n",
       "       [25.        ],\n",
       "       [18.        ],\n",
       "       [ 8.        ],\n",
       "       [ 1.        ],\n",
       "       [46.        ],\n",
       "       [29.69911765],\n",
       "       [16.        ],\n",
       "       [29.69911765],\n",
       "       [29.69911765],\n",
       "       [25.        ],\n",
       "       [39.        ],\n",
       "       [49.        ],\n",
       "       [31.        ],\n",
       "       [30.        ],\n",
       "       [30.        ],\n",
       "       [34.        ],\n",
       "       [31.        ],\n",
       "       [11.        ],\n",
       "       [ 0.42      ],\n",
       "       [27.        ],\n",
       "       [31.        ],\n",
       "       [39.        ],\n",
       "       [18.        ],\n",
       "       [39.        ],\n",
       "       [33.        ],\n",
       "       [26.        ],\n",
       "       [39.        ],\n",
       "       [35.        ],\n",
       "       [ 6.        ],\n",
       "       [30.5       ],\n",
       "       [29.69911765],\n",
       "       [23.        ],\n",
       "       [31.        ],\n",
       "       [43.        ],\n",
       "       [10.        ],\n",
       "       [52.        ],\n",
       "       [27.        ],\n",
       "       [38.        ],\n",
       "       [27.        ],\n",
       "       [ 2.        ],\n",
       "       [29.69911765],\n",
       "       [29.69911765],\n",
       "       [ 1.        ],\n",
       "       [29.69911765],\n",
       "       [62.        ],\n",
       "       [15.        ],\n",
       "       [ 0.83      ],\n",
       "       [29.69911765],\n",
       "       [23.        ],\n",
       "       [18.        ],\n",
       "       [39.        ],\n",
       "       [21.        ],\n",
       "       [29.69911765],\n",
       "       [32.        ],\n",
       "       [29.69911765],\n",
       "       [20.        ],\n",
       "       [16.        ],\n",
       "       [30.        ],\n",
       "       [34.5       ],\n",
       "       [17.        ],\n",
       "       [42.        ],\n",
       "       [29.69911765],\n",
       "       [35.        ],\n",
       "       [28.        ],\n",
       "       [29.69911765],\n",
       "       [ 4.        ],\n",
       "       [74.        ],\n",
       "       [ 9.        ],\n",
       "       [16.        ],\n",
       "       [44.        ],\n",
       "       [18.        ],\n",
       "       [45.        ],\n",
       "       [51.        ],\n",
       "       [24.        ],\n",
       "       [29.69911765],\n",
       "       [41.        ],\n",
       "       [21.        ],\n",
       "       [48.        ],\n",
       "       [29.69911765],\n",
       "       [24.        ],\n",
       "       [42.        ],\n",
       "       [27.        ],\n",
       "       [31.        ],\n",
       "       [29.69911765],\n",
       "       [ 4.        ],\n",
       "       [26.        ],\n",
       "       [47.        ],\n",
       "       [33.        ],\n",
       "       [47.        ],\n",
       "       [28.        ],\n",
       "       [15.        ],\n",
       "       [20.        ],\n",
       "       [19.        ],\n",
       "       [29.69911765],\n",
       "       [56.        ],\n",
       "       [25.        ],\n",
       "       [33.        ],\n",
       "       [22.        ],\n",
       "       [28.        ],\n",
       "       [25.        ],\n",
       "       [39.        ],\n",
       "       [27.        ],\n",
       "       [19.        ],\n",
       "       [29.69911765],\n",
       "       [26.        ],\n",
       "       [32.        ]])"
      ]
     },
     "execution_count": 81,
     "metadata": {},
     "output_type": "execute_result"
    }
   ],
   "source": [
    "titan.head(5)\n",
    "ynew"
   ]
  },
  {
   "cell_type": "code",
   "execution_count": 82,
   "metadata": {},
   "outputs": [
    {
     "name": "stdout",
     "output_type": "stream",
     "text": [
      "22.0 : 22.0\n",
      "38.0 : 38.0\n",
      "26.0 : 26.0\n",
      "35.0 : 35.0\n",
      "35.0 : 35.0\n",
      "nan : 29.69911764705882\n",
      "54.0 : 54.0\n",
      "2.0 : 2.0\n",
      "27.0 : 27.0\n",
      "14.0 : 14.0\n",
      "4.0 : 4.0\n",
      "58.0 : 58.0\n",
      "20.0 : 20.0\n",
      "39.0 : 39.0\n",
      "14.0 : 14.0\n",
      "55.0 : 55.0\n",
      "2.0 : 2.0\n",
      "nan : 29.69911764705882\n",
      "31.0 : 31.0\n",
      "nan : 29.69911764705882\n",
      "35.0 : 35.0\n",
      "34.0 : 34.0\n",
      "15.0 : 15.0\n",
      "28.0 : 28.0\n",
      "8.0 : 8.0\n",
      "38.0 : 38.0\n",
      "nan : 29.69911764705882\n",
      "19.0 : 19.0\n",
      "nan : 29.69911764705882\n",
      "nan : 29.69911764705882\n",
      "40.0 : 40.0\n",
      "nan : 29.69911764705882\n",
      "nan : 29.69911764705882\n",
      "66.0 : 66.0\n",
      "28.0 : 28.0\n",
      "42.0 : 42.0\n",
      "nan : 29.69911764705882\n",
      "21.0 : 21.0\n",
      "18.0 : 18.0\n",
      "14.0 : 14.0\n",
      "40.0 : 40.0\n",
      "27.0 : 27.0\n",
      "nan : 29.69911764705882\n",
      "3.0 : 3.0\n",
      "19.0 : 19.0\n",
      "nan : 29.69911764705882\n",
      "nan : 29.69911764705882\n",
      "nan : 29.69911764705882\n",
      "nan : 29.69911764705882\n",
      "18.0 : 18.0\n",
      "7.0 : 7.0\n",
      "21.0 : 21.0\n",
      "49.0 : 49.0\n",
      "29.0 : 29.0\n",
      "65.0 : 65.0\n",
      "nan : 29.69911764705882\n",
      "21.0 : 21.0\n",
      "28.5 : 28.5\n",
      "5.0 : 5.0\n",
      "11.0 : 11.0\n",
      "22.0 : 22.0\n",
      "38.0 : 38.0\n",
      "45.0 : 45.0\n",
      "4.0 : 4.0\n",
      "nan : 29.69911764705882\n",
      "nan : 29.69911764705882\n",
      "29.0 : 29.0\n",
      "19.0 : 19.0\n",
      "17.0 : 17.0\n",
      "26.0 : 26.0\n",
      "32.0 : 32.0\n",
      "16.0 : 16.0\n",
      "21.0 : 21.0\n",
      "26.0 : 26.0\n",
      "32.0 : 32.0\n",
      "25.0 : 25.0\n",
      "nan : 29.69911764705882\n",
      "nan : 29.69911764705882\n",
      "0.83 : 0.83\n",
      "30.0 : 30.0\n",
      "22.0 : 22.0\n",
      "29.0 : 29.0\n",
      "nan : 29.69911764705882\n",
      "28.0 : 28.0\n",
      "17.0 : 17.0\n",
      "33.0 : 33.0\n",
      "16.0 : 16.0\n",
      "nan : 29.69911764705882\n",
      "23.0 : 23.0\n",
      "24.0 : 24.0\n",
      "29.0 : 29.0\n",
      "20.0 : 20.0\n",
      "46.0 : 46.0\n",
      "26.0 : 26.0\n",
      "59.0 : 59.0\n",
      "nan : 29.69911764705882\n",
      "71.0 : 71.0\n",
      "23.0 : 23.0\n",
      "34.0 : 34.0\n",
      "34.0 : 34.0\n",
      "28.0 : 28.0\n",
      "nan : 29.69911764705882\n",
      "21.0 : 21.0\n",
      "33.0 : 33.0\n",
      "37.0 : 37.0\n",
      "28.0 : 28.0\n",
      "21.0 : 21.0\n",
      "nan : 29.69911764705882\n",
      "38.0 : 38.0\n",
      "nan : 29.69911764705882\n",
      "47.0 : 47.0\n",
      "14.5 : 14.5\n",
      "22.0 : 22.0\n",
      "20.0 : 20.0\n",
      "17.0 : 17.0\n",
      "21.0 : 21.0\n",
      "70.5 : 70.5\n",
      "29.0 : 29.0\n",
      "24.0 : 24.0\n",
      "2.0 : 2.0\n",
      "21.0 : 21.0\n",
      "nan : 29.69911764705882\n",
      "32.5 : 32.5\n",
      "32.5 : 32.5\n",
      "54.0 : 54.0\n",
      "12.0 : 12.0\n",
      "nan : 29.69911764705882\n",
      "24.0 : 24.0\n",
      "nan : 29.69911764705882\n",
      "45.0 : 45.0\n",
      "33.0 : 33.0\n",
      "20.0 : 20.0\n",
      "47.0 : 47.0\n",
      "29.0 : 29.0\n",
      "25.0 : 25.0\n",
      "23.0 : 23.0\n",
      "19.0 : 19.0\n",
      "37.0 : 37.0\n",
      "16.0 : 16.0\n",
      "24.0 : 24.0\n",
      "nan : 29.69911764705882\n",
      "22.0 : 22.0\n",
      "24.0 : 24.0\n",
      "19.0 : 19.0\n",
      "18.0 : 18.0\n",
      "19.0 : 19.0\n",
      "27.0 : 27.0\n",
      "9.0 : 9.0\n",
      "36.5 : 36.5\n",
      "42.0 : 42.0\n",
      "51.0 : 51.0\n",
      "22.0 : 22.0\n",
      "55.5 : 55.5\n",
      "40.5 : 40.5\n",
      "nan : 29.69911764705882\n",
      "51.0 : 51.0\n",
      "16.0 : 16.0\n",
      "30.0 : 30.0\n",
      "nan : 29.69911764705882\n",
      "nan : 29.69911764705882\n",
      "44.0 : 44.0\n",
      "40.0 : 40.0\n",
      "26.0 : 26.0\n",
      "17.0 : 17.0\n",
      "1.0 : 1.0\n",
      "9.0 : 9.0\n",
      "nan : 29.69911764705882\n",
      "45.0 : 45.0\n",
      "nan : 29.69911764705882\n",
      "28.0 : 28.0\n",
      "61.0 : 61.0\n",
      "4.0 : 4.0\n",
      "1.0 : 1.0\n",
      "21.0 : 21.0\n",
      "56.0 : 56.0\n",
      "18.0 : 18.0\n",
      "nan : 29.69911764705882\n",
      "50.0 : 50.0\n",
      "30.0 : 30.0\n",
      "36.0 : 36.0\n",
      "nan : 29.69911764705882\n",
      "nan : 29.69911764705882\n",
      "9.0 : 9.0\n",
      "1.0 : 1.0\n",
      "4.0 : 4.0\n",
      "nan : 29.69911764705882\n",
      "nan : 29.69911764705882\n",
      "45.0 : 45.0\n",
      "40.0 : 40.0\n",
      "36.0 : 36.0\n",
      "32.0 : 32.0\n",
      "19.0 : 19.0\n",
      "19.0 : 19.0\n",
      "3.0 : 3.0\n",
      "44.0 : 44.0\n",
      "58.0 : 58.0\n",
      "nan : 29.69911764705882\n",
      "42.0 : 42.0\n",
      "nan : 29.69911764705882\n",
      "24.0 : 24.0\n",
      "28.0 : 28.0\n",
      "nan : 29.69911764705882\n",
      "34.0 : 34.0\n",
      "45.5 : 45.5\n",
      "18.0 : 18.0\n",
      "2.0 : 2.0\n",
      "32.0 : 32.0\n",
      "26.0 : 26.0\n",
      "16.0 : 16.0\n",
      "40.0 : 40.0\n",
      "24.0 : 24.0\n",
      "35.0 : 35.0\n",
      "22.0 : 22.0\n",
      "30.0 : 30.0\n",
      "nan : 29.69911764705882\n",
      "31.0 : 31.0\n",
      "27.0 : 27.0\n",
      "42.0 : 42.0\n",
      "32.0 : 32.0\n",
      "30.0 : 30.0\n",
      "16.0 : 16.0\n",
      "27.0 : 27.0\n",
      "51.0 : 51.0\n",
      "nan : 29.69911764705882\n",
      "38.0 : 38.0\n",
      "22.0 : 22.0\n",
      "19.0 : 19.0\n",
      "20.5 : 20.5\n",
      "18.0 : 18.0\n",
      "nan : 29.69911764705882\n",
      "35.0 : 35.0\n",
      "29.0 : 29.0\n",
      "59.0 : 59.0\n",
      "5.0 : 5.0\n",
      "24.0 : 24.0\n",
      "nan : 29.69911764705882\n",
      "44.0 : 44.0\n",
      "8.0 : 8.0\n",
      "19.0 : 19.0\n",
      "33.0 : 33.0\n",
      "nan : 29.69911764705882\n",
      "nan : 29.69911764705882\n",
      "29.0 : 29.0\n",
      "22.0 : 22.0\n",
      "30.0 : 30.0\n",
      "44.0 : 44.0\n",
      "25.0 : 25.0\n",
      "24.0 : 24.0\n",
      "37.0 : 37.0\n",
      "54.0 : 54.0\n",
      "nan : 29.69911764705882\n",
      "29.0 : 29.0\n",
      "62.0 : 62.0\n",
      "30.0 : 30.0\n",
      "41.0 : 41.0\n",
      "29.0 : 29.0\n",
      "nan : 29.69911764705882\n",
      "30.0 : 30.0\n",
      "35.0 : 35.0\n",
      "50.0 : 50.0\n",
      "nan : 29.69911764705882\n",
      "3.0 : 3.0\n",
      "52.0 : 52.0\n",
      "40.0 : 40.0\n",
      "nan : 29.69911764705882\n",
      "36.0 : 36.0\n",
      "16.0 : 16.0\n",
      "25.0 : 25.0\n",
      "58.0 : 58.0\n",
      "35.0 : 35.0\n",
      "nan : 29.69911764705882\n",
      "25.0 : 25.0\n",
      "41.0 : 41.0\n",
      "37.0 : 37.0\n",
      "nan : 29.69911764705882\n",
      "63.0 : 63.0\n",
      "45.0 : 45.0\n",
      "nan : 29.69911764705882\n",
      "7.0 : 7.0\n",
      "35.0 : 35.0\n",
      "65.0 : 65.0\n",
      "28.0 : 28.0\n",
      "16.0 : 16.0\n",
      "19.0 : 19.0\n",
      "nan : 29.69911764705882\n",
      "33.0 : 33.0\n",
      "30.0 : 30.0\n",
      "22.0 : 22.0\n",
      "42.0 : 42.0\n",
      "22.0 : 22.0\n",
      "26.0 : 26.0\n",
      "19.0 : 19.0\n",
      "36.0 : 36.0\n",
      "24.0 : 24.0\n",
      "24.0 : 24.0\n",
      "nan : 29.69911764705882\n",
      "23.5 : 23.5\n",
      "2.0 : 2.0\n",
      "nan : 29.69911764705882\n",
      "50.0 : 50.0\n",
      "nan : 29.69911764705882\n",
      "nan : 29.69911764705882\n",
      "19.0 : 19.0\n",
      "nan : 29.69911764705882\n",
      "nan : 29.69911764705882\n",
      "0.92 : 0.92\n",
      "nan : 29.69911764705882\n",
      "17.0 : 17.0\n",
      "30.0 : 30.0\n",
      "30.0 : 30.0\n",
      "24.0 : 24.0\n",
      "18.0 : 18.0\n",
      "26.0 : 26.0\n",
      "28.0 : 28.0\n",
      "43.0 : 43.0\n",
      "26.0 : 26.0\n",
      "24.0 : 24.0\n",
      "54.0 : 54.0\n",
      "31.0 : 31.0\n",
      "40.0 : 40.0\n",
      "22.0 : 22.0\n",
      "27.0 : 27.0\n",
      "30.0 : 30.0\n",
      "22.0 : 22.0\n",
      "nan : 29.69911764705882\n",
      "36.0 : 36.0\n",
      "61.0 : 61.0\n",
      "36.0 : 36.0\n",
      "31.0 : 31.0\n",
      "16.0 : 16.0\n",
      "nan : 29.69911764705882\n",
      "45.5 : 45.5\n",
      "38.0 : 38.0\n",
      "16.0 : 16.0\n",
      "nan : 29.69911764705882\n",
      "nan : 29.69911764705882\n",
      "29.0 : 29.0\n",
      "41.0 : 41.0\n",
      "45.0 : 45.0\n",
      "45.0 : 45.0\n",
      "2.0 : 2.0\n",
      "24.0 : 24.0\n",
      "28.0 : 28.0\n",
      "25.0 : 25.0\n",
      "36.0 : 36.0\n",
      "24.0 : 24.0\n",
      "40.0 : 40.0\n",
      "nan : 29.69911764705882\n",
      "3.0 : 3.0\n",
      "42.0 : 42.0\n",
      "23.0 : 23.0\n",
      "nan : 29.69911764705882\n",
      "15.0 : 15.0\n",
      "25.0 : 25.0\n",
      "nan : 29.69911764705882\n",
      "28.0 : 28.0\n",
      "22.0 : 22.0\n",
      "38.0 : 38.0\n",
      "nan : 29.69911764705882\n",
      "nan : 29.69911764705882\n",
      "40.0 : 40.0\n",
      "29.0 : 29.0\n",
      "45.0 : 45.0\n",
      "35.0 : 35.0\n",
      "nan : 29.69911764705882\n",
      "30.0 : 30.0\n",
      "60.0 : 60.0\n",
      "nan : 29.69911764705882\n",
      "nan : 29.69911764705882\n",
      "24.0 : 24.0\n",
      "25.0 : 25.0\n",
      "18.0 : 18.0\n",
      "19.0 : 19.0\n",
      "22.0 : 22.0\n",
      "3.0 : 3.0\n",
      "nan : 29.69911764705882\n",
      "22.0 : 22.0\n",
      "27.0 : 27.0\n",
      "20.0 : 20.0\n",
      "19.0 : 19.0\n",
      "42.0 : 42.0\n",
      "1.0 : 1.0\n",
      "32.0 : 32.0\n",
      "35.0 : 35.0\n",
      "nan : 29.69911764705882\n",
      "18.0 : 18.0\n",
      "1.0 : 1.0\n",
      "36.0 : 36.0\n",
      "nan : 29.69911764705882\n",
      "17.0 : 17.0\n",
      "36.0 : 36.0\n",
      "21.0 : 21.0\n",
      "28.0 : 28.0\n",
      "23.0 : 23.0\n",
      "24.0 : 24.0\n",
      "22.0 : 22.0\n",
      "31.0 : 31.0\n",
      "46.0 : 46.0\n",
      "23.0 : 23.0\n",
      "28.0 : 28.0\n",
      "39.0 : 39.0\n",
      "26.0 : 26.0\n",
      "21.0 : 21.0\n",
      "28.0 : 28.0\n",
      "20.0 : 20.0\n",
      "34.0 : 34.0\n",
      "51.0 : 51.0\n",
      "3.0 : 3.0\n",
      "21.0 : 21.0\n",
      "nan : 29.69911764705882\n",
      "nan : 29.69911764705882\n",
      "nan : 29.69911764705882\n",
      "33.0 : 33.0\n",
      "nan : 29.69911764705882\n",
      "44.0 : 44.0\n",
      "nan : 29.69911764705882\n",
      "34.0 : 34.0\n",
      "18.0 : 18.0\n",
      "30.0 : 30.0\n",
      "10.0 : 10.0\n",
      "nan : 29.69911764705882\n",
      "21.0 : 21.0\n",
      "29.0 : 29.0\n",
      "28.0 : 28.0\n",
      "18.0 : 18.0\n",
      "nan : 29.69911764705882\n",
      "28.0 : 28.0\n",
      "19.0 : 19.0\n",
      "nan : 29.69911764705882\n",
      "32.0 : 32.0\n",
      "28.0 : 28.0\n",
      "nan : 29.69911764705882\n",
      "42.0 : 42.0\n",
      "17.0 : 17.0\n",
      "50.0 : 50.0\n",
      "14.0 : 14.0\n",
      "21.0 : 21.0\n",
      "24.0 : 24.0\n",
      "64.0 : 64.0\n",
      "31.0 : 31.0\n",
      "45.0 : 45.0\n",
      "20.0 : 20.0\n",
      "25.0 : 25.0\n",
      "28.0 : 28.0\n",
      "nan : 29.69911764705882\n",
      "4.0 : 4.0\n",
      "13.0 : 13.0\n",
      "34.0 : 34.0\n",
      "5.0 : 5.0\n",
      "52.0 : 52.0\n",
      "36.0 : 36.0\n",
      "nan : 29.69911764705882\n",
      "30.0 : 30.0\n",
      "49.0 : 49.0\n",
      "nan : 29.69911764705882\n",
      "29.0 : 29.0\n",
      "65.0 : 65.0\n",
      "nan : 29.69911764705882\n",
      "50.0 : 50.0\n",
      "nan : 29.69911764705882\n",
      "48.0 : 48.0\n",
      "34.0 : 34.0\n",
      "47.0 : 47.0\n",
      "48.0 : 48.0\n",
      "nan : 29.69911764705882\n",
      "38.0 : 38.0\n",
      "nan : 29.69911764705882\n",
      "56.0 : 56.0\n",
      "nan : 29.69911764705882\n",
      "0.75 : 0.75\n",
      "nan : 29.69911764705882\n",
      "38.0 : 38.0\n",
      "33.0 : 33.0\n",
      "23.0 : 23.0\n",
      "22.0 : 22.0\n",
      "nan : 29.69911764705882\n",
      "34.0 : 34.0\n",
      "29.0 : 29.0\n",
      "22.0 : 22.0\n",
      "2.0 : 2.0\n",
      "9.0 : 9.0\n",
      "nan : 29.69911764705882\n",
      "50.0 : 50.0\n",
      "63.0 : 63.0\n",
      "25.0 : 25.0\n",
      "nan : 29.69911764705882\n",
      "35.0 : 35.0\n",
      "58.0 : 58.0\n",
      "30.0 : 30.0\n",
      "9.0 : 9.0\n",
      "nan : 29.69911764705882\n",
      "21.0 : 21.0\n",
      "55.0 : 55.0\n",
      "71.0 : 71.0\n",
      "21.0 : 21.0\n",
      "nan : 29.69911764705882\n",
      "54.0 : 54.0\n",
      "nan : 29.69911764705882\n",
      "25.0 : 25.0\n",
      "24.0 : 24.0\n",
      "17.0 : 17.0\n",
      "21.0 : 21.0\n",
      "nan : 29.69911764705882\n",
      "37.0 : 37.0\n",
      "16.0 : 16.0\n",
      "18.0 : 18.0\n",
      "33.0 : 33.0\n",
      "nan : 29.69911764705882\n",
      "28.0 : 28.0\n",
      "26.0 : 26.0\n",
      "29.0 : 29.0\n",
      "nan : 29.69911764705882\n",
      "36.0 : 36.0\n",
      "54.0 : 54.0\n",
      "24.0 : 24.0\n",
      "47.0 : 47.0\n",
      "34.0 : 34.0\n",
      "nan : 29.69911764705882\n",
      "36.0 : 36.0\n",
      "32.0 : 32.0\n",
      "30.0 : 30.0\n",
      "22.0 : 22.0\n",
      "nan : 29.69911764705882\n",
      "44.0 : 44.0\n",
      "nan : 29.69911764705882\n",
      "40.5 : 40.5\n",
      "50.0 : 50.0\n",
      "nan : 29.69911764705882\n",
      "39.0 : 39.0\n",
      "23.0 : 23.0\n",
      "2.0 : 2.0\n",
      "nan : 29.69911764705882\n",
      "17.0 : 17.0\n",
      "nan : 29.69911764705882\n",
      "30.0 : 30.0\n",
      "7.0 : 7.0\n",
      "45.0 : 45.0\n",
      "30.0 : 30.0\n",
      "nan : 29.69911764705882\n",
      "22.0 : 22.0\n",
      "36.0 : 36.0\n",
      "9.0 : 9.0\n",
      "11.0 : 11.0\n",
      "32.0 : 32.0\n",
      "50.0 : 50.0\n",
      "64.0 : 64.0\n",
      "19.0 : 19.0\n",
      "nan : 29.69911764705882\n",
      "33.0 : 33.0\n",
      "8.0 : 8.0\n",
      "17.0 : 17.0\n",
      "27.0 : 27.0\n",
      "nan : 29.69911764705882\n",
      "22.0 : 22.0\n",
      "22.0 : 22.0\n",
      "62.0 : 62.0\n",
      "48.0 : 48.0\n",
      "nan : 29.69911764705882\n",
      "39.0 : 39.0\n",
      "36.0 : 36.0\n",
      "nan : 29.69911764705882\n",
      "40.0 : 40.0\n",
      "28.0 : 28.0\n",
      "nan : 29.69911764705882\n",
      "nan : 29.69911764705882\n",
      "24.0 : 24.0\n",
      "19.0 : 19.0\n",
      "29.0 : 29.0\n",
      "nan : 29.69911764705882\n",
      "32.0 : 32.0\n",
      "62.0 : 62.0\n",
      "53.0 : 53.0\n",
      "36.0 : 36.0\n",
      "nan : 29.69911764705882\n",
      "16.0 : 16.0\n",
      "19.0 : 19.0\n",
      "34.0 : 34.0\n",
      "39.0 : 39.0\n",
      "nan : 29.69911764705882\n",
      "32.0 : 32.0\n",
      "25.0 : 25.0\n",
      "39.0 : 39.0\n",
      "54.0 : 54.0\n",
      "36.0 : 36.0\n",
      "nan : 29.69911764705882\n",
      "18.0 : 18.0\n",
      "47.0 : 47.0\n",
      "60.0 : 60.0\n",
      "22.0 : 22.0\n",
      "nan : 29.69911764705882\n",
      "35.0 : 35.0\n",
      "52.0 : 52.0\n",
      "47.0 : 47.0\n",
      "nan : 29.69911764705882\n",
      "37.0 : 37.0\n",
      "36.0 : 36.0\n",
      "nan : 29.69911764705882\n",
      "49.0 : 49.0\n",
      "nan : 29.69911764705882\n",
      "49.0 : 49.0\n",
      "24.0 : 24.0\n",
      "nan : 29.69911764705882\n",
      "nan : 29.69911764705882\n",
      "44.0 : 44.0\n",
      "35.0 : 35.0\n",
      "36.0 : 36.0\n",
      "30.0 : 30.0\n",
      "27.0 : 27.0\n",
      "22.0 : 22.0\n",
      "40.0 : 40.0\n",
      "39.0 : 39.0\n",
      "nan : 29.69911764705882\n",
      "nan : 29.69911764705882\n",
      "nan : 29.69911764705882\n",
      "35.0 : 35.0\n",
      "24.0 : 24.0\n",
      "34.0 : 34.0\n",
      "26.0 : 26.0\n",
      "4.0 : 4.0\n",
      "26.0 : 26.0\n",
      "27.0 : 27.0\n",
      "42.0 : 42.0\n",
      "20.0 : 20.0\n",
      "21.0 : 21.0\n",
      "21.0 : 21.0\n",
      "61.0 : 61.0\n",
      "57.0 : 57.0\n",
      "21.0 : 21.0\n",
      "26.0 : 26.0\n",
      "nan : 29.69911764705882\n",
      "80.0 : 80.0\n",
      "51.0 : 51.0\n",
      "32.0 : 32.0\n",
      "nan : 29.69911764705882\n",
      "9.0 : 9.0\n",
      "28.0 : 28.0\n",
      "32.0 : 32.0\n",
      "31.0 : 31.0\n",
      "41.0 : 41.0\n",
      "nan : 29.69911764705882\n",
      "20.0 : 20.0\n",
      "24.0 : 24.0\n",
      "2.0 : 2.0\n",
      "nan : 29.69911764705882\n",
      "0.75 : 0.75\n",
      "48.0 : 48.0\n",
      "19.0 : 19.0\n",
      "56.0 : 56.0\n",
      "nan : 29.69911764705882\n",
      "23.0 : 23.0\n",
      "nan : 29.69911764705882\n",
      "18.0 : 18.0\n",
      "21.0 : 21.0\n",
      "nan : 29.69911764705882\n",
      "18.0 : 18.0\n",
      "24.0 : 24.0\n",
      "nan : 29.69911764705882\n",
      "32.0 : 32.0\n",
      "23.0 : 23.0\n",
      "58.0 : 58.0\n",
      "50.0 : 50.0\n",
      "40.0 : 40.0\n",
      "47.0 : 47.0\n",
      "36.0 : 36.0\n",
      "20.0 : 20.0\n",
      "32.0 : 32.0\n",
      "25.0 : 25.0\n",
      "nan : 29.69911764705882\n",
      "43.0 : 43.0\n",
      "nan : 29.69911764705882\n",
      "40.0 : 40.0\n",
      "31.0 : 31.0\n",
      "70.0 : 70.0\n",
      "31.0 : 31.0\n",
      "nan : 29.69911764705882\n",
      "18.0 : 18.0\n",
      "24.5 : 24.5\n",
      "18.0 : 18.0\n",
      "43.0 : 43.0\n",
      "36.0 : 36.0\n",
      "nan : 29.69911764705882\n",
      "27.0 : 27.0\n",
      "20.0 : 20.0\n",
      "14.0 : 14.0\n",
      "60.0 : 60.0\n",
      "25.0 : 25.0\n",
      "14.0 : 14.0\n",
      "19.0 : 19.0\n",
      "18.0 : 18.0\n",
      "15.0 : 15.0\n",
      "31.0 : 31.0\n",
      "4.0 : 4.0\n",
      "nan : 29.69911764705882\n",
      "25.0 : 25.0\n",
      "60.0 : 60.0\n",
      "52.0 : 52.0\n",
      "44.0 : 44.0\n",
      "nan : 29.69911764705882\n",
      "49.0 : 49.0\n",
      "42.0 : 42.0\n",
      "18.0 : 18.0\n",
      "35.0 : 35.0\n",
      "18.0 : 18.0\n",
      "25.0 : 25.0\n",
      "26.0 : 26.0\n",
      "39.0 : 39.0\n",
      "45.0 : 45.0\n",
      "42.0 : 42.0\n",
      "22.0 : 22.0\n",
      "nan : 29.69911764705882\n",
      "24.0 : 24.0\n",
      "nan : 29.69911764705882\n",
      "48.0 : 48.0\n",
      "29.0 : 29.0\n",
      "52.0 : 52.0\n",
      "19.0 : 19.0\n",
      "38.0 : 38.0\n",
      "27.0 : 27.0\n",
      "nan : 29.69911764705882\n",
      "33.0 : 33.0\n",
      "6.0 : 6.0\n",
      "17.0 : 17.0\n",
      "34.0 : 34.0\n",
      "50.0 : 50.0\n",
      "27.0 : 27.0\n",
      "20.0 : 20.0\n",
      "30.0 : 30.0\n",
      "nan : 29.69911764705882\n",
      "25.0 : 25.0\n",
      "25.0 : 25.0\n",
      "29.0 : 29.0\n",
      "11.0 : 11.0\n",
      "nan : 29.69911764705882\n",
      "23.0 : 23.0\n",
      "23.0 : 23.0\n",
      "28.5 : 28.5\n",
      "48.0 : 48.0\n",
      "35.0 : 35.0\n",
      "nan : 29.69911764705882\n",
      "nan : 29.69911764705882\n",
      "nan : 29.69911764705882\n",
      "36.0 : 36.0\n",
      "21.0 : 21.0\n",
      "24.0 : 24.0\n",
      "31.0 : 31.0\n",
      "70.0 : 70.0\n",
      "16.0 : 16.0\n",
      "30.0 : 30.0\n",
      "19.0 : 19.0\n",
      "31.0 : 31.0\n",
      "4.0 : 4.0\n",
      "6.0 : 6.0\n",
      "33.0 : 33.0\n",
      "23.0 : 23.0\n",
      "48.0 : 48.0\n",
      "0.67 : 0.67\n",
      "28.0 : 28.0\n",
      "18.0 : 18.0\n",
      "34.0 : 34.0\n",
      "33.0 : 33.0\n",
      "nan : 29.69911764705882\n",
      "41.0 : 41.0\n",
      "20.0 : 20.0\n",
      "36.0 : 36.0\n",
      "16.0 : 16.0\n",
      "51.0 : 51.0\n",
      "nan : 29.69911764705882\n",
      "30.5 : 30.5\n",
      "nan : 29.69911764705882\n",
      "32.0 : 32.0\n",
      "24.0 : 24.0\n",
      "48.0 : 48.0\n",
      "57.0 : 57.0\n",
      "nan : 29.69911764705882\n",
      "54.0 : 54.0\n",
      "18.0 : 18.0\n",
      "nan : 29.69911764705882\n",
      "5.0 : 5.0\n",
      "nan : 29.69911764705882\n",
      "43.0 : 43.0\n",
      "13.0 : 13.0\n",
      "17.0 : 17.0\n",
      "29.0 : 29.0\n",
      "nan : 29.69911764705882\n",
      "25.0 : 25.0\n",
      "25.0 : 25.0\n",
      "18.0 : 18.0\n",
      "8.0 : 8.0\n",
      "1.0 : 1.0\n",
      "46.0 : 46.0\n",
      "nan : 29.69911764705882\n",
      "16.0 : 16.0\n",
      "nan : 29.69911764705882\n",
      "nan : 29.69911764705882\n",
      "25.0 : 25.0\n",
      "39.0 : 39.0\n",
      "49.0 : 49.0\n",
      "31.0 : 31.0\n",
      "30.0 : 30.0\n",
      "30.0 : 30.0\n",
      "34.0 : 34.0\n",
      "31.0 : 31.0\n",
      "11.0 : 11.0\n",
      "0.42 : 0.42\n",
      "27.0 : 27.0\n",
      "31.0 : 31.0\n",
      "39.0 : 39.0\n",
      "18.0 : 18.0\n",
      "39.0 : 39.0\n",
      "33.0 : 33.0\n",
      "26.0 : 26.0\n",
      "39.0 : 39.0\n",
      "35.0 : 35.0\n",
      "6.0 : 6.0\n",
      "30.5 : 30.5\n",
      "nan : 29.69911764705882\n",
      "23.0 : 23.0\n",
      "31.0 : 31.0\n",
      "43.0 : 43.0\n",
      "10.0 : 10.0\n",
      "52.0 : 52.0\n",
      "27.0 : 27.0\n",
      "38.0 : 38.0\n",
      "27.0 : 27.0\n",
      "2.0 : 2.0\n",
      "nan : 29.69911764705882\n",
      "nan : 29.69911764705882\n",
      "1.0 : 1.0\n",
      "nan : 29.69911764705882\n",
      "62.0 : 62.0\n",
      "15.0 : 15.0\n",
      "0.83 : 0.83\n",
      "nan : 29.69911764705882\n",
      "23.0 : 23.0\n",
      "18.0 : 18.0\n",
      "39.0 : 39.0\n",
      "21.0 : 21.0\n",
      "nan : 29.69911764705882\n",
      "32.0 : 32.0\n",
      "nan : 29.69911764705882\n",
      "20.0 : 20.0\n",
      "16.0 : 16.0\n",
      "30.0 : 30.0\n",
      "34.5 : 34.5\n",
      "17.0 : 17.0\n",
      "42.0 : 42.0\n",
      "nan : 29.69911764705882\n",
      "35.0 : 35.0\n",
      "28.0 : 28.0\n",
      "nan : 29.69911764705882\n",
      "4.0 : 4.0\n",
      "74.0 : 74.0\n",
      "9.0 : 9.0\n",
      "16.0 : 16.0\n",
      "44.0 : 44.0\n",
      "18.0 : 18.0\n",
      "45.0 : 45.0\n",
      "51.0 : 51.0\n",
      "24.0 : 24.0\n",
      "nan : 29.69911764705882\n",
      "41.0 : 41.0\n",
      "21.0 : 21.0\n",
      "48.0 : 48.0\n",
      "nan : 29.69911764705882\n",
      "24.0 : 24.0\n",
      "42.0 : 42.0\n",
      "27.0 : 27.0\n",
      "31.0 : 31.0\n",
      "nan : 29.69911764705882\n",
      "4.0 : 4.0\n",
      "26.0 : 26.0\n",
      "47.0 : 47.0\n",
      "33.0 : 33.0\n",
      "47.0 : 47.0\n",
      "28.0 : 28.0\n",
      "15.0 : 15.0\n",
      "20.0 : 20.0\n",
      "19.0 : 19.0\n",
      "nan : 29.69911764705882\n",
      "56.0 : 56.0\n",
      "25.0 : 25.0\n",
      "33.0 : 33.0\n",
      "22.0 : 22.0\n",
      "28.0 : 28.0\n",
      "25.0 : 25.0\n",
      "39.0 : 39.0\n",
      "27.0 : 27.0\n",
      "19.0 : 19.0\n",
      "nan : 29.69911764705882\n",
      "26.0 : 26.0\n",
      "32.0 : 32.0\n"
     ]
    }
   ],
   "source": [
    "pd.DataFrame(ynew).shape\n",
    "for i, x in enumerate(yi):\n",
    "    print( str(yi[i][0]) + \" : \"+ str(ynew[i][0]))"
   ]
  },
  {
   "cell_type": "code",
   "execution_count": 83,
   "metadata": {},
   "outputs": [
    {
     "data": {
      "text/plain": [
       "(891, 10)"
      ]
     },
     "execution_count": 83,
     "metadata": {},
     "output_type": "execute_result"
    }
   ],
   "source": [
    "titan.shape"
   ]
  },
  {
   "cell_type": "code",
   "execution_count": 84,
   "metadata": {},
   "outputs": [],
   "source": [
    "titan= pd.concat([pd.DataFrame(ynew),titan],axis=1)"
   ]
  },
  {
   "cell_type": "code",
   "execution_count": 85,
   "metadata": {},
   "outputs": [],
   "source": [
    "titan=titan.drop(['Age'],axis=1)"
   ]
  },
  {
   "cell_type": "code",
   "execution_count": 86,
   "metadata": {},
   "outputs": [],
   "source": [
    "titan.rename(columns={0:'Age'},inplace=True)"
   ]
  },
  {
   "cell_type": "code",
   "execution_count": 87,
   "metadata": {},
   "outputs": [
    {
     "data": {
      "text/plain": [
       "0"
      ]
     },
     "execution_count": 87,
     "metadata": {},
     "output_type": "execute_result"
    }
   ],
   "source": [
    "np.sum(titan.Age == np.nan)"
   ]
  },
  {
   "cell_type": "code",
   "execution_count": 88,
   "metadata": {},
   "outputs": [
    {
     "data": {
      "text/plain": [
       "0      22.000000\n",
       "1      38.000000\n",
       "2      26.000000\n",
       "3      35.000000\n",
       "4      35.000000\n",
       "         ...    \n",
       "886    27.000000\n",
       "887    19.000000\n",
       "888    29.699118\n",
       "889    26.000000\n",
       "890    32.000000\n",
       "Name: Age, Length: 891, dtype: float64"
      ]
     },
     "execution_count": 88,
     "metadata": {},
     "output_type": "execute_result"
    }
   ],
   "source": [
    "titan.Age"
   ]
  },
  {
   "cell_type": "code",
   "execution_count": 89,
   "metadata": {},
   "outputs": [
    {
     "data": {
      "text/html": [
       "<div>\n",
       "<style scoped>\n",
       "    .dataframe tbody tr th:only-of-type {\n",
       "        vertical-align: middle;\n",
       "    }\n",
       "\n",
       "    .dataframe tbody tr th {\n",
       "        vertical-align: top;\n",
       "    }\n",
       "\n",
       "    .dataframe thead th {\n",
       "        text-align: right;\n",
       "    }\n",
       "</style>\n",
       "<table border=\"1\" class=\"dataframe\">\n",
       "  <thead>\n",
       "    <tr style=\"text-align: right;\">\n",
       "      <th></th>\n",
       "      <th>Age</th>\n",
       "      <th>PassengerId</th>\n",
       "      <th>Survived</th>\n",
       "      <th>Pclass</th>\n",
       "      <th>Name</th>\n",
       "      <th>Sex</th>\n",
       "      <th>SibSp</th>\n",
       "      <th>Parch</th>\n",
       "      <th>Fare</th>\n",
       "      <th>Embarked</th>\n",
       "    </tr>\n",
       "  </thead>\n",
       "  <tbody>\n",
       "    <tr>\n",
       "      <th>0</th>\n",
       "      <td>22.0</td>\n",
       "      <td>1</td>\n",
       "      <td>0</td>\n",
       "      <td>3</td>\n",
       "      <td>Braund, Mr. Owen Harris</td>\n",
       "      <td>1</td>\n",
       "      <td>1</td>\n",
       "      <td>0</td>\n",
       "      <td>7.2500</td>\n",
       "      <td>S</td>\n",
       "    </tr>\n",
       "    <tr>\n",
       "      <th>1</th>\n",
       "      <td>38.0</td>\n",
       "      <td>2</td>\n",
       "      <td>1</td>\n",
       "      <td>1</td>\n",
       "      <td>Cumings, Mrs. John Bradley (Florence Briggs Th...</td>\n",
       "      <td>0</td>\n",
       "      <td>1</td>\n",
       "      <td>0</td>\n",
       "      <td>71.2833</td>\n",
       "      <td>C</td>\n",
       "    </tr>\n",
       "  </tbody>\n",
       "</table>\n",
       "</div>"
      ],
      "text/plain": [
       "    Age  PassengerId  Survived  Pclass  \\\n",
       "0  22.0            1         0       3   \n",
       "1  38.0            2         1       1   \n",
       "\n",
       "                                                Name  Sex  SibSp  Parch  \\\n",
       "0                            Braund, Mr. Owen Harris    1      1      0   \n",
       "1  Cumings, Mrs. John Bradley (Florence Briggs Th...    0      1      0   \n",
       "\n",
       "      Fare Embarked  \n",
       "0   7.2500        S  \n",
       "1  71.2833        C  "
      ]
     },
     "execution_count": 89,
     "metadata": {},
     "output_type": "execute_result"
    }
   ],
   "source": [
    "titan.head(2)"
   ]
  },
  {
   "cell_type": "code",
   "execution_count": 90,
   "metadata": {},
   "outputs": [
    {
     "data": {
      "text/plain": [
       "0      22.000000\n",
       "1      38.000000\n",
       "2      26.000000\n",
       "3      35.000000\n",
       "4      35.000000\n",
       "         ...    \n",
       "886    27.000000\n",
       "887    19.000000\n",
       "888    29.699118\n",
       "889    26.000000\n",
       "890    32.000000\n",
       "Name: Age, Length: 891, dtype: float64"
      ]
     },
     "execution_count": 90,
     "metadata": {},
     "output_type": "execute_result"
    }
   ],
   "source": [
    "titan.Age"
   ]
  },
  {
   "cell_type": "code",
   "execution_count": null,
   "metadata": {},
   "outputs": [],
   "source": []
  },
  {
   "cell_type": "code",
   "execution_count": 91,
   "metadata": {},
   "outputs": [
    {
     "data": {
      "text/html": [
       "<div>\n",
       "<style scoped>\n",
       "    .dataframe tbody tr th:only-of-type {\n",
       "        vertical-align: middle;\n",
       "    }\n",
       "\n",
       "    .dataframe tbody tr th {\n",
       "        vertical-align: top;\n",
       "    }\n",
       "\n",
       "    .dataframe thead th {\n",
       "        text-align: right;\n",
       "    }\n",
       "</style>\n",
       "<table border=\"1\" class=\"dataframe\">\n",
       "  <thead>\n",
       "    <tr style=\"text-align: right;\">\n",
       "      <th></th>\n",
       "      <th>Age</th>\n",
       "      <th>PassengerId</th>\n",
       "      <th>Survived</th>\n",
       "      <th>Pclass</th>\n",
       "      <th>Name</th>\n",
       "      <th>Sex</th>\n",
       "      <th>SibSp</th>\n",
       "      <th>Parch</th>\n",
       "      <th>Fare</th>\n",
       "      <th>Embarked</th>\n",
       "    </tr>\n",
       "  </thead>\n",
       "  <tbody>\n",
       "    <tr>\n",
       "      <th>0</th>\n",
       "      <td>22.0</td>\n",
       "      <td>1</td>\n",
       "      <td>0</td>\n",
       "      <td>3</td>\n",
       "      <td>Braund, Mr. Owen Harris</td>\n",
       "      <td>1</td>\n",
       "      <td>1</td>\n",
       "      <td>0</td>\n",
       "      <td>7.2500</td>\n",
       "      <td>S</td>\n",
       "    </tr>\n",
       "    <tr>\n",
       "      <th>1</th>\n",
       "      <td>38.0</td>\n",
       "      <td>2</td>\n",
       "      <td>1</td>\n",
       "      <td>1</td>\n",
       "      <td>Cumings, Mrs. John Bradley (Florence Briggs Th...</td>\n",
       "      <td>0</td>\n",
       "      <td>1</td>\n",
       "      <td>0</td>\n",
       "      <td>71.2833</td>\n",
       "      <td>C</td>\n",
       "    </tr>\n",
       "  </tbody>\n",
       "</table>\n",
       "</div>"
      ],
      "text/plain": [
       "    Age  PassengerId  Survived  Pclass  \\\n",
       "0  22.0            1         0       3   \n",
       "1  38.0            2         1       1   \n",
       "\n",
       "                                                Name  Sex  SibSp  Parch  \\\n",
       "0                            Braund, Mr. Owen Harris    1      1      0   \n",
       "1  Cumings, Mrs. John Bradley (Florence Briggs Th...    0      1      0   \n",
       "\n",
       "      Fare Embarked  \n",
       "0   7.2500        S  \n",
       "1  71.2833        C  "
      ]
     },
     "execution_count": 91,
     "metadata": {},
     "output_type": "execute_result"
    }
   ],
   "source": [
    "titan.head(2)"
   ]
  },
  {
   "cell_type": "code",
   "execution_count": 92,
   "metadata": {},
   "outputs": [
    {
     "data": {
      "text/plain": [
       "0      0.0\n",
       "1      3.0\n",
       "2      1.0\n",
       "3      3.0\n",
       "4      1.0\n",
       "      ... \n",
       "886    1.0\n",
       "887    2.0\n",
       "888    2.0\n",
       "889    2.0\n",
       "890    0.0\n",
       "Name: Fare, Length: 891, dtype: float64"
      ]
     },
     "execution_count": 92,
     "metadata": {},
     "output_type": "execute_result"
    }
   ],
   "source": [
    "titan.Fare.apply(convert_num)"
   ]
  },
  {
   "cell_type": "code",
   "execution_count": 93,
   "metadata": {},
   "outputs": [
    {
     "data": {
      "text/html": [
       "<div>\n",
       "<style scoped>\n",
       "    .dataframe tbody tr th:only-of-type {\n",
       "        vertical-align: middle;\n",
       "    }\n",
       "\n",
       "    .dataframe tbody tr th {\n",
       "        vertical-align: top;\n",
       "    }\n",
       "\n",
       "    .dataframe thead th {\n",
       "        text-align: right;\n",
       "    }\n",
       "</style>\n",
       "<table border=\"1\" class=\"dataframe\">\n",
       "  <thead>\n",
       "    <tr style=\"text-align: right;\">\n",
       "      <th></th>\n",
       "      <th>Age</th>\n",
       "      <th>PassengerId</th>\n",
       "      <th>Survived</th>\n",
       "      <th>Pclass</th>\n",
       "      <th>Name</th>\n",
       "      <th>Sex</th>\n",
       "      <th>SibSp</th>\n",
       "      <th>Parch</th>\n",
       "      <th>Fare</th>\n",
       "      <th>Embarked</th>\n",
       "    </tr>\n",
       "  </thead>\n",
       "  <tbody>\n",
       "    <tr>\n",
       "      <th>0</th>\n",
       "      <td>22.0</td>\n",
       "      <td>1</td>\n",
       "      <td>0</td>\n",
       "      <td>3</td>\n",
       "      <td>Braund, Mr. Owen Harris</td>\n",
       "      <td>1</td>\n",
       "      <td>1</td>\n",
       "      <td>0</td>\n",
       "      <td>7.2500</td>\n",
       "      <td>S</td>\n",
       "    </tr>\n",
       "    <tr>\n",
       "      <th>1</th>\n",
       "      <td>38.0</td>\n",
       "      <td>2</td>\n",
       "      <td>1</td>\n",
       "      <td>1</td>\n",
       "      <td>Cumings, Mrs. John Bradley (Florence Briggs Th...</td>\n",
       "      <td>0</td>\n",
       "      <td>1</td>\n",
       "      <td>0</td>\n",
       "      <td>71.2833</td>\n",
       "      <td>C</td>\n",
       "    </tr>\n",
       "  </tbody>\n",
       "</table>\n",
       "</div>"
      ],
      "text/plain": [
       "    Age  PassengerId  Survived  Pclass  \\\n",
       "0  22.0            1         0       3   \n",
       "1  38.0            2         1       1   \n",
       "\n",
       "                                                Name  Sex  SibSp  Parch  \\\n",
       "0                            Braund, Mr. Owen Harris    1      1      0   \n",
       "1  Cumings, Mrs. John Bradley (Florence Briggs Th...    0      1      0   \n",
       "\n",
       "      Fare Embarked  \n",
       "0   7.2500        S  \n",
       "1  71.2833        C  "
      ]
     },
     "execution_count": 93,
     "metadata": {},
     "output_type": "execute_result"
    }
   ],
   "source": [
    "titan.head(2)"
   ]
  },
  {
   "cell_type": "code",
   "execution_count": 94,
   "metadata": {},
   "outputs": [
    {
     "data": {
      "text/plain": [
       "0       7.2500\n",
       "1      71.2833\n",
       "2       7.9250\n",
       "3      53.1000\n",
       "4       8.0500\n",
       "        ...   \n",
       "886    13.0000\n",
       "887    30.0000\n",
       "888    23.4500\n",
       "889    30.0000\n",
       "890     7.7500\n",
       "Name: Fare, Length: 891, dtype: float64"
      ]
     },
     "execution_count": 94,
     "metadata": {},
     "output_type": "execute_result"
    }
   ],
   "source": [
    "titan.Fare\n"
   ]
  },
  {
   "cell_type": "code",
   "execution_count": 95,
   "metadata": {},
   "outputs": [],
   "source": [
    "titan.Fare=titan.Fare.apply(convert_num)"
   ]
  },
  {
   "cell_type": "code",
   "execution_count": 96,
   "metadata": {},
   "outputs": [
    {
     "data": {
      "text/plain": [
       "0      0.0\n",
       "1      3.0\n",
       "2      1.0\n",
       "3      3.0\n",
       "4      1.0\n",
       "      ... \n",
       "886    1.0\n",
       "887    2.0\n",
       "888    2.0\n",
       "889    2.0\n",
       "890    0.0\n",
       "Name: Fare, Length: 891, dtype: float64"
      ]
     },
     "execution_count": 96,
     "metadata": {},
     "output_type": "execute_result"
    }
   ],
   "source": [
    "titan.Fare"
   ]
  },
  {
   "cell_type": "code",
   "execution_count": 97,
   "metadata": {},
   "outputs": [
    {
     "data": {
      "text/html": [
       "<div>\n",
       "<style scoped>\n",
       "    .dataframe tbody tr th:only-of-type {\n",
       "        vertical-align: middle;\n",
       "    }\n",
       "\n",
       "    .dataframe tbody tr th {\n",
       "        vertical-align: top;\n",
       "    }\n",
       "\n",
       "    .dataframe thead th {\n",
       "        text-align: right;\n",
       "    }\n",
       "</style>\n",
       "<table border=\"1\" class=\"dataframe\">\n",
       "  <thead>\n",
       "    <tr style=\"text-align: right;\">\n",
       "      <th></th>\n",
       "      <th>Age</th>\n",
       "      <th>PassengerId</th>\n",
       "      <th>Survived</th>\n",
       "      <th>Pclass</th>\n",
       "      <th>Name</th>\n",
       "      <th>Sex</th>\n",
       "      <th>SibSp</th>\n",
       "      <th>Parch</th>\n",
       "      <th>Fare</th>\n",
       "      <th>Embarked</th>\n",
       "    </tr>\n",
       "  </thead>\n",
       "  <tbody>\n",
       "    <tr>\n",
       "      <th>0</th>\n",
       "      <td>22.0</td>\n",
       "      <td>1</td>\n",
       "      <td>0</td>\n",
       "      <td>3</td>\n",
       "      <td>Braund, Mr. Owen Harris</td>\n",
       "      <td>1</td>\n",
       "      <td>1</td>\n",
       "      <td>0</td>\n",
       "      <td>0.0</td>\n",
       "      <td>S</td>\n",
       "    </tr>\n",
       "    <tr>\n",
       "      <th>1</th>\n",
       "      <td>38.0</td>\n",
       "      <td>2</td>\n",
       "      <td>1</td>\n",
       "      <td>1</td>\n",
       "      <td>Cumings, Mrs. John Bradley (Florence Briggs Th...</td>\n",
       "      <td>0</td>\n",
       "      <td>1</td>\n",
       "      <td>0</td>\n",
       "      <td>3.0</td>\n",
       "      <td>C</td>\n",
       "    </tr>\n",
       "    <tr>\n",
       "      <th>2</th>\n",
       "      <td>26.0</td>\n",
       "      <td>3</td>\n",
       "      <td>1</td>\n",
       "      <td>3</td>\n",
       "      <td>Heikkinen, Miss. Laina</td>\n",
       "      <td>0</td>\n",
       "      <td>0</td>\n",
       "      <td>0</td>\n",
       "      <td>1.0</td>\n",
       "      <td>S</td>\n",
       "    </tr>\n",
       "    <tr>\n",
       "      <th>3</th>\n",
       "      <td>35.0</td>\n",
       "      <td>4</td>\n",
       "      <td>1</td>\n",
       "      <td>1</td>\n",
       "      <td>Futrelle, Mrs. Jacques Heath (Lily May Peel)</td>\n",
       "      <td>0</td>\n",
       "      <td>1</td>\n",
       "      <td>0</td>\n",
       "      <td>3.0</td>\n",
       "      <td>S</td>\n",
       "    </tr>\n",
       "    <tr>\n",
       "      <th>4</th>\n",
       "      <td>35.0</td>\n",
       "      <td>5</td>\n",
       "      <td>0</td>\n",
       "      <td>3</td>\n",
       "      <td>Allen, Mr. William Henry</td>\n",
       "      <td>1</td>\n",
       "      <td>0</td>\n",
       "      <td>0</td>\n",
       "      <td>1.0</td>\n",
       "      <td>S</td>\n",
       "    </tr>\n",
       "  </tbody>\n",
       "</table>\n",
       "</div>"
      ],
      "text/plain": [
       "    Age  PassengerId  Survived  Pclass  \\\n",
       "0  22.0            1         0       3   \n",
       "1  38.0            2         1       1   \n",
       "2  26.0            3         1       3   \n",
       "3  35.0            4         1       1   \n",
       "4  35.0            5         0       3   \n",
       "\n",
       "                                                Name  Sex  SibSp  Parch  Fare  \\\n",
       "0                            Braund, Mr. Owen Harris    1      1      0   0.0   \n",
       "1  Cumings, Mrs. John Bradley (Florence Briggs Th...    0      1      0   3.0   \n",
       "2                             Heikkinen, Miss. Laina    0      0      0   1.0   \n",
       "3       Futrelle, Mrs. Jacques Heath (Lily May Peel)    0      1      0   3.0   \n",
       "4                           Allen, Mr. William Henry    1      0      0   1.0   \n",
       "\n",
       "  Embarked  \n",
       "0        S  \n",
       "1        C  \n",
       "2        S  \n",
       "3        S  \n",
       "4        S  "
      ]
     },
     "execution_count": 97,
     "metadata": {},
     "output_type": "execute_result"
    }
   ],
   "source": [
    "titan.head()"
   ]
  },
  {
   "cell_type": "code",
   "execution_count": 98,
   "metadata": {},
   "outputs": [
    {
     "data": {
      "text/plain": [
       "(891, 10)"
      ]
     },
     "execution_count": 98,
     "metadata": {},
     "output_type": "execute_result"
    }
   ],
   "source": [
    "titan.shape"
   ]
  },
  {
   "cell_type": "code",
   "execution_count": 99,
   "metadata": {},
   "outputs": [],
   "source": [
    "from sklearn.linear_model import LogisticRegression\n",
    "from sklearn.tree import DecisionTreeClassifier\n",
    "from sklearn.feature_selection import SelectKBest\n",
    "from sklearn.feature_selection import chi2\n",
    "from sklearn.feature_selection import RFE\n",
    "from sklearn.ensemble import ExtraTreesClassifier\n",
    "from sklearn.svm import SVC, LinearSVC\n",
    "from sklearn.neighbors import KNeighborsClassifier\n",
    "from sklearn.naive_bayes import GaussianNB\n",
    "from sklearn.linear_model import Perceptron\n",
    "from sklearn.linear_model import SGDClassifier\n",
    "from sklearn.feature_selection import SelectKBest, chi2, f_classif\n",
    "from io import StringIO\n",
    "import sklearn.tree as tree\n",
    "\n",
    "\n",
    "from sklearn.model_selection import cross_val_score\n",
    "from sklearn.ensemble import RandomForestClassifier"
   ]
  },
  {
   "cell_type": "code",
   "execution_count": 100,
   "metadata": {},
   "outputs": [
    {
     "data": {
      "text/html": [
       "<div>\n",
       "<style scoped>\n",
       "    .dataframe tbody tr th:only-of-type {\n",
       "        vertical-align: middle;\n",
       "    }\n",
       "\n",
       "    .dataframe tbody tr th {\n",
       "        vertical-align: top;\n",
       "    }\n",
       "\n",
       "    .dataframe thead th {\n",
       "        text-align: right;\n",
       "    }\n",
       "</style>\n",
       "<table border=\"1\" class=\"dataframe\">\n",
       "  <thead>\n",
       "    <tr style=\"text-align: right;\">\n",
       "      <th></th>\n",
       "      <th>PassengerId</th>\n",
       "      <th>Pclass</th>\n",
       "      <th>Name</th>\n",
       "      <th>Sex</th>\n",
       "      <th>Age</th>\n",
       "      <th>SibSp</th>\n",
       "      <th>Parch</th>\n",
       "      <th>Fare</th>\n",
       "      <th>Embarked</th>\n",
       "    </tr>\n",
       "  </thead>\n",
       "  <tbody>\n",
       "    <tr>\n",
       "      <th>0</th>\n",
       "      <td>892</td>\n",
       "      <td>3</td>\n",
       "      <td>Kelly, Mr. James</td>\n",
       "      <td>male</td>\n",
       "      <td>34.5</td>\n",
       "      <td>0</td>\n",
       "      <td>0</td>\n",
       "      <td>7.8292</td>\n",
       "      <td>Q</td>\n",
       "    </tr>\n",
       "    <tr>\n",
       "      <th>1</th>\n",
       "      <td>893</td>\n",
       "      <td>3</td>\n",
       "      <td>Wilkes, Mrs. James (Ellen Needs)</td>\n",
       "      <td>female</td>\n",
       "      <td>47.0</td>\n",
       "      <td>1</td>\n",
       "      <td>0</td>\n",
       "      <td>7.0000</td>\n",
       "      <td>S</td>\n",
       "    </tr>\n",
       "  </tbody>\n",
       "</table>\n",
       "</div>"
      ],
      "text/plain": [
       "   PassengerId  Pclass                              Name     Sex   Age  SibSp  \\\n",
       "0          892       3                  Kelly, Mr. James    male  34.5      0   \n",
       "1          893       3  Wilkes, Mrs. James (Ellen Needs)  female  47.0      1   \n",
       "\n",
       "   Parch    Fare Embarked  \n",
       "0      0  7.8292        Q  \n",
       "1      0  7.0000        S  "
      ]
     },
     "execution_count": 100,
     "metadata": {},
     "output_type": "execute_result"
    }
   ],
   "source": [
    "titantest.head(2)"
   ]
  },
  {
   "cell_type": "code",
   "execution_count": 101,
   "metadata": {},
   "outputs": [],
   "source": [
    "titantest.Fare=titantest.Fare.apply(convert_num)"
   ]
  },
  {
   "cell_type": "code",
   "execution_count": 102,
   "metadata": {},
   "outputs": [
    {
     "data": {
      "text/plain": [
       "0      0.0\n",
       "1      0.0\n",
       "2      1.0\n",
       "3      1.0\n",
       "4      1.0\n",
       "      ... \n",
       "413    1.0\n",
       "414    3.0\n",
       "415    0.0\n",
       "416    1.0\n",
       "417    2.0\n",
       "Name: Fare, Length: 418, dtype: float64"
      ]
     },
     "execution_count": 102,
     "metadata": {},
     "output_type": "execute_result"
    }
   ],
   "source": [
    "titantest.Fare"
   ]
  },
  {
   "cell_type": "code",
   "execution_count": null,
   "metadata": {},
   "outputs": [],
   "source": []
  },
  {
   "cell_type": "code",
   "execution_count": null,
   "metadata": {},
   "outputs": [],
   "source": [
    "\n"
   ]
  },
  {
   "cell_type": "code",
   "execution_count": 103,
   "metadata": {},
   "outputs": [
    {
     "data": {
      "text/html": [
       "<div>\n",
       "<style scoped>\n",
       "    .dataframe tbody tr th:only-of-type {\n",
       "        vertical-align: middle;\n",
       "    }\n",
       "\n",
       "    .dataframe tbody tr th {\n",
       "        vertical-align: top;\n",
       "    }\n",
       "\n",
       "    .dataframe thead th {\n",
       "        text-align: right;\n",
       "    }\n",
       "</style>\n",
       "<table border=\"1\" class=\"dataframe\">\n",
       "  <thead>\n",
       "    <tr style=\"text-align: right;\">\n",
       "      <th></th>\n",
       "      <th>Age</th>\n",
       "      <th>PassengerId</th>\n",
       "      <th>Survived</th>\n",
       "      <th>Pclass</th>\n",
       "      <th>Name</th>\n",
       "      <th>Sex</th>\n",
       "      <th>SibSp</th>\n",
       "      <th>Parch</th>\n",
       "      <th>Fare</th>\n",
       "      <th>Embarked</th>\n",
       "    </tr>\n",
       "  </thead>\n",
       "  <tbody>\n",
       "    <tr>\n",
       "      <th>0</th>\n",
       "      <td>22.000000</td>\n",
       "      <td>1</td>\n",
       "      <td>0</td>\n",
       "      <td>3</td>\n",
       "      <td>Braund, Mr. Owen Harris</td>\n",
       "      <td>1</td>\n",
       "      <td>1</td>\n",
       "      <td>0</td>\n",
       "      <td>0.0</td>\n",
       "      <td>S</td>\n",
       "    </tr>\n",
       "    <tr>\n",
       "      <th>1</th>\n",
       "      <td>38.000000</td>\n",
       "      <td>2</td>\n",
       "      <td>1</td>\n",
       "      <td>1</td>\n",
       "      <td>Cumings, Mrs. John Bradley (Florence Briggs Th...</td>\n",
       "      <td>0</td>\n",
       "      <td>1</td>\n",
       "      <td>0</td>\n",
       "      <td>3.0</td>\n",
       "      <td>C</td>\n",
       "    </tr>\n",
       "    <tr>\n",
       "      <th>2</th>\n",
       "      <td>26.000000</td>\n",
       "      <td>3</td>\n",
       "      <td>1</td>\n",
       "      <td>3</td>\n",
       "      <td>Heikkinen, Miss. Laina</td>\n",
       "      <td>0</td>\n",
       "      <td>0</td>\n",
       "      <td>0</td>\n",
       "      <td>1.0</td>\n",
       "      <td>S</td>\n",
       "    </tr>\n",
       "    <tr>\n",
       "      <th>3</th>\n",
       "      <td>35.000000</td>\n",
       "      <td>4</td>\n",
       "      <td>1</td>\n",
       "      <td>1</td>\n",
       "      <td>Futrelle, Mrs. Jacques Heath (Lily May Peel)</td>\n",
       "      <td>0</td>\n",
       "      <td>1</td>\n",
       "      <td>0</td>\n",
       "      <td>3.0</td>\n",
       "      <td>S</td>\n",
       "    </tr>\n",
       "    <tr>\n",
       "      <th>4</th>\n",
       "      <td>35.000000</td>\n",
       "      <td>5</td>\n",
       "      <td>0</td>\n",
       "      <td>3</td>\n",
       "      <td>Allen, Mr. William Henry</td>\n",
       "      <td>1</td>\n",
       "      <td>0</td>\n",
       "      <td>0</td>\n",
       "      <td>1.0</td>\n",
       "      <td>S</td>\n",
       "    </tr>\n",
       "    <tr>\n",
       "      <th>...</th>\n",
       "      <td>...</td>\n",
       "      <td>...</td>\n",
       "      <td>...</td>\n",
       "      <td>...</td>\n",
       "      <td>...</td>\n",
       "      <td>...</td>\n",
       "      <td>...</td>\n",
       "      <td>...</td>\n",
       "      <td>...</td>\n",
       "      <td>...</td>\n",
       "    </tr>\n",
       "    <tr>\n",
       "      <th>886</th>\n",
       "      <td>27.000000</td>\n",
       "      <td>887</td>\n",
       "      <td>0</td>\n",
       "      <td>2</td>\n",
       "      <td>Montvila, Rev. Juozas</td>\n",
       "      <td>1</td>\n",
       "      <td>0</td>\n",
       "      <td>0</td>\n",
       "      <td>1.0</td>\n",
       "      <td>S</td>\n",
       "    </tr>\n",
       "    <tr>\n",
       "      <th>887</th>\n",
       "      <td>19.000000</td>\n",
       "      <td>888</td>\n",
       "      <td>1</td>\n",
       "      <td>1</td>\n",
       "      <td>Graham, Miss. Margaret Edith</td>\n",
       "      <td>0</td>\n",
       "      <td>0</td>\n",
       "      <td>0</td>\n",
       "      <td>2.0</td>\n",
       "      <td>S</td>\n",
       "    </tr>\n",
       "    <tr>\n",
       "      <th>888</th>\n",
       "      <td>29.699118</td>\n",
       "      <td>889</td>\n",
       "      <td>0</td>\n",
       "      <td>3</td>\n",
       "      <td>Johnston, Miss. Catherine Helen \"Carrie\"</td>\n",
       "      <td>0</td>\n",
       "      <td>1</td>\n",
       "      <td>2</td>\n",
       "      <td>2.0</td>\n",
       "      <td>S</td>\n",
       "    </tr>\n",
       "    <tr>\n",
       "      <th>889</th>\n",
       "      <td>26.000000</td>\n",
       "      <td>890</td>\n",
       "      <td>1</td>\n",
       "      <td>1</td>\n",
       "      <td>Behr, Mr. Karl Howell</td>\n",
       "      <td>1</td>\n",
       "      <td>0</td>\n",
       "      <td>0</td>\n",
       "      <td>2.0</td>\n",
       "      <td>C</td>\n",
       "    </tr>\n",
       "    <tr>\n",
       "      <th>890</th>\n",
       "      <td>32.000000</td>\n",
       "      <td>891</td>\n",
       "      <td>0</td>\n",
       "      <td>3</td>\n",
       "      <td>Dooley, Mr. Patrick</td>\n",
       "      <td>1</td>\n",
       "      <td>0</td>\n",
       "      <td>0</td>\n",
       "      <td>0.0</td>\n",
       "      <td>Q</td>\n",
       "    </tr>\n",
       "  </tbody>\n",
       "</table>\n",
       "<p>891 rows × 10 columns</p>\n",
       "</div>"
      ],
      "text/plain": [
       "           Age  PassengerId  Survived  Pclass  \\\n",
       "0    22.000000            1         0       3   \n",
       "1    38.000000            2         1       1   \n",
       "2    26.000000            3         1       3   \n",
       "3    35.000000            4         1       1   \n",
       "4    35.000000            5         0       3   \n",
       "..         ...          ...       ...     ...   \n",
       "886  27.000000          887         0       2   \n",
       "887  19.000000          888         1       1   \n",
       "888  29.699118          889         0       3   \n",
       "889  26.000000          890         1       1   \n",
       "890  32.000000          891         0       3   \n",
       "\n",
       "                                                  Name  Sex  SibSp  Parch  \\\n",
       "0                              Braund, Mr. Owen Harris    1      1      0   \n",
       "1    Cumings, Mrs. John Bradley (Florence Briggs Th...    0      1      0   \n",
       "2                               Heikkinen, Miss. Laina    0      0      0   \n",
       "3         Futrelle, Mrs. Jacques Heath (Lily May Peel)    0      1      0   \n",
       "4                             Allen, Mr. William Henry    1      0      0   \n",
       "..                                                 ...  ...    ...    ...   \n",
       "886                              Montvila, Rev. Juozas    1      0      0   \n",
       "887                       Graham, Miss. Margaret Edith    0      0      0   \n",
       "888           Johnston, Miss. Catherine Helen \"Carrie\"    0      1      2   \n",
       "889                              Behr, Mr. Karl Howell    1      0      0   \n",
       "890                                Dooley, Mr. Patrick    1      0      0   \n",
       "\n",
       "     Fare Embarked  \n",
       "0     0.0        S  \n",
       "1     3.0        C  \n",
       "2     1.0        S  \n",
       "3     3.0        S  \n",
       "4     1.0        S  \n",
       "..    ...      ...  \n",
       "886   1.0        S  \n",
       "887   2.0        S  \n",
       "888   2.0        S  \n",
       "889   2.0        C  \n",
       "890   0.0        Q  \n",
       "\n",
       "[891 rows x 10 columns]"
      ]
     },
     "execution_count": 103,
     "metadata": {},
     "output_type": "execute_result"
    }
   ],
   "source": [
    "titan"
   ]
  },
  {
   "cell_type": "code",
   "execution_count": 104,
   "metadata": {},
   "outputs": [
    {
     "data": {
      "text/html": [
       "<div>\n",
       "<style scoped>\n",
       "    .dataframe tbody tr th:only-of-type {\n",
       "        vertical-align: middle;\n",
       "    }\n",
       "\n",
       "    .dataframe tbody tr th {\n",
       "        vertical-align: top;\n",
       "    }\n",
       "\n",
       "    .dataframe thead th {\n",
       "        text-align: right;\n",
       "    }\n",
       "</style>\n",
       "<table border=\"1\" class=\"dataframe\">\n",
       "  <thead>\n",
       "    <tr style=\"text-align: right;\">\n",
       "      <th></th>\n",
       "      <th>PassengerId</th>\n",
       "      <th>Pclass</th>\n",
       "      <th>Name</th>\n",
       "      <th>Sex</th>\n",
       "      <th>Age</th>\n",
       "      <th>SibSp</th>\n",
       "      <th>Parch</th>\n",
       "      <th>Fare</th>\n",
       "      <th>Embarked</th>\n",
       "    </tr>\n",
       "  </thead>\n",
       "  <tbody>\n",
       "    <tr>\n",
       "      <th>0</th>\n",
       "      <td>892</td>\n",
       "      <td>3</td>\n",
       "      <td>Kelly, Mr. James</td>\n",
       "      <td>male</td>\n",
       "      <td>34.5</td>\n",
       "      <td>0</td>\n",
       "      <td>0</td>\n",
       "      <td>0.0</td>\n",
       "      <td>Q</td>\n",
       "    </tr>\n",
       "    <tr>\n",
       "      <th>1</th>\n",
       "      <td>893</td>\n",
       "      <td>3</td>\n",
       "      <td>Wilkes, Mrs. James (Ellen Needs)</td>\n",
       "      <td>female</td>\n",
       "      <td>47.0</td>\n",
       "      <td>1</td>\n",
       "      <td>0</td>\n",
       "      <td>0.0</td>\n",
       "      <td>S</td>\n",
       "    </tr>\n",
       "    <tr>\n",
       "      <th>2</th>\n",
       "      <td>894</td>\n",
       "      <td>2</td>\n",
       "      <td>Myles, Mr. Thomas Francis</td>\n",
       "      <td>male</td>\n",
       "      <td>62.0</td>\n",
       "      <td>0</td>\n",
       "      <td>0</td>\n",
       "      <td>1.0</td>\n",
       "      <td>Q</td>\n",
       "    </tr>\n",
       "    <tr>\n",
       "      <th>3</th>\n",
       "      <td>895</td>\n",
       "      <td>3</td>\n",
       "      <td>Wirz, Mr. Albert</td>\n",
       "      <td>male</td>\n",
       "      <td>27.0</td>\n",
       "      <td>0</td>\n",
       "      <td>0</td>\n",
       "      <td>1.0</td>\n",
       "      <td>S</td>\n",
       "    </tr>\n",
       "    <tr>\n",
       "      <th>4</th>\n",
       "      <td>896</td>\n",
       "      <td>3</td>\n",
       "      <td>Hirvonen, Mrs. Alexander (Helga E Lindqvist)</td>\n",
       "      <td>female</td>\n",
       "      <td>22.0</td>\n",
       "      <td>1</td>\n",
       "      <td>1</td>\n",
       "      <td>1.0</td>\n",
       "      <td>S</td>\n",
       "    </tr>\n",
       "    <tr>\n",
       "      <th>...</th>\n",
       "      <td>...</td>\n",
       "      <td>...</td>\n",
       "      <td>...</td>\n",
       "      <td>...</td>\n",
       "      <td>...</td>\n",
       "      <td>...</td>\n",
       "      <td>...</td>\n",
       "      <td>...</td>\n",
       "      <td>...</td>\n",
       "    </tr>\n",
       "    <tr>\n",
       "      <th>413</th>\n",
       "      <td>1305</td>\n",
       "      <td>3</td>\n",
       "      <td>Spector, Mr. Woolf</td>\n",
       "      <td>male</td>\n",
       "      <td>NaN</td>\n",
       "      <td>0</td>\n",
       "      <td>0</td>\n",
       "      <td>1.0</td>\n",
       "      <td>S</td>\n",
       "    </tr>\n",
       "    <tr>\n",
       "      <th>414</th>\n",
       "      <td>1306</td>\n",
       "      <td>1</td>\n",
       "      <td>Oliva y Ocana, Dona. Fermina</td>\n",
       "      <td>female</td>\n",
       "      <td>39.0</td>\n",
       "      <td>0</td>\n",
       "      <td>0</td>\n",
       "      <td>3.0</td>\n",
       "      <td>C</td>\n",
       "    </tr>\n",
       "    <tr>\n",
       "      <th>415</th>\n",
       "      <td>1307</td>\n",
       "      <td>3</td>\n",
       "      <td>Saether, Mr. Simon Sivertsen</td>\n",
       "      <td>male</td>\n",
       "      <td>38.5</td>\n",
       "      <td>0</td>\n",
       "      <td>0</td>\n",
       "      <td>0.0</td>\n",
       "      <td>S</td>\n",
       "    </tr>\n",
       "    <tr>\n",
       "      <th>416</th>\n",
       "      <td>1308</td>\n",
       "      <td>3</td>\n",
       "      <td>Ware, Mr. Frederick</td>\n",
       "      <td>male</td>\n",
       "      <td>NaN</td>\n",
       "      <td>0</td>\n",
       "      <td>0</td>\n",
       "      <td>1.0</td>\n",
       "      <td>S</td>\n",
       "    </tr>\n",
       "    <tr>\n",
       "      <th>417</th>\n",
       "      <td>1309</td>\n",
       "      <td>3</td>\n",
       "      <td>Peter, Master. Michael J</td>\n",
       "      <td>male</td>\n",
       "      <td>NaN</td>\n",
       "      <td>1</td>\n",
       "      <td>1</td>\n",
       "      <td>2.0</td>\n",
       "      <td>C</td>\n",
       "    </tr>\n",
       "  </tbody>\n",
       "</table>\n",
       "<p>418 rows × 9 columns</p>\n",
       "</div>"
      ],
      "text/plain": [
       "     PassengerId  Pclass                                          Name  \\\n",
       "0            892       3                              Kelly, Mr. James   \n",
       "1            893       3              Wilkes, Mrs. James (Ellen Needs)   \n",
       "2            894       2                     Myles, Mr. Thomas Francis   \n",
       "3            895       3                              Wirz, Mr. Albert   \n",
       "4            896       3  Hirvonen, Mrs. Alexander (Helga E Lindqvist)   \n",
       "..           ...     ...                                           ...   \n",
       "413         1305       3                            Spector, Mr. Woolf   \n",
       "414         1306       1                  Oliva y Ocana, Dona. Fermina   \n",
       "415         1307       3                  Saether, Mr. Simon Sivertsen   \n",
       "416         1308       3                           Ware, Mr. Frederick   \n",
       "417         1309       3                      Peter, Master. Michael J   \n",
       "\n",
       "        Sex   Age  SibSp  Parch  Fare Embarked  \n",
       "0      male  34.5      0      0   0.0        Q  \n",
       "1    female  47.0      1      0   0.0        S  \n",
       "2      male  62.0      0      0   1.0        Q  \n",
       "3      male  27.0      0      0   1.0        S  \n",
       "4    female  22.0      1      1   1.0        S  \n",
       "..      ...   ...    ...    ...   ...      ...  \n",
       "413    male   NaN      0      0   1.0        S  \n",
       "414  female  39.0      0      0   3.0        C  \n",
       "415    male  38.5      0      0   0.0        S  \n",
       "416    male   NaN      0      0   1.0        S  \n",
       "417    male   NaN      1      1   2.0        C  \n",
       "\n",
       "[418 rows x 9 columns]"
      ]
     },
     "execution_count": 104,
     "metadata": {},
     "output_type": "execute_result"
    }
   ],
   "source": [
    "titantest"
   ]
  },
  {
   "cell_type": "code",
   "execution_count": 105,
   "metadata": {},
   "outputs": [],
   "source": [
    "titan = titan.drop(['Name','Embarked'], axis=1)"
   ]
  },
  {
   "cell_type": "code",
   "execution_count": 106,
   "metadata": {},
   "outputs": [
    {
     "data": {
      "text/html": [
       "<div>\n",
       "<style scoped>\n",
       "    .dataframe tbody tr th:only-of-type {\n",
       "        vertical-align: middle;\n",
       "    }\n",
       "\n",
       "    .dataframe tbody tr th {\n",
       "        vertical-align: top;\n",
       "    }\n",
       "\n",
       "    .dataframe thead th {\n",
       "        text-align: right;\n",
       "    }\n",
       "</style>\n",
       "<table border=\"1\" class=\"dataframe\">\n",
       "  <thead>\n",
       "    <tr style=\"text-align: right;\">\n",
       "      <th></th>\n",
       "      <th>Age</th>\n",
       "      <th>PassengerId</th>\n",
       "      <th>Survived</th>\n",
       "      <th>Pclass</th>\n",
       "      <th>Sex</th>\n",
       "      <th>SibSp</th>\n",
       "      <th>Parch</th>\n",
       "      <th>Fare</th>\n",
       "    </tr>\n",
       "  </thead>\n",
       "  <tbody>\n",
       "    <tr>\n",
       "      <th>0</th>\n",
       "      <td>22.000000</td>\n",
       "      <td>1</td>\n",
       "      <td>0</td>\n",
       "      <td>3</td>\n",
       "      <td>1</td>\n",
       "      <td>1</td>\n",
       "      <td>0</td>\n",
       "      <td>0.0</td>\n",
       "    </tr>\n",
       "    <tr>\n",
       "      <th>1</th>\n",
       "      <td>38.000000</td>\n",
       "      <td>2</td>\n",
       "      <td>1</td>\n",
       "      <td>1</td>\n",
       "      <td>0</td>\n",
       "      <td>1</td>\n",
       "      <td>0</td>\n",
       "      <td>3.0</td>\n",
       "    </tr>\n",
       "    <tr>\n",
       "      <th>2</th>\n",
       "      <td>26.000000</td>\n",
       "      <td>3</td>\n",
       "      <td>1</td>\n",
       "      <td>3</td>\n",
       "      <td>0</td>\n",
       "      <td>0</td>\n",
       "      <td>0</td>\n",
       "      <td>1.0</td>\n",
       "    </tr>\n",
       "    <tr>\n",
       "      <th>3</th>\n",
       "      <td>35.000000</td>\n",
       "      <td>4</td>\n",
       "      <td>1</td>\n",
       "      <td>1</td>\n",
       "      <td>0</td>\n",
       "      <td>1</td>\n",
       "      <td>0</td>\n",
       "      <td>3.0</td>\n",
       "    </tr>\n",
       "    <tr>\n",
       "      <th>4</th>\n",
       "      <td>35.000000</td>\n",
       "      <td>5</td>\n",
       "      <td>0</td>\n",
       "      <td>3</td>\n",
       "      <td>1</td>\n",
       "      <td>0</td>\n",
       "      <td>0</td>\n",
       "      <td>1.0</td>\n",
       "    </tr>\n",
       "    <tr>\n",
       "      <th>...</th>\n",
       "      <td>...</td>\n",
       "      <td>...</td>\n",
       "      <td>...</td>\n",
       "      <td>...</td>\n",
       "      <td>...</td>\n",
       "      <td>...</td>\n",
       "      <td>...</td>\n",
       "      <td>...</td>\n",
       "    </tr>\n",
       "    <tr>\n",
       "      <th>886</th>\n",
       "      <td>27.000000</td>\n",
       "      <td>887</td>\n",
       "      <td>0</td>\n",
       "      <td>2</td>\n",
       "      <td>1</td>\n",
       "      <td>0</td>\n",
       "      <td>0</td>\n",
       "      <td>1.0</td>\n",
       "    </tr>\n",
       "    <tr>\n",
       "      <th>887</th>\n",
       "      <td>19.000000</td>\n",
       "      <td>888</td>\n",
       "      <td>1</td>\n",
       "      <td>1</td>\n",
       "      <td>0</td>\n",
       "      <td>0</td>\n",
       "      <td>0</td>\n",
       "      <td>2.0</td>\n",
       "    </tr>\n",
       "    <tr>\n",
       "      <th>888</th>\n",
       "      <td>29.699118</td>\n",
       "      <td>889</td>\n",
       "      <td>0</td>\n",
       "      <td>3</td>\n",
       "      <td>0</td>\n",
       "      <td>1</td>\n",
       "      <td>2</td>\n",
       "      <td>2.0</td>\n",
       "    </tr>\n",
       "    <tr>\n",
       "      <th>889</th>\n",
       "      <td>26.000000</td>\n",
       "      <td>890</td>\n",
       "      <td>1</td>\n",
       "      <td>1</td>\n",
       "      <td>1</td>\n",
       "      <td>0</td>\n",
       "      <td>0</td>\n",
       "      <td>2.0</td>\n",
       "    </tr>\n",
       "    <tr>\n",
       "      <th>890</th>\n",
       "      <td>32.000000</td>\n",
       "      <td>891</td>\n",
       "      <td>0</td>\n",
       "      <td>3</td>\n",
       "      <td>1</td>\n",
       "      <td>0</td>\n",
       "      <td>0</td>\n",
       "      <td>0.0</td>\n",
       "    </tr>\n",
       "  </tbody>\n",
       "</table>\n",
       "<p>891 rows × 8 columns</p>\n",
       "</div>"
      ],
      "text/plain": [
       "           Age  PassengerId  Survived  Pclass  Sex  SibSp  Parch  Fare\n",
       "0    22.000000            1         0       3    1      1      0   0.0\n",
       "1    38.000000            2         1       1    0      1      0   3.0\n",
       "2    26.000000            3         1       3    0      0      0   1.0\n",
       "3    35.000000            4         1       1    0      1      0   3.0\n",
       "4    35.000000            5         0       3    1      0      0   1.0\n",
       "..         ...          ...       ...     ...  ...    ...    ...   ...\n",
       "886  27.000000          887         0       2    1      0      0   1.0\n",
       "887  19.000000          888         1       1    0      0      0   2.0\n",
       "888  29.699118          889         0       3    0      1      2   2.0\n",
       "889  26.000000          890         1       1    1      0      0   2.0\n",
       "890  32.000000          891         0       3    1      0      0   0.0\n",
       "\n",
       "[891 rows x 8 columns]"
      ]
     },
     "execution_count": 106,
     "metadata": {},
     "output_type": "execute_result"
    }
   ],
   "source": [
    "titan"
   ]
  },
  {
   "cell_type": "code",
   "execution_count": 107,
   "metadata": {},
   "outputs": [],
   "source": [
    "y= titan[\"Survived\"]"
   ]
  },
  {
   "cell_type": "code",
   "execution_count": 108,
   "metadata": {},
   "outputs": [],
   "source": [
    "titan = titan.drop([\"Survived\"], axis=1)"
   ]
  },
  {
   "cell_type": "code",
   "execution_count": 109,
   "metadata": {},
   "outputs": [],
   "source": [
    "x = titan"
   ]
  },
  {
   "cell_type": "code",
   "execution_count": 110,
   "metadata": {},
   "outputs": [
    {
     "data": {
      "text/html": [
       "<div>\n",
       "<style scoped>\n",
       "    .dataframe tbody tr th:only-of-type {\n",
       "        vertical-align: middle;\n",
       "    }\n",
       "\n",
       "    .dataframe tbody tr th {\n",
       "        vertical-align: top;\n",
       "    }\n",
       "\n",
       "    .dataframe thead th {\n",
       "        text-align: right;\n",
       "    }\n",
       "</style>\n",
       "<table border=\"1\" class=\"dataframe\">\n",
       "  <thead>\n",
       "    <tr style=\"text-align: right;\">\n",
       "      <th></th>\n",
       "      <th>Age</th>\n",
       "      <th>PassengerId</th>\n",
       "      <th>Pclass</th>\n",
       "      <th>Sex</th>\n",
       "      <th>SibSp</th>\n",
       "      <th>Parch</th>\n",
       "      <th>Fare</th>\n",
       "    </tr>\n",
       "  </thead>\n",
       "  <tbody>\n",
       "    <tr>\n",
       "      <th>0</th>\n",
       "      <td>22.000000</td>\n",
       "      <td>1</td>\n",
       "      <td>3</td>\n",
       "      <td>1</td>\n",
       "      <td>1</td>\n",
       "      <td>0</td>\n",
       "      <td>0.0</td>\n",
       "    </tr>\n",
       "    <tr>\n",
       "      <th>1</th>\n",
       "      <td>38.000000</td>\n",
       "      <td>2</td>\n",
       "      <td>1</td>\n",
       "      <td>0</td>\n",
       "      <td>1</td>\n",
       "      <td>0</td>\n",
       "      <td>3.0</td>\n",
       "    </tr>\n",
       "    <tr>\n",
       "      <th>2</th>\n",
       "      <td>26.000000</td>\n",
       "      <td>3</td>\n",
       "      <td>3</td>\n",
       "      <td>0</td>\n",
       "      <td>0</td>\n",
       "      <td>0</td>\n",
       "      <td>1.0</td>\n",
       "    </tr>\n",
       "    <tr>\n",
       "      <th>3</th>\n",
       "      <td>35.000000</td>\n",
       "      <td>4</td>\n",
       "      <td>1</td>\n",
       "      <td>0</td>\n",
       "      <td>1</td>\n",
       "      <td>0</td>\n",
       "      <td>3.0</td>\n",
       "    </tr>\n",
       "    <tr>\n",
       "      <th>4</th>\n",
       "      <td>35.000000</td>\n",
       "      <td>5</td>\n",
       "      <td>3</td>\n",
       "      <td>1</td>\n",
       "      <td>0</td>\n",
       "      <td>0</td>\n",
       "      <td>1.0</td>\n",
       "    </tr>\n",
       "    <tr>\n",
       "      <th>...</th>\n",
       "      <td>...</td>\n",
       "      <td>...</td>\n",
       "      <td>...</td>\n",
       "      <td>...</td>\n",
       "      <td>...</td>\n",
       "      <td>...</td>\n",
       "      <td>...</td>\n",
       "    </tr>\n",
       "    <tr>\n",
       "      <th>886</th>\n",
       "      <td>27.000000</td>\n",
       "      <td>887</td>\n",
       "      <td>2</td>\n",
       "      <td>1</td>\n",
       "      <td>0</td>\n",
       "      <td>0</td>\n",
       "      <td>1.0</td>\n",
       "    </tr>\n",
       "    <tr>\n",
       "      <th>887</th>\n",
       "      <td>19.000000</td>\n",
       "      <td>888</td>\n",
       "      <td>1</td>\n",
       "      <td>0</td>\n",
       "      <td>0</td>\n",
       "      <td>0</td>\n",
       "      <td>2.0</td>\n",
       "    </tr>\n",
       "    <tr>\n",
       "      <th>888</th>\n",
       "      <td>29.699118</td>\n",
       "      <td>889</td>\n",
       "      <td>3</td>\n",
       "      <td>0</td>\n",
       "      <td>1</td>\n",
       "      <td>2</td>\n",
       "      <td>2.0</td>\n",
       "    </tr>\n",
       "    <tr>\n",
       "      <th>889</th>\n",
       "      <td>26.000000</td>\n",
       "      <td>890</td>\n",
       "      <td>1</td>\n",
       "      <td>1</td>\n",
       "      <td>0</td>\n",
       "      <td>0</td>\n",
       "      <td>2.0</td>\n",
       "    </tr>\n",
       "    <tr>\n",
       "      <th>890</th>\n",
       "      <td>32.000000</td>\n",
       "      <td>891</td>\n",
       "      <td>3</td>\n",
       "      <td>1</td>\n",
       "      <td>0</td>\n",
       "      <td>0</td>\n",
       "      <td>0.0</td>\n",
       "    </tr>\n",
       "  </tbody>\n",
       "</table>\n",
       "<p>891 rows × 7 columns</p>\n",
       "</div>"
      ],
      "text/plain": [
       "           Age  PassengerId  Pclass  Sex  SibSp  Parch  Fare\n",
       "0    22.000000            1       3    1      1      0   0.0\n",
       "1    38.000000            2       1    0      1      0   3.0\n",
       "2    26.000000            3       3    0      0      0   1.0\n",
       "3    35.000000            4       1    0      1      0   3.0\n",
       "4    35.000000            5       3    1      0      0   1.0\n",
       "..         ...          ...     ...  ...    ...    ...   ...\n",
       "886  27.000000          887       2    1      0      0   1.0\n",
       "887  19.000000          888       1    0      0      0   2.0\n",
       "888  29.699118          889       3    0      1      2   2.0\n",
       "889  26.000000          890       1    1      0      0   2.0\n",
       "890  32.000000          891       3    1      0      0   0.0\n",
       "\n",
       "[891 rows x 7 columns]"
      ]
     },
     "execution_count": 110,
     "metadata": {},
     "output_type": "execute_result"
    }
   ],
   "source": [
    "x"
   ]
  },
  {
   "cell_type": "code",
   "execution_count": 111,
   "metadata": {},
   "outputs": [
    {
     "data": {
      "text/plain": [
       "0      0\n",
       "1      1\n",
       "2      1\n",
       "3      1\n",
       "4      0\n",
       "      ..\n",
       "886    0\n",
       "887    1\n",
       "888    0\n",
       "889    1\n",
       "890    0\n",
       "Name: Survived, Length: 891, dtype: int64"
      ]
     },
     "execution_count": 111,
     "metadata": {},
     "output_type": "execute_result"
    }
   ],
   "source": [
    "y"
   ]
  },
  {
   "cell_type": "code",
   "execution_count": null,
   "metadata": {},
   "outputs": [],
   "source": []
  },
  {
   "cell_type": "code",
   "execution_count": 112,
   "metadata": {},
   "outputs": [
    {
     "data": {
      "text/plain": [
       "Age            0\n",
       "PassengerId    0\n",
       "Pclass         0\n",
       "Sex            0\n",
       "SibSp          0\n",
       "Parch          0\n",
       "Fare           3\n",
       "dtype: int64"
      ]
     },
     "execution_count": 112,
     "metadata": {},
     "output_type": "execute_result"
    }
   ],
   "source": [
    "titan.isnull().sum()"
   ]
  },
  {
   "cell_type": "code",
   "execution_count": 113,
   "metadata": {},
   "outputs": [
    {
     "data": {
      "text/plain": [
       "0      0.0\n",
       "1      0.0\n",
       "2      1.0\n",
       "3      1.0\n",
       "4      1.0\n",
       "      ... \n",
       "413    1.0\n",
       "414    3.0\n",
       "415    0.0\n",
       "416    1.0\n",
       "417    2.0\n",
       "Name: Fare, Length: 418, dtype: float64"
      ]
     },
     "execution_count": 113,
     "metadata": {},
     "output_type": "execute_result"
    }
   ],
   "source": [
    "titantest.Fare"
   ]
  },
  {
   "cell_type": "code",
   "execution_count": 114,
   "metadata": {},
   "outputs": [],
   "source": [
    "titan['Fare'] = titan['Fare'].fillna(1)"
   ]
  },
  {
   "cell_type": "code",
   "execution_count": 115,
   "metadata": {},
   "outputs": [
    {
     "data": {
      "text/plain": [
       "Age            0\n",
       "PassengerId    0\n",
       "Pclass         0\n",
       "Sex            0\n",
       "SibSp          0\n",
       "Parch          0\n",
       "Fare           0\n",
       "dtype: int64"
      ]
     },
     "execution_count": 115,
     "metadata": {},
     "output_type": "execute_result"
    }
   ],
   "source": [
    "titan.isnull().sum()"
   ]
  },
  {
   "cell_type": "code",
   "execution_count": 116,
   "metadata": {},
   "outputs": [
    {
     "data": {
      "text/plain": [
       "ExtraTreesClassifier(bootstrap=False, ccp_alpha=0.0, class_weight=None,\n",
       "                     criterion='gini', max_depth=None, max_features='auto',\n",
       "                     max_leaf_nodes=None, max_samples=None,\n",
       "                     min_impurity_decrease=0.0, min_impurity_split=None,\n",
       "                     min_samples_leaf=1, min_samples_split=2,\n",
       "                     min_weight_fraction_leaf=0.0, n_estimators=100,\n",
       "                     n_jobs=None, oob_score=False, random_state=None, verbose=0,\n",
       "                     warm_start=False)"
      ]
     },
     "execution_count": 116,
     "metadata": {},
     "output_type": "execute_result"
    }
   ],
   "source": [
    "ex = ExtraTreesClassifier()\n",
    "ex.fit(x, y)"
   ]
  },
  {
   "cell_type": "code",
   "execution_count": 117,
   "metadata": {},
   "outputs": [
    {
     "data": {
      "image/png": "[encoded data removed]",
      "text/plain": [
       "<Figure size 432x288 with 1 Axes>"
      ]
     },
     "metadata": {
      "needs_background": "light"
     },
     "output_type": "display_data"
    }
   ],
   "source": [
    "feat_importances = pd.Series(ex.feature_importances_, index=x.columns)\n",
    "feat_importances.nlargest(7).plot(kind='bar')\n",
    "plt.show()"
   ]
  },
  {
   "cell_type": "code",
   "execution_count": 118,
   "metadata": {},
   "outputs": [
    {
     "data": {
      "text/html": [
       "<div>\n",
       "<style scoped>\n",
       "    .dataframe tbody tr th:only-of-type {\n",
       "        vertical-align: middle;\n",
       "    }\n",
       "\n",
       "    .dataframe tbody tr th {\n",
       "        vertical-align: top;\n",
       "    }\n",
       "\n",
       "    .dataframe thead th {\n",
       "        text-align: right;\n",
       "    }\n",
       "</style>\n",
       "<table border=\"1\" class=\"dataframe\">\n",
       "  <thead>\n",
       "    <tr style=\"text-align: right;\">\n",
       "      <th></th>\n",
       "      <th>Age</th>\n",
       "      <th>PassengerId</th>\n",
       "      <th>Pclass</th>\n",
       "      <th>Sex</th>\n",
       "      <th>SibSp</th>\n",
       "      <th>Parch</th>\n",
       "      <th>Fare</th>\n",
       "    </tr>\n",
       "  </thead>\n",
       "  <tbody>\n",
       "    <tr>\n",
       "      <th>0</th>\n",
       "      <td>22.0</td>\n",
       "      <td>1</td>\n",
       "      <td>3</td>\n",
       "      <td>1</td>\n",
       "      <td>1</td>\n",
       "      <td>0</td>\n",
       "      <td>0.0</td>\n",
       "    </tr>\n",
       "    <tr>\n",
       "      <th>1</th>\n",
       "      <td>38.0</td>\n",
       "      <td>2</td>\n",
       "      <td>1</td>\n",
       "      <td>0</td>\n",
       "      <td>1</td>\n",
       "      <td>0</td>\n",
       "      <td>3.0</td>\n",
       "    </tr>\n",
       "  </tbody>\n",
       "</table>\n",
       "</div>"
      ],
      "text/plain": [
       "    Age  PassengerId  Pclass  Sex  SibSp  Parch  Fare\n",
       "0  22.0            1       3    1      1      0   0.0\n",
       "1  38.0            2       1    0      1      0   3.0"
      ]
     },
     "execution_count": 118,
     "metadata": {},
     "output_type": "execute_result"
    }
   ],
   "source": [
    "\n",
    "titan.head(2)\n"
   ]
  },
  {
   "cell_type": "code",
   "execution_count": 119,
   "metadata": {},
   "outputs": [],
   "source": [
    "titan = titan.drop(['Fare','Parch', 'SibSp'], axis=1)"
   ]
  },
  {
   "cell_type": "code",
   "execution_count": 120,
   "metadata": {},
   "outputs": [],
   "source": [
    "x=titan"
   ]
  },
  {
   "cell_type": "code",
   "execution_count": 121,
   "metadata": {},
   "outputs": [
    {
     "data": {
      "text/html": [
       "<div>\n",
       "<style scoped>\n",
       "    .dataframe tbody tr th:only-of-type {\n",
       "        vertical-align: middle;\n",
       "    }\n",
       "\n",
       "    .dataframe tbody tr th {\n",
       "        vertical-align: top;\n",
       "    }\n",
       "\n",
       "    .dataframe thead th {\n",
       "        text-align: right;\n",
       "    }\n",
       "</style>\n",
       "<table border=\"1\" class=\"dataframe\">\n",
       "  <thead>\n",
       "    <tr style=\"text-align: right;\">\n",
       "      <th></th>\n",
       "      <th>Age</th>\n",
       "      <th>PassengerId</th>\n",
       "      <th>Pclass</th>\n",
       "      <th>Sex</th>\n",
       "    </tr>\n",
       "  </thead>\n",
       "  <tbody>\n",
       "    <tr>\n",
       "      <th>0</th>\n",
       "      <td>22.000000</td>\n",
       "      <td>1</td>\n",
       "      <td>3</td>\n",
       "      <td>1</td>\n",
       "    </tr>\n",
       "    <tr>\n",
       "      <th>1</th>\n",
       "      <td>38.000000</td>\n",
       "      <td>2</td>\n",
       "      <td>1</td>\n",
       "      <td>0</td>\n",
       "    </tr>\n",
       "    <tr>\n",
       "      <th>2</th>\n",
       "      <td>26.000000</td>\n",
       "      <td>3</td>\n",
       "      <td>3</td>\n",
       "      <td>0</td>\n",
       "    </tr>\n",
       "    <tr>\n",
       "      <th>3</th>\n",
       "      <td>35.000000</td>\n",
       "      <td>4</td>\n",
       "      <td>1</td>\n",
       "      <td>0</td>\n",
       "    </tr>\n",
       "    <tr>\n",
       "      <th>4</th>\n",
       "      <td>35.000000</td>\n",
       "      <td>5</td>\n",
       "      <td>3</td>\n",
       "      <td>1</td>\n",
       "    </tr>\n",
       "    <tr>\n",
       "      <th>...</th>\n",
       "      <td>...</td>\n",
       "      <td>...</td>\n",
       "      <td>...</td>\n",
       "      <td>...</td>\n",
       "    </tr>\n",
       "    <tr>\n",
       "      <th>886</th>\n",
       "      <td>27.000000</td>\n",
       "      <td>887</td>\n",
       "      <td>2</td>\n",
       "      <td>1</td>\n",
       "    </tr>\n",
       "    <tr>\n",
       "      <th>887</th>\n",
       "      <td>19.000000</td>\n",
       "      <td>888</td>\n",
       "      <td>1</td>\n",
       "      <td>0</td>\n",
       "    </tr>\n",
       "    <tr>\n",
       "      <th>888</th>\n",
       "      <td>29.699118</td>\n",
       "      <td>889</td>\n",
       "      <td>3</td>\n",
       "      <td>0</td>\n",
       "    </tr>\n",
       "    <tr>\n",
       "      <th>889</th>\n",
       "      <td>26.000000</td>\n",
       "      <td>890</td>\n",
       "      <td>1</td>\n",
       "      <td>1</td>\n",
       "    </tr>\n",
       "    <tr>\n",
       "      <th>890</th>\n",
       "      <td>32.000000</td>\n",
       "      <td>891</td>\n",
       "      <td>3</td>\n",
       "      <td>1</td>\n",
       "    </tr>\n",
       "  </tbody>\n",
       "</table>\n",
       "<p>891 rows × 4 columns</p>\n",
       "</div>"
      ],
      "text/plain": [
       "           Age  PassengerId  Pclass  Sex\n",
       "0    22.000000            1       3    1\n",
       "1    38.000000            2       1    0\n",
       "2    26.000000            3       3    0\n",
       "3    35.000000            4       1    0\n",
       "4    35.000000            5       3    1\n",
       "..         ...          ...     ...  ...\n",
       "886  27.000000          887       2    1\n",
       "887  19.000000          888       1    0\n",
       "888  29.699118          889       3    0\n",
       "889  26.000000          890       1    1\n",
       "890  32.000000          891       3    1\n",
       "\n",
       "[891 rows x 4 columns]"
      ]
     },
     "execution_count": 121,
     "metadata": {},
     "output_type": "execute_result"
    }
   ],
   "source": [
    "x"
   ]
  },
  {
   "cell_type": "code",
   "execution_count": 122,
   "metadata": {},
   "outputs": [
    {
     "data": {
      "text/plain": [
       "0      0\n",
       "1      1\n",
       "2      1\n",
       "3      1\n",
       "4      0\n",
       "      ..\n",
       "886    0\n",
       "887    1\n",
       "888    0\n",
       "889    1\n",
       "890    0\n",
       "Name: Survived, Length: 891, dtype: int64"
      ]
     },
     "execution_count": 122,
     "metadata": {},
     "output_type": "execute_result"
    }
   ],
   "source": [
    "y"
   ]
  },
  {
   "cell_type": "code",
   "execution_count": 123,
   "metadata": {},
   "outputs": [
    {
     "data": {
      "text/plain": [
       "0.8114478114478114"
      ]
     },
     "execution_count": 123,
     "metadata": {},
     "output_type": "execute_result"
    }
   ],
   "source": [
    "dtree = DecisionTreeClassifier(criterion='gini',random_state=1, max_depth=3)\n",
    "dtree.fit(x, y)\n",
    "dtree.score(x, y)"
   ]
  },
  {
   "cell_type": "code",
   "execution_count": 124,
   "metadata": {},
   "outputs": [
    {
     "data": {
      "text/plain": [
       "0.7125629127874593"
      ]
     },
     "execution_count": 124,
     "metadata": {},
     "output_type": "execute_result"
    }
   ],
   "source": [
    "np.mean(cross_val_score(dtree,x,y,cv=5,scoring='precision'))"
   ]
  },
  {
   "cell_type": "code",
   "execution_count": 125,
   "metadata": {},
   "outputs": [
    {
     "data": {
      "text/plain": [
       "0.8305274971941639"
      ]
     },
     "execution_count": 125,
     "metadata": {},
     "output_type": "execute_result"
    }
   ],
   "source": [
    "rforest = RandomForestClassifier(n_estimators=100, max_depth=3)\n",
    "rforest.fit(x, y)\n",
    "rforest.score(x, y)"
   ]
  },
  {
   "cell_type": "code",
   "execution_count": 126,
   "metadata": {},
   "outputs": [
    {
     "data": {
      "text/plain": [
       "0.773435440336451"
      ]
     },
     "execution_count": 126,
     "metadata": {},
     "output_type": "execute_result"
    }
   ],
   "source": [
    "np.mean(cross_val_score(rforest,x,y,cv=5))"
   ]
  },
  {
   "cell_type": "code",
   "execution_count": 127,
   "metadata": {},
   "outputs": [],
   "source": [
    "import os\n",
    "#os.environ[\"PATH\"] += os.pathsep + 'C:/Users/kurie/anaconda3/Lib/site-packages/graphviz'\n",
    "\n",
    "#feature_names = x.columns\n",
    "#dot_data = tree.export_graphviz(dtree, out_file=None, filled=True, rounded=True,\n",
    " #feature_names=feature_names,\n",
    " #class_names=[\"Not Survived\",\"Survived\"])\n",
    "#graph = graphviz.Source(dot_data)\n",
    "#graph.render('./table.gv', view=True) "
   ]
  },
  {
   "cell_type": "code",
   "execution_count": 128,
   "metadata": {},
   "outputs": [
    {
     "data": {
      "text/plain": [
       "GaussianNB(priors=None, var_smoothing=1e-09)"
      ]
     },
     "execution_count": 128,
     "metadata": {},
     "output_type": "execute_result"
    }
   ],
   "source": [
    "\n",
    "model = GaussianNB()\n",
    "model.fit(x, y)\n",
    "\n"
   ]
  },
  {
   "cell_type": "code",
   "execution_count": 129,
   "metadata": {},
   "outputs": [],
   "source": [
    "y_pred1 = model.predict(x)"
   ]
  },
  {
   "cell_type": "code",
   "execution_count": 130,
   "metadata": {},
   "outputs": [
    {
     "data": {
      "text/plain": [
       "array([0, 1, 1, 1, 0, 0, 0, 0, 1, 1, 1, 1, 0, 0, 1, 1, 0, 0, 1, 1, 0, 0,\n",
       "       1, 0, 1, 1, 0, 0, 1, 0, 0, 1, 1, 0, 0, 0, 0, 0, 1, 1, 1, 1, 0, 1,\n",
       "       1, 0, 0, 1, 0, 1, 0, 0, 1, 1, 0, 0, 1, 0, 1, 0, 0, 1, 0, 0, 0, 0,\n",
       "       1, 0, 1, 0, 0, 1, 0, 0, 0, 0, 0, 0, 0, 1, 0, 0, 1, 0, 1, 1, 0, 0,\n",
       "       1, 0, 0, 0, 0, 0, 0, 0, 1, 0, 1, 0, 1, 0, 0, 0, 0, 0, 1, 0, 0, 1,\n",
       "       0, 1, 0, 1, 1, 0, 0, 0, 0, 1, 0, 0, 0, 1, 0, 0, 0, 0, 1, 0, 0, 0,\n",
       "       1, 1, 0, 0, 1, 0, 0, 0, 1, 1, 1, 0, 0, 0, 0, 1, 0, 0, 0, 1, 0, 0,\n",
       "       0, 0, 1, 0, 0, 0, 0, 1, 0, 0, 0, 0, 1, 1, 0, 0, 0, 0, 1, 0, 0, 0,\n",
       "       0, 1, 0, 0, 1, 0, 0, 0, 1, 0, 1, 0, 0, 0, 1, 0, 1, 0, 1, 1, 0, 0,\n",
       "       1, 1, 0, 0, 0, 0, 0, 1, 0, 0, 1, 0, 0, 1, 0, 0, 0, 1, 1, 0, 1, 0,\n",
       "       0, 0, 0, 0, 0, 0, 0, 0, 0, 1, 1, 0, 0, 1, 0, 1, 0, 1, 0, 0, 1, 1,\n",
       "       0, 0, 0, 0, 1, 1, 0, 0, 0, 1, 0, 0, 1, 1, 1, 1, 1, 1, 0, 0, 0, 0,\n",
       "       1, 0, 0, 0, 1, 1, 0, 0, 1, 0, 1, 1, 1, 0, 0, 1, 0, 0, 0, 0, 0, 0,\n",
       "       0, 0, 0, 1, 1, 1, 0, 1, 0, 0, 0, 1, 0, 1, 1, 0, 0, 1, 0, 1, 1, 1,\n",
       "       0, 1, 1, 1, 1, 0, 0, 1, 1, 0, 1, 1, 0, 0, 1, 1, 0, 1, 0, 1, 1, 1,\n",
       "       1, 0, 0, 0, 1, 0, 0, 1, 0, 0, 0, 1, 0, 0, 0, 1, 1, 1, 0, 0, 0, 0,\n",
       "       0, 0, 0, 0, 1, 1, 1, 1, 0, 0, 1, 0, 0, 0, 1, 1, 1, 1, 0, 0, 0, 0,\n",
       "       1, 1, 1, 0, 0, 0, 1, 1, 0, 1, 0, 0, 0, 1, 0, 1, 0, 0, 0, 1, 1, 0,\n",
       "       1, 0, 0, 1, 0, 0, 1, 0, 1, 0, 0, 0, 0, 1, 0, 0, 1, 0, 0, 1, 1, 1,\n",
       "       0, 1, 0, 0, 0, 1, 0, 0, 1, 1, 0, 0, 0, 1, 1, 0, 0, 1, 1, 1, 0, 0,\n",
       "       1, 0, 0, 1, 0, 1, 1, 0, 1, 0, 0, 0, 0, 0, 0, 0, 0, 1, 1, 0, 0, 0,\n",
       "       0, 0, 0, 0, 0, 0, 0, 1, 0, 0, 1, 1, 1, 0, 0, 0, 0, 1, 0, 0, 0, 1,\n",
       "       0, 1, 1, 0, 0, 0, 0, 0, 0, 1, 0, 0, 1, 0, 1, 0, 0, 1, 1, 1, 1, 0,\n",
       "       1, 0, 0, 0, 0, 0, 0, 1, 0, 0, 1, 0, 1, 0, 1, 0, 0, 1, 0, 0, 1, 0,\n",
       "       0, 0, 1, 0, 0, 1, 1, 1, 0, 1, 0, 1, 1, 1, 1, 0, 0, 0, 1, 0, 0, 0,\n",
       "       0, 0, 0, 0, 1, 0, 1, 0, 1, 1, 0, 0, 0, 0, 1, 0, 0, 1, 0, 0, 0, 1,\n",
       "       0, 1, 0, 0, 1, 1, 1, 0, 1, 1, 0, 0, 0, 1, 0, 0, 0, 0, 0, 1, 0, 1,\n",
       "       0, 0, 1, 0, 0, 0, 1, 0, 0, 0, 0, 0, 0, 0, 1, 1, 1, 0, 1, 0, 0, 1,\n",
       "       0, 1, 1, 0, 0, 0, 0, 0, 0, 0, 0, 1, 0, 0, 1, 0, 0, 0, 1, 1, 0, 0,\n",
       "       1, 0, 0, 1, 1, 0, 1, 0, 0, 0, 0, 1, 0, 1, 0, 1, 1, 0, 0, 1, 0, 0,\n",
       "       0, 0, 0, 0, 0, 0, 0, 0, 0, 1, 1, 0, 0, 0, 0, 0, 0, 1, 1, 0, 1, 0,\n",
       "       0, 0, 0, 0, 0, 0, 0, 1, 0, 1, 0, 0, 0, 0, 0, 1, 0, 0, 1, 0, 1, 0,\n",
       "       0, 0, 1, 0, 1, 0, 1, 0, 0, 0, 0, 0, 1, 1, 0, 0, 1, 0, 0, 0, 0, 0,\n",
       "       1, 1, 0, 1, 1, 0, 0, 0, 0, 0, 1, 0, 0, 0, 0, 0, 1, 0, 0, 1, 0, 1,\n",
       "       0, 0, 1, 0, 0, 0, 1, 0, 0, 0, 0, 1, 0, 0, 0, 1, 0, 1, 0, 1, 0, 0,\n",
       "       0, 0, 1, 0, 1, 0, 0, 1, 0, 1, 1, 1, 0, 0, 0, 0, 1, 0, 0, 0, 0, 0,\n",
       "       1, 0, 0, 0, 1, 1, 0, 1, 0, 1, 0, 0, 0, 0, 0, 1, 0, 1, 0, 0, 0, 1,\n",
       "       0, 0, 1, 0, 0, 0, 1, 0, 0, 1, 0, 0, 0, 0, 0, 1, 1, 0, 0, 0, 0, 1,\n",
       "       0, 0, 0, 0, 0, 0, 1, 0, 0, 0, 0, 0, 0, 1, 0, 0, 1, 1, 1, 1, 1, 0,\n",
       "       1, 0, 0, 0, 1, 1, 0, 1, 1, 0, 0, 0, 0, 1, 0, 0, 1, 1, 0, 0, 0, 1,\n",
       "       1, 0, 1, 0, 0, 1, 0, 1, 1, 0, 0], dtype=int64)"
      ]
     },
     "execution_count": 130,
     "metadata": {},
     "output_type": "execute_result"
    }
   ],
   "source": [
    "y_pred1"
   ]
  },
  {
   "cell_type": "code",
   "execution_count": 131,
   "metadata": {},
   "outputs": [
    {
     "data": {
      "text/plain": [
       "0.7867564534231201"
      ]
     },
     "execution_count": 131,
     "metadata": {},
     "output_type": "execute_result"
    }
   ],
   "source": [
    "accuracy_score(y, y_pred1)"
   ]
  },
  {
   "cell_type": "code",
   "execution_count": 132,
   "metadata": {},
   "outputs": [
    {
     "data": {
      "text/plain": [
       "0.6900584795321637"
      ]
     },
     "execution_count": 132,
     "metadata": {},
     "output_type": "execute_result"
    }
   ],
   "source": [
    "recall_score(y, y_pred1)"
   ]
  },
  {
   "cell_type": "code",
   "execution_count": 133,
   "metadata": {},
   "outputs": [
    {
     "data": {
      "text/plain": [
       "0.7375"
      ]
     },
     "execution_count": 133,
     "metadata": {},
     "output_type": "execute_result"
    }
   ],
   "source": [
    "precision_score(y, y_pred1)"
   ]
  },
  {
   "cell_type": "code",
   "execution_count": 134,
   "metadata": {},
   "outputs": [
    {
     "data": {
      "text/plain": [
       "0.7129909365558913"
      ]
     },
     "execution_count": 134,
     "metadata": {},
     "output_type": "execute_result"
    }
   ],
   "source": [
    "f1_score(y, y_pred1)"
   ]
  },
  {
   "cell_type": "code",
   "execution_count": 135,
   "metadata": {},
   "outputs": [
    {
     "data": {
      "text/plain": [
       "0.7845019145063086"
      ]
     },
     "execution_count": 135,
     "metadata": {},
     "output_type": "execute_result"
    }
   ],
   "source": [
    "np.mean(cross_val_score(model,x,y,cv=5,scoring='accuracy'))"
   ]
  },
  {
   "cell_type": "code",
   "execution_count": 136,
   "metadata": {},
   "outputs": [
    {
     "data": {
      "text/plain": [
       "0.6899829497016198"
      ]
     },
     "execution_count": 136,
     "metadata": {},
     "output_type": "execute_result"
    }
   ],
   "source": [
    "np.mean(cross_val_score(model,x,y,cv=5,scoring='recall'))"
   ]
  },
  {
   "cell_type": "code",
   "execution_count": 137,
   "metadata": {},
   "outputs": [
    {
     "data": {
      "text/plain": [
       "0.733013450892432"
      ]
     },
     "execution_count": 137,
     "metadata": {},
     "output_type": "execute_result"
    }
   ],
   "source": [
    "np.mean(cross_val_score(model,x,y,cv=5,scoring='precision'))"
   ]
  },
  {
   "cell_type": "code",
   "execution_count": 138,
   "metadata": {},
   "outputs": [
    {
     "data": {
      "text/plain": [
       "0.7098473551820123"
      ]
     },
     "execution_count": 138,
     "metadata": {},
     "output_type": "execute_result"
    }
   ],
   "source": [
    "np.mean(cross_val_score(model,x,y,cv=5,scoring='f1'))"
   ]
  },
  {
   "cell_type": "code",
   "execution_count": 139,
   "metadata": {},
   "outputs": [],
   "source": [
    "clf1 = svm.SVC(kernel='linear')"
   ]
  },
  {
   "cell_type": "code",
   "execution_count": 140,
   "metadata": {},
   "outputs": [
    {
     "data": {
      "text/plain": [
       "SVC(C=1.0, break_ties=False, cache_size=200, class_weight=None, coef0=0.0,\n",
       "    decision_function_shape='ovr', degree=3, gamma='scale', kernel='linear',\n",
       "    max_iter=-1, probability=False, random_state=None, shrinking=True,\n",
       "    tol=0.001, verbose=False)"
      ]
     },
     "execution_count": 140,
     "metadata": {},
     "output_type": "execute_result"
    }
   ],
   "source": [
    "clf1.fit(x,y)"
   ]
  },
  {
   "cell_type": "code",
   "execution_count": 141,
   "metadata": {},
   "outputs": [],
   "source": [
    "y_pred10 = clf1.predict(x)"
   ]
  },
  {
   "cell_type": "code",
   "execution_count": 142,
   "metadata": {},
   "outputs": [
    {
     "data": {
      "text/plain": [
       "0.7856341189674523"
      ]
     },
     "execution_count": 142,
     "metadata": {},
     "output_type": "execute_result"
    }
   ],
   "source": [
    "accuracy_score(y, y_pred10)"
   ]
  },
  {
   "cell_type": "code",
   "execution_count": 143,
   "metadata": {},
   "outputs": [
    {
     "data": {
      "text/plain": [
       "0.7867365513778168"
      ]
     },
     "execution_count": 143,
     "metadata": {},
     "output_type": "execute_result"
    }
   ],
   "source": [
    "np.mean(cross_val_score(clf1,x,y,cv=5,scoring='accuracy'))"
   ]
  },
  {
   "cell_type": "code",
   "execution_count": 144,
   "metadata": {},
   "outputs": [],
   "source": [
    "clf2 = svm.SVC(kernel='rbf')"
   ]
  },
  {
   "cell_type": "code",
   "execution_count": 145,
   "metadata": {},
   "outputs": [
    {
     "data": {
      "text/plain": [
       "SVC(C=1.0, break_ties=False, cache_size=200, class_weight=None, coef0=0.0,\n",
       "    decision_function_shape='ovr', degree=3, gamma='scale', kernel='rbf',\n",
       "    max_iter=-1, probability=False, random_state=None, shrinking=True,\n",
       "    tol=0.001, verbose=False)"
      ]
     },
     "execution_count": 145,
     "metadata": {},
     "output_type": "execute_result"
    }
   ],
   "source": [
    "clf2.fit(x,y)"
   ]
  },
  {
   "cell_type": "code",
   "execution_count": 146,
   "metadata": {},
   "outputs": [],
   "source": [
    "y_pred11 = clf2.predict(x)"
   ]
  },
  {
   "cell_type": "code",
   "execution_count": 147,
   "metadata": {},
   "outputs": [
    {
     "data": {
      "text/plain": [
       "0.6161616161616161"
      ]
     },
     "execution_count": 147,
     "metadata": {},
     "output_type": "execute_result"
    }
   ],
   "source": [
    "accuracy_score(y, y_pred11)"
   ]
  },
  {
   "cell_type": "code",
   "execution_count": 148,
   "metadata": {},
   "outputs": [
    {
     "data": {
      "text/plain": [
       "0.6161634548992531"
      ]
     },
     "execution_count": 148,
     "metadata": {},
     "output_type": "execute_result"
    }
   ],
   "source": [
    "np.mean(cross_val_score(clf2,x,y,cv=5,scoring='accuracy'))"
   ]
  },
  {
   "cell_type": "code",
   "execution_count": 149,
   "metadata": {},
   "outputs": [],
   "source": [
    "clf3 = svm.SVC(kernel='poly',degree=2)"
   ]
  },
  {
   "cell_type": "code",
   "execution_count": 150,
   "metadata": {},
   "outputs": [
    {
     "data": {
      "text/plain": [
       "SVC(C=1.0, break_ties=False, cache_size=200, class_weight=None, coef0=0.0,\n",
       "    decision_function_shape='ovr', degree=2, gamma='scale', kernel='poly',\n",
       "    max_iter=-1, probability=False, random_state=None, shrinking=True,\n",
       "    tol=0.001, verbose=False)"
      ]
     },
     "execution_count": 150,
     "metadata": {},
     "output_type": "execute_result"
    }
   ],
   "source": [
    "clf3.fit(x,y)"
   ]
  },
  {
   "cell_type": "code",
   "execution_count": null,
   "metadata": {},
   "outputs": [],
   "source": []
  },
  {
   "cell_type": "code",
   "execution_count": 151,
   "metadata": {},
   "outputs": [],
   "source": [
    "y_pred12 = clf3.predict(x)"
   ]
  },
  {
   "cell_type": "code",
   "execution_count": 152,
   "metadata": {},
   "outputs": [
    {
     "data": {
      "text/plain": [
       "0.6161616161616161"
      ]
     },
     "execution_count": 152,
     "metadata": {},
     "output_type": "execute_result"
    }
   ],
   "source": [
    "accuracy_score(y, y_pred12)"
   ]
  },
  {
   "cell_type": "code",
   "execution_count": 153,
   "metadata": {},
   "outputs": [
    {
     "data": {
      "text/plain": [
       "0.6161634548992531"
      ]
     },
     "execution_count": 153,
     "metadata": {},
     "output_type": "execute_result"
    }
   ],
   "source": [
    "np.mean(cross_val_score(clf3,x,y,cv=5,scoring='accuracy'))"
   ]
  },
  {
   "cell_type": "code",
   "execution_count": null,
   "metadata": {},
   "outputs": [],
   "source": []
  }
 ],
 "metadata": {
  "kernelspec": {
   "display_name": "Python 3",
   "language": "python",
   "name": "python3"
  },
  "language_info": {
   "codemirror_mode": {
    "name": "ipython",
    "version": 3
   },
   "file_extension": ".py",
   "mimetype": "text/x-python",
   "name": "python",
   "nbconvert_exporter": "python",
   "pygments_lexer": "ipython3",
   "version": "3.7.6"
  }
 },
 "nbformat": 4,
 "nbformat_minor": 4
}
