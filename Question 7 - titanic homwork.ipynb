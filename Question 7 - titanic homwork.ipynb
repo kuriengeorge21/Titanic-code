{
 "cells": [
  {
   "cell_type": "markdown",
   "metadata": {},
   "source": [
    "Home work Question number 7\n",
    "Find the count , mean , std deviation, min , max, 25 percentile, 50 percentile and 75 percentile of numeric features"
   ]
  },
  {
   "cell_type": "code",
   "execution_count": 579,
   "metadata": {},
   "outputs": [],
   "source": [
    "import os\n"
   ]
  },
  {
   "cell_type": "code",
   "execution_count": 580,
   "metadata": {},
   "outputs": [],
   "source": [
    "import matplotlib.pyplot as plt\n",
    "import pandas as pd\n",
    "import numpy as np\n",
    "import seaborn as sns\n",
    "import csv\n",
    "import sklearn "
   ]
  },
  {
   "cell_type": "code",
   "execution_count": 581,
   "metadata": {},
   "outputs": [
    {
     "data": {
      "text/html": [
       "<div>\n",
       "<style scoped>\n",
       "    .dataframe tbody tr th:only-of-type {\n",
       "        vertical-align: middle;\n",
       "    }\n",
       "\n",
       "    .dataframe tbody tr th {\n",
       "        vertical-align: top;\n",
       "    }\n",
       "\n",
       "    .dataframe thead th {\n",
       "        text-align: right;\n",
       "    }\n",
       "</style>\n",
       "<table border=\"1\" class=\"dataframe\">\n",
       "  <thead>\n",
       "    <tr style=\"text-align: right;\">\n",
       "      <th></th>\n",
       "      <th>PassengerId</th>\n",
       "      <th>Pclass</th>\n",
       "      <th>Age</th>\n",
       "      <th>SibSp</th>\n",
       "      <th>Parch</th>\n",
       "      <th>Fare</th>\n",
       "    </tr>\n",
       "  </thead>\n",
       "  <tbody>\n",
       "    <tr>\n",
       "      <th>count</th>\n",
       "      <td>418.000000</td>\n",
       "      <td>418.000000</td>\n",
       "      <td>332.000000</td>\n",
       "      <td>418.000000</td>\n",
       "      <td>418.000000</td>\n",
       "      <td>417.000000</td>\n",
       "    </tr>\n",
       "    <tr>\n",
       "      <th>mean</th>\n",
       "      <td>1100.500000</td>\n",
       "      <td>2.265550</td>\n",
       "      <td>30.272590</td>\n",
       "      <td>0.447368</td>\n",
       "      <td>0.392344</td>\n",
       "      <td>35.627188</td>\n",
       "    </tr>\n",
       "    <tr>\n",
       "      <th>std</th>\n",
       "      <td>120.810458</td>\n",
       "      <td>0.841838</td>\n",
       "      <td>14.181209</td>\n",
       "      <td>0.896760</td>\n",
       "      <td>0.981429</td>\n",
       "      <td>55.907576</td>\n",
       "    </tr>\n",
       "    <tr>\n",
       "      <th>min</th>\n",
       "      <td>892.000000</td>\n",
       "      <td>1.000000</td>\n",
       "      <td>0.170000</td>\n",
       "      <td>0.000000</td>\n",
       "      <td>0.000000</td>\n",
       "      <td>0.000000</td>\n",
       "    </tr>\n",
       "    <tr>\n",
       "      <th>25%</th>\n",
       "      <td>996.250000</td>\n",
       "      <td>1.000000</td>\n",
       "      <td>21.000000</td>\n",
       "      <td>0.000000</td>\n",
       "      <td>0.000000</td>\n",
       "      <td>7.895800</td>\n",
       "    </tr>\n",
       "    <tr>\n",
       "      <th>50%</th>\n",
       "      <td>1100.500000</td>\n",
       "      <td>3.000000</td>\n",
       "      <td>27.000000</td>\n",
       "      <td>0.000000</td>\n",
       "      <td>0.000000</td>\n",
       "      <td>14.454200</td>\n",
       "    </tr>\n",
       "    <tr>\n",
       "      <th>75%</th>\n",
       "      <td>1204.750000</td>\n",
       "      <td>3.000000</td>\n",
       "      <td>39.000000</td>\n",
       "      <td>1.000000</td>\n",
       "      <td>0.000000</td>\n",
       "      <td>31.500000</td>\n",
       "    </tr>\n",
       "    <tr>\n",
       "      <th>max</th>\n",
       "      <td>1309.000000</td>\n",
       "      <td>3.000000</td>\n",
       "      <td>76.000000</td>\n",
       "      <td>8.000000</td>\n",
       "      <td>9.000000</td>\n",
       "      <td>512.329200</td>\n",
       "    </tr>\n",
       "  </tbody>\n",
       "</table>\n",
       "</div>"
      ],
      "text/plain": [
       "       PassengerId      Pclass         Age       SibSp       Parch        Fare\n",
       "count   418.000000  418.000000  332.000000  418.000000  418.000000  417.000000\n",
       "mean   1100.500000    2.265550   30.272590    0.447368    0.392344   35.627188\n",
       "std     120.810458    0.841838   14.181209    0.896760    0.981429   55.907576\n",
       "min     892.000000    1.000000    0.170000    0.000000    0.000000    0.000000\n",
       "25%     996.250000    1.000000   21.000000    0.000000    0.000000    7.895800\n",
       "50%    1100.500000    3.000000   27.000000    0.000000    0.000000   14.454200\n",
       "75%    1204.750000    3.000000   39.000000    1.000000    0.000000   31.500000\n",
       "max    1309.000000    3.000000   76.000000    8.000000    9.000000  512.329200"
      ]
     },
     "execution_count": 581,
     "metadata": {},
     "output_type": "execute_result"
    }
   ],
   "source": [
    "titan=pd.read_csv('train.csv')\n",
    "titantest=pd.read_csv('test.csv')\n",
    "np.where(pd.isnull(titan))\n",
    "np.where(pd.isnull(titantest))\n",
    "titantest.describe()\n"
   ]
  },
  {
   "cell_type": "code",
   "execution_count": 582,
   "metadata": {},
   "outputs": [
    {
     "name": "stdout",
     "output_type": "stream",
     "text": [
      "     PassengerId  Survived  Pclass  \\\n",
      "0              1         0       3   \n",
      "1              2         1       1   \n",
      "2              3         1       3   \n",
      "3              4         1       1   \n",
      "4              5         0       3   \n",
      "..           ...       ...     ...   \n",
      "886          887         0       2   \n",
      "887          888         1       1   \n",
      "888          889         0       3   \n",
      "889          890         1       1   \n",
      "890          891         0       3   \n",
      "\n",
      "                                                  Name     Sex   Age  SibSp  \\\n",
      "0                              Braund, Mr. Owen Harris    male  22.0      1   \n",
      "1    Cumings, Mrs. John Bradley (Florence Briggs Th...  female  38.0      1   \n",
      "2                               Heikkinen, Miss. Laina  female  26.0      0   \n",
      "3         Futrelle, Mrs. Jacques Heath (Lily May Peel)  female  35.0      1   \n",
      "4                             Allen, Mr. William Henry    male  35.0      0   \n",
      "..                                                 ...     ...   ...    ...   \n",
      "886                              Montvila, Rev. Juozas    male  27.0      0   \n",
      "887                       Graham, Miss. Margaret Edith  female  19.0      0   \n",
      "888           Johnston, Miss. Catherine Helen \"Carrie\"  female   NaN      1   \n",
      "889                              Behr, Mr. Karl Howell    male  26.0      0   \n",
      "890                                Dooley, Mr. Patrick    male  32.0      0   \n",
      "\n",
      "     Parch            Ticket     Fare Cabin Embarked  \n",
      "0        0         A/5 21171   7.2500   NaN        S  \n",
      "1        0          PC 17599  71.2833   C85        C  \n",
      "2        0  STON/O2. 3101282   7.9250   NaN        S  \n",
      "3        0            113803  53.1000  C123        S  \n",
      "4        0            373450   8.0500   NaN        S  \n",
      "..     ...               ...      ...   ...      ...  \n",
      "886      0            211536  13.0000   NaN        S  \n",
      "887      0            112053  30.0000   B42        S  \n",
      "888      2        W./C. 6607  23.4500   NaN        S  \n",
      "889      0            111369  30.0000  C148        C  \n",
      "890      0            370376   7.7500   NaN        Q  \n",
      "\n",
      "[891 rows x 12 columns]\n"
     ]
    },
    {
     "data": {
      "text/plain": [
       "PassengerId    891\n",
       "Survived       891\n",
       "Pclass         891\n",
       "Name           891\n",
       "Sex            891\n",
       "Age            714\n",
       "SibSp          891\n",
       "Parch          891\n",
       "Ticket         891\n",
       "Fare           891\n",
       "Cabin          204\n",
       "Embarked       889\n",
       "dtype: int64"
      ]
     },
     "execution_count": 582,
     "metadata": {},
     "output_type": "execute_result"
    }
   ],
   "source": [
    "print(titan)\n",
    "titan.isnull().sum()\n",
    "titan.notnull().sum()\n",
    "\n",
    "\n"
   ]
  },
  {
   "cell_type": "code",
   "execution_count": 583,
   "metadata": {
    "scrolled": true
   },
   "outputs": [
    {
     "data": {
      "text/html": [
       "<div>\n",
       "<style scoped>\n",
       "    .dataframe tbody tr th:only-of-type {\n",
       "        vertical-align: middle;\n",
       "    }\n",
       "\n",
       "    .dataframe tbody tr th {\n",
       "        vertical-align: top;\n",
       "    }\n",
       "\n",
       "    .dataframe thead th {\n",
       "        text-align: right;\n",
       "    }\n",
       "</style>\n",
       "<table border=\"1\" class=\"dataframe\">\n",
       "  <thead>\n",
       "    <tr style=\"text-align: right;\">\n",
       "      <th></th>\n",
       "      <th>PassengerId</th>\n",
       "      <th>Survived</th>\n",
       "      <th>Pclass</th>\n",
       "      <th>Name</th>\n",
       "      <th>Sex</th>\n",
       "      <th>Age</th>\n",
       "      <th>SibSp</th>\n",
       "      <th>Parch</th>\n",
       "      <th>Ticket</th>\n",
       "      <th>Fare</th>\n",
       "      <th>Cabin</th>\n",
       "      <th>Embarked</th>\n",
       "    </tr>\n",
       "  </thead>\n",
       "  <tbody>\n",
       "    <tr>\n",
       "      <th>0</th>\n",
       "      <td>1</td>\n",
       "      <td>0</td>\n",
       "      <td>3</td>\n",
       "      <td>Braund, Mr. Owen Harris</td>\n",
       "      <td>male</td>\n",
       "      <td>22.0</td>\n",
       "      <td>1</td>\n",
       "      <td>0</td>\n",
       "      <td>A/5 21171</td>\n",
       "      <td>7.2500</td>\n",
       "      <td>NaN</td>\n",
       "      <td>S</td>\n",
       "    </tr>\n",
       "    <tr>\n",
       "      <th>1</th>\n",
       "      <td>2</td>\n",
       "      <td>1</td>\n",
       "      <td>1</td>\n",
       "      <td>Cumings, Mrs. John Bradley (Florence Briggs Th...</td>\n",
       "      <td>female</td>\n",
       "      <td>38.0</td>\n",
       "      <td>1</td>\n",
       "      <td>0</td>\n",
       "      <td>PC 17599</td>\n",
       "      <td>71.2833</td>\n",
       "      <td>C85</td>\n",
       "      <td>C</td>\n",
       "    </tr>\n",
       "  </tbody>\n",
       "</table>\n",
       "</div>"
      ],
      "text/plain": [
       "   PassengerId  Survived  Pclass  \\\n",
       "0            1         0       3   \n",
       "1            2         1       1   \n",
       "\n",
       "                                                Name     Sex   Age  SibSp  \\\n",
       "0                            Braund, Mr. Owen Harris    male  22.0      1   \n",
       "1  Cumings, Mrs. John Bradley (Florence Briggs Th...  female  38.0      1   \n",
       "\n",
       "   Parch     Ticket     Fare Cabin Embarked  \n",
       "0      0  A/5 21171   7.2500   NaN        S  \n",
       "1      0   PC 17599  71.2833   C85        C  "
      ]
     },
     "execution_count": 583,
     "metadata": {},
     "output_type": "execute_result"
    }
   ],
   "source": [
    "titan.head(10)\n",
    "titantest.isnull().sum()\n",
    "titan.head(2)"
   ]
  },
  {
   "cell_type": "code",
   "execution_count": 584,
   "metadata": {},
   "outputs": [
    {
     "data": {
      "text/html": [
       "<div>\n",
       "<style scoped>\n",
       "    .dataframe tbody tr th:only-of-type {\n",
       "        vertical-align: middle;\n",
       "    }\n",
       "\n",
       "    .dataframe tbody tr th {\n",
       "        vertical-align: top;\n",
       "    }\n",
       "\n",
       "    .dataframe thead th {\n",
       "        text-align: right;\n",
       "    }\n",
       "</style>\n",
       "<table border=\"1\" class=\"dataframe\">\n",
       "  <thead>\n",
       "    <tr style=\"text-align: right;\">\n",
       "      <th></th>\n",
       "      <th>PassengerId</th>\n",
       "      <th>Survived</th>\n",
       "      <th>Pclass</th>\n",
       "      <th>Age</th>\n",
       "      <th>SibSp</th>\n",
       "      <th>Parch</th>\n",
       "      <th>Fare</th>\n",
       "    </tr>\n",
       "  </thead>\n",
       "  <tbody>\n",
       "    <tr>\n",
       "      <th>count</th>\n",
       "      <td>891.000000</td>\n",
       "      <td>891.000000</td>\n",
       "      <td>891.000000</td>\n",
       "      <td>714.000000</td>\n",
       "      <td>891.000000</td>\n",
       "      <td>891.000000</td>\n",
       "      <td>891.000000</td>\n",
       "    </tr>\n",
       "    <tr>\n",
       "      <th>mean</th>\n",
       "      <td>446.000000</td>\n",
       "      <td>0.383838</td>\n",
       "      <td>2.308642</td>\n",
       "      <td>29.699118</td>\n",
       "      <td>0.523008</td>\n",
       "      <td>0.381594</td>\n",
       "      <td>32.204208</td>\n",
       "    </tr>\n",
       "    <tr>\n",
       "      <th>std</th>\n",
       "      <td>257.353842</td>\n",
       "      <td>0.486592</td>\n",
       "      <td>0.836071</td>\n",
       "      <td>14.526497</td>\n",
       "      <td>1.102743</td>\n",
       "      <td>0.806057</td>\n",
       "      <td>49.693429</td>\n",
       "    </tr>\n",
       "    <tr>\n",
       "      <th>min</th>\n",
       "      <td>1.000000</td>\n",
       "      <td>0.000000</td>\n",
       "      <td>1.000000</td>\n",
       "      <td>0.420000</td>\n",
       "      <td>0.000000</td>\n",
       "      <td>0.000000</td>\n",
       "      <td>0.000000</td>\n",
       "    </tr>\n",
       "    <tr>\n",
       "      <th>25%</th>\n",
       "      <td>223.500000</td>\n",
       "      <td>0.000000</td>\n",
       "      <td>2.000000</td>\n",
       "      <td>20.125000</td>\n",
       "      <td>0.000000</td>\n",
       "      <td>0.000000</td>\n",
       "      <td>7.910400</td>\n",
       "    </tr>\n",
       "    <tr>\n",
       "      <th>50%</th>\n",
       "      <td>446.000000</td>\n",
       "      <td>0.000000</td>\n",
       "      <td>3.000000</td>\n",
       "      <td>28.000000</td>\n",
       "      <td>0.000000</td>\n",
       "      <td>0.000000</td>\n",
       "      <td>14.454200</td>\n",
       "    </tr>\n",
       "    <tr>\n",
       "      <th>75%</th>\n",
       "      <td>668.500000</td>\n",
       "      <td>1.000000</td>\n",
       "      <td>3.000000</td>\n",
       "      <td>38.000000</td>\n",
       "      <td>1.000000</td>\n",
       "      <td>0.000000</td>\n",
       "      <td>31.000000</td>\n",
       "    </tr>\n",
       "    <tr>\n",
       "      <th>max</th>\n",
       "      <td>891.000000</td>\n",
       "      <td>1.000000</td>\n",
       "      <td>3.000000</td>\n",
       "      <td>80.000000</td>\n",
       "      <td>8.000000</td>\n",
       "      <td>6.000000</td>\n",
       "      <td>512.329200</td>\n",
       "    </tr>\n",
       "  </tbody>\n",
       "</table>\n",
       "</div>"
      ],
      "text/plain": [
       "       PassengerId    Survived      Pclass         Age       SibSp  \\\n",
       "count   891.000000  891.000000  891.000000  714.000000  891.000000   \n",
       "mean    446.000000    0.383838    2.308642   29.699118    0.523008   \n",
       "std     257.353842    0.486592    0.836071   14.526497    1.102743   \n",
       "min       1.000000    0.000000    1.000000    0.420000    0.000000   \n",
       "25%     223.500000    0.000000    2.000000   20.125000    0.000000   \n",
       "50%     446.000000    0.000000    3.000000   28.000000    0.000000   \n",
       "75%     668.500000    1.000000    3.000000   38.000000    1.000000   \n",
       "max     891.000000    1.000000    3.000000   80.000000    8.000000   \n",
       "\n",
       "            Parch        Fare  \n",
       "count  891.000000  891.000000  \n",
       "mean     0.381594   32.204208  \n",
       "std      0.806057   49.693429  \n",
       "min      0.000000    0.000000  \n",
       "25%      0.000000    7.910400  \n",
       "50%      0.000000   14.454200  \n",
       "75%      0.000000   31.000000  \n",
       "max      6.000000  512.329200  "
      ]
     },
     "execution_count": 584,
     "metadata": {},
     "output_type": "execute_result"
    }
   ],
   "source": [
    "titan.describe()"
   ]
  },
  {
   "cell_type": "code",
   "execution_count": 585,
   "metadata": {},
   "outputs": [
    {
     "data": {
      "text/plain": [
       "PassengerId      int64\n",
       "Survived         int64\n",
       "Pclass           int64\n",
       "Name            object\n",
       "Sex             object\n",
       "Age            float64\n",
       "SibSp            int64\n",
       "Parch            int64\n",
       "Ticket          object\n",
       "Fare           float64\n",
       "Cabin           object\n",
       "Embarked        object\n",
       "dtype: object"
      ]
     },
     "execution_count": 585,
     "metadata": {},
     "output_type": "execute_result"
    }
   ],
   "source": [
    "titan.dtypes"
   ]
  },
  {
   "cell_type": "code",
   "execution_count": 586,
   "metadata": {},
   "outputs": [
    {
     "data": {
      "text/plain": [
       "0    549\n",
       "1    342\n",
       "Name: Survived, dtype: int64"
      ]
     },
     "execution_count": 586,
     "metadata": {},
     "output_type": "execute_result"
    }
   ],
   "source": [
    "titan.Survived.value_counts()\n",
    "\n"
   ]
  },
  {
   "cell_type": "code",
   "execution_count": 587,
   "metadata": {},
   "outputs": [
    {
     "data": {
      "text/plain": [
       "male      577\n",
       "female    314\n",
       "Name: Sex, dtype: int64"
      ]
     },
     "execution_count": 587,
     "metadata": {},
     "output_type": "execute_result"
    }
   ],
   "source": [
    "titan.Sex.value_counts()"
   ]
  },
  {
   "cell_type": "code",
   "execution_count": 588,
   "metadata": {},
   "outputs": [],
   "source": [
    "cols=['Name','Sex','Ticket','Cabin','Embarked']"
   ]
  },
  {
   "cell_type": "code",
   "execution_count": 589,
   "metadata": {},
   "outputs": [
    {
     "data": {
      "text/plain": [
       "3    491\n",
       "1    216\n",
       "2    184\n",
       "Name: Pclass, dtype: int64"
      ]
     },
     "execution_count": 589,
     "metadata": {},
     "output_type": "execute_result"
    }
   ],
   "source": [
    "titan.Pclass.value_counts()"
   ]
  },
  {
   "cell_type": "code",
   "execution_count": 590,
   "metadata": {},
   "outputs": [
    {
     "data": {
      "text/plain": [
       "male      577\n",
       "female    314\n",
       "Name: Sex, dtype: int64"
      ]
     },
     "execution_count": 590,
     "metadata": {},
     "output_type": "execute_result"
    }
   ],
   "source": [
    "titan.Sex.value_counts()"
   ]
  },
  {
   "cell_type": "code",
   "execution_count": 591,
   "metadata": {},
   "outputs": [
    {
     "data": {
      "text/plain": [
       "S    644\n",
       "C    168\n",
       "Q     77\n",
       "Name: Embarked, dtype: int64"
      ]
     },
     "execution_count": 591,
     "metadata": {},
     "output_type": "execute_result"
    }
   ],
   "source": [
    "titan.Embarked.value_counts()"
   ]
  },
  {
   "cell_type": "code",
   "execution_count": 592,
   "metadata": {},
   "outputs": [
    {
     "data": {
      "text/plain": [
       "0    549\n",
       "1    342\n",
       "Name: Survived, dtype: int64"
      ]
     },
     "execution_count": 592,
     "metadata": {},
     "output_type": "execute_result"
    }
   ],
   "source": [
    "titan.Survived.value_counts()"
   ]
  },
  {
   "cell_type": "code",
   "execution_count": 593,
   "metadata": {},
   "outputs": [
    {
     "data": {
      "text/plain": [
       "['Sedgwick, Mr. Charles Frederick Waddington',\n",
       " 'Vander Planke, Miss. Augusta Maria',\n",
       " 'Matthews, Mr. William John',\n",
       " 'Cor, Mr. Liudevit',\n",
       " 'Mullens, Miss. Katherine \"Katie\"',\n",
       " 'Hood, Mr. Ambrose Jr',\n",
       " 'Harder, Mr. George Achilles',\n",
       " 'Cardeza, Mr. Thomas Drake Martinez',\n",
       " 'Gavey, Mr. Lawrence',\n",
       " 'Richards, Mrs. Sidney (Emily Hocking)',\n",
       " 'Attalah, Mr. Sleiman',\n",
       " 'Goodwin, Mrs. Frederick (Augusta Tyler)',\n",
       " 'Johnson, Mrs. Oscar W (Elisabeth Vilhelmina Berg)',\n",
       " 'Pears, Mr. Thomas Clinton',\n",
       " 'Crosby, Capt. Edward Gifford',\n",
       " 'Petroff, Mr. Nedelio',\n",
       " 'Ling, Mr. Lee',\n",
       " 'Laroche, Mrs. Joseph (Juliette Marie Louise Lafargue)',\n",
       " 'Nasser, Mr. Nicholas',\n",
       " 'Panula, Master. Eino Viljami',\n",
       " 'Ringhini, Mr. Sante',\n",
       " 'Celotti, Mr. Francesco',\n",
       " 'Duff Gordon, Sir. Cosmo Edmund (\"Mr Morgan\")',\n",
       " 'Goodwin, Master. William Frederick',\n",
       " 'Rice, Master. George Hugh',\n",
       " 'Sunderland, Mr. Victor Francis',\n",
       " 'Panula, Mrs. Juha (Maria Emilia Ojala)',\n",
       " 'Burns, Miss. Elizabeth Margaret',\n",
       " 'Barbara, Miss. Saiide',\n",
       " 'Sinkkonen, Miss. Anna',\n",
       " 'Johnson, Miss. Eleanor Ileen',\n",
       " 'Boulos, Mrs. Joseph (Sultana)',\n",
       " 'Graham, Mrs. William Thompson (Edith Junkins)',\n",
       " 'Braund, Mr. Lewis Richard',\n",
       " 'Sutton, Mr. Frederick',\n",
       " 'Panula, Master. Urho Abraham',\n",
       " 'Doharr, Mr. Tannous',\n",
       " 'Newell, Miss. Marjorie',\n",
       " 'Ridsdale, Miss. Lucy',\n",
       " 'Collyer, Mr. Harvey',\n",
       " 'Salkjelsvik, Miss. Anna Kristine',\n",
       " 'Sandstrom, Miss. Marguerite Rut',\n",
       " 'Kink-Heilmann, Miss. Luise Gretchen',\n",
       " 'Jardin, Mr. Jose Neto',\n",
       " 'Rintamaki, Mr. Matti',\n",
       " 'Palsson, Master. Gosta Leonard',\n",
       " 'Smith, Miss. Marion Elsie',\n",
       " 'Markoff, Mr. Marin',\n",
       " 'Devaney, Miss. Margaret Delia',\n",
       " 'Gee, Mr. Arthur H',\n",
       " 'Serepeca, Miss. Augusta',\n",
       " 'Parkes, Mr. Francis \"Frank\"',\n",
       " 'Parr, Mr. William Henry Marsh',\n",
       " 'Coleff, Mr. Satio',\n",
       " 'Aubart, Mme. Leontine Pauline',\n",
       " 'Olsen, Mr. Karl Siegwart Andreas',\n",
       " 'Cunningham, Mr. Alfred Fleming',\n",
       " \"O'Connor, Mr. Maurice\",\n",
       " 'Herman, Mrs. Samuel (Jane Laver)',\n",
       " 'Culumovic, Mr. Jeso',\n",
       " 'Skoog, Master. Harald',\n",
       " 'Turja, Miss. Anna Sofia',\n",
       " 'Ryan, Mr. Patrick',\n",
       " 'Kelly, Mr. James',\n",
       " 'Nicola-Yarred, Master. Elias',\n",
       " 'Jonkoff, Mr. Lalio',\n",
       " 'Holverson, Mrs. Alexander Oskar (Mary Aline Towner)',\n",
       " 'Sage, Mr. George John Jr',\n",
       " 'McMahon, Mr. Martin',\n",
       " 'Betros, Mr. Tannous',\n",
       " 'McGowan, Miss. Anna \"Annie\"',\n",
       " 'Rothes, the Countess. of (Lucy Noel Martha Dyer-Edwards)',\n",
       " 'Goldsmith, Master. Frank John William \"Frankie\"',\n",
       " 'Berglund, Mr. Karl Ivar Sven',\n",
       " 'Giles, Mr. Frederick Edward',\n",
       " 'Partner, Mr. Austen',\n",
       " 'Warren, Mrs. Frank Manley (Anna Sophia Atkinson)',\n",
       " 'Laitinen, Miss. Kristina Sofia',\n",
       " 'Stead, Mr. William Thomas',\n",
       " 'Andersson, Mrs. Anders Johan (Alfrida Konstantia Brogren)',\n",
       " 'Mallet, Master. Andre',\n",
       " 'Arnold-Franchi, Mrs. Josef (Josefine Franchi)',\n",
       " 'Maisner, Mr. Simon',\n",
       " 'Crease, Mr. Ernest James',\n",
       " 'Sloper, Mr. William Thompson',\n",
       " 'Abelson, Mr. Samuel',\n",
       " 'Asim, Mr. Adola',\n",
       " 'Sivic, Mr. Husein',\n",
       " 'Ekstrom, Mr. Johan',\n",
       " 'Morley, Mr. Henry Samuel (\"Mr Henry Marshall\")',\n",
       " 'Keane, Mr. Andrew \"Andy\"',\n",
       " 'Hoyt, Mr. William Fisher',\n",
       " 'Willey, Mr. Edward',\n",
       " 'Bonnell, Miss. Elizabeth',\n",
       " 'Moubarek, Master. Gerios',\n",
       " 'Petroff, Mr. Pastcho (\"Pentcho\")',\n",
       " 'Meek, Mrs. Thomas (Annie Louise Rowley)',\n",
       " 'Dowdell, Miss. Elizabeth',\n",
       " 'Moubarek, Master. Halim Gonios (\"William George\")',\n",
       " 'Emanuel, Miss. Virginia Ethel',\n",
       " 'Charters, Mr. David',\n",
       " 'Lievens, Mr. Rene Aime',\n",
       " 'Turcin, Mr. Stjepan',\n",
       " 'Montvila, Rev. Juozas',\n",
       " 'Bourke, Mr. John',\n",
       " 'Ayoub, Miss. Banoura',\n",
       " 'Sobey, Mr. Samuel James Hayden',\n",
       " 'Cohen, Mr. Gurshon \"Gus\"',\n",
       " 'Vande Walle, Mr. Nestor Cyriel',\n",
       " 'Walker, Mr. William Anderson',\n",
       " 'Saad, Mr. Khalil',\n",
       " 'Funk, Miss. Annie Clemmer',\n",
       " 'Navratil, Mr. Michel (\"Louis M Hoffman\")',\n",
       " 'Chaffee, Mr. Herbert Fuller',\n",
       " 'Carter, Mrs. William Ernest (Lucile Polk)',\n",
       " 'Jermyn, Miss. Annie',\n",
       " 'de Messemaeker, Mrs. Guillaume Joseph (Emma)',\n",
       " 'Stewart, Mr. Albert A',\n",
       " 'Davis, Miss. Mary',\n",
       " 'Gustafsson, Mr. Johan Birger',\n",
       " 'Hunt, Mr. George Henry',\n",
       " 'Davies, Mr. Charles Henry',\n",
       " 'Thayer, Mr. John Borland Jr',\n",
       " 'Gaskell, Mr. Alfred',\n",
       " 'McEvoy, Mr. Michael',\n",
       " 'Lefebre, Miss. Mathilde',\n",
       " 'Morley, Mr. William',\n",
       " 'Dennis, Mr. Samuel',\n",
       " 'Carbines, Mr. William',\n",
       " 'Quick, Miss. Phyllis May',\n",
       " 'Doling, Mrs. John T (Ada Julia Bone)',\n",
       " 'Albimona, Mr. Nassef Cassem',\n",
       " 'Lindblom, Miss. Augusta Charlotta',\n",
       " 'Goldsmith, Mrs. Frank John (Emily Alice Brown)',\n",
       " 'Meyer, Mrs. Edgar Joseph (Leila Saks)',\n",
       " 'Osen, Mr. Olaf Elon',\n",
       " 'McCormack, Mr. Thomas Joseph',\n",
       " 'Jenkin, Mr. Stephen Curnow',\n",
       " 'Nakid, Mr. Sahid',\n",
       " 'Tomlin, Mr. Ernest Portage',\n",
       " 'Vovk, Mr. Janko',\n",
       " 'Salonen, Mr. Johan Werner',\n",
       " 'Christmann, Mr. Emil',\n",
       " 'Bidois, Miss. Rosalie',\n",
       " 'Pain, Dr. Alfred',\n",
       " 'Markun, Mr. Johann',\n",
       " 'Ali, Mr. Ahmed',\n",
       " 'Wick, Mrs. George Dennick (Mary Hitchcock)',\n",
       " 'de Mulder, Mr. Theodore',\n",
       " 'Novel, Mr. Mansouer',\n",
       " 'Silven, Miss. Lyyli Karoliina',\n",
       " 'Givard, Mr. Hans Kristensen',\n",
       " 'Thorneycroft, Mr. Percival',\n",
       " 'Molson, Mr. Harry Markland',\n",
       " 'Denkoff, Mr. Mitto',\n",
       " 'Lindqvist, Mr. Eino William',\n",
       " 'Kent, Mr. Edward Austin',\n",
       " 'Wright, Mr. George',\n",
       " 'Hamalainen, Master. Viljo',\n",
       " 'Goldschmidt, Mr. George B',\n",
       " 'Goldenberg, Mrs. Samuel L (Edwiga Grabowska)',\n",
       " 'Nirva, Mr. Iisakki Antino Aijo',\n",
       " 'de Pelsmaeker, Mr. Alfons',\n",
       " 'Arnold-Franchi, Mr. Josef',\n",
       " 'Odahl, Mr. Nils Martin',\n",
       " 'Jensen, Mr. Niels Peder',\n",
       " 'Dean, Master. Bertram Vere',\n",
       " 'Somerton, Mr. Francis William',\n",
       " 'Yasbeck, Mr. Antoni',\n",
       " 'Elias, Mr. Dibo',\n",
       " 'Allison, Mrs. Hudson J C (Bessie Waldo Daniels)',\n",
       " 'Kantor, Mr. Sinai',\n",
       " 'Windelov, Mr. Einar',\n",
       " 'Lahoud, Mr. Sarkis',\n",
       " 'Silvey, Mrs. William Baird (Alice Munger)',\n",
       " 'Sjoblom, Miss. Anna Sofia',\n",
       " 'Moran, Miss. Bertha',\n",
       " 'Stanley, Miss. Amy Zillah Elsie',\n",
       " 'Chapman, Mr. Charles Henry',\n",
       " 'Harmer, Mr. Abraham (David Lishin)',\n",
       " 'Kelly, Miss. Anna Katherine \"Annie Kate\"',\n",
       " 'Hippach, Mrs. Louis Albert (Ida Sophia Fischer)',\n",
       " 'Cleaver, Miss. Alice',\n",
       " 'Vestrom, Miss. Hulda Amanda Adolfina',\n",
       " 'Faunthorpe, Mrs. Lizzie (Elizabeth Anne Wilkinson)',\n",
       " 'Danbom, Mr. Ernst Gilbert',\n",
       " 'Abbott, Mrs. Stanton (Rosa Hunt)',\n",
       " 'Francatelli, Miss. Laura Mabel',\n",
       " 'Keefe, Mr. Arthur',\n",
       " 'Stephenson, Mrs. Walter Bertram (Martha Eustis)',\n",
       " 'Knight, Mr. Robert J',\n",
       " 'Lindell, Mr. Edvard Bengtsson',\n",
       " 'Christy, Miss. Julie Rachel',\n",
       " 'Danbom, Mrs. Ernst Gilbert (Anna Sigrid Maria Brogren)',\n",
       " 'Beesley, Mr. Lawrence',\n",
       " 'Caldwell, Master. Alden Gates',\n",
       " 'Chip, Mr. Chang',\n",
       " 'Boulos, Mr. Hanna',\n",
       " 'Nicola-Yarred, Miss. Jamila',\n",
       " 'Harper, Miss. Annie Jessie \"Nina\"',\n",
       " 'Jansson, Mr. Carl Olof',\n",
       " 'Petranec, Miss. Matilda',\n",
       " 'Natsch, Mr. Charles H',\n",
       " 'Johannesen-Bratthammer, Mr. Bernt',\n",
       " 'Reuchlin, Jonkheer. John George',\n",
       " 'Ryerson, Miss. Emily Borie',\n",
       " 'Sage, Miss. Constance Gladys',\n",
       " 'Kenyon, Mrs. Frederick R (Marion)',\n",
       " 'Colley, Mr. Edward Pomeroy',\n",
       " 'Stranden, Mr. Juho',\n",
       " 'Johnston, Mr. Andrew G',\n",
       " 'Pinsky, Mrs. (Rosa)',\n",
       " 'Kallio, Mr. Nikolai Erland',\n",
       " 'Hakkarainen, Mrs. Pekka Pietari (Elin Matilda Dolck)',\n",
       " \"O'Connell, Mr. Patrick D\",\n",
       " 'Troupiansky, Mr. Moses Aaron',\n",
       " 'Andersson, Mr. August Edvard (\"Wennerstrom\")',\n",
       " 'Webber, Mr. James',\n",
       " 'Spencer, Mrs. William Augustus (Marie Eugenie)',\n",
       " 'Blackwell, Mr. Stephen Weart',\n",
       " 'Lahtinen, Mrs. William (Anna Sylfven)',\n",
       " 'Yrois, Miss. Henriette (\"Mrs Harbeck\")',\n",
       " 'Sjostedt, Mr. Ernst Adolf',\n",
       " 'Rice, Master. Eric',\n",
       " 'Strandberg, Miss. Ida Sofia',\n",
       " 'Troutt, Miss. Edwina Celia \"Winnie\"',\n",
       " 'Butt, Major. Archibald Willingham',\n",
       " 'Bengtsson, Mr. John Viktor',\n",
       " 'Foreman, Mr. Benjamin Laventall',\n",
       " 'Rosblom, Mrs. Viktor (Helena Wilhelmina)',\n",
       " 'Svensson, Mr. Olof',\n",
       " 'Leonard, Mr. Lionel',\n",
       " 'Carlsson, Mr. August Sigfrid',\n",
       " 'Cherry, Miss. Gladys',\n",
       " 'Allen, Mr. William Henry',\n",
       " 'Kink, Mr. Vincenz',\n",
       " 'Pettersson, Miss. Ellen Natalia',\n",
       " 'Madsen, Mr. Fridtjof Arne',\n",
       " 'Youseff, Mr. Gerious',\n",
       " 'Turkula, Mrs. (Hedwig)',\n",
       " 'Lennon, Mr. Denis',\n",
       " 'Andrew, Mr. Edgardo Samuel',\n",
       " 'Gale, Mr. Shadrach',\n",
       " 'Eustis, Miss. Elizabeth Mussey',\n",
       " 'Ali, Mr. William',\n",
       " 'Hegarty, Miss. Hanora \"Nora\"',\n",
       " 'Skoog, Mrs. William (Anna Bernhardina Karlsson)',\n",
       " 'Carrau, Mr. Francisco M',\n",
       " 'Porter, Mr. Walter Chamberlain',\n",
       " 'Yasbeck, Mrs. Antoni (Selini Alexander)',\n",
       " 'Peter, Miss. Anna',\n",
       " 'Eklund, Mr. Hans Linus',\n",
       " 'Williams, Mr. Howard Hugh \"Harry\"',\n",
       " 'Parrish, Mrs. (Lutie Davis)',\n",
       " 'Palsson, Miss. Torborg Danira',\n",
       " 'Lemore, Mrs. (Amelia Milley)',\n",
       " 'Svensson, Mr. Johan',\n",
       " 'Bourke, Mrs. John (Catherine)',\n",
       " 'Lam, Mr. Ali',\n",
       " 'Van Impe, Miss. Catharina',\n",
       " 'McDermott, Miss. Brigdet Delia',\n",
       " 'Cacic, Miss. Marija',\n",
       " 'Leinonen, Mr. Antti Gustaf',\n",
       " 'Canavan, Miss. Mary',\n",
       " 'Harris, Mr. George',\n",
       " 'Potter, Mrs. Thomas Jr (Lily Alexenia Wilson)',\n",
       " 'Mitchell, Mr. Henry Michael',\n",
       " 'Dimic, Mr. Jovan',\n",
       " 'Mannion, Miss. Margareth',\n",
       " 'Weisz, Mrs. Leopold (Mathilde Francoise Pede)',\n",
       " 'Hart, Miss. Eva Miriam',\n",
       " 'Kilgannon, Mr. Thomas J',\n",
       " 'Connors, Mr. Patrick',\n",
       " 'Zabour, Miss. Thamine',\n",
       " 'Sagesser, Mlle. Emma',\n",
       " 'Mack, Mrs. (Mary)',\n",
       " 'O\\'Dwyer, Miss. Ellen \"Nellie\"',\n",
       " 'Coxon, Mr. Daniel',\n",
       " 'Romaine, Mr. Charles Hallace (\"Mr C Rolmane\")',\n",
       " 'Skoog, Miss. Mabel',\n",
       " 'Carter, Mr. William Ernest',\n",
       " 'Fortune, Mr. Mark',\n",
       " 'Larsson, Mr. Bengt Edvin',\n",
       " 'Cairns, Mr. Alexander',\n",
       " 'Robert, Mrs. Edward Scott (Elisabeth Walton McMillan)',\n",
       " 'Bostandyeff, Mr. Guentcho',\n",
       " 'Hold, Mr. Stephen',\n",
       " 'Hays, Miss. Margaret Bechstein',\n",
       " 'Calic, Mr. Jovo',\n",
       " 'O\\'Brien, Mrs. Thomas (Johanna \"Hannah\" Godfrey)',\n",
       " 'Johansson, Mr. Gustaf Joel',\n",
       " 'Fortune, Miss. Alice Elizabeth',\n",
       " 'Cameron, Miss. Clear Annie',\n",
       " 'Johnson, Mr. Alfred',\n",
       " 'Sage, Master. Thomas Henry',\n",
       " 'Mamee, Mr. Hanna',\n",
       " 'Sage, Miss. Dorothy Edith \"Dolly\"',\n",
       " 'Andersson, Miss. Ellis Anna Maria',\n",
       " 'Ostby, Mr. Engelhart Cornelius',\n",
       " 'Taylor, Mrs. Elmer Zebley (Juliet Cummins Wright)',\n",
       " 'Jacobsohn, Mr. Sidney Samuel',\n",
       " 'Long, Mr. Milton Clyde',\n",
       " 'Leyson, Mr. Robert William Norman',\n",
       " 'Allison, Master. Hudson Trevor',\n",
       " 'Berriman, Mr. William John',\n",
       " 'Pernot, Mr. Rene',\n",
       " 'Taylor, Mr. Elmer Zebley',\n",
       " 'Fox, Mr. Stanley Hubert',\n",
       " 'Roebling, Mr. Washington Augustus II',\n",
       " 'Bishop, Mr. Dickinson H',\n",
       " 'Kassem, Mr. Fared',\n",
       " 'Navratil, Master. Michel M',\n",
       " 'Harper, Mr. Henry Sleeper',\n",
       " 'Wiseman, Mr. Phillippe',\n",
       " 'Adams, Mr. John',\n",
       " 'Beane, Mrs. Edward (Ethel Clarke)',\n",
       " 'Jerwan, Mrs. Amin S (Marie Marthe Thuillard)',\n",
       " 'Ohman, Miss. Velin',\n",
       " 'Coutts, Master. William Loch \"William\"',\n",
       " 'Compton, Miss. Sara Rebecca',\n",
       " 'Murphy, Miss. Margaret Jane',\n",
       " 'Gilnagh, Miss. Katherine \"Katie\"',\n",
       " 'Dahl, Mr. Karl Edwart',\n",
       " 'Dorking, Mr. Edward Arthur',\n",
       " 'Williams, Mr. Leslie',\n",
       " 'Flynn, Mr. John Irwin (\"Irving\")',\n",
       " 'Fleming, Miss. Margaret',\n",
       " 'Vande Velde, Mr. Johannes Joseph',\n",
       " 'Nasser, Mrs. Nicholas (Adele Achem)',\n",
       " 'Lindahl, Miss. Agda Thorilda Viktoria',\n",
       " 'Bishop, Mrs. Dickinson H (Helen Walton)',\n",
       " 'Panula, Mr. Jaako Arnold',\n",
       " 'Beavan, Mr. William Thomas',\n",
       " 'Lehmann, Miss. Bertha',\n",
       " 'Meyer, Mr. Edgar Joseph',\n",
       " 'Brewe, Dr. Arthur Jackson',\n",
       " 'Wheadon, Mr. Edward H',\n",
       " 'Crosby, Miss. Harriet R',\n",
       " 'Carter, Master. William Thornton II',\n",
       " 'Duff Gordon, Lady. (Lucille Christiana Sutherland) (\"Mrs Morgan\")',\n",
       " 'Fynney, Mr. Joseph J',\n",
       " 'Rogers, Mr. William John',\n",
       " 'Watson, Mr. Ennis Hastings',\n",
       " 'Baclini, Miss. Marie Catherine',\n",
       " 'McGough, Mr. James Robert',\n",
       " 'Bowerman, Miss. Elsie Edith',\n",
       " 'Jussila, Miss. Mari Aina',\n",
       " 'Pickard, Mr. Berk (Berk Trembisky)',\n",
       " 'Johnson, Mr. Malkolm Joackim',\n",
       " 'Lam, Mr. Len',\n",
       " 'Plotcharsky, Mr. Vasil',\n",
       " 'Dodge, Master. Washington',\n",
       " 'Phillips, Miss. Kate Florence (\"Mrs Kate Louise Phillips Marshall\")',\n",
       " 'Robbins, Mr. Victor',\n",
       " 'Karaic, Mr. Milan',\n",
       " 'Glynn, Miss. Mary Agatha',\n",
       " 'Peters, Miss. Katie',\n",
       " 'Eitemiller, Mr. George Floyd',\n",
       " 'Sdycoff, Mr. Todor',\n",
       " 'Goodwin, Mr. Charles Edward',\n",
       " 'Connaghton, Mr. Michael',\n",
       " 'Henry, Miss. Delia',\n",
       " 'Tobin, Mr. Roger',\n",
       " 'Quick, Mrs. Frederick Charles (Jane Richards)',\n",
       " 'Byles, Rev. Thomas Roussel Davids',\n",
       " 'Sharp, Mr. Percival James R',\n",
       " 'Bryhl, Mr. Kurt Arnold Gottfrid',\n",
       " 'Brown, Miss. Amelia \"Mildred\"',\n",
       " 'Nye, Mrs. (Elizabeth Ramell)',\n",
       " 'Nicholls, Mr. Joseph Charles',\n",
       " 'Waelens, Mr. Achille',\n",
       " 'Baxter, Mrs. James (Helene DeLaudeniere Chaput)',\n",
       " 'Farrell, Mr. James',\n",
       " 'Hodges, Mr. Henry Price',\n",
       " 'Gill, Mr. John William',\n",
       " 'Lobb, Mr. William Arthur',\n",
       " 'Taussig, Mrs. Emil (Tillie Mandelbaum)',\n",
       " 'Bradley, Mr. George (\"George Arthur Brayton\")',\n",
       " 'Frauenthal, Dr. Henry William',\n",
       " 'Kvillner, Mr. Johan Henrik Johannesson',\n",
       " 'Williams, Mr. Charles Eugene',\n",
       " 'Hart, Mrs. Benjamin (Esther Ada Bloomfield)',\n",
       " 'Ryerson, Miss. Susan Parker \"Suzette\"',\n",
       " 'Olsen, Mr. Ole Martin',\n",
       " 'Minahan, Miss. Daisy E',\n",
       " 'Nankoff, Mr. Minko',\n",
       " 'Karlsson, Mr. Nils August',\n",
       " 'Elias, Mr. Joseph Jr',\n",
       " 'Johansson, Mr. Karl Johan',\n",
       " 'Barah, Mr. Hanna Assi',\n",
       " 'Sadlier, Mr. Matthew',\n",
       " 'Dooley, Mr. Patrick',\n",
       " 'Perkin, Mr. John Henry',\n",
       " 'McKane, Mr. Peter David',\n",
       " 'Abbott, Mr. Rossmore Edward',\n",
       " 'Leitch, Miss. Jessie Wills',\n",
       " 'Sutehall, Mr. Henry Jr',\n",
       " 'Connolly, Miss. Kate',\n",
       " 'Fortune, Miss. Mabel Helen',\n",
       " 'Slayter, Miss. Hilda Mary',\n",
       " 'Pavlovic, Mr. Stefo',\n",
       " 'Chibnall, Mrs. (Edith Martha Bowerman)',\n",
       " 'Hakkarainen, Mr. Pekka Pietari',\n",
       " 'Andersson, Miss. Ebba Iris Alfrida',\n",
       " 'Kraeff, Mr. Theodor',\n",
       " 'Carlsson, Mr. Frans Olof',\n",
       " 'Silverthorne, Mr. Spencer Victor',\n",
       " 'Vander Planke, Mr. Leo Edmondus',\n",
       " 'van Billiard, Mr. Austin Blyler',\n",
       " 'Oreskovic, Miss. Marija',\n",
       " 'Stoytcheff, Mr. Ilia',\n",
       " 'Seward, Mr. Frederic Kimber',\n",
       " 'Becker, Miss. Marion Louise',\n",
       " 'Meyer, Mr. August',\n",
       " 'Fry, Mr. Richard',\n",
       " 'Milling, Mr. Jacob Christian',\n",
       " 'Barkworth, Mr. Algernon Henry Wilson',\n",
       " 'Mineff, Mr. Ivan',\n",
       " 'Allum, Mr. Owen George',\n",
       " 'Sheerlinck, Mr. Jan Baptist',\n",
       " 'Kelly, Miss. Mary',\n",
       " 'Gronnestad, Mr. Daniel Danielsen',\n",
       " 'Horgan, Mr. John',\n",
       " 'Balkic, Mr. Cerin',\n",
       " 'Pekoniemi, Mr. Edvard',\n",
       " 'Stanley, Mr. Edward Roland',\n",
       " 'Bissette, Miss. Amelia',\n",
       " 'Hamalainen, Mrs. William (Anna)',\n",
       " 'Petterson, Mr. Johan Emil',\n",
       " 'Paulner, Mr. Uscher',\n",
       " 'Patchett, Mr. George',\n",
       " 'Isham, Miss. Ann Elizabeth',\n",
       " 'Kelly, Mrs. Florence \"Fannie\"',\n",
       " 'Hocking, Mrs. Elizabeth (Eliza Needs)',\n",
       " 'Holverson, Mr. Alexander Oskar',\n",
       " 'Laroche, Miss. Simonne Marie Anne Andree',\n",
       " 'Vander Cruyssen, Mr. Victor',\n",
       " 'Carter, Miss. Lucile Polk',\n",
       " 'Asplund, Master. Edvin Rojj Felix',\n",
       " 'Appleton, Mrs. Edward Dale (Charlotte Lamson)',\n",
       " 'Toufik, Mr. Nakli',\n",
       " 'Smith, Mr. Thomas',\n",
       " 'Futrelle, Mr. Jacques Heath',\n",
       " 'Van der hoef, Mr. Wyckoff',\n",
       " 'Daly, Mr. Eugene Patrick',\n",
       " 'Harrington, Mr. Charles H',\n",
       " 'Blank, Mr. Henry',\n",
       " 'Hansen, Mr. Henrik Juul',\n",
       " 'van Melkebeke, Mr. Philemon',\n",
       " 'Coelho, Mr. Domingos Fernandeo',\n",
       " 'Thomas, Master. Assad Alexander',\n",
       " 'Andrews, Miss. Kornelia Theodosia',\n",
       " 'Hart, Mr. Benjamin',\n",
       " 'Vanden Steen, Mr. Leo Peter',\n",
       " 'Cacic, Mr. Luka',\n",
       " 'Elias, Mr. Tannous',\n",
       " 'Jussila, Mr. Eiriik',\n",
       " 'Gustafsson, Mr. Alfred Ossian',\n",
       " 'Saundercock, Mr. William Henry',\n",
       " 'Masselmani, Mrs. Fatima',\n",
       " \"O'Brien, Mr. Timothy\",\n",
       " 'Renouf, Mr. Peter Henry',\n",
       " 'Bourke, Miss. Mary',\n",
       " 'Adahl, Mr. Mauritz Nils Martin',\n",
       " 'Andersson, Miss. Ingeborg Constanzia',\n",
       " 'Braund, Mr. Owen Harris',\n",
       " 'Gustafsson, Mr. Anders Vilhelm',\n",
       " 'Shellard, Mr. Frederick William',\n",
       " 'Goldsmith, Mr. Frank John',\n",
       " 'Hirvonen, Miss. Hildur E',\n",
       " 'Hays, Mrs. Charles Melville (Clara Jennings Gregg)',\n",
       " 'Najib, Miss. Adele Kiamie \"Jane\"',\n",
       " 'Clifford, Mr. George Quincy',\n",
       " 'West, Mrs. Edwy Arthur (Ada Mary Worth)',\n",
       " 'Hart, Mr. Henry',\n",
       " 'Johnson, Master. Harold Theodor',\n",
       " 'Skoog, Master. Karl Thorsten',\n",
       " 'Newsom, Miss. Helen Monypeny',\n",
       " 'West, Miss. Constance Mirium',\n",
       " 'Stone, Mrs. George Nelson (Martha Evelyn)',\n",
       " 'Gustafsson, Mr. Karl Gideon',\n",
       " 'Allen, Miss. Elisabeth Walton',\n",
       " 'Buss, Miss. Kate',\n",
       " 'Frolicher-Stehli, Mr. Maxmillian',\n",
       " 'Hogeboom, Mrs. John C (Anna Andrews)',\n",
       " 'Homer, Mr. Harry (\"Mr E Haven\")',\n",
       " 'Reynaldo, Ms. Encarnacion',\n",
       " 'Banfield, Mr. Frederick James',\n",
       " 'Persson, Mr. Ernst Ulrik',\n",
       " 'Skoog, Miss. Margit Elizabeth',\n",
       " 'Lines, Miss. Mary Conover',\n",
       " 'Douglas, Mr. Walter Donald',\n",
       " 'Taussig, Mr. Emil',\n",
       " 'Williams-Lambert, Mr. Fletcher Fellows',\n",
       " 'Rice, Master. Arthur',\n",
       " 'Leeni, Mr. Fahim (\"Philip Zenni\")',\n",
       " 'Ibrahim Shawah, Mr. Yousseff',\n",
       " 'Shorney, Mr. Charles Joseph',\n",
       " 'Murdlin, Mr. Joseph',\n",
       " 'West, Mr. Edwy Arthur',\n",
       " 'Fortune, Mr. Charles Alexander',\n",
       " 'Hedman, Mr. Oskar Arvid',\n",
       " 'Sawyer, Mr. Frederick Charles',\n",
       " 'Harrison, Mr. William',\n",
       " 'Harknett, Miss. Alice Phoebe',\n",
       " 'Abelson, Mrs. Samuel (Hannah Wizosky)',\n",
       " 'Flynn, Mr. John',\n",
       " 'Astor, Mrs. John Jacob (Madeleine Talmadge Force)',\n",
       " 'Andersson, Miss. Sigrid Elisabeth',\n",
       " 'Baumann, Mr. John D',\n",
       " 'Peter, Mrs. Catherine (Catherine Rizk)',\n",
       " 'Frost, Mr. Anthony Wood \"Archie\"',\n",
       " 'Moraweck, Dr. Ernest',\n",
       " 'Badt, Mr. Mohamed',\n",
       " 'Gheorgheff, Mr. Stanio',\n",
       " 'Rugg, Miss. Emily',\n",
       " 'Caram, Mrs. Joseph (Maria Elias)',\n",
       " 'Cavendish, Mr. Tyrell William',\n",
       " 'Zimmerman, Mr. Leo',\n",
       " 'Moss, Mr. Albert Johan',\n",
       " 'Rothschild, Mrs. Martin (Elizabeth L. Barrett)',\n",
       " 'Madigan, Miss. Margaret \"Maggie\"',\n",
       " 'Downton, Mr. William James',\n",
       " 'Meo, Mr. Alfonzo',\n",
       " 'Bailey, Mr. Percy Andrew',\n",
       " 'Madill, Miss. Georgette Alexandra',\n",
       " 'Maenpaa, Mr. Matti Alexanteri',\n",
       " 'Asplund, Mrs. Carl Oscar (Selma Augusta Emilia Johansson)',\n",
       " 'Anderson, Mr. Harry',\n",
       " 'Angle, Mrs. William A (Florence \"Mary\" Agnes Hughes)',\n",
       " 'Holm, Mr. John Fredrik Alexander',\n",
       " 'Augustsson, Mr. Albert',\n",
       " 'Ball, Mrs. (Ada E Hall)',\n",
       " 'Aks, Mrs. Sam (Leah Rosen)',\n",
       " 'Norman, Mr. Robert Douglas',\n",
       " 'Asplund, Miss. Lillian Gertrud',\n",
       " 'McGovern, Miss. Mary',\n",
       " 'Mernagh, Mr. Robert',\n",
       " 'Klaber, Mr. Herman',\n",
       " 'Collyer, Miss. Marjorie \"Lottie\"',\n",
       " 'Yousif, Mr. Wazli',\n",
       " 'Sirayanian, Mr. Orsen',\n",
       " 'Giglio, Mr. Victor',\n",
       " 'Cumings, Mrs. John Bradley (Florence Briggs Thayer)',\n",
       " 'Leader, Dr. Alice (Farnham)',\n",
       " 'Thayer, Mrs. John Borland (Marian Longstreth Morris)',\n",
       " 'Johnson, Mr. William Cahoone Jr',\n",
       " 'Rice, Mrs. William (Margaret Norton)',\n",
       " 'Touma, Mrs. Darwis (Hanne Youssef Razi)',\n",
       " 'Behr, Mr. Karl Howell',\n",
       " 'Dean, Mr. Bertram Frank',\n",
       " 'O\\'Leary, Miss. Hanora \"Norah\"',\n",
       " 'Mudd, Mr. Thomas Charles',\n",
       " 'Barton, Mr. David John',\n",
       " 'Moutal, Mr. Rahamin Haim',\n",
       " 'Hansen, Mr. Henry Damsgaard',\n",
       " 'Kirkland, Rev. Charles Leonard',\n",
       " 'Louch, Mrs. Charles Alexander (Alice Adelaide Slow)',\n",
       " 'Lefebre, Miss. Ida',\n",
       " 'Mayne, Mlle. Berthe Antonine (\"Mrs de Villiers\")',\n",
       " 'Williams, Mr. Charles Duane',\n",
       " 'Fahlstrom, Mr. Arne Jonas',\n",
       " 'Herman, Miss. Alice',\n",
       " 'Millet, Mr. Francis Davis',\n",
       " 'Sirota, Mr. Maurice',\n",
       " 'Lulic, Mr. Nikola',\n",
       " 'Asplund, Master. Clarence Gustaf Hugo',\n",
       " 'Strom, Miss. Telma Matilda',\n",
       " 'Hale, Mr. Reginald',\n",
       " 'Carter, Rev. Ernest Courtenay',\n",
       " 'Strom, Mrs. Wilhelm (Elna Matilda Persson)',\n",
       " 'Zabour, Miss. Hileni',\n",
       " 'Smith, Mr. James Clinch',\n",
       " 'Palsson, Miss. Stina Viola',\n",
       " 'Johanson, Mr. Jakob Alfred',\n",
       " 'Jarvis, Mr. John Denzil',\n",
       " 'Birkeland, Mr. Hans Martin Monsen',\n",
       " 'Gilinski, Mr. Eliezer',\n",
       " 'Healy, Miss. Hanora \"Nora\"',\n",
       " 'Cann, Mr. Ernest Charles',\n",
       " 'Allison, Miss. Helen Loraine',\n",
       " 'Mellors, Mr. William John',\n",
       " 'McCoy, Miss. Agnes',\n",
       " 'Kalvik, Mr. Johannes Halvorsen',\n",
       " 'Greenberg, Mr. Samuel',\n",
       " 'Razi, Mr. Raihed',\n",
       " 'Beckwith, Mrs. Richard Leonard (Sallie Monypeny)',\n",
       " 'Wick, Miss. Mary Natalie',\n",
       " 'Artagaveytia, Mr. Ramon',\n",
       " 'Farthing, Mr. John',\n",
       " 'Hickman, Mr. Leonard Mark',\n",
       " 'Caldwell, Mrs. Albert Francis (Sylvia Mae Harbaugh)',\n",
       " \"O'Driscoll, Miss. Bridget\",\n",
       " 'Yousseff, Mr. Gerious',\n",
       " 'Barber, Miss. Ellen \"Nellie\"',\n",
       " 'Panula, Mr. Ernesti Arvid',\n",
       " 'Heininen, Miss. Wendla Maria',\n",
       " 'Boulos, Miss. Nourelain',\n",
       " 'Calderhead, Mr. Edward Pennington',\n",
       " 'Goodwin, Master. Sidney Leonard',\n",
       " 'Daniel, Mr. Robert Williams',\n",
       " 'Carter, Mrs. Ernest Courtenay (Lilian Hughes)',\n",
       " 'Samaan, Mr. Youssef',\n",
       " 'Robins, Mrs. Alexander A (Grace Charity Laury)',\n",
       " 'Karun, Miss. Manca',\n",
       " 'White, Mr. Percival Wayland',\n",
       " 'Lefebre, Miss. Jeannie',\n",
       " 'Hoyt, Mr. Frederick Maxfield',\n",
       " 'Renouf, Mrs. Peter Henry (Lillian Jefferys)',\n",
       " 'Wilhelms, Mr. Charles',\n",
       " 'Bracken, Mr. James H',\n",
       " 'Dick, Mrs. Albert Adrian (Vera Gillespie)',\n",
       " 'Brown, Mrs. Thomas William Solomon (Elizabeth Catherine Ford)',\n",
       " 'Baclini, Mrs. Solomon (Latifa Qurban)',\n",
       " 'Saalfeld, Mr. Adolphe',\n",
       " 'Smart, Mr. John Montgomery',\n",
       " 'Nysten, Miss. Anna Sofia',\n",
       " 'Pears, Mrs. Thomas (Edith Wearne)',\n",
       " 'Nicholson, Mr. Arthur Ernest',\n",
       " 'Alexander, Mr. William',\n",
       " 'Davison, Mrs. Thomas Henry (Mary E Finck)',\n",
       " 'Richards, Master. William Rowe',\n",
       " 'Hickman, Mr. Lewis',\n",
       " 'Backstrom, Mr. Karl Alfred',\n",
       " 'Beane, Mr. Edward',\n",
       " 'Becker, Master. Richard F',\n",
       " 'Harris, Mr. Walter',\n",
       " 'Ross, Mr. John Hugo',\n",
       " 'Richards, Master. George Sibley',\n",
       " 'Simmons, Mr. John',\n",
       " 'Emir, Mr. Farred Chehab',\n",
       " 'Hendekovic, Mr. Ignjac',\n",
       " 'Turpin, Mrs. William John Robert (Dorothy Ann Wonnacott)',\n",
       " 'Bing, Mr. Lee',\n",
       " 'Cook, Mr. Jacob',\n",
       " 'Chronopoulos, Mr. Apostolos',\n",
       " 'Trout, Mrs. William H (Jessie L)',\n",
       " 'Keane, Miss. Nora A',\n",
       " 'Jonsson, Mr. Carl',\n",
       " 'Murphy, Miss. Katherine \"Kate\"',\n",
       " 'Olsvigen, Mr. Thor Anderson',\n",
       " 'Pasic, Mr. Jakob',\n",
       " 'Flynn, Mr. James',\n",
       " 'Backstrom, Mrs. Karl Alfred (Maria Mathilda Gustafsson)',\n",
       " 'Skoog, Mr. Wilhelm',\n",
       " 'Andreasson, Mr. Paul Edvin',\n",
       " 'Rush, Mr. Alfred George John',\n",
       " 'Shutes, Miss. Elizabeth W',\n",
       " 'Hagland, Mr. Ingvald Olai Olsen',\n",
       " 'Sage, Miss. Stella Anna',\n",
       " 'Endres, Miss. Caroline Louise',\n",
       " 'Lang, Mr. Fang',\n",
       " 'Guggenheim, Mr. Benjamin',\n",
       " 'Lewy, Mr. Ervin G',\n",
       " 'Edvardsson, Mr. Gustaf Hjalmar',\n",
       " 'Palsson, Mrs. Nils (Alma Cornelia Berglund)',\n",
       " 'Coutts, Master. Eden Leslie \"Neville\"',\n",
       " 'Drazenoic, Mr. Jozef',\n",
       " 'Mellinger, Mrs. (Elizabeth Anne Maidment)',\n",
       " 'Moussa, Mrs. (Mantoura Boulos)',\n",
       " 'Jacobsohn, Mrs. Sidney Samuel (Amy Frances Christy)',\n",
       " 'Duane, Mr. Frank',\n",
       " 'Stahelin-Maeglin, Dr. Max',\n",
       " 'Doling, Miss. Elsie',\n",
       " 'Reed, Mr. James George',\n",
       " 'Heikkinen, Miss. Laina',\n",
       " 'Risien, Mr. Samuel Beard',\n",
       " 'Weir, Col. John',\n",
       " 'Hassan, Mr. Houssein G N',\n",
       " 'Naidenoff, Mr. Penko',\n",
       " 'Dahlberg, Miss. Gerda Ulrika',\n",
       " 'Baclini, Miss. Helene Barbara',\n",
       " 'Corn, Mr. Harry',\n",
       " 'Davies, Mr. Alfred J',\n",
       " 'Rice, Master. Eugene',\n",
       " 'Silvey, Mr. William Baird',\n",
       " 'Larsson, Mr. August Viktor',\n",
       " 'Nenkoff, Mr. Christo',\n",
       " 'Slemen, Mr. Richard James',\n",
       " 'Spedden, Mrs. Frederic Oakley (Margaretta Corning Stone)',\n",
       " 'Moran, Mr. Daniel J',\n",
       " 'Uruchurtu, Don. Manuel E',\n",
       " 'Lovell, Mr. John Hall (\"Henry\")',\n",
       " 'McCarthy, Mr. Timothy J',\n",
       " 'Butler, Mr. Reginald Fenton',\n",
       " 'Bjornstrom-Steffansson, Mr. Mauritz Hakan',\n",
       " 'Hippach, Miss. Jean Gertrude',\n",
       " 'Lefebre, Master. Henry Forbes',\n",
       " 'Ilett, Miss. Bertha',\n",
       " 'Richard, Mr. Emile',\n",
       " 'Hickman, Mr. Stanley George',\n",
       " 'Kantor, Mrs. Sinai (Miriam Sternin)',\n",
       " 'Daly, Mr. Peter Denis ',\n",
       " 'Jensen, Mr. Hans Peder',\n",
       " 'Hagland, Mr. Konrad Mathias Reiersen',\n",
       " 'Goncalves, Mr. Manuel Estanslas',\n",
       " 'Tornquist, Mr. William Henry',\n",
       " 'Swift, Mrs. Frederick Joel (Margaret Welles Barron)',\n",
       " 'Thorne, Mrs. Gertrude Maybelle',\n",
       " 'Ford, Miss. Robina Maggie \"Ruby\"',\n",
       " 'Humblen, Mr. Adolf Mathias Nicolai Olsen',\n",
       " 'Collyer, Mrs. Harvey (Charlotte Annie Tate)',\n",
       " 'Pengelly, Mr. Frederick William',\n",
       " 'Mellinger, Miss. Madeleine Violet',\n",
       " 'Marvin, Mr. Daniel Warner',\n",
       " 'Radeff, Mr. Alexander',\n",
       " 'Thorneycroft, Mrs. Percival (Florence Kate White)',\n",
       " 'Calic, Mr. Petar',\n",
       " 'Graham, Mr. George Edward',\n",
       " 'Ponesell, Mr. Martin',\n",
       " 'del Carlo, Mr. Sebastiano',\n",
       " 'Rosblom, Mr. Viktor Richard',\n",
       " 'Clarke, Mrs. Charles V (Ada Maria Winfield)',\n",
       " 'Van Impe, Mr. Jean Baptiste',\n",
       " 'Ford, Mrs. Edward (Margaret Ann Watson)',\n",
       " 'Wells, Miss. Joan',\n",
       " 'Mangan, Miss. Mary',\n",
       " 'Mitkoff, Mr. Mito',\n",
       " 'Panula, Master. Juha Niilo',\n",
       " 'Lundahl, Mr. Johan Svensson',\n",
       " 'Ford, Miss. Doolina Margaret \"Daisy\"',\n",
       " \"O'Sullivan, Miss. Bridget Mary\",\n",
       " 'Nilsson, Miss. Helmina Josefina',\n",
       " 'Bowen, Mr. David John \"Dai\"',\n",
       " 'Minahan, Dr. William Edward',\n",
       " 'Woolner, Mr. Hugh',\n",
       " 'Van Impe, Mrs. Jean Baptiste (Rosalie Paula Govaert)',\n",
       " 'Hanna, Mr. Mansour',\n",
       " 'Gillespie, Mr. William Henry',\n",
       " 'Ivanoff, Mr. Kanio',\n",
       " 'Garfirth, Mr. John',\n",
       " 'Longley, Miss. Gretchen Fiske',\n",
       " 'Bazzani, Miss. Albina',\n",
       " 'Smith, Mr. Richard William',\n",
       " 'Navratil, Master. Edmond Roger',\n",
       " 'Morrow, Mr. Thomas Rowan',\n",
       " 'Johnston, Miss. Catherine Helen \"Carrie\"',\n",
       " 'Shelley, Mrs. William (Imanita Parrish Hall)',\n",
       " 'Moran, Mr. James',\n",
       " 'Brown, Mrs. James Joseph (Margaret Tobin)',\n",
       " 'Ilmakangas, Miss. Pieta Sofia',\n",
       " 'Andersen-Jensen, Miss. Carla Christine Nielsine',\n",
       " 'McNamee, Mr. Neal',\n",
       " 'Garside, Miss. Ethel',\n",
       " 'Lurette, Miss. Elise',\n",
       " 'Moen, Mr. Sigurd Hansen',\n",
       " 'Penasco y Castellana, Mrs. Victor de Satode (Maria Josefa Perez de Soto y Vallejo)',\n",
       " 'Drew, Mrs. James Vivian (Lulu Thorne Christian)',\n",
       " 'Watt, Mrs. James (Elizabeth \"Bessie\" Inglis Milne)',\n",
       " 'Elsbury, Mr. William James',\n",
       " 'Carr, Miss. Helen \"Ellen\"',\n",
       " 'Chambers, Mrs. Norman Campbell (Bertha Griggs)',\n",
       " 'Davies, Master. John Morgan Jr',\n",
       " 'Fischer, Mr. Eberhard Thelander',\n",
       " 'Peduzzi, Mr. Joseph',\n",
       " 'Slabenoff, Mr. Petco',\n",
       " 'Burke, Mr. Jeremiah',\n",
       " 'Harris, Mrs. Henry Birkhardt (Irene Wallach)',\n",
       " 'Brocklebank, Mr. William Alfred',\n",
       " 'Newell, Miss. Madeleine',\n",
       " 'Chambers, Mr. Norman Campbell',\n",
       " 'Cribb, Mr. John Hatfield',\n",
       " 'Kimball, Mr. Edwin Nelson Jr',\n",
       " 'Nakid, Miss. Maria (\"Mary\")',\n",
       " 'Marechal, Mr. Pierre',\n",
       " 'Sage, Mr. Frederick',\n",
       " 'Hosono, Mr. Masabumi',\n",
       " 'Andersson, Mr. Anders Johan',\n",
       " 'Graham, Miss. Margaret Edith',\n",
       " 'Klasen, Mr. Klas Albin',\n",
       " 'Nosworthy, Mr. Richard Cater',\n",
       " 'Hampe, Mr. Leon',\n",
       " 'Danoff, Mr. Yoto',\n",
       " 'Attalah, Miss. Malake',\n",
       " 'Campbell, Mr. William',\n",
       " 'Ward, Miss. Anna',\n",
       " 'Sundman, Mr. Johan Julian',\n",
       " 'Collander, Mr. Erik Gustaf',\n",
       " 'Newell, Mr. Arthur Webster',\n",
       " 'Moor, Mrs. (Beila)',\n",
       " 'Green, Mr. George Henry',\n",
       " 'Frolicher, Miss. Hedwig Margaritha',\n",
       " 'Rood, Mr. Hugh Roscoe',\n",
       " 'Bateman, Rev. Robert James',\n",
       " 'Maioni, Miss. Roberta',\n",
       " 'Dakic, Mr. Branko',\n",
       " 'Toomey, Miss. Ellen',\n",
       " 'Mockler, Miss. Helen Mary \"Ellie\"',\n",
       " 'Ford, Mr. William Neal',\n",
       " 'Dick, Mr. Albert Adrian',\n",
       " 'Foo, Mr. Choong',\n",
       " 'Stankovic, Mr. Ivan',\n",
       " 'Widegren, Mr. Carl/Charles Peter',\n",
       " 'Icard, Miss. Amelie',\n",
       " 'Tikkanen, Mr. Juho',\n",
       " 'Goldenberg, Mr. Samuel L',\n",
       " 'Andersson, Master. Sigvard Harald Elias',\n",
       " 'Beckwith, Mr. Richard Leonard',\n",
       " 'Harris, Mr. Henry Birkhardt',\n",
       " 'McCoy, Mr. Bernard',\n",
       " 'Hocking, Mr. Richard George',\n",
       " 'Padro y Manent, Mr. Julian',\n",
       " 'Alhomaki, Mr. Ilmari Rudolf',\n",
       " 'Sage, Mr. Douglas Bullen',\n",
       " 'Rouse, Mr. Richard Henry',\n",
       " 'Sivola, Mr. Antti Wilhelm',\n",
       " 'Penasco y Castellana, Mr. Victor de Satode',\n",
       " 'Dantcheff, Mr. Ristiu',\n",
       " 'Reeves, Mr. David',\n",
       " 'Jussila, Miss. Katriina',\n",
       " 'Greenfield, Mr. William Bertram',\n",
       " 'Perreault, Miss. Anne',\n",
       " 'Taussig, Miss. Ruth',\n",
       " 'Kiernan, Mr. Philip',\n",
       " 'Theobald, Mr. Thomas Leonard',\n",
       " 'Coleridge, Mr. Reginald Charles',\n",
       " 'Andrews, Mr. Thomas Jr',\n",
       " 'Oreskovic, Mr. Luka',\n",
       " 'Abbing, Mr. Anthony',\n",
       " 'Laroche, Mr. Joseph Philippe Lemercier',\n",
       " 'Slocovski, Mr. Selman Francis',\n",
       " 'Chapman, Mr. John Henry',\n",
       " 'Lester, Mr. James',\n",
       " 'Landergren, Miss. Aurora Adelia',\n",
       " 'Simonius-Blumer, Col. Oberst Alfons',\n",
       " 'Meanwell, Miss. (Marion Ogden)',\n",
       " 'Wiklund, Mr. Jakob Alfred',\n",
       " 'Baxter, Mr. Quigg Edmond',\n",
       " 'Haas, Miss. Aloisia',\n",
       " 'Young, Miss. Marie Grice',\n",
       " 'Olsen, Mr. Henry Margido',\n",
       " 'Sandstrom, Mrs. Hjalmar (Agnes Charlotta Bengtsson)',\n",
       " 'Hoyt, Mrs. Frederick Maxfield (Jane Anne Forby)',\n",
       " 'Mallet, Mr. Albert',\n",
       " 'Lemberopolous, Mr. Peter L',\n",
       " 'Baclini, Miss. Eugenie',\n",
       " 'Lobb, Mrs. William Arthur (Cordelia K Stanlick)',\n",
       " 'Barbara, Mrs. (Catherine David)',\n",
       " 'Moore, Mr. Leonard Charles',\n",
       " 'White, Mr. Richard Frasar',\n",
       " 'Todoroff, Mr. Lalio',\n",
       " 'Olsson, Miss. Elina',\n",
       " 'Levy, Mr. Rene Jacques',\n",
       " 'Jensen, Mr. Svend Lauritz',\n",
       " 'Nysveen, Mr. Johan Hansen',\n",
       " 'Hansen, Mr. Claus Peter',\n",
       " 'Niskanen, Mr. Juha',\n",
       " 'Webber, Miss. Susan',\n",
       " 'Futrelle, Mrs. Jacques Heath (Lily May Peel)',\n",
       " 'Mionoff, Mr. Stoytcho',\n",
       " 'Coleff, Mr. Peju',\n",
       " 'Ahlin, Mrs. Johan (Johanna Persdotter Larsson)',\n",
       " 'Hassab, Mr. Hammad',\n",
       " 'Laleff, Mr. Kristo',\n",
       " 'Jalsevac, Mr. Ivan',\n",
       " 'LeRoy, Miss. Bertha',\n",
       " 'Harper, Mrs. Henry Sleeper (Myna Haxtun)',\n",
       " 'Rommetvedt, Mr. Knud Paust',\n",
       " 'Johansson, Mr. Erik',\n",
       " 'Duran y More, Miss. Asuncion',\n",
       " 'Peuchen, Major. Arthur Godfrey',\n",
       " \"O'Brien, Mr. Thomas\",\n",
       " 'Myhrman, Mr. Pehr Fabian Oliver Malkolm',\n",
       " 'Davidson, Mr. Thornton',\n",
       " 'Torber, Mr. Ernst William',\n",
       " 'Hewlett, Mrs. (Mary D Kingcome) ',\n",
       " 'Honkanen, Miss. Eliina',\n",
       " 'Moor, Master. Meier',\n",
       " 'Andersson, Miss. Erna Alexandra',\n",
       " 'Gallagher, Mr. Martin',\n",
       " 'Vander Planke, Mrs. Julius (Emelia Maria Vandemoortele)',\n",
       " 'Widener, Mr. Harry Elkins',\n",
       " 'Otter, Mr. Richard',\n",
       " 'Hawksford, Mr. Walter James',\n",
       " 'Osman, Mrs. Mara',\n",
       " 'Saad, Mr. Amin',\n",
       " 'Thayer, Mr. John Borland',\n",
       " 'Lesurer, Mr. Gustave J',\n",
       " 'Rekic, Mr. Tido',\n",
       " 'Frauenthal, Mrs. Henry William (Clara Heinsheimer)',\n",
       " 'Soholt, Mr. Peter Andreas Lauritz Andersen',\n",
       " 'Smiljanic, Mr. Mile',\n",
       " 'Brown, Mr. Thomas William Solomon',\n",
       " 'Goodwin, Master. Harold Victor',\n",
       " 'Turpin, Mr. William John Robert',\n",
       " 'Bystrom, Mrs. (Karolina)',\n",
       " 'Harper, Rev. John',\n",
       " 'Goodwin, Miss. Lillian Amy',\n",
       " 'Scanlan, Mr. James',\n",
       " 'Staneff, Mr. Ivan',\n",
       " 'Olsson, Mr. Nils Johan Goransson']"
      ]
     },
     "execution_count": 593,
     "metadata": {},
     "output_type": "execute_result"
    }
   ],
   "source": [
    "list(set(titan.Name))"
   ]
  },
  {
   "cell_type": "code",
   "execution_count": 594,
   "metadata": {},
   "outputs": [
    {
     "data": {
      "text/plain": [
       "891"
      ]
     },
     "execution_count": 594,
     "metadata": {},
     "output_type": "execute_result"
    }
   ],
   "source": [
    "titan.Name.nunique()"
   ]
  },
  {
   "cell_type": "code",
   "execution_count": 595,
   "metadata": {},
   "outputs": [
    {
     "data": {
      "text/plain": [
       "['male', 'female']"
      ]
     },
     "execution_count": 595,
     "metadata": {},
     "output_type": "execute_result"
    }
   ],
   "source": [
    "list(set(titan.Sex))"
   ]
  },
  {
   "cell_type": "code",
   "execution_count": 596,
   "metadata": {},
   "outputs": [
    {
     "data": {
      "text/plain": [
       "681"
      ]
     },
     "execution_count": 596,
     "metadata": {},
     "output_type": "execute_result"
    }
   ],
   "source": [
    "titan.Ticket.nunique()"
   ]
  },
  {
   "cell_type": "code",
   "execution_count": 597,
   "metadata": {},
   "outputs": [
    {
     "data": {
      "text/plain": [
       "[nan,\n",
       " 'D',\n",
       " 'C68',\n",
       " 'C78',\n",
       " 'T',\n",
       " 'B80',\n",
       " 'C47',\n",
       " 'C82',\n",
       " 'C93',\n",
       " 'B86',\n",
       " 'F E69',\n",
       " 'A19',\n",
       " 'B28',\n",
       " 'C128',\n",
       " 'E34',\n",
       " 'C23 C25 C27',\n",
       " 'C148',\n",
       " 'B49',\n",
       " 'A24',\n",
       " 'A26',\n",
       " 'C45',\n",
       " 'B4',\n",
       " 'F38',\n",
       " 'B35',\n",
       " 'D20',\n",
       " 'C49',\n",
       " 'A34',\n",
       " 'C90',\n",
       " 'E49',\n",
       " 'B50',\n",
       " 'E12',\n",
       " 'B78',\n",
       " 'F4',\n",
       " 'B71',\n",
       " 'D15',\n",
       " 'E40',\n",
       " 'C92',\n",
       " 'C125',\n",
       " 'C32',\n",
       " 'B94',\n",
       " 'B73',\n",
       " 'C118',\n",
       " 'B20',\n",
       " 'A32',\n",
       " 'E17',\n",
       " 'D50',\n",
       " 'E24',\n",
       " 'C124',\n",
       " 'B42',\n",
       " 'C83',\n",
       " 'B69',\n",
       " 'B37',\n",
       " 'C62 C64',\n",
       " 'D21',\n",
       " 'D45',\n",
       " 'D35',\n",
       " 'E31',\n",
       " 'A16',\n",
       " 'B101',\n",
       " 'D10 D12',\n",
       " 'B77',\n",
       " 'D6',\n",
       " 'D7',\n",
       " 'B82 B84',\n",
       " 'C103',\n",
       " 'E68',\n",
       " 'C110',\n",
       " 'D46',\n",
       " 'E63',\n",
       " 'A23',\n",
       " 'B51 B53 B55',\n",
       " 'D48',\n",
       " 'C85',\n",
       " 'A10',\n",
       " 'A6',\n",
       " 'D28',\n",
       " 'C70',\n",
       " 'F33',\n",
       " 'E58',\n",
       " 'A36',\n",
       " 'C95',\n",
       " 'D56',\n",
       " 'C86',\n",
       " 'C2',\n",
       " 'A7',\n",
       " 'C104',\n",
       " 'D36',\n",
       " 'D17',\n",
       " 'D33',\n",
       " 'E44',\n",
       " 'B30',\n",
       " 'C111',\n",
       " 'A14',\n",
       " 'E33',\n",
       " 'B96 B98',\n",
       " 'C7',\n",
       " 'C99',\n",
       " 'D49',\n",
       " 'A20',\n",
       " 'B22',\n",
       " 'C101',\n",
       " 'B41',\n",
       " 'F2',\n",
       " 'B18',\n",
       " 'A5',\n",
       " 'C65',\n",
       " 'C30',\n",
       " 'E67',\n",
       " 'E36',\n",
       " 'E46',\n",
       " 'C106',\n",
       " 'E8',\n",
       " 'C126',\n",
       " 'B57 B59 B63 B66',\n",
       " 'B102',\n",
       " 'C22 C26',\n",
       " 'D26',\n",
       " 'B3',\n",
       " 'C123',\n",
       " 'D37',\n",
       " 'D9',\n",
       " 'F G73',\n",
       " 'A31',\n",
       " 'B39',\n",
       " 'D30',\n",
       " 'C46',\n",
       " 'D47',\n",
       " 'E25',\n",
       " 'D11',\n",
       " 'G6',\n",
       " 'B19',\n",
       " 'C87',\n",
       " 'E50',\n",
       " 'C54',\n",
       " 'E38',\n",
       " 'C52',\n",
       " 'E101',\n",
       " 'C91',\n",
       " 'B5',\n",
       " 'C50',\n",
       " 'E121',\n",
       " 'D19',\n",
       " 'B79',\n",
       " 'E10',\n",
       " 'E77',\n",
       " 'B38',\n",
       " 'F G63',\n",
       " 'B58 B60']"
      ]
     },
     "execution_count": 597,
     "metadata": {},
     "output_type": "execute_result"
    }
   ],
   "source": [
    "list(set(titan.Cabin))"
   ]
  },
  {
   "cell_type": "code",
   "execution_count": 598,
   "metadata": {},
   "outputs": [
    {
     "data": {
      "text/plain": [
       "147"
      ]
     },
     "execution_count": 598,
     "metadata": {},
     "output_type": "execute_result"
    }
   ],
   "source": [
    "titan.Cabin.nunique()"
   ]
  },
  {
   "cell_type": "code",
   "execution_count": 599,
   "metadata": {},
   "outputs": [
    {
     "data": {
      "text/plain": [
       "3"
      ]
     },
     "execution_count": 599,
     "metadata": {},
     "output_type": "execute_result"
    }
   ],
   "source": [
    "titan.Embarked.nunique()"
   ]
  },
  {
   "cell_type": "code",
   "execution_count": 600,
   "metadata": {},
   "outputs": [
    {
     "data": {
      "text/plain": [
       "array(['S', 'C', 'Q', nan], dtype=object)"
      ]
     },
     "execution_count": 600,
     "metadata": {},
     "output_type": "execute_result"
    }
   ],
   "source": [
    "titan.Embarked.unique()"
   ]
  },
  {
   "cell_type": "code",
   "execution_count": 601,
   "metadata": {},
   "outputs": [
    {
     "data": {
      "text/plain": [
       "['S', 'C', 'Q', nan]"
      ]
     },
     "execution_count": 601,
     "metadata": {},
     "output_type": "execute_result"
    }
   ],
   "source": [
    "list(set(titan.Embarked))"
   ]
  },
  {
   "cell_type": "code",
   "execution_count": 602,
   "metadata": {},
   "outputs": [
    {
     "data": {
      "text/plain": [
       "S    644\n",
       "C    168\n",
       "Q     77\n",
       "Name: Embarked, dtype: int64"
      ]
     },
     "execution_count": 602,
     "metadata": {},
     "output_type": "execute_result"
    }
   ],
   "source": [
    "titan.Embarked.value_counts()"
   ]
  },
  {
   "cell_type": "code",
   "execution_count": 603,
   "metadata": {},
   "outputs": [
    {
     "data": {
      "text/plain": [
       "male      577\n",
       "female    314\n",
       "Name: Sex, dtype: int64"
      ]
     },
     "execution_count": 603,
     "metadata": {},
     "output_type": "execute_result"
    }
   ],
   "source": [
    "titan.Sex.value_counts()"
   ]
  },
  {
   "cell_type": "code",
   "execution_count": 604,
   "metadata": {},
   "outputs": [
    {
     "data": {
      "text/plain": [
       "B96 B98        4\n",
       "G6             4\n",
       "C23 C25 C27    4\n",
       "D              3\n",
       "F33            3\n",
       "              ..\n",
       "C70            1\n",
       "C32            1\n",
       "D7             1\n",
       "C54            1\n",
       "E40            1\n",
       "Name: Cabin, Length: 147, dtype: int64"
      ]
     },
     "execution_count": 604,
     "metadata": {},
     "output_type": "execute_result"
    }
   ],
   "source": [
    "titan.Cabin.value_counts()"
   ]
  },
  {
   "cell_type": "code",
   "execution_count": 605,
   "metadata": {},
   "outputs": [
    {
     "data": {
      "text/plain": [
       "CA. 2343    7\n",
       "347082      7\n",
       "1601        7\n",
       "3101295     6\n",
       "347088      6\n",
       "           ..\n",
       "233866      1\n",
       "113056      1\n",
       "2649        1\n",
       "13214       1\n",
       "330932      1\n",
       "Name: Ticket, Length: 681, dtype: int64"
      ]
     },
     "execution_count": 605,
     "metadata": {},
     "output_type": "execute_result"
    }
   ],
   "source": [
    "titan.Ticket.value_counts()"
   ]
  },
  {
   "cell_type": "code",
   "execution_count": 606,
   "metadata": {},
   "outputs": [
    {
     "data": {
      "text/plain": [
       "0        1601\n",
       "1      347082\n",
       "2    CA. 2343\n",
       "dtype: object"
      ]
     },
     "execution_count": 606,
     "metadata": {},
     "output_type": "execute_result"
    }
   ],
   "source": [
    "titan.Ticket.mode()"
   ]
  },
  {
   "cell_type": "code",
   "execution_count": 607,
   "metadata": {},
   "outputs": [
    {
     "data": {
      "text/plain": [
       "0        B96 B98\n",
       "1    C23 C25 C27\n",
       "2             G6\n",
       "dtype: object"
      ]
     },
     "execution_count": 607,
     "metadata": {},
     "output_type": "execute_result"
    }
   ],
   "source": [
    "titan.Cabin.mode()"
   ]
  },
  {
   "cell_type": "code",
   "execution_count": 608,
   "metadata": {},
   "outputs": [
    {
     "data": {
      "text/plain": [
       "0    S\n",
       "dtype: object"
      ]
     },
     "execution_count": 608,
     "metadata": {},
     "output_type": "execute_result"
    }
   ],
   "source": [
    "titan.Embarked.mode()"
   ]
  },
  {
   "cell_type": "code",
   "execution_count": 609,
   "metadata": {},
   "outputs": [
    {
     "data": {
      "text/plain": [
       "3    491\n",
       "1    216\n",
       "2    184\n",
       "Name: Pclass, dtype: int64"
      ]
     },
     "execution_count": 609,
     "metadata": {},
     "output_type": "execute_result"
    }
   ],
   "source": [
    "titan.Pclass.value_counts()\n"
   ]
  },
  {
   "cell_type": "code",
   "execution_count": 610,
   "metadata": {},
   "outputs": [
    {
     "data": {
      "text/plain": [
       "male      577\n",
       "female    314\n",
       "Name: Sex, dtype: int64"
      ]
     },
     "execution_count": 610,
     "metadata": {},
     "output_type": "execute_result"
    }
   ],
   "source": [
    "titan.Sex.value_counts()"
   ]
  },
  {
   "cell_type": "code",
   "execution_count": 611,
   "metadata": {},
   "outputs": [
    {
     "data": {
      "text/plain": [
       "891"
      ]
     },
     "execution_count": 611,
     "metadata": {},
     "output_type": "execute_result"
    }
   ],
   "source": [
    "titan.Sex.count()"
   ]
  },
  {
   "cell_type": "code",
   "execution_count": 612,
   "metadata": {},
   "outputs": [
    {
     "data": {
      "text/plain": [
       "889"
      ]
     },
     "execution_count": 612,
     "metadata": {},
     "output_type": "execute_result"
    }
   ],
   "source": [
    "titan.Embarked.count()"
   ]
  },
  {
   "cell_type": "code",
   "execution_count": 613,
   "metadata": {},
   "outputs": [
    {
     "data": {
      "text/plain": [
       "S    644\n",
       "C    168\n",
       "Q     77\n",
       "Name: Embarked, dtype: int64"
      ]
     },
     "execution_count": 613,
     "metadata": {},
     "output_type": "execute_result"
    }
   ],
   "source": [
    "titan.Embarked.value_counts()"
   ]
  },
  {
   "cell_type": "code",
   "execution_count": 614,
   "metadata": {},
   "outputs": [
    {
     "data": {
      "text/plain": [
       "891"
      ]
     },
     "execution_count": 614,
     "metadata": {},
     "output_type": "execute_result"
    }
   ],
   "source": [
    "titan.Survived.count()"
   ]
  },
  {
   "cell_type": "code",
   "execution_count": 615,
   "metadata": {},
   "outputs": [
    {
     "data": {
      "text/plain": [
       "0    549\n",
       "1    342\n",
       "Name: Survived, dtype: int64"
      ]
     },
     "execution_count": 615,
     "metadata": {},
     "output_type": "execute_result"
    }
   ],
   "source": [
    "titan.Survived.value_counts()"
   ]
  },
  {
   "cell_type": "code",
   "execution_count": 616,
   "metadata": {},
   "outputs": [
    {
     "data": {
      "text/html": [
       "<div>\n",
       "<style scoped>\n",
       "    .dataframe tbody tr th:only-of-type {\n",
       "        vertical-align: middle;\n",
       "    }\n",
       "\n",
       "    .dataframe tbody tr th {\n",
       "        vertical-align: top;\n",
       "    }\n",
       "\n",
       "    .dataframe thead th {\n",
       "        text-align: right;\n",
       "    }\n",
       "</style>\n",
       "<table border=\"1\" class=\"dataframe\">\n",
       "  <thead>\n",
       "    <tr style=\"text-align: right;\">\n",
       "      <th></th>\n",
       "      <th>PassengerId</th>\n",
       "      <th>Survived</th>\n",
       "      <th>Pclass</th>\n",
       "      <th>Name</th>\n",
       "      <th>Sex</th>\n",
       "      <th>Age</th>\n",
       "      <th>SibSp</th>\n",
       "      <th>Parch</th>\n",
       "      <th>Ticket</th>\n",
       "      <th>Fare</th>\n",
       "      <th>Cabin</th>\n",
       "      <th>Embarked</th>\n",
       "    </tr>\n",
       "  </thead>\n",
       "  <tbody>\n",
       "    <tr>\n",
       "      <th>0</th>\n",
       "      <td>1</td>\n",
       "      <td>0</td>\n",
       "      <td>3</td>\n",
       "      <td>Braund, Mr. Owen Harris</td>\n",
       "      <td>male</td>\n",
       "      <td>22.0</td>\n",
       "      <td>1</td>\n",
       "      <td>0</td>\n",
       "      <td>A/5 21171</td>\n",
       "      <td>7.2500</td>\n",
       "      <td>NaN</td>\n",
       "      <td>S</td>\n",
       "    </tr>\n",
       "    <tr>\n",
       "      <th>1</th>\n",
       "      <td>2</td>\n",
       "      <td>1</td>\n",
       "      <td>1</td>\n",
       "      <td>Cumings, Mrs. John Bradley (Florence Briggs Th...</td>\n",
       "      <td>female</td>\n",
       "      <td>38.0</td>\n",
       "      <td>1</td>\n",
       "      <td>0</td>\n",
       "      <td>PC 17599</td>\n",
       "      <td>71.2833</td>\n",
       "      <td>C85</td>\n",
       "      <td>C</td>\n",
       "    </tr>\n",
       "    <tr>\n",
       "      <th>2</th>\n",
       "      <td>3</td>\n",
       "      <td>1</td>\n",
       "      <td>3</td>\n",
       "      <td>Heikkinen, Miss. Laina</td>\n",
       "      <td>female</td>\n",
       "      <td>26.0</td>\n",
       "      <td>0</td>\n",
       "      <td>0</td>\n",
       "      <td>STON/O2. 3101282</td>\n",
       "      <td>7.9250</td>\n",
       "      <td>NaN</td>\n",
       "      <td>S</td>\n",
       "    </tr>\n",
       "    <tr>\n",
       "      <th>3</th>\n",
       "      <td>4</td>\n",
       "      <td>1</td>\n",
       "      <td>1</td>\n",
       "      <td>Futrelle, Mrs. Jacques Heath (Lily May Peel)</td>\n",
       "      <td>female</td>\n",
       "      <td>35.0</td>\n",
       "      <td>1</td>\n",
       "      <td>0</td>\n",
       "      <td>113803</td>\n",
       "      <td>53.1000</td>\n",
       "      <td>C123</td>\n",
       "      <td>S</td>\n",
       "    </tr>\n",
       "    <tr>\n",
       "      <th>4</th>\n",
       "      <td>5</td>\n",
       "      <td>0</td>\n",
       "      <td>3</td>\n",
       "      <td>Allen, Mr. William Henry</td>\n",
       "      <td>male</td>\n",
       "      <td>35.0</td>\n",
       "      <td>0</td>\n",
       "      <td>0</td>\n",
       "      <td>373450</td>\n",
       "      <td>8.0500</td>\n",
       "      <td>NaN</td>\n",
       "      <td>S</td>\n",
       "    </tr>\n",
       "    <tr>\n",
       "      <th>5</th>\n",
       "      <td>6</td>\n",
       "      <td>0</td>\n",
       "      <td>3</td>\n",
       "      <td>Moran, Mr. James</td>\n",
       "      <td>male</td>\n",
       "      <td>NaN</td>\n",
       "      <td>0</td>\n",
       "      <td>0</td>\n",
       "      <td>330877</td>\n",
       "      <td>8.4583</td>\n",
       "      <td>NaN</td>\n",
       "      <td>Q</td>\n",
       "    </tr>\n",
       "    <tr>\n",
       "      <th>6</th>\n",
       "      <td>7</td>\n",
       "      <td>0</td>\n",
       "      <td>1</td>\n",
       "      <td>McCarthy, Mr. Timothy J</td>\n",
       "      <td>male</td>\n",
       "      <td>54.0</td>\n",
       "      <td>0</td>\n",
       "      <td>0</td>\n",
       "      <td>17463</td>\n",
       "      <td>51.8625</td>\n",
       "      <td>E46</td>\n",
       "      <td>S</td>\n",
       "    </tr>\n",
       "    <tr>\n",
       "      <th>7</th>\n",
       "      <td>8</td>\n",
       "      <td>0</td>\n",
       "      <td>3</td>\n",
       "      <td>Palsson, Master. Gosta Leonard</td>\n",
       "      <td>male</td>\n",
       "      <td>2.0</td>\n",
       "      <td>3</td>\n",
       "      <td>1</td>\n",
       "      <td>349909</td>\n",
       "      <td>21.0750</td>\n",
       "      <td>NaN</td>\n",
       "      <td>S</td>\n",
       "    </tr>\n",
       "    <tr>\n",
       "      <th>8</th>\n",
       "      <td>9</td>\n",
       "      <td>1</td>\n",
       "      <td>3</td>\n",
       "      <td>Johnson, Mrs. Oscar W (Elisabeth Vilhelmina Berg)</td>\n",
       "      <td>female</td>\n",
       "      <td>27.0</td>\n",
       "      <td>0</td>\n",
       "      <td>2</td>\n",
       "      <td>347742</td>\n",
       "      <td>11.1333</td>\n",
       "      <td>NaN</td>\n",
       "      <td>S</td>\n",
       "    </tr>\n",
       "    <tr>\n",
       "      <th>9</th>\n",
       "      <td>10</td>\n",
       "      <td>1</td>\n",
       "      <td>2</td>\n",
       "      <td>Nasser, Mrs. Nicholas (Adele Achem)</td>\n",
       "      <td>female</td>\n",
       "      <td>14.0</td>\n",
       "      <td>1</td>\n",
       "      <td>0</td>\n",
       "      <td>237736</td>\n",
       "      <td>30.0708</td>\n",
       "      <td>NaN</td>\n",
       "      <td>C</td>\n",
       "    </tr>\n",
       "  </tbody>\n",
       "</table>\n",
       "</div>"
      ],
      "text/plain": [
       "   PassengerId  Survived  Pclass  \\\n",
       "0            1         0       3   \n",
       "1            2         1       1   \n",
       "2            3         1       3   \n",
       "3            4         1       1   \n",
       "4            5         0       3   \n",
       "5            6         0       3   \n",
       "6            7         0       1   \n",
       "7            8         0       3   \n",
       "8            9         1       3   \n",
       "9           10         1       2   \n",
       "\n",
       "                                                Name     Sex   Age  SibSp  \\\n",
       "0                            Braund, Mr. Owen Harris    male  22.0      1   \n",
       "1  Cumings, Mrs. John Bradley (Florence Briggs Th...  female  38.0      1   \n",
       "2                             Heikkinen, Miss. Laina  female  26.0      0   \n",
       "3       Futrelle, Mrs. Jacques Heath (Lily May Peel)  female  35.0      1   \n",
       "4                           Allen, Mr. William Henry    male  35.0      0   \n",
       "5                                   Moran, Mr. James    male   NaN      0   \n",
       "6                            McCarthy, Mr. Timothy J    male  54.0      0   \n",
       "7                     Palsson, Master. Gosta Leonard    male   2.0      3   \n",
       "8  Johnson, Mrs. Oscar W (Elisabeth Vilhelmina Berg)  female  27.0      0   \n",
       "9                Nasser, Mrs. Nicholas (Adele Achem)  female  14.0      1   \n",
       "\n",
       "   Parch            Ticket     Fare Cabin Embarked  \n",
       "0      0         A/5 21171   7.2500   NaN        S  \n",
       "1      0          PC 17599  71.2833   C85        C  \n",
       "2      0  STON/O2. 3101282   7.9250   NaN        S  \n",
       "3      0            113803  53.1000  C123        S  \n",
       "4      0            373450   8.0500   NaN        S  \n",
       "5      0            330877   8.4583   NaN        Q  \n",
       "6      0             17463  51.8625   E46        S  \n",
       "7      1            349909  21.0750   NaN        S  \n",
       "8      2            347742  11.1333   NaN        S  \n",
       "9      0            237736  30.0708   NaN        C  "
      ]
     },
     "execution_count": 616,
     "metadata": {},
     "output_type": "execute_result"
    }
   ],
   "source": [
    "titan.head(10)"
   ]
  },
  {
   "cell_type": "code",
   "execution_count": 617,
   "metadata": {},
   "outputs": [],
   "source": [
    "titan1=titan[titan.Pclass==1]\n",
    "titan2=titan[titan.Pclass==2]\n",
    "titan3=titan[titan.Pclass==3]\n"
   ]
  },
  {
   "cell_type": "code",
   "execution_count": 618,
   "metadata": {},
   "outputs": [
    {
     "name": "stdout",
     "output_type": "stream",
     "text": [
      "     PassengerId  Survived  Pclass  \\\n",
      "1              2         1       1   \n",
      "3              4         1       1   \n",
      "6              7         0       1   \n",
      "11            12         1       1   \n",
      "23            24         1       1   \n",
      "..           ...       ...     ...   \n",
      "871          872         1       1   \n",
      "872          873         0       1   \n",
      "879          880         1       1   \n",
      "887          888         1       1   \n",
      "889          890         1       1   \n",
      "\n",
      "                                                  Name     Sex   Age  SibSp  \\\n",
      "1    Cumings, Mrs. John Bradley (Florence Briggs Th...  female  38.0      1   \n",
      "3         Futrelle, Mrs. Jacques Heath (Lily May Peel)  female  35.0      1   \n",
      "6                              McCarthy, Mr. Timothy J    male  54.0      0   \n",
      "11                            Bonnell, Miss. Elizabeth  female  58.0      0   \n",
      "23                        Sloper, Mr. William Thompson    male  28.0      0   \n",
      "..                                                 ...     ...   ...    ...   \n",
      "871   Beckwith, Mrs. Richard Leonard (Sallie Monypeny)  female  47.0      1   \n",
      "872                           Carlsson, Mr. Frans Olof    male  33.0      0   \n",
      "879      Potter, Mrs. Thomas Jr (Lily Alexenia Wilson)  female  56.0      0   \n",
      "887                       Graham, Miss. Margaret Edith  female  19.0      0   \n",
      "889                              Behr, Mr. Karl Howell    male  26.0      0   \n",
      "\n",
      "     Parch    Ticket     Fare        Cabin Embarked  \n",
      "1        0  PC 17599  71.2833          C85        C  \n",
      "3        0    113803  53.1000         C123        S  \n",
      "6        0     17463  51.8625          E46        S  \n",
      "11       0    113783  26.5500         C103        S  \n",
      "23       0    113788  35.5000           A6        S  \n",
      "..     ...       ...      ...          ...      ...  \n",
      "871      1     11751  52.5542          D35        S  \n",
      "872      0       695   5.0000  B51 B53 B55        S  \n",
      "879      1     11767  83.1583          C50        C  \n",
      "887      0    112053  30.0000          B42        S  \n",
      "889      0    111369  30.0000         C148        C  \n",
      "\n",
      "[216 rows x 12 columns]\n"
     ]
    }
   ],
   "source": [
    "print(titan1)"
   ]
  },
  {
   "cell_type": "code",
   "execution_count": 619,
   "metadata": {},
   "outputs": [
    {
     "data": {
      "text/html": [
       "<div>\n",
       "<style scoped>\n",
       "    .dataframe tbody tr th:only-of-type {\n",
       "        vertical-align: middle;\n",
       "    }\n",
       "\n",
       "    .dataframe tbody tr th {\n",
       "        vertical-align: top;\n",
       "    }\n",
       "\n",
       "    .dataframe thead th {\n",
       "        text-align: right;\n",
       "    }\n",
       "</style>\n",
       "<table border=\"1\" class=\"dataframe\">\n",
       "  <thead>\n",
       "    <tr style=\"text-align: right;\">\n",
       "      <th></th>\n",
       "      <th>PassengerId</th>\n",
       "      <th>Survived</th>\n",
       "      <th>Pclass</th>\n",
       "      <th>Age</th>\n",
       "      <th>SibSp</th>\n",
       "      <th>Parch</th>\n",
       "      <th>Fare</th>\n",
       "    </tr>\n",
       "  </thead>\n",
       "  <tbody>\n",
       "    <tr>\n",
       "      <th>PassengerId</th>\n",
       "      <td>1.000000</td>\n",
       "      <td>0.159824</td>\n",
       "      <td>NaN</td>\n",
       "      <td>-0.003969</td>\n",
       "      <td>-0.055167</td>\n",
       "      <td>-0.026157</td>\n",
       "      <td>-0.026348</td>\n",
       "    </tr>\n",
       "    <tr>\n",
       "      <th>Survived</th>\n",
       "      <td>0.159824</td>\n",
       "      <td>1.000000</td>\n",
       "      <td>NaN</td>\n",
       "      <td>-0.267964</td>\n",
       "      <td>0.162276</td>\n",
       "      <td>0.062565</td>\n",
       "      <td>0.190966</td>\n",
       "    </tr>\n",
       "    <tr>\n",
       "      <th>Pclass</th>\n",
       "      <td>NaN</td>\n",
       "      <td>NaN</td>\n",
       "      <td>NaN</td>\n",
       "      <td>NaN</td>\n",
       "      <td>NaN</td>\n",
       "      <td>NaN</td>\n",
       "      <td>NaN</td>\n",
       "    </tr>\n",
       "    <tr>\n",
       "      <th>Age</th>\n",
       "      <td>-0.003969</td>\n",
       "      <td>-0.267964</td>\n",
       "      <td>NaN</td>\n",
       "      <td>1.000000</td>\n",
       "      <td>-0.121015</td>\n",
       "      <td>-0.243613</td>\n",
       "      <td>-0.218611</td>\n",
       "    </tr>\n",
       "    <tr>\n",
       "      <th>SibSp</th>\n",
       "      <td>-0.055167</td>\n",
       "      <td>0.162276</td>\n",
       "      <td>NaN</td>\n",
       "      <td>-0.121015</td>\n",
       "      <td>1.000000</td>\n",
       "      <td>0.261954</td>\n",
       "      <td>0.259492</td>\n",
       "    </tr>\n",
       "    <tr>\n",
       "      <th>Parch</th>\n",
       "      <td>-0.026157</td>\n",
       "      <td>0.062565</td>\n",
       "      <td>NaN</td>\n",
       "      <td>-0.243613</td>\n",
       "      <td>0.261954</td>\n",
       "      <td>1.000000</td>\n",
       "      <td>0.380963</td>\n",
       "    </tr>\n",
       "    <tr>\n",
       "      <th>Fare</th>\n",
       "      <td>-0.026348</td>\n",
       "      <td>0.190966</td>\n",
       "      <td>NaN</td>\n",
       "      <td>-0.218611</td>\n",
       "      <td>0.259492</td>\n",
       "      <td>0.380963</td>\n",
       "      <td>1.000000</td>\n",
       "    </tr>\n",
       "  </tbody>\n",
       "</table>\n",
       "</div>"
      ],
      "text/plain": [
       "             PassengerId  Survived  Pclass       Age     SibSp     Parch  \\\n",
       "PassengerId     1.000000  0.159824     NaN -0.003969 -0.055167 -0.026157   \n",
       "Survived        0.159824  1.000000     NaN -0.267964  0.162276  0.062565   \n",
       "Pclass               NaN       NaN     NaN       NaN       NaN       NaN   \n",
       "Age            -0.003969 -0.267964     NaN  1.000000 -0.121015 -0.243613   \n",
       "SibSp          -0.055167  0.162276     NaN -0.121015  1.000000  0.261954   \n",
       "Parch          -0.026157  0.062565     NaN -0.243613  0.261954  1.000000   \n",
       "Fare           -0.026348  0.190966     NaN -0.218611  0.259492  0.380963   \n",
       "\n",
       "                 Fare  \n",
       "PassengerId -0.026348  \n",
       "Survived     0.190966  \n",
       "Pclass            NaN  \n",
       "Age         -0.218611  \n",
       "SibSp        0.259492  \n",
       "Parch        0.380963  \n",
       "Fare         1.000000  "
      ]
     },
     "execution_count": 619,
     "metadata": {},
     "output_type": "execute_result"
    }
   ],
   "source": [
    "titan1.corr(method='pearson')"
   ]
  },
  {
   "cell_type": "code",
   "execution_count": 620,
   "metadata": {},
   "outputs": [
    {
     "name": "stdout",
     "output_type": "stream",
     "text": [
      "     PassengerId  Survived  Pclass  \\\n",
      "1              2         1       1   \n",
      "3              4         1       1   \n",
      "6              7         0       1   \n",
      "11            12         1       1   \n",
      "23            24         1       1   \n",
      "..           ...       ...     ...   \n",
      "871          872         1       1   \n",
      "872          873         0       1   \n",
      "879          880         1       1   \n",
      "887          888         1       1   \n",
      "889          890         1       1   \n",
      "\n",
      "                                                  Name     Sex   Age  SibSp  \\\n",
      "1    Cumings, Mrs. John Bradley (Florence Briggs Th...  female  38.0      1   \n",
      "3         Futrelle, Mrs. Jacques Heath (Lily May Peel)  female  35.0      1   \n",
      "6                              McCarthy, Mr. Timothy J    male  54.0      0   \n",
      "11                            Bonnell, Miss. Elizabeth  female  58.0      0   \n",
      "23                        Sloper, Mr. William Thompson    male  28.0      0   \n",
      "..                                                 ...     ...   ...    ...   \n",
      "871   Beckwith, Mrs. Richard Leonard (Sallie Monypeny)  female  47.0      1   \n",
      "872                           Carlsson, Mr. Frans Olof    male  33.0      0   \n",
      "879      Potter, Mrs. Thomas Jr (Lily Alexenia Wilson)  female  56.0      0   \n",
      "887                       Graham, Miss. Margaret Edith  female  19.0      0   \n",
      "889                              Behr, Mr. Karl Howell    male  26.0      0   \n",
      "\n",
      "     Parch    Ticket     Fare        Cabin Embarked  \n",
      "1        0  PC 17599  71.2833          C85        C  \n",
      "3        0    113803  53.1000         C123        S  \n",
      "6        0     17463  51.8625          E46        S  \n",
      "11       0    113783  26.5500         C103        S  \n",
      "23       0    113788  35.5000           A6        S  \n",
      "..     ...       ...      ...          ...      ...  \n",
      "871      1     11751  52.5542          D35        S  \n",
      "872      0       695   5.0000  B51 B53 B55        S  \n",
      "879      1     11767  83.1583          C50        C  \n",
      "887      0    112053  30.0000          B42        S  \n",
      "889      0    111369  30.0000         C148        C  \n",
      "\n",
      "[216 rows x 12 columns]\n"
     ]
    }
   ],
   "source": [
    "print(titan1)"
   ]
  },
  {
   "cell_type": "code",
   "execution_count": 621,
   "metadata": {},
   "outputs": [
    {
     "data": {
      "text/plain": [
       "<matplotlib.axes._subplots.AxesSubplot at 0x21fed292588>"
      ]
     },
     "execution_count": 621,
     "metadata": {},
     "output_type": "execute_result"
    },
    {
     "data": {
      "image/png": "[encoded data removed]",
      "text/plain": [
       "<Figure size 432x288 with 1 Axes>"
      ]
     },
     "metadata": {
      "needs_background": "light"
     },
     "output_type": "display_data"
    }
   ],
   "source": [
    "sns.barplot(x='Pclass', y='Survived', data=titan)"
   ]
  },
  {
   "cell_type": "code",
   "execution_count": 622,
   "metadata": {},
   "outputs": [
    {
     "data": {
      "text/plain": [
       "1    136\n",
       "0     80\n",
       "Name: Survived, dtype: int64"
      ]
     },
     "execution_count": 622,
     "metadata": {},
     "output_type": "execute_result"
    }
   ],
   "source": [
    "titan1.Survived.value_counts()"
   ]
  },
  {
   "cell_type": "code",
   "execution_count": 623,
   "metadata": {},
   "outputs": [
    {
     "name": "stdout",
     "output_type": "stream",
     "text": [
      "0.6296296296296297\n"
     ]
    }
   ],
   "source": [
    "p1surv=(136/(136+80))\n",
    "print(p1surv)"
   ]
  },
  {
   "cell_type": "code",
   "execution_count": 624,
   "metadata": {},
   "outputs": [
    {
     "data": {
      "text/plain": [
       "<matplotlib.axes._subplots.AxesSubplot at 0x21fed30e6c8>"
      ]
     },
     "execution_count": 624,
     "metadata": {},
     "output_type": "execute_result"
    },
    {
     "data": {
      "image/png": "[encoded data removed]",
      "text/plain": [
       "<Figure size 432x288 with 1 Axes>"
      ]
     },
     "metadata": {
      "needs_background": "light"
     },
     "output_type": "display_data"
    }
   ],
   "source": [
    "sns.barplot(x='Sex', y='Survived', data=titan)"
   ]
  },
  {
   "cell_type": "code",
   "execution_count": 625,
   "metadata": {},
   "outputs": [
    {
     "data": {
      "text/plain": [
       "array([<matplotlib.axes._subplots.AxesSubplot object at 0x0000021FED284988>,\n",
       "       <matplotlib.axes._subplots.AxesSubplot object at 0x0000021FED3A3D88>],\n",
       "      dtype=object)"
      ]
     },
     "execution_count": 625,
     "metadata": {},
     "output_type": "execute_result"
    },
    {
     "data": {
      "image/png": "[encoded data removed]",
      "text/plain": [
       "<Figure size 720x144 with 2 Axes>"
      ]
     },
     "metadata": {
      "needs_background": "light"
     },
     "output_type": "display_data"
    }
   ],
   "source": [
    "titan.hist(\"Survived\", by=\"Sex\",figsize = [10,2])"
   ]
  },
  {
   "cell_type": "code",
   "execution_count": 626,
   "metadata": {},
   "outputs": [
    {
     "data": {
      "text/plain": [
       "array([<matplotlib.axes._subplots.AxesSubplot object at 0x0000021FED37C388>,\n",
       "       <matplotlib.axes._subplots.AxesSubplot object at 0x0000021FED5CFE48>],\n",
       "      dtype=object)"
      ]
     },
     "execution_count": 626,
     "metadata": {},
     "output_type": "execute_result"
    },
    {
     "data": {
      "image/png": "[encoded data removed]",
      "text/plain": [
       "<Figure size 432x288 with 2 Axes>"
      ]
     },
     "metadata": {
      "needs_background": "light"
     },
     "output_type": "display_data"
    }
   ],
   "source": [
    "titan.hist(\"Age\",by = [\"Survived\"])"
   ]
  },
  {
   "cell_type": "code",
   "execution_count": 627,
   "metadata": {},
   "outputs": [
    {
     "data": {
      "text/plain": [
       "array([[<matplotlib.axes._subplots.AxesSubplot object at 0x0000021FECF3EE48>,\n",
       "        <matplotlib.axes._subplots.AxesSubplot object at 0x0000021FED6C3CC8>],\n",
       "       [<matplotlib.axes._subplots.AxesSubplot object at 0x0000021FED6F7C88>,\n",
       "        <matplotlib.axes._subplots.AxesSubplot object at 0x0000021FED7302C8>]],\n",
       "      dtype=object)"
      ]
     },
     "execution_count": 627,
     "metadata": {},
     "output_type": "execute_result"
    },
    {
     "data": {
      "image/png": "[encoded data removed]",
      "text/plain": [
       "<Figure size 432x288 with 4 Axes>"
      ]
     },
     "metadata": {
      "needs_background": "light"
     },
     "output_type": "display_data"
    }
   ],
   "source": [
    "titan.hist(\"Age\",by = [\"Survived\",\"Sex\"])"
   ]
  },
  {
   "cell_type": "code",
   "execution_count": 628,
   "metadata": {},
   "outputs": [
    {
     "name": "stderr",
     "output_type": "stream",
     "text": [
      "C:\\Users\\kurie\\anaconda3\\lib\\site-packages\\ipykernel_launcher.py:3: UserWarning: Pandas doesn't allow columns to be created via a new attribute name - see https://pandas.pydata.org/pandas-docs/stable/indexing.html#attribute-access\n",
      "  This is separate from the ipykernel package so we can avoid doing imports until\n"
     ]
    }
   ],
   "source": [
    "interval = (0,18,35,60,120)\n",
    "categories = ['Children','Teens','Adult', 'Old']\n",
    "titan.agecats= pd.cut(titan.Age, interval, labels = categories)\n",
    "\n",
    "\n",
    "\n",
    "\n",
    "\n"
   ]
  },
  {
   "cell_type": "code",
   "execution_count": 629,
   "metadata": {},
   "outputs": [
    {
     "data": {
      "text/plain": [
       "array([[<matplotlib.axes._subplots.AxesSubplot object at 0x0000021FED84AC88>,\n",
       "        <matplotlib.axes._subplots.AxesSubplot object at 0x0000021FED87B048>],\n",
       "       [<matplotlib.axes._subplots.AxesSubplot object at 0x0000021FED8AA488>,\n",
       "        <matplotlib.axes._subplots.AxesSubplot object at 0x0000021FED8DCAC8>],\n",
       "       [<matplotlib.axes._subplots.AxesSubplot object at 0x0000021FED917148>,\n",
       "        <matplotlib.axes._subplots.AxesSubplot object at 0x0000021FED949D08>]],\n",
       "      dtype=object)"
      ]
     },
     "execution_count": 629,
     "metadata": {},
     "output_type": "execute_result"
    },
    {
     "data": {
      "image/png": "[encoded data removed]",
      "text/plain": [
       "<Figure size 720x504 with 6 Axes>"
      ]
     },
     "metadata": {
      "needs_background": "light"
     },
     "output_type": "display_data"
    }
   ],
   "source": [
    "titan.hist(\"Age\",by = [\"Survived\",\"Pclass\"],figsize = [10,7])"
   ]
  },
  {
   "cell_type": "code",
   "execution_count": 630,
   "metadata": {},
   "outputs": [
    {
     "data": {
      "text/plain": [
       "array([[<matplotlib.axes._subplots.AxesSubplot object at 0x0000021FED839408>,\n",
       "        <matplotlib.axes._subplots.AxesSubplot object at 0x0000021FEDC8C948>],\n",
       "       [<matplotlib.axes._subplots.AxesSubplot object at 0x0000021FEDCBB0C8>,\n",
       "        <matplotlib.axes._subplots.AxesSubplot object at 0x0000021FEDAFFAC8>]],\n",
       "      dtype=object)"
      ]
     },
     "execution_count": 630,
     "metadata": {},
     "output_type": "execute_result"
    },
    {
     "data": {
      "image/png": "[encoded data removed]",
      "text/plain": [
       "<Figure size 720x504 with 4 Axes>"
      ]
     },
     "metadata": {
      "needs_background": "light"
     },
     "output_type": "display_data"
    }
   ],
   "source": [
    "titan.hist(\"Survived\",by = [\"Pclass\"],figsize = [10,7])"
   ]
  },
  {
   "cell_type": "code",
   "execution_count": 631,
   "metadata": {},
   "outputs": [
    {
     "data": {
      "text/plain": [
       "array([[<matplotlib.axes._subplots.AxesSubplot object at 0x0000021FEDB89F48>,\n",
       "        <matplotlib.axes._subplots.AxesSubplot object at 0x0000021FEDE5D888>],\n",
       "       [<matplotlib.axes._subplots.AxesSubplot object at 0x0000021FEDCDEF08>,\n",
       "        <matplotlib.axes._subplots.AxesSubplot object at 0x0000021FEDD1A948>]],\n",
       "      dtype=object)"
      ]
     },
     "execution_count": 631,
     "metadata": {},
     "output_type": "execute_result"
    },
    {
     "data": {
      "image/png": "[encoded data removed]",
      "text/plain": [
       "<Figure size 720x504 with 4 Axes>"
      ]
     },
     "metadata": {
      "needs_background": "light"
     },
     "output_type": "display_data"
    }
   ],
   "source": [
    "titan.hist(\"Age\",by = [\"Pclass\"],figsize = [10,7])"
   ]
  },
  {
   "cell_type": "code",
   "execution_count": 632,
   "metadata": {},
   "outputs": [
    {
     "data": {
      "text/plain": [
       "<matplotlib.axes._subplots.AxesSubplot at 0x21fedbf0488>"
      ]
     },
     "execution_count": 632,
     "metadata": {},
     "output_type": "execute_result"
    },
    {
     "data": {
      "image/png": "[encoded data removed]",
      "text/plain": [
       "<Figure size 432x288 with 1 Axes>"
      ]
     },
     "metadata": {
      "needs_background": "light"
     },
     "output_type": "display_data"
    }
   ],
   "source": [
    "sns.barplot(x='Pclass', y='Survived', data=titan)"
   ]
  },
  {
   "cell_type": "code",
   "execution_count": 633,
   "metadata": {},
   "outputs": [
    {
     "data": {
      "text/plain": [
       "<matplotlib.axes._subplots.AxesSubplot at 0x21fedfe02c8>"
      ]
     },
     "execution_count": 633,
     "metadata": {},
     "output_type": "execute_result"
    },
    {
     "data": {
      "image/png": "[encoded data removed]",
      "text/plain": [
       "<Figure size 432x288 with 1 Axes>"
      ]
     },
     "metadata": {
      "needs_background": "light"
     },
     "output_type": "display_data"
    }
   ],
   "source": [
    "sns.barplot(x='Pclass', y='Age', data=titan)"
   ]
  },
  {
   "cell_type": "code",
   "execution_count": 634,
   "metadata": {},
   "outputs": [
    {
     "data": {
      "text/plain": [
       "<matplotlib.axes._subplots.AxesSubplot at 0x21fedfbb708>"
      ]
     },
     "execution_count": 634,
     "metadata": {},
     "output_type": "execute_result"
    },
    {
     "data": {
      "image/png": "[encoded data removed]",
      "text/plain": [
       "<Figure size 432x288 with 1 Axes>"
      ]
     },
     "metadata": {
      "needs_background": "light"
     },
     "output_type": "display_data"
    }
   ],
   "source": [
    "sns.barplot(x='Survived', y='Fare', data=titan,alpha=0.5)"
   ]
  },
  {
   "cell_type": "code",
   "execution_count": 635,
   "metadata": {},
   "outputs": [
    {
     "data": {
      "text/plain": [
       "array([[<matplotlib.axes._subplots.AxesSubplot object at 0x0000021FEDFE0808>,\n",
       "        <matplotlib.axes._subplots.AxesSubplot object at 0x0000021FEE0E2648>,\n",
       "        <matplotlib.axes._subplots.AxesSubplot object at 0x0000021FEE29D188>,\n",
       "        <matplotlib.axes._subplots.AxesSubplot object at 0x0000021FEE2D5288>],\n",
       "       [<matplotlib.axes._subplots.AxesSubplot object at 0x0000021FEE30F388>,\n",
       "        <matplotlib.axes._subplots.AxesSubplot object at 0x0000021FEE347448>,\n",
       "        <matplotlib.axes._subplots.AxesSubplot object at 0x0000021FEE385F88>,\n",
       "        <matplotlib.axes._subplots.AxesSubplot object at 0x0000021FEE3BCE48>],\n",
       "       [<matplotlib.axes._subplots.AxesSubplot object at 0x0000021FEE3C4248>,\n",
       "        <matplotlib.axes._subplots.AxesSubplot object at 0x0000021FEE3FB448>,\n",
       "        <matplotlib.axes._subplots.AxesSubplot object at 0x0000021FEE461948>,\n",
       "        <matplotlib.axes._subplots.AxesSubplot object at 0x0000021FEE498A88>],\n",
       "       [<matplotlib.axes._subplots.AxesSubplot object at 0x0000021FEE4D0BC8>,\n",
       "        <matplotlib.axes._subplots.AxesSubplot object at 0x0000021FEE50ACC8>,\n",
       "        <matplotlib.axes._subplots.AxesSubplot object at 0x0000021FEE543E88>,\n",
       "        <matplotlib.axes._subplots.AxesSubplot object at 0x0000021FEE57E0C8>]],\n",
       "      dtype=object)"
      ]
     },
     "execution_count": 635,
     "metadata": {},
     "output_type": "execute_result"
    },
    {
     "data": {
      "image/png": "[encoded data removed]",
      "text/plain": [
       "<Figure size 720x648 with 16 Axes>"
      ]
     },
     "metadata": {
      "needs_background": "light"
     },
     "output_type": "display_data"
    }
   ],
   "source": [
    "titan.hist(\"Fare\",by = [\"Embarked\",\"Survived\",\"Sex\"],figsize = [10,9])"
   ]
  },
  {
   "cell_type": "code",
   "execution_count": 636,
   "metadata": {},
   "outputs": [
    {
     "data": {
      "text/plain": [
       "<matplotlib.axes._subplots.AxesSubplot at 0x21fef9e7708>"
      ]
     },
     "execution_count": 636,
     "metadata": {},
     "output_type": "execute_result"
    },
    {
     "data": {
      "image/png": "[encoded data removed]",
      "text/plain": [
       "<Figure size 432x288 with 1 Axes>"
      ]
     },
     "metadata": {
      "needs_background": "light"
     },
     "output_type": "display_data"
    }
   ],
   "source": [
    "sns.barplot(x='Survived', y='Fare', data=titan,ci=None)"
   ]
  },
  {
   "cell_type": "code",
   "execution_count": 637,
   "metadata": {},
   "outputs": [
    {
     "name": "stderr",
     "output_type": "stream",
     "text": [
      "C:\\Users\\kurie\\anaconda3\\lib\\site-packages\\seaborn\\axisgrid.py:728: UserWarning: Using the barplot function without specifying `order` is likely to produce an incorrect plot.\n",
      "  warnings.warn(warning)\n"
     ]
    },
    {
     "data": {
      "text/plain": [
       "<seaborn.axisgrid.FacetGrid at 0x21fefa3ae48>"
      ]
     },
     "execution_count": 637,
     "metadata": {},
     "output_type": "execute_result"
    },
    {
     "data": {
      "image/png": "[encoded data removed]",
      "text/plain": [
       "<Figure size 440x648 with 6 Axes>"
      ]
     },
     "metadata": {
      "needs_background": "light"
     },
     "output_type": "display_data"
    }
   ],
   "source": [
    "graph = sns.FacetGrid(titan, row='Embarked', col='Survived')\n",
    "graph.map(sns.barplot, 'Sex', 'Fare', alpha=.5,ci=None)\n",
    "graph.add_legend()"
   ]
  },
  {
   "cell_type": "code",
   "execution_count": 638,
   "metadata": {},
   "outputs": [
    {
     "data": {
      "text/plain": [
       "891"
      ]
     },
     "execution_count": 638,
     "metadata": {},
     "output_type": "execute_result"
    }
   ],
   "source": [
    "titan.Ticket.count()"
   ]
  },
  {
   "cell_type": "code",
   "execution_count": 639,
   "metadata": {},
   "outputs": [
    {
     "data": {
      "text/plain": [
       "681"
      ]
     },
     "execution_count": 639,
     "metadata": {},
     "output_type": "execute_result"
    }
   ],
   "source": [
    "titan.Ticket.nunique()"
   ]
  },
  {
   "cell_type": "code",
   "execution_count": 640,
   "metadata": {},
   "outputs": [],
   "source": [
    "titan=titan.drop(['Ticket'],axis=1)\n",
    "titantest=titantest.drop(['Ticket'],axis=1)"
   ]
  },
  {
   "cell_type": "code",
   "execution_count": 641,
   "metadata": {},
   "outputs": [
    {
     "data": {
      "text/plain": [
       "(891, 11)"
      ]
     },
     "execution_count": 641,
     "metadata": {},
     "output_type": "execute_result"
    }
   ],
   "source": [
    "titan.shape"
   ]
  },
  {
   "cell_type": "code",
   "execution_count": 642,
   "metadata": {},
   "outputs": [
    {
     "data": {
      "text/plain": [
       "687"
      ]
     },
     "execution_count": 642,
     "metadata": {},
     "output_type": "execute_result"
    }
   ],
   "source": [
    "titan.Cabin.isnull().sum()"
   ]
  },
  {
   "cell_type": "code",
   "execution_count": 643,
   "metadata": {},
   "outputs": [],
   "source": [
    "titan=titan.drop(['Cabin'],axis=1)\n",
    "titantest=titantest.drop(['Cabin'],axis=1)"
   ]
  },
  {
   "cell_type": "code",
   "execution_count": 644,
   "metadata": {},
   "outputs": [
    {
     "data": {
      "text/plain": [
       "(891, 10)"
      ]
     },
     "execution_count": 644,
     "metadata": {},
     "output_type": "execute_result"
    }
   ],
   "source": [
    "titan.shape"
   ]
  },
  {
   "cell_type": "code",
   "execution_count": 645,
   "metadata": {},
   "outputs": [],
   "source": [
    "titan.Sex = titan.Sex.map( {'female': 1, 'male': 0} ).astype(int)"
   ]
  },
  {
   "cell_type": "code",
   "execution_count": 646,
   "metadata": {},
   "outputs": [
    {
     "data": {
      "text/html": [
       "<div>\n",
       "<style scoped>\n",
       "    .dataframe tbody tr th:only-of-type {\n",
       "        vertical-align: middle;\n",
       "    }\n",
       "\n",
       "    .dataframe tbody tr th {\n",
       "        vertical-align: top;\n",
       "    }\n",
       "\n",
       "    .dataframe thead th {\n",
       "        text-align: right;\n",
       "    }\n",
       "</style>\n",
       "<table border=\"1\" class=\"dataframe\">\n",
       "  <thead>\n",
       "    <tr style=\"text-align: right;\">\n",
       "      <th></th>\n",
       "      <th>PassengerId</th>\n",
       "      <th>Survived</th>\n",
       "      <th>Pclass</th>\n",
       "      <th>Name</th>\n",
       "      <th>Sex</th>\n",
       "      <th>Age</th>\n",
       "      <th>SibSp</th>\n",
       "      <th>Parch</th>\n",
       "      <th>Fare</th>\n",
       "      <th>Embarked</th>\n",
       "    </tr>\n",
       "  </thead>\n",
       "  <tbody>\n",
       "    <tr>\n",
       "      <th>0</th>\n",
       "      <td>1</td>\n",
       "      <td>0</td>\n",
       "      <td>3</td>\n",
       "      <td>Braund, Mr. Owen Harris</td>\n",
       "      <td>0</td>\n",
       "      <td>22.0</td>\n",
       "      <td>1</td>\n",
       "      <td>0</td>\n",
       "      <td>7.2500</td>\n",
       "      <td>S</td>\n",
       "    </tr>\n",
       "    <tr>\n",
       "      <th>1</th>\n",
       "      <td>2</td>\n",
       "      <td>1</td>\n",
       "      <td>1</td>\n",
       "      <td>Cumings, Mrs. John Bradley (Florence Briggs Th...</td>\n",
       "      <td>1</td>\n",
       "      <td>38.0</td>\n",
       "      <td>1</td>\n",
       "      <td>0</td>\n",
       "      <td>71.2833</td>\n",
       "      <td>C</td>\n",
       "    </tr>\n",
       "  </tbody>\n",
       "</table>\n",
       "</div>"
      ],
      "text/plain": [
       "   PassengerId  Survived  Pclass  \\\n",
       "0            1         0       3   \n",
       "1            2         1       1   \n",
       "\n",
       "                                                Name  Sex   Age  SibSp  Parch  \\\n",
       "0                            Braund, Mr. Owen Harris    0  22.0      1      0   \n",
       "1  Cumings, Mrs. John Bradley (Florence Briggs Th...    1  38.0      1      0   \n",
       "\n",
       "      Fare Embarked  \n",
       "0   7.2500        S  \n",
       "1  71.2833        C  "
      ]
     },
     "execution_count": 646,
     "metadata": {},
     "output_type": "execute_result"
    }
   ],
   "source": [
    "titan.head(2)"
   ]
  },
  {
   "cell_type": "code",
   "execution_count": 647,
   "metadata": {},
   "outputs": [
    {
     "data": {
      "text/plain": [
       "S    644\n",
       "C    168\n",
       "Q     77\n",
       "Name: Embarked, dtype: int64"
      ]
     },
     "execution_count": 647,
     "metadata": {},
     "output_type": "execute_result"
    }
   ],
   "source": [
    "titan.Embarked.value_counts()"
   ]
  },
  {
   "cell_type": "code",
   "execution_count": 648,
   "metadata": {},
   "outputs": [
    {
     "data": {
      "text/plain": [
       "889"
      ]
     },
     "execution_count": 648,
     "metadata": {},
     "output_type": "execute_result"
    }
   ],
   "source": [
    "titan.Embarked.count()"
   ]
  },
  {
   "cell_type": "code",
   "execution_count": 649,
   "metadata": {},
   "outputs": [
    {
     "data": {
      "text/plain": [
       "0      S\n",
       "1      C\n",
       "2      S\n",
       "3      S\n",
       "4      S\n",
       "      ..\n",
       "886    S\n",
       "887    S\n",
       "888    S\n",
       "889    C\n",
       "890    Q\n",
       "Name: Embarked, Length: 891, dtype: object"
      ]
     },
     "execution_count": 649,
     "metadata": {},
     "output_type": "execute_result"
    }
   ],
   "source": [
    "titan.Embarked.fillna(\"S\") "
   ]
  },
  {
   "cell_type": "code",
   "execution_count": 650,
   "metadata": {},
   "outputs": [
    {
     "data": {
      "text/plain": [
       "S    644\n",
       "C    168\n",
       "Q     77\n",
       "Name: Embarked, dtype: int64"
      ]
     },
     "execution_count": 650,
     "metadata": {},
     "output_type": "execute_result"
    }
   ],
   "source": [
    "titan.Embarked.value_counts()"
   ]
  },
  {
   "cell_type": "code",
   "execution_count": 651,
   "metadata": {},
   "outputs": [
    {
     "data": {
      "text/plain": [
       "889"
      ]
     },
     "execution_count": 651,
     "metadata": {},
     "output_type": "execute_result"
    }
   ],
   "source": [
    "titan.Embarked.count()"
   ]
  },
  {
   "cell_type": "code",
   "execution_count": 652,
   "metadata": {},
   "outputs": [
    {
     "data": {
      "text/plain": [
       "0    8.05\n",
       "dtype: float64"
      ]
     },
     "execution_count": 652,
     "metadata": {},
     "output_type": "execute_result"
    }
   ],
   "source": [
    "titan.Fare.mode()"
   ]
  },
  {
   "cell_type": "code",
   "execution_count": 653,
   "metadata": {},
   "outputs": [
    {
     "data": {
      "text/plain": [
       "0       7.2500\n",
       "1      71.2833\n",
       "2       7.9250\n",
       "3      53.1000\n",
       "4       8.0500\n",
       "        ...   \n",
       "886    13.0000\n",
       "887    30.0000\n",
       "888    23.4500\n",
       "889    30.0000\n",
       "890     7.7500\n",
       "Name: Fare, Length: 891, dtype: float64"
      ]
     },
     "execution_count": 653,
     "metadata": {},
     "output_type": "execute_result"
    }
   ],
   "source": [
    "titan.Fare.fillna(8.05) "
   ]
  },
  {
   "cell_type": "code",
   "execution_count": 654,
   "metadata": {},
   "outputs": [
    {
     "data": {
      "text/plain": [
       "0       7.2500\n",
       "1      71.2833\n",
       "2       7.9250\n",
       "3      53.1000\n",
       "4       8.0500\n",
       "        ...   \n",
       "886    13.0000\n",
       "887    30.0000\n",
       "888    23.4500\n",
       "889    30.0000\n",
       "890     7.7500\n",
       "Name: Fare, Length: 891, dtype: float64"
      ]
     },
     "execution_count": 654,
     "metadata": {},
     "output_type": "execute_result"
    }
   ],
   "source": [
    "titan.Fare"
   ]
  },
  {
   "cell_type": "code",
   "execution_count": 655,
   "metadata": {},
   "outputs": [],
   "source": [
    "from sklearn.impute import KNNImputer"
   ]
  },
  {
   "cell_type": "code",
   "execution_count": 656,
   "metadata": {},
   "outputs": [],
   "source": [
    "def convert_num(x):\n",
    "    if x <= -(0.0001) and x >= 7.91:\n",
    "        return 0\n",
    "    elif x > 7.91 and x <= 14.454:\n",
    "        return 1\n",
    "    elif x > 14.454 and x <= 31.0:\n",
    "        return 2\n",
    "    elif x > 14.454 and x <= 512.329:\n",
    "        return 3"
   ]
  },
  {
   "cell_type": "code",
   "execution_count": 657,
   "metadata": {},
   "outputs": [
    {
     "data": {
      "text/plain": [
       "0      NaN\n",
       "1      3.0\n",
       "2      1.0\n",
       "3      3.0\n",
       "4      1.0\n",
       "      ... \n",
       "886    1.0\n",
       "887    2.0\n",
       "888    2.0\n",
       "889    2.0\n",
       "890    NaN\n",
       "Name: Fare, Length: 891, dtype: float64"
      ]
     },
     "execution_count": 657,
     "metadata": {},
     "output_type": "execute_result"
    }
   ],
   "source": [
    "titan.Fare.apply(convert_num)"
   ]
  },
  {
   "cell_type": "code",
   "execution_count": 658,
   "metadata": {},
   "outputs": [
    {
     "data": {
      "text/plain": [
       "0"
      ]
     },
     "execution_count": 658,
     "metadata": {},
     "output_type": "execute_result"
    }
   ],
   "source": [
    "titan.Fare.isnull().sum()"
   ]
  },
  {
   "cell_type": "code",
   "execution_count": 659,
   "metadata": {},
   "outputs": [],
   "source": [
    "yi=titan.Age.values\n",
    "yi=yi.reshape(-1,1)\n",
    "imputer = KNNImputer(n_neighbors=5)\n",
    "ynew=imputer.fit_transform(yi)\n"
   ]
  },
  {
   "cell_type": "code",
   "execution_count": 661,
   "metadata": {},
   "outputs": [
    {
     "name": "stdout",
     "output_type": "stream",
     "text": [
      "22.0 : 22.0\n",
      "38.0 : 38.0\n",
      "26.0 : 26.0\n",
      "35.0 : 35.0\n",
      "35.0 : 35.0\n",
      "nan : 29.69911764705882\n",
      "54.0 : 54.0\n",
      "2.0 : 2.0\n",
      "27.0 : 27.0\n",
      "14.0 : 14.0\n",
      "4.0 : 4.0\n",
      "58.0 : 58.0\n",
      "20.0 : 20.0\n",
      "39.0 : 39.0\n",
      "14.0 : 14.0\n",
      "55.0 : 55.0\n",
      "2.0 : 2.0\n",
      "nan : 29.69911764705882\n",
      "31.0 : 31.0\n",
      "nan : 29.69911764705882\n",
      "35.0 : 35.0\n",
      "34.0 : 34.0\n",
      "15.0 : 15.0\n",
      "28.0 : 28.0\n",
      "8.0 : 8.0\n",
      "38.0 : 38.0\n",
      "nan : 29.69911764705882\n",
      "19.0 : 19.0\n",
      "nan : 29.69911764705882\n",
      "nan : 29.69911764705882\n",
      "40.0 : 40.0\n",
      "nan : 29.69911764705882\n",
      "nan : 29.69911764705882\n",
      "66.0 : 66.0\n",
      "28.0 : 28.0\n",
      "42.0 : 42.0\n",
      "nan : 29.69911764705882\n",
      "21.0 : 21.0\n",
      "18.0 : 18.0\n",
      "14.0 : 14.0\n",
      "40.0 : 40.0\n",
      "27.0 : 27.0\n",
      "nan : 29.69911764705882\n",
      "3.0 : 3.0\n",
      "19.0 : 19.0\n",
      "nan : 29.69911764705882\n",
      "nan : 29.69911764705882\n",
      "nan : 29.69911764705882\n",
      "nan : 29.69911764705882\n",
      "18.0 : 18.0\n",
      "7.0 : 7.0\n",
      "21.0 : 21.0\n",
      "49.0 : 49.0\n",
      "29.0 : 29.0\n",
      "65.0 : 65.0\n",
      "nan : 29.69911764705882\n",
      "21.0 : 21.0\n",
      "28.5 : 28.5\n",
      "5.0 : 5.0\n",
      "11.0 : 11.0\n",
      "22.0 : 22.0\n",
      "38.0 : 38.0\n",
      "45.0 : 45.0\n",
      "4.0 : 4.0\n",
      "nan : 29.69911764705882\n",
      "nan : 29.69911764705882\n",
      "29.0 : 29.0\n",
      "19.0 : 19.0\n",
      "17.0 : 17.0\n",
      "26.0 : 26.0\n",
      "32.0 : 32.0\n",
      "16.0 : 16.0\n",
      "21.0 : 21.0\n",
      "26.0 : 26.0\n",
      "32.0 : 32.0\n",
      "25.0 : 25.0\n",
      "nan : 29.69911764705882\n",
      "nan : 29.69911764705882\n",
      "0.83 : 0.83\n",
      "30.0 : 30.0\n",
      "22.0 : 22.0\n",
      "29.0 : 29.0\n",
      "nan : 29.69911764705882\n",
      "28.0 : 28.0\n",
      "17.0 : 17.0\n",
      "33.0 : 33.0\n",
      "16.0 : 16.0\n",
      "nan : 29.69911764705882\n",
      "23.0 : 23.0\n",
      "24.0 : 24.0\n",
      "29.0 : 29.0\n",
      "20.0 : 20.0\n",
      "46.0 : 46.0\n",
      "26.0 : 26.0\n",
      "59.0 : 59.0\n",
      "nan : 29.69911764705882\n",
      "71.0 : 71.0\n",
      "23.0 : 23.0\n",
      "34.0 : 34.0\n",
      "34.0 : 34.0\n",
      "28.0 : 28.0\n",
      "nan : 29.69911764705882\n",
      "21.0 : 21.0\n",
      "33.0 : 33.0\n",
      "37.0 : 37.0\n",
      "28.0 : 28.0\n",
      "21.0 : 21.0\n",
      "nan : 29.69911764705882\n",
      "38.0 : 38.0\n",
      "nan : 29.69911764705882\n",
      "47.0 : 47.0\n",
      "14.5 : 14.5\n",
      "22.0 : 22.0\n",
      "20.0 : 20.0\n",
      "17.0 : 17.0\n",
      "21.0 : 21.0\n",
      "70.5 : 70.5\n",
      "29.0 : 29.0\n",
      "24.0 : 24.0\n",
      "2.0 : 2.0\n",
      "21.0 : 21.0\n",
      "nan : 29.69911764705882\n",
      "32.5 : 32.5\n",
      "32.5 : 32.5\n",
      "54.0 : 54.0\n",
      "12.0 : 12.0\n",
      "nan : 29.69911764705882\n",
      "24.0 : 24.0\n",
      "nan : 29.69911764705882\n",
      "45.0 : 45.0\n",
      "33.0 : 33.0\n",
      "20.0 : 20.0\n",
      "47.0 : 47.0\n",
      "29.0 : 29.0\n",
      "25.0 : 25.0\n",
      "23.0 : 23.0\n",
      "19.0 : 19.0\n",
      "37.0 : 37.0\n",
      "16.0 : 16.0\n",
      "24.0 : 24.0\n",
      "nan : 29.69911764705882\n",
      "22.0 : 22.0\n",
      "24.0 : 24.0\n",
      "19.0 : 19.0\n",
      "18.0 : 18.0\n",
      "19.0 : 19.0\n",
      "27.0 : 27.0\n",
      "9.0 : 9.0\n",
      "36.5 : 36.5\n",
      "42.0 : 42.0\n",
      "51.0 : 51.0\n",
      "22.0 : 22.0\n",
      "55.5 : 55.5\n",
      "40.5 : 40.5\n",
      "nan : 29.69911764705882\n",
      "51.0 : 51.0\n",
      "16.0 : 16.0\n",
      "30.0 : 30.0\n",
      "nan : 29.69911764705882\n",
      "nan : 29.69911764705882\n",
      "44.0 : 44.0\n",
      "40.0 : 40.0\n",
      "26.0 : 26.0\n",
      "17.0 : 17.0\n",
      "1.0 : 1.0\n",
      "9.0 : 9.0\n",
      "nan : 29.69911764705882\n",
      "45.0 : 45.0\n",
      "nan : 29.69911764705882\n",
      "28.0 : 28.0\n",
      "61.0 : 61.0\n",
      "4.0 : 4.0\n",
      "1.0 : 1.0\n",
      "21.0 : 21.0\n",
      "56.0 : 56.0\n",
      "18.0 : 18.0\n",
      "nan : 29.69911764705882\n",
      "50.0 : 50.0\n",
      "30.0 : 30.0\n",
      "36.0 : 36.0\n",
      "nan : 29.69911764705882\n",
      "nan : 29.69911764705882\n",
      "9.0 : 9.0\n",
      "1.0 : 1.0\n",
      "4.0 : 4.0\n",
      "nan : 29.69911764705882\n",
      "nan : 29.69911764705882\n",
      "45.0 : 45.0\n",
      "40.0 : 40.0\n",
      "36.0 : 36.0\n",
      "32.0 : 32.0\n",
      "19.0 : 19.0\n",
      "19.0 : 19.0\n",
      "3.0 : 3.0\n",
      "44.0 : 44.0\n",
      "58.0 : 58.0\n",
      "nan : 29.69911764705882\n",
      "42.0 : 42.0\n",
      "nan : 29.69911764705882\n",
      "24.0 : 24.0\n",
      "28.0 : 28.0\n",
      "nan : 29.69911764705882\n",
      "34.0 : 34.0\n",
      "45.5 : 45.5\n",
      "18.0 : 18.0\n",
      "2.0 : 2.0\n",
      "32.0 : 32.0\n",
      "26.0 : 26.0\n",
      "16.0 : 16.0\n",
      "40.0 : 40.0\n",
      "24.0 : 24.0\n",
      "35.0 : 35.0\n",
      "22.0 : 22.0\n",
      "30.0 : 30.0\n",
      "nan : 29.69911764705882\n",
      "31.0 : 31.0\n",
      "27.0 : 27.0\n",
      "42.0 : 42.0\n",
      "32.0 : 32.0\n",
      "30.0 : 30.0\n",
      "16.0 : 16.0\n",
      "27.0 : 27.0\n",
      "51.0 : 51.0\n",
      "nan : 29.69911764705882\n",
      "38.0 : 38.0\n",
      "22.0 : 22.0\n",
      "19.0 : 19.0\n",
      "20.5 : 20.5\n",
      "18.0 : 18.0\n",
      "nan : 29.69911764705882\n",
      "35.0 : 35.0\n",
      "29.0 : 29.0\n",
      "59.0 : 59.0\n",
      "5.0 : 5.0\n",
      "24.0 : 24.0\n",
      "nan : 29.69911764705882\n",
      "44.0 : 44.0\n",
      "8.0 : 8.0\n",
      "19.0 : 19.0\n",
      "33.0 : 33.0\n",
      "nan : 29.69911764705882\n",
      "nan : 29.69911764705882\n",
      "29.0 : 29.0\n",
      "22.0 : 22.0\n",
      "30.0 : 30.0\n",
      "44.0 : 44.0\n",
      "25.0 : 25.0\n",
      "24.0 : 24.0\n",
      "37.0 : 37.0\n",
      "54.0 : 54.0\n",
      "nan : 29.69911764705882\n",
      "29.0 : 29.0\n",
      "62.0 : 62.0\n",
      "30.0 : 30.0\n",
      "41.0 : 41.0\n",
      "29.0 : 29.0\n",
      "nan : 29.69911764705882\n",
      "30.0 : 30.0\n",
      "35.0 : 35.0\n",
      "50.0 : 50.0\n",
      "nan : 29.69911764705882\n",
      "3.0 : 3.0\n",
      "52.0 : 52.0\n",
      "40.0 : 40.0\n",
      "nan : 29.69911764705882\n",
      "36.0 : 36.0\n",
      "16.0 : 16.0\n",
      "25.0 : 25.0\n",
      "58.0 : 58.0\n",
      "35.0 : 35.0\n",
      "nan : 29.69911764705882\n",
      "25.0 : 25.0\n",
      "41.0 : 41.0\n",
      "37.0 : 37.0\n",
      "nan : 29.69911764705882\n",
      "63.0 : 63.0\n",
      "45.0 : 45.0\n",
      "nan : 29.69911764705882\n",
      "7.0 : 7.0\n",
      "35.0 : 35.0\n",
      "65.0 : 65.0\n",
      "28.0 : 28.0\n",
      "16.0 : 16.0\n",
      "19.0 : 19.0\n",
      "nan : 29.69911764705882\n",
      "33.0 : 33.0\n",
      "30.0 : 30.0\n",
      "22.0 : 22.0\n",
      "42.0 : 42.0\n",
      "22.0 : 22.0\n",
      "26.0 : 26.0\n",
      "19.0 : 19.0\n",
      "36.0 : 36.0\n",
      "24.0 : 24.0\n",
      "24.0 : 24.0\n",
      "nan : 29.69911764705882\n",
      "23.5 : 23.5\n",
      "2.0 : 2.0\n",
      "nan : 29.69911764705882\n",
      "50.0 : 50.0\n",
      "nan : 29.69911764705882\n",
      "nan : 29.69911764705882\n",
      "19.0 : 19.0\n",
      "nan : 29.69911764705882\n",
      "nan : 29.69911764705882\n",
      "0.92 : 0.92\n",
      "nan : 29.69911764705882\n",
      "17.0 : 17.0\n",
      "30.0 : 30.0\n",
      "30.0 : 30.0\n",
      "24.0 : 24.0\n",
      "18.0 : 18.0\n",
      "26.0 : 26.0\n",
      "28.0 : 28.0\n",
      "43.0 : 43.0\n",
      "26.0 : 26.0\n",
      "24.0 : 24.0\n",
      "54.0 : 54.0\n",
      "31.0 : 31.0\n",
      "40.0 : 40.0\n",
      "22.0 : 22.0\n",
      "27.0 : 27.0\n",
      "30.0 : 30.0\n",
      "22.0 : 22.0\n",
      "nan : 29.69911764705882\n",
      "36.0 : 36.0\n",
      "61.0 : 61.0\n",
      "36.0 : 36.0\n",
      "31.0 : 31.0\n",
      "16.0 : 16.0\n",
      "nan : 29.69911764705882\n",
      "45.5 : 45.5\n",
      "38.0 : 38.0\n",
      "16.0 : 16.0\n",
      "nan : 29.69911764705882\n",
      "nan : 29.69911764705882\n",
      "29.0 : 29.0\n",
      "41.0 : 41.0\n",
      "45.0 : 45.0\n",
      "45.0 : 45.0\n",
      "2.0 : 2.0\n",
      "24.0 : 24.0\n",
      "28.0 : 28.0\n",
      "25.0 : 25.0\n",
      "36.0 : 36.0\n",
      "24.0 : 24.0\n",
      "40.0 : 40.0\n",
      "nan : 29.69911764705882\n",
      "3.0 : 3.0\n",
      "42.0 : 42.0\n",
      "23.0 : 23.0\n",
      "nan : 29.69911764705882\n",
      "15.0 : 15.0\n",
      "25.0 : 25.0\n",
      "nan : 29.69911764705882\n",
      "28.0 : 28.0\n",
      "22.0 : 22.0\n",
      "38.0 : 38.0\n",
      "nan : 29.69911764705882\n",
      "nan : 29.69911764705882\n",
      "40.0 : 40.0\n",
      "29.0 : 29.0\n",
      "45.0 : 45.0\n",
      "35.0 : 35.0\n",
      "nan : 29.69911764705882\n",
      "30.0 : 30.0\n",
      "60.0 : 60.0\n",
      "nan : 29.69911764705882\n",
      "nan : 29.69911764705882\n",
      "24.0 : 24.0\n",
      "25.0 : 25.0\n",
      "18.0 : 18.0\n",
      "19.0 : 19.0\n",
      "22.0 : 22.0\n",
      "3.0 : 3.0\n",
      "nan : 29.69911764705882\n",
      "22.0 : 22.0\n",
      "27.0 : 27.0\n",
      "20.0 : 20.0\n",
      "19.0 : 19.0\n",
      "42.0 : 42.0\n",
      "1.0 : 1.0\n",
      "32.0 : 32.0\n",
      "35.0 : 35.0\n",
      "nan : 29.69911764705882\n",
      "18.0 : 18.0\n",
      "1.0 : 1.0\n",
      "36.0 : 36.0\n",
      "nan : 29.69911764705882\n",
      "17.0 : 17.0\n",
      "36.0 : 36.0\n",
      "21.0 : 21.0\n",
      "28.0 : 28.0\n",
      "23.0 : 23.0\n",
      "24.0 : 24.0\n",
      "22.0 : 22.0\n",
      "31.0 : 31.0\n",
      "46.0 : 46.0\n",
      "23.0 : 23.0\n",
      "28.0 : 28.0\n",
      "39.0 : 39.0\n",
      "26.0 : 26.0\n",
      "21.0 : 21.0\n",
      "28.0 : 28.0\n",
      "20.0 : 20.0\n",
      "34.0 : 34.0\n",
      "51.0 : 51.0\n",
      "3.0 : 3.0\n",
      "21.0 : 21.0\n",
      "nan : 29.69911764705882\n",
      "nan : 29.69911764705882\n",
      "nan : 29.69911764705882\n",
      "33.0 : 33.0\n",
      "nan : 29.69911764705882\n",
      "44.0 : 44.0\n",
      "nan : 29.69911764705882\n",
      "34.0 : 34.0\n",
      "18.0 : 18.0\n",
      "30.0 : 30.0\n",
      "10.0 : 10.0\n",
      "nan : 29.69911764705882\n",
      "21.0 : 21.0\n",
      "29.0 : 29.0\n",
      "28.0 : 28.0\n",
      "18.0 : 18.0\n",
      "nan : 29.69911764705882\n",
      "28.0 : 28.0\n",
      "19.0 : 19.0\n",
      "nan : 29.69911764705882\n",
      "32.0 : 32.0\n",
      "28.0 : 28.0\n",
      "nan : 29.69911764705882\n",
      "42.0 : 42.0\n",
      "17.0 : 17.0\n",
      "50.0 : 50.0\n",
      "14.0 : 14.0\n",
      "21.0 : 21.0\n",
      "24.0 : 24.0\n",
      "64.0 : 64.0\n",
      "31.0 : 31.0\n",
      "45.0 : 45.0\n",
      "20.0 : 20.0\n",
      "25.0 : 25.0\n",
      "28.0 : 28.0\n",
      "nan : 29.69911764705882\n",
      "4.0 : 4.0\n",
      "13.0 : 13.0\n",
      "34.0 : 34.0\n",
      "5.0 : 5.0\n",
      "52.0 : 52.0\n",
      "36.0 : 36.0\n",
      "nan : 29.69911764705882\n",
      "30.0 : 30.0\n",
      "49.0 : 49.0\n",
      "nan : 29.69911764705882\n",
      "29.0 : 29.0\n",
      "65.0 : 65.0\n",
      "nan : 29.69911764705882\n",
      "50.0 : 50.0\n",
      "nan : 29.69911764705882\n",
      "48.0 : 48.0\n",
      "34.0 : 34.0\n",
      "47.0 : 47.0\n",
      "48.0 : 48.0\n",
      "nan : 29.69911764705882\n",
      "38.0 : 38.0\n",
      "nan : 29.69911764705882\n",
      "56.0 : 56.0\n",
      "nan : 29.69911764705882\n",
      "0.75 : 0.75\n",
      "nan : 29.69911764705882\n",
      "38.0 : 38.0\n",
      "33.0 : 33.0\n",
      "23.0 : 23.0\n",
      "22.0 : 22.0\n",
      "nan : 29.69911764705882\n",
      "34.0 : 34.0\n",
      "29.0 : 29.0\n",
      "22.0 : 22.0\n",
      "2.0 : 2.0\n",
      "9.0 : 9.0\n",
      "nan : 29.69911764705882\n",
      "50.0 : 50.0\n",
      "63.0 : 63.0\n",
      "25.0 : 25.0\n",
      "nan : 29.69911764705882\n",
      "35.0 : 35.0\n",
      "58.0 : 58.0\n",
      "30.0 : 30.0\n",
      "9.0 : 9.0\n",
      "nan : 29.69911764705882\n",
      "21.0 : 21.0\n",
      "55.0 : 55.0\n",
      "71.0 : 71.0\n",
      "21.0 : 21.0\n",
      "nan : 29.69911764705882\n",
      "54.0 : 54.0\n",
      "nan : 29.69911764705882\n",
      "25.0 : 25.0\n",
      "24.0 : 24.0\n",
      "17.0 : 17.0\n",
      "21.0 : 21.0\n",
      "nan : 29.69911764705882\n",
      "37.0 : 37.0\n",
      "16.0 : 16.0\n",
      "18.0 : 18.0\n",
      "33.0 : 33.0\n",
      "nan : 29.69911764705882\n",
      "28.0 : 28.0\n",
      "26.0 : 26.0\n",
      "29.0 : 29.0\n",
      "nan : 29.69911764705882\n",
      "36.0 : 36.0\n",
      "54.0 : 54.0\n",
      "24.0 : 24.0\n",
      "47.0 : 47.0\n",
      "34.0 : 34.0\n",
      "nan : 29.69911764705882\n",
      "36.0 : 36.0\n",
      "32.0 : 32.0\n",
      "30.0 : 30.0\n",
      "22.0 : 22.0\n",
      "nan : 29.69911764705882\n",
      "44.0 : 44.0\n",
      "nan : 29.69911764705882\n",
      "40.5 : 40.5\n",
      "50.0 : 50.0\n",
      "nan : 29.69911764705882\n",
      "39.0 : 39.0\n",
      "23.0 : 23.0\n",
      "2.0 : 2.0\n",
      "nan : 29.69911764705882\n",
      "17.0 : 17.0\n",
      "nan : 29.69911764705882\n",
      "30.0 : 30.0\n",
      "7.0 : 7.0\n",
      "45.0 : 45.0\n",
      "30.0 : 30.0\n",
      "nan : 29.69911764705882\n",
      "22.0 : 22.0\n",
      "36.0 : 36.0\n",
      "9.0 : 9.0\n",
      "11.0 : 11.0\n",
      "32.0 : 32.0\n",
      "50.0 : 50.0\n",
      "64.0 : 64.0\n",
      "19.0 : 19.0\n",
      "nan : 29.69911764705882\n",
      "33.0 : 33.0\n",
      "8.0 : 8.0\n",
      "17.0 : 17.0\n",
      "27.0 : 27.0\n",
      "nan : 29.69911764705882\n",
      "22.0 : 22.0\n",
      "22.0 : 22.0\n",
      "62.0 : 62.0\n",
      "48.0 : 48.0\n",
      "nan : 29.69911764705882\n",
      "39.0 : 39.0\n",
      "36.0 : 36.0\n",
      "nan : 29.69911764705882\n",
      "40.0 : 40.0\n",
      "28.0 : 28.0\n",
      "nan : 29.69911764705882\n",
      "nan : 29.69911764705882\n",
      "24.0 : 24.0\n",
      "19.0 : 19.0\n",
      "29.0 : 29.0\n",
      "nan : 29.69911764705882\n",
      "32.0 : 32.0\n",
      "62.0 : 62.0\n",
      "53.0 : 53.0\n",
      "36.0 : 36.0\n",
      "nan : 29.69911764705882\n",
      "16.0 : 16.0\n",
      "19.0 : 19.0\n",
      "34.0 : 34.0\n",
      "39.0 : 39.0\n",
      "nan : 29.69911764705882\n",
      "32.0 : 32.0\n",
      "25.0 : 25.0\n",
      "39.0 : 39.0\n",
      "54.0 : 54.0\n",
      "36.0 : 36.0\n",
      "nan : 29.69911764705882\n",
      "18.0 : 18.0\n",
      "47.0 : 47.0\n",
      "60.0 : 60.0\n",
      "22.0 : 22.0\n",
      "nan : 29.69911764705882\n",
      "35.0 : 35.0\n",
      "52.0 : 52.0\n",
      "47.0 : 47.0\n",
      "nan : 29.69911764705882\n",
      "37.0 : 37.0\n",
      "36.0 : 36.0\n",
      "nan : 29.69911764705882\n",
      "49.0 : 49.0\n",
      "nan : 29.69911764705882\n",
      "49.0 : 49.0\n",
      "24.0 : 24.0\n",
      "nan : 29.69911764705882\n",
      "nan : 29.69911764705882\n",
      "44.0 : 44.0\n",
      "35.0 : 35.0\n",
      "36.0 : 36.0\n",
      "30.0 : 30.0\n",
      "27.0 : 27.0\n",
      "22.0 : 22.0\n",
      "40.0 : 40.0\n",
      "39.0 : 39.0\n",
      "nan : 29.69911764705882\n",
      "nan : 29.69911764705882\n",
      "nan : 29.69911764705882\n",
      "35.0 : 35.0\n",
      "24.0 : 24.0\n",
      "34.0 : 34.0\n",
      "26.0 : 26.0\n",
      "4.0 : 4.0\n",
      "26.0 : 26.0\n",
      "27.0 : 27.0\n",
      "42.0 : 42.0\n",
      "20.0 : 20.0\n",
      "21.0 : 21.0\n",
      "21.0 : 21.0\n",
      "61.0 : 61.0\n",
      "57.0 : 57.0\n",
      "21.0 : 21.0\n",
      "26.0 : 26.0\n",
      "nan : 29.69911764705882\n",
      "80.0 : 80.0\n",
      "51.0 : 51.0\n",
      "32.0 : 32.0\n",
      "nan : 29.69911764705882\n",
      "9.0 : 9.0\n",
      "28.0 : 28.0\n",
      "32.0 : 32.0\n",
      "31.0 : 31.0\n",
      "41.0 : 41.0\n",
      "nan : 29.69911764705882\n",
      "20.0 : 20.0\n",
      "24.0 : 24.0\n",
      "2.0 : 2.0\n",
      "nan : 29.69911764705882\n",
      "0.75 : 0.75\n",
      "48.0 : 48.0\n",
      "19.0 : 19.0\n",
      "56.0 : 56.0\n",
      "nan : 29.69911764705882\n",
      "23.0 : 23.0\n",
      "nan : 29.69911764705882\n",
      "18.0 : 18.0\n",
      "21.0 : 21.0\n",
      "nan : 29.69911764705882\n",
      "18.0 : 18.0\n",
      "24.0 : 24.0\n",
      "nan : 29.69911764705882\n",
      "32.0 : 32.0\n",
      "23.0 : 23.0\n",
      "58.0 : 58.0\n",
      "50.0 : 50.0\n",
      "40.0 : 40.0\n",
      "47.0 : 47.0\n",
      "36.0 : 36.0\n",
      "20.0 : 20.0\n",
      "32.0 : 32.0\n",
      "25.0 : 25.0\n",
      "nan : 29.69911764705882\n",
      "43.0 : 43.0\n",
      "nan : 29.69911764705882\n",
      "40.0 : 40.0\n",
      "31.0 : 31.0\n",
      "70.0 : 70.0\n",
      "31.0 : 31.0\n",
      "nan : 29.69911764705882\n",
      "18.0 : 18.0\n",
      "24.5 : 24.5\n",
      "18.0 : 18.0\n",
      "43.0 : 43.0\n",
      "36.0 : 36.0\n",
      "nan : 29.69911764705882\n",
      "27.0 : 27.0\n",
      "20.0 : 20.0\n",
      "14.0 : 14.0\n",
      "60.0 : 60.0\n",
      "25.0 : 25.0\n",
      "14.0 : 14.0\n",
      "19.0 : 19.0\n",
      "18.0 : 18.0\n",
      "15.0 : 15.0\n",
      "31.0 : 31.0\n",
      "4.0 : 4.0\n",
      "nan : 29.69911764705882\n",
      "25.0 : 25.0\n",
      "60.0 : 60.0\n",
      "52.0 : 52.0\n",
      "44.0 : 44.0\n",
      "nan : 29.69911764705882\n",
      "49.0 : 49.0\n",
      "42.0 : 42.0\n",
      "18.0 : 18.0\n",
      "35.0 : 35.0\n",
      "18.0 : 18.0\n",
      "25.0 : 25.0\n",
      "26.0 : 26.0\n",
      "39.0 : 39.0\n",
      "45.0 : 45.0\n",
      "42.0 : 42.0\n",
      "22.0 : 22.0\n",
      "nan : 29.69911764705882\n",
      "24.0 : 24.0\n",
      "nan : 29.69911764705882\n",
      "48.0 : 48.0\n",
      "29.0 : 29.0\n",
      "52.0 : 52.0\n",
      "19.0 : 19.0\n",
      "38.0 : 38.0\n",
      "27.0 : 27.0\n",
      "nan : 29.69911764705882\n",
      "33.0 : 33.0\n",
      "6.0 : 6.0\n",
      "17.0 : 17.0\n",
      "34.0 : 34.0\n",
      "50.0 : 50.0\n",
      "27.0 : 27.0\n",
      "20.0 : 20.0\n",
      "30.0 : 30.0\n",
      "nan : 29.69911764705882\n",
      "25.0 : 25.0\n",
      "25.0 : 25.0\n",
      "29.0 : 29.0\n",
      "11.0 : 11.0\n",
      "nan : 29.69911764705882\n",
      "23.0 : 23.0\n",
      "23.0 : 23.0\n",
      "28.5 : 28.5\n",
      "48.0 : 48.0\n",
      "35.0 : 35.0\n",
      "nan : 29.69911764705882\n",
      "nan : 29.69911764705882\n",
      "nan : 29.69911764705882\n",
      "36.0 : 36.0\n",
      "21.0 : 21.0\n",
      "24.0 : 24.0\n",
      "31.0 : 31.0\n",
      "70.0 : 70.0\n",
      "16.0 : 16.0\n",
      "30.0 : 30.0\n",
      "19.0 : 19.0\n",
      "31.0 : 31.0\n",
      "4.0 : 4.0\n",
      "6.0 : 6.0\n",
      "33.0 : 33.0\n",
      "23.0 : 23.0\n",
      "48.0 : 48.0\n",
      "0.67 : 0.67\n",
      "28.0 : 28.0\n",
      "18.0 : 18.0\n",
      "34.0 : 34.0\n",
      "33.0 : 33.0\n",
      "nan : 29.69911764705882\n",
      "41.0 : 41.0\n",
      "20.0 : 20.0\n",
      "36.0 : 36.0\n",
      "16.0 : 16.0\n",
      "51.0 : 51.0\n",
      "nan : 29.69911764705882\n",
      "30.5 : 30.5\n",
      "nan : 29.69911764705882\n",
      "32.0 : 32.0\n",
      "24.0 : 24.0\n",
      "48.0 : 48.0\n",
      "57.0 : 57.0\n",
      "nan : 29.69911764705882\n",
      "54.0 : 54.0\n",
      "18.0 : 18.0\n",
      "nan : 29.69911764705882\n",
      "5.0 : 5.0\n",
      "nan : 29.69911764705882\n",
      "43.0 : 43.0\n",
      "13.0 : 13.0\n",
      "17.0 : 17.0\n",
      "29.0 : 29.0\n",
      "nan : 29.69911764705882\n",
      "25.0 : 25.0\n",
      "25.0 : 25.0\n",
      "18.0 : 18.0\n",
      "8.0 : 8.0\n",
      "1.0 : 1.0\n",
      "46.0 : 46.0\n",
      "nan : 29.69911764705882\n",
      "16.0 : 16.0\n",
      "nan : 29.69911764705882\n",
      "nan : 29.69911764705882\n",
      "25.0 : 25.0\n",
      "39.0 : 39.0\n",
      "49.0 : 49.0\n",
      "31.0 : 31.0\n",
      "30.0 : 30.0\n",
      "30.0 : 30.0\n",
      "34.0 : 34.0\n",
      "31.0 : 31.0\n",
      "11.0 : 11.0\n",
      "0.42 : 0.42\n",
      "27.0 : 27.0\n",
      "31.0 : 31.0\n",
      "39.0 : 39.0\n",
      "18.0 : 18.0\n",
      "39.0 : 39.0\n",
      "33.0 : 33.0\n",
      "26.0 : 26.0\n",
      "39.0 : 39.0\n",
      "35.0 : 35.0\n",
      "6.0 : 6.0\n",
      "30.5 : 30.5\n",
      "nan : 29.69911764705882\n",
      "23.0 : 23.0\n",
      "31.0 : 31.0\n",
      "43.0 : 43.0\n",
      "10.0 : 10.0\n",
      "52.0 : 52.0\n",
      "27.0 : 27.0\n",
      "38.0 : 38.0\n",
      "27.0 : 27.0\n",
      "2.0 : 2.0\n",
      "nan : 29.69911764705882\n",
      "nan : 29.69911764705882\n",
      "1.0 : 1.0\n",
      "nan : 29.69911764705882\n",
      "62.0 : 62.0\n",
      "15.0 : 15.0\n",
      "0.83 : 0.83\n",
      "nan : 29.69911764705882\n",
      "23.0 : 23.0\n",
      "18.0 : 18.0\n",
      "39.0 : 39.0\n",
      "21.0 : 21.0\n",
      "nan : 29.69911764705882\n",
      "32.0 : 32.0\n",
      "nan : 29.69911764705882\n",
      "20.0 : 20.0\n",
      "16.0 : 16.0\n",
      "30.0 : 30.0\n",
      "34.5 : 34.5\n",
      "17.0 : 17.0\n",
      "42.0 : 42.0\n",
      "nan : 29.69911764705882\n",
      "35.0 : 35.0\n",
      "28.0 : 28.0\n",
      "nan : 29.69911764705882\n",
      "4.0 : 4.0\n",
      "74.0 : 74.0\n",
      "9.0 : 9.0\n",
      "16.0 : 16.0\n",
      "44.0 : 44.0\n",
      "18.0 : 18.0\n",
      "45.0 : 45.0\n",
      "51.0 : 51.0\n",
      "24.0 : 24.0\n",
      "nan : 29.69911764705882\n",
      "41.0 : 41.0\n",
      "21.0 : 21.0\n",
      "48.0 : 48.0\n",
      "nan : 29.69911764705882\n",
      "24.0 : 24.0\n",
      "42.0 : 42.0\n",
      "27.0 : 27.0\n",
      "31.0 : 31.0\n",
      "nan : 29.69911764705882\n",
      "4.0 : 4.0\n",
      "26.0 : 26.0\n",
      "47.0 : 47.0\n",
      "33.0 : 33.0\n",
      "47.0 : 47.0\n",
      "28.0 : 28.0\n",
      "15.0 : 15.0\n",
      "20.0 : 20.0\n",
      "19.0 : 19.0\n",
      "nan : 29.69911764705882\n",
      "56.0 : 56.0\n",
      "25.0 : 25.0\n",
      "33.0 : 33.0\n",
      "22.0 : 22.0\n",
      "28.0 : 28.0\n",
      "25.0 : 25.0\n",
      "39.0 : 39.0\n",
      "27.0 : 27.0\n",
      "19.0 : 19.0\n",
      "nan : 29.69911764705882\n",
      "26.0 : 26.0\n",
      "32.0 : 32.0\n"
     ]
    }
   ],
   "source": [
    "pd.DataFrame(ynew).shape\n",
    "for i, x in enumerate(yi):\n",
    "    print( str(yi[i][0]) + \" : \"+ str(ynew[i][0]))"
   ]
  },
  {
   "cell_type": "code",
   "execution_count": 662,
   "metadata": {},
   "outputs": [
    {
     "data": {
      "text/plain": [
       "(891, 10)"
      ]
     },
     "execution_count": 662,
     "metadata": {},
     "output_type": "execute_result"
    }
   ],
   "source": [
    "titan.shape"
   ]
  },
  {
   "cell_type": "code",
   "execution_count": 663,
   "metadata": {},
   "outputs": [],
   "source": [
    "titan= pd.concat([pd.DataFrame(ynew),titan],axis=1)"
   ]
  },
  {
   "cell_type": "code",
   "execution_count": 664,
   "metadata": {},
   "outputs": [],
   "source": [
    "titan=titan.drop(['Age'],axis=1)"
   ]
  },
  {
   "cell_type": "code",
   "execution_count": 665,
   "metadata": {},
   "outputs": [],
   "source": [
    "titan.rename(columns={0:'Age'},inplace=True)"
   ]
  },
  {
   "cell_type": "code",
   "execution_count": 666,
   "metadata": {},
   "outputs": [
    {
     "data": {
      "text/plain": [
       "0"
      ]
     },
     "execution_count": 666,
     "metadata": {},
     "output_type": "execute_result"
    }
   ],
   "source": [
    "np.sum(titan.Age == np.nan)"
   ]
  },
  {
   "cell_type": "code",
   "execution_count": 667,
   "metadata": {},
   "outputs": [
    {
     "data": {
      "text/plain": [
       "0      22.000000\n",
       "1      38.000000\n",
       "2      26.000000\n",
       "3      35.000000\n",
       "4      35.000000\n",
       "         ...    \n",
       "886    27.000000\n",
       "887    19.000000\n",
       "888    29.699118\n",
       "889    26.000000\n",
       "890    32.000000\n",
       "Name: Age, Length: 891, dtype: float64"
      ]
     },
     "execution_count": 667,
     "metadata": {},
     "output_type": "execute_result"
    }
   ],
   "source": [
    "titan.Age"
   ]
  },
  {
   "cell_type": "code",
   "execution_count": 668,
   "metadata": {},
   "outputs": [
    {
     "data": {
      "text/html": [
       "<div>\n",
       "<style scoped>\n",
       "    .dataframe tbody tr th:only-of-type {\n",
       "        vertical-align: middle;\n",
       "    }\n",
       "\n",
       "    .dataframe tbody tr th {\n",
       "        vertical-align: top;\n",
       "    }\n",
       "\n",
       "    .dataframe thead th {\n",
       "        text-align: right;\n",
       "    }\n",
       "</style>\n",
       "<table border=\"1\" class=\"dataframe\">\n",
       "  <thead>\n",
       "    <tr style=\"text-align: right;\">\n",
       "      <th></th>\n",
       "      <th>Age</th>\n",
       "      <th>PassengerId</th>\n",
       "      <th>Survived</th>\n",
       "      <th>Pclass</th>\n",
       "      <th>Name</th>\n",
       "      <th>Sex</th>\n",
       "      <th>SibSp</th>\n",
       "      <th>Parch</th>\n",
       "      <th>Fare</th>\n",
       "      <th>Embarked</th>\n",
       "    </tr>\n",
       "  </thead>\n",
       "  <tbody>\n",
       "    <tr>\n",
       "      <th>0</th>\n",
       "      <td>22.0</td>\n",
       "      <td>1</td>\n",
       "      <td>0</td>\n",
       "      <td>3</td>\n",
       "      <td>Braund, Mr. Owen Harris</td>\n",
       "      <td>0</td>\n",
       "      <td>1</td>\n",
       "      <td>0</td>\n",
       "      <td>7.2500</td>\n",
       "      <td>S</td>\n",
       "    </tr>\n",
       "    <tr>\n",
       "      <th>1</th>\n",
       "      <td>38.0</td>\n",
       "      <td>2</td>\n",
       "      <td>1</td>\n",
       "      <td>1</td>\n",
       "      <td>Cumings, Mrs. John Bradley (Florence Briggs Th...</td>\n",
       "      <td>1</td>\n",
       "      <td>1</td>\n",
       "      <td>0</td>\n",
       "      <td>71.2833</td>\n",
       "      <td>C</td>\n",
       "    </tr>\n",
       "  </tbody>\n",
       "</table>\n",
       "</div>"
      ],
      "text/plain": [
       "    Age  PassengerId  Survived  Pclass  \\\n",
       "0  22.0            1         0       3   \n",
       "1  38.0            2         1       1   \n",
       "\n",
       "                                                Name  Sex  SibSp  Parch  \\\n",
       "0                            Braund, Mr. Owen Harris    0      1      0   \n",
       "1  Cumings, Mrs. John Bradley (Florence Briggs Th...    1      1      0   \n",
       "\n",
       "      Fare Embarked  \n",
       "0   7.2500        S  \n",
       "1  71.2833        C  "
      ]
     },
     "execution_count": 668,
     "metadata": {},
     "output_type": "execute_result"
    }
   ],
   "source": [
    "titan.head(2)"
   ]
  },
  {
   "cell_type": "code",
   "execution_count": 669,
   "metadata": {},
   "outputs": [
    {
     "data": {
      "text/plain": [
       "0      22.000000\n",
       "1      38.000000\n",
       "2      26.000000\n",
       "3      35.000000\n",
       "4      35.000000\n",
       "         ...    \n",
       "886    27.000000\n",
       "887    19.000000\n",
       "888    29.699118\n",
       "889    26.000000\n",
       "890    32.000000\n",
       "Name: Age, Length: 891, dtype: float64"
      ]
     },
     "execution_count": 669,
     "metadata": {},
     "output_type": "execute_result"
    }
   ],
   "source": [
    "titan.Age"
   ]
  },
  {
   "cell_type": "code",
   "execution_count": null,
   "metadata": {},
   "outputs": [],
   "source": []
  },
  {
   "cell_type": "code",
   "execution_count": 1,
   "metadata": {},
   "outputs": [
    {
     "ename": "NameError",
     "evalue": "name 'titan' is not defined",
     "output_type": "error",
     "traceback": [
      "\u001b[1;31m---------------------------------------------------------------------------\u001b[0m",
      "\u001b[1;31mNameError\u001b[0m                                 Traceback (most recent call last)",
      "\u001b[1;32m<ipython-input-1-d7b90ebc21b3>\u001b[0m in \u001b[0;36m<module>\u001b[1;34m\u001b[0m\n\u001b[1;32m----> 1\u001b[1;33m \u001b[0mtitan\u001b[0m\u001b[1;33m.\u001b[0m\u001b[0mhead\u001b[0m\u001b[1;33m(\u001b[0m\u001b[1;36m100\u001b[0m\u001b[1;33m)\u001b[0m\u001b[1;33m\u001b[0m\u001b[1;33m\u001b[0m\u001b[0m\n\u001b[0m",
      "\u001b[1;31mNameError\u001b[0m: name 'titan' is not defined"
     ]
    }
   ],
   "source": [
    "titan.head(100)"
   ]
  },
  {
   "cell_type": "code",
   "execution_count": null,
   "metadata": {},
   "outputs": [],
   "source": [
    "impost ipdb; ipdb.set_trace()"
   ]
  },
  {
   "cell_type": "code",
   "execution_count": null,
   "metadata": {},
   "outputs": [],
   "source": []
  }
 ],
 "metadata": {
  "kernelspec": {
   "display_name": "Python 3",
   "language": "python",
   "name": "python3"
  },
  "language_info": {
   "codemirror_mode": {
    "name": "ipython",
    "version": 3
   },
   "file_extension": ".py",
   "mimetype": "text/x-python",
   "name": "python",
   "nbconvert_exporter": "python",
   "pygments_lexer": "ipython3",
   "version": "3.7.6"
  }
 },
 "nbformat": 4,
 "nbformat_minor": 4
}
