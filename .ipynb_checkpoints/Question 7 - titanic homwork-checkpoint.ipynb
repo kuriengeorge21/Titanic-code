{
 "cells": [
  {
   "cell_type": "markdown",
   "metadata": {},
   "source": [
    "Home work Question number 7\n",
    "Find the count , mean , std deviation, min , max, 25 percentile, 50 percentile and 75 percentile of numeric features"
   ]
  },
  {
   "cell_type": "code",
   "execution_count": 9,
   "metadata": {},
   "outputs": [],
   "source": [
    "import os\n"
   ]
  },
  {
   "cell_type": "code",
   "execution_count": 10,
   "metadata": {},
   "outputs": [],
   "source": [
    "import matplotlib.pyplot as plt\n",
    "import pandas as pd\n",
    "import numpy as np\n",
    "import seaborn as sns\n",
    "import csv\n",
    "import sklearn "
   ]
  },
  {
   "cell_type": "code",
   "execution_count": 11,
   "metadata": {},
   "outputs": [
    {
     "data": {
      "text/html": [
       "<div>\n",
       "<style scoped>\n",
       "    .dataframe tbody tr th:only-of-type {\n",
       "        vertical-align: middle;\n",
       "    }\n",
       "\n",
       "    .dataframe tbody tr th {\n",
       "        vertical-align: top;\n",
       "    }\n",
       "\n",
       "    .dataframe thead th {\n",
       "        text-align: right;\n",
       "    }\n",
       "</style>\n",
       "<table border=\"1\" class=\"dataframe\">\n",
       "  <thead>\n",
       "    <tr style=\"text-align: right;\">\n",
       "      <th></th>\n",
       "      <th>PassengerId</th>\n",
       "      <th>Pclass</th>\n",
       "      <th>Age</th>\n",
       "      <th>SibSp</th>\n",
       "      <th>Parch</th>\n",
       "      <th>Fare</th>\n",
       "    </tr>\n",
       "  </thead>\n",
       "  <tbody>\n",
       "    <tr>\n",
       "      <th>count</th>\n",
       "      <td>418.000000</td>\n",
       "      <td>418.000000</td>\n",
       "      <td>332.000000</td>\n",
       "      <td>418.000000</td>\n",
       "      <td>418.000000</td>\n",
       "      <td>417.000000</td>\n",
       "    </tr>\n",
       "    <tr>\n",
       "      <th>mean</th>\n",
       "      <td>1100.500000</td>\n",
       "      <td>2.265550</td>\n",
       "      <td>30.272590</td>\n",
       "      <td>0.447368</td>\n",
       "      <td>0.392344</td>\n",
       "      <td>35.627188</td>\n",
       "    </tr>\n",
       "    <tr>\n",
       "      <th>std</th>\n",
       "      <td>120.810458</td>\n",
       "      <td>0.841838</td>\n",
       "      <td>14.181209</td>\n",
       "      <td>0.896760</td>\n",
       "      <td>0.981429</td>\n",
       "      <td>55.907576</td>\n",
       "    </tr>\n",
       "    <tr>\n",
       "      <th>min</th>\n",
       "      <td>892.000000</td>\n",
       "      <td>1.000000</td>\n",
       "      <td>0.170000</td>\n",
       "      <td>0.000000</td>\n",
       "      <td>0.000000</td>\n",
       "      <td>0.000000</td>\n",
       "    </tr>\n",
       "    <tr>\n",
       "      <th>25%</th>\n",
       "      <td>996.250000</td>\n",
       "      <td>1.000000</td>\n",
       "      <td>21.000000</td>\n",
       "      <td>0.000000</td>\n",
       "      <td>0.000000</td>\n",
       "      <td>7.895800</td>\n",
       "    </tr>\n",
       "    <tr>\n",
       "      <th>50%</th>\n",
       "      <td>1100.500000</td>\n",
       "      <td>3.000000</td>\n",
       "      <td>27.000000</td>\n",
       "      <td>0.000000</td>\n",
       "      <td>0.000000</td>\n",
       "      <td>14.454200</td>\n",
       "    </tr>\n",
       "    <tr>\n",
       "      <th>75%</th>\n",
       "      <td>1204.750000</td>\n",
       "      <td>3.000000</td>\n",
       "      <td>39.000000</td>\n",
       "      <td>1.000000</td>\n",
       "      <td>0.000000</td>\n",
       "      <td>31.500000</td>\n",
       "    </tr>\n",
       "    <tr>\n",
       "      <th>max</th>\n",
       "      <td>1309.000000</td>\n",
       "      <td>3.000000</td>\n",
       "      <td>76.000000</td>\n",
       "      <td>8.000000</td>\n",
       "      <td>9.000000</td>\n",
       "      <td>512.329200</td>\n",
       "    </tr>\n",
       "  </tbody>\n",
       "</table>\n",
       "</div>"
      ],
      "text/plain": [
       "       PassengerId      Pclass         Age       SibSp       Parch        Fare\n",
       "count   418.000000  418.000000  332.000000  418.000000  418.000000  417.000000\n",
       "mean   1100.500000    2.265550   30.272590    0.447368    0.392344   35.627188\n",
       "std     120.810458    0.841838   14.181209    0.896760    0.981429   55.907576\n",
       "min     892.000000    1.000000    0.170000    0.000000    0.000000    0.000000\n",
       "25%     996.250000    1.000000   21.000000    0.000000    0.000000    7.895800\n",
       "50%    1100.500000    3.000000   27.000000    0.000000    0.000000   14.454200\n",
       "75%    1204.750000    3.000000   39.000000    1.000000    0.000000   31.500000\n",
       "max    1309.000000    3.000000   76.000000    8.000000    9.000000  512.329200"
      ]
     },
     "execution_count": 11,
     "metadata": {},
     "output_type": "execute_result"
    }
   ],
   "source": [
    "titan=pd.read_csv('train.csv')\n",
    "titantest=pd.read_csv('test.csv')\n",
    "np.where(pd.isnull(titan))\n",
    "np.where(pd.isnull(titantest))\n",
    "titantest.describe()\n"
   ]
  },
  {
   "cell_type": "code",
   "execution_count": 12,
   "metadata": {},
   "outputs": [
    {
     "name": "stdout",
     "output_type": "stream",
     "text": [
      "     PassengerId  Survived  Pclass  \\\n",
      "0              1         0       3   \n",
      "1              2         1       1   \n",
      "2              3         1       3   \n",
      "3              4         1       1   \n",
      "4              5         0       3   \n",
      "..           ...       ...     ...   \n",
      "886          887         0       2   \n",
      "887          888         1       1   \n",
      "888          889         0       3   \n",
      "889          890         1       1   \n",
      "890          891         0       3   \n",
      "\n",
      "                                                  Name     Sex   Age  SibSp  \\\n",
      "0                              Braund, Mr. Owen Harris    male  22.0      1   \n",
      "1    Cumings, Mrs. John Bradley (Florence Briggs Th...  female  38.0      1   \n",
      "2                               Heikkinen, Miss. Laina  female  26.0      0   \n",
      "3         Futrelle, Mrs. Jacques Heath (Lily May Peel)  female  35.0      1   \n",
      "4                             Allen, Mr. William Henry    male  35.0      0   \n",
      "..                                                 ...     ...   ...    ...   \n",
      "886                              Montvila, Rev. Juozas    male  27.0      0   \n",
      "887                       Graham, Miss. Margaret Edith  female  19.0      0   \n",
      "888           Johnston, Miss. Catherine Helen \"Carrie\"  female   NaN      1   \n",
      "889                              Behr, Mr. Karl Howell    male  26.0      0   \n",
      "890                                Dooley, Mr. Patrick    male  32.0      0   \n",
      "\n",
      "     Parch            Ticket     Fare Cabin Embarked  \n",
      "0        0         A/5 21171   7.2500   NaN        S  \n",
      "1        0          PC 17599  71.2833   C85        C  \n",
      "2        0  STON/O2. 3101282   7.9250   NaN        S  \n",
      "3        0            113803  53.1000  C123        S  \n",
      "4        0            373450   8.0500   NaN        S  \n",
      "..     ...               ...      ...   ...      ...  \n",
      "886      0            211536  13.0000   NaN        S  \n",
      "887      0            112053  30.0000   B42        S  \n",
      "888      2        W./C. 6607  23.4500   NaN        S  \n",
      "889      0            111369  30.0000  C148        C  \n",
      "890      0            370376   7.7500   NaN        Q  \n",
      "\n",
      "[891 rows x 12 columns]\n"
     ]
    },
    {
     "data": {
      "text/plain": [
       "PassengerId    891\n",
       "Survived       891\n",
       "Pclass         891\n",
       "Name           891\n",
       "Sex            891\n",
       "Age            714\n",
       "SibSp          891\n",
       "Parch          891\n",
       "Ticket         891\n",
       "Fare           891\n",
       "Cabin          204\n",
       "Embarked       889\n",
       "dtype: int64"
      ]
     },
     "execution_count": 12,
     "metadata": {},
     "output_type": "execute_result"
    }
   ],
   "source": [
    "print(titan)\n",
    "titan.isnull().sum()\n",
    "titan.notnull().sum()\n",
    "\n",
    "\n"
   ]
  },
  {
   "cell_type": "code",
   "execution_count": 13,
   "metadata": {
    "scrolled": true
   },
   "outputs": [
    {
     "data": {
      "text/html": [
       "<div>\n",
       "<style scoped>\n",
       "    .dataframe tbody tr th:only-of-type {\n",
       "        vertical-align: middle;\n",
       "    }\n",
       "\n",
       "    .dataframe tbody tr th {\n",
       "        vertical-align: top;\n",
       "    }\n",
       "\n",
       "    .dataframe thead th {\n",
       "        text-align: right;\n",
       "    }\n",
       "</style>\n",
       "<table border=\"1\" class=\"dataframe\">\n",
       "  <thead>\n",
       "    <tr style=\"text-align: right;\">\n",
       "      <th></th>\n",
       "      <th>PassengerId</th>\n",
       "      <th>Survived</th>\n",
       "      <th>Pclass</th>\n",
       "      <th>Name</th>\n",
       "      <th>Sex</th>\n",
       "      <th>Age</th>\n",
       "      <th>SibSp</th>\n",
       "      <th>Parch</th>\n",
       "      <th>Ticket</th>\n",
       "      <th>Fare</th>\n",
       "      <th>Cabin</th>\n",
       "      <th>Embarked</th>\n",
       "    </tr>\n",
       "  </thead>\n",
       "  <tbody>\n",
       "    <tr>\n",
       "      <th>0</th>\n",
       "      <td>1</td>\n",
       "      <td>0</td>\n",
       "      <td>3</td>\n",
       "      <td>Braund, Mr. Owen Harris</td>\n",
       "      <td>male</td>\n",
       "      <td>22.0</td>\n",
       "      <td>1</td>\n",
       "      <td>0</td>\n",
       "      <td>A/5 21171</td>\n",
       "      <td>7.2500</td>\n",
       "      <td>NaN</td>\n",
       "      <td>S</td>\n",
       "    </tr>\n",
       "    <tr>\n",
       "      <th>1</th>\n",
       "      <td>2</td>\n",
       "      <td>1</td>\n",
       "      <td>1</td>\n",
       "      <td>Cumings, Mrs. John Bradley (Florence Briggs Th...</td>\n",
       "      <td>female</td>\n",
       "      <td>38.0</td>\n",
       "      <td>1</td>\n",
       "      <td>0</td>\n",
       "      <td>PC 17599</td>\n",
       "      <td>71.2833</td>\n",
       "      <td>C85</td>\n",
       "      <td>C</td>\n",
       "    </tr>\n",
       "  </tbody>\n",
       "</table>\n",
       "</div>"
      ],
      "text/plain": [
       "   PassengerId  Survived  Pclass  \\\n",
       "0            1         0       3   \n",
       "1            2         1       1   \n",
       "\n",
       "                                                Name     Sex   Age  SibSp  \\\n",
       "0                            Braund, Mr. Owen Harris    male  22.0      1   \n",
       "1  Cumings, Mrs. John Bradley (Florence Briggs Th...  female  38.0      1   \n",
       "\n",
       "   Parch     Ticket     Fare Cabin Embarked  \n",
       "0      0  A/5 21171   7.2500   NaN        S  \n",
       "1      0   PC 17599  71.2833   C85        C  "
      ]
     },
     "execution_count": 13,
     "metadata": {},
     "output_type": "execute_result"
    }
   ],
   "source": [
    "titan.head(10)\n",
    "titantest.isnull().sum()\n",
    "titan.head(2)"
   ]
  },
  {
   "cell_type": "code",
   "execution_count": 14,
   "metadata": {},
   "outputs": [
    {
     "data": {
      "text/html": [
       "<div>\n",
       "<style scoped>\n",
       "    .dataframe tbody tr th:only-of-type {\n",
       "        vertical-align: middle;\n",
       "    }\n",
       "\n",
       "    .dataframe tbody tr th {\n",
       "        vertical-align: top;\n",
       "    }\n",
       "\n",
       "    .dataframe thead th {\n",
       "        text-align: right;\n",
       "    }\n",
       "</style>\n",
       "<table border=\"1\" class=\"dataframe\">\n",
       "  <thead>\n",
       "    <tr style=\"text-align: right;\">\n",
       "      <th></th>\n",
       "      <th>PassengerId</th>\n",
       "      <th>Survived</th>\n",
       "      <th>Pclass</th>\n",
       "      <th>Age</th>\n",
       "      <th>SibSp</th>\n",
       "      <th>Parch</th>\n",
       "      <th>Fare</th>\n",
       "    </tr>\n",
       "  </thead>\n",
       "  <tbody>\n",
       "    <tr>\n",
       "      <th>count</th>\n",
       "      <td>891.000000</td>\n",
       "      <td>891.000000</td>\n",
       "      <td>891.000000</td>\n",
       "      <td>714.000000</td>\n",
       "      <td>891.000000</td>\n",
       "      <td>891.000000</td>\n",
       "      <td>891.000000</td>\n",
       "    </tr>\n",
       "    <tr>\n",
       "      <th>mean</th>\n",
       "      <td>446.000000</td>\n",
       "      <td>0.383838</td>\n",
       "      <td>2.308642</td>\n",
       "      <td>29.699118</td>\n",
       "      <td>0.523008</td>\n",
       "      <td>0.381594</td>\n",
       "      <td>32.204208</td>\n",
       "    </tr>\n",
       "    <tr>\n",
       "      <th>std</th>\n",
       "      <td>257.353842</td>\n",
       "      <td>0.486592</td>\n",
       "      <td>0.836071</td>\n",
       "      <td>14.526497</td>\n",
       "      <td>1.102743</td>\n",
       "      <td>0.806057</td>\n",
       "      <td>49.693429</td>\n",
       "    </tr>\n",
       "    <tr>\n",
       "      <th>min</th>\n",
       "      <td>1.000000</td>\n",
       "      <td>0.000000</td>\n",
       "      <td>1.000000</td>\n",
       "      <td>0.420000</td>\n",
       "      <td>0.000000</td>\n",
       "      <td>0.000000</td>\n",
       "      <td>0.000000</td>\n",
       "    </tr>\n",
       "    <tr>\n",
       "      <th>25%</th>\n",
       "      <td>223.500000</td>\n",
       "      <td>0.000000</td>\n",
       "      <td>2.000000</td>\n",
       "      <td>20.125000</td>\n",
       "      <td>0.000000</td>\n",
       "      <td>0.000000</td>\n",
       "      <td>7.910400</td>\n",
       "    </tr>\n",
       "    <tr>\n",
       "      <th>50%</th>\n",
       "      <td>446.000000</td>\n",
       "      <td>0.000000</td>\n",
       "      <td>3.000000</td>\n",
       "      <td>28.000000</td>\n",
       "      <td>0.000000</td>\n",
       "      <td>0.000000</td>\n",
       "      <td>14.454200</td>\n",
       "    </tr>\n",
       "    <tr>\n",
       "      <th>75%</th>\n",
       "      <td>668.500000</td>\n",
       "      <td>1.000000</td>\n",
       "      <td>3.000000</td>\n",
       "      <td>38.000000</td>\n",
       "      <td>1.000000</td>\n",
       "      <td>0.000000</td>\n",
       "      <td>31.000000</td>\n",
       "    </tr>\n",
       "    <tr>\n",
       "      <th>max</th>\n",
       "      <td>891.000000</td>\n",
       "      <td>1.000000</td>\n",
       "      <td>3.000000</td>\n",
       "      <td>80.000000</td>\n",
       "      <td>8.000000</td>\n",
       "      <td>6.000000</td>\n",
       "      <td>512.329200</td>\n",
       "    </tr>\n",
       "  </tbody>\n",
       "</table>\n",
       "</div>"
      ],
      "text/plain": [
       "       PassengerId    Survived      Pclass         Age       SibSp  \\\n",
       "count   891.000000  891.000000  891.000000  714.000000  891.000000   \n",
       "mean    446.000000    0.383838    2.308642   29.699118    0.523008   \n",
       "std     257.353842    0.486592    0.836071   14.526497    1.102743   \n",
       "min       1.000000    0.000000    1.000000    0.420000    0.000000   \n",
       "25%     223.500000    0.000000    2.000000   20.125000    0.000000   \n",
       "50%     446.000000    0.000000    3.000000   28.000000    0.000000   \n",
       "75%     668.500000    1.000000    3.000000   38.000000    1.000000   \n",
       "max     891.000000    1.000000    3.000000   80.000000    8.000000   \n",
       "\n",
       "            Parch        Fare  \n",
       "count  891.000000  891.000000  \n",
       "mean     0.381594   32.204208  \n",
       "std      0.806057   49.693429  \n",
       "min      0.000000    0.000000  \n",
       "25%      0.000000    7.910400  \n",
       "50%      0.000000   14.454200  \n",
       "75%      0.000000   31.000000  \n",
       "max      6.000000  512.329200  "
      ]
     },
     "execution_count": 14,
     "metadata": {},
     "output_type": "execute_result"
    }
   ],
   "source": [
    "titan.describe()"
   ]
  },
  {
   "cell_type": "code",
   "execution_count": 15,
   "metadata": {},
   "outputs": [
    {
     "data": {
      "text/plain": [
       "PassengerId      int64\n",
       "Survived         int64\n",
       "Pclass           int64\n",
       "Name            object\n",
       "Sex             object\n",
       "Age            float64\n",
       "SibSp            int64\n",
       "Parch            int64\n",
       "Ticket          object\n",
       "Fare           float64\n",
       "Cabin           object\n",
       "Embarked        object\n",
       "dtype: object"
      ]
     },
     "execution_count": 15,
     "metadata": {},
     "output_type": "execute_result"
    }
   ],
   "source": [
    "titan.dtypes"
   ]
  },
  {
   "cell_type": "code",
   "execution_count": 16,
   "metadata": {},
   "outputs": [
    {
     "data": {
      "text/plain": [
       "0    549\n",
       "1    342\n",
       "Name: Survived, dtype: int64"
      ]
     },
     "execution_count": 16,
     "metadata": {},
     "output_type": "execute_result"
    }
   ],
   "source": [
    "titan.Survived.value_counts()\n",
    "\n"
   ]
  },
  {
   "cell_type": "code",
   "execution_count": 17,
   "metadata": {},
   "outputs": [
    {
     "data": {
      "text/plain": [
       "male      577\n",
       "female    314\n",
       "Name: Sex, dtype: int64"
      ]
     },
     "execution_count": 17,
     "metadata": {},
     "output_type": "execute_result"
    }
   ],
   "source": [
    "titan.Sex.value_counts()"
   ]
  },
  {
   "cell_type": "code",
   "execution_count": 18,
   "metadata": {},
   "outputs": [],
   "source": [
    "cols=['Name','Sex','Ticket','Cabin','Embarked']"
   ]
  },
  {
   "cell_type": "code",
   "execution_count": 19,
   "metadata": {},
   "outputs": [
    {
     "data": {
      "text/plain": [
       "3    491\n",
       "1    216\n",
       "2    184\n",
       "Name: Pclass, dtype: int64"
      ]
     },
     "execution_count": 19,
     "metadata": {},
     "output_type": "execute_result"
    }
   ],
   "source": [
    "titan.Pclass.value_counts()"
   ]
  },
  {
   "cell_type": "code",
   "execution_count": 20,
   "metadata": {},
   "outputs": [
    {
     "data": {
      "text/plain": [
       "male      577\n",
       "female    314\n",
       "Name: Sex, dtype: int64"
      ]
     },
     "execution_count": 20,
     "metadata": {},
     "output_type": "execute_result"
    }
   ],
   "source": [
    "titan.Sex.value_counts()"
   ]
  },
  {
   "cell_type": "code",
   "execution_count": 21,
   "metadata": {},
   "outputs": [
    {
     "data": {
      "text/plain": [
       "S    644\n",
       "C    168\n",
       "Q     77\n",
       "Name: Embarked, dtype: int64"
      ]
     },
     "execution_count": 21,
     "metadata": {},
     "output_type": "execute_result"
    }
   ],
   "source": [
    "titan.Embarked.value_counts()"
   ]
  },
  {
   "cell_type": "code",
   "execution_count": 22,
   "metadata": {},
   "outputs": [
    {
     "data": {
      "text/plain": [
       "0    549\n",
       "1    342\n",
       "Name: Survived, dtype: int64"
      ]
     },
     "execution_count": 22,
     "metadata": {},
     "output_type": "execute_result"
    }
   ],
   "source": [
    "titan.Survived.value_counts()"
   ]
  },
  {
   "cell_type": "code",
   "execution_count": 23,
   "metadata": {},
   "outputs": [
    {
     "data": {
      "text/plain": [
       "['Morley, Mr. Henry Samuel (\"Mr Henry Marshall\")',\n",
       " 'Carter, Rev. Ernest Courtenay',\n",
       " 'Greenberg, Mr. Samuel',\n",
       " 'Vande Velde, Mr. Johannes Joseph',\n",
       " 'Francatelli, Miss. Laura Mabel',\n",
       " 'Rothschild, Mrs. Martin (Elizabeth L. Barrett)',\n",
       " 'Ford, Miss. Doolina Margaret \"Daisy\"',\n",
       " 'Ohman, Miss. Velin',\n",
       " 'Butt, Major. Archibald Willingham',\n",
       " 'Perkin, Mr. John Henry',\n",
       " 'Karaic, Mr. Milan',\n",
       " 'Panula, Mrs. Juha (Maria Emilia Ojala)',\n",
       " 'Hagland, Mr. Ingvald Olai Olsen',\n",
       " 'Salonen, Mr. Johan Werner',\n",
       " 'Backstrom, Mr. Karl Alfred',\n",
       " 'Braund, Mr. Owen Harris',\n",
       " 'Panula, Master. Eino Viljami',\n",
       " 'Keane, Miss. Nora A',\n",
       " 'Fortune, Mr. Mark',\n",
       " 'Ekstrom, Mr. Johan',\n",
       " \"O'Connell, Mr. Patrick D\",\n",
       " 'Jalsevac, Mr. Ivan',\n",
       " 'Abbott, Mrs. Stanton (Rosa Hunt)',\n",
       " 'Daly, Mr. Peter Denis ',\n",
       " 'Bystrom, Mrs. (Karolina)',\n",
       " \"O'Driscoll, Miss. Bridget\",\n",
       " 'Silvey, Mrs. William Baird (Alice Munger)',\n",
       " 'Vander Planke, Mrs. Julius (Emelia Maria Vandemoortele)',\n",
       " 'Turkula, Mrs. (Hedwig)',\n",
       " 'Fortune, Miss. Alice Elizabeth',\n",
       " 'Sivola, Mr. Antti Wilhelm',\n",
       " 'Hanna, Mr. Mansour',\n",
       " 'Richards, Master. William Rowe',\n",
       " 'Moussa, Mrs. (Mantoura Boulos)',\n",
       " 'Calic, Mr. Petar',\n",
       " 'Holverson, Mrs. Alexander Oskar (Mary Aline Towner)',\n",
       " 'Greenfield, Mr. William Bertram',\n",
       " 'Dean, Mr. Bertram Frank',\n",
       " 'Dick, Mr. Albert Adrian',\n",
       " 'Lahtinen, Mrs. William (Anna Sylfven)',\n",
       " 'Kalvik, Mr. Johannes Halvorsen',\n",
       " 'Hagland, Mr. Konrad Mathias Reiersen',\n",
       " 'Longley, Miss. Gretchen Fiske',\n",
       " 'Maisner, Mr. Simon',\n",
       " 'Wheadon, Mr. Edward H',\n",
       " 'Elias, Mr. Joseph Jr',\n",
       " 'Thayer, Mr. John Borland',\n",
       " 'Pekoniemi, Mr. Edvard',\n",
       " 'Milling, Mr. Jacob Christian',\n",
       " 'Levy, Mr. Rene Jacques',\n",
       " 'Mayne, Mlle. Berthe Antonine (\"Mrs de Villiers\")',\n",
       " 'Christy, Miss. Julie Rachel',\n",
       " 'van Melkebeke, Mr. Philemon',\n",
       " 'Madsen, Mr. Fridtjof Arne',\n",
       " 'Elsbury, Mr. William James',\n",
       " 'Coleff, Mr. Satio',\n",
       " 'Coleff, Mr. Peju',\n",
       " 'Elias, Mr. Dibo',\n",
       " 'Gheorgheff, Mr. Stanio',\n",
       " 'Wick, Mrs. George Dennick (Mary Hitchcock)',\n",
       " 'Chaffee, Mr. Herbert Fuller',\n",
       " 'Allison, Miss. Helen Loraine',\n",
       " 'Laitinen, Miss. Kristina Sofia',\n",
       " 'Kink, Mr. Vincenz',\n",
       " 'Pears, Mr. Thomas Clinton',\n",
       " 'Lester, Mr. James',\n",
       " 'Hedman, Mr. Oskar Arvid',\n",
       " 'Rice, Mrs. William (Margaret Norton)',\n",
       " 'Colley, Mr. Edward Pomeroy',\n",
       " 'Skoog, Mr. Wilhelm',\n",
       " 'Bishop, Mr. Dickinson H',\n",
       " 'Jermyn, Miss. Annie',\n",
       " 'Kenyon, Mrs. Frederick R (Marion)',\n",
       " 'Mernagh, Mr. Robert',\n",
       " 'Paulner, Mr. Uscher',\n",
       " 'Turpin, Mrs. William John Robert (Dorothy Ann Wonnacott)',\n",
       " 'Adahl, Mr. Mauritz Nils Martin',\n",
       " 'O\\'Dwyer, Miss. Ellen \"Nellie\"',\n",
       " 'Sutton, Mr. Frederick',\n",
       " 'Ball, Mrs. (Ada E Hall)',\n",
       " 'Chambers, Mrs. Norman Campbell (Bertha Griggs)',\n",
       " 'McMahon, Mr. Martin',\n",
       " 'Yousif, Mr. Wazli',\n",
       " 'Moutal, Mr. Rahamin Haim',\n",
       " 'Moor, Mrs. (Beila)',\n",
       " 'Van der hoef, Mr. Wyckoff',\n",
       " 'Collyer, Miss. Marjorie \"Lottie\"',\n",
       " 'Uruchurtu, Don. Manuel E',\n",
       " 'Najib, Miss. Adele Kiamie \"Jane\"',\n",
       " 'Ilett, Miss. Bertha',\n",
       " 'Mellinger, Mrs. (Elizabeth Anne Maidment)',\n",
       " 'Leitch, Miss. Jessie Wills',\n",
       " 'Ringhini, Mr. Sante',\n",
       " 'Flynn, Mr. John',\n",
       " 'Ling, Mr. Lee',\n",
       " 'Mineff, Mr. Ivan',\n",
       " 'Brown, Mrs. Thomas William Solomon (Elizabeth Catherine Ford)',\n",
       " 'Corn, Mr. Harry',\n",
       " 'Andrews, Mr. Thomas Jr',\n",
       " \"O'Brien, Mr. Thomas\",\n",
       " 'Baclini, Miss. Helene Barbara',\n",
       " 'Murdlin, Mr. Joseph',\n",
       " 'Drazenoic, Mr. Jozef',\n",
       " 'Lefebre, Miss. Mathilde',\n",
       " 'Sirayanian, Mr. Orsen',\n",
       " 'Jonkoff, Mr. Lalio',\n",
       " 'Beckwith, Mr. Richard Leonard',\n",
       " 'Bidois, Miss. Rosalie',\n",
       " 'Asplund, Mrs. Carl Oscar (Selma Augusta Emilia Johansson)',\n",
       " 'Landergren, Miss. Aurora Adelia',\n",
       " 'Zimmerman, Mr. Leo',\n",
       " 'Minahan, Dr. William Edward',\n",
       " 'Birkeland, Mr. Hans Martin Monsen',\n",
       " 'Quick, Mrs. Frederick Charles (Jane Richards)',\n",
       " 'Klasen, Mr. Klas Albin',\n",
       " 'Saad, Mr. Amin',\n",
       " 'Rekic, Mr. Tido',\n",
       " 'Garside, Miss. Ethel',\n",
       " 'Kantor, Mr. Sinai',\n",
       " 'Barton, Mr. David John',\n",
       " 'Caldwell, Mrs. Albert Francis (Sylvia Mae Harbaugh)',\n",
       " 'Hassan, Mr. Houssein G N',\n",
       " 'Keane, Mr. Andrew \"Andy\"',\n",
       " 'Lindblom, Miss. Augusta Charlotta',\n",
       " 'Bishop, Mrs. Dickinson H (Helen Walton)',\n",
       " 'Sadlier, Mr. Matthew',\n",
       " 'Peuchen, Major. Arthur Godfrey',\n",
       " 'Crosby, Miss. Harriet R',\n",
       " 'Boulos, Mr. Hanna',\n",
       " 'Millet, Mr. Francis Davis',\n",
       " 'Davies, Master. John Morgan Jr',\n",
       " 'Stahelin-Maeglin, Dr. Max',\n",
       " 'Asim, Mr. Adola',\n",
       " 'Denkoff, Mr. Mitto',\n",
       " 'Carrau, Mr. Francisco M',\n",
       " 'Patchett, Mr. George',\n",
       " 'Hewlett, Mrs. (Mary D Kingcome) ',\n",
       " 'Newell, Mr. Arthur Webster',\n",
       " 'Giles, Mr. Frederick Edward',\n",
       " 'Chapman, Mr. John Henry',\n",
       " 'Johnston, Mr. Andrew G',\n",
       " 'Bracken, Mr. James H',\n",
       " 'Renouf, Mrs. Peter Henry (Lillian Jefferys)',\n",
       " 'Rintamaki, Mr. Matti',\n",
       " 'Moor, Master. Meier',\n",
       " 'Buss, Miss. Kate',\n",
       " 'Sage, Miss. Stella Anna',\n",
       " 'Slemen, Mr. Richard James',\n",
       " 'Fischer, Mr. Eberhard Thelander',\n",
       " 'Osen, Mr. Olaf Elon',\n",
       " 'Hood, Mr. Ambrose Jr',\n",
       " 'Widener, Mr. Harry Elkins',\n",
       " 'Navratil, Master. Michel M',\n",
       " 'Becker, Master. Richard F',\n",
       " 'Vovk, Mr. Janko',\n",
       " 'Myhrman, Mr. Pehr Fabian Oliver Malkolm',\n",
       " 'Cavendish, Mr. Tyrell William',\n",
       " 'Harris, Mrs. Henry Birkhardt (Irene Wallach)',\n",
       " 'Barbara, Miss. Saiide',\n",
       " 'Robert, Mrs. Edward Scott (Elisabeth Walton McMillan)',\n",
       " 'Compton, Miss. Sara Rebecca',\n",
       " 'Mallet, Mr. Albert',\n",
       " 'Silven, Miss. Lyyli Karoliina',\n",
       " 'Bourke, Miss. Mary',\n",
       " 'Shelley, Mrs. William (Imanita Parrish Hall)',\n",
       " 'Behr, Mr. Karl Howell',\n",
       " 'Sharp, Mr. Percival James R',\n",
       " 'Lewy, Mr. Ervin G',\n",
       " 'Williams, Mr. Howard Hugh \"Harry\"',\n",
       " 'Shutes, Miss. Elizabeth W',\n",
       " 'Douglas, Mr. Walter Donald',\n",
       " 'Keefe, Mr. Arthur',\n",
       " 'Laroche, Mrs. Joseph (Juliette Marie Louise Lafargue)',\n",
       " 'Taussig, Miss. Ruth',\n",
       " 'Olsen, Mr. Ole Martin',\n",
       " 'Bissette, Miss. Amelia',\n",
       " 'de Pelsmaeker, Mr. Alfons',\n",
       " 'Sage, Master. Thomas Henry',\n",
       " 'Fox, Mr. Stanley Hubert',\n",
       " 'Stankovic, Mr. Ivan',\n",
       " 'Risien, Mr. Samuel Beard',\n",
       " 'Harknett, Miss. Alice Phoebe',\n",
       " 'Kelly, Mrs. Florence \"Fannie\"',\n",
       " 'Zabour, Miss. Hileni',\n",
       " 'Eklund, Mr. Hans Linus',\n",
       " 'Vander Planke, Mr. Leo Edmondus',\n",
       " 'Sloper, Mr. William Thompson',\n",
       " 'Betros, Mr. Tannous',\n",
       " 'Johnson, Mrs. Oscar W (Elisabeth Vilhelmina Berg)',\n",
       " 'Richards, Mrs. Sidney (Emily Hocking)',\n",
       " 'Johansson, Mr. Karl Johan',\n",
       " 'Sobey, Mr. Samuel James Hayden',\n",
       " 'Moran, Miss. Bertha',\n",
       " 'Lindahl, Miss. Agda Thorilda Viktoria',\n",
       " 'Olsen, Mr. Henry Margido',\n",
       " 'Chip, Mr. Chang',\n",
       " 'Caram, Mrs. Joseph (Maria Elias)',\n",
       " 'Goldsmith, Master. Frank John William \"Frankie\"',\n",
       " 'Hampe, Mr. Leon',\n",
       " 'Williams, Mr. Charles Eugene',\n",
       " 'Jenkin, Mr. Stephen Curnow',\n",
       " 'Gustafsson, Mr. Karl Gideon',\n",
       " 'Walker, Mr. William Anderson',\n",
       " 'McEvoy, Mr. Michael',\n",
       " 'LeRoy, Miss. Bertha',\n",
       " 'Vanden Steen, Mr. Leo Peter',\n",
       " 'Coutts, Master. William Loch \"William\"',\n",
       " 'Cohen, Mr. Gurshon \"Gus\"',\n",
       " 'Aks, Mrs. Sam (Leah Rosen)',\n",
       " 'Meanwell, Miss. (Marion Ogden)',\n",
       " 'Moran, Mr. Daniel J',\n",
       " 'Heininen, Miss. Wendla Maria',\n",
       " 'Carlsson, Mr. Frans Olof',\n",
       " 'Andrews, Miss. Kornelia Theodosia',\n",
       " 'McGovern, Miss. Mary',\n",
       " 'Palsson, Master. Gosta Leonard',\n",
       " 'Edvardsson, Mr. Gustaf Hjalmar',\n",
       " 'Doling, Mrs. John T (Ada Julia Bone)',\n",
       " 'de Messemaeker, Mrs. Guillaume Joseph (Emma)',\n",
       " 'Mannion, Miss. Margareth',\n",
       " 'Andersson, Miss. Sigrid Elisabeth',\n",
       " 'Mudd, Mr. Thomas Charles',\n",
       " 'McGowan, Miss. Anna \"Annie\"',\n",
       " 'Ridsdale, Miss. Lucy',\n",
       " 'Barah, Mr. Hanna Assi',\n",
       " 'Cacic, Miss. Marija',\n",
       " 'Andrew, Mr. Edgardo Samuel',\n",
       " 'Richards, Master. George Sibley',\n",
       " 'Harris, Mr. Henry Birkhardt',\n",
       " 'Allison, Mrs. Hudson J C (Bessie Waldo Daniels)',\n",
       " 'White, Mr. Richard Frasar',\n",
       " 'Gee, Mr. Arthur H',\n",
       " 'Baclini, Mrs. Solomon (Latifa Qurban)',\n",
       " 'Pengelly, Mr. Frederick William',\n",
       " 'Lurette, Miss. Elise',\n",
       " 'Brewe, Dr. Arthur Jackson',\n",
       " 'Allen, Mr. William Henry',\n",
       " 'Rice, Master. Eric',\n",
       " 'Pavlovic, Mr. Stefo',\n",
       " 'Garfirth, Mr. John',\n",
       " 'Wiklund, Mr. Jakob Alfred',\n",
       " 'Meo, Mr. Alfonzo',\n",
       " 'Graham, Mr. George Edward',\n",
       " 'Jensen, Mr. Niels Peder',\n",
       " 'Bazzani, Miss. Albina',\n",
       " 'Petranec, Miss. Matilda',\n",
       " 'Navratil, Mr. Michel (\"Louis M Hoffman\")',\n",
       " 'Goodwin, Mr. Charles Edward',\n",
       " 'Attalah, Miss. Malake',\n",
       " 'Hakkarainen, Mrs. Pekka Pietari (Elin Matilda Dolck)',\n",
       " 'Morrow, Mr. Thomas Rowan',\n",
       " 'Nosworthy, Mr. Richard Cater',\n",
       " 'Herman, Mrs. Samuel (Jane Laver)',\n",
       " 'Jonsson, Mr. Carl',\n",
       " 'Lindell, Mr. Edvard Bengtsson',\n",
       " 'Fry, Mr. Richard',\n",
       " 'Leonard, Mr. Lionel',\n",
       " 'Aubart, Mme. Leontine Pauline',\n",
       " 'Kimball, Mr. Edwin Nelson Jr',\n",
       " 'Van Impe, Miss. Catharina',\n",
       " 'del Carlo, Mr. Sebastiano',\n",
       " 'Weisz, Mrs. Leopold (Mathilde Francoise Pede)',\n",
       " 'Dakic, Mr. Branko',\n",
       " 'Mamee, Mr. Hanna',\n",
       " 'Collyer, Mr. Harvey',\n",
       " 'Brown, Miss. Amelia \"Mildred\"',\n",
       " 'Troutt, Miss. Edwina Celia \"Winnie\"',\n",
       " 'Ryerson, Miss. Susan Parker \"Suzette\"',\n",
       " 'Gaskell, Mr. Alfred',\n",
       " 'Newsom, Miss. Helen Monypeny',\n",
       " 'Rood, Mr. Hugh Roscoe',\n",
       " 'Andersson, Miss. Erna Alexandra',\n",
       " 'Reynaldo, Ms. Encarnacion',\n",
       " 'Wright, Mr. George',\n",
       " 'Goodwin, Mrs. Frederick (Augusta Tyler)',\n",
       " 'Stephenson, Mrs. Walter Bertram (Martha Eustis)',\n",
       " 'Berglund, Mr. Karl Ivar Sven',\n",
       " 'Bengtsson, Mr. John Viktor',\n",
       " 'Smith, Miss. Marion Elsie',\n",
       " 'Lindqvist, Mr. Eino William',\n",
       " 'Sivic, Mr. Husein',\n",
       " 'Calderhead, Mr. Edward Pennington',\n",
       " 'Hoyt, Mr. Frederick Maxfield',\n",
       " 'Hawksford, Mr. Walter James',\n",
       " 'Johanson, Mr. Jakob Alfred',\n",
       " 'Daly, Mr. Eugene Patrick',\n",
       " 'Jussila, Mr. Eiriik',\n",
       " 'Charters, Mr. David',\n",
       " 'Olsen, Mr. Karl Siegwart Andreas',\n",
       " 'Frolicher, Miss. Hedwig Margaritha',\n",
       " 'Mallet, Master. Andre',\n",
       " 'Blackwell, Mr. Stephen Weart',\n",
       " 'Carr, Miss. Helen \"Ellen\"',\n",
       " 'Weir, Col. John',\n",
       " 'Tobin, Mr. Roger',\n",
       " 'Duff Gordon, Sir. Cosmo Edmund (\"Mr Morgan\")',\n",
       " 'Stoytcheff, Mr. Ilia',\n",
       " 'Masselmani, Mrs. Fatima',\n",
       " 'Jansson, Mr. Carl Olof',\n",
       " 'Rommetvedt, Mr. Knud Paust',\n",
       " 'Skoog, Master. Karl Thorsten',\n",
       " 'Nenkoff, Mr. Christo',\n",
       " 'Shorney, Mr. Charles Joseph',\n",
       " 'Duane, Mr. Frank',\n",
       " 'Toomey, Miss. Ellen',\n",
       " \"O'Sullivan, Miss. Bridget Mary\",\n",
       " 'Goncalves, Mr. Manuel Estanslas',\n",
       " 'Gilnagh, Miss. Katherine \"Katie\"',\n",
       " 'Slabenoff, Mr. Petco',\n",
       " 'Taylor, Mrs. Elmer Zebley (Juliet Cummins Wright)',\n",
       " 'Goodwin, Master. Sidney Leonard',\n",
       " 'Humblen, Mr. Adolf Mathias Nicolai Olsen',\n",
       " 'Harmer, Mr. Abraham (David Lishin)',\n",
       " 'Fynney, Mr. Joseph J',\n",
       " 'Silvey, Mr. William Baird',\n",
       " 'Moran, Mr. James',\n",
       " 'Dahlberg, Miss. Gerda Ulrika',\n",
       " 'Fleming, Miss. Margaret',\n",
       " 'Bowerman, Miss. Elsie Edith',\n",
       " 'Bradley, Mr. George (\"George Arthur Brayton\")',\n",
       " 'Holverson, Mr. Alexander Oskar',\n",
       " 'Nicola-Yarred, Miss. Jamila',\n",
       " 'Eustis, Miss. Elizabeth Mussey',\n",
       " 'Nicholls, Mr. Joseph Charles',\n",
       " 'Carter, Mr. William Ernest',\n",
       " 'Watson, Mr. Ennis Hastings',\n",
       " 'Johnson, Miss. Eleanor Ileen',\n",
       " 'Hippach, Miss. Jean Gertrude',\n",
       " 'Johansson, Mr. Erik',\n",
       " 'Stead, Mr. William Thomas',\n",
       " 'Rothes, the Countess. of (Lucy Noel Martha Dyer-Edwards)',\n",
       " 'Panula, Mr. Jaako Arnold',\n",
       " 'Romaine, Mr. Charles Hallace (\"Mr C Rolmane\")',\n",
       " 'Christmann, Mr. Emil',\n",
       " 'Panula, Mr. Ernesti Arvid',\n",
       " 'Lefebre, Miss. Ida',\n",
       " 'Mellinger, Miss. Madeleine Violet',\n",
       " 'Petterson, Mr. Johan Emil',\n",
       " 'Daniel, Mr. Robert Williams',\n",
       " 'Bryhl, Mr. Kurt Arnold Gottfrid',\n",
       " 'West, Miss. Constance Mirium',\n",
       " 'Saad, Mr. Khalil',\n",
       " 'Pain, Dr. Alfred',\n",
       " 'Ryerson, Miss. Emily Borie',\n",
       " 'Olsvigen, Mr. Thor Anderson',\n",
       " 'Celotti, Mr. Francesco',\n",
       " 'Arnold-Franchi, Mr. Josef',\n",
       " 'Boulos, Mrs. Joseph (Sultana)',\n",
       " 'Ali, Mr. Ahmed',\n",
       " 'Silverthorne, Mr. Spencer Victor',\n",
       " 'Devaney, Miss. Margaret Delia',\n",
       " 'Roebling, Mr. Washington Augustus II',\n",
       " 'Saundercock, Mr. William Henry',\n",
       " 'Lobb, Mr. William Arthur',\n",
       " 'Rice, Master. Eugene',\n",
       " 'Abelson, Mr. Samuel',\n",
       " 'Rice, Master. George Hugh',\n",
       " 'Carter, Master. William Thornton II',\n",
       " 'Nasser, Mr. Nicholas',\n",
       " 'McCormack, Mr. Thomas Joseph',\n",
       " 'Lemore, Mrs. (Amelia Milley)',\n",
       " 'Isham, Miss. Ann Elizabeth',\n",
       " 'Palsson, Miss. Torborg Danira',\n",
       " 'Hale, Mr. Reginald',\n",
       " 'Stone, Mrs. George Nelson (Martha Evelyn)',\n",
       " 'Ibrahim Shawah, Mr. Yousseff',\n",
       " 'Klaber, Mr. Herman',\n",
       " 'Haas, Miss. Aloisia',\n",
       " 'Calic, Mr. Jovo',\n",
       " 'Nicholson, Mr. Arthur Ernest',\n",
       " 'Strandberg, Miss. Ida Sofia',\n",
       " 'Gustafsson, Mr. Anders Vilhelm',\n",
       " 'Graham, Mrs. William Thompson (Edith Junkins)',\n",
       " 'Moss, Mr. Albert Johan',\n",
       " 'Wiseman, Mr. Phillippe',\n",
       " 'Carter, Mrs. Ernest Courtenay (Lilian Hughes)',\n",
       " 'Barkworth, Mr. Algernon Henry Wilson',\n",
       " 'Hickman, Mr. Lewis',\n",
       " 'Reed, Mr. James George',\n",
       " 'Vander Cruyssen, Mr. Victor',\n",
       " 'Pears, Mrs. Thomas (Edith Wearne)',\n",
       " 'Hickman, Mr. Stanley George',\n",
       " 'Abbing, Mr. Anthony',\n",
       " 'Sage, Miss. Dorothy Edith \"Dolly\"',\n",
       " 'Odahl, Mr. Nils Martin',\n",
       " 'Reuchlin, Jonkheer. John George',\n",
       " 'Mitkoff, Mr. Mito',\n",
       " 'Maioni, Miss. Roberta',\n",
       " 'Jussila, Miss. Mari Aina',\n",
       " 'Moubarek, Master. Gerios',\n",
       " 'Perreault, Miss. Anne',\n",
       " 'Van Impe, Mrs. Jean Baptiste (Rosalie Paula Govaert)',\n",
       " 'Mullens, Miss. Katherine \"Katie\"',\n",
       " 'Ilmakangas, Miss. Pieta Sofia',\n",
       " 'Hogeboom, Mrs. John C (Anna Andrews)',\n",
       " 'Louch, Mrs. Charles Alexander (Alice Adelaide Slow)',\n",
       " 'Harper, Mrs. Henry Sleeper (Myna Haxtun)',\n",
       " 'Murphy, Miss. Margaret Jane',\n",
       " 'Arnold-Franchi, Mrs. Josef (Josefine Franchi)',\n",
       " 'Hickman, Mr. Leonard Mark',\n",
       " 'Gronnestad, Mr. Daniel Danielsen',\n",
       " 'McGough, Mr. James Robert',\n",
       " 'Ponesell, Mr. Martin',\n",
       " 'Plotcharsky, Mr. Vasil',\n",
       " 'Bonnell, Miss. Elizabeth',\n",
       " 'Baxter, Mr. Quigg Edmond',\n",
       " 'Kantor, Mrs. Sinai (Miriam Sternin)',\n",
       " 'Young, Miss. Marie Grice',\n",
       " 'Hart, Mr. Henry',\n",
       " 'Slocovski, Mr. Selman Francis',\n",
       " 'Carlsson, Mr. August Sigfrid',\n",
       " 'Phillips, Miss. Kate Florence (\"Mrs Kate Louise Phillips Marshall\")',\n",
       " 'Sagesser, Mlle. Emma',\n",
       " 'Markoff, Mr. Marin',\n",
       " 'Montvila, Rev. Juozas',\n",
       " 'Simonius-Blumer, Col. Oberst Alfons',\n",
       " 'Mitchell, Mr. Henry Michael',\n",
       " 'Madill, Miss. Georgette Alexandra',\n",
       " 'Samaan, Mr. Youssef',\n",
       " 'Vander Planke, Miss. Augusta Maria',\n",
       " 'Nye, Mrs. (Elizabeth Ramell)',\n",
       " 'Woolner, Mr. Hugh',\n",
       " 'Renouf, Mr. Peter Henry',\n",
       " 'Jensen, Mr. Svend Lauritz',\n",
       " 'Foreman, Mr. Benjamin Laventall',\n",
       " 'Hoyt, Mrs. Frederick Maxfield (Jane Anne Forby)',\n",
       " 'Webber, Miss. Susan',\n",
       " 'Pasic, Mr. Jakob',\n",
       " 'Lam, Mr. Ali',\n",
       " 'Newell, Miss. Marjorie',\n",
       " 'Moore, Mr. Leonard Charles',\n",
       " 'Fahlstrom, Mr. Arne Jonas',\n",
       " 'Nirva, Mr. Iisakki Antino Aijo',\n",
       " 'Carter, Mrs. William Ernest (Lucile Polk)',\n",
       " 'Soholt, Mr. Peter Andreas Lauritz Andersen',\n",
       " 'Futrelle, Mrs. Jacques Heath (Lily May Peel)',\n",
       " 'Heikkinen, Miss. Laina',\n",
       " 'Mionoff, Mr. Stoytcho',\n",
       " 'Asplund, Miss. Lillian Gertrud',\n",
       " 'Funk, Miss. Annie Clemmer',\n",
       " 'Coutts, Master. Eden Leslie \"Neville\"',\n",
       " 'Coxon, Mr. Daniel',\n",
       " 'Green, Mr. George Henry',\n",
       " 'Robins, Mrs. Alexander A (Grace Charity Laury)',\n",
       " 'Cribb, Mr. John Hatfield',\n",
       " 'Stanley, Miss. Amy Zillah Elsie',\n",
       " 'Oreskovic, Miss. Marija',\n",
       " 'Homer, Mr. Harry (\"Mr E Haven\")',\n",
       " 'Elias, Mr. Tannous',\n",
       " 'Banfield, Mr. Frederick James',\n",
       " 'Willey, Mr. Edward',\n",
       " 'Connaghton, Mr. Michael',\n",
       " 'Foo, Mr. Choong',\n",
       " 'Beckwith, Mrs. Richard Leonard (Sallie Monypeny)',\n",
       " 'Harris, Mr. Walter',\n",
       " 'Meek, Mrs. Thomas (Annie Louise Rowley)',\n",
       " 'Lam, Mr. Len',\n",
       " 'Futrelle, Mr. Jacques Heath',\n",
       " 'Andersson, Miss. Ellis Anna Maria',\n",
       " 'Cumings, Mrs. John Bradley (Florence Briggs Thayer)',\n",
       " 'Dennis, Mr. Samuel',\n",
       " 'Hosono, Mr. Masabumi',\n",
       " 'Gale, Mr. Shadrach',\n",
       " 'Hocking, Mr. Richard George',\n",
       " 'Padro y Manent, Mr. Julian',\n",
       " 'Emir, Mr. Farred Chehab',\n",
       " 'Williams-Lambert, Mr. Fletcher Fellows',\n",
       " 'Kallio, Mr. Nikolai Erland',\n",
       " 'Turcin, Mr. Stjepan',\n",
       " 'Svensson, Mr. Olof',\n",
       " 'Baumann, Mr. John D',\n",
       " 'Dorking, Mr. Edward Arthur',\n",
       " 'Navratil, Master. Edmond Roger',\n",
       " 'Rush, Mr. Alfred George John',\n",
       " 'Healy, Miss. Hanora \"Nora\"',\n",
       " 'Porter, Mr. Walter Chamberlain',\n",
       " 'Danbom, Mr. Ernst Gilbert',\n",
       " 'Kvillner, Mr. Johan Henrik Johannesson',\n",
       " 'Meyer, Mrs. Edgar Joseph (Leila Saks)',\n",
       " 'Andersson, Mr. August Edvard (\"Wennerstrom\")',\n",
       " 'Burke, Mr. Jeremiah',\n",
       " 'Dahl, Mr. Karl Edwart',\n",
       " 'Goodwin, Miss. Lillian Amy',\n",
       " 'Scanlan, Mr. James',\n",
       " 'Hamalainen, Mrs. William (Anna)',\n",
       " 'Potter, Mrs. Thomas Jr (Lily Alexenia Wilson)',\n",
       " 'Hocking, Mrs. Elizabeth (Eliza Needs)',\n",
       " 'Palsson, Mrs. Nils (Alma Cornelia Berglund)',\n",
       " 'Andersson, Mr. Anders Johan',\n",
       " 'Allison, Master. Hudson Trevor',\n",
       " 'Leyson, Mr. Robert William Norman',\n",
       " 'Barbara, Mrs. (Catherine David)',\n",
       " 'Downton, Mr. William James',\n",
       " 'Parkes, Mr. Francis \"Frank\"',\n",
       " 'Van Impe, Mr. Jean Baptiste',\n",
       " 'Stanley, Mr. Edward Roland',\n",
       " 'Todoroff, Mr. Lalio',\n",
       " 'Wilhelms, Mr. Charles',\n",
       " 'Hansen, Mr. Henrik Juul',\n",
       " 'Leinonen, Mr. Antti Gustaf',\n",
       " 'Davies, Mr. Charles Henry',\n",
       " 'McNamee, Mr. Neal',\n",
       " 'Chibnall, Mrs. (Edith Martha Bowerman)',\n",
       " 'Sage, Mr. George John Jr',\n",
       " 'Mockler, Miss. Helen Mary \"Ellie\"',\n",
       " 'Lefebre, Miss. Jeannie',\n",
       " 'Lesurer, Mr. Gustave J',\n",
       " 'Sjoblom, Miss. Anna Sofia',\n",
       " 'Givard, Mr. Hans Kristensen',\n",
       " 'Waelens, Mr. Achille',\n",
       " 'Bourke, Mrs. John (Catherine)',\n",
       " 'Kink-Heilmann, Miss. Luise Gretchen',\n",
       " 'Olsson, Miss. Elina',\n",
       " 'Fortune, Mr. Charles Alexander',\n",
       " 'Rosblom, Mr. Viktor Richard',\n",
       " 'Sundman, Mr. Johan Julian',\n",
       " 'Radeff, Mr. Alexander',\n",
       " 'Yasbeck, Mrs. Antoni (Selini Alexander)',\n",
       " 'Sheerlinck, Mr. Jan Baptist',\n",
       " 'Gallagher, Mr. Martin',\n",
       " 'Leeni, Mr. Fahim (\"Philip Zenni\")',\n",
       " \"O'Connor, Mr. Maurice\",\n",
       " 'Doling, Miss. Elsie',\n",
       " 'Ahlin, Mrs. Johan (Johanna Persdotter Larsson)',\n",
       " 'Sutehall, Mr. Henry Jr',\n",
       " 'Harrington, Mr. Charles H',\n",
       " 'Kelly, Mr. James',\n",
       " 'Asplund, Master. Clarence Gustaf Hugo',\n",
       " 'Faunthorpe, Mrs. Lizzie (Elizabeth Anne Wilkinson)',\n",
       " 'Kent, Mr. Edward Austin',\n",
       " 'Farthing, Mr. John',\n",
       " 'Swift, Mrs. Frederick Joel (Margaret Welles Barron)',\n",
       " 'Lines, Miss. Mary Conover',\n",
       " 'Laleff, Mr. Kristo',\n",
       " 'Johnson, Mr. Alfred',\n",
       " 'Gustafsson, Mr. Alfred Ossian',\n",
       " 'Hart, Miss. Eva Miriam',\n",
       " 'Boulos, Miss. Nourelain',\n",
       " 'Cameron, Miss. Clear Annie',\n",
       " 'Smith, Mr. Richard William',\n",
       " 'Reeves, Mr. David',\n",
       " 'Jensen, Mr. Hans Peder',\n",
       " 'Rouse, Mr. Richard Henry',\n",
       " 'Williams, Mr. Charles Duane',\n",
       " 'Hakkarainen, Mr. Pekka Pietari',\n",
       " 'Hays, Mrs. Charles Melville (Clara Jennings Gregg)',\n",
       " 'Sirota, Mr. Maurice',\n",
       " 'Warren, Mrs. Frank Manley (Anna Sophia Atkinson)',\n",
       " 'Frolicher-Stehli, Mr. Maxmillian',\n",
       " 'Hirvonen, Miss. Hildur E',\n",
       " 'Collander, Mr. Erik Gustaf',\n",
       " 'Sawyer, Mr. Frederick Charles',\n",
       " 'Fortune, Miss. Mabel Helen',\n",
       " 'Nilsson, Miss. Helmina Josefina',\n",
       " 'Beavan, Mr. William Thomas',\n",
       " 'Hold, Mr. Stephen',\n",
       " 'Beane, Mr. Edward',\n",
       " 'Webber, Mr. James',\n",
       " 'Mangan, Miss. Mary',\n",
       " 'Hendekovic, Mr. Ignjac',\n",
       " 'Otter, Mr. Richard',\n",
       " 'Collyer, Mrs. Harvey (Charlotte Annie Tate)',\n",
       " 'Parr, Mr. William Henry Marsh',\n",
       " 'Molson, Mr. Harry Markland',\n",
       " 'Ford, Mrs. Edward (Margaret Ann Watson)',\n",
       " 'Stewart, Mr. Albert A',\n",
       " 'Chapman, Mr. Charles Henry',\n",
       " 'Nakid, Mr. Sahid',\n",
       " 'Matthews, Mr. William John',\n",
       " 'Mack, Mrs. (Mary)',\n",
       " 'Panula, Master. Urho Abraham',\n",
       " 'Dooley, Mr. Patrick',\n",
       " 'Markun, Mr. Johann',\n",
       " 'Beane, Mrs. Edward (Ethel Clarke)',\n",
       " 'Drew, Mrs. James Vivian (Lulu Thorne Christian)',\n",
       " 'Cardeza, Mr. Thomas Drake Martinez',\n",
       " 'Minahan, Miss. Daisy E',\n",
       " 'Salkjelsvik, Miss. Anna Kristine',\n",
       " 'Taussig, Mrs. Emil (Tillie Mandelbaum)',\n",
       " 'Sage, Mr. Douglas Bullen',\n",
       " 'Chronopoulos, Mr. Apostolos',\n",
       " 'Connors, Mr. Patrick',\n",
       " 'Bostandyeff, Mr. Guentcho',\n",
       " 'Goldsmith, Mr. Frank John',\n",
       " 'Petroff, Mr. Nedelio',\n",
       " 'Larsson, Mr. Bengt Edvin',\n",
       " 'Youseff, Mr. Gerious',\n",
       " 'Smart, Mr. John Montgomery',\n",
       " 'Crosby, Capt. Edward Gifford',\n",
       " 'Tornquist, Mr. William Henry',\n",
       " 'Moubarek, Master. Halim Gonios (\"William George\")',\n",
       " 'Ostby, Mr. Engelhart Cornelius',\n",
       " 'Davison, Mrs. Thomas Henry (Mary E Finck)',\n",
       " 'Becker, Miss. Marion Louise',\n",
       " 'Attalah, Mr. Sleiman',\n",
       " 'Morley, Mr. William',\n",
       " 'Ross, Mr. John Hugo',\n",
       " 'Stranden, Mr. Juho',\n",
       " 'Horgan, Mr. John',\n",
       " 'Nicola-Yarred, Master. Elias',\n",
       " 'Razi, Mr. Raihed',\n",
       " 'Shellard, Mr. Frederick William',\n",
       " 'Ryan, Mr. Patrick',\n",
       " 'Johnston, Miss. Catherine Helen \"Carrie\"',\n",
       " 'Touma, Mrs. Darwis (Hanne Youssef Razi)',\n",
       " 'Lehmann, Miss. Bertha',\n",
       " 'Balkic, Mr. Cerin',\n",
       " 'Nakid, Miss. Maria (\"Mary\")',\n",
       " 'Duff Gordon, Lady. (Lucille Christiana Sutherland) (\"Mrs Morgan\")',\n",
       " 'Davies, Mr. Alfred J',\n",
       " 'Albimona, Mr. Nassef Cassem',\n",
       " 'Watt, Mrs. James (Elizabeth \"Bessie\" Inglis Milne)',\n",
       " 'Doharr, Mr. Tannous',\n",
       " 'Cairns, Mr. Alexander',\n",
       " 'Brown, Mr. Thomas William Solomon',\n",
       " 'Richard, Mr. Emile',\n",
       " 'O\\'Leary, Miss. Hanora \"Norah\"',\n",
       " 'Eitemiller, Mr. George Floyd',\n",
       " 'Marechal, Mr. Pierre',\n",
       " 'Frauenthal, Mrs. Henry William (Clara Heinsheimer)',\n",
       " 'Baxter, Mrs. James (Helene DeLaudeniere Chaput)',\n",
       " 'Osman, Mrs. Mara',\n",
       " 'Pettersson, Miss. Ellen Natalia',\n",
       " 'Sedgwick, Mr. Charles Frederick Waddington',\n",
       " 'Frauenthal, Dr. Henry William',\n",
       " 'Johansson, Mr. Gustaf Joel',\n",
       " 'Andreasson, Mr. Paul Edvin',\n",
       " 'Anderson, Mr. Harry',\n",
       " 'Byles, Rev. Thomas Roussel Davids',\n",
       " 'Duran y More, Miss. Asuncion',\n",
       " 'Laroche, Miss. Simonne Marie Anne Andree',\n",
       " 'Asplund, Master. Edvin Rojj Felix',\n",
       " 'Toufik, Mr. Nakli',\n",
       " 'Goodwin, Master. William Frederick',\n",
       " 'Honkanen, Miss. Eliina',\n",
       " 'Taylor, Mr. Elmer Zebley',\n",
       " 'Spedden, Mrs. Frederic Oakley (Margaretta Corning Stone)',\n",
       " 'Alexander, Mr. William',\n",
       " 'Cleaver, Miss. Alice',\n",
       " 'Somerton, Mr. Francis William',\n",
       " 'Rogers, Mr. William John',\n",
       " 'Newell, Miss. Madeleine',\n",
       " 'Cann, Mr. Ernest Charles',\n",
       " 'Rugg, Miss. Emily',\n",
       " 'de Mulder, Mr. Theodore',\n",
       " 'Karun, Miss. Manca',\n",
       " 'Bing, Mr. Lee',\n",
       " 'Johnson, Mr. William Cahoone Jr',\n",
       " 'Cherry, Miss. Gladys',\n",
       " 'Moraweck, Dr. Ernest',\n",
       " 'Astor, Mrs. John Jacob (Madeleine Talmadge Force)',\n",
       " 'Hippach, Mrs. Louis Albert (Ida Sophia Fischer)',\n",
       " 'Thayer, Mr. John Borland Jr',\n",
       " 'McCarthy, Mr. Timothy J',\n",
       " 'White, Mr. Percival Wayland',\n",
       " 'Thorneycroft, Mrs. Percival (Florence Kate White)',\n",
       " 'Hart, Mrs. Benjamin (Esther Ada Bloomfield)',\n",
       " 'Lundahl, Mr. Johan Svensson',\n",
       " 'Sage, Miss. Constance Gladys',\n",
       " 'Coleridge, Mr. Reginald Charles',\n",
       " 'Pinsky, Mrs. (Rosa)',\n",
       " 'Sinkkonen, Miss. Anna',\n",
       " 'Widegren, Mr. Carl/Charles Peter',\n",
       " 'Emanuel, Miss. Virginia Ethel',\n",
       " \"O'Brien, Mr. Timothy\",\n",
       " 'Goldenberg, Mrs. Samuel L (Edwiga Grabowska)',\n",
       " 'Turja, Miss. Anna Sofia',\n",
       " 'Danbom, Mrs. Ernst Gilbert (Anna Sigrid Maria Brogren)',\n",
       " 'Nankoff, Mr. Minko',\n",
       " 'Panula, Master. Juha Niilo',\n",
       " 'Allen, Miss. Elisabeth Walton',\n",
       " 'Alhomaki, Mr. Ilmari Rudolf',\n",
       " 'McKane, Mr. Peter David',\n",
       " 'Ford, Mr. William Neal',\n",
       " 'Jacobsohn, Mrs. Sidney Samuel (Amy Frances Christy)',\n",
       " 'Andersen-Jensen, Miss. Carla Christine Nielsine',\n",
       " 'Hunt, Mr. George Henry',\n",
       " 'Persson, Mr. Ernst Ulrik',\n",
       " 'Flynn, Mr. John Irwin (\"Irving\")',\n",
       " 'Campbell, Mr. William',\n",
       " 'Clarke, Mrs. Charles V (Ada Maria Winfield)',\n",
       " 'Thorne, Mrs. Gertrude Maybelle',\n",
       " 'Peter, Mrs. Catherine (Catherine Rizk)',\n",
       " 'Marvin, Mr. Daniel Warner',\n",
       " 'Naidenoff, Mr. Penko',\n",
       " 'Connolly, Miss. Kate',\n",
       " 'Leader, Dr. Alice (Farnham)',\n",
       " 'Carbines, Mr. William',\n",
       " 'Mellors, Mr. William John',\n",
       " 'Icard, Miss. Amelie',\n",
       " 'Johnson, Master. Harold Theodor',\n",
       " 'Artagaveytia, Mr. Ramon',\n",
       " 'Smith, Mr. Thomas',\n",
       " 'Pernot, Mr. Rene',\n",
       " 'Tomlin, Mr. Ernest Portage',\n",
       " 'Barber, Miss. Ellen \"Nellie\"',\n",
       " 'Andersson, Miss. Ebba Iris Alfrida',\n",
       " 'Cor, Mr. Liudevit',\n",
       " 'Dick, Mrs. Albert Adrian (Vera Gillespie)',\n",
       " 'Peter, Miss. Anna',\n",
       " 'Lefebre, Master. Henry Forbes',\n",
       " 'Turpin, Mr. William John Robert',\n",
       " 'Smith, Mr. James Clinch',\n",
       " 'O\\'Brien, Mrs. Thomas (Johanna \"Hannah\" Godfrey)',\n",
       " 'Penasco y Castellana, Mrs. Victor de Satode (Maria Josefa Perez de Soto y Vallejo)',\n",
       " 'Skoog, Master. Harald',\n",
       " 'Cacic, Mr. Luka',\n",
       " 'Jerwan, Mrs. Amin S (Marie Marthe Thuillard)',\n",
       " 'Penasco y Castellana, Mr. Victor de Satode',\n",
       " 'Jarvis, Mr. John Denzil',\n",
       " 'Gavey, Mr. Lawrence',\n",
       " 'Yasbeck, Mr. Antoni',\n",
       " 'Hodges, Mr. Henry Price',\n",
       " 'van Billiard, Mr. Austin Blyler',\n",
       " 'Vestrom, Miss. Hulda Amanda Adolfina',\n",
       " 'Burns, Miss. Elizabeth Margaret',\n",
       " 'Andersson, Miss. Ingeborg Constanzia',\n",
       " 'Clifford, Mr. George Quincy',\n",
       " 'Bateman, Rev. Robert James',\n",
       " 'Brocklebank, Mr. William Alfred',\n",
       " 'Skoog, Miss. Margit Elizabeth',\n",
       " 'Ali, Mr. William',\n",
       " 'Augustsson, Mr. Albert',\n",
       " 'Graham, Miss. Margaret Edith',\n",
       " 'Yousseff, Mr. Gerious',\n",
       " 'Lulic, Mr. Nikola',\n",
       " 'Crease, Mr. Ernest James',\n",
       " 'Hart, Mr. Benjamin',\n",
       " 'Natsch, Mr. Charles H',\n",
       " 'West, Mrs. Edwy Arthur (Ada Mary Worth)',\n",
       " 'Larsson, Mr. August Viktor',\n",
       " 'Lang, Mr. Fang',\n",
       " 'Lovell, Mr. John Hall (\"Henry\")',\n",
       " 'Olsson, Mr. Nils Johan Goransson',\n",
       " 'Knight, Mr. Robert J',\n",
       " 'Johannesen-Bratthammer, Mr. Bernt',\n",
       " 'Farrell, Mr. James',\n",
       " 'Kilgannon, Mr. Thomas J',\n",
       " 'Dodge, Master. Washington',\n",
       " 'Frost, Mr. Anthony Wood \"Archie\"',\n",
       " 'Theobald, Mr. Thomas Leonard',\n",
       " 'Maenpaa, Mr. Matti Alexanteri',\n",
       " 'Moen, Mr. Sigurd Hansen',\n",
       " 'Petroff, Mr. Pastcho (\"Pentcho\")',\n",
       " 'Andersson, Mrs. Anders Johan (Alfrida Konstantia Brogren)',\n",
       " 'Laroche, Mr. Joseph Philippe Lemercier',\n",
       " 'Serepeca, Miss. Augusta',\n",
       " 'McDermott, Miss. Brigdet Delia',\n",
       " 'Staneff, Mr. Ivan',\n",
       " 'Slayter, Miss. Hilda Mary',\n",
       " 'Thorneycroft, Mr. Percival',\n",
       " 'Beesley, Mr. Lawrence',\n",
       " 'Holm, Mr. John Fredrik Alexander',\n",
       " 'Dean, Master. Bertram Vere',\n",
       " 'Murphy, Miss. Katherine \"Kate\"',\n",
       " 'Peduzzi, Mr. Joseph',\n",
       " 'Vande Walle, Mr. Nestor Cyriel',\n",
       " 'Svensson, Mr. Johan',\n",
       " 'Jacobsohn, Mr. Sidney Samuel',\n",
       " 'Sandstrom, Mrs. Hjalmar (Agnes Charlotta Bengtsson)',\n",
       " 'Caldwell, Master. Alden Gates',\n",
       " 'Sage, Mr. Frederick',\n",
       " 'Hoyt, Mr. William Fisher',\n",
       " 'Torber, Mr. Ernst William',\n",
       " 'Kirkland, Rev. Charles Leonard',\n",
       " 'Nysten, Miss. Anna Sofia',\n",
       " 'Hassab, Mr. Hammad',\n",
       " 'Lemberopolous, Mr. Peter L',\n",
       " 'Bailey, Mr. Percy Andrew',\n",
       " 'Jardin, Mr. Jose Neto',\n",
       " 'Ford, Miss. Robina Maggie \"Ruby\"',\n",
       " 'Simmons, Mr. John',\n",
       " 'Herman, Miss. Alice',\n",
       " 'Rice, Master. Arthur',\n",
       " 'Harder, Mr. George Achilles',\n",
       " 'Lahoud, Mr. Sarkis',\n",
       " 'Troupiansky, Mr. Moses Aaron',\n",
       " 'Zabour, Miss. Thamine',\n",
       " 'Baclini, Miss. Eugenie',\n",
       " 'Andersson, Master. Sigvard Harald Elias',\n",
       " 'Abelson, Mrs. Samuel (Hannah Wizosky)',\n",
       " 'Kassem, Mr. Fared',\n",
       " 'Gilinski, Mr. Eliezer',\n",
       " 'Bowen, Mr. David John \"Dai\"',\n",
       " 'Skoog, Mrs. William (Anna Bernhardina Karlsson)',\n",
       " 'Oreskovic, Mr. Luka',\n",
       " 'Kelly, Miss. Anna Katherine \"Annie Kate\"',\n",
       " 'Harper, Mr. Henry Sleeper',\n",
       " 'Harper, Miss. Annie Jessie \"Nina\"',\n",
       " 'Glynn, Miss. Mary Agatha',\n",
       " 'Dantcheff, Mr. Ristiu',\n",
       " 'Allum, Mr. Owen George',\n",
       " 'Long, Mr. Milton Clyde',\n",
       " 'Strom, Miss. Telma Matilda',\n",
       " 'Skoog, Miss. Mabel',\n",
       " 'Dimic, Mr. Jovan',\n",
       " 'Seward, Mr. Frederic Kimber',\n",
       " 'Backstrom, Mrs. Karl Alfred (Maria Mathilda Gustafsson)',\n",
       " 'Meyer, Mr. August',\n",
       " 'Baclini, Miss. Marie Catherine',\n",
       " 'Goodwin, Master. Harold Victor',\n",
       " 'Carter, Miss. Lucile Polk',\n",
       " 'Hamalainen, Master. Viljo',\n",
       " 'Davis, Miss. Mary',\n",
       " 'Lobb, Mrs. William Arthur (Cordelia K Stanlick)',\n",
       " 'Davidson, Mr. Thornton',\n",
       " 'Goldenberg, Mr. Samuel L',\n",
       " 'Robbins, Mr. Victor',\n",
       " 'Henry, Miss. Delia',\n",
       " 'Braund, Mr. Lewis Richard',\n",
       " 'Sandstrom, Miss. Marguerite Rut',\n",
       " 'Flynn, Mr. James',\n",
       " 'West, Mr. Edwy Arthur',\n",
       " 'Dowdell, Miss. Elizabeth',\n",
       " 'Johnson, Mr. Malkolm Joackim',\n",
       " 'Sdycoff, Mr. Todor',\n",
       " 'Kiernan, Mr. Philip',\n",
       " 'Madigan, Miss. Margaret \"Maggie\"',\n",
       " 'Nysveen, Mr. Johan Hansen',\n",
       " 'Angle, Mrs. William A (Florence \"Mary\" Agnes Hughes)',\n",
       " 'Hansen, Mr. Henry Damsgaard',\n",
       " 'McCoy, Miss. Agnes',\n",
       " 'Ayoub, Miss. Banoura',\n",
       " 'Parrish, Mrs. (Lutie Davis)',\n",
       " 'Meyer, Mr. Edgar Joseph',\n",
       " 'McCoy, Mr. Bernard',\n",
       " 'Lennon, Mr. Denis',\n",
       " 'Goldsmith, Mrs. Frank John (Emily Alice Brown)',\n",
       " 'Danoff, Mr. Yoto',\n",
       " 'Coelho, Mr. Domingos Fernandeo',\n",
       " 'Guggenheim, Mr. Benjamin',\n",
       " 'Blank, Mr. Henry',\n",
       " 'Harris, Mr. George',\n",
       " 'Partner, Mr. Austen',\n",
       " 'Smiljanic, Mr. Mile',\n",
       " 'Bjornstrom-Steffansson, Mr. Mauritz Hakan',\n",
       " 'Sjostedt, Mr. Ernst Adolf',\n",
       " 'Quick, Miss. Phyllis May',\n",
       " 'Hegarty, Miss. Hanora \"Nora\"',\n",
       " 'Gillespie, Mr. William Henry',\n",
       " 'Rosblom, Mrs. Viktor (Helena Wilhelmina)',\n",
       " 'Trout, Mrs. William H (Jessie L)',\n",
       " 'Berriman, Mr. William John',\n",
       " 'Saalfeld, Mr. Adolphe',\n",
       " 'Yrois, Miss. Henriette (\"Mrs Harbeck\")',\n",
       " 'Wick, Miss. Mary Natalie',\n",
       " 'Pickard, Mr. Berk (Berk Trembisky)',\n",
       " 'Canavan, Miss. Mary',\n",
       " 'Norman, Mr. Robert Douglas',\n",
       " 'Harrison, Mr. William',\n",
       " 'Kelly, Miss. Mary',\n",
       " 'Butler, Mr. Reginald Fenton',\n",
       " 'Endres, Miss. Caroline Louise',\n",
       " 'Abbott, Mr. Rossmore Edward',\n",
       " 'Wells, Miss. Joan',\n",
       " 'Gustafsson, Mr. Johan Birger',\n",
       " 'Cunningham, Mr. Alfred Fleming',\n",
       " 'Ward, Miss. Anna',\n",
       " 'Jussila, Miss. Katriina',\n",
       " 'Hansen, Mr. Claus Peter',\n",
       " 'Badt, Mr. Mohamed',\n",
       " 'Chambers, Mr. Norman Campbell',\n",
       " 'Gill, Mr. John William',\n",
       " 'Novel, Mr. Mansouer',\n",
       " 'Lievens, Mr. Rene Aime',\n",
       " 'Ivanoff, Mr. Kanio',\n",
       " 'Hays, Miss. Margaret Bechstein',\n",
       " 'Palsson, Miss. Stina Viola',\n",
       " 'Karlsson, Mr. Nils August',\n",
       " 'Peters, Miss. Katie',\n",
       " 'Nasser, Mrs. Nicholas (Adele Achem)',\n",
       " 'Cook, Mr. Jacob',\n",
       " 'Goldschmidt, Mr. George B',\n",
       " 'Harper, Rev. John',\n",
       " 'Tikkanen, Mr. Juho',\n",
       " 'Sunderland, Mr. Victor Francis',\n",
       " 'Strom, Mrs. Wilhelm (Elna Matilda Persson)',\n",
       " 'Appleton, Mrs. Edward Dale (Charlotte Lamson)',\n",
       " 'Giglio, Mr. Victor',\n",
       " 'Culumovic, Mr. Jeso',\n",
       " 'Taussig, Mr. Emil',\n",
       " 'Windelov, Mr. Einar',\n",
       " 'Thayer, Mrs. John Borland (Marian Longstreth Morris)',\n",
       " 'Williams, Mr. Leslie',\n",
       " 'Bourke, Mr. John',\n",
       " 'Spencer, Mrs. William Augustus (Marie Eugenie)',\n",
       " 'Brown, Mrs. James Joseph (Margaret Tobin)',\n",
       " 'Niskanen, Mr. Juha',\n",
       " 'Adams, Mr. John',\n",
       " 'Thomas, Master. Assad Alexander',\n",
       " 'Kraeff, Mr. Theodor']"
      ]
     },
     "execution_count": 23,
     "metadata": {},
     "output_type": "execute_result"
    }
   ],
   "source": [
    "list(set(titan.Name))"
   ]
  },
  {
   "cell_type": "code",
   "execution_count": 24,
   "metadata": {},
   "outputs": [
    {
     "data": {
      "text/plain": [
       "891"
      ]
     },
     "execution_count": 24,
     "metadata": {},
     "output_type": "execute_result"
    }
   ],
   "source": [
    "titan.Name.nunique()"
   ]
  },
  {
   "cell_type": "code",
   "execution_count": 25,
   "metadata": {},
   "outputs": [
    {
     "data": {
      "text/plain": [
       "['male', 'female']"
      ]
     },
     "execution_count": 25,
     "metadata": {},
     "output_type": "execute_result"
    }
   ],
   "source": [
    "list(set(titan.Sex))"
   ]
  },
  {
   "cell_type": "code",
   "execution_count": 26,
   "metadata": {},
   "outputs": [
    {
     "data": {
      "text/plain": [
       "681"
      ]
     },
     "execution_count": 26,
     "metadata": {},
     "output_type": "execute_result"
    }
   ],
   "source": [
    "titan.Ticket.nunique()"
   ]
  },
  {
   "cell_type": "code",
   "execution_count": 27,
   "metadata": {},
   "outputs": [
    {
     "data": {
      "text/plain": [
       "[nan,\n",
       " 'F33',\n",
       " 'B20',\n",
       " 'D49',\n",
       " 'C86',\n",
       " 'C82',\n",
       " 'A34',\n",
       " 'D20',\n",
       " 'A5',\n",
       " 'C106',\n",
       " 'D35',\n",
       " 'C45',\n",
       " 'E49',\n",
       " 'C93',\n",
       " 'B96 B98',\n",
       " 'C70',\n",
       " 'A19',\n",
       " 'C30',\n",
       " 'C2',\n",
       " 'C50',\n",
       " 'C52',\n",
       " 'C124',\n",
       " 'C101',\n",
       " 'E17',\n",
       " 'B101',\n",
       " 'D10 D12',\n",
       " 'B50',\n",
       " 'B78',\n",
       " 'B38',\n",
       " 'C126',\n",
       " 'A16',\n",
       " 'A14',\n",
       " 'B5',\n",
       " 'B77',\n",
       " 'D46',\n",
       " 'B18',\n",
       " 'A10',\n",
       " 'C22 C26',\n",
       " 'B51 B53 B55',\n",
       " 'C47',\n",
       " 'E24',\n",
       " 'C125',\n",
       " 'C90',\n",
       " 'F38',\n",
       " 'B35',\n",
       " 'F E69',\n",
       " 'A24',\n",
       " 'E44',\n",
       " 'B86',\n",
       " 'B71',\n",
       " 'D17',\n",
       " 'F G63',\n",
       " 'E31',\n",
       " 'D26',\n",
       " 'D11',\n",
       " 'D28',\n",
       " 'C62 C64',\n",
       " 'B22',\n",
       " 'D30',\n",
       " 'C92',\n",
       " 'B39',\n",
       " 'D6',\n",
       " 'B41',\n",
       " 'B3',\n",
       " 'F2',\n",
       " 'E46',\n",
       " 'B82 B84',\n",
       " 'B80',\n",
       " 'B94',\n",
       " 'E58',\n",
       " 'D15',\n",
       " 'D50',\n",
       " 'D33',\n",
       " 'C99',\n",
       " 'A36',\n",
       " 'B58 B60',\n",
       " 'B19',\n",
       " 'D36',\n",
       " 'C85',\n",
       " 'F4',\n",
       " 'B57 B59 B63 B66',\n",
       " 'G6',\n",
       " 'D45',\n",
       " 'E36',\n",
       " 'C123',\n",
       " 'E101',\n",
       " 'E40',\n",
       " 'D21',\n",
       " 'E12',\n",
       " 'E77',\n",
       " 'D7',\n",
       " 'E8',\n",
       " 'B30',\n",
       " 'B42',\n",
       " 'C68',\n",
       " 'C148',\n",
       " 'E38',\n",
       " 'C46',\n",
       " 'C128',\n",
       " 'B102',\n",
       " 'C49',\n",
       " 'C104',\n",
       " 'C118',\n",
       " 'E68',\n",
       " 'A31',\n",
       " 'D37',\n",
       " 'D47',\n",
       " 'A32',\n",
       " 'E25',\n",
       " 'F G73',\n",
       " 'C95',\n",
       " 'C87',\n",
       " 'E34',\n",
       " 'C78',\n",
       " 'D48',\n",
       " 'E67',\n",
       " 'B79',\n",
       " 'C111',\n",
       " 'C110',\n",
       " 'D',\n",
       " 'C23 C25 C27',\n",
       " 'E33',\n",
       " 'A7',\n",
       " 'A20',\n",
       " 'C103',\n",
       " 'E50',\n",
       " 'C32',\n",
       " 'C54',\n",
       " 'C65',\n",
       " 'B37',\n",
       " 'E121',\n",
       " 'A26',\n",
       " 'C91',\n",
       " 'B4',\n",
       " 'B49',\n",
       " 'C83',\n",
       " 'T',\n",
       " 'E63',\n",
       " 'C7',\n",
       " 'D9',\n",
       " 'B28',\n",
       " 'B69',\n",
       " 'D19',\n",
       " 'E10',\n",
       " 'A6',\n",
       " 'A23',\n",
       " 'D56',\n",
       " 'B73']"
      ]
     },
     "execution_count": 27,
     "metadata": {},
     "output_type": "execute_result"
    }
   ],
   "source": [
    "list(set(titan.Cabin))"
   ]
  },
  {
   "cell_type": "code",
   "execution_count": 28,
   "metadata": {},
   "outputs": [
    {
     "data": {
      "text/plain": [
       "147"
      ]
     },
     "execution_count": 28,
     "metadata": {},
     "output_type": "execute_result"
    }
   ],
   "source": [
    "titan.Cabin.nunique()"
   ]
  },
  {
   "cell_type": "code",
   "execution_count": 29,
   "metadata": {},
   "outputs": [
    {
     "data": {
      "text/plain": [
       "3"
      ]
     },
     "execution_count": 29,
     "metadata": {},
     "output_type": "execute_result"
    }
   ],
   "source": [
    "titan.Embarked.nunique()"
   ]
  },
  {
   "cell_type": "code",
   "execution_count": 30,
   "metadata": {},
   "outputs": [
    {
     "data": {
      "text/plain": [
       "array(['S', 'C', 'Q', nan], dtype=object)"
      ]
     },
     "execution_count": 30,
     "metadata": {},
     "output_type": "execute_result"
    }
   ],
   "source": [
    "titan.Embarked.unique()"
   ]
  },
  {
   "cell_type": "code",
   "execution_count": 31,
   "metadata": {},
   "outputs": [
    {
     "data": {
      "text/plain": [
       "[nan, 'C', 'S', 'Q']"
      ]
     },
     "execution_count": 31,
     "metadata": {},
     "output_type": "execute_result"
    }
   ],
   "source": [
    "list(set(titan.Embarked))"
   ]
  },
  {
   "cell_type": "code",
   "execution_count": 32,
   "metadata": {},
   "outputs": [
    {
     "data": {
      "text/plain": [
       "S    644\n",
       "C    168\n",
       "Q     77\n",
       "Name: Embarked, dtype: int64"
      ]
     },
     "execution_count": 32,
     "metadata": {},
     "output_type": "execute_result"
    }
   ],
   "source": [
    "titan.Embarked.value_counts()"
   ]
  },
  {
   "cell_type": "code",
   "execution_count": 33,
   "metadata": {},
   "outputs": [
    {
     "data": {
      "text/plain": [
       "male      577\n",
       "female    314\n",
       "Name: Sex, dtype: int64"
      ]
     },
     "execution_count": 33,
     "metadata": {},
     "output_type": "execute_result"
    }
   ],
   "source": [
    "titan.Sex.value_counts()"
   ]
  },
  {
   "cell_type": "code",
   "execution_count": 34,
   "metadata": {},
   "outputs": [
    {
     "data": {
      "text/plain": [
       "C23 C25 C27    4\n",
       "G6             4\n",
       "B96 B98        4\n",
       "F2             3\n",
       "C22 C26        3\n",
       "              ..\n",
       "C111           1\n",
       "F E69          1\n",
       "B86            1\n",
       "A7             1\n",
       "B80            1\n",
       "Name: Cabin, Length: 147, dtype: int64"
      ]
     },
     "execution_count": 34,
     "metadata": {},
     "output_type": "execute_result"
    }
   ],
   "source": [
    "titan.Cabin.value_counts()"
   ]
  },
  {
   "cell_type": "code",
   "execution_count": 35,
   "metadata": {},
   "outputs": [
    {
     "data": {
      "text/plain": [
       "CA. 2343       7\n",
       "347082         7\n",
       "1601           7\n",
       "CA 2144        6\n",
       "347088         6\n",
       "              ..\n",
       "350052         1\n",
       "S.O.P. 1166    1\n",
       "237668         1\n",
       "376566         1\n",
       "248706         1\n",
       "Name: Ticket, Length: 681, dtype: int64"
      ]
     },
     "execution_count": 35,
     "metadata": {},
     "output_type": "execute_result"
    }
   ],
   "source": [
    "titan.Ticket.value_counts()"
   ]
  },
  {
   "cell_type": "code",
   "execution_count": 36,
   "metadata": {},
   "outputs": [
    {
     "data": {
      "text/plain": [
       "0        1601\n",
       "1      347082\n",
       "2    CA. 2343\n",
       "dtype: object"
      ]
     },
     "execution_count": 36,
     "metadata": {},
     "output_type": "execute_result"
    }
   ],
   "source": [
    "titan.Ticket.mode()"
   ]
  },
  {
   "cell_type": "code",
   "execution_count": 37,
   "metadata": {},
   "outputs": [
    {
     "data": {
      "text/plain": [
       "0        B96 B98\n",
       "1    C23 C25 C27\n",
       "2             G6\n",
       "dtype: object"
      ]
     },
     "execution_count": 37,
     "metadata": {},
     "output_type": "execute_result"
    }
   ],
   "source": [
    "titan.Cabin.mode()"
   ]
  },
  {
   "cell_type": "code",
   "execution_count": 38,
   "metadata": {},
   "outputs": [
    {
     "data": {
      "text/plain": [
       "0    S\n",
       "dtype: object"
      ]
     },
     "execution_count": 38,
     "metadata": {},
     "output_type": "execute_result"
    }
   ],
   "source": [
    "titan.Embarked.mode()"
   ]
  },
  {
   "cell_type": "code",
   "execution_count": 39,
   "metadata": {},
   "outputs": [
    {
     "data": {
      "text/plain": [
       "3    491\n",
       "1    216\n",
       "2    184\n",
       "Name: Pclass, dtype: int64"
      ]
     },
     "execution_count": 39,
     "metadata": {},
     "output_type": "execute_result"
    }
   ],
   "source": [
    "titan.Pclass.value_counts()\n"
   ]
  },
  {
   "cell_type": "code",
   "execution_count": 40,
   "metadata": {},
   "outputs": [
    {
     "data": {
      "text/plain": [
       "male      577\n",
       "female    314\n",
       "Name: Sex, dtype: int64"
      ]
     },
     "execution_count": 40,
     "metadata": {},
     "output_type": "execute_result"
    }
   ],
   "source": [
    "titan.Sex.value_counts()"
   ]
  },
  {
   "cell_type": "code",
   "execution_count": 41,
   "metadata": {},
   "outputs": [
    {
     "data": {
      "text/plain": [
       "891"
      ]
     },
     "execution_count": 41,
     "metadata": {},
     "output_type": "execute_result"
    }
   ],
   "source": [
    "titan.Sex.count()"
   ]
  },
  {
   "cell_type": "code",
   "execution_count": 42,
   "metadata": {},
   "outputs": [
    {
     "data": {
      "text/plain": [
       "889"
      ]
     },
     "execution_count": 42,
     "metadata": {},
     "output_type": "execute_result"
    }
   ],
   "source": [
    "titan.Embarked.count()"
   ]
  },
  {
   "cell_type": "code",
   "execution_count": 43,
   "metadata": {},
   "outputs": [
    {
     "data": {
      "text/plain": [
       "S    644\n",
       "C    168\n",
       "Q     77\n",
       "Name: Embarked, dtype: int64"
      ]
     },
     "execution_count": 43,
     "metadata": {},
     "output_type": "execute_result"
    }
   ],
   "source": [
    "titan.Embarked.value_counts()"
   ]
  },
  {
   "cell_type": "code",
   "execution_count": 44,
   "metadata": {},
   "outputs": [
    {
     "data": {
      "text/plain": [
       "891"
      ]
     },
     "execution_count": 44,
     "metadata": {},
     "output_type": "execute_result"
    }
   ],
   "source": [
    "titan.Survived.count()"
   ]
  },
  {
   "cell_type": "code",
   "execution_count": 45,
   "metadata": {},
   "outputs": [
    {
     "data": {
      "text/plain": [
       "0    549\n",
       "1    342\n",
       "Name: Survived, dtype: int64"
      ]
     },
     "execution_count": 45,
     "metadata": {},
     "output_type": "execute_result"
    }
   ],
   "source": [
    "titan.Survived.value_counts()"
   ]
  },
  {
   "cell_type": "code",
   "execution_count": 46,
   "metadata": {},
   "outputs": [
    {
     "data": {
      "text/html": [
       "<div>\n",
       "<style scoped>\n",
       "    .dataframe tbody tr th:only-of-type {\n",
       "        vertical-align: middle;\n",
       "    }\n",
       "\n",
       "    .dataframe tbody tr th {\n",
       "        vertical-align: top;\n",
       "    }\n",
       "\n",
       "    .dataframe thead th {\n",
       "        text-align: right;\n",
       "    }\n",
       "</style>\n",
       "<table border=\"1\" class=\"dataframe\">\n",
       "  <thead>\n",
       "    <tr style=\"text-align: right;\">\n",
       "      <th></th>\n",
       "      <th>PassengerId</th>\n",
       "      <th>Survived</th>\n",
       "      <th>Pclass</th>\n",
       "      <th>Name</th>\n",
       "      <th>Sex</th>\n",
       "      <th>Age</th>\n",
       "      <th>SibSp</th>\n",
       "      <th>Parch</th>\n",
       "      <th>Ticket</th>\n",
       "      <th>Fare</th>\n",
       "      <th>Cabin</th>\n",
       "      <th>Embarked</th>\n",
       "    </tr>\n",
       "  </thead>\n",
       "  <tbody>\n",
       "    <tr>\n",
       "      <th>0</th>\n",
       "      <td>1</td>\n",
       "      <td>0</td>\n",
       "      <td>3</td>\n",
       "      <td>Braund, Mr. Owen Harris</td>\n",
       "      <td>male</td>\n",
       "      <td>22.0</td>\n",
       "      <td>1</td>\n",
       "      <td>0</td>\n",
       "      <td>A/5 21171</td>\n",
       "      <td>7.2500</td>\n",
       "      <td>NaN</td>\n",
       "      <td>S</td>\n",
       "    </tr>\n",
       "    <tr>\n",
       "      <th>1</th>\n",
       "      <td>2</td>\n",
       "      <td>1</td>\n",
       "      <td>1</td>\n",
       "      <td>Cumings, Mrs. John Bradley (Florence Briggs Th...</td>\n",
       "      <td>female</td>\n",
       "      <td>38.0</td>\n",
       "      <td>1</td>\n",
       "      <td>0</td>\n",
       "      <td>PC 17599</td>\n",
       "      <td>71.2833</td>\n",
       "      <td>C85</td>\n",
       "      <td>C</td>\n",
       "    </tr>\n",
       "    <tr>\n",
       "      <th>2</th>\n",
       "      <td>3</td>\n",
       "      <td>1</td>\n",
       "      <td>3</td>\n",
       "      <td>Heikkinen, Miss. Laina</td>\n",
       "      <td>female</td>\n",
       "      <td>26.0</td>\n",
       "      <td>0</td>\n",
       "      <td>0</td>\n",
       "      <td>STON/O2. 3101282</td>\n",
       "      <td>7.9250</td>\n",
       "      <td>NaN</td>\n",
       "      <td>S</td>\n",
       "    </tr>\n",
       "    <tr>\n",
       "      <th>3</th>\n",
       "      <td>4</td>\n",
       "      <td>1</td>\n",
       "      <td>1</td>\n",
       "      <td>Futrelle, Mrs. Jacques Heath (Lily May Peel)</td>\n",
       "      <td>female</td>\n",
       "      <td>35.0</td>\n",
       "      <td>1</td>\n",
       "      <td>0</td>\n",
       "      <td>113803</td>\n",
       "      <td>53.1000</td>\n",
       "      <td>C123</td>\n",
       "      <td>S</td>\n",
       "    </tr>\n",
       "    <tr>\n",
       "      <th>4</th>\n",
       "      <td>5</td>\n",
       "      <td>0</td>\n",
       "      <td>3</td>\n",
       "      <td>Allen, Mr. William Henry</td>\n",
       "      <td>male</td>\n",
       "      <td>35.0</td>\n",
       "      <td>0</td>\n",
       "      <td>0</td>\n",
       "      <td>373450</td>\n",
       "      <td>8.0500</td>\n",
       "      <td>NaN</td>\n",
       "      <td>S</td>\n",
       "    </tr>\n",
       "    <tr>\n",
       "      <th>5</th>\n",
       "      <td>6</td>\n",
       "      <td>0</td>\n",
       "      <td>3</td>\n",
       "      <td>Moran, Mr. James</td>\n",
       "      <td>male</td>\n",
       "      <td>NaN</td>\n",
       "      <td>0</td>\n",
       "      <td>0</td>\n",
       "      <td>330877</td>\n",
       "      <td>8.4583</td>\n",
       "      <td>NaN</td>\n",
       "      <td>Q</td>\n",
       "    </tr>\n",
       "    <tr>\n",
       "      <th>6</th>\n",
       "      <td>7</td>\n",
       "      <td>0</td>\n",
       "      <td>1</td>\n",
       "      <td>McCarthy, Mr. Timothy J</td>\n",
       "      <td>male</td>\n",
       "      <td>54.0</td>\n",
       "      <td>0</td>\n",
       "      <td>0</td>\n",
       "      <td>17463</td>\n",
       "      <td>51.8625</td>\n",
       "      <td>E46</td>\n",
       "      <td>S</td>\n",
       "    </tr>\n",
       "    <tr>\n",
       "      <th>7</th>\n",
       "      <td>8</td>\n",
       "      <td>0</td>\n",
       "      <td>3</td>\n",
       "      <td>Palsson, Master. Gosta Leonard</td>\n",
       "      <td>male</td>\n",
       "      <td>2.0</td>\n",
       "      <td>3</td>\n",
       "      <td>1</td>\n",
       "      <td>349909</td>\n",
       "      <td>21.0750</td>\n",
       "      <td>NaN</td>\n",
       "      <td>S</td>\n",
       "    </tr>\n",
       "    <tr>\n",
       "      <th>8</th>\n",
       "      <td>9</td>\n",
       "      <td>1</td>\n",
       "      <td>3</td>\n",
       "      <td>Johnson, Mrs. Oscar W (Elisabeth Vilhelmina Berg)</td>\n",
       "      <td>female</td>\n",
       "      <td>27.0</td>\n",
       "      <td>0</td>\n",
       "      <td>2</td>\n",
       "      <td>347742</td>\n",
       "      <td>11.1333</td>\n",
       "      <td>NaN</td>\n",
       "      <td>S</td>\n",
       "    </tr>\n",
       "    <tr>\n",
       "      <th>9</th>\n",
       "      <td>10</td>\n",
       "      <td>1</td>\n",
       "      <td>2</td>\n",
       "      <td>Nasser, Mrs. Nicholas (Adele Achem)</td>\n",
       "      <td>female</td>\n",
       "      <td>14.0</td>\n",
       "      <td>1</td>\n",
       "      <td>0</td>\n",
       "      <td>237736</td>\n",
       "      <td>30.0708</td>\n",
       "      <td>NaN</td>\n",
       "      <td>C</td>\n",
       "    </tr>\n",
       "  </tbody>\n",
       "</table>\n",
       "</div>"
      ],
      "text/plain": [
       "   PassengerId  Survived  Pclass  \\\n",
       "0            1         0       3   \n",
       "1            2         1       1   \n",
       "2            3         1       3   \n",
       "3            4         1       1   \n",
       "4            5         0       3   \n",
       "5            6         0       3   \n",
       "6            7         0       1   \n",
       "7            8         0       3   \n",
       "8            9         1       3   \n",
       "9           10         1       2   \n",
       "\n",
       "                                                Name     Sex   Age  SibSp  \\\n",
       "0                            Braund, Mr. Owen Harris    male  22.0      1   \n",
       "1  Cumings, Mrs. John Bradley (Florence Briggs Th...  female  38.0      1   \n",
       "2                             Heikkinen, Miss. Laina  female  26.0      0   \n",
       "3       Futrelle, Mrs. Jacques Heath (Lily May Peel)  female  35.0      1   \n",
       "4                           Allen, Mr. William Henry    male  35.0      0   \n",
       "5                                   Moran, Mr. James    male   NaN      0   \n",
       "6                            McCarthy, Mr. Timothy J    male  54.0      0   \n",
       "7                     Palsson, Master. Gosta Leonard    male   2.0      3   \n",
       "8  Johnson, Mrs. Oscar W (Elisabeth Vilhelmina Berg)  female  27.0      0   \n",
       "9                Nasser, Mrs. Nicholas (Adele Achem)  female  14.0      1   \n",
       "\n",
       "   Parch            Ticket     Fare Cabin Embarked  \n",
       "0      0         A/5 21171   7.2500   NaN        S  \n",
       "1      0          PC 17599  71.2833   C85        C  \n",
       "2      0  STON/O2. 3101282   7.9250   NaN        S  \n",
       "3      0            113803  53.1000  C123        S  \n",
       "4      0            373450   8.0500   NaN        S  \n",
       "5      0            330877   8.4583   NaN        Q  \n",
       "6      0             17463  51.8625   E46        S  \n",
       "7      1            349909  21.0750   NaN        S  \n",
       "8      2            347742  11.1333   NaN        S  \n",
       "9      0            237736  30.0708   NaN        C  "
      ]
     },
     "execution_count": 46,
     "metadata": {},
     "output_type": "execute_result"
    }
   ],
   "source": [
    "titan.head(10)"
   ]
  },
  {
   "cell_type": "code",
   "execution_count": 47,
   "metadata": {},
   "outputs": [],
   "source": [
    "titan1=titan[titan.Pclass==1]\n",
    "titan2=titan[titan.Pclass==2]\n",
    "titan3=titan[titan.Pclass==3]\n"
   ]
  },
  {
   "cell_type": "code",
   "execution_count": 48,
   "metadata": {},
   "outputs": [
    {
     "name": "stdout",
     "output_type": "stream",
     "text": [
      "     PassengerId  Survived  Pclass  \\\n",
      "1              2         1       1   \n",
      "3              4         1       1   \n",
      "6              7         0       1   \n",
      "11            12         1       1   \n",
      "23            24         1       1   \n",
      "..           ...       ...     ...   \n",
      "871          872         1       1   \n",
      "872          873         0       1   \n",
      "879          880         1       1   \n",
      "887          888         1       1   \n",
      "889          890         1       1   \n",
      "\n",
      "                                                  Name     Sex   Age  SibSp  \\\n",
      "1    Cumings, Mrs. John Bradley (Florence Briggs Th...  female  38.0      1   \n",
      "3         Futrelle, Mrs. Jacques Heath (Lily May Peel)  female  35.0      1   \n",
      "6                              McCarthy, Mr. Timothy J    male  54.0      0   \n",
      "11                            Bonnell, Miss. Elizabeth  female  58.0      0   \n",
      "23                        Sloper, Mr. William Thompson    male  28.0      0   \n",
      "..                                                 ...     ...   ...    ...   \n",
      "871   Beckwith, Mrs. Richard Leonard (Sallie Monypeny)  female  47.0      1   \n",
      "872                           Carlsson, Mr. Frans Olof    male  33.0      0   \n",
      "879      Potter, Mrs. Thomas Jr (Lily Alexenia Wilson)  female  56.0      0   \n",
      "887                       Graham, Miss. Margaret Edith  female  19.0      0   \n",
      "889                              Behr, Mr. Karl Howell    male  26.0      0   \n",
      "\n",
      "     Parch    Ticket     Fare        Cabin Embarked  \n",
      "1        0  PC 17599  71.2833          C85        C  \n",
      "3        0    113803  53.1000         C123        S  \n",
      "6        0     17463  51.8625          E46        S  \n",
      "11       0    113783  26.5500         C103        S  \n",
      "23       0    113788  35.5000           A6        S  \n",
      "..     ...       ...      ...          ...      ...  \n",
      "871      1     11751  52.5542          D35        S  \n",
      "872      0       695   5.0000  B51 B53 B55        S  \n",
      "879      1     11767  83.1583          C50        C  \n",
      "887      0    112053  30.0000          B42        S  \n",
      "889      0    111369  30.0000         C148        C  \n",
      "\n",
      "[216 rows x 12 columns]\n"
     ]
    }
   ],
   "source": [
    "print(titan1)"
   ]
  },
  {
   "cell_type": "code",
   "execution_count": 49,
   "metadata": {},
   "outputs": [
    {
     "data": {
      "text/html": [
       "<div>\n",
       "<style scoped>\n",
       "    .dataframe tbody tr th:only-of-type {\n",
       "        vertical-align: middle;\n",
       "    }\n",
       "\n",
       "    .dataframe tbody tr th {\n",
       "        vertical-align: top;\n",
       "    }\n",
       "\n",
       "    .dataframe thead th {\n",
       "        text-align: right;\n",
       "    }\n",
       "</style>\n",
       "<table border=\"1\" class=\"dataframe\">\n",
       "  <thead>\n",
       "    <tr style=\"text-align: right;\">\n",
       "      <th></th>\n",
       "      <th>PassengerId</th>\n",
       "      <th>Survived</th>\n",
       "      <th>Pclass</th>\n",
       "      <th>Age</th>\n",
       "      <th>SibSp</th>\n",
       "      <th>Parch</th>\n",
       "      <th>Fare</th>\n",
       "    </tr>\n",
       "  </thead>\n",
       "  <tbody>\n",
       "    <tr>\n",
       "      <th>PassengerId</th>\n",
       "      <td>1.000000</td>\n",
       "      <td>0.159824</td>\n",
       "      <td>NaN</td>\n",
       "      <td>-0.003969</td>\n",
       "      <td>-0.055167</td>\n",
       "      <td>-0.026157</td>\n",
       "      <td>-0.026348</td>\n",
       "    </tr>\n",
       "    <tr>\n",
       "      <th>Survived</th>\n",
       "      <td>0.159824</td>\n",
       "      <td>1.000000</td>\n",
       "      <td>NaN</td>\n",
       "      <td>-0.267964</td>\n",
       "      <td>0.162276</td>\n",
       "      <td>0.062565</td>\n",
       "      <td>0.190966</td>\n",
       "    </tr>\n",
       "    <tr>\n",
       "      <th>Pclass</th>\n",
       "      <td>NaN</td>\n",
       "      <td>NaN</td>\n",
       "      <td>NaN</td>\n",
       "      <td>NaN</td>\n",
       "      <td>NaN</td>\n",
       "      <td>NaN</td>\n",
       "      <td>NaN</td>\n",
       "    </tr>\n",
       "    <tr>\n",
       "      <th>Age</th>\n",
       "      <td>-0.003969</td>\n",
       "      <td>-0.267964</td>\n",
       "      <td>NaN</td>\n",
       "      <td>1.000000</td>\n",
       "      <td>-0.121015</td>\n",
       "      <td>-0.243613</td>\n",
       "      <td>-0.218611</td>\n",
       "    </tr>\n",
       "    <tr>\n",
       "      <th>SibSp</th>\n",
       "      <td>-0.055167</td>\n",
       "      <td>0.162276</td>\n",
       "      <td>NaN</td>\n",
       "      <td>-0.121015</td>\n",
       "      <td>1.000000</td>\n",
       "      <td>0.261954</td>\n",
       "      <td>0.259492</td>\n",
       "    </tr>\n",
       "    <tr>\n",
       "      <th>Parch</th>\n",
       "      <td>-0.026157</td>\n",
       "      <td>0.062565</td>\n",
       "      <td>NaN</td>\n",
       "      <td>-0.243613</td>\n",
       "      <td>0.261954</td>\n",
       "      <td>1.000000</td>\n",
       "      <td>0.380963</td>\n",
       "    </tr>\n",
       "    <tr>\n",
       "      <th>Fare</th>\n",
       "      <td>-0.026348</td>\n",
       "      <td>0.190966</td>\n",
       "      <td>NaN</td>\n",
       "      <td>-0.218611</td>\n",
       "      <td>0.259492</td>\n",
       "      <td>0.380963</td>\n",
       "      <td>1.000000</td>\n",
       "    </tr>\n",
       "  </tbody>\n",
       "</table>\n",
       "</div>"
      ],
      "text/plain": [
       "             PassengerId  Survived  Pclass       Age     SibSp     Parch  \\\n",
       "PassengerId     1.000000  0.159824     NaN -0.003969 -0.055167 -0.026157   \n",
       "Survived        0.159824  1.000000     NaN -0.267964  0.162276  0.062565   \n",
       "Pclass               NaN       NaN     NaN       NaN       NaN       NaN   \n",
       "Age            -0.003969 -0.267964     NaN  1.000000 -0.121015 -0.243613   \n",
       "SibSp          -0.055167  0.162276     NaN -0.121015  1.000000  0.261954   \n",
       "Parch          -0.026157  0.062565     NaN -0.243613  0.261954  1.000000   \n",
       "Fare           -0.026348  0.190966     NaN -0.218611  0.259492  0.380963   \n",
       "\n",
       "                 Fare  \n",
       "PassengerId -0.026348  \n",
       "Survived     0.190966  \n",
       "Pclass            NaN  \n",
       "Age         -0.218611  \n",
       "SibSp        0.259492  \n",
       "Parch        0.380963  \n",
       "Fare         1.000000  "
      ]
     },
     "execution_count": 49,
     "metadata": {},
     "output_type": "execute_result"
    }
   ],
   "source": [
    "titan1.corr(method='pearson')"
   ]
  },
  {
   "cell_type": "code",
   "execution_count": 50,
   "metadata": {},
   "outputs": [
    {
     "name": "stdout",
     "output_type": "stream",
     "text": [
      "     PassengerId  Survived  Pclass  \\\n",
      "1              2         1       1   \n",
      "3              4         1       1   \n",
      "6              7         0       1   \n",
      "11            12         1       1   \n",
      "23            24         1       1   \n",
      "..           ...       ...     ...   \n",
      "871          872         1       1   \n",
      "872          873         0       1   \n",
      "879          880         1       1   \n",
      "887          888         1       1   \n",
      "889          890         1       1   \n",
      "\n",
      "                                                  Name     Sex   Age  SibSp  \\\n",
      "1    Cumings, Mrs. John Bradley (Florence Briggs Th...  female  38.0      1   \n",
      "3         Futrelle, Mrs. Jacques Heath (Lily May Peel)  female  35.0      1   \n",
      "6                              McCarthy, Mr. Timothy J    male  54.0      0   \n",
      "11                            Bonnell, Miss. Elizabeth  female  58.0      0   \n",
      "23                        Sloper, Mr. William Thompson    male  28.0      0   \n",
      "..                                                 ...     ...   ...    ...   \n",
      "871   Beckwith, Mrs. Richard Leonard (Sallie Monypeny)  female  47.0      1   \n",
      "872                           Carlsson, Mr. Frans Olof    male  33.0      0   \n",
      "879      Potter, Mrs. Thomas Jr (Lily Alexenia Wilson)  female  56.0      0   \n",
      "887                       Graham, Miss. Margaret Edith  female  19.0      0   \n",
      "889                              Behr, Mr. Karl Howell    male  26.0      0   \n",
      "\n",
      "     Parch    Ticket     Fare        Cabin Embarked  \n",
      "1        0  PC 17599  71.2833          C85        C  \n",
      "3        0    113803  53.1000         C123        S  \n",
      "6        0     17463  51.8625          E46        S  \n",
      "11       0    113783  26.5500         C103        S  \n",
      "23       0    113788  35.5000           A6        S  \n",
      "..     ...       ...      ...          ...      ...  \n",
      "871      1     11751  52.5542          D35        S  \n",
      "872      0       695   5.0000  B51 B53 B55        S  \n",
      "879      1     11767  83.1583          C50        C  \n",
      "887      0    112053  30.0000          B42        S  \n",
      "889      0    111369  30.0000         C148        C  \n",
      "\n",
      "[216 rows x 12 columns]\n"
     ]
    }
   ],
   "source": [
    "print(titan1)"
   ]
  },
  {
   "cell_type": "code",
   "execution_count": 51,
   "metadata": {},
   "outputs": [
    {
     "data": {
      "text/plain": [
       "<matplotlib.axes._subplots.AxesSubplot at 0x1c446912548>"
      ]
     },
     "execution_count": 51,
     "metadata": {},
     "output_type": "execute_result"
    },
    {
     "data": {
      "image/png": "[encoded data removed]",
      "text/plain": [
       "<Figure size 432x288 with 1 Axes>"
      ]
     },
     "metadata": {
      "needs_background": "light"
     },
     "output_type": "display_data"
    }
   ],
   "source": [
    "sns.barplot(x='Pclass', y='Survived', data=titan)"
   ]
  },
  {
   "cell_type": "code",
   "execution_count": 52,
   "metadata": {},
   "outputs": [
    {
     "data": {
      "text/plain": [
       "1    136\n",
       "0     80\n",
       "Name: Survived, dtype: int64"
      ]
     },
     "execution_count": 52,
     "metadata": {},
     "output_type": "execute_result"
    }
   ],
   "source": [
    "titan1.Survived.value_counts()"
   ]
  },
  {
   "cell_type": "code",
   "execution_count": 53,
   "metadata": {},
   "outputs": [
    {
     "name": "stdout",
     "output_type": "stream",
     "text": [
      "0.6296296296296297\n"
     ]
    }
   ],
   "source": [
    "p1surv=(136/(136+80))\n",
    "print(p1surv)"
   ]
  },
  {
   "cell_type": "code",
   "execution_count": 54,
   "metadata": {},
   "outputs": [
    {
     "data": {
      "text/plain": [
       "<matplotlib.axes._subplots.AxesSubplot at 0x1c4473d3288>"
      ]
     },
     "execution_count": 54,
     "metadata": {},
     "output_type": "execute_result"
    },
    {
     "data": {
      "image/png": "[encoded data removed]",
      "text/plain": [
       "<Figure size 432x288 with 1 Axes>"
      ]
     },
     "metadata": {
      "needs_background": "light"
     },
     "output_type": "display_data"
    }
   ],
   "source": [
    "sns.barplot(x='Sex', y='Survived', data=titan)"
   ]
  },
  {
   "cell_type": "code",
   "execution_count": 55,
   "metadata": {},
   "outputs": [
    {
     "data": {
      "text/plain": [
       "array([<matplotlib.axes._subplots.AxesSubplot object at 0x000001C4473B4A48>,\n",
       "       <matplotlib.axes._subplots.AxesSubplot object at 0x000001C4474A0EC8>],\n",
       "      dtype=object)"
      ]
     },
     "execution_count": 55,
     "metadata": {},
     "output_type": "execute_result"
    },
    {
     "data": {
      "image/png": "[encoded data removed]",
      "text/plain": [
       "<Figure size 720x144 with 2 Axes>"
      ]
     },
     "metadata": {
      "needs_background": "light"
     },
     "output_type": "display_data"
    }
   ],
   "source": [
    "titan.hist(\"Survived\", by=\"Sex\",figsize = [10,2])"
   ]
  },
  {
   "cell_type": "code",
   "execution_count": 56,
   "metadata": {},
   "outputs": [
    {
     "data": {
      "text/plain": [
       "array([<matplotlib.axes._subplots.AxesSubplot object at 0x000001C447434908>,\n",
       "       <matplotlib.axes._subplots.AxesSubplot object at 0x000001C4475960C8>],\n",
       "      dtype=object)"
      ]
     },
     "execution_count": 56,
     "metadata": {},
     "output_type": "execute_result"
    },
    {
     "data": {
      "image/png": "[encoded data removed]",
      "text/plain": [
       "<Figure size 432x288 with 2 Axes>"
      ]
     },
     "metadata": {
      "needs_background": "light"
     },
     "output_type": "display_data"
    }
   ],
   "source": [
    "titan.hist(\"Age\",by = [\"Survived\"])"
   ]
  },
  {
   "cell_type": "code",
   "execution_count": 57,
   "metadata": {},
   "outputs": [
    {
     "data": {
      "text/plain": [
       "array([[<matplotlib.axes._subplots.AxesSubplot object at 0x000001C4475D1908>,\n",
       "        <matplotlib.axes._subplots.AxesSubplot object at 0x000001C44768E2C8>],\n",
       "       [<matplotlib.axes._subplots.AxesSubplot object at 0x000001C4476C1708>,\n",
       "        <matplotlib.axes._subplots.AxesSubplot object at 0x000001C4476F1CC8>]],\n",
       "      dtype=object)"
      ]
     },
     "execution_count": 57,
     "metadata": {},
     "output_type": "execute_result"
    },
    {
     "data": {
      "image/png": "[encoded data removed]",
      "text/plain": [
       "<Figure size 432x288 with 4 Axes>"
      ]
     },
     "metadata": {
      "needs_background": "light"
     },
     "output_type": "display_data"
    }
   ],
   "source": [
    "titan.hist(\"Age\",by = [\"Survived\",\"Sex\"])"
   ]
  },
  {
   "cell_type": "code",
   "execution_count": 58,
   "metadata": {},
   "outputs": [
    {
     "name": "stderr",
     "output_type": "stream",
     "text": [
      "C:\\Users\\kurie\\anaconda3\\lib\\site-packages\\ipykernel_launcher.py:3: UserWarning: Pandas doesn't allow columns to be created via a new attribute name - see https://pandas.pydata.org/pandas-docs/stable/indexing.html#attribute-access\n",
      "  This is separate from the ipykernel package so we can avoid doing imports until\n"
     ]
    }
   ],
   "source": [
    "interval = (0,18,35,60,120)\n",
    "categories = ['Children','Teens','Adult', 'Old']\n",
    "titan.agecats= pd.cut(titan.Age, interval, labels = categories)\n",
    "\n",
    "\n",
    "\n",
    "\n",
    "\n"
   ]
  },
  {
   "cell_type": "code",
   "execution_count": 59,
   "metadata": {},
   "outputs": [
    {
     "data": {
      "text/plain": [
       "array([[<matplotlib.axes._subplots.AxesSubplot object at 0x000001C4473B05C8>,\n",
       "        <matplotlib.axes._subplots.AxesSubplot object at 0x000001C447844048>],\n",
       "       [<matplotlib.axes._subplots.AxesSubplot object at 0x000001C447870C48>,\n",
       "        <matplotlib.axes._subplots.AxesSubplot object at 0x000001C4478A79C8>],\n",
       "       [<matplotlib.axes._subplots.AxesSubplot object at 0x000001C4478DD748>,\n",
       "        <matplotlib.axes._subplots.AxesSubplot object at 0x000001C447914A88>]],\n",
       "      dtype=object)"
      ]
     },
     "execution_count": 59,
     "metadata": {},
     "output_type": "execute_result"
    },
    {
     "data": {
      "image/png": "[encoded data removed]",
      "text/plain": [
       "<Figure size 720x504 with 6 Axes>"
      ]
     },
     "metadata": {
      "needs_background": "light"
     },
     "output_type": "display_data"
    }
   ],
   "source": [
    "titan.hist(\"Age\",by = [\"Survived\",\"Pclass\"],figsize = [10,7])"
   ]
  },
  {
   "cell_type": "code",
   "execution_count": 60,
   "metadata": {},
   "outputs": [
    {
     "data": {
      "text/plain": [
       "array([[<matplotlib.axes._subplots.AxesSubplot object at 0x000001C447807188>,\n",
       "        <matplotlib.axes._subplots.AxesSubplot object at 0x000001C447C5A308>],\n",
       "       [<matplotlib.axes._subplots.AxesSubplot object at 0x000001C447AD4948>,\n",
       "        <matplotlib.axes._subplots.AxesSubplot object at 0x000001C447B0F2C8>]],\n",
       "      dtype=object)"
      ]
     },
     "execution_count": 60,
     "metadata": {},
     "output_type": "execute_result"
    },
    {
     "data": {
      "image/png": "[encoded data removed]",
      "text/plain": [
       "<Figure size 720x504 with 4 Axes>"
      ]
     },
     "metadata": {
      "needs_background": "light"
     },
     "output_type": "display_data"
    }
   ],
   "source": [
    "titan.hist(\"Survived\",by = [\"Pclass\"],figsize = [10,7])"
   ]
  },
  {
   "cell_type": "code",
   "execution_count": 61,
   "metadata": {},
   "outputs": [
    {
     "data": {
      "text/plain": [
       "array([[<matplotlib.axes._subplots.AxesSubplot object at 0x000001C447A9F1C8>,\n",
       "        <matplotlib.axes._subplots.AxesSubplot object at 0x000001C447E2EB08>],\n",
       "       [<matplotlib.axes._subplots.AxesSubplot object at 0x000001C447CB7188>,\n",
       "        <matplotlib.axes._subplots.AxesSubplot object at 0x000001C447CEDB88>]],\n",
       "      dtype=object)"
      ]
     },
     "execution_count": 61,
     "metadata": {},
     "output_type": "execute_result"
    },
    {
     "data": {
      "image/png": "[encoded data removed]",
      "text/plain": [
       "<Figure size 720x504 with 4 Axes>"
      ]
     },
     "metadata": {
      "needs_background": "light"
     },
     "output_type": "display_data"
    }
   ],
   "source": [
    "titan.hist(\"Age\",by = [\"Pclass\"],figsize = [10,7])"
   ]
  },
  {
   "cell_type": "code",
   "execution_count": 62,
   "metadata": {},
   "outputs": [
    {
     "data": {
      "text/plain": [
       "<matplotlib.axes._subplots.AxesSubplot at 0x1c448103088>"
      ]
     },
     "execution_count": 62,
     "metadata": {},
     "output_type": "execute_result"
    },
    {
     "data": {
      "image/png": "[encoded data removed]",
      "text/plain": [
       "<Figure size 432x288 with 1 Axes>"
      ]
     },
     "metadata": {
      "needs_background": "light"
     },
     "output_type": "display_data"
    }
   ],
   "source": [
    "sns.barplot(x='Pclass', y='Survived', data=titan)"
   ]
  },
  {
   "cell_type": "code",
   "execution_count": 63,
   "metadata": {},
   "outputs": [
    {
     "data": {
      "text/plain": [
       "<matplotlib.axes._subplots.AxesSubplot at 0x1c447f68548>"
      ]
     },
     "execution_count": 63,
     "metadata": {},
     "output_type": "execute_result"
    },
    {
     "data": {
      "image/png": "[encoded data removed]",
      "text/plain": [
       "<Figure size 432x288 with 1 Axes>"
      ]
     },
     "metadata": {
      "needs_background": "light"
     },
     "output_type": "display_data"
    }
   ],
   "source": [
    "sns.barplot(x='Pclass', y='Age', data=titan)"
   ]
  },
  {
   "cell_type": "code",
   "execution_count": 64,
   "metadata": {},
   "outputs": [
    {
     "data": {
      "text/plain": [
       "<matplotlib.axes._subplots.AxesSubplot at 0x1c447fde048>"
      ]
     },
     "execution_count": 64,
     "metadata": {},
     "output_type": "execute_result"
    },
    {
     "data": {
      "image/png": "[encoded data removed]",
      "text/plain": [
       "<Figure size 432x288 with 1 Axes>"
      ]
     },
     "metadata": {
      "needs_background": "light"
     },
     "output_type": "display_data"
    }
   ],
   "source": [
    "sns.barplot(x='Survived', y='Fare', data=titan,alpha=0.5)"
   ]
  },
  {
   "cell_type": "code",
   "execution_count": 65,
   "metadata": {},
   "outputs": [
    {
     "data": {
      "text/plain": [
       "array([[<matplotlib.axes._subplots.AxesSubplot object at 0x000001C447C9C4C8>,\n",
       "        <matplotlib.axes._subplots.AxesSubplot object at 0x000001C448073F88>,\n",
       "        <matplotlib.axes._subplots.AxesSubplot object at 0x000001C448270888>,\n",
       "        <matplotlib.axes._subplots.AxesSubplot object at 0x000001C4482A7988>],\n",
       "       [<matplotlib.axes._subplots.AxesSubplot object at 0x000001C4482DFA88>,\n",
       "        <matplotlib.axes._subplots.AxesSubplot object at 0x000001C448318B08>,\n",
       "        <matplotlib.axes._subplots.AxesSubplot object at 0x000001C4483389C8>,\n",
       "        <matplotlib.axes._subplots.AxesSubplot object at 0x000001C44836FAC8>],\n",
       "       [<matplotlib.axes._subplots.AxesSubplot object at 0x000001C44837A6C8>,\n",
       "        <matplotlib.axes._subplots.AxesSubplot object at 0x000001C4483B28C8>,\n",
       "        <matplotlib.axes._subplots.AxesSubplot object at 0x000001C448419E08>,\n",
       "        <matplotlib.axes._subplots.AxesSubplot object at 0x000001C448452F08>],\n",
       "       [<matplotlib.axes._subplots.AxesSubplot object at 0x000001C448490048>,\n",
       "        <matplotlib.axes._subplots.AxesSubplot object at 0x000001C4484C7148>,\n",
       "        <matplotlib.axes._subplots.AxesSubplot object at 0x000001C448500348>,\n",
       "        <matplotlib.axes._subplots.AxesSubplot object at 0x000001C448539508>]],\n",
       "      dtype=object)"
      ]
     },
     "execution_count": 65,
     "metadata": {},
     "output_type": "execute_result"
    },
    {
     "data": {
      "image/png": "[encoded data removed]",
      "text/plain": [
       "<Figure size 720x648 with 16 Axes>"
      ]
     },
     "metadata": {
      "needs_background": "light"
     },
     "output_type": "display_data"
    }
   ],
   "source": [
    "titan.hist(\"Fare\",by = [\"Embarked\",\"Survived\",\"Sex\"],figsize = [10,9])"
   ]
  },
  {
   "cell_type": "code",
   "execution_count": 66,
   "metadata": {},
   "outputs": [
    {
     "data": {
      "text/plain": [
       "<matplotlib.axes._subplots.AxesSubplot at 0x1c4489a41c8>"
      ]
     },
     "execution_count": 66,
     "metadata": {},
     "output_type": "execute_result"
    },
    {
     "data": {
      "image/png": "[encoded data removed]",
      "text/plain": [
       "<Figure size 432x288 with 1 Axes>"
      ]
     },
     "metadata": {
      "needs_background": "light"
     },
     "output_type": "display_data"
    }
   ],
   "source": [
    "sns.barplot(x='Survived', y='Fare', data=titan,ci=None)"
   ]
  },
  {
   "cell_type": "code",
   "execution_count": 67,
   "metadata": {},
   "outputs": [
    {
     "name": "stderr",
     "output_type": "stream",
     "text": [
      "C:\\Users\\kurie\\anaconda3\\lib\\site-packages\\seaborn\\axisgrid.py:728: UserWarning: Using the barplot function without specifying `order` is likely to produce an incorrect plot.\n",
      "  warnings.warn(warning)\n"
     ]
    },
    {
     "data": {
      "text/plain": [
       "<seaborn.axisgrid.FacetGrid at 0x1c44803a908>"
      ]
     },
     "execution_count": 67,
     "metadata": {},
     "output_type": "execute_result"
    },
    {
     "data": {
      "image/png": "[encoded data removed]",
      "text/plain": [
       "<Figure size 440x648 with 6 Axes>"
      ]
     },
     "metadata": {
      "needs_background": "light"
     },
     "output_type": "display_data"
    }
   ],
   "source": [
    "graph = sns.FacetGrid(titan, row='Embarked', col='Survived')\n",
    "graph.map(sns.barplot, 'Sex', 'Fare', alpha=.5,ci=None)\n",
    "graph.add_legend()"
   ]
  },
  {
   "cell_type": "code",
   "execution_count": 68,
   "metadata": {},
   "outputs": [
    {
     "data": {
      "text/plain": [
       "891"
      ]
     },
     "execution_count": 68,
     "metadata": {},
     "output_type": "execute_result"
    }
   ],
   "source": [
    "titan.Ticket.count()"
   ]
  },
  {
   "cell_type": "code",
   "execution_count": 69,
   "metadata": {},
   "outputs": [
    {
     "data": {
      "text/plain": [
       "681"
      ]
     },
     "execution_count": 69,
     "metadata": {},
     "output_type": "execute_result"
    }
   ],
   "source": [
    "titan.Ticket.nunique()"
   ]
  },
  {
   "cell_type": "code",
   "execution_count": 70,
   "metadata": {},
   "outputs": [],
   "source": [
    "titan=titan.drop(['Ticket'],axis=1)\n",
    "titantest=titantest.drop(['Ticket'],axis=1)"
   ]
  },
  {
   "cell_type": "code",
   "execution_count": 71,
   "metadata": {},
   "outputs": [
    {
     "data": {
      "text/plain": [
       "(891, 11)"
      ]
     },
     "execution_count": 71,
     "metadata": {},
     "output_type": "execute_result"
    }
   ],
   "source": [
    "titan.shape"
   ]
  },
  {
   "cell_type": "code",
   "execution_count": 72,
   "metadata": {},
   "outputs": [
    {
     "data": {
      "text/plain": [
       "687"
      ]
     },
     "execution_count": 72,
     "metadata": {},
     "output_type": "execute_result"
    }
   ],
   "source": [
    "titan.Cabin.isnull().sum()"
   ]
  },
  {
   "cell_type": "code",
   "execution_count": 73,
   "metadata": {},
   "outputs": [],
   "source": [
    "titan=titan.drop(['Cabin'],axis=1)\n",
    "titantest=titantest.drop(['Cabin'],axis=1)"
   ]
  },
  {
   "cell_type": "code",
   "execution_count": 74,
   "metadata": {},
   "outputs": [
    {
     "data": {
      "text/plain": [
       "(891, 10)"
      ]
     },
     "execution_count": 74,
     "metadata": {},
     "output_type": "execute_result"
    }
   ],
   "source": [
    "titan.shape"
   ]
  },
  {
   "cell_type": "code",
   "execution_count": 75,
   "metadata": {},
   "outputs": [],
   "source": [
    "titan.Sex = titan.Sex.map( {'female': 1, 'male': 0} ).astype(int)"
   ]
  },
  {
   "cell_type": "code",
   "execution_count": 76,
   "metadata": {},
   "outputs": [
    {
     "data": {
      "text/html": [
       "<div>\n",
       "<style scoped>\n",
       "    .dataframe tbody tr th:only-of-type {\n",
       "        vertical-align: middle;\n",
       "    }\n",
       "\n",
       "    .dataframe tbody tr th {\n",
       "        vertical-align: top;\n",
       "    }\n",
       "\n",
       "    .dataframe thead th {\n",
       "        text-align: right;\n",
       "    }\n",
       "</style>\n",
       "<table border=\"1\" class=\"dataframe\">\n",
       "  <thead>\n",
       "    <tr style=\"text-align: right;\">\n",
       "      <th></th>\n",
       "      <th>PassengerId</th>\n",
       "      <th>Survived</th>\n",
       "      <th>Pclass</th>\n",
       "      <th>Name</th>\n",
       "      <th>Sex</th>\n",
       "      <th>Age</th>\n",
       "      <th>SibSp</th>\n",
       "      <th>Parch</th>\n",
       "      <th>Fare</th>\n",
       "      <th>Embarked</th>\n",
       "    </tr>\n",
       "  </thead>\n",
       "  <tbody>\n",
       "    <tr>\n",
       "      <th>0</th>\n",
       "      <td>1</td>\n",
       "      <td>0</td>\n",
       "      <td>3</td>\n",
       "      <td>Braund, Mr. Owen Harris</td>\n",
       "      <td>0</td>\n",
       "      <td>22.0</td>\n",
       "      <td>1</td>\n",
       "      <td>0</td>\n",
       "      <td>7.2500</td>\n",
       "      <td>S</td>\n",
       "    </tr>\n",
       "    <tr>\n",
       "      <th>1</th>\n",
       "      <td>2</td>\n",
       "      <td>1</td>\n",
       "      <td>1</td>\n",
       "      <td>Cumings, Mrs. John Bradley (Florence Briggs Th...</td>\n",
       "      <td>1</td>\n",
       "      <td>38.0</td>\n",
       "      <td>1</td>\n",
       "      <td>0</td>\n",
       "      <td>71.2833</td>\n",
       "      <td>C</td>\n",
       "    </tr>\n",
       "  </tbody>\n",
       "</table>\n",
       "</div>"
      ],
      "text/plain": [
       "   PassengerId  Survived  Pclass  \\\n",
       "0            1         0       3   \n",
       "1            2         1       1   \n",
       "\n",
       "                                                Name  Sex   Age  SibSp  Parch  \\\n",
       "0                            Braund, Mr. Owen Harris    0  22.0      1      0   \n",
       "1  Cumings, Mrs. John Bradley (Florence Briggs Th...    1  38.0      1      0   \n",
       "\n",
       "      Fare Embarked  \n",
       "0   7.2500        S  \n",
       "1  71.2833        C  "
      ]
     },
     "execution_count": 76,
     "metadata": {},
     "output_type": "execute_result"
    }
   ],
   "source": [
    "titan.head(2)"
   ]
  },
  {
   "cell_type": "code",
   "execution_count": 77,
   "metadata": {},
   "outputs": [
    {
     "data": {
      "text/plain": [
       "S    644\n",
       "C    168\n",
       "Q     77\n",
       "Name: Embarked, dtype: int64"
      ]
     },
     "execution_count": 77,
     "metadata": {},
     "output_type": "execute_result"
    }
   ],
   "source": [
    "titan.Embarked.value_counts()"
   ]
  },
  {
   "cell_type": "code",
   "execution_count": 78,
   "metadata": {},
   "outputs": [
    {
     "data": {
      "text/plain": [
       "889"
      ]
     },
     "execution_count": 78,
     "metadata": {},
     "output_type": "execute_result"
    }
   ],
   "source": [
    "titan.Embarked.count()"
   ]
  },
  {
   "cell_type": "code",
   "execution_count": 79,
   "metadata": {},
   "outputs": [
    {
     "data": {
      "text/plain": [
       "0      S\n",
       "1      C\n",
       "2      S\n",
       "3      S\n",
       "4      S\n",
       "      ..\n",
       "886    S\n",
       "887    S\n",
       "888    S\n",
       "889    C\n",
       "890    Q\n",
       "Name: Embarked, Length: 891, dtype: object"
      ]
     },
     "execution_count": 79,
     "metadata": {},
     "output_type": "execute_result"
    }
   ],
   "source": [
    "titan.Embarked.fillna(\"S\") "
   ]
  },
  {
   "cell_type": "code",
   "execution_count": 80,
   "metadata": {},
   "outputs": [
    {
     "data": {
      "text/plain": [
       "S    644\n",
       "C    168\n",
       "Q     77\n",
       "Name: Embarked, dtype: int64"
      ]
     },
     "execution_count": 80,
     "metadata": {},
     "output_type": "execute_result"
    }
   ],
   "source": [
    "titan.Embarked.value_counts()"
   ]
  },
  {
   "cell_type": "code",
   "execution_count": 81,
   "metadata": {},
   "outputs": [
    {
     "data": {
      "text/plain": [
       "889"
      ]
     },
     "execution_count": 81,
     "metadata": {},
     "output_type": "execute_result"
    }
   ],
   "source": [
    "titan.Embarked.count()"
   ]
  },
  {
   "cell_type": "code",
   "execution_count": 82,
   "metadata": {},
   "outputs": [
    {
     "data": {
      "text/plain": [
       "0    8.05\n",
       "dtype: float64"
      ]
     },
     "execution_count": 82,
     "metadata": {},
     "output_type": "execute_result"
    }
   ],
   "source": [
    "titan.Fare.mode()"
   ]
  },
  {
   "cell_type": "code",
   "execution_count": 83,
   "metadata": {},
   "outputs": [
    {
     "data": {
      "text/plain": [
       "0       7.2500\n",
       "1      71.2833\n",
       "2       7.9250\n",
       "3      53.1000\n",
       "4       8.0500\n",
       "        ...   \n",
       "886    13.0000\n",
       "887    30.0000\n",
       "888    23.4500\n",
       "889    30.0000\n",
       "890     7.7500\n",
       "Name: Fare, Length: 891, dtype: float64"
      ]
     },
     "execution_count": 83,
     "metadata": {},
     "output_type": "execute_result"
    }
   ],
   "source": [
    "titan.Fare.fillna(8.05) "
   ]
  },
  {
   "cell_type": "code",
   "execution_count": 84,
   "metadata": {},
   "outputs": [
    {
     "data": {
      "text/plain": [
       "0       7.2500\n",
       "1      71.2833\n",
       "2       7.9250\n",
       "3      53.1000\n",
       "4       8.0500\n",
       "        ...   \n",
       "886    13.0000\n",
       "887    30.0000\n",
       "888    23.4500\n",
       "889    30.0000\n",
       "890     7.7500\n",
       "Name: Fare, Length: 891, dtype: float64"
      ]
     },
     "execution_count": 84,
     "metadata": {},
     "output_type": "execute_result"
    }
   ],
   "source": [
    "titan.Fare"
   ]
  },
  {
   "cell_type": "code",
   "execution_count": 85,
   "metadata": {},
   "outputs": [],
   "source": [
    "from sklearn.impute import KNNImputer"
   ]
  },
  {
   "cell_type": "code",
   "execution_count": 86,
   "metadata": {},
   "outputs": [],
   "source": [
    "def convert_num(x):\n",
    "    if x <= -(0.0001) and x >= 7.91:\n",
    "        return 0\n",
    "    elif x > 7.91 and x <= 14.454:\n",
    "        return 1\n",
    "    elif x > 14.454 and x <= 31.0:\n",
    "        return 2\n",
    "    elif x > 14.454 and x <= 512.329:\n",
    "        return 3"
   ]
  },
  {
   "cell_type": "code",
   "execution_count": 87,
   "metadata": {},
   "outputs": [
    {
     "data": {
      "text/plain": [
       "0      NaN\n",
       "1      3.0\n",
       "2      1.0\n",
       "3      3.0\n",
       "4      1.0\n",
       "      ... \n",
       "886    1.0\n",
       "887    2.0\n",
       "888    2.0\n",
       "889    2.0\n",
       "890    NaN\n",
       "Name: Fare, Length: 891, dtype: float64"
      ]
     },
     "execution_count": 87,
     "metadata": {},
     "output_type": "execute_result"
    }
   ],
   "source": [
    "titan.Fare.apply(convert_num)"
   ]
  },
  {
   "cell_type": "code",
   "execution_count": 88,
   "metadata": {},
   "outputs": [
    {
     "data": {
      "text/plain": [
       "0"
      ]
     },
     "execution_count": 88,
     "metadata": {},
     "output_type": "execute_result"
    }
   ],
   "source": [
    "titan.Fare.isnull().sum()"
   ]
  },
  {
   "cell_type": "code",
   "execution_count": 89,
   "metadata": {},
   "outputs": [],
   "source": [
    "yi=titan.Age.values\n",
    "yi=yi.reshape(-1,1)\n",
    "imputer = KNNImputer(n_neighbors=5)\n",
    "ynew=imputer.fit_transform(yi)\n"
   ]
  },
  {
   "cell_type": "code",
   "execution_count": 90,
   "metadata": {},
   "outputs": [
    {
     "name": "stdout",
     "output_type": "stream",
     "text": [
      "22.0 : 22.0\n",
      "38.0 : 38.0\n",
      "26.0 : 26.0\n",
      "35.0 : 35.0\n",
      "35.0 : 35.0\n",
      "nan : 29.69911764705882\n",
      "54.0 : 54.0\n",
      "2.0 : 2.0\n",
      "27.0 : 27.0\n",
      "14.0 : 14.0\n",
      "4.0 : 4.0\n",
      "58.0 : 58.0\n",
      "20.0 : 20.0\n",
      "39.0 : 39.0\n",
      "14.0 : 14.0\n",
      "55.0 : 55.0\n",
      "2.0 : 2.0\n",
      "nan : 29.69911764705882\n",
      "31.0 : 31.0\n",
      "nan : 29.69911764705882\n",
      "35.0 : 35.0\n",
      "34.0 : 34.0\n",
      "15.0 : 15.0\n",
      "28.0 : 28.0\n",
      "8.0 : 8.0\n",
      "38.0 : 38.0\n",
      "nan : 29.69911764705882\n",
      "19.0 : 19.0\n",
      "nan : 29.69911764705882\n",
      "nan : 29.69911764705882\n",
      "40.0 : 40.0\n",
      "nan : 29.69911764705882\n",
      "nan : 29.69911764705882\n",
      "66.0 : 66.0\n",
      "28.0 : 28.0\n",
      "42.0 : 42.0\n",
      "nan : 29.69911764705882\n",
      "21.0 : 21.0\n",
      "18.0 : 18.0\n",
      "14.0 : 14.0\n",
      "40.0 : 40.0\n",
      "27.0 : 27.0\n",
      "nan : 29.69911764705882\n",
      "3.0 : 3.0\n",
      "19.0 : 19.0\n",
      "nan : 29.69911764705882\n",
      "nan : 29.69911764705882\n",
      "nan : 29.69911764705882\n",
      "nan : 29.69911764705882\n",
      "18.0 : 18.0\n",
      "7.0 : 7.0\n",
      "21.0 : 21.0\n",
      "49.0 : 49.0\n",
      "29.0 : 29.0\n",
      "65.0 : 65.0\n",
      "nan : 29.69911764705882\n",
      "21.0 : 21.0\n",
      "28.5 : 28.5\n",
      "5.0 : 5.0\n",
      "11.0 : 11.0\n",
      "22.0 : 22.0\n",
      "38.0 : 38.0\n",
      "45.0 : 45.0\n",
      "4.0 : 4.0\n",
      "nan : 29.69911764705882\n",
      "nan : 29.69911764705882\n",
      "29.0 : 29.0\n",
      "19.0 : 19.0\n",
      "17.0 : 17.0\n",
      "26.0 : 26.0\n",
      "32.0 : 32.0\n",
      "16.0 : 16.0\n",
      "21.0 : 21.0\n",
      "26.0 : 26.0\n",
      "32.0 : 32.0\n",
      "25.0 : 25.0\n",
      "nan : 29.69911764705882\n",
      "nan : 29.69911764705882\n",
      "0.83 : 0.83\n",
      "30.0 : 30.0\n",
      "22.0 : 22.0\n",
      "29.0 : 29.0\n",
      "nan : 29.69911764705882\n",
      "28.0 : 28.0\n",
      "17.0 : 17.0\n",
      "33.0 : 33.0\n",
      "16.0 : 16.0\n",
      "nan : 29.69911764705882\n",
      "23.0 : 23.0\n",
      "24.0 : 24.0\n",
      "29.0 : 29.0\n",
      "20.0 : 20.0\n",
      "46.0 : 46.0\n",
      "26.0 : 26.0\n",
      "59.0 : 59.0\n",
      "nan : 29.69911764705882\n",
      "71.0 : 71.0\n",
      "23.0 : 23.0\n",
      "34.0 : 34.0\n",
      "34.0 : 34.0\n",
      "28.0 : 28.0\n",
      "nan : 29.69911764705882\n",
      "21.0 : 21.0\n",
      "33.0 : 33.0\n",
      "37.0 : 37.0\n",
      "28.0 : 28.0\n",
      "21.0 : 21.0\n",
      "nan : 29.69911764705882\n",
      "38.0 : 38.0\n",
      "nan : 29.69911764705882\n",
      "47.0 : 47.0\n",
      "14.5 : 14.5\n",
      "22.0 : 22.0\n",
      "20.0 : 20.0\n",
      "17.0 : 17.0\n",
      "21.0 : 21.0\n",
      "70.5 : 70.5\n",
      "29.0 : 29.0\n",
      "24.0 : 24.0\n",
      "2.0 : 2.0\n",
      "21.0 : 21.0\n",
      "nan : 29.69911764705882\n",
      "32.5 : 32.5\n",
      "32.5 : 32.5\n",
      "54.0 : 54.0\n",
      "12.0 : 12.0\n",
      "nan : 29.69911764705882\n",
      "24.0 : 24.0\n",
      "nan : 29.69911764705882\n",
      "45.0 : 45.0\n",
      "33.0 : 33.0\n",
      "20.0 : 20.0\n",
      "47.0 : 47.0\n",
      "29.0 : 29.0\n",
      "25.0 : 25.0\n",
      "23.0 : 23.0\n",
      "19.0 : 19.0\n",
      "37.0 : 37.0\n",
      "16.0 : 16.0\n",
      "24.0 : 24.0\n",
      "nan : 29.69911764705882\n",
      "22.0 : 22.0\n",
      "24.0 : 24.0\n",
      "19.0 : 19.0\n",
      "18.0 : 18.0\n",
      "19.0 : 19.0\n",
      "27.0 : 27.0\n",
      "9.0 : 9.0\n",
      "36.5 : 36.5\n",
      "42.0 : 42.0\n",
      "51.0 : 51.0\n",
      "22.0 : 22.0\n",
      "55.5 : 55.5\n",
      "40.5 : 40.5\n",
      "nan : 29.69911764705882\n",
      "51.0 : 51.0\n",
      "16.0 : 16.0\n",
      "30.0 : 30.0\n",
      "nan : 29.69911764705882\n",
      "nan : 29.69911764705882\n",
      "44.0 : 44.0\n",
      "40.0 : 40.0\n",
      "26.0 : 26.0\n",
      "17.0 : 17.0\n",
      "1.0 : 1.0\n",
      "9.0 : 9.0\n",
      "nan : 29.69911764705882\n",
      "45.0 : 45.0\n",
      "nan : 29.69911764705882\n",
      "28.0 : 28.0\n",
      "61.0 : 61.0\n",
      "4.0 : 4.0\n",
      "1.0 : 1.0\n",
      "21.0 : 21.0\n",
      "56.0 : 56.0\n",
      "18.0 : 18.0\n",
      "nan : 29.69911764705882\n",
      "50.0 : 50.0\n",
      "30.0 : 30.0\n",
      "36.0 : 36.0\n",
      "nan : 29.69911764705882\n",
      "nan : 29.69911764705882\n",
      "9.0 : 9.0\n",
      "1.0 : 1.0\n",
      "4.0 : 4.0\n",
      "nan : 29.69911764705882\n",
      "nan : 29.69911764705882\n",
      "45.0 : 45.0\n",
      "40.0 : 40.0\n",
      "36.0 : 36.0\n",
      "32.0 : 32.0\n",
      "19.0 : 19.0\n",
      "19.0 : 19.0\n",
      "3.0 : 3.0\n",
      "44.0 : 44.0\n",
      "58.0 : 58.0\n",
      "nan : 29.69911764705882\n",
      "42.0 : 42.0\n",
      "nan : 29.69911764705882\n",
      "24.0 : 24.0\n",
      "28.0 : 28.0\n",
      "nan : 29.69911764705882\n",
      "34.0 : 34.0\n",
      "45.5 : 45.5\n",
      "18.0 : 18.0\n",
      "2.0 : 2.0\n",
      "32.0 : 32.0\n",
      "26.0 : 26.0\n",
      "16.0 : 16.0\n",
      "40.0 : 40.0\n",
      "24.0 : 24.0\n",
      "35.0 : 35.0\n",
      "22.0 : 22.0\n",
      "30.0 : 30.0\n",
      "nan : 29.69911764705882\n",
      "31.0 : 31.0\n",
      "27.0 : 27.0\n",
      "42.0 : 42.0\n",
      "32.0 : 32.0\n",
      "30.0 : 30.0\n",
      "16.0 : 16.0\n",
      "27.0 : 27.0\n",
      "51.0 : 51.0\n",
      "nan : 29.69911764705882\n",
      "38.0 : 38.0\n",
      "22.0 : 22.0\n",
      "19.0 : 19.0\n",
      "20.5 : 20.5\n",
      "18.0 : 18.0\n",
      "nan : 29.69911764705882\n",
      "35.0 : 35.0\n",
      "29.0 : 29.0\n",
      "59.0 : 59.0\n",
      "5.0 : 5.0\n",
      "24.0 : 24.0\n",
      "nan : 29.69911764705882\n",
      "44.0 : 44.0\n",
      "8.0 : 8.0\n",
      "19.0 : 19.0\n",
      "33.0 : 33.0\n",
      "nan : 29.69911764705882\n",
      "nan : 29.69911764705882\n",
      "29.0 : 29.0\n",
      "22.0 : 22.0\n",
      "30.0 : 30.0\n",
      "44.0 : 44.0\n",
      "25.0 : 25.0\n",
      "24.0 : 24.0\n",
      "37.0 : 37.0\n",
      "54.0 : 54.0\n",
      "nan : 29.69911764705882\n",
      "29.0 : 29.0\n",
      "62.0 : 62.0\n",
      "30.0 : 30.0\n",
      "41.0 : 41.0\n",
      "29.0 : 29.0\n",
      "nan : 29.69911764705882\n",
      "30.0 : 30.0\n",
      "35.0 : 35.0\n",
      "50.0 : 50.0\n",
      "nan : 29.69911764705882\n",
      "3.0 : 3.0\n",
      "52.0 : 52.0\n",
      "40.0 : 40.0\n",
      "nan : 29.69911764705882\n",
      "36.0 : 36.0\n",
      "16.0 : 16.0\n",
      "25.0 : 25.0\n",
      "58.0 : 58.0\n",
      "35.0 : 35.0\n",
      "nan : 29.69911764705882\n",
      "25.0 : 25.0\n",
      "41.0 : 41.0\n",
      "37.0 : 37.0\n",
      "nan : 29.69911764705882\n",
      "63.0 : 63.0\n",
      "45.0 : 45.0\n",
      "nan : 29.69911764705882\n",
      "7.0 : 7.0\n",
      "35.0 : 35.0\n",
      "65.0 : 65.0\n",
      "28.0 : 28.0\n",
      "16.0 : 16.0\n",
      "19.0 : 19.0\n",
      "nan : 29.69911764705882\n",
      "33.0 : 33.0\n",
      "30.0 : 30.0\n",
      "22.0 : 22.0\n",
      "42.0 : 42.0\n",
      "22.0 : 22.0\n",
      "26.0 : 26.0\n",
      "19.0 : 19.0\n",
      "36.0 : 36.0\n",
      "24.0 : 24.0\n",
      "24.0 : 24.0\n",
      "nan : 29.69911764705882\n",
      "23.5 : 23.5\n",
      "2.0 : 2.0\n",
      "nan : 29.69911764705882\n",
      "50.0 : 50.0\n",
      "nan : 29.69911764705882\n",
      "nan : 29.69911764705882\n",
      "19.0 : 19.0\n",
      "nan : 29.69911764705882\n",
      "nan : 29.69911764705882\n",
      "0.92 : 0.92\n",
      "nan : 29.69911764705882\n",
      "17.0 : 17.0\n",
      "30.0 : 30.0\n",
      "30.0 : 30.0\n",
      "24.0 : 24.0\n",
      "18.0 : 18.0\n",
      "26.0 : 26.0\n",
      "28.0 : 28.0\n",
      "43.0 : 43.0\n",
      "26.0 : 26.0\n",
      "24.0 : 24.0\n",
      "54.0 : 54.0\n",
      "31.0 : 31.0\n",
      "40.0 : 40.0\n",
      "22.0 : 22.0\n",
      "27.0 : 27.0\n",
      "30.0 : 30.0\n",
      "22.0 : 22.0\n",
      "nan : 29.69911764705882\n",
      "36.0 : 36.0\n",
      "61.0 : 61.0\n",
      "36.0 : 36.0\n",
      "31.0 : 31.0\n",
      "16.0 : 16.0\n",
      "nan : 29.69911764705882\n",
      "45.5 : 45.5\n",
      "38.0 : 38.0\n",
      "16.0 : 16.0\n",
      "nan : 29.69911764705882\n",
      "nan : 29.69911764705882\n",
      "29.0 : 29.0\n",
      "41.0 : 41.0\n",
      "45.0 : 45.0\n",
      "45.0 : 45.0\n",
      "2.0 : 2.0\n",
      "24.0 : 24.0\n",
      "28.0 : 28.0\n",
      "25.0 : 25.0\n",
      "36.0 : 36.0\n",
      "24.0 : 24.0\n",
      "40.0 : 40.0\n",
      "nan : 29.69911764705882\n",
      "3.0 : 3.0\n",
      "42.0 : 42.0\n",
      "23.0 : 23.0\n",
      "nan : 29.69911764705882\n",
      "15.0 : 15.0\n",
      "25.0 : 25.0\n",
      "nan : 29.69911764705882\n",
      "28.0 : 28.0\n",
      "22.0 : 22.0\n",
      "38.0 : 38.0\n",
      "nan : 29.69911764705882\n",
      "nan : 29.69911764705882\n",
      "40.0 : 40.0\n",
      "29.0 : 29.0\n",
      "45.0 : 45.0\n",
      "35.0 : 35.0\n",
      "nan : 29.69911764705882\n",
      "30.0 : 30.0\n",
      "60.0 : 60.0\n",
      "nan : 29.69911764705882\n",
      "nan : 29.69911764705882\n",
      "24.0 : 24.0\n",
      "25.0 : 25.0\n",
      "18.0 : 18.0\n",
      "19.0 : 19.0\n",
      "22.0 : 22.0\n",
      "3.0 : 3.0\n",
      "nan : 29.69911764705882\n",
      "22.0 : 22.0\n",
      "27.0 : 27.0\n",
      "20.0 : 20.0\n",
      "19.0 : 19.0\n",
      "42.0 : 42.0\n",
      "1.0 : 1.0\n",
      "32.0 : 32.0\n",
      "35.0 : 35.0\n",
      "nan : 29.69911764705882\n",
      "18.0 : 18.0\n",
      "1.0 : 1.0\n",
      "36.0 : 36.0\n",
      "nan : 29.69911764705882\n",
      "17.0 : 17.0\n",
      "36.0 : 36.0\n",
      "21.0 : 21.0\n",
      "28.0 : 28.0\n",
      "23.0 : 23.0\n",
      "24.0 : 24.0\n",
      "22.0 : 22.0\n",
      "31.0 : 31.0\n",
      "46.0 : 46.0\n",
      "23.0 : 23.0\n",
      "28.0 : 28.0\n",
      "39.0 : 39.0\n",
      "26.0 : 26.0\n",
      "21.0 : 21.0\n",
      "28.0 : 28.0\n",
      "20.0 : 20.0\n",
      "34.0 : 34.0\n",
      "51.0 : 51.0\n",
      "3.0 : 3.0\n",
      "21.0 : 21.0\n",
      "nan : 29.69911764705882\n",
      "nan : 29.69911764705882\n",
      "nan : 29.69911764705882\n",
      "33.0 : 33.0\n",
      "nan : 29.69911764705882\n",
      "44.0 : 44.0\n",
      "nan : 29.69911764705882\n",
      "34.0 : 34.0\n",
      "18.0 : 18.0\n",
      "30.0 : 30.0\n",
      "10.0 : 10.0\n",
      "nan : 29.69911764705882\n",
      "21.0 : 21.0\n",
      "29.0 : 29.0\n",
      "28.0 : 28.0\n",
      "18.0 : 18.0\n",
      "nan : 29.69911764705882\n",
      "28.0 : 28.0\n",
      "19.0 : 19.0\n",
      "nan : 29.69911764705882\n",
      "32.0 : 32.0\n",
      "28.0 : 28.0\n",
      "nan : 29.69911764705882\n",
      "42.0 : 42.0\n",
      "17.0 : 17.0\n",
      "50.0 : 50.0\n",
      "14.0 : 14.0\n",
      "21.0 : 21.0\n",
      "24.0 : 24.0\n",
      "64.0 : 64.0\n",
      "31.0 : 31.0\n",
      "45.0 : 45.0\n",
      "20.0 : 20.0\n",
      "25.0 : 25.0\n",
      "28.0 : 28.0\n",
      "nan : 29.69911764705882\n",
      "4.0 : 4.0\n",
      "13.0 : 13.0\n",
      "34.0 : 34.0\n",
      "5.0 : 5.0\n",
      "52.0 : 52.0\n",
      "36.0 : 36.0\n",
      "nan : 29.69911764705882\n",
      "30.0 : 30.0\n",
      "49.0 : 49.0\n",
      "nan : 29.69911764705882\n",
      "29.0 : 29.0\n",
      "65.0 : 65.0\n",
      "nan : 29.69911764705882\n",
      "50.0 : 50.0\n",
      "nan : 29.69911764705882\n",
      "48.0 : 48.0\n",
      "34.0 : 34.0\n",
      "47.0 : 47.0\n",
      "48.0 : 48.0\n",
      "nan : 29.69911764705882\n",
      "38.0 : 38.0\n",
      "nan : 29.69911764705882\n",
      "56.0 : 56.0\n",
      "nan : 29.69911764705882\n",
      "0.75 : 0.75\n",
      "nan : 29.69911764705882\n",
      "38.0 : 38.0\n",
      "33.0 : 33.0\n",
      "23.0 : 23.0\n",
      "22.0 : 22.0\n",
      "nan : 29.69911764705882\n",
      "34.0 : 34.0\n",
      "29.0 : 29.0\n",
      "22.0 : 22.0\n",
      "2.0 : 2.0\n",
      "9.0 : 9.0\n",
      "nan : 29.69911764705882\n",
      "50.0 : 50.0\n",
      "63.0 : 63.0\n",
      "25.0 : 25.0\n",
      "nan : 29.69911764705882\n",
      "35.0 : 35.0\n",
      "58.0 : 58.0\n",
      "30.0 : 30.0\n",
      "9.0 : 9.0\n",
      "nan : 29.69911764705882\n",
      "21.0 : 21.0\n",
      "55.0 : 55.0\n",
      "71.0 : 71.0\n",
      "21.0 : 21.0\n",
      "nan : 29.69911764705882\n",
      "54.0 : 54.0\n",
      "nan : 29.69911764705882\n",
      "25.0 : 25.0\n",
      "24.0 : 24.0\n",
      "17.0 : 17.0\n",
      "21.0 : 21.0\n",
      "nan : 29.69911764705882\n",
      "37.0 : 37.0\n",
      "16.0 : 16.0\n",
      "18.0 : 18.0\n",
      "33.0 : 33.0\n",
      "nan : 29.69911764705882\n",
      "28.0 : 28.0\n",
      "26.0 : 26.0\n",
      "29.0 : 29.0\n",
      "nan : 29.69911764705882\n",
      "36.0 : 36.0\n",
      "54.0 : 54.0\n",
      "24.0 : 24.0\n",
      "47.0 : 47.0\n",
      "34.0 : 34.0\n",
      "nan : 29.69911764705882\n",
      "36.0 : 36.0\n",
      "32.0 : 32.0\n",
      "30.0 : 30.0\n",
      "22.0 : 22.0\n",
      "nan : 29.69911764705882\n",
      "44.0 : 44.0\n",
      "nan : 29.69911764705882\n",
      "40.5 : 40.5\n",
      "50.0 : 50.0\n",
      "nan : 29.69911764705882\n",
      "39.0 : 39.0\n",
      "23.0 : 23.0\n",
      "2.0 : 2.0\n",
      "nan : 29.69911764705882\n",
      "17.0 : 17.0\n",
      "nan : 29.69911764705882\n",
      "30.0 : 30.0\n",
      "7.0 : 7.0\n",
      "45.0 : 45.0\n",
      "30.0 : 30.0\n",
      "nan : 29.69911764705882\n",
      "22.0 : 22.0\n",
      "36.0 : 36.0\n",
      "9.0 : 9.0\n",
      "11.0 : 11.0\n",
      "32.0 : 32.0\n",
      "50.0 : 50.0\n",
      "64.0 : 64.0\n",
      "19.0 : 19.0\n",
      "nan : 29.69911764705882\n",
      "33.0 : 33.0\n",
      "8.0 : 8.0\n",
      "17.0 : 17.0\n",
      "27.0 : 27.0\n",
      "nan : 29.69911764705882\n",
      "22.0 : 22.0\n",
      "22.0 : 22.0\n",
      "62.0 : 62.0\n",
      "48.0 : 48.0\n",
      "nan : 29.69911764705882\n",
      "39.0 : 39.0\n",
      "36.0 : 36.0\n",
      "nan : 29.69911764705882\n",
      "40.0 : 40.0\n",
      "28.0 : 28.0\n",
      "nan : 29.69911764705882\n",
      "nan : 29.69911764705882\n",
      "24.0 : 24.0\n",
      "19.0 : 19.0\n",
      "29.0 : 29.0\n",
      "nan : 29.69911764705882\n",
      "32.0 : 32.0\n",
      "62.0 : 62.0\n",
      "53.0 : 53.0\n",
      "36.0 : 36.0\n",
      "nan : 29.69911764705882\n",
      "16.0 : 16.0\n",
      "19.0 : 19.0\n",
      "34.0 : 34.0\n",
      "39.0 : 39.0\n",
      "nan : 29.69911764705882\n",
      "32.0 : 32.0\n",
      "25.0 : 25.0\n",
      "39.0 : 39.0\n",
      "54.0 : 54.0\n",
      "36.0 : 36.0\n",
      "nan : 29.69911764705882\n",
      "18.0 : 18.0\n",
      "47.0 : 47.0\n",
      "60.0 : 60.0\n",
      "22.0 : 22.0\n",
      "nan : 29.69911764705882\n",
      "35.0 : 35.0\n",
      "52.0 : 52.0\n",
      "47.0 : 47.0\n",
      "nan : 29.69911764705882\n",
      "37.0 : 37.0\n",
      "36.0 : 36.0\n",
      "nan : 29.69911764705882\n",
      "49.0 : 49.0\n",
      "nan : 29.69911764705882\n",
      "49.0 : 49.0\n",
      "24.0 : 24.0\n",
      "nan : 29.69911764705882\n",
      "nan : 29.69911764705882\n",
      "44.0 : 44.0\n",
      "35.0 : 35.0\n",
      "36.0 : 36.0\n",
      "30.0 : 30.0\n",
      "27.0 : 27.0\n",
      "22.0 : 22.0\n",
      "40.0 : 40.0\n",
      "39.0 : 39.0\n",
      "nan : 29.69911764705882\n",
      "nan : 29.69911764705882\n",
      "nan : 29.69911764705882\n",
      "35.0 : 35.0\n",
      "24.0 : 24.0\n",
      "34.0 : 34.0\n",
      "26.0 : 26.0\n",
      "4.0 : 4.0\n",
      "26.0 : 26.0\n",
      "27.0 : 27.0\n",
      "42.0 : 42.0\n",
      "20.0 : 20.0\n",
      "21.0 : 21.0\n",
      "21.0 : 21.0\n",
      "61.0 : 61.0\n",
      "57.0 : 57.0\n",
      "21.0 : 21.0\n",
      "26.0 : 26.0\n",
      "nan : 29.69911764705882\n",
      "80.0 : 80.0\n",
      "51.0 : 51.0\n",
      "32.0 : 32.0\n",
      "nan : 29.69911764705882\n",
      "9.0 : 9.0\n",
      "28.0 : 28.0\n",
      "32.0 : 32.0\n",
      "31.0 : 31.0\n",
      "41.0 : 41.0\n",
      "nan : 29.69911764705882\n",
      "20.0 : 20.0\n",
      "24.0 : 24.0\n",
      "2.0 : 2.0\n",
      "nan : 29.69911764705882\n",
      "0.75 : 0.75\n",
      "48.0 : 48.0\n",
      "19.0 : 19.0\n",
      "56.0 : 56.0\n",
      "nan : 29.69911764705882\n",
      "23.0 : 23.0\n",
      "nan : 29.69911764705882\n",
      "18.0 : 18.0\n",
      "21.0 : 21.0\n",
      "nan : 29.69911764705882\n",
      "18.0 : 18.0\n",
      "24.0 : 24.0\n",
      "nan : 29.69911764705882\n",
      "32.0 : 32.0\n",
      "23.0 : 23.0\n",
      "58.0 : 58.0\n",
      "50.0 : 50.0\n",
      "40.0 : 40.0\n",
      "47.0 : 47.0\n",
      "36.0 : 36.0\n",
      "20.0 : 20.0\n",
      "32.0 : 32.0\n",
      "25.0 : 25.0\n",
      "nan : 29.69911764705882\n",
      "43.0 : 43.0\n",
      "nan : 29.69911764705882\n",
      "40.0 : 40.0\n",
      "31.0 : 31.0\n",
      "70.0 : 70.0\n",
      "31.0 : 31.0\n",
      "nan : 29.69911764705882\n",
      "18.0 : 18.0\n",
      "24.5 : 24.5\n",
      "18.0 : 18.0\n",
      "43.0 : 43.0\n",
      "36.0 : 36.0\n",
      "nan : 29.69911764705882\n",
      "27.0 : 27.0\n",
      "20.0 : 20.0\n",
      "14.0 : 14.0\n",
      "60.0 : 60.0\n",
      "25.0 : 25.0\n",
      "14.0 : 14.0\n",
      "19.0 : 19.0\n",
      "18.0 : 18.0\n",
      "15.0 : 15.0\n",
      "31.0 : 31.0\n",
      "4.0 : 4.0\n",
      "nan : 29.69911764705882\n",
      "25.0 : 25.0\n",
      "60.0 : 60.0\n",
      "52.0 : 52.0\n",
      "44.0 : 44.0\n",
      "nan : 29.69911764705882\n",
      "49.0 : 49.0\n",
      "42.0 : 42.0\n",
      "18.0 : 18.0\n",
      "35.0 : 35.0\n",
      "18.0 : 18.0\n",
      "25.0 : 25.0\n",
      "26.0 : 26.0\n",
      "39.0 : 39.0\n",
      "45.0 : 45.0\n",
      "42.0 : 42.0\n",
      "22.0 : 22.0\n",
      "nan : 29.69911764705882\n",
      "24.0 : 24.0\n",
      "nan : 29.69911764705882\n",
      "48.0 : 48.0\n",
      "29.0 : 29.0\n",
      "52.0 : 52.0\n",
      "19.0 : 19.0\n",
      "38.0 : 38.0\n",
      "27.0 : 27.0\n",
      "nan : 29.69911764705882\n",
      "33.0 : 33.0\n",
      "6.0 : 6.0\n",
      "17.0 : 17.0\n",
      "34.0 : 34.0\n",
      "50.0 : 50.0\n",
      "27.0 : 27.0\n",
      "20.0 : 20.0\n",
      "30.0 : 30.0\n",
      "nan : 29.69911764705882\n",
      "25.0 : 25.0\n",
      "25.0 : 25.0\n",
      "29.0 : 29.0\n",
      "11.0 : 11.0\n",
      "nan : 29.69911764705882\n",
      "23.0 : 23.0\n",
      "23.0 : 23.0\n",
      "28.5 : 28.5\n",
      "48.0 : 48.0\n",
      "35.0 : 35.0\n",
      "nan : 29.69911764705882\n",
      "nan : 29.69911764705882\n",
      "nan : 29.69911764705882\n",
      "36.0 : 36.0\n",
      "21.0 : 21.0\n",
      "24.0 : 24.0\n",
      "31.0 : 31.0\n",
      "70.0 : 70.0\n",
      "16.0 : 16.0\n",
      "30.0 : 30.0\n",
      "19.0 : 19.0\n",
      "31.0 : 31.0\n",
      "4.0 : 4.0\n",
      "6.0 : 6.0\n",
      "33.0 : 33.0\n",
      "23.0 : 23.0\n",
      "48.0 : 48.0\n",
      "0.67 : 0.67\n",
      "28.0 : 28.0\n",
      "18.0 : 18.0\n",
      "34.0 : 34.0\n",
      "33.0 : 33.0\n",
      "nan : 29.69911764705882\n",
      "41.0 : 41.0\n",
      "20.0 : 20.0\n",
      "36.0 : 36.0\n",
      "16.0 : 16.0\n",
      "51.0 : 51.0\n",
      "nan : 29.69911764705882\n",
      "30.5 : 30.5\n",
      "nan : 29.69911764705882\n",
      "32.0 : 32.0\n",
      "24.0 : 24.0\n",
      "48.0 : 48.0\n",
      "57.0 : 57.0\n",
      "nan : 29.69911764705882\n",
      "54.0 : 54.0\n",
      "18.0 : 18.0\n",
      "nan : 29.69911764705882\n",
      "5.0 : 5.0\n",
      "nan : 29.69911764705882\n",
      "43.0 : 43.0\n",
      "13.0 : 13.0\n",
      "17.0 : 17.0\n",
      "29.0 : 29.0\n",
      "nan : 29.69911764705882\n",
      "25.0 : 25.0\n",
      "25.0 : 25.0\n",
      "18.0 : 18.0\n",
      "8.0 : 8.0\n",
      "1.0 : 1.0\n",
      "46.0 : 46.0\n",
      "nan : 29.69911764705882\n",
      "16.0 : 16.0\n",
      "nan : 29.69911764705882\n",
      "nan : 29.69911764705882\n",
      "25.0 : 25.0\n",
      "39.0 : 39.0\n",
      "49.0 : 49.0\n",
      "31.0 : 31.0\n",
      "30.0 : 30.0\n",
      "30.0 : 30.0\n",
      "34.0 : 34.0\n",
      "31.0 : 31.0\n",
      "11.0 : 11.0\n",
      "0.42 : 0.42\n",
      "27.0 : 27.0\n",
      "31.0 : 31.0\n",
      "39.0 : 39.0\n",
      "18.0 : 18.0\n",
      "39.0 : 39.0\n",
      "33.0 : 33.0\n",
      "26.0 : 26.0\n",
      "39.0 : 39.0\n",
      "35.0 : 35.0\n",
      "6.0 : 6.0\n",
      "30.5 : 30.5\n",
      "nan : 29.69911764705882\n",
      "23.0 : 23.0\n",
      "31.0 : 31.0\n",
      "43.0 : 43.0\n",
      "10.0 : 10.0\n",
      "52.0 : 52.0\n",
      "27.0 : 27.0\n",
      "38.0 : 38.0\n",
      "27.0 : 27.0\n",
      "2.0 : 2.0\n",
      "nan : 29.69911764705882\n",
      "nan : 29.69911764705882\n",
      "1.0 : 1.0\n",
      "nan : 29.69911764705882\n",
      "62.0 : 62.0\n",
      "15.0 : 15.0\n",
      "0.83 : 0.83\n",
      "nan : 29.69911764705882\n",
      "23.0 : 23.0\n",
      "18.0 : 18.0\n",
      "39.0 : 39.0\n",
      "21.0 : 21.0\n",
      "nan : 29.69911764705882\n",
      "32.0 : 32.0\n",
      "nan : 29.69911764705882\n",
      "20.0 : 20.0\n",
      "16.0 : 16.0\n",
      "30.0 : 30.0\n",
      "34.5 : 34.5\n",
      "17.0 : 17.0\n",
      "42.0 : 42.0\n",
      "nan : 29.69911764705882\n",
      "35.0 : 35.0\n",
      "28.0 : 28.0\n",
      "nan : 29.69911764705882\n",
      "4.0 : 4.0\n",
      "74.0 : 74.0\n",
      "9.0 : 9.0\n",
      "16.0 : 16.0\n",
      "44.0 : 44.0\n",
      "18.0 : 18.0\n",
      "45.0 : 45.0\n",
      "51.0 : 51.0\n",
      "24.0 : 24.0\n",
      "nan : 29.69911764705882\n",
      "41.0 : 41.0\n",
      "21.0 : 21.0\n",
      "48.0 : 48.0\n",
      "nan : 29.69911764705882\n",
      "24.0 : 24.0\n",
      "42.0 : 42.0\n",
      "27.0 : 27.0\n",
      "31.0 : 31.0\n",
      "nan : 29.69911764705882\n",
      "4.0 : 4.0\n",
      "26.0 : 26.0\n",
      "47.0 : 47.0\n",
      "33.0 : 33.0\n",
      "47.0 : 47.0\n",
      "28.0 : 28.0\n",
      "15.0 : 15.0\n",
      "20.0 : 20.0\n",
      "19.0 : 19.0\n",
      "nan : 29.69911764705882\n",
      "56.0 : 56.0\n",
      "25.0 : 25.0\n",
      "33.0 : 33.0\n",
      "22.0 : 22.0\n",
      "28.0 : 28.0\n",
      "25.0 : 25.0\n",
      "39.0 : 39.0\n",
      "27.0 : 27.0\n",
      "19.0 : 19.0\n",
      "nan : 29.69911764705882\n",
      "26.0 : 26.0\n",
      "32.0 : 32.0\n"
     ]
    }
   ],
   "source": [
    "pd.DataFrame(ynew).shape\n",
    "for i, x in enumerate(yi):\n",
    "    print( str(yi[i][0]) + \" : \"+ str(ynew[i][0]))"
   ]
  },
  {
   "cell_type": "code",
   "execution_count": 91,
   "metadata": {},
   "outputs": [
    {
     "data": {
      "text/plain": [
       "(891, 10)"
      ]
     },
     "execution_count": 91,
     "metadata": {},
     "output_type": "execute_result"
    }
   ],
   "source": [
    "titan.shape"
   ]
  },
  {
   "cell_type": "code",
   "execution_count": 92,
   "metadata": {},
   "outputs": [],
   "source": [
    "titan= pd.concat([pd.DataFrame(ynew),titan],axis=1)"
   ]
  },
  {
   "cell_type": "code",
   "execution_count": 93,
   "metadata": {},
   "outputs": [],
   "source": [
    "titan=titan.drop(['Age'],axis=1)"
   ]
  },
  {
   "cell_type": "code",
   "execution_count": 94,
   "metadata": {},
   "outputs": [],
   "source": [
    "titan.rename(columns={0:'Age'},inplace=True)"
   ]
  },
  {
   "cell_type": "code",
   "execution_count": 95,
   "metadata": {},
   "outputs": [
    {
     "data": {
      "text/plain": [
       "0"
      ]
     },
     "execution_count": 95,
     "metadata": {},
     "output_type": "execute_result"
    }
   ],
   "source": [
    "np.sum(titan.Age == np.nan)"
   ]
  },
  {
   "cell_type": "code",
   "execution_count": 96,
   "metadata": {},
   "outputs": [
    {
     "data": {
      "text/plain": [
       "0      22.000000\n",
       "1      38.000000\n",
       "2      26.000000\n",
       "3      35.000000\n",
       "4      35.000000\n",
       "         ...    \n",
       "886    27.000000\n",
       "887    19.000000\n",
       "888    29.699118\n",
       "889    26.000000\n",
       "890    32.000000\n",
       "Name: Age, Length: 891, dtype: float64"
      ]
     },
     "execution_count": 96,
     "metadata": {},
     "output_type": "execute_result"
    }
   ],
   "source": [
    "titan.Age"
   ]
  },
  {
   "cell_type": "code",
   "execution_count": 97,
   "metadata": {},
   "outputs": [
    {
     "data": {
      "text/html": [
       "<div>\n",
       "<style scoped>\n",
       "    .dataframe tbody tr th:only-of-type {\n",
       "        vertical-align: middle;\n",
       "    }\n",
       "\n",
       "    .dataframe tbody tr th {\n",
       "        vertical-align: top;\n",
       "    }\n",
       "\n",
       "    .dataframe thead th {\n",
       "        text-align: right;\n",
       "    }\n",
       "</style>\n",
       "<table border=\"1\" class=\"dataframe\">\n",
       "  <thead>\n",
       "    <tr style=\"text-align: right;\">\n",
       "      <th></th>\n",
       "      <th>Age</th>\n",
       "      <th>PassengerId</th>\n",
       "      <th>Survived</th>\n",
       "      <th>Pclass</th>\n",
       "      <th>Name</th>\n",
       "      <th>Sex</th>\n",
       "      <th>SibSp</th>\n",
       "      <th>Parch</th>\n",
       "      <th>Fare</th>\n",
       "      <th>Embarked</th>\n",
       "    </tr>\n",
       "  </thead>\n",
       "  <tbody>\n",
       "    <tr>\n",
       "      <th>0</th>\n",
       "      <td>22.0</td>\n",
       "      <td>1</td>\n",
       "      <td>0</td>\n",
       "      <td>3</td>\n",
       "      <td>Braund, Mr. Owen Harris</td>\n",
       "      <td>0</td>\n",
       "      <td>1</td>\n",
       "      <td>0</td>\n",
       "      <td>7.2500</td>\n",
       "      <td>S</td>\n",
       "    </tr>\n",
       "    <tr>\n",
       "      <th>1</th>\n",
       "      <td>38.0</td>\n",
       "      <td>2</td>\n",
       "      <td>1</td>\n",
       "      <td>1</td>\n",
       "      <td>Cumings, Mrs. John Bradley (Florence Briggs Th...</td>\n",
       "      <td>1</td>\n",
       "      <td>1</td>\n",
       "      <td>0</td>\n",
       "      <td>71.2833</td>\n",
       "      <td>C</td>\n",
       "    </tr>\n",
       "  </tbody>\n",
       "</table>\n",
       "</div>"
      ],
      "text/plain": [
       "    Age  PassengerId  Survived  Pclass  \\\n",
       "0  22.0            1         0       3   \n",
       "1  38.0            2         1       1   \n",
       "\n",
       "                                                Name  Sex  SibSp  Parch  \\\n",
       "0                            Braund, Mr. Owen Harris    0      1      0   \n",
       "1  Cumings, Mrs. John Bradley (Florence Briggs Th...    1      1      0   \n",
       "\n",
       "      Fare Embarked  \n",
       "0   7.2500        S  \n",
       "1  71.2833        C  "
      ]
     },
     "execution_count": 97,
     "metadata": {},
     "output_type": "execute_result"
    }
   ],
   "source": [
    "titan.head(2)"
   ]
  },
  {
   "cell_type": "code",
   "execution_count": 98,
   "metadata": {},
   "outputs": [
    {
     "data": {
      "text/plain": [
       "0      22.000000\n",
       "1      38.000000\n",
       "2      26.000000\n",
       "3      35.000000\n",
       "4      35.000000\n",
       "         ...    \n",
       "886    27.000000\n",
       "887    19.000000\n",
       "888    29.699118\n",
       "889    26.000000\n",
       "890    32.000000\n",
       "Name: Age, Length: 891, dtype: float64"
      ]
     },
     "execution_count": 98,
     "metadata": {},
     "output_type": "execute_result"
    }
   ],
   "source": [
    "titan.Age"
   ]
  },
  {
   "cell_type": "code",
   "execution_count": null,
   "metadata": {},
   "outputs": [],
   "source": []
  },
  {
   "cell_type": "code",
   "execution_count": 99,
   "metadata": {},
   "outputs": [
    {
     "data": {
      "text/html": [
       "<div>\n",
       "<style scoped>\n",
       "    .dataframe tbody tr th:only-of-type {\n",
       "        vertical-align: middle;\n",
       "    }\n",
       "\n",
       "    .dataframe tbody tr th {\n",
       "        vertical-align: top;\n",
       "    }\n",
       "\n",
       "    .dataframe thead th {\n",
       "        text-align: right;\n",
       "    }\n",
       "</style>\n",
       "<table border=\"1\" class=\"dataframe\">\n",
       "  <thead>\n",
       "    <tr style=\"text-align: right;\">\n",
       "      <th></th>\n",
       "      <th>Age</th>\n",
       "      <th>PassengerId</th>\n",
       "      <th>Survived</th>\n",
       "      <th>Pclass</th>\n",
       "      <th>Name</th>\n",
       "      <th>Sex</th>\n",
       "      <th>SibSp</th>\n",
       "      <th>Parch</th>\n",
       "      <th>Fare</th>\n",
       "      <th>Embarked</th>\n",
       "    </tr>\n",
       "  </thead>\n",
       "  <tbody>\n",
       "    <tr>\n",
       "      <th>0</th>\n",
       "      <td>22.000000</td>\n",
       "      <td>1</td>\n",
       "      <td>0</td>\n",
       "      <td>3</td>\n",
       "      <td>Braund, Mr. Owen Harris</td>\n",
       "      <td>0</td>\n",
       "      <td>1</td>\n",
       "      <td>0</td>\n",
       "      <td>7.2500</td>\n",
       "      <td>S</td>\n",
       "    </tr>\n",
       "    <tr>\n",
       "      <th>1</th>\n",
       "      <td>38.000000</td>\n",
       "      <td>2</td>\n",
       "      <td>1</td>\n",
       "      <td>1</td>\n",
       "      <td>Cumings, Mrs. John Bradley (Florence Briggs Th...</td>\n",
       "      <td>1</td>\n",
       "      <td>1</td>\n",
       "      <td>0</td>\n",
       "      <td>71.2833</td>\n",
       "      <td>C</td>\n",
       "    </tr>\n",
       "    <tr>\n",
       "      <th>2</th>\n",
       "      <td>26.000000</td>\n",
       "      <td>3</td>\n",
       "      <td>1</td>\n",
       "      <td>3</td>\n",
       "      <td>Heikkinen, Miss. Laina</td>\n",
       "      <td>1</td>\n",
       "      <td>0</td>\n",
       "      <td>0</td>\n",
       "      <td>7.9250</td>\n",
       "      <td>S</td>\n",
       "    </tr>\n",
       "    <tr>\n",
       "      <th>3</th>\n",
       "      <td>35.000000</td>\n",
       "      <td>4</td>\n",
       "      <td>1</td>\n",
       "      <td>1</td>\n",
       "      <td>Futrelle, Mrs. Jacques Heath (Lily May Peel)</td>\n",
       "      <td>1</td>\n",
       "      <td>1</td>\n",
       "      <td>0</td>\n",
       "      <td>53.1000</td>\n",
       "      <td>S</td>\n",
       "    </tr>\n",
       "    <tr>\n",
       "      <th>4</th>\n",
       "      <td>35.000000</td>\n",
       "      <td>5</td>\n",
       "      <td>0</td>\n",
       "      <td>3</td>\n",
       "      <td>Allen, Mr. William Henry</td>\n",
       "      <td>0</td>\n",
       "      <td>0</td>\n",
       "      <td>0</td>\n",
       "      <td>8.0500</td>\n",
       "      <td>S</td>\n",
       "    </tr>\n",
       "    <tr>\n",
       "      <th>...</th>\n",
       "      <td>...</td>\n",
       "      <td>...</td>\n",
       "      <td>...</td>\n",
       "      <td>...</td>\n",
       "      <td>...</td>\n",
       "      <td>...</td>\n",
       "      <td>...</td>\n",
       "      <td>...</td>\n",
       "      <td>...</td>\n",
       "      <td>...</td>\n",
       "    </tr>\n",
       "    <tr>\n",
       "      <th>95</th>\n",
       "      <td>29.699118</td>\n",
       "      <td>96</td>\n",
       "      <td>0</td>\n",
       "      <td>3</td>\n",
       "      <td>Shorney, Mr. Charles Joseph</td>\n",
       "      <td>0</td>\n",
       "      <td>0</td>\n",
       "      <td>0</td>\n",
       "      <td>8.0500</td>\n",
       "      <td>S</td>\n",
       "    </tr>\n",
       "    <tr>\n",
       "      <th>96</th>\n",
       "      <td>71.000000</td>\n",
       "      <td>97</td>\n",
       "      <td>0</td>\n",
       "      <td>1</td>\n",
       "      <td>Goldschmidt, Mr. George B</td>\n",
       "      <td>0</td>\n",
       "      <td>0</td>\n",
       "      <td>0</td>\n",
       "      <td>34.6542</td>\n",
       "      <td>C</td>\n",
       "    </tr>\n",
       "    <tr>\n",
       "      <th>97</th>\n",
       "      <td>23.000000</td>\n",
       "      <td>98</td>\n",
       "      <td>1</td>\n",
       "      <td>1</td>\n",
       "      <td>Greenfield, Mr. William Bertram</td>\n",
       "      <td>0</td>\n",
       "      <td>0</td>\n",
       "      <td>1</td>\n",
       "      <td>63.3583</td>\n",
       "      <td>C</td>\n",
       "    </tr>\n",
       "    <tr>\n",
       "      <th>98</th>\n",
       "      <td>34.000000</td>\n",
       "      <td>99</td>\n",
       "      <td>1</td>\n",
       "      <td>2</td>\n",
       "      <td>Doling, Mrs. John T (Ada Julia Bone)</td>\n",
       "      <td>1</td>\n",
       "      <td>0</td>\n",
       "      <td>1</td>\n",
       "      <td>23.0000</td>\n",
       "      <td>S</td>\n",
       "    </tr>\n",
       "    <tr>\n",
       "      <th>99</th>\n",
       "      <td>34.000000</td>\n",
       "      <td>100</td>\n",
       "      <td>0</td>\n",
       "      <td>2</td>\n",
       "      <td>Kantor, Mr. Sinai</td>\n",
       "      <td>0</td>\n",
       "      <td>1</td>\n",
       "      <td>0</td>\n",
       "      <td>26.0000</td>\n",
       "      <td>S</td>\n",
       "    </tr>\n",
       "  </tbody>\n",
       "</table>\n",
       "<p>100 rows × 10 columns</p>\n",
       "</div>"
      ],
      "text/plain": [
       "          Age  PassengerId  Survived  Pclass  \\\n",
       "0   22.000000            1         0       3   \n",
       "1   38.000000            2         1       1   \n",
       "2   26.000000            3         1       3   \n",
       "3   35.000000            4         1       1   \n",
       "4   35.000000            5         0       3   \n",
       "..        ...          ...       ...     ...   \n",
       "95  29.699118           96         0       3   \n",
       "96  71.000000           97         0       1   \n",
       "97  23.000000           98         1       1   \n",
       "98  34.000000           99         1       2   \n",
       "99  34.000000          100         0       2   \n",
       "\n",
       "                                                 Name  Sex  SibSp  Parch  \\\n",
       "0                             Braund, Mr. Owen Harris    0      1      0   \n",
       "1   Cumings, Mrs. John Bradley (Florence Briggs Th...    1      1      0   \n",
       "2                              Heikkinen, Miss. Laina    1      0      0   \n",
       "3        Futrelle, Mrs. Jacques Heath (Lily May Peel)    1      1      0   \n",
       "4                            Allen, Mr. William Henry    0      0      0   \n",
       "..                                                ...  ...    ...    ...   \n",
       "95                        Shorney, Mr. Charles Joseph    0      0      0   \n",
       "96                          Goldschmidt, Mr. George B    0      0      0   \n",
       "97                    Greenfield, Mr. William Bertram    0      0      1   \n",
       "98               Doling, Mrs. John T (Ada Julia Bone)    1      0      1   \n",
       "99                                  Kantor, Mr. Sinai    0      1      0   \n",
       "\n",
       "       Fare Embarked  \n",
       "0    7.2500        S  \n",
       "1   71.2833        C  \n",
       "2    7.9250        S  \n",
       "3   53.1000        S  \n",
       "4    8.0500        S  \n",
       "..      ...      ...  \n",
       "95   8.0500        S  \n",
       "96  34.6542        C  \n",
       "97  63.3583        C  \n",
       "98  23.0000        S  \n",
       "99  26.0000        S  \n",
       "\n",
       "[100 rows x 10 columns]"
      ]
     },
     "execution_count": 99,
     "metadata": {},
     "output_type": "execute_result"
    }
   ],
   "source": [
    "titan.head(100)"
   ]
  },
  {
   "cell_type": "code",
   "execution_count": null,
   "metadata": {},
   "outputs": [],
   "source": []
  },
  {
   "cell_type": "code",
   "execution_count": null,
   "metadata": {},
   "outputs": [],
   "source": []
  }
 ],
 "metadata": {
  "kernelspec": {
   "display_name": "Python 3",
   "language": "python",
   "name": "python3"
  },
  "language_info": {
   "codemirror_mode": {
    "name": "ipython",
    "version": 3
   },
   "file_extension": ".py",
   "mimetype": "text/x-python",
   "name": "python",
   "nbconvert_exporter": "python",
   "pygments_lexer": "ipython3",
   "version": "3.7.6"
  }
 },
 "nbformat": 4,
 "nbformat_minor": 4
}
